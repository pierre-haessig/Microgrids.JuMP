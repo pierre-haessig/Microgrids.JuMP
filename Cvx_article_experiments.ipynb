{
 "cells": [
  {
   "cell_type": "markdown",
   "id": "3a7dbcc0-25a3-4dd9-9af1-6d1194cbfde8",
   "metadata": {},
   "source": [
    "# Microgrid sizing experiments for the “convex usage dependent cost” article\n",
    "\n",
    "**TODOs**:\n",
    "- iterative lifetime adjustment (for fixed_lifetime models)\n",
    "\n",
    "Pierre Haessig, October 2024"
   ]
  },
  {
   "cell_type": "code",
   "execution_count": 1,
   "id": "7482f7f5-163d-43fa-95a4-905c3664bbd3",
   "metadata": {},
   "outputs": [],
   "source": [
    "using Microgrids\n",
    "\n",
    "# Optimization\n",
    "using JuMP\n",
    "using HiGHS # Linear Programming solver\n",
    "\n",
    "# Display\n",
    "using Printf # pretty print results\n",
    "using PyPlot\n",
    "\n",
    "# Save results\n",
    "using CSV, DataFrames"
   ]
  },
  {
   "cell_type": "markdown",
   "id": "d7b73961-e1a4-4ccb-a688-3ca74dd85db3",
   "metadata": {},
   "source": [
    "Check version of Microgrids.jl (v0.11.0 needed)"
   ]
  },
  {
   "cell_type": "code",
   "execution_count": 2,
   "id": "d93b07c5-0eb0-41b1-941c-36277f98c5a2",
   "metadata": {},
   "outputs": [
    {
     "name": "stdout",
     "output_type": "stream",
     "text": [
      "\u001b[32m\u001b[1mStatus\u001b[22m\u001b[39m `~/.julia/environments/v1.11/Project.toml`\n",
      "  \u001b[90m[bd581358] \u001b[39mMicrogrids v0.11.0\n"
     ]
    }
   ],
   "source": [
    "import Pkg\n",
    "Pkg.status(\"Microgrids\")"
   ]
  },
  {
   "cell_type": "markdown",
   "id": "b547672c-b886-4dc3-a8e6-231089a3417c",
   "metadata": {},
   "source": [
    "Empty DataFrames to store paramters and results, to be contructed [Row by Row](https://dataframes.juliadata.org/stable/man/getting_started/#Constructing-Row-by-Row) with `push!`"
   ]
  },
  {
   "cell_type": "code",
   "execution_count": 3,
   "id": "03b91042-a2d8-4729-8740-28b0eddfef93",
   "metadata": {},
   "outputs": [
    {
     "data": {
      "text/html": [
       "<div><div style = \"float: left;\"><span>0×9 DataFrame</span></div><div style = \"clear: both;\"></div></div><div class = \"data-frame\" style = \"overflow-x: scroll;\"><table class = \"data-frame\" style = \"margin-bottom: 6px;\"><thead><tr class = \"header\"><th class = \"rowNumber\" style = \"font-weight: bold; text-align: right;\">Row</th><th style = \"text-align: left;\">case</th><th style = \"text-align: left;\">shed_max</th><th style = \"text-align: left;\">fuel_price</th><th style = \"text-align: left;\">sto_lifetime_cycles</th><th style = \"text-align: left;\">sto_lifetime_calendar</th><th style = \"text-align: left;\">fixed_lifetimes</th><th style = \"text-align: left;\">gen_hours_assum</th><th style = \"text-align: left;\">n_ztan</th><th style = \"text-align: left;\">relax_gain</th></tr><tr class = \"subheader headerLastRow\"><th class = \"rowNumber\" style = \"font-weight: bold; text-align: right;\"></th><th title = \"String\" style = \"text-align: left;\">String</th><th title = \"Float64\" style = \"text-align: left;\">Float64</th><th title = \"Float64\" style = \"text-align: left;\">Float64</th><th title = \"Float64\" style = \"text-align: left;\">Float64</th><th title = \"Float64\" style = \"text-align: left;\">Float64</th><th title = \"Bool\" style = \"text-align: left;\">Bool</th><th title = \"Float64\" style = \"text-align: left;\">Float64</th><th title = \"Int64\" style = \"text-align: left;\">Int64</th><th title = \"Float64\" style = \"text-align: left;\">Float64</th></tr></thead><tbody></tbody></table></div>"
      ],
      "text/latex": [
       "\\begin{tabular}{r|ccccccc}\n",
       "\t& case & shed\\_max & fuel\\_price & sto\\_lifetime\\_cycles & sto\\_lifetime\\_calendar & fixed\\_lifetimes & \\\\\n",
       "\t\\hline\n",
       "\t& String & Float64 & Float64 & Float64 & Float64 & Bool & \\\\\n",
       "\t\\hline\n",
       "\\end{tabular}\n"
      ],
      "text/plain": [
       "\u001b[1m0×9 DataFrame\u001b[0m\n",
       "\u001b[1m Row \u001b[0m│\u001b[1m case   \u001b[0m\u001b[1m shed_max \u001b[0m\u001b[1m fuel_price \u001b[0m\u001b[1m sto_lifetime_cycles \u001b[0m\u001b[1m sto_lifetime_calenda\u001b[0m ⋯\n",
       "     │\u001b[90m String \u001b[0m\u001b[90m Float64  \u001b[0m\u001b[90m Float64    \u001b[0m\u001b[90m Float64             \u001b[0m\u001b[90m Float64             \u001b[0m ⋯\n",
       "─────┴──────────────────────────────────────────────────────────────────────────\n",
       "\u001b[36m                                                               5 columns omitted\u001b[0m"
      ]
     },
     "execution_count": 3,
     "metadata": {},
     "output_type": "execute_result"
    }
   ],
   "source": [
    "# Empty DataFrames\n",
    "df_params = DataFrame( # experiment parameters\n",
    "    case=String[],\n",
    "    shed_max=Float64[],\n",
    "    fuel_price=Float64[],\n",
    "    sto_lifetime_cycles=Float64[], sto_lifetime_calendar=Float64[],\n",
    "    fixed_lifetimes=Bool[], gen_hours_assum=Float64[],\n",
    "    n_ztan=Int[], relax_gain=Float64[])"
   ]
  },
  {
   "cell_type": "code",
   "execution_count": 4,
   "id": "1667a608-8400-4473-b9ad-7c1e6d85dc0b",
   "metadata": {},
   "outputs": [
    {
     "data": {
      "text/html": [
       "<div><div style = \"float: left;\"><span>0×11 DataFrame</span></div><div style = \"clear: both;\"></div></div><div class = \"data-frame\" style = \"overflow-x: scroll;\"><table class = \"data-frame\" style = \"margin-bottom: 6px;\"><thead><tr class = \"header\"><th class = \"rowNumber\" style = \"font-weight: bold; text-align: right;\">Row</th><th style = \"text-align: left;\">lcoe_pwl</th><th style = \"text-align: left;\">lcoe_cvx</th><th style = \"text-align: left;\">lcoe_ns</th><th style = \"text-align: left;\">sto_cycles</th><th style = \"text-align: left;\">gen_hours</th><th style = \"text-align: left;\">gen_hours_lin</th><th style = \"text-align: left;\">xopt_gen</th><th style = \"text-align: left;\">xopt_sto</th><th style = \"text-align: left;\">xopt_pv</th><th style = \"text-align: left;\">xopt_wind</th><th style = \"text-align: left;\">topt</th></tr><tr class = \"subheader headerLastRow\"><th class = \"rowNumber\" style = \"font-weight: bold; text-align: right;\"></th><th title = \"Float64\" style = \"text-align: left;\">Float64</th><th title = \"Float64\" style = \"text-align: left;\">Float64</th><th title = \"Float64\" style = \"text-align: left;\">Float64</th><th title = \"Float64\" style = \"text-align: left;\">Float64</th><th title = \"Float64\" style = \"text-align: left;\">Float64</th><th title = \"Float64\" style = \"text-align: left;\">Float64</th><th title = \"Float64\" style = \"text-align: left;\">Float64</th><th title = \"Float64\" style = \"text-align: left;\">Float64</th><th title = \"Float64\" style = \"text-align: left;\">Float64</th><th title = \"Float64\" style = \"text-align: left;\">Float64</th><th title = \"Float64\" style = \"text-align: left;\">Float64</th></tr></thead><tbody></tbody></table></div>"
      ],
      "text/latex": [
       "\\begin{tabular}{r|ccccccccc}\n",
       "\t& lcoe\\_pwl & lcoe\\_cvx & lcoe\\_ns & sto\\_cycles & gen\\_hours & gen\\_hours\\_lin & xopt\\_gen & xopt\\_sto & \\\\\n",
       "\t\\hline\n",
       "\t& Float64 & Float64 & Float64 & Float64 & Float64 & Float64 & Float64 & Float64 & \\\\\n",
       "\t\\hline\n",
       "\\end{tabular}\n"
      ],
      "text/plain": [
       "\u001b[1m0×11 DataFrame\u001b[0m\n",
       "\u001b[1m Row \u001b[0m│\u001b[1m lcoe_pwl \u001b[0m\u001b[1m lcoe_cvx \u001b[0m\u001b[1m lcoe_ns \u001b[0m\u001b[1m sto_cycles \u001b[0m\u001b[1m gen_hours \u001b[0m\u001b[1m gen_hours_lin \u001b[0m\u001b[1m xopt\u001b[0m ⋯\n",
       "     │\u001b[90m Float64  \u001b[0m\u001b[90m Float64  \u001b[0m\u001b[90m Float64 \u001b[0m\u001b[90m Float64    \u001b[0m\u001b[90m Float64   \u001b[0m\u001b[90m Float64       \u001b[0m\u001b[90m Floa\u001b[0m ⋯\n",
       "─────┴──────────────────────────────────────────────────────────────────────────\n",
       "\u001b[36m                                                               5 columns omitted\u001b[0m"
      ]
     },
     "execution_count": 4,
     "metadata": {},
     "output_type": "execute_result"
    }
   ],
   "source": [
    "df_results = DataFrame( # results\n",
    "    lcoe_pwl=Float64[], lcoe_cvx=Float64[], lcoe_ns=Float64[],\n",
    "    sto_cycles=Float64[], gen_hours=Float64[], gen_hours_lin=Float64[],\n",
    "    xopt_gen=Float64[], xopt_sto=Float64[], xopt_pv=Float64[], xopt_wind=Float64[],\n",
    "    topt=Float64[]\n",
    ")"
   ]
  },
  {
   "cell_type": "markdown",
   "id": "8856b12b-6580-498c-a235-3583cd3c91b8",
   "metadata": {},
   "source": [
    "## Problem setup"
   ]
  },
  {
   "cell_type": "code",
   "execution_count": 5,
   "id": "a70f0a0a-9ba2-4e8f-8dba-51608a202bad",
   "metadata": {},
   "outputs": [
    {
     "name": "stdout",
     "output_type": "stream",
     "text": [
      "Base Wind-Solar Microgrid project definition functions...\n"
     ]
    }
   ],
   "source": [
    "include(\"./example/Microgrid_Wind-Solar_data.jl\");"
   ]
  },
  {
   "cell_type": "code",
   "execution_count": 6,
   "id": "c1345f8e-ad93-485d-815c-8a25cba38363",
   "metadata": {},
   "outputs": [
    {
     "name": "stdout",
     "output_type": "stream",
     "text": [
      "Microgrid optimization with JuMP common functions:\n",
      "- CRF\n",
      "- ts_reduction\n",
      "- g_tan\n",
      "- cons_Xann_usage!\n",
      "- build_optim_mg_stage!\n",
      "- setup_optim_mg_jump\n",
      "- diagnostics_mg_jump\n",
      "- optim_mg_jump\n",
      "- simulate_alg\n"
     ]
    }
   ],
   "source": [
    "include(\"./Microgrid_JuMP_common.jl\");"
   ]
  },
  {
   "cell_type": "code",
   "execution_count": 7,
   "id": "f35cbb8a-bb4f-4795-8f7f-c708387c04d1",
   "metadata": {},
   "outputs": [
    {
     "name": "stdout",
     "output_type": "stream",
     "text": [
      "loading times series from data/Ouessant_data_2016.csv...\n"
     ]
    }
   ],
   "source": [
    "const tseries = load_microgrid_tseries();"
   ]
  },
  {
   "cell_type": "code",
   "execution_count": 8,
   "id": "7da287e3-242c-4554-aa4d-2d67c29faa6c",
   "metadata": {},
   "outputs": [
    {
     "data": {
      "text/plain": [
       "Microgrid{Float64}(Project(25, 0.05, 1.0, \"€\", ConsistentSalvage), [1453.0, 1331.0, 1214.0, 1146.0, 1078.0, 1035.0, 1032.0, 1072.0, 1142.0, 1208.0  …  1479.0, 1508.0, 1410.0, 1370.0, 1467.0, 1587.0, 1561.0, 1472.0, 1533.0, 1483.0], DispatchableGenerator{Float64}(1000.0, 0.0, 0.24, 1.0, 400.0, 0.02, 15000.0, 0.0, 1.0, 1.0, \"L\"), Battery{Float64}(1000.0, 350.0, 10.0, 15.0, 3000.0, 1.0, 1.0, 0.05, 0.0, 0.0, 1.0, 1.0), NonDispatchableSource[Photovoltaic{Float64}(1000.0, [0.0, 0.0, 0.0, 0.0, 0.0, 0.0, 0.0, 0.0, 0.0, 7.000000000000001e-5  …  0.45131, 0.30678, 0.0, 0.0, 0.0, 0.0, 0.0, 0.0, 0.0, 0.0], 1200.0, 20.0, 25.0, 1.0, 1.0, 1.0), WindPower{Float64}(1000.0, [0.03184904690521816, 0.1104932647748532, 0.24596484619739856, 0.44422012231738006, 0.6554128208926687, 0.8470913237698507, 0.9579413031865969, 0.9735278942424532, 0.9837469734016646, 0.9903667231838823  …  0.011233045262998936, 0.018460507449516883, 0.023644167600765466, 0.02969747711584798, 0.036359043012900244, 0.03713796382151399, 0.037530379586714784, 0.03792477182913709, 0.037530379586714784, 0.03674751985711801], 3500.0, 100.0, 25.0, 1.0, 1.0)])"
      ]
     },
     "execution_count": 8,
     "metadata": {},
     "output_type": "execute_result"
    }
   ],
   "source": [
    "\"\"\"Create a Microgrid project description of size `x`\n",
    "\n",
    "x should be [\n",
    "    power_rated_gen,\n",
    "    energy_rated_sto,\n",
    "    power_rated_pv,\n",
    "    power_rated_wind\n",
    "] (in kW or kWh)\n",
    "\n",
    "Apart from the sizing, the project is based on parameters\n",
    "defined by the function `create_mg_base` which\n",
    "defaults to the globally defined `create_mg_base`.\n",
    "This allows modifying some project parameters.\n",
    "\"\"\"\n",
    "function create_microgrid(x; create_mg_base=create_mg_base)\n",
    "    # Create base microgrid\n",
    "    mg = create_mg_base()\n",
    "\n",
    "    # force ConsistentSalvage, necessary for comparison with LP approaches\n",
    "    mg.project.salvage_type = ConsistentSalvage\n",
    "\n",
    "    # Set the size\n",
    "    mg.generator.power_rated = x[1] # power_rated_gen\n",
    "    mg.storage.energy_rated = x[2] # energy_rated_sto\n",
    "    mg.nondispatchables[1].power_rated = x[3] # power_rated_pv\n",
    "    mg.nondispatchables[2].power_rated = x[4] # power_rated_wind\n",
    "\n",
    "    return mg\n",
    "end\n",
    "\n",
    "x_base = [1000. 1000. 1000. 1000.]\n",
    "mg_base = create_microgrid(x_base)"
   ]
  },
  {
   "cell_type": "markdown",
   "id": "2003a550-3c02-4b68-af3e-a28055f0f81a",
   "metadata": {},
   "source": [
    "### Sizing bounds for each component"
   ]
  },
  {
   "cell_type": "code",
   "execution_count": 9,
   "id": "56345b69-0517-4bff-8722-71987a35a8a4",
   "metadata": {},
   "outputs": [
    {
     "name": "stdout",
     "output_type": "stream",
     "text": [
      "Max load power: 1707.0 kW"
     ]
    }
   ],
   "source": [
    "Pload_max = maximum(tseries.Pload) # kW\n",
    "@printf(\"Max load power: %.1f kW\", Pload_max)\n",
    "power_rated_gen_max = 1.2 * Pload_max\n",
    "energy_rated_sto_max = 10.0 * Pload_max\n",
    "power_rated_pv_max = 10.0 * Pload_max\n",
    "power_rated_wind_max = 5.0 * Pload_max;"
   ]
  },
  {
   "cell_type": "markdown",
   "id": "dc2ade54-9771-4960-aa3d-b5f76caf24a3",
   "metadata": {},
   "source": [
    "## Algebraic approach with usage dependent cost"
   ]
  },
  {
   "cell_type": "markdown",
   "id": "e9cb65ef-a41e-483c-815b-1df1410ea31a",
   "metadata": {},
   "source": [
    "### Model options"
   ]
  },
  {
   "cell_type": "markdown",
   "id": "e6dec52c-a403-4791-bb97-755adc0e188d",
   "metadata": {},
   "source": [
    "Load shedding (unserved load) bound, as a fraction of cumulated desired load energy:"
   ]
  },
  {
   "cell_type": "code",
   "execution_count": 10,
   "id": "65b3a277-f378-4445-8ad8-6c86fb4611ba",
   "metadata": {},
   "outputs": [
    {
     "data": {
      "text/plain": [
       "0.0"
      ]
     },
     "execution_count": 10,
     "metadata": {},
     "output_type": "execute_result"
    }
   ],
   "source": [
    "shed_max = 0.0 # in [0,1]"
   ]
  },
  {
   "cell_type": "markdown",
   "id": "37771c6b-d981-4a65-9761-75e1b3255d10",
   "metadata": {},
   "source": [
    "Choose between fixed lifetimes (gen and storage) vs usage-dependant:"
   ]
  },
  {
   "cell_type": "code",
   "execution_count": 11,
   "id": "e10e103e-36f9-4307-8cf7-7f3295ece17b",
   "metadata": {},
   "outputs": [
    {
     "data": {
      "text/plain": [
       "false"
      ]
     },
     "execution_count": 11,
     "metadata": {},
     "output_type": "execute_result"
    }
   ],
   "source": [
    "fixed_lifetimes = false"
   ]
  },
  {
   "cell_type": "markdown",
   "id": "32a5288f-1472-4914-b469-1a2b1138ee03",
   "metadata": {},
   "source": [
    "assumed generator operation hours (used if `fixed_lifetimes = false`)"
   ]
  },
  {
   "cell_type": "code",
   "execution_count": 12,
   "id": "a142d00f-052f-4f1b-9a77-ab158bd7eb75",
   "metadata": {},
   "outputs": [
    {
     "data": {
      "text/plain": [
       "2000.0"
      ]
     },
     "execution_count": 12,
     "metadata": {},
     "output_type": "execute_result"
    }
   ],
   "source": [
    "gen_hours_assum = 2000. # in 0 – 8760 h/y"
   ]
  },
  {
   "cell_type": "markdown",
   "id": "ffebb173-3c3a-4736-a284-e96c931ca5ad",
   "metadata": {},
   "source": [
    "else, use a relaxation gain to try to compensate the underestimation of e.g. the generator operating hours due to linearization. Default is 1.0. Use higher gain for stronger generator usage penalty.\n",
    "- 2.0 is used for article"
   ]
  },
  {
   "cell_type": "code",
   "execution_count": 13,
   "id": "8abefd2c-3b7c-48a7-929a-fb2e28830208",
   "metadata": {},
   "outputs": [
    {
     "data": {
      "text/plain": [
       "2.0"
      ]
     },
     "execution_count": 13,
     "metadata": {},
     "output_type": "execute_result"
    }
   ],
   "source": [
    "relax_gain = 2.0 # ≥ 1"
   ]
  },
  {
   "cell_type": "markdown",
   "id": "598a4dab-5e93-4366-bcf7-e4af42cb15cd",
   "metadata": {},
   "source": [
    "### Test case options\n",
    "\n",
    "test case modification functions"
   ]
  },
  {
   "cell_type": "code",
   "execution_count": 14,
   "id": "ad2cc2eb-1a5c-4d6e-8ec4-4ebd190e630d",
   "metadata": {},
   "outputs": [
    {
     "data": {
      "text/plain": [
       "modify_mg_lifetimes"
      ]
     },
     "execution_count": 14,
     "metadata": {},
     "output_type": "execute_result"
    }
   ],
   "source": [
    "\"\"\"Modify Microgrid project by *multiplying* base price values:\n",
    "- `sto`: `mg.storage.investment_price` \n",
    "- `gen`: `mg.generator.investment_price` \n",
    "- `fuel`: `mg.generator.fuel_price`\n",
    "\"\"\"\n",
    "function modify_mg_prices(;sto=1.0, gen=1.0, fuel=1.0)\n",
    "    println(\"mg prices modifications: sto*=$sto, gen*=$gen, fuel*=$fuel\")\n",
    "    function modify_mg(mg)\n",
    "        mg.storage.investment_price *= sto\n",
    "        mg.generator.investment_price *= gen\n",
    "        mg.generator.fuel_price *= fuel\n",
    "        return mg # return mg to allow chaining\n",
    "    end\n",
    "    return modify_mg\n",
    "end\n",
    "\n",
    "\"\"\"Modify Microgrid project by *setting* storage lifetimes:\n",
    "- `cal`: `mg.storage.lifetime_calendar` (years)\n",
    "- `cyc`: `mg.storage.lifetime_cycles` (nb cycles)\n",
    "\"\"\"\n",
    "function modify_mg_lifetimes(;cal=nothing, cyc=nothing)\n",
    "    cal_mod = cal !== nothing ? \"cal=$cal y\" : \"cal unchanged\"\n",
    "    cyc_mod = cyc !== nothing ? \"cyc=$cyc c\" : \"cyc unchanged\"\n",
    "    println(\"mg lifetime modification: $cal_mod, $cyc_mod\")\n",
    "    function modify_mg(mg)\n",
    "        if cal !== nothing\n",
    "            mg.storage.lifetime_calendar = cal\n",
    "        end\n",
    "        if cyc !== nothing\n",
    "            mg.storage.lifetime_cycles = cyc\n",
    "        end\n",
    "        return mg # return mg to allow chaining\n",
    "    end\n",
    "    return modify_mg\n",
    "end"
   ]
  },
  {
   "cell_type": "markdown",
   "id": "4e981bfd-8b48-4b76-a97d-313921fecd60",
   "metadata": {},
   "source": [
    "Choice of base case: (using function composition `create_mg_base` → `modify_mg1` → ...)"
   ]
  },
  {
   "cell_type": "code",
   "execution_count": 15,
   "id": "80efe797-08b2-4516-86ab-b47f2fa7e617",
   "metadata": {},
   "outputs": [
    {
     "name": "stdout",
     "output_type": "stream",
     "text": [
      "mg lifetime modification: cal unchanged, cyc=1500 c\n",
      "mg prices modifications: sto*=1.0, gen*=1.0, fuel*=2.0\n"
     ]
    }
   ],
   "source": [
    "create_mg_modified = modify_mg_lifetimes(cyc=1500) ∘\n",
    "                     modify_mg_prices(fuel=2.0) ∘\n",
    "                     create_mg_base;"
   ]
  },
  {
   "cell_type": "markdown",
   "id": "ffb7fc0b-9230-4224-a6ad-923fe0d85f77",
   "metadata": {},
   "source": [
    "### Algebraic model definition\n",
    "\n"
   ]
  },
  {
   "cell_type": "markdown",
   "id": "137f48f3-2dc7-4b5f-b4c4-5531a910b5cf",
   "metadata": {},
   "source": [
    "#### Core model definition"
   ]
  },
  {
   "cell_type": "markdown",
   "id": "0e4f418c-e28a-41d8-8df7-e6aa516e50d0",
   "metadata": {},
   "source": [
    "Test `setup_optim_mg_jump` function to get JuMP model. Notice that this is not used later, because `setup_optim_mg_jump` is used internally by `optim_mg_jump`."
   ]
  },
  {
   "cell_type": "code",
   "execution_count": 16,
   "id": "fc705172-49ee-4590-b9a3-3a9cd6f264a0",
   "metadata": {},
   "outputs": [
    {
     "name": "stdout",
     "output_type": "stream",
     "text": [
      "Building stage problem with 365 days...\n",
      "zero load shedding allowed\n",
      "Usage-dependent generator lifetime model (relax_gain=1.0)\n",
      "Xann constraints with z_tan=[0.2, 0.28, 0.37, 0.5, 0.68, 1.0, 1.7, 4.0]\n"
     ]
    },
    {
     "data": {
      "text/plain": [
       "A JuMP Model\n",
       "├ solver: HiGHS\n",
       "├ objective_sense: MIN_SENSE\n",
       "│ └ objective_function_type: AffExpr\n",
       "├ num_variables: 78849\n",
       "├ num_constraints: 140198\n",
       "│ ├ AffExpr in MOI.EqualTo{Float64}: 43803\n",
       "│ ├ AffExpr in MOI.GreaterThan{Float64}: 8782\n",
       "│ ├ AffExpr in MOI.LessThan{Float64}: 43801\n",
       "│ ├ VariableRef in MOI.EqualTo{Float64}: 8760\n",
       "│ ├ VariableRef in MOI.GreaterThan{Float64}: 35048\n",
       "│ └ VariableRef in MOI.LessThan{Float64}: 4\n",
       "└ Names registered in the model: none"
      ]
     },
     "execution_count": 16,
     "metadata": {},
     "output_type": "execute_result"
    }
   ],
   "source": [
    "optimizer = HiGHS.Optimizer\n",
    "\n",
    "mg_base, model_data = setup_optim_mg_jump(optimizer; shed_max)\n",
    "\n",
    "model_data[\"model\"]"
   ]
  },
  {
   "cell_type": "markdown",
   "id": "36a8438a-0a14-480e-b330-98ef0a9790e9",
   "metadata": {},
   "source": [
    "Remarks on model size:\n",
    "\n",
    "- stage problem has 78 849 variables (9*8760 + 9)"
   ]
  },
  {
   "cell_type": "markdown",
   "id": "c0381144-994b-40bd-a839-b45e130999c1",
   "metadata": {},
   "source": [
    "### Base Algebraic optim"
   ]
  },
  {
   "cell_type": "markdown",
   "id": "942fe044-c696-4094-8c7b-d3b1c1df241b",
   "metadata": {},
   "source": [
    "Base case: for battery cycle life=1500 and fuel*=2 and 10 cost tangents and relax_gain=1 and 10 tangents.\n",
    "\n",
    "Takes about 10-20s"
   ]
  },
  {
   "cell_type": "code",
   "execution_count": 17,
   "id": "60d6925f-5b57-438c-9dad-dec24dc0e059",
   "metadata": {},
   "outputs": [
    {
     "name": "stdout",
     "output_type": "stream",
     "text": [
      "Building stage problem with 365 days...\n",
      "zero load shedding allowed\n",
      "Usage-dependent generator lifetime model (relax_gain=2.0)\n",
      "Xann constraints with z_tan=[0.2, 0.28, 0.37, 0.5, 0.68, 1.0, 1.7, 4.0]\n",
      " 16.185273 seconds (3.04 M allocations: 187.049 MiB, 0.35% gc time, 3.97% compilation time: 91% of which was recompilation)\n",
      "LCOE: 250.239373 €/MWh"
     ]
    }
   ],
   "source": [
    "optimizer = HiGHS.Optimizer\n",
    "\n",
    "xalg, lcoe_alg, diagnostics, traj_alg, model_data, mg_alg = optim_mg_jump(optimizer;\n",
    "    shed_max,\n",
    "    #ndays=10,\n",
    "    relax_gain,\n",
    "    #z_tan=[0.20, 0.28, 0.37, 0.50, 0.68, 1.0, 1.7, 4.0],\n",
    "    create_mg_base = create_mg_modified,\n",
    ")\n",
    "@printf(\"LCOE: %.6f €/MWh\", lcoe_alg*1000)"
   ]
  },
  {
   "cell_type": "code",
   "execution_count": 18,
   "id": "a020e7e6-2c99-4fff-b805-c30c30c4b9b7",
   "metadata": {},
   "outputs": [
    {
     "data": {
      "text/plain": [
       "4-element Vector{Float64}:\n",
       " 1255.5\n",
       " 5837.3\n",
       " 2329.5\n",
       " 1596.1"
      ]
     },
     "execution_count": 18,
     "metadata": {},
     "output_type": "execute_result"
    }
   ],
   "source": [
    "round.(xalg; digits=1) # optimal sizing"
   ]
  },
  {
   "cell_type": "markdown",
   "id": "311cd6af-9064-4f35-a89f-98aac6de6c41",
   "metadata": {},
   "source": [
    "#### Expected results\n",
    "\n",
    "for battery cycle life=1500, fuel*=2, 10 tangents and relax_gain=2\n",
    "\n",
    "LCOE: `250.239 373` €/MWh\n",
    "\n",
    "Sizing $x^*$:\n",
    "```\n",
    " Gen  1255.5\n",
    " Sto  5837.3\n",
    " PV   2329.5\n",
    " Wind 1596.1\n",
    "```\n",
    "\n",
    "same,  but with **relax_gain=1**\n",
    "\n",
    "LCOE: `243.023 740` €/MWh\n",
    "\n",
    "Sizing $x^*$:\n",
    "```\n",
    " Gen  1216.0\n",
    " Sto  4987.9\n",
    " PV   2132.0\n",
    " Wind 1575.9\n",
    "```"
   ]
  },
  {
   "cell_type": "code",
   "execution_count": 19,
   "id": "6b8e4558-dd8b-4e41-87a2-06a31ae19eac",
   "metadata": {},
   "outputs": [
    {
     "name": "stdout",
     "output_type": "stream",
     "text": [
      "Generator diagnostics:\n",
      "- cost_share: 0.3449048222208222\n",
      "- cost_share_fuel: 0.2814672373469457\n",
      "- energy: 994146.0936787404\n",
      "- load_share: 0.14673788563458876\n",
      "- hours: 1809.0\n",
      "- hours_lin: 1583.7121724658198\n",
      "- lifetime: 8.291873963515755\n",
      "- lifetime_hlin: 9.471418014452203\n",
      "- CRF: 0.150271578062569\n",
      "- CRF_hlin: 0.1351175173783697\n",
      "- CRF_hlin_pwl: 0.13497830538014102\n",
      "\n",
      "Storage diagnostics:\n",
      "- cost_share: 0.1826803559394787\n",
      "- energy_through: 1.6386143945716284e6\n",
      "- load_share: 0.12093132647139042\n",
      "- cycles: 140.35660110762856\n",
      "- lifetime_cycles: 10.687064150618514\n",
      "- lifetime: 10.687064150618514\n",
      "- CRF: 0.12305413939425353\n",
      "- CRF_pwl: 0.12301959130765426\n"
     ]
    }
   ],
   "source": [
    "\"pretty-print NamedTuple or Dict\"\n",
    "function pprint(d, title=nothing)\n",
    "    if title !== nothing\n",
    "        println(\"$title:\")\n",
    "    end\n",
    "    for k in keys(d)\n",
    "        println(\"- $k: \", d[k])\n",
    "    end\n",
    "end\n",
    "\n",
    "pprint(diagnostics.generator, \"Generator diagnostics\")\n",
    "println()\n",
    "pprint(diagnostics.storage, \"Storage diagnostics\")"
   ]
  },
  {
   "cell_type": "markdown",
   "id": "e02d627e-e2bb-4728-9756-66d5821ccd99",
   "metadata": {},
   "source": [
    "#### Comparison with exact costs\n",
    "\n",
    "1. exact nonlinear cvx cost (no PWL approx, but still using the linearized operation hours)\n",
    "2. exact nonsmooth cost"
   ]
  },
  {
   "cell_type": "code",
   "execution_count": 20,
   "id": "e0b590ed-4660-4417-9a78-489b4318c0db",
   "metadata": {},
   "outputs": [
    {
     "data": {
      "text/plain": [
       "(0.2502601106039112, 0.2502393733938677, -8.286262638279585e-5)"
      ]
     },
     "execution_count": 20,
     "metadata": {},
     "output_type": "execute_result"
    }
   ],
   "source": [
    "_, stats, costs_cvx = simulate_alg(mg_alg, model_data,\n",
    "                                           Smoothing(transition=1.0, gain=relax_gain))\n",
    "costs_cvx.lcoe, lcoe_alg, lcoe_alg/costs_cvx.lcoe-1"
   ]
  },
  {
   "cell_type": "code",
   "execution_count": 21,
   "id": "1d58adf2-e767-4ba0-903f-41ae648e0cee",
   "metadata": {},
   "outputs": [
    {
     "data": {
      "text/plain": [
       "(0.2522183390570628, 0.2502393733938677, -0.00784624016871105)"
      ]
     },
     "execution_count": 21,
     "metadata": {},
     "output_type": "execute_result"
    }
   ],
   "source": [
    "_, stats, costs_ns  = simulate_alg(mg_alg, model_data,\n",
    "                                   NoSmoothing)\n",
    "costs_ns.lcoe, lcoe_alg, lcoe_alg/costs_ns.lcoe-1"
   ]
  },
  {
   "cell_type": "markdown",
   "id": "4f8b8fcf-671f-4836-8ea9-449666ed77df",
   "metadata": {},
   "source": [
    "Store base case params in global experiment DataFrame"
   ]
  },
  {
   "cell_type": "code",
   "execution_count": 22,
   "id": "0b6c30c7-4313-41ad-bced-522aa6f8b36a",
   "metadata": {},
   "outputs": [
    {
     "data": {
      "text/html": [
       "<div><div style = \"float: left;\"><span>2×9 DataFrame</span></div><div style = \"clear: both;\"></div></div><div class = \"data-frame\" style = \"overflow-x: scroll;\"><table class = \"data-frame\" style = \"margin-bottom: 6px;\"><thead><tr class = \"header\"><th class = \"rowNumber\" style = \"font-weight: bold; text-align: right;\">Row</th><th style = \"text-align: left;\">case</th><th style = \"text-align: left;\">shed_max</th><th style = \"text-align: left;\">fuel_price</th><th style = \"text-align: left;\">sto_lifetime_cycles</th><th style = \"text-align: left;\">sto_lifetime_calendar</th><th style = \"text-align: left;\">fixed_lifetimes</th><th style = \"text-align: left;\">gen_hours_assum</th><th style = \"text-align: left;\">n_ztan</th><th style = \"text-align: left;\">relax_gain</th></tr><tr class = \"subheader headerLastRow\"><th class = \"rowNumber\" style = \"font-weight: bold; text-align: right;\"></th><th title = \"String\" style = \"text-align: left;\">String</th><th title = \"Float64\" style = \"text-align: left;\">Float64</th><th title = \"Float64\" style = \"text-align: left;\">Float64</th><th title = \"Float64\" style = \"text-align: left;\">Float64</th><th title = \"Float64\" style = \"text-align: left;\">Float64</th><th title = \"Bool\" style = \"text-align: left;\">Bool</th><th title = \"Float64\" style = \"text-align: left;\">Float64</th><th title = \"Int64\" style = \"text-align: left;\">Int64</th><th title = \"Float64\" style = \"text-align: left;\">Float64</th></tr></thead><tbody><tr><td class = \"rowNumber\" style = \"font-weight: bold; text-align: right;\">1</td><td style = \"text-align: left;\">Base case, rgain=1</td><td style = \"text-align: right;\">0.0</td><td style = \"text-align: right;\">2.0</td><td style = \"text-align: right;\">1500.0</td><td style = \"text-align: right;\">15.0</td><td style = \"text-align: right;\">false</td><td style = \"text-align: right;\">NaN</td><td style = \"text-align: right;\">10</td><td style = \"text-align: right;\">1.0</td></tr><tr><td class = \"rowNumber\" style = \"font-weight: bold; text-align: right;\">2</td><td style = \"text-align: left;\">Base case, rgain=2</td><td style = \"text-align: right;\">0.0</td><td style = \"text-align: right;\">2.0</td><td style = \"text-align: right;\">1500.0</td><td style = \"text-align: right;\">15.0</td><td style = \"text-align: right;\">false</td><td style = \"text-align: right;\">NaN</td><td style = \"text-align: right;\">10</td><td style = \"text-align: right;\">2.0</td></tr></tbody></table></div>"
      ],
      "text/latex": [
       "\\begin{tabular}{r|cccccc}\n",
       "\t& case & shed\\_max & fuel\\_price & sto\\_lifetime\\_cycles & sto\\_lifetime\\_calendar & \\\\\n",
       "\t\\hline\n",
       "\t& String & Float64 & Float64 & Float64 & Float64 & \\\\\n",
       "\t\\hline\n",
       "\t1 & Base case, rgain=1 & 0.0 & 2.0 & 1500.0 & 15.0 & $\\dots$ \\\\\n",
       "\t2 & Base case, rgain=2 & 0.0 & 2.0 & 1500.0 & 15.0 & $\\dots$ \\\\\n",
       "\\end{tabular}\n"
      ],
      "text/plain": [
       "\u001b[1m2×9 DataFrame\u001b[0m\n",
       "\u001b[1m Row \u001b[0m│\u001b[1m case               \u001b[0m\u001b[1m shed_max \u001b[0m\u001b[1m fuel_price \u001b[0m\u001b[1m sto_lifetime_cycles \u001b[0m\u001b[1m sto_life\u001b[0m ⋯\n",
       "     │\u001b[90m String             \u001b[0m\u001b[90m Float64  \u001b[0m\u001b[90m Float64    \u001b[0m\u001b[90m Float64             \u001b[0m\u001b[90m Float64 \u001b[0m ⋯\n",
       "─────┼──────────────────────────────────────────────────────────────────────────\n",
       "   1 │ Base case, rgain=1       0.0         2.0               1500.0           ⋯\n",
       "   2 │ Base case, rgain=2       0.0         2.0               1500.0\n",
       "\u001b[36m                                                               5 columns omitted\u001b[0m"
      ]
     },
     "execution_count": 22,
     "metadata": {},
     "output_type": "execute_result"
    }
   ],
   "source": [
    "p1 = (;\n",
    "    case=\"Base case, rgain=1\",\n",
    "    shed_max,\n",
    "    fuel_price=mg_alg.generator.fuel_price,\n",
    "    sto_lifetime_cycles=mg_alg.storage.lifetime_cycles,\n",
    "    sto_lifetime_calendar=mg_alg.storage.lifetime_calendar,\n",
    "    fixed_lifetimes=false, gen_hours_assum=NaN,\n",
    "    n_ztan=10, relax_gain=1.0\n",
    "    )\n",
    "p2 = (;\n",
    "    case=\"Base case, rgain=2\",\n",
    "    shed_max,\n",
    "    fuel_price=mg_alg.generator.fuel_price,\n",
    "    sto_lifetime_cycles=mg_alg.storage.lifetime_cycles,\n",
    "    sto_lifetime_calendar=mg_alg.storage.lifetime_calendar,\n",
    "    fixed_lifetimes=false, gen_hours_assum=NaN,\n",
    "    n_ztan=10, relax_gain\n",
    "    )\n",
    "push!(df_params, p1)\n",
    "push!(df_params, p2)"
   ]
  },
  {
   "cell_type": "markdown",
   "id": "7b019e0b-60e4-4fe1-a1fd-2583c5d9f1dd",
   "metadata": {},
   "source": [
    "### Effect of PWL approximation\n"
   ]
  },
  {
   "cell_type": "markdown",
   "id": "1b6ac94e-c1f4-4895-9664-63da1ba6835d",
   "metadata": {},
   "source": [
    "Experiment design: from 2 tangents to 10"
   ]
  },
  {
   "cell_type": "code",
   "execution_count": 23,
   "id": "0b3cc3c8-1536-41c7-842a-92e6d56a5099",
   "metadata": {},
   "outputs": [
    {
     "data": {
      "text/plain": [
       "4"
      ]
     },
     "execution_count": 23,
     "metadata": {},
     "output_type": "execute_result"
    }
   ],
   "source": [
    "z_tan_list = [\n",
    "    [], # 2 tangents \n",
    "    [0.50], # 3\n",
    "    [0.28, 0.5, 1.0], # 5\n",
    "    [0.20, 0.28, 0.37, 0.50, 0.68, 1.0, 1.7, 4.0] # 10\n",
    "    ]\n",
    "n_ztan = length(z_tan_list)"
   ]
  },
  {
   "cell_type": "code",
   "execution_count": 24,
   "id": "f6717aab-fb38-4750-bf10-04d1f1b59046",
   "metadata": {},
   "outputs": [
    {
     "name": "stdout",
     "output_type": "stream",
     "text": [
      "Optimization with 0 tangents\n",
      "Building stage problem with 365 days...\n",
      "zero load shedding allowed\n",
      "Usage-dependent generator lifetime model (relax_gain=2.0)\n",
      "Xann constraints with z_tan=Any[]\n",
      " 14.536203 seconds (1.65 M allocations: 117.637 MiB, 0.46% gc time)\n",
      "z=1/(T.log(1+i)):\n",
      "- z_gen = 2.1083205115443637 (lifetime 9.72145089044094 y)\n",
      "- z_sto = 1.864833974798723 (lifetime 10.990755526373354 y)\n",
      "Optimization with 1 tangents\n",
      "Building stage problem with 365 days...\n",
      "zero load shedding allowed\n",
      "Usage-dependent generator lifetime model (relax_gain=2.0)\n",
      "Xann constraints with z_tan=Any[0.5]\n",
      " 15.357508 seconds (1.65 M allocations: 117.639 MiB, 0.66% gc time)\n",
      "z=1/(T.log(1+i)):\n",
      "- z_gen = 2.108320511544363 (lifetime 9.721450890440945 y)\n",
      "- z_sto = 1.8648339747987246 (lifetime 10.990755526373343 y)\n",
      "Optimization with 3 tangents\n",
      "Building stage problem with 365 days...\n",
      "zero load shedding allowed\n",
      "Usage-dependent generator lifetime model (relax_gain=2.0)\n",
      "Xann constraints with z_tan=Any[0.28, 0.5, 1.0]\n",
      " 14.498261 seconds (1.65 M allocations: 117.641 MiB, 0.33% gc time)\n",
      "z=1/(T.log(1+i)):\n",
      "- z_gen = 2.147166495871887 (lifetime 9.54557289976956 y)\n",
      "- z_sto = 1.9231553544769031 (lifetime 10.657451186444963 y)\n",
      "Optimization with 8 tangents\n",
      "Building stage problem with 365 days...\n",
      "zero load shedding allowed\n",
      "Usage-dependent generator lifetime model (relax_gain=2.0)\n",
      "Xann constraints with z_tan=Any[0.2, 0.28, 0.37, 0.5, 0.68, 1.0, 1.7, 4.0]\n",
      " 15.965865 seconds (1.65 M allocations: 117.648 MiB, 2.52% gc time)\n",
      "z=1/(T.log(1+i)):\n",
      "- z_gen = 2.163977377306504 (lifetime 9.471418014452203 y)\n",
      "- z_sto = 1.9178264512524377 (lifetime 10.687064150618514 y)\n"
     ]
    },
    {
     "data": {
      "text/plain": [
       "4×2 Matrix{Float64}:\n",
       " 0.249423  0.250284\n",
       " 0.249423  0.250284\n",
       " 0.249601  0.250268\n",
       " 0.250239  0.25026"
      ]
     },
     "execution_count": 24,
     "metadata": {},
     "output_type": "execute_result"
    }
   ],
   "source": [
    "xalg_tab_pwl = zeros(n_ztan,length(xalg))\n",
    "lcoe_tab_pwl = zeros(n_ztan,2) # 1) model, 2) exact nonlinear cvx\n",
    "\n",
    "for i in 1:n_ztan\n",
    "    z_tan = z_tan_list[i]\n",
    "    println(\"Optimization with $(length(z_tan)) tangents\")\n",
    "    xalg, lcoe_alg, diagnostics, traj_alg, model_data, mg_alg = optim_mg_jump(optimizer;\n",
    "        shed_max,\n",
    "        #ndays=50,\n",
    "        fixed_lifetimes=false,\n",
    "        relax_gain,\n",
    "        z_tan,\n",
    "        create_mg_base = create_mg_modified,\n",
    "        #model_custom\n",
    "    )\n",
    "    # recompute exact nonlinear cvx (but still smoothed/relaxed) cost (FAILS if ndays<365!)\n",
    "    _, stats, costs = simulate_alg(mg_alg, model_data,\n",
    "                                   Smoothing(transition=1.0, gain=relax_gain))\n",
    "    # store results\n",
    "    xalg_tab_pwl[i,:] = xalg'\n",
    "    lcoe_tab_pwl[i,1] = lcoe_alg\n",
    "    lcoe_tab_pwl[i,2] = costs.lcoe\n",
    "\n",
    "    # Compute z variables to understand the relation with z_tan\n",
    "    log1pi = log(1+mg_base.project.discount_rate)\n",
    "    Tgen_hlin = diagnostics.generator.lifetime_hlin\n",
    "    z_gen = 1/Tgen_hlin/log1pi\n",
    "    T_sto_cycles = diagnostics.storage.lifetime_cycles\n",
    "    z_sto = 1/T_sto_cycles/log1pi\n",
    "    \n",
    "    println(\"z=1/(T.log(1+i)):\")\n",
    "    println(\"- z_gen = $z_gen (lifetime $Tgen_hlin y)\")\n",
    "    println(\"- z_sto = $z_sto (lifetime $T_sto_cycles y)\")\n",
    "end\n",
    "\n",
    "lcoe_tab_pwl"
   ]
  },
  {
   "cell_type": "code",
   "execution_count": 25,
   "id": "9ab4f06a-a622-46f7-9298-6cfc386ee5b9",
   "metadata": {},
   "outputs": [
    {
     "data": {
      "text/plain": [
       "4×4 Matrix{Float64}:\n",
       " 1246.01  6231.3   2371.4   1594.56\n",
       " 1246.01  6231.3   2371.4   1594.56\n",
       " 1254.02  5899.52  2368.49  1588.12\n",
       " 1255.46  5837.33  2329.52  1596.12"
      ]
     },
     "execution_count": 25,
     "metadata": {},
     "output_type": "execute_result"
    }
   ],
   "source": [
    "xalg_tab_pwl"
   ]
  },
  {
   "cell_type": "markdown",
   "id": "b888ba69-0725-448b-bf17-45e2b713d2e6",
   "metadata": {},
   "source": [
    "Plot effect of nb of tangent on both LCOE. When ntan grows:\n",
    "- model (pwl approx) LCOE increases\n",
    "- but actual LCOE slighly decrease (since it's better approximated)!"
   ]
  },
  {
   "cell_type": "code",
   "execution_count": 26,
   "id": "e7f3d8a5-a418-4fcf-a5b1-361d31af7b10",
   "metadata": {},
   "outputs": [
    {
     "data": {
      "image/png": "[encoded data removed]",
      "text/plain": [
       "Figure(PyObject <Figure size 450x300 with 1 Axes>)"
      ]
     },
     "metadata": {},
     "output_type": "display_data"
    }
   ],
   "source": [
    "fig, ax = subplots(figsize=(4.5,3))\n",
    "l = ax.plot([length(z_tan)+2 for z_tan in z_tan_list],\n",
    "        lcoe_tab_pwl*1000 .- 250, \"D:\")\n",
    "ax.grid(true)\n",
    "ax.set(\n",
    "    xlabel = \"nb tangents for PWL cost approx.\",\n",
    "    ylabel = \"LCOE − 250 €/MWh\"\n",
    ")\n",
    "ax.legend((\"PWL LCOE\", \"NL LCOE\"))\n",
    "fig.tight_layout();"
   ]
  },
  {
   "cell_type": "code",
   "execution_count": 27,
   "id": "043d3e6a-e9a7-4869-b1b3-dd5953726f94",
   "metadata": {},
   "outputs": [
    {
     "data": {
      "text/html": [
       "<div><div style = \"float: left;\"><span>3×9 DataFrame</span></div><div style = \"clear: both;\"></div></div><div class = \"data-frame\" style = \"overflow-x: scroll;\"><table class = \"data-frame\" style = \"margin-bottom: 6px;\"><thead><tr class = \"header\"><th class = \"rowNumber\" style = \"font-weight: bold; text-align: right;\">Row</th><th style = \"text-align: left;\">case</th><th style = \"text-align: left;\">shed_max</th><th style = \"text-align: left;\">fuel_price</th><th style = \"text-align: left;\">sto_lifetime_cycles</th><th style = \"text-align: left;\">sto_lifetime_calendar</th><th style = \"text-align: left;\">fixed_lifetimes</th><th style = \"text-align: left;\">gen_hours_assum</th><th style = \"text-align: left;\">n_ztan</th><th style = \"text-align: left;\">relax_gain</th></tr><tr class = \"subheader headerLastRow\"><th class = \"rowNumber\" style = \"font-weight: bold; text-align: right;\"></th><th title = \"String\" style = \"text-align: left;\">String</th><th title = \"Float64\" style = \"text-align: left;\">Float64</th><th title = \"Float64\" style = \"text-align: left;\">Float64</th><th title = \"Float64\" style = \"text-align: left;\">Float64</th><th title = \"Float64\" style = \"text-align: left;\">Float64</th><th title = \"Bool\" style = \"text-align: left;\">Bool</th><th title = \"Float64\" style = \"text-align: left;\">Float64</th><th title = \"Int64\" style = \"text-align: left;\">Int64</th><th title = \"Float64\" style = \"text-align: left;\">Float64</th></tr></thead><tbody><tr><td class = \"rowNumber\" style = \"font-weight: bold; text-align: right;\">1</td><td style = \"text-align: left;\">Less tangents, n_ztan=2</td><td style = \"text-align: right;\">0.0</td><td style = \"text-align: right;\">2.0</td><td style = \"text-align: right;\">1500.0</td><td style = \"text-align: right;\">15.0</td><td style = \"text-align: right;\">false</td><td style = \"text-align: right;\">NaN</td><td style = \"text-align: right;\">2</td><td style = \"text-align: right;\">2.0</td></tr><tr><td class = \"rowNumber\" style = \"font-weight: bold; text-align: right;\">2</td><td style = \"text-align: left;\">Less tangents, n_ztan=3</td><td style = \"text-align: right;\">0.0</td><td style = \"text-align: right;\">2.0</td><td style = \"text-align: right;\">1500.0</td><td style = \"text-align: right;\">15.0</td><td style = \"text-align: right;\">false</td><td style = \"text-align: right;\">NaN</td><td style = \"text-align: right;\">3</td><td style = \"text-align: right;\">2.0</td></tr><tr><td class = \"rowNumber\" style = \"font-weight: bold; text-align: right;\">3</td><td style = \"text-align: left;\">Less tangents, n_ztan=5</td><td style = \"text-align: right;\">0.0</td><td style = \"text-align: right;\">2.0</td><td style = \"text-align: right;\">1500.0</td><td style = \"text-align: right;\">15.0</td><td style = \"text-align: right;\">false</td><td style = \"text-align: right;\">NaN</td><td style = \"text-align: right;\">5</td><td style = \"text-align: right;\">2.0</td></tr></tbody></table></div>"
      ],
      "text/latex": [
       "\\begin{tabular}{r|cccccc}\n",
       "\t& case & shed\\_max & fuel\\_price & sto\\_lifetime\\_cycles & sto\\_lifetime\\_calendar & \\\\\n",
       "\t\\hline\n",
       "\t& String & Float64 & Float64 & Float64 & Float64 & \\\\\n",
       "\t\\hline\n",
       "\t1 & Less tangents, n\\_ztan=2 & 0.0 & 2.0 & 1500.0 & 15.0 & $\\dots$ \\\\\n",
       "\t2 & Less tangents, n\\_ztan=3 & 0.0 & 2.0 & 1500.0 & 15.0 & $\\dots$ \\\\\n",
       "\t3 & Less tangents, n\\_ztan=5 & 0.0 & 2.0 & 1500.0 & 15.0 & $\\dots$ \\\\\n",
       "\\end{tabular}\n"
      ],
      "text/plain": [
       "\u001b[1m3×9 DataFrame\u001b[0m\n",
       "\u001b[1m Row \u001b[0m│\u001b[1m case                    \u001b[0m\u001b[1m shed_max \u001b[0m\u001b[1m fuel_price \u001b[0m\u001b[1m sto_lifetime_cycles \u001b[0m\u001b[1m sto\u001b[0m ⋯\n",
       "     │\u001b[90m String                  \u001b[0m\u001b[90m Float64  \u001b[0m\u001b[90m Float64    \u001b[0m\u001b[90m Float64             \u001b[0m\u001b[90m Flo\u001b[0m ⋯\n",
       "─────┼──────────────────────────────────────────────────────────────────────────\n",
       "   1 │ Less tangents, n_ztan=2       0.0         2.0               1500.0      ⋯\n",
       "   2 │ Less tangents, n_ztan=3       0.0         2.0               1500.0\n",
       "   3 │ Less tangents, n_ztan=5       0.0         2.0               1500.0\n",
       "\u001b[36m                                                               5 columns omitted\u001b[0m"
      ]
     },
     "execution_count": 27,
     "metadata": {},
     "output_type": "execute_result"
    }
   ],
   "source": [
    "p = (;\n",
    "    case=\"Less tangents\",\n",
    "    shed_max,\n",
    "    fuel_price=mg_alg.generator.fuel_price,\n",
    "    sto_lifetime_cycles=mg_alg.storage.lifetime_cycles,\n",
    "    sto_lifetime_calendar=mg_alg.storage.lifetime_calendar,\n",
    "    fixed_lifetimes=false, gen_hours_assum=NaN,\n",
    "    n_ztan=-1, relax_gain\n",
    "    )\n",
    "for n_ztan in [2,3,5]\n",
    "    push!(df_params, p)\n",
    "    df_params[end,\"case\"] = \"Less tangents, n_ztan=$n_ztan\"\n",
    "    df_params[end,\"n_ztan\"] = n_ztan\n",
    "end\n",
    "df_params[end-2:end,:]"
   ]
  },
  {
   "cell_type": "markdown",
   "id": "dca4a007-b033-4191-9ff4-17704d013a76",
   "metadata": {},
   "source": [
    "### Iterative approach to set relax_gain\n",
    "\n",
    "The goal is to adjust the operating hours relaxation gain so as to imitate the true operating hours.\n",
    "\n",
    "We have the true number of operating hours\n",
    "\n",
    "$$ h_{oper} = \\sum_k (P(k)>0) \\Delta_t = \\lVert P \\rVert_0 . \\Delta_t$$\n",
    "\n",
    "and the linearized number of operating hours:\n",
    "\n",
    "$$ \\tilde{h}_{oper} =  \\frac{\\alpha}{P^{rated}} \\sum_k P(k) \\Delta_t \n",
    "                   = \\alpha \\frac{\\lVert P \\rVert_1 }{P^{rated}} \\Delta_t$$\n",
    "\n",
    "\n",
    "therefore, the true value for $\\alpha$ to get the equaliy $ h_{oper} = \\tilde{h}_{oper}$ is:\n",
    "\n",
    "$$ \\alpha = \\frac{ \\lVert P \\rVert_0.P^{rated} }{ \\lVert P \\rVert_1  } $$\n",
    "\n",
    "which can be interpreted as the inverse capacity factor when the generator is on. It is of course not possible to know this gain value beforehand. However, we use the a posteriori results one optimization run to set the gain for the next one, which yield the following update:\n",
    "\n",
    "$$ \\alpha^{(i+1)} =  \\alpha^{(i)}  \\frac{ h_{oper}^{(i)} }{ \\tilde{h}_{oper}^{(i)} } $$\n",
    "\n",
    "Put another way, with get that $\\tilde{h}_{oper}^{(i+1)} = \\alpha^{(i+1)}\\frac{\\lVert P \\rVert_1^{(i+1)} }{P^{rated}} \\Delta_t $ is in fact:\n",
    "\n",
    "$$ \\tilde{h}_{oper}^{(i+1)} = \\frac{ \\lVert P \\rVert_0^{(i)} }{ \\lVert P \\rVert_1^{(i)} } \\lVert P \\rVert_1^{(i+1)} $$\n",
    "\n",
    "and with some optional smoothing $\\theta \\in [0,1[$, the relaxation gain update can become:\n",
    "\n",
    "$$ \\alpha^{(i+1)} =  \\theta \\alpha^{(i)} + (1-\\theta) \\alpha^{(i)}  \\frac{ h_{oper}^{(i)} }{ \\tilde{h}_{oper}^{(i)} } $$\n",
    "\n"
   ]
  },
  {
   "cell_type": "code",
   "execution_count": 28,
   "id": "277452c7-5c8f-4e45-a091-d09b1b23b2b6",
   "metadata": {},
   "outputs": [
    {
     "data": {
      "text/plain": [
       "optim_mg_iter_relgain"
      ]
     },
     "execution_count": 28,
     "metadata": {},
     "output_type": "execute_result"
    }
   ],
   "source": [
    "\"\"\"Optimize sizing of microgrid using JuMP: iteration `relax_gain`\n",
    "\n",
    "and extract results\n",
    "\n",
    "# Parameters\n",
    "- same as `optim_mg_jump`, except that\n",
    "- `fixed_lifetimes=false` is assumed, so `gen_hours_assum` is not needed\n",
    "- `relax_gain_start` replaces `relax_gain`\n",
    "- `relax_gain_smoothing` in [0, 1[ sets how slow relax_gain is updated. 0=no smoothing\n",
    "- `n_iter`: number of iterations (default 6)\n",
    "\n",
    "Returns:\n",
    "xalg_tab, lcoe_tab, rgain_tab, diagnostics, traj_alg, model_data\n",
    "\n",
    "(the last ones are from the last iteration)\n",
    "\"\"\"\n",
    "function optim_mg_iter_relgain(optimizer;\n",
    "        shed_max=0.0,\n",
    "        ndays=365,\n",
    "        relax_gain_start = 1.0,\n",
    "        relax_gain_smoothing = 0.0,\n",
    "        n_iter=6,\n",
    "        z_tan = [0.20, 0.28, 0.37, 0.50, 0.68, 1.0, 1.7, 4.0],\n",
    "        create_mg_base=create_mg_base,\n",
    "        model_custom=nothing,\n",
    "    )\n",
    "\n",
    "    xalg_tab = zeros(0,length(xalg)) # global previously computed xalg here\n",
    "    lcoe_tab = zeros(0,3)  # 1) model, 2) exact nonlinear cvx, 3) exact nonsmooth\n",
    "    rgain_tab = zeros(n_iter,1)\n",
    "    relax_gain = relax_gain_start # init\n",
    "    local diagnostics, traj_alg, model_data\n",
    "    \n",
    "    for i in 1:n_iter\n",
    "        println(\"relax_gain iteration $i: $relax_gain\")\n",
    "        rgain_tab[i] = relax_gain # store relax_gain\n",
    "        xalg, lcoe_alg, diagnostics, traj_alg, model_data, mg_alg = optim_mg_jump(optimizer;\n",
    "            shed_max, ndays,\n",
    "            fixed_lifetimes=false,\n",
    "            relax_gain,\n",
    "            z_tan,\n",
    "            create_mg_base,\n",
    "            model_custom\n",
    "        )\n",
    "        # recompute exact costs (FAILS if ndays<365!)\n",
    "        _, stats, costs_cvx = simulate_alg(mg_alg, model_data,\n",
    "                                           Smoothing(transition=1.0, gain=relax_gain))\n",
    "        _, stats, costs_ns  = simulate_alg(mg_alg, model_data,\n",
    "                                           NoSmoothing)\n",
    "        \n",
    "        # store results\n",
    "        xalg_tab = [xalg_tab; xalg']\n",
    "        lcoe_tab = [lcoe_tab;\n",
    "                    lcoe_alg costs_cvx.lcoe costs_ns.lcoe]\n",
    "        \n",
    "        # correct next gain\n",
    "        print(\"  hours/hours_lin: \")\n",
    "        println(diagnostics.generator.hours / diagnostics.generator.hours_lin)\n",
    "        relax_gain_target = relax_gain*diagnostics.generator.hours / diagnostics.generator.hours_lin\n",
    "        relax_gain = relax_gain_smoothing*relax_gain + \n",
    "                     (1-relax_gain_smoothing)*relax_gain_target\n",
    "    end\n",
    "    \n",
    "    return xalg_tab, lcoe_tab, rgain_tab, diagnostics, traj_alg, model_data\n",
    "end"
   ]
  },
  {
   "cell_type": "code",
   "execution_count": 29,
   "id": "f4937d8b-c3d9-4310-9c53-f4d8655dd30d",
   "metadata": {},
   "outputs": [
    {
     "name": "stdout",
     "output_type": "stream",
     "text": [
      "relax_gain iteration 1: 1.0\n",
      "Building stage problem with 365 days...\n",
      "zero load shedding allowed\n",
      "Usage-dependent generator lifetime model (relax_gain=1.0)\n",
      "Xann constraints with z_tan=[0.2, 0.28, 0.37, 0.5, 0.68, 1.0, 1.7, 4.0]\n",
      " 16.467092 seconds (1.65 M allocations: 117.648 MiB, 0.16% gc time)\n",
      "  hours/hours_lin: 2.285082091467946\n",
      "relax_gain iteration 2: 2.285082091467946\n",
      "Building stage problem with 365 days...\n",
      "zero load shedding allowed\n",
      "Usage-dependent generator lifetime model (relax_gain=2.285082091467946)\n",
      "Xann constraints with z_tan=[0.2, 0.28, 0.37, 0.5, 0.68, 1.0, 1.7, 4.0]\n",
      " 10.404535 seconds (1.65 M allocations: 117.648 MiB, 0.34% gc time)\n",
      "  hours/hours_lin: 0.9899655505490673\n",
      "relax_gain iteration 3: 2.2621525507298794\n",
      "Building stage problem with 365 days...\n",
      "zero load shedding allowed\n",
      "Usage-dependent generator lifetime model (relax_gain=2.2621525507298794)\n",
      "Xann constraints with z_tan=[0.2, 0.28, 0.37, 0.5, 0.68, 1.0, 1.7, 4.0]\n",
      " 10.611657 seconds (1.65 M allocations: 117.648 MiB, 3.76% gc time)\n",
      "  hours/hours_lin: 1.001694021334214\n",
      "relax_gain iteration 4: 2.2659846854120627\n",
      "Building stage problem with 365 days...\n",
      "zero load shedding allowed\n",
      "Usage-dependent generator lifetime model (relax_gain=2.2659846854120627)\n",
      "Xann constraints with z_tan=[0.2, 0.28, 0.37, 0.5, 0.68, 1.0, 1.7, 4.0]\n",
      "  9.915576 seconds (1.65 M allocations: 117.648 MiB, 0.33% gc time)\n",
      "  hours/hours_lin: 1.0\n",
      "relax_gain iteration 5: 2.2659846854120627\n",
      "Building stage problem with 365 days...\n",
      "zero load shedding allowed\n",
      "Usage-dependent generator lifetime model (relax_gain=2.2659846854120627)\n",
      "Xann constraints with z_tan=[0.2, 0.28, 0.37, 0.5, 0.68, 1.0, 1.7, 4.0]\n",
      " 10.417919 seconds (1.65 M allocations: 117.648 MiB, 2.89% gc time)\n",
      "  hours/hours_lin: 1.0\n",
      "relax_gain iteration 6: 2.2659846854120627\n",
      "Building stage problem with 365 days...\n",
      "zero load shedding allowed\n",
      "Usage-dependent generator lifetime model (relax_gain=2.2659846854120627)\n",
      "Xann constraints with z_tan=[0.2, 0.28, 0.37, 0.5, 0.68, 1.0, 1.7, 4.0]\n",
      " 10.177082 seconds (1.65 M allocations: 117.648 MiB, 0.39% gc time)\n",
      "  hours/hours_lin: 1.0\n"
     ]
    },
    {
     "data": {
      "text/plain": [
       "6×3 Matrix{Float64}:\n",
       " 0.243024  0.243056  0.252907\n",
       " 0.252147  0.252175  0.252022\n",
       " 0.251994  0.252022  0.252048\n",
       " 0.252019  0.252048  0.252048\n",
       " 0.252019  0.252048  0.252048\n",
       " 0.252019  0.252048  0.252048"
      ]
     },
     "execution_count": 29,
     "metadata": {},
     "output_type": "execute_result"
    }
   ],
   "source": [
    "xalg_tab, lcoe_tab, rgain_tab, diagnostics, traj_alg, model_data =  optim_mg_iter_relgain(optimizer;\n",
    "    shed_max,\n",
    "    #ndays=20,\n",
    "    relax_gain_start = 1.0,\n",
    "    n_iter=6,\n",
    "    #z_tan=[0.20, 0.28, 0.37, 0.50, 0.68, 1.0, 1.7, 4.0],\n",
    "    create_mg_base=create_mg_modified,\n",
    "    #model_custom=nothing\n",
    ")\n",
    "lcoe_tab"
   ]
  },
  {
   "cell_type": "markdown",
   "id": "5ee0fe7c-110d-4ef2-9811-28af35db7ba8",
   "metadata": {},
   "source": [
    "observation: at the second iteration, we get in fact a exact non smooth cost which is lower. This means the iteration is locked in a local minimum!"
   ]
  },
  {
   "cell_type": "code",
   "execution_count": 30,
   "id": "bf1d767c-6218-4ef4-8b78-9a72dc74132c",
   "metadata": {},
   "outputs": [
    {
     "data": {
      "text/plain": [
       "6×4 Matrix{Float64}:\n",
       " 1215.98  4987.93  2132.0   1575.9\n",
       " 1249.59  6072.31  2384.13  1605.97\n",
       " 1250.18  6046.1   2378.02  1608.66\n",
       " 1250.18  6046.1   2378.02  1608.66\n",
       " 1250.18  6046.1   2378.02  1608.66\n",
       " 1250.18  6046.1   2378.02  1608.66"
      ]
     },
     "execution_count": 30,
     "metadata": {},
     "output_type": "execute_result"
    }
   ],
   "source": [
    "xalg_tab"
   ]
  },
  {
   "cell_type": "markdown",
   "id": "51e1c05e-e3a3-4812-b0f8-f0be8c5124bb",
   "metadata": {},
   "source": [
    "RMS sizing difference to the last one"
   ]
  },
  {
   "cell_type": "code",
   "execution_count": 31,
   "id": "9a89a322-b850-4e15-b3ff-c48f7e2897b4",
   "metadata": {},
   "outputs": [
    {
     "data": {
      "text/plain": [
       "6×1 Matrix{Float64}:\n",
       " 1087.4245302782092\n",
       "   27.04993670897564\n",
       "    0.0\n",
       "    0.0\n",
       "    0.0\n",
       "    0.0"
      ]
     },
     "execution_count": 31,
     "metadata": {},
     "output_type": "execute_result"
    }
   ],
   "source": [
    "sqrt.(sum( (xalg_tab .- xalg_tab[[end],:]).^2; dims=2))"
   ]
  },
  {
   "cell_type": "markdown",
   "id": "156185ee-cd64-4d4e-ad12-4b88fd0ab1dc",
   "metadata": {},
   "source": [
    "Plot the convergence with relax_gain tuning:"
   ]
  },
  {
   "cell_type": "code",
   "execution_count": 32,
   "id": "1d983281-0908-4f94-9b3f-ea73e72a472b",
   "metadata": {},
   "outputs": [
    {
     "data": {
      "image/png": "[encoded data removed]",
      "text/plain": [
       "Figure(PyObject <Figure size 700x400 with 3 Axes>)"
      ]
     },
     "metadata": {},
     "output_type": "display_data"
    }
   ],
   "source": [
    "fig, ax = subplots(3,1, figsize=(7,4), sharex=true)\n",
    "\n",
    "n_iter = length(rgain_tab)\n",
    "\n",
    "ax[1].plot(1:n_iter, lcoe_tab*1000, \"d-\", label=\"LCOE\")\n",
    "ax[1].set_ylim(251, 253) # 365 days\n",
    "ax[1].set_ylim(251.8, 252.2)\n",
    "\n",
    "\n",
    "ax[2].plot(1:n_iter, xalg_tab[:,1], \"d-\", label=\"Pgen rated\")\n",
    "#ax[2].set_ylim(630, 670)\n",
    "\n",
    "#ax[3].plot(2:n_iter, rgain_tab[2:end]./rgain_tab[1:end-1] .- 1,\n",
    "#           \"d-\", label=\"relax_gain change\")\n",
    "#ax[3].set_ylim(-12e-3, +12e-3)\n",
    "ax[3].plot(1:n_iter, rgain_tab,\n",
    "           \"d-\", label=\"relax_gain\")\n",
    "ax[3].set_ylim(0.9, 2.4)\n",
    "\n",
    "for axi in ax\n",
    "    axi.grid(true)\n",
    "    axi.legend()\n",
    "end"
   ]
  },
  {
   "cell_type": "code",
   "execution_count": 33,
   "id": "2307f689-212b-4150-9704-70805aace4c3",
   "metadata": {},
   "outputs": [
    {
     "data": {
      "text/html": [
       "<div><div style = \"float: left;\"><span>DataFrameRow (9 columns)</span></div><div style = \"clear: both;\"></div></div><div class = \"data-frame\" style = \"overflow-x: scroll;\"><table class = \"data-frame\" style = \"margin-bottom: 6px;\"><thead><tr class = \"header\"><th class = \"rowLabel\" style = \"font-weight: bold; text-align: right;\">Row</th><th style = \"text-align: left;\">case</th><th style = \"text-align: left;\">shed_max</th><th style = \"text-align: left;\">fuel_price</th><th style = \"text-align: left;\">sto_lifetime_cycles</th><th style = \"text-align: left;\">sto_lifetime_calendar</th><th style = \"text-align: left;\">fixed_lifetimes</th><th style = \"text-align: left;\">gen_hours_assum</th><th style = \"text-align: left;\">n_ztan</th><th style = \"text-align: left;\">relax_gain</th></tr><tr class = \"subheader headerLastRow\"><th class = \"rowLabel\" style = \"font-weight: bold; text-align: right;\"></th><th title = \"String\" style = \"text-align: left;\">String</th><th title = \"Float64\" style = \"text-align: left;\">Float64</th><th title = \"Float64\" style = \"text-align: left;\">Float64</th><th title = \"Float64\" style = \"text-align: left;\">Float64</th><th title = \"Float64\" style = \"text-align: left;\">Float64</th><th title = \"Bool\" style = \"text-align: left;\">Bool</th><th title = \"Float64\" style = \"text-align: left;\">Float64</th><th title = \"Int64\" style = \"text-align: left;\">Int64</th><th title = \"Float64\" style = \"text-align: left;\">Float64</th></tr></thead><tbody><tr><td class = \"rowLabel\" style = \"font-weight: bold; text-align: right;\">6</td><td style = \"text-align: left;\">Relax gain convergence</td><td style = \"text-align: right;\">0.0</td><td style = \"text-align: right;\">2.0</td><td style = \"text-align: right;\">1500.0</td><td style = \"text-align: right;\">15.0</td><td style = \"text-align: right;\">false</td><td style = \"text-align: right;\">NaN</td><td style = \"text-align: right;\">10</td><td style = \"text-align: right;\">2.26598</td></tr></tbody></table></div>"
      ],
      "text/latex": [
       "\\begin{tabular}{r|cccccc}\n",
       "\t& case & shed\\_max & fuel\\_price & sto\\_lifetime\\_cycles & sto\\_lifetime\\_calendar & \\\\\n",
       "\t\\hline\n",
       "\t& String & Float64 & Float64 & Float64 & Float64 & \\\\\n",
       "\t\\hline\n",
       "\t6 & Relax gain convergence & 0.0 & 2.0 & 1500.0 & 15.0 & $\\dots$ \\\\\n",
       "\\end{tabular}\n"
      ],
      "text/plain": [
       "\u001b[1mDataFrameRow\u001b[0m\n",
       "\u001b[1m Row \u001b[0m│\u001b[1m case                   \u001b[0m\u001b[1m shed_max \u001b[0m\u001b[1m fuel_price \u001b[0m\u001b[1m sto_lifetime_cycles \u001b[0m\u001b[1m sto_\u001b[0m ⋯\n",
       "     │\u001b[90m String                 \u001b[0m\u001b[90m Float64  \u001b[0m\u001b[90m Float64    \u001b[0m\u001b[90m Float64             \u001b[0m\u001b[90m Floa\u001b[0m ⋯\n",
       "─────┼──────────────────────────────────────────────────────────────────────────\n",
       "   6 │ Relax gain convergence       0.0         2.0               1500.0       ⋯\n",
       "\u001b[36m                                                               5 columns omitted\u001b[0m"
      ]
     },
     "execution_count": 33,
     "metadata": {},
     "output_type": "execute_result"
    }
   ],
   "source": [
    "p = (;\n",
    "    case=\"Relax gain convergence\",\n",
    "    shed_max,\n",
    "    fuel_price=mg_alg.generator.fuel_price,\n",
    "    sto_lifetime_cycles=mg_alg.storage.lifetime_cycles,\n",
    "    sto_lifetime_calendar=mg_alg.storage.lifetime_calendar,\n",
    "    fixed_lifetimes=false, gen_hours_assum=NaN,\n",
    "    n_ztan=10, relax_gain=rgain_tab[end]\n",
    "    )\n",
    "push!(df_params, p)   \n",
    "df_params[end,:]"
   ]
  },
  {
   "cell_type": "markdown",
   "id": "20412091-e644-4690-aab1-ddb605553ae5",
   "metadata": {},
   "source": [
    "## Fixed lifetime approach\n",
    "\n",
    "tests:\n",
    "- 2000 vs 3000 h/y for generator\n",
    "- 15 vs 10 y calendar life for storage"
   ]
  },
  {
   "cell_type": "code",
   "execution_count": 34,
   "id": "8624acbb-5b14-48f2-99f2-08395b4531e3",
   "metadata": {},
   "outputs": [
    {
     "name": "stdout",
     "output_type": "stream",
     "text": [
      "mg lifetime modification: cal=8.0 y, cyc unchanged\n",
      "Building stage problem with 365 days...\n",
      "zero load shedding allowed\n",
      "Fixed generator lifetime hypothesis: 5.769230769230769 y, assuming 2600.0  h/y of usage\n",
      "  5.823262 seconds (1.64 M allocations: 115.996 MiB, 0.86% gc time)\n",
      "LCOE: 257.858580665 €/MWh (wrong)"
     ]
    }
   ],
   "source": [
    "create_mg_modified_cal10y = modify_mg_lifetimes(cal=8.0) ∘ create_mg_modified\n",
    "\n",
    "x_fxlt, lcoe_fxlt, diagnostics, traj_fxlt, model_data, mg_fxlt = optim_mg_jump(optimizer;\n",
    "    shed_max,\n",
    "    #ndays=30,\n",
    "    fixed_lifetimes=true,\n",
    "    gen_hours_assum = 2600.,\n",
    "    #gen_hours_assum = 3000.,\n",
    "    relax_gain,\n",
    "    #z_tan=[0.20, 0.28, 0.37, 0.50, 0.68, 1.0, 1.7, 4.0],\n",
    "    #create_mg_base = modify_mg_lifetimes(cal=10) ∘ create_mg_modified,\n",
    "    create_mg_base = create_mg_modified_cal10y,\n",
    ")\n",
    "@printf(\"LCOE: %.9f €/MWh (wrong)\", lcoe_fxlt*1000)"
   ]
  },
  {
   "cell_type": "markdown",
   "id": "4120155c-9f30-426f-9d50-44be9f24b76a",
   "metadata": {},
   "source": [
    "Sizing with fixed lifetime vs base sizing"
   ]
  },
  {
   "cell_type": "code",
   "execution_count": 35,
   "id": "5743bf92-632e-4dd7-b6f1-950c569cf1da",
   "metadata": {
    "scrolled": true
   },
   "outputs": [
    {
     "data": {
      "text/plain": [
       "4×2 Matrix{Float64}:\n",
       " 1226.0  1255.5\n",
       " 2730.2  5837.3\n",
       " 2080.9  2329.5\n",
       " 1470.5  1596.1"
      ]
     },
     "execution_count": 35,
     "metadata": {},
     "output_type": "execute_result"
    }
   ],
   "source": [
    "round.([x_fxlt xalg]; digits=1) # optimal sizing"
   ]
  },
  {
   "cell_type": "markdown",
   "id": "45983a3a-301f-46d9-9620-bf4fd9d954b4",
   "metadata": {},
   "source": [
    "###### Diagnostics: battery is underpriced by 30% (0.0963/0.1399=0.69):\n",
    "- CRF being used: 0.0963, i.e. CRF(15 y)\n",
    "- but cycle lifetime is 9.06 y → CRF should be 0.1399"
   ]
  },
  {
   "cell_type": "code",
   "execution_count": 36,
   "id": "f3195a0e-3b71-4029-a460-2a2e65279ab0",
   "metadata": {},
   "outputs": [
    {
     "name": "stdout",
     "output_type": "stream",
     "text": [
      "Generator diagnostics:\n",
      "- cost_share: 0.4812913977351486\n",
      "- cost_share_fuel: 0.38758803079387716\n",
      "- energy: 1.4106480111093482e6\n",
      "- load_share: 0.20821437396475298\n",
      "- hours: 2756.0\n",
      "- hours_lin: 2301.1969440636003\n",
      "- lifetime: 5.44267053701016\n",
      "- lifetime_hlin: 6.518346914502695\n",
      "- CRF: 0.21439447165367895\n",
      "- CRF_hlin: 0.18354017298601968\n",
      "- CRF_hlin_pwl: 0.2038027253505108\n",
      "\n",
      "Storage diagnostics:\n",
      "- cost_share: 0.10025639801188961\n",
      "- energy_through: 1.0397786884156885e6\n",
      "- load_share: 0.0767366724247919\n",
      "- cycles: 190.42491711891347\n",
      "- lifetime_cycles: 7.877120403646043\n",
      "- lifetime: 7.877120403646043\n",
      "- CRF: 0.15669531638921044\n",
      "- CRF_pwl: 0.15472181362768103\n"
     ]
    }
   ],
   "source": [
    "pprint(diagnostics.generator, \"Generator diagnostics\")\n",
    "println()\n",
    "pprint(diagnostics.storage, \"Storage diagnostics\")"
   ]
  },
  {
   "cell_type": "markdown",
   "id": "3728f286-e6d6-4d20-b88b-f54c6d4c93c7",
   "metadata": {},
   "source": [
    "### Iterative lifetime adjustment\n",
    "\n",
    "(not biggest priority though)"
   ]
  },
  {
   "cell_type": "code",
   "execution_count": 37,
   "id": "53e9b736-5746-4757-a507-5a5eef43826c",
   "metadata": {},
   "outputs": [
    {
     "data": {
      "text/plain": [
       "optim_mg_iter_lifetimes"
      ]
     },
     "execution_count": 37,
     "metadata": {},
     "output_type": "execute_result"
    }
   ],
   "source": [
    "\"\"\"Optimize sizing of microgrid using JuMP: iteration of assumed fixed lifetimes\n",
    "\n",
    "and extract results\n",
    "\n",
    "# Parameters\n",
    "- same as `optim_mg_jump`, except that\n",
    "- `fixed_lifetimes=true` is assumed, so `gen_hours_assum` is not needed\n",
    "- `gen_hours_assum_start` replaces `gen_hours_assum`\n",
    "- `lifetimes_smoothing` in [0, 1[ sets how slow lifetimes are updated. 0=no smoothing\n",
    "- `n_iter`: number of iterations (default 10)\n",
    "\n",
    "remark: initial sto_lifetime_calendar is taken from the base mg\n",
    "\n",
    "Returns:\n",
    "xalg_tab, lcoe_tab, gen_hours_assum_tab, sto_lifetime_calendar_tab,\n",
    "diagnostics, traj_alg, model_data\n",
    "\n",
    "(the last ones are from the last iteration)\n",
    "\"\"\"\n",
    "function optim_mg_iter_lifetimes(optimizer;\n",
    "        shed_max=0.0,\n",
    "        ndays=365,\n",
    "        gen_hours_assum_start = 3000,\n",
    "        lifetimes_smoothing = 0.0,\n",
    "        n_iter=10,\n",
    "        z_tan = [0.20, 0.28, 0.37, 0.50, 0.68, 1.0, 1.7, 4.0],\n",
    "        create_mg_base=create_mg_base,\n",
    "        model_custom=nothing,\n",
    "    )\n",
    "\n",
    "    xalg_tab = zeros(0,length(xalg)) # global previously computed xalg here\n",
    "    lcoe_tab = zeros(0,3)  # 1) model, 2) exact nonlinear cvx, 3) exact nonsmooth\n",
    "    gen_hours_assum_tab = zeros(n_iter,1)\n",
    "    sto_lifetime_calendar_tab = zeros(n_iter,1)\n",
    "    # Init\n",
    "    gen_hours_assum = gen_hours_assum_start # init\n",
    "    create_mg_base_iter = create_mg_base\n",
    "    sto_lifetime_calendar = create_mg_base_iter().storage.lifetime_calendar\n",
    "    local diagnostics, traj_alg, model_data\n",
    "    \n",
    "    for i in 1:n_iter\n",
    "        println(\"fixed lifetimes iteration $i: gen $gen_hours_assum h/y, sto $sto_lifetime_calendar y\")\n",
    "        # store lifetime parameters\n",
    "        gen_hours_assum_tab[i] = gen_hours_assum\n",
    "        sto_lifetime_calendar_tab[i] = sto_lifetime_calendar\n",
    "        xalg, lcoe_alg, diagnostics, traj_alg, model_data, mg_alg = optim_mg_jump(optimizer;\n",
    "            shed_max, ndays,\n",
    "            fixed_lifetimes=true,\n",
    "            gen_hours_assum,\n",
    "            relax_gain=0, # set to 0 to since it should have no effect\n",
    "            z_tan,\n",
    "            create_mg_base = create_mg_base_iter,\n",
    "            model_custom\n",
    "        )\n",
    "        # recompute exact costs (FAILS if ndays<365!)\n",
    "        _, stats, costs_cvx = simulate_alg(mg_alg, model_data,\n",
    "                                           Smoothing(transition=1.0, gain=relax_gain))\n",
    "        _, stats, costs_ns  = simulate_alg(mg_alg, model_data,\n",
    "                                           NoSmoothing)\n",
    "        \n",
    "        # store results\n",
    "        xalg_tab = [xalg_tab; xalg']\n",
    "        lcoe_tab = [lcoe_tab;\n",
    "                    lcoe_alg costs_cvx.lcoe costs_ns.lcoe]\n",
    "        \n",
    "        # correct next lifetimes\n",
    "        print(\"  gen hours/assumed: \")\n",
    "        println(diagnostics.generator.hours / gen_hours_assum)\n",
    "        gen_hours_assum = lifetimes_smoothing*gen_hours_assum +\n",
    "                          (1-lifetimes_smoothing)*diagnostics.generator.hours\n",
    "        print(\"  sto lifetime/assumed: \")\n",
    "        println(diagnostics.storage.lifetime_cycles / sto_lifetime_calendar)\n",
    "        sto_lifetime_calendar = lifetimes_smoothing*sto_lifetime_calendar +\n",
    "                                (1-lifetimes_smoothing)*diagnostics.storage.lifetime_cycles\n",
    "        create_mg_base_iter =  modify_mg_lifetimes(cal=sto_lifetime_calendar) ∘ create_mg_base\n",
    "    end\n",
    "    \n",
    "    return xalg_tab, lcoe_tab, gen_hours_assum_tab, sto_lifetime_calendar_tab,\n",
    "           diagnostics, traj_alg, model_data\n",
    "end"
   ]
  },
  {
   "cell_type": "code",
   "execution_count": 38,
   "id": "bba5aaa9-3d97-492a-9daf-46a1910b96bf",
   "metadata": {},
   "outputs": [
    {
     "name": "stdout",
     "output_type": "stream",
     "text": [
      "fixed lifetimes iteration 1: gen 3000 h/y, sto 15.0 y\n",
      "Building stage problem with 365 days...\n",
      "zero load shedding allowed\n",
      "Fixed generator lifetime hypothesis: 5.0 y, assuming 3000  h/y of usage\n",
      "  5.421952 seconds (1.64 M allocations: 115.996 MiB, 0.90% gc time)\n",
      "  gen hours/assumed: 0.6736666666666666\n",
      "  sto lifetime/assumed: 0.6044015209688236\n",
      "mg lifetime modification: cal=9.066022814532355 y, cyc unchanged\n",
      "fixed lifetimes iteration 2: gen 2021.0 h/y, sto 9.066022814532355 y\n",
      "Building stage problem with 365 days...\n",
      "zero load shedding allowed\n",
      "Fixed generator lifetime hypothesis: 7.422068283028204 y, assuming 2021.0  h/y of usage\n",
      "  5.027171 seconds (1.64 M allocations: 115.996 MiB, 1.12% gc time)\n",
      "  gen hours/assumed: 1.3028203859475507\n",
      "  sto lifetime/assumed: 0.9039071398470901\n",
      "mg lifetime modification: cal=8.194842752072407 y, cyc unchanged\n",
      "fixed lifetimes iteration 3: gen 2633.0 h/y, sto 8.194842752072407 y\n",
      "Building stage problem with 365 days...\n",
      "zero load shedding allowed\n",
      "Fixed generator lifetime hypothesis: 5.6969236612229395 y, assuming 2633.0  h/y of usage\n",
      "  4.467092 seconds (1.64 M allocations: 115.996 MiB, 0.98% gc time)\n",
      "  gen hours/assumed: 1.0394986707178124\n",
      "  sto lifetime/assumed: 0.9650912396323964\n",
      "mg lifetime modification: cal=7.908770950190118 y, cyc unchanged\n",
      "fixed lifetimes iteration 4: gen 2737.0 h/y, sto 7.908770950190118 y\n",
      "Building stage problem with 365 days...\n",
      "zero load shedding allowed\n",
      "Fixed generator lifetime hypothesis: 5.480453050785532 y, assuming 2737.0  h/y of usage\n",
      "  5.143620 seconds (1.64 M allocations: 115.996 MiB)\n",
      "  gen hours/assumed: 1.0069419071976617\n",
      "  sto lifetime/assumed: 0.9960167360878799\n",
      "mg lifetime modification: cal=7.877268228275002 y, cyc unchanged\n",
      "fixed lifetimes iteration 5: gen 2756.0 h/y, sto 7.877268228275002 y\n",
      "Building stage problem with 365 days...\n",
      "zero load shedding allowed\n",
      "Fixed generator lifetime hypothesis: 5.44267053701016 y, assuming 2756.0  h/y of usage\n",
      "  4.452710 seconds (1.64 M allocations: 115.996 MiB, 0.96% gc time)\n",
      "  gen hours/assumed: 1.0014513788098693\n",
      "  sto lifetime/assumed: 1.0000030048071855\n",
      "mg lifetime modification: cal=7.877291897947177 y, cyc unchanged\n",
      "fixed lifetimes iteration 6: gen 2760.0 h/y, sto 7.877291897947177 y\n",
      "Building stage problem with 365 days...\n",
      "zero load shedding allowed\n",
      "Fixed generator lifetime hypothesis: 5.434782608695652 y, assuming 2760.0  h/y of usage\n",
      "  5.449765 seconds (1.64 M allocations: 115.996 MiB, 6.49% gc time)\n",
      "  gen hours/assumed: 1.0\n",
      "  sto lifetime/assumed: 1.0\n",
      "mg lifetime modification: cal=7.877291897947177 y, cyc unchanged\n"
     ]
    },
    {
     "data": {
      "text/plain": [
       "6×3 Matrix{Float64}:\n",
       " 0.249383  0.252181  0.252883\n",
       " 0.250713  0.254458  0.257758\n",
       " 0.257708  0.255458  0.259242\n",
       " 0.259233  0.255573  0.259468\n",
       " 0.259467  0.255561  0.259502\n",
       " 0.259502  0.255561  0.259502"
      ]
     },
     "execution_count": 38,
     "metadata": {},
     "output_type": "execute_result"
    }
   ],
   "source": [
    "xalg_tab_fxlt, lcoe_tab_fxlt, gen_hours_assum_tab, sto_lifetime_calendar_tab, \n",
    "diagnostics, traj_alg, model_data =  optim_mg_iter_lifetimes(optimizer;\n",
    "    shed_max,\n",
    "    #ndays=20,\n",
    "    gen_hours_assum_start = 3000,\n",
    "    n_iter=6,\n",
    "    #z_tan=[0.20, 0.28, 0.37, 0.50, 0.68, 1.0, 1.7, 4.0],\n",
    "    create_mg_base=create_mg_modified,\n",
    "    #model_custom=nothing\n",
    ")\n",
    "lcoe_tab_fxlt"
   ]
  },
  {
   "cell_type": "code",
   "execution_count": 39,
   "id": "b3981ed2-6d64-44de-9107-4ca1b47d3d2d",
   "metadata": {},
   "outputs": [
    {
     "data": {
      "text/plain": [
       "6×4 Matrix{Float64}:\n",
       " 1124.46  4961.18  2620.94  1448.62\n",
       " 1204.65  3139.1   2133.18  1475.17\n",
       " 1221.08  2816.53  2109.22  1463.98\n",
       " 1226.78  2716.34  2076.3   1474.24\n",
       " 1227.37  2705.76  2072.78  1477.07\n",
       " 1227.37  2705.76  2072.78  1477.07"
      ]
     },
     "execution_count": 39,
     "metadata": {},
     "output_type": "execute_result"
    }
   ],
   "source": [
    "xalg_tab_fxlt"
   ]
  },
  {
   "cell_type": "markdown",
   "id": "6bc05147-868b-4bfc-b99a-6e87edc5e436",
   "metadata": {},
   "source": [
    "Observation: this iteration also reaches a steady state, but with a higher LCOE (259.5 €/MWh)"
   ]
  },
  {
   "cell_type": "markdown",
   "id": "87d5522e-9593-4480-b237-04694311b6d7",
   "metadata": {},
   "source": [
    "## Usage penalty approach"
   ]
  },
  {
   "cell_type": "markdown",
   "id": "7653a2df-b06a-4098-8499-4d14f50a6166",
   "metadata": {},
   "source": [
    "Model customization to penalize usage variables (instead of having the nonlinear influence of usage through annualized size)"
   ]
  },
  {
   "cell_type": "code",
   "execution_count": 40,
   "id": "2e8432c5-5ce0-4aed-a1f5-0dd98fe0c126",
   "metadata": {},
   "outputs": [
    {
     "data": {
      "text/plain": [
       "model_penalize_usage"
      ]
     },
     "execution_count": 40,
     "metadata": {},
     "output_type": "execute_result"
    }
   ],
   "source": [
    "\"\"\"penalize generator and usage in Cann\n",
    "\"\"\"\n",
    "function model_penalize_usage(md, mg)\n",
    "    println(\"Penalized usage variant\")\n",
    "    model = md[\"model\"]\n",
    "\n",
    "    # Add usage variables (not added when fixed_lifetimes=true)\n",
    "    # Generator usage:\n",
    "    @assert \"Ugen\" ∉ keys(md) \"Ugen shouldn't have been defined. Make sure fixed_lifetimes=true\"\n",
    "    md[\"Ugen\"] = @variable(model, Ugen >= 0) # cumulated usage\n",
    "    @constraint(model, Ugen == md[\"Egen\"]*relax_gain/mg.generator.lifetime_hours); # kW/y\n",
    "    # Storage usage\n",
    "    @assert \"Usto\" ∉ keys(md) \"Usto shouldn't have been defined. Make sure fixed_lifetimes=true\"\n",
    "    md[\"Usto\"] = @variable(model, Usto >= 0) # cumulated usage\n",
    "    @constraint(model, Usto == md[\"E_through_sto\"]/(2*mg.storage.lifetime_cycles))\n",
    "    \n",
    "    # overwrite cost function with penalties\n",
    "    md[\"Ugen_penal\"] = Ugen_penal = mg.generator.investment_price * Ugen\n",
    "    md[\"Usto_penal\"] = Usto_penal = mg.storage.investment_price * Usto\n",
    "    \n",
    "    md[\"Cann_penal\"] = Cann_penal = md[\"Cann\"] + Ugen_penal + Usto_penal\n",
    "    @objective(model, Min, Cann_penal)\n",
    "end"
   ]
  },
  {
   "cell_type": "code",
   "execution_count": 41,
   "id": "e23b7151-5c4a-489b-84c4-5ecbf8b9c1a7",
   "metadata": {},
   "outputs": [
    {
     "name": "stdout",
     "output_type": "stream",
     "text": [
      "Building stage problem with 365 days...\n",
      "zero load shedding allowed\n",
      "Fixed generator lifetime hypothesis: 5.0 y, assuming 3000.0  h/y of usage\n",
      "Penalized usage variant\n",
      "  6.356799 seconds (1.64 M allocations: 117.502 MiB, 0.83% gc time)\n",
      "LCOE: 256.087752129 €/MWh (wrong)"
     ]
    }
   ],
   "source": [
    "x_penal, lcoe_penal, diagnostics, traj_penal, model_data = optim_mg_jump(optimizer;\n",
    "    shed_max,\n",
    "    #ndays=30,\n",
    "    fixed_lifetimes=true,\n",
    "    #gen_hours_assum = 3000.,\n",
    "    relax_gain,\n",
    "    create_mg_base = create_mg_modified,\n",
    "    model_custom = model_penalize_usage\n",
    ")\n",
    "@printf(\"LCOE: %.9f €/MWh (wrong)\", lcoe_penal*1000)"
   ]
  },
  {
   "cell_type": "markdown",
   "id": "5255accb-ff62-4e99-b458-b49d1a52709f",
   "metadata": {},
   "source": [
    "Amount of penalties: +10% (not counted in LCOE!)"
   ]
  },
  {
   "cell_type": "code",
   "execution_count": 42,
   "id": "cf30d0c8-83d7-4cab-b897-32f5aaf19fb9",
   "metadata": {},
   "outputs": [
    {
     "data": {
      "text/plain": [
       "1.0967920295542388"
      ]
     },
     "execution_count": 42,
     "metadata": {},
     "output_type": "execute_result"
    }
   ],
   "source": [
    "value(model_data[\"Cann_penal\"])/value(model_data[\"Cann\"])"
   ]
  },
  {
   "cell_type": "markdown",
   "id": "67335ca4-c3e9-42ba-9805-7c1939f4d750",
   "metadata": {},
   "source": [
    "Sizing with usage penaly vs fixed lt vs base sizing\n",
    "- even smaller battery"
   ]
  },
  {
   "cell_type": "code",
   "execution_count": 43,
   "id": "0b277f68-3ce9-47a6-95e8-afded1d412c5",
   "metadata": {},
   "outputs": [
    {
     "data": {
      "text/plain": [
       "4×3 Matrix{Float64}:\n",
       " 1261.5  1226.0  1255.5\n",
       " 2106.0  2730.2  5837.3\n",
       " 1729.7  2080.9  2329.5\n",
       " 1648.8  1470.5  1596.1"
      ]
     },
     "execution_count": 43,
     "metadata": {},
     "output_type": "execute_result"
    }
   ],
   "source": [
    "round.([x_penal x_fxlt xalg]; digits=1) # optimal sizing"
   ]
  },
  {
   "cell_type": "code",
   "execution_count": 44,
   "id": "6baac108-9059-4c13-8e86-d6c7bb22a311",
   "metadata": {},
   "outputs": [
    {
     "name": "stdout",
     "output_type": "stream",
     "text": [
      "Generator diagnostics:\n",
      "- cost_share: 0.511087327435998\n",
      "- cost_share_fuel: 0.40028634239898825\n",
      "- energy: 1.44685928768005e6\n",
      "- load_share: 0.21355922840204375\n",
      "- hours: 2851.0\n",
      "- hours_lin: 2293.8876767509573\n",
      "- lifetime: 5.26131182041389\n",
      "- lifetime_hlin: 6.539117042228446\n",
      "- CRF: 0.22084810738289018\n",
      "- CRF_hlin: 0.18304500651599442\n",
      "- CRF_hlin_pwl: 0.23097479812826793\n",
      "\n",
      "Storage diagnostics:\n",
      "- cost_share: 0.05306956234796433\n",
      "- energy_through: 778005.3575405942\n",
      "- load_share: 0.05741754753340152\n",
      "- cycles: 184.7091873603728\n",
      "- lifetime_cycles: 8.120873798624093\n",
      "- lifetime: 8.120873798624093\n",
      "- CRF: 0.1528395203955612\n",
      "- CRF_pwl: 0.09634228760924432\n"
     ]
    }
   ],
   "source": [
    "pprint(diagnostics.generator, \"Generator diagnostics\")\n",
    "println()\n",
    "pprint(diagnostics.storage, \"Storage diagnostics\")"
   ]
  },
  {
   "cell_type": "markdown",
   "id": "87d8565d-3e41-4ecb-bec7-17b94d147713",
   "metadata": {},
   "source": [
    "### Case when storage cycle life is not active\n",
    "\n",
    "by setting calendar lifetime to 10 year (while the optimum is 10.x years)\n",
    "\n",
    "\n",
    "#### Our method:\n",
    "\n",
    "makes the best use of those 10 years, with T_cycle = 9.99 years !"
   ]
  },
  {
   "cell_type": "code",
   "execution_count": 45,
   "id": "580e7684-caef-490d-a6e7-aabef6aef0c1",
   "metadata": {},
   "outputs": [
    {
     "name": "stdout",
     "output_type": "stream",
     "text": [
      "mg lifetime modification: cal=10 y, cyc unchanged\n",
      "Building stage problem with 365 days...\n",
      "zero load shedding allowed\n",
      "Usage-dependent generator lifetime model (relax_gain=2.0)\n",
      "Xann constraints with z_tan=[0.2, 0.28, 0.37, 0.5, 0.68, 1.0, 1.7, 4.0]\n",
      " 15.307704 seconds (1.65 M allocations: 117.648 MiB, 0.63% gc time)\n",
      "LCOE: 250.492323824 €/MWh"
     ]
    }
   ],
   "source": [
    "create_mg_modified_cal10y = modify_mg_lifetimes(cal=10) ∘ create_mg_modified\n",
    "\n",
    "x_alg10y, lcoe_alg10y, diagnostics, traj_alg10y, model_data = optim_mg_jump(optimizer;\n",
    "    shed_max,\n",
    "    #ndays=10,\n",
    "    relax_gain,\n",
    "    create_mg_base = create_mg_modified_cal10y,\n",
    ")\n",
    "@printf(\"LCOE: %.9f €/MWh\", lcoe_alg10y*1000)"
   ]
  },
  {
   "cell_type": "markdown",
   "id": "90e859e1-546a-4e2b-8691-e34cfb6e3207",
   "metadata": {},
   "source": [
    "Sizing vs base sizing"
   ]
  },
  {
   "cell_type": "code",
   "execution_count": 46,
   "id": "b253a439-5cea-4f62-b1e1-f1f6a6ca4423",
   "metadata": {},
   "outputs": [
    {
     "data": {
      "text/plain": [
       "4×2 Matrix{Float64}:\n",
       " 1184.4  1255.5\n",
       " 5131.2  5837.3\n",
       " 2296.4  2329.5\n",
       " 1584.0  1596.1"
      ]
     },
     "execution_count": 46,
     "metadata": {},
     "output_type": "execute_result"
    }
   ],
   "source": [
    "round.([x_alg10y xalg]; digits=1) # optimal sizing"
   ]
  },
  {
   "cell_type": "markdown",
   "id": "609b374a-b914-45a6-a863-5aaecaec5f48",
   "metadata": {},
   "source": [
    "Observation: T_cycle = 9.99 years !"
   ]
  },
  {
   "cell_type": "code",
   "execution_count": 47,
   "id": "ee914ebb-6561-4fb3-995f-062c007fe817",
   "metadata": {},
   "outputs": [
    {
     "name": "stdout",
     "output_type": "stream",
     "text": [
      "Storage diagnostics:\n",
      "- cost_share: 0.16728362196577656\n",
      "- energy_through: 1.5406589676988088e6\n",
      "- load_share: 0.11370212126847985\n",
      "- cycles: 150.1255855113518\n",
      "- lifetime_cycles: 9.991634636366344\n",
      "- lifetime: 9.991634636366344\n",
      "- CRF: 0.12958869413255772\n",
      "- CRF_pwl: 0.12950457496545661\n"
     ]
    }
   ],
   "source": [
    "pprint(diagnostics.storage, \"Storage diagnostics\")"
   ]
  },
  {
   "cell_type": "markdown",
   "id": "5a02c6bf-c625-4c42-9f64-67dfc5ffe694",
   "metadata": {},
   "source": [
    "--- \n",
    "\n",
    "## Rerun all experiments\n",
    "\n",
    "saved in `df_params`\n",
    "\n",
    "\n",
    "CSV.write(\"df_$n_exp.csv\", df)Save experiments in CSV table"
   ]
  },
  {
   "cell_type": "code",
   "execution_count": 48,
   "id": "7e7bada9-b9c9-4f28-aa56-8c4f7dc6124d",
   "metadata": {},
   "outputs": [
    {
     "data": {
      "text/html": [
       "<div><div style = \"float: left;\"><span>6×9 DataFrame</span></div><div style = \"clear: both;\"></div></div><div class = \"data-frame\" style = \"overflow-x: scroll;\"><table class = \"data-frame\" style = \"margin-bottom: 6px;\"><thead><tr class = \"header\"><th class = \"rowNumber\" style = \"font-weight: bold; text-align: right;\">Row</th><th style = \"text-align: left;\">case</th><th style = \"text-align: left;\">shed_max</th><th style = \"text-align: left;\">fuel_price</th><th style = \"text-align: left;\">sto_lifetime_cycles</th><th style = \"text-align: left;\">sto_lifetime_calendar</th><th style = \"text-align: left;\">fixed_lifetimes</th><th style = \"text-align: left;\">gen_hours_assum</th><th style = \"text-align: left;\">n_ztan</th><th style = \"text-align: left;\">relax_gain</th></tr><tr class = \"subheader headerLastRow\"><th class = \"rowNumber\" style = \"font-weight: bold; text-align: right;\"></th><th title = \"String\" style = \"text-align: left;\">String</th><th title = \"Float64\" style = \"text-align: left;\">Float64</th><th title = \"Float64\" style = \"text-align: left;\">Float64</th><th title = \"Float64\" style = \"text-align: left;\">Float64</th><th title = \"Float64\" style = \"text-align: left;\">Float64</th><th title = \"Bool\" style = \"text-align: left;\">Bool</th><th title = \"Float64\" style = \"text-align: left;\">Float64</th><th title = \"Int64\" style = \"text-align: left;\">Int64</th><th title = \"Float64\" style = \"text-align: left;\">Float64</th></tr></thead><tbody><tr><td class = \"rowNumber\" style = \"font-weight: bold; text-align: right;\">1</td><td style = \"text-align: left;\">Base case, rgain=1</td><td style = \"text-align: right;\">0.0</td><td style = \"text-align: right;\">2.0</td><td style = \"text-align: right;\">1500.0</td><td style = \"text-align: right;\">15.0</td><td style = \"text-align: right;\">false</td><td style = \"text-align: right;\">NaN</td><td style = \"text-align: right;\">10</td><td style = \"text-align: right;\">1.0</td></tr><tr><td class = \"rowNumber\" style = \"font-weight: bold; text-align: right;\">2</td><td style = \"text-align: left;\">Base case, rgain=2</td><td style = \"text-align: right;\">0.0</td><td style = \"text-align: right;\">2.0</td><td style = \"text-align: right;\">1500.0</td><td style = \"text-align: right;\">15.0</td><td style = \"text-align: right;\">false</td><td style = \"text-align: right;\">NaN</td><td style = \"text-align: right;\">10</td><td style = \"text-align: right;\">2.0</td></tr><tr><td class = \"rowNumber\" style = \"font-weight: bold; text-align: right;\">3</td><td style = \"text-align: left;\">Less tangents, n_ztan=2</td><td style = \"text-align: right;\">0.0</td><td style = \"text-align: right;\">2.0</td><td style = \"text-align: right;\">1500.0</td><td style = \"text-align: right;\">15.0</td><td style = \"text-align: right;\">false</td><td style = \"text-align: right;\">NaN</td><td style = \"text-align: right;\">2</td><td style = \"text-align: right;\">2.0</td></tr><tr><td class = \"rowNumber\" style = \"font-weight: bold; text-align: right;\">4</td><td style = \"text-align: left;\">Less tangents, n_ztan=3</td><td style = \"text-align: right;\">0.0</td><td style = \"text-align: right;\">2.0</td><td style = \"text-align: right;\">1500.0</td><td style = \"text-align: right;\">15.0</td><td style = \"text-align: right;\">false</td><td style = \"text-align: right;\">NaN</td><td style = \"text-align: right;\">3</td><td style = \"text-align: right;\">2.0</td></tr><tr><td class = \"rowNumber\" style = \"font-weight: bold; text-align: right;\">5</td><td style = \"text-align: left;\">Less tangents, n_ztan=5</td><td style = \"text-align: right;\">0.0</td><td style = \"text-align: right;\">2.0</td><td style = \"text-align: right;\">1500.0</td><td style = \"text-align: right;\">15.0</td><td style = \"text-align: right;\">false</td><td style = \"text-align: right;\">NaN</td><td style = \"text-align: right;\">5</td><td style = \"text-align: right;\">2.0</td></tr><tr><td class = \"rowNumber\" style = \"font-weight: bold; text-align: right;\">6</td><td style = \"text-align: left;\">Relax gain convergence</td><td style = \"text-align: right;\">0.0</td><td style = \"text-align: right;\">2.0</td><td style = \"text-align: right;\">1500.0</td><td style = \"text-align: right;\">15.0</td><td style = \"text-align: right;\">false</td><td style = \"text-align: right;\">NaN</td><td style = \"text-align: right;\">10</td><td style = \"text-align: right;\">2.26598</td></tr></tbody></table></div>"
      ],
      "text/latex": [
       "\\begin{tabular}{r|cccccc}\n",
       "\t& case & shed\\_max & fuel\\_price & sto\\_lifetime\\_cycles & sto\\_lifetime\\_calendar & \\\\\n",
       "\t\\hline\n",
       "\t& String & Float64 & Float64 & Float64 & Float64 & \\\\\n",
       "\t\\hline\n",
       "\t1 & Base case, rgain=1 & 0.0 & 2.0 & 1500.0 & 15.0 & $\\dots$ \\\\\n",
       "\t2 & Base case, rgain=2 & 0.0 & 2.0 & 1500.0 & 15.0 & $\\dots$ \\\\\n",
       "\t3 & Less tangents, n\\_ztan=2 & 0.0 & 2.0 & 1500.0 & 15.0 & $\\dots$ \\\\\n",
       "\t4 & Less tangents, n\\_ztan=3 & 0.0 & 2.0 & 1500.0 & 15.0 & $\\dots$ \\\\\n",
       "\t5 & Less tangents, n\\_ztan=5 & 0.0 & 2.0 & 1500.0 & 15.0 & $\\dots$ \\\\\n",
       "\t6 & Relax gain convergence & 0.0 & 2.0 & 1500.0 & 15.0 & $\\dots$ \\\\\n",
       "\\end{tabular}\n"
      ],
      "text/plain": [
       "\u001b[1m6×9 DataFrame\u001b[0m\n",
       "\u001b[1m Row \u001b[0m│\u001b[1m case                    \u001b[0m\u001b[1m shed_max \u001b[0m\u001b[1m fuel_price \u001b[0m\u001b[1m sto_lifetime_cycles \u001b[0m\u001b[1m sto\u001b[0m ⋯\n",
       "     │\u001b[90m String                  \u001b[0m\u001b[90m Float64  \u001b[0m\u001b[90m Float64    \u001b[0m\u001b[90m Float64             \u001b[0m\u001b[90m Flo\u001b[0m ⋯\n",
       "─────┼──────────────────────────────────────────────────────────────────────────\n",
       "   1 │ Base case, rgain=1            0.0         2.0               1500.0      ⋯\n",
       "   2 │ Base case, rgain=2            0.0         2.0               1500.0\n",
       "   3 │ Less tangents, n_ztan=2       0.0         2.0               1500.0\n",
       "   4 │ Less tangents, n_ztan=3       0.0         2.0               1500.0\n",
       "   5 │ Less tangents, n_ztan=5       0.0         2.0               1500.0      ⋯\n",
       "   6 │ Relax gain convergence        0.0         2.0               1500.0\n",
       "\u001b[36m                                                               5 columns omitted\u001b[0m"
      ]
     },
     "execution_count": 48,
     "metadata": {},
     "output_type": "execute_result"
    }
   ],
   "source": [
    "df_params"
   ]
  },
  {
   "cell_type": "code",
   "execution_count": 49,
   "id": "c62a6491-78b7-4846-ba82-bb1936281238",
   "metadata": {},
   "outputs": [
    {
     "name": "stdout",
     "output_type": "stream",
     "text": [
      "---\n",
      "Processing case Base case, rgain=1\n",
      "mg prices modifications: sto*=1.0, gen*=1.0, fuel*=2.0\n",
      "mg lifetime modification: cal=15.0 y, cyc=1500.0 c\n",
      "Building stage problem with 365 days...\n",
      "zero load shedding allowed\n",
      "Usage-dependent generator lifetime model (relax_gain=1.0)\n",
      "Xann constraints with z_tan=[0.2, 0.28, 0.37, 0.5, 0.68, 1.0, 1.7, 4.0]\n",
      " 12.191913 seconds (1.65 M allocations: 117.648 MiB, 0.39% gc time)\n",
      "---\n",
      "Processing case Base case, rgain=2\n",
      "mg prices modifications: sto*=1.0, gen*=1.0, fuel*=2.0\n",
      "mg lifetime modification: cal=15.0 y, cyc=1500.0 c\n",
      "Building stage problem with 365 days...\n",
      "zero load shedding allowed\n",
      "Usage-dependent generator lifetime model (relax_gain=2.0)\n",
      "Xann constraints with z_tan=[0.2, 0.28, 0.37, 0.5, 0.68, 1.0, 1.7, 4.0]\n",
      " 13.461145 seconds (1.65 M allocations: 117.648 MiB, 0.57% gc time)\n",
      "---\n",
      "Processing case Less tangents, n_ztan=2\n",
      "mg prices modifications: sto*=1.0, gen*=1.0, fuel*=2.0\n",
      "mg lifetime modification: cal=15.0 y, cyc=1500.0 c\n",
      "Building stage problem with 365 days...\n",
      "zero load shedding allowed\n",
      "Usage-dependent generator lifetime model (relax_gain=2.0)\n",
      "Xann constraints with z_tan=Any[]\n",
      " 11.082399 seconds (1.65 M allocations: 117.637 MiB, 0.31% gc time)\n",
      "---\n",
      "Processing case Less tangents, n_ztan=3\n",
      "mg prices modifications: sto*=1.0, gen*=1.0, fuel*=2.0\n",
      "mg lifetime modification: cal=15.0 y, cyc=1500.0 c\n",
      "Building stage problem with 365 days...\n",
      "zero load shedding allowed\n",
      "Usage-dependent generator lifetime model (relax_gain=2.0)\n",
      "Xann constraints with z_tan=[0.5]\n",
      " 11.206048 seconds (1.65 M allocations: 117.639 MiB, 3.23% gc time)\n",
      "---\n",
      "Processing case Less tangents, n_ztan=5\n",
      "mg prices modifications: sto*=1.0, gen*=1.0, fuel*=2.0\n",
      "mg lifetime modification: cal=15.0 y, cyc=1500.0 c\n",
      "Building stage problem with 365 days...\n",
      "zero load shedding allowed\n",
      "Usage-dependent generator lifetime model (relax_gain=2.0)\n",
      "Xann constraints with z_tan=[0.28, 0.5, 1.0]\n",
      " 10.816623 seconds (1.65 M allocations: 117.641 MiB, 0.25% gc time)\n",
      "---\n",
      "Processing case Relax gain convergence\n",
      "mg prices modifications: sto*=1.0, gen*=1.0, fuel*=2.0\n",
      "mg lifetime modification: cal=15.0 y, cyc=1500.0 c\n",
      "Building stage problem with 365 days...\n",
      "zero load shedding allowed\n",
      "Usage-dependent generator lifetime model (relax_gain=2.2659846854120627)\n",
      "Xann constraints with z_tan=[0.2, 0.28, 0.37, 0.5, 0.68, 1.0, 1.7, 4.0]\n",
      " 10.962733 seconds (1.65 M allocations: 117.648 MiB, 0.43% gc time)\n"
     ]
    }
   ],
   "source": [
    "for row in eachrow(df_params)\n",
    "    println(\"---\")\n",
    "    println(\"Processing case \", row.case)\n",
    "    \n",
    "    create_mg_iter = modify_mg_prices(fuel=row.fuel_price) ∘\n",
    "        modify_mg_lifetimes(cyc=row.sto_lifetime_cycles, cal=row.sto_lifetime_calendar) ∘\n",
    "        create_mg_modified\n",
    "\n",
    "    if row.n_ztan == 2\n",
    "        z_tan_iter = []\n",
    "    elseif row.n_ztan == 3\n",
    "        z_tan_iter = [0.50]\n",
    "    elseif row.n_ztan == 5\n",
    "        z_tan_iter = [0.28, 0.5, 1.0]\n",
    "    elseif row.n_ztan == 10\n",
    "        z_tan_iter = [0.20, 0.28, 0.37, 0.50, 0.68, 1.0, 1.7, 4.0]\n",
    "    end\n",
    "    \n",
    "    topt = @elapsed xalg, lcoe_alg, diagnostics, traj_alg, model_data, mg_alg = optim_mg_jump(optimizer;\n",
    "        row.shed_max,\n",
    "        fixed_lifetimes=row.fixed_lifetimes,\n",
    "        gen_hours_assum = row.gen_hours_assum,\n",
    "        relax_gain = row.relax_gain,\n",
    "        z_tan=z_tan_iter,\n",
    "        create_mg_base = create_mg_modified,\n",
    "        #model_custom\n",
    "    )\n",
    "    # recompute exact costs\n",
    "    _, stats, costs_cvx = simulate_alg(mg_alg, model_data,\n",
    "                                       Smoothing(transition=1.0, gain=relax_gain))\n",
    "    _, stats, costs_ns  = simulate_alg(mg_alg, model_data,\n",
    "                                       NoSmoothing)\n",
    "\n",
    "    p = (\n",
    "        lcoe_alg, costs_cvx.lcoe, costs_ns.lcoe,\n",
    "        diagnostics.storage.cycles,\n",
    "        diagnostics.generator.hours,\n",
    "        diagnostics.generator.hours_lin,\n",
    "        xalg[1], xalg[2], xalg[3], xalg[4],\n",
    "        topt\n",
    "    )\n",
    "    push!(df_results, p) \n",
    "end"
   ]
  },
  {
   "cell_type": "code",
   "execution_count": 50,
   "id": "95fdff0e-ae41-4f36-80df-d3ccddbe5724",
   "metadata": {},
   "outputs": [
    {
     "data": {
      "text/html": [
       "<div><div style = \"float: left;\"><span>6×11 DataFrame</span></div><div style = \"clear: both;\"></div></div><div class = \"data-frame\" style = \"overflow-x: scroll;\"><table class = \"data-frame\" style = \"margin-bottom: 6px;\"><thead><tr class = \"header\"><th class = \"rowNumber\" style = \"font-weight: bold; text-align: right;\">Row</th><th style = \"text-align: left;\">lcoe_pwl</th><th style = \"text-align: left;\">lcoe_cvx</th><th style = \"text-align: left;\">lcoe_ns</th><th style = \"text-align: left;\">sto_cycles</th><th style = \"text-align: left;\">gen_hours</th><th style = \"text-align: left;\">gen_hours_lin</th><th style = \"text-align: left;\">xopt_gen</th><th style = \"text-align: left;\">xopt_sto</th><th style = \"text-align: left;\">xopt_pv</th><th style = \"text-align: left;\">xopt_wind</th><th style = \"text-align: left;\">topt</th></tr><tr class = \"subheader headerLastRow\"><th class = \"rowNumber\" style = \"font-weight: bold; text-align: right;\"></th><th title = \"Float64\" style = \"text-align: left;\">Float64</th><th title = \"Float64\" style = \"text-align: left;\">Float64</th><th title = \"Float64\" style = \"text-align: left;\">Float64</th><th title = \"Float64\" style = \"text-align: left;\">Float64</th><th title = \"Float64\" style = \"text-align: left;\">Float64</th><th title = \"Float64\" style = \"text-align: left;\">Float64</th><th title = \"Float64\" style = \"text-align: left;\">Float64</th><th title = \"Float64\" style = \"text-align: left;\">Float64</th><th title = \"Float64\" style = \"text-align: left;\">Float64</th><th title = \"Float64\" style = \"text-align: left;\">Float64</th><th title = \"Float64\" style = \"text-align: left;\">Float64</th></tr></thead><tbody><tr><td class = \"rowNumber\" style = \"font-weight: bold; text-align: right;\">1</td><td style = \"text-align: right;\">0.243024</td><td style = \"text-align: right;\">0.250707</td><td style = \"text-align: right;\">0.252907</td><td style = \"text-align: right;\">147.761</td><td style = \"text-align: right;\">2090.0</td><td style = \"text-align: right;\">914.628</td><td style = \"text-align: right;\">1215.98</td><td style = \"text-align: right;\">4987.93</td><td style = \"text-align: right;\">2132.0</td><td style = \"text-align: right;\">1575.9</td><td style = \"text-align: right;\">12.813</td></tr><tr><td class = \"rowNumber\" style = \"font-weight: bold; text-align: right;\">2</td><td style = \"text-align: right;\">0.250239</td><td style = \"text-align: right;\">0.25026</td><td style = \"text-align: right;\">0.252218</td><td style = \"text-align: right;\">140.357</td><td style = \"text-align: right;\">1809.0</td><td style = \"text-align: right;\">1583.71</td><td style = \"text-align: right;\">1255.46</td><td style = \"text-align: right;\">5837.33</td><td style = \"text-align: right;\">2329.52</td><td style = \"text-align: right;\">1596.12</td><td style = \"text-align: right;\">13.7323</td></tr><tr><td class = \"rowNumber\" style = \"font-weight: bold; text-align: right;\">3</td><td style = \"text-align: right;\">0.249423</td><td style = \"text-align: right;\">0.250284</td><td style = \"text-align: right;\">0.251948</td><td style = \"text-align: right;\">136.478</td><td style = \"text-align: right;\">1736.0</td><td style = \"text-align: right;\">1542.98</td><td style = \"text-align: right;\">1246.01</td><td style = \"text-align: right;\">6231.3</td><td style = \"text-align: right;\">2371.4</td><td style = \"text-align: right;\">1594.56</td><td style = \"text-align: right;\">11.3464</td></tr><tr><td class = \"rowNumber\" style = \"font-weight: bold; text-align: right;\">4</td><td style = \"text-align: right;\">0.249423</td><td style = \"text-align: right;\">0.250284</td><td style = \"text-align: right;\">0.251888</td><td style = \"text-align: right;\">136.478</td><td style = \"text-align: right;\">1729.0</td><td style = \"text-align: right;\">1542.98</td><td style = \"text-align: right;\">1246.01</td><td style = \"text-align: right;\">6231.3</td><td style = \"text-align: right;\">2371.4</td><td style = \"text-align: right;\">1594.56</td><td style = \"text-align: right;\">11.5794</td></tr><tr><td class = \"rowNumber\" style = \"font-weight: bold; text-align: right;\">5</td><td style = \"text-align: right;\">0.249601</td><td style = \"text-align: right;\">0.250268</td><td style = \"text-align: right;\">0.252148</td><td style = \"text-align: right;\">140.747</td><td style = \"text-align: right;\">1788.0</td><td style = \"text-align: right;\">1571.41</td><td style = \"text-align: right;\">1254.02</td><td style = \"text-align: right;\">5899.52</td><td style = \"text-align: right;\">2368.49</td><td style = \"text-align: right;\">1588.12</td><td style = \"text-align: right;\">11.069</td></tr><tr><td class = \"rowNumber\" style = \"font-weight: bold; text-align: right;\">6</td><td style = \"text-align: right;\">0.252019</td><td style = \"text-align: right;\">0.250275</td><td style = \"text-align: right;\">0.252048</td><td style = \"text-align: right;\">138.456</td><td style = \"text-align: right;\">1746.0</td><td style = \"text-align: right;\">1746.0</td><td style = \"text-align: right;\">1250.18</td><td style = \"text-align: right;\">6046.1</td><td style = \"text-align: right;\">2378.02</td><td style = \"text-align: right;\">1608.66</td><td style = \"text-align: right;\">11.5383</td></tr></tbody></table></div>"
      ],
      "text/latex": [
       "\\begin{tabular}{r|ccccccccc}\n",
       "\t& lcoe\\_pwl & lcoe\\_cvx & lcoe\\_ns & sto\\_cycles & gen\\_hours & gen\\_hours\\_lin & xopt\\_gen & xopt\\_sto & \\\\\n",
       "\t\\hline\n",
       "\t& Float64 & Float64 & Float64 & Float64 & Float64 & Float64 & Float64 & Float64 & \\\\\n",
       "\t\\hline\n",
       "\t1 & 0.243024 & 0.250707 & 0.252907 & 147.761 & 2090.0 & 914.628 & 1215.98 & 4987.93 & $\\dots$ \\\\\n",
       "\t2 & 0.250239 & 0.25026 & 0.252218 & 140.357 & 1809.0 & 1583.71 & 1255.46 & 5837.33 & $\\dots$ \\\\\n",
       "\t3 & 0.249423 & 0.250284 & 0.251948 & 136.478 & 1736.0 & 1542.98 & 1246.01 & 6231.3 & $\\dots$ \\\\\n",
       "\t4 & 0.249423 & 0.250284 & 0.251888 & 136.478 & 1729.0 & 1542.98 & 1246.01 & 6231.3 & $\\dots$ \\\\\n",
       "\t5 & 0.249601 & 0.250268 & 0.252148 & 140.747 & 1788.0 & 1571.41 & 1254.02 & 5899.52 & $\\dots$ \\\\\n",
       "\t6 & 0.252019 & 0.250275 & 0.252048 & 138.456 & 1746.0 & 1746.0 & 1250.18 & 6046.1 & $\\dots$ \\\\\n",
       "\\end{tabular}\n"
      ],
      "text/plain": [
       "\u001b[1m6×11 DataFrame\u001b[0m\n",
       "\u001b[1m Row \u001b[0m│\u001b[1m lcoe_pwl \u001b[0m\u001b[1m lcoe_cvx \u001b[0m\u001b[1m lcoe_ns  \u001b[0m\u001b[1m sto_cycles \u001b[0m\u001b[1m gen_hours \u001b[0m\u001b[1m gen_hours_lin \u001b[0m\u001b[1m xop\u001b[0m ⋯\n",
       "     │\u001b[90m Float64  \u001b[0m\u001b[90m Float64  \u001b[0m\u001b[90m Float64  \u001b[0m\u001b[90m Float64    \u001b[0m\u001b[90m Float64   \u001b[0m\u001b[90m Float64       \u001b[0m\u001b[90m Flo\u001b[0m ⋯\n",
       "─────┼──────────────────────────────────────────────────────────────────────────\n",
       "   1 │ 0.243024  0.250707  0.252907     147.761     2090.0        914.628   12 ⋯\n",
       "   2 │ 0.250239  0.25026   0.252218     140.357     1809.0       1583.71    12\n",
       "   3 │ 0.249423  0.250284  0.251948     136.478     1736.0       1542.98    12\n",
       "   4 │ 0.249423  0.250284  0.251888     136.478     1729.0       1542.98    12\n",
       "   5 │ 0.249601  0.250268  0.252148     140.747     1788.0       1571.41    12 ⋯\n",
       "   6 │ 0.252019  0.250275  0.252048     138.456     1746.0       1746.0     12\n",
       "\u001b[36m                                                               5 columns omitted\u001b[0m"
      ]
     },
     "execution_count": 50,
     "metadata": {},
     "output_type": "execute_result"
    }
   ],
   "source": [
    "df_results"
   ]
  },
  {
   "cell_type": "code",
   "execution_count": 51,
   "id": "f7b3d3a0-a06f-42e0-9900-b2bdf23947d0",
   "metadata": {},
   "outputs": [
    {
     "data": {
      "text/html": [
       "<div><div style = \"float: left;\"><span>6×20 DataFrame</span></div><div style = \"clear: both;\"></div></div><div class = \"data-frame\" style = \"overflow-x: scroll;\"><table class = \"data-frame\" style = \"margin-bottom: 6px;\"><thead><tr class = \"header\"><th class = \"rowNumber\" style = \"font-weight: bold; text-align: right;\">Row</th><th style = \"text-align: left;\">case</th><th style = \"text-align: left;\">shed_max</th><th style = \"text-align: left;\">fuel_price</th><th style = \"text-align: left;\">sto_lifetime_cycles</th><th style = \"text-align: left;\">sto_lifetime_calendar</th><th style = \"text-align: left;\">fixed_lifetimes</th><th style = \"text-align: left;\">gen_hours_assum</th><th style = \"text-align: left;\">n_ztan</th><th style = \"text-align: left;\">relax_gain</th><th style = \"text-align: left;\">lcoe_pwl</th><th style = \"text-align: left;\">lcoe_cvx</th><th style = \"text-align: left;\">lcoe_ns</th><th style = \"text-align: left;\">sto_cycles</th><th style = \"text-align: left;\">gen_hours</th><th style = \"text-align: left;\">gen_hours_lin</th><th style = \"text-align: left;\">xopt_gen</th><th style = \"text-align: left;\">xopt_sto</th><th style = \"text-align: left;\">xopt_pv</th><th style = \"text-align: left;\">xopt_wind</th><th style = \"text-align: left;\">topt</th></tr><tr class = \"subheader headerLastRow\"><th class = \"rowNumber\" style = \"font-weight: bold; text-align: right;\"></th><th title = \"String\" style = \"text-align: left;\">String</th><th title = \"Float64\" style = \"text-align: left;\">Float64</th><th title = \"Float64\" style = \"text-align: left;\">Float64</th><th title = \"Float64\" style = \"text-align: left;\">Float64</th><th title = \"Float64\" style = \"text-align: left;\">Float64</th><th title = \"Bool\" style = \"text-align: left;\">Bool</th><th title = \"Float64\" style = \"text-align: left;\">Float64</th><th title = \"Int64\" style = \"text-align: left;\">Int64</th><th title = \"Float64\" style = \"text-align: left;\">Float64</th><th title = \"Float64\" style = \"text-align: left;\">Float64</th><th title = \"Float64\" style = \"text-align: left;\">Float64</th><th title = \"Float64\" style = \"text-align: left;\">Float64</th><th title = \"Float64\" style = \"text-align: left;\">Float64</th><th title = \"Float64\" style = \"text-align: left;\">Float64</th><th title = \"Float64\" style = \"text-align: left;\">Float64</th><th title = \"Float64\" style = \"text-align: left;\">Float64</th><th title = \"Float64\" style = \"text-align: left;\">Float64</th><th title = \"Float64\" style = \"text-align: left;\">Float64</th><th title = \"Float64\" style = \"text-align: left;\">Float64</th><th title = \"Float64\" style = \"text-align: left;\">Float64</th></tr></thead><tbody><tr><td class = \"rowNumber\" style = \"font-weight: bold; text-align: right;\">1</td><td style = \"text-align: left;\">Base case, rgain=1</td><td style = \"text-align: right;\">0.0</td><td style = \"text-align: right;\">2.0</td><td style = \"text-align: right;\">1500.0</td><td style = \"text-align: right;\">15.0</td><td style = \"text-align: right;\">false</td><td style = \"text-align: right;\">NaN</td><td style = \"text-align: right;\">10</td><td style = \"text-align: right;\">1.0</td><td style = \"text-align: right;\">0.243024</td><td style = \"text-align: right;\">0.250707</td><td style = \"text-align: right;\">0.252907</td><td style = \"text-align: right;\">147.761</td><td style = \"text-align: right;\">2090.0</td><td style = \"text-align: right;\">914.628</td><td style = \"text-align: right;\">1215.98</td><td style = \"text-align: right;\">4987.93</td><td style = \"text-align: right;\">2132.0</td><td style = \"text-align: right;\">1575.9</td><td style = \"text-align: right;\">12.813</td></tr><tr><td class = \"rowNumber\" style = \"font-weight: bold; text-align: right;\">2</td><td style = \"text-align: left;\">Base case, rgain=2</td><td style = \"text-align: right;\">0.0</td><td style = \"text-align: right;\">2.0</td><td style = \"text-align: right;\">1500.0</td><td style = \"text-align: right;\">15.0</td><td style = \"text-align: right;\">false</td><td style = \"text-align: right;\">NaN</td><td style = \"text-align: right;\">10</td><td style = \"text-align: right;\">2.0</td><td style = \"text-align: right;\">0.250239</td><td style = \"text-align: right;\">0.25026</td><td style = \"text-align: right;\">0.252218</td><td style = \"text-align: right;\">140.357</td><td style = \"text-align: right;\">1809.0</td><td style = \"text-align: right;\">1583.71</td><td style = \"text-align: right;\">1255.46</td><td style = \"text-align: right;\">5837.33</td><td style = \"text-align: right;\">2329.52</td><td style = \"text-align: right;\">1596.12</td><td style = \"text-align: right;\">13.7323</td></tr><tr><td class = \"rowNumber\" style = \"font-weight: bold; text-align: right;\">3</td><td style = \"text-align: left;\">Less tangents, n_ztan=2</td><td style = \"text-align: right;\">0.0</td><td style = \"text-align: right;\">2.0</td><td style = \"text-align: right;\">1500.0</td><td style = \"text-align: right;\">15.0</td><td style = \"text-align: right;\">false</td><td style = \"text-align: right;\">NaN</td><td style = \"text-align: right;\">2</td><td style = \"text-align: right;\">2.0</td><td style = \"text-align: right;\">0.249423</td><td style = \"text-align: right;\">0.250284</td><td style = \"text-align: right;\">0.251948</td><td style = \"text-align: right;\">136.478</td><td style = \"text-align: right;\">1736.0</td><td style = \"text-align: right;\">1542.98</td><td style = \"text-align: right;\">1246.01</td><td style = \"text-align: right;\">6231.3</td><td style = \"text-align: right;\">2371.4</td><td style = \"text-align: right;\">1594.56</td><td style = \"text-align: right;\">11.3464</td></tr><tr><td class = \"rowNumber\" style = \"font-weight: bold; text-align: right;\">4</td><td style = \"text-align: left;\">Less tangents, n_ztan=3</td><td style = \"text-align: right;\">0.0</td><td style = \"text-align: right;\">2.0</td><td style = \"text-align: right;\">1500.0</td><td style = \"text-align: right;\">15.0</td><td style = \"text-align: right;\">false</td><td style = \"text-align: right;\">NaN</td><td style = \"text-align: right;\">3</td><td style = \"text-align: right;\">2.0</td><td style = \"text-align: right;\">0.249423</td><td style = \"text-align: right;\">0.250284</td><td style = \"text-align: right;\">0.251888</td><td style = \"text-align: right;\">136.478</td><td style = \"text-align: right;\">1729.0</td><td style = \"text-align: right;\">1542.98</td><td style = \"text-align: right;\">1246.01</td><td style = \"text-align: right;\">6231.3</td><td style = \"text-align: right;\">2371.4</td><td style = \"text-align: right;\">1594.56</td><td style = \"text-align: right;\">11.5794</td></tr><tr><td class = \"rowNumber\" style = \"font-weight: bold; text-align: right;\">5</td><td style = \"text-align: left;\">Less tangents, n_ztan=5</td><td style = \"text-align: right;\">0.0</td><td style = \"text-align: right;\">2.0</td><td style = \"text-align: right;\">1500.0</td><td style = \"text-align: right;\">15.0</td><td style = \"text-align: right;\">false</td><td style = \"text-align: right;\">NaN</td><td style = \"text-align: right;\">5</td><td style = \"text-align: right;\">2.0</td><td style = \"text-align: right;\">0.249601</td><td style = \"text-align: right;\">0.250268</td><td style = \"text-align: right;\">0.252148</td><td style = \"text-align: right;\">140.747</td><td style = \"text-align: right;\">1788.0</td><td style = \"text-align: right;\">1571.41</td><td style = \"text-align: right;\">1254.02</td><td style = \"text-align: right;\">5899.52</td><td style = \"text-align: right;\">2368.49</td><td style = \"text-align: right;\">1588.12</td><td style = \"text-align: right;\">11.069</td></tr><tr><td class = \"rowNumber\" style = \"font-weight: bold; text-align: right;\">6</td><td style = \"text-align: left;\">Relax gain convergence</td><td style = \"text-align: right;\">0.0</td><td style = \"text-align: right;\">2.0</td><td style = \"text-align: right;\">1500.0</td><td style = \"text-align: right;\">15.0</td><td style = \"text-align: right;\">false</td><td style = \"text-align: right;\">NaN</td><td style = \"text-align: right;\">10</td><td style = \"text-align: right;\">2.26598</td><td style = \"text-align: right;\">0.252019</td><td style = \"text-align: right;\">0.250275</td><td style = \"text-align: right;\">0.252048</td><td style = \"text-align: right;\">138.456</td><td style = \"text-align: right;\">1746.0</td><td style = \"text-align: right;\">1746.0</td><td style = \"text-align: right;\">1250.18</td><td style = \"text-align: right;\">6046.1</td><td style = \"text-align: right;\">2378.02</td><td style = \"text-align: right;\">1608.66</td><td style = \"text-align: right;\">11.5383</td></tr></tbody></table></div>"
      ],
      "text/latex": [
       "\\begin{tabular}{r|cccccc}\n",
       "\t& case & shed\\_max & fuel\\_price & sto\\_lifetime\\_cycles & sto\\_lifetime\\_calendar & \\\\\n",
       "\t\\hline\n",
       "\t& String & Float64 & Float64 & Float64 & Float64 & \\\\\n",
       "\t\\hline\n",
       "\t1 & Base case, rgain=1 & 0.0 & 2.0 & 1500.0 & 15.0 & $\\dots$ \\\\\n",
       "\t2 & Base case, rgain=2 & 0.0 & 2.0 & 1500.0 & 15.0 & $\\dots$ \\\\\n",
       "\t3 & Less tangents, n\\_ztan=2 & 0.0 & 2.0 & 1500.0 & 15.0 & $\\dots$ \\\\\n",
       "\t4 & Less tangents, n\\_ztan=3 & 0.0 & 2.0 & 1500.0 & 15.0 & $\\dots$ \\\\\n",
       "\t5 & Less tangents, n\\_ztan=5 & 0.0 & 2.0 & 1500.0 & 15.0 & $\\dots$ \\\\\n",
       "\t6 & Relax gain convergence & 0.0 & 2.0 & 1500.0 & 15.0 & $\\dots$ \\\\\n",
       "\\end{tabular}\n"
      ],
      "text/plain": [
       "\u001b[1m6×20 DataFrame\u001b[0m\n",
       "\u001b[1m Row \u001b[0m│\u001b[1m case                    \u001b[0m\u001b[1m shed_max \u001b[0m\u001b[1m fuel_price \u001b[0m\u001b[1m sto_lifetime_cycles \u001b[0m\u001b[1m sto\u001b[0m ⋯\n",
       "     │\u001b[90m String                  \u001b[0m\u001b[90m Float64  \u001b[0m\u001b[90m Float64    \u001b[0m\u001b[90m Float64             \u001b[0m\u001b[90m Flo\u001b[0m ⋯\n",
       "─────┼──────────────────────────────────────────────────────────────────────────\n",
       "   1 │ Base case, rgain=1            0.0         2.0               1500.0      ⋯\n",
       "   2 │ Base case, rgain=2            0.0         2.0               1500.0\n",
       "   3 │ Less tangents, n_ztan=2       0.0         2.0               1500.0\n",
       "   4 │ Less tangents, n_ztan=3       0.0         2.0               1500.0\n",
       "   5 │ Less tangents, n_ztan=5       0.0         2.0               1500.0      ⋯\n",
       "   6 │ Relax gain convergence        0.0         2.0               1500.0\n",
       "\u001b[36m                                                              16 columns omitted\u001b[0m"
      ]
     },
     "execution_count": 51,
     "metadata": {},
     "output_type": "execute_result"
    }
   ],
   "source": [
    "df = hcat(df_params, df_results)"
   ]
  },
  {
   "cell_type": "markdown",
   "id": "f815c544-46c0-4f3f-b81a-bdf8b199ce4a",
   "metadata": {},
   "source": [
    "Bug: not same LCOE results with \"Relax gain convergence\" case between here and above!"
   ]
  },
  {
   "cell_type": "code",
   "execution_count": 52,
   "id": "ca9d3fd9-6a30-42c3-9448-2b387f048892",
   "metadata": {},
   "outputs": [
    {
     "data": {
      "text/plain": [
       "\"cvx_article_experiments.csv\""
      ]
     },
     "execution_count": 52,
     "metadata": {},
     "output_type": "execute_result"
    }
   ],
   "source": [
    "CSV.write(\"cvx_article_experiments.csv\", df)"
   ]
  }
 ],
 "metadata": {
  "kernelspec": {
   "display_name": "Julia 1.11.1",
   "language": "julia",
   "name": "julia-1.11"
  },
  "language_info": {
   "file_extension": ".jl",
   "mimetype": "application/julia",
   "name": "julia",
   "version": "1.11.1"
  }
 },
 "nbformat": 4,
 "nbformat_minor": 5
}
