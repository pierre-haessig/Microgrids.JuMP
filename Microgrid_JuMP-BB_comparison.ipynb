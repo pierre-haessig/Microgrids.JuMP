{
 "cells": [
  {
   "cell_type": "markdown",
   "id": "3a7dbcc0-25a3-4dd9-9af1-6d1194cbfde8",
   "metadata": {},
   "source": [
    "# Microgrid sizing optimization: comparing Blackbox vs Algebraic approaches\n",
    "\n",
    "This notebook is a continuation of [Microgrid_optimization_JuMP.ipynb](Microgrid_optimization_JuMP.ipynb), where the algebraic approach is reimplemented in reusable functions.\n",
    "\n",
    "Then, the result of is compared to the blackbox optimization with rule-based energy management of Microgrids.jl, in the spirit of (El Sayegh, 2022).  It corresponds to the developments from [Microgrid_sizing_optimization_relax.ipynb](Microgrid_sizing_optimization_relax.ipynb) consolidated here.\n",
    "\n",
    "Results were presented first at the OpEnMod Grenoble workshop 2023 and then at ENS Rennes in May 2024, but are not yet published.\n",
    "\n",
    "Latest update: \n",
    "- July 2024:\n",
    "    - use the Smoothing structure of Microgrids 0.11 and expose the relaxation gain in both Blackbox and Algebraic approaches\n",
    "    - switch to anonymous variables and `add_var!` function to pave the way to two-stage SP\n",
    "    - first two-stage SP draft\n",
    "    - then switched back from using `add_var!`, still to be done for 2SP"
   ]
  },
  {
   "cell_type": "code",
   "execution_count": 1,
   "id": "7482f7f5-163d-43fa-95a4-905c3664bbd3",
   "metadata": {},
   "outputs": [],
   "source": [
    "using Microgrids\n",
    "\n",
    "# Optimization\n",
    "using JuMP\n",
    "using HiGHS # Linear Programming solver\n",
    "using Clp\n",
    "using NLopt # Blackbox nonlinear solvers\n",
    "\n",
    "# Display\n",
    "using Printf # pretty print results\n",
    "using PyPlot"
   ]
  },
  {
   "cell_type": "markdown",
   "id": "d7b73961-e1a4-4ccb-a688-3ca74dd85db3",
   "metadata": {},
   "source": [
    "Check version of Microgrids.jl (v0.11.0 needed)"
   ]
  },
  {
   "cell_type": "code",
   "execution_count": 2,
   "id": "d93b07c5-0eb0-41b1-941c-36277f98c5a2",
   "metadata": {},
   "outputs": [
    {
     "name": "stdout",
     "output_type": "stream",
     "text": [
      "\u001b[32m\u001b[1mStatus\u001b[22m\u001b[39m `~/.julia/environments/v1.10/Project.toml`\n",
      "  \u001b[90m[bd581358] \u001b[39mMicrogrids v0.11.0\n"
     ]
    }
   ],
   "source": [
    "import Pkg\n",
    "Pkg.status(\"Microgrids\")"
   ]
  },
  {
   "cell_type": "markdown",
   "id": "8856b12b-6580-498c-a235-3583cd3c91b8",
   "metadata": {},
   "source": [
    "## Problem setup"
   ]
  },
  {
   "cell_type": "code",
   "execution_count": 3,
   "id": "a70f0a0a-9ba2-4e8f-8dba-51608a202bad",
   "metadata": {},
   "outputs": [
    {
     "name": "stdout",
     "output_type": "stream",
     "text": [
      "Base Wind-Solar Microgrid project definition functions...\n"
     ]
    }
   ],
   "source": [
    "include(\"./example/Microgrid_Wind-Solar_data.jl\");"
   ]
  },
  {
   "cell_type": "code",
   "execution_count": 4,
   "id": "c1345f8e-ad93-485d-815c-8a25cba38363",
   "metadata": {},
   "outputs": [
    {
     "name": "stdout",
     "output_type": "stream",
     "text": [
      "Microgrid optimization with JuMP common functions:\n",
      "- CRF\n",
      "- ts_reduction\n",
      "- g_tan\n",
      "- cons_Xann_usage!\n",
      "- build_optim_mg_stage!\n",
      "- setup_optim_mg_jump\n",
      "- diagnostics_mg_jump\n",
      "- optim_mg_jump\n"
     ]
    }
   ],
   "source": [
    "include(\"./Microgrid_JuMP_common.jl\");"
   ]
  },
  {
   "cell_type": "code",
   "execution_count": 5,
   "id": "f35cbb8a-bb4f-4795-8f7f-c708387c04d1",
   "metadata": {},
   "outputs": [
    {
     "name": "stdout",
     "output_type": "stream",
     "text": [
      "loading times series from data/Ouessant_data_2016.csv...\n"
     ]
    }
   ],
   "source": [
    "const tseries = load_microgrid_tseries();"
   ]
  },
  {
   "cell_type": "code",
   "execution_count": 6,
   "id": "7da287e3-242c-4554-aa4d-2d67c29faa6c",
   "metadata": {},
   "outputs": [
    {
     "data": {
      "text/plain": [
       "Microgrid{Float64}(Project(25, 0.05, 1.0, \"€\", ConsistentSalvage), [1453.0, 1331.0, 1214.0, 1146.0, 1078.0, 1035.0, 1032.0, 1072.0, 1142.0, 1208.0  …  1479.0, 1508.0, 1410.0, 1370.0, 1467.0, 1587.0, 1561.0, 1472.0, 1533.0, 1483.0], DispatchableGenerator{Float64}(1000.0, 0.0, 0.24, 1.0, 400.0, 0.02, 15000.0, 0.0, 1.0, 1.0, \"L\"), Battery{Float64}(1000.0, 350.0, 10.0, 15.0, 3000.0, 1.0, 1.0, 0.05, 0.0, 0.0, 1.0, 1.0), NonDispatchableSource[Photovoltaic{Float64}(1000.0, [0.0, 0.0, 0.0, 0.0, 0.0, 0.0, 0.0, 0.0, 0.0, 7.000000000000001e-5  …  0.45131, 0.30678, 0.0, 0.0, 0.0, 0.0, 0.0, 0.0, 0.0, 0.0], 1200.0, 20.0, 25.0, 1.0, 1.0, 1.0), WindPower{Float64}(1000.0, [0.03184904690521816, 0.1104932647748532, 0.24596484619739856, 0.44422012231738006, 0.6554128208926687, 0.8470913237698507, 0.9579413031865969, 0.9735278942424532, 0.9837469734016646, 0.9903667231838823  …  0.011233045262998936, 0.018460507449516883, 0.023644167600765466, 0.02969747711584798, 0.036359043012900244, 0.03713796382151399, 0.037530379586714784, 0.03792477182913709, 0.037530379586714784, 0.03674751985711801], 3500.0, 100.0, 25.0, 1.0, 1.0)])"
      ]
     },
     "execution_count": 6,
     "metadata": {},
     "output_type": "execute_result"
    }
   ],
   "source": [
    "\"\"\"Create a Microgrid project description of size `x`\n",
    "\n",
    "x should be [\n",
    "    power_rated_gen,\n",
    "    energy_rated_sto,\n",
    "    power_rated_pv,\n",
    "    power_rated_wind\n",
    "] (in kW or kWh)\n",
    "\n",
    "Apart from the sizing, the project is based on parameters\n",
    "defined by the function `create_mg_base` which\n",
    "defaults to the globally defined `create_mg_base`.\n",
    "This allows modifying some project parameters.\n",
    "\"\"\"\n",
    "function create_microgrid(x; create_mg_base=create_mg_base)\n",
    "    # Create base microgrid\n",
    "    mg = create_mg_base()\n",
    "\n",
    "    # force ConsistentSalvage, necessary for comparison with LP approaches\n",
    "    mg.project.salvage_type = ConsistentSalvage\n",
    "\n",
    "    # Set the size\n",
    "    mg.generator.power_rated = x[1] # power_rated_gen\n",
    "    mg.storage.energy_rated = x[2] # energy_rated_sto\n",
    "    mg.nondispatchables[1].power_rated = x[3] # power_rated_pv\n",
    "    mg.nondispatchables[2].power_rated = x[4] # power_rated_wind\n",
    "\n",
    "    return mg\n",
    "end\n",
    "\n",
    "x_base = [1000. 1000. 1000. 1000.]\n",
    "mg_base = create_microgrid(x_base)"
   ]
  },
  {
   "cell_type": "markdown",
   "id": "2003a550-3c02-4b68-af3e-a28055f0f81a",
   "metadata": {},
   "source": [
    "### Sizing bounds for each component"
   ]
  },
  {
   "cell_type": "code",
   "execution_count": 7,
   "id": "56345b69-0517-4bff-8722-71987a35a8a4",
   "metadata": {},
   "outputs": [
    {
     "name": "stdout",
     "output_type": "stream",
     "text": [
      "Max load power: 1707.0 kW"
     ]
    },
    {
     "data": {
      "text/plain": [
       "4-element Vector{Float64}:\n",
       "  2048.4\n",
       " 17070.0\n",
       " 17070.0\n",
       "  8535.0"
      ]
     },
     "execution_count": 7,
     "metadata": {},
     "output_type": "execute_result"
    }
   ],
   "source": [
    "Pload_max = maximum(tseries.Pload) # kW\n",
    "@printf(\"Max load power: %.1f kW\", Pload_max)\n",
    "power_rated_gen_max = 1.2 * Pload_max\n",
    "energy_rated_sto_max = 10.0 * Pload_max\n",
    "power_rated_pv_max = 10.0 * Pload_max\n",
    "power_rated_wind_max = 5.0 * Pload_max;\n",
    "\n",
    "xmax = [\n",
    "    power_rated_gen_max,\n",
    "    energy_rated_sto_max,\n",
    "    power_rated_pv_max,\n",
    "    power_rated_wind_max\n",
    "    ]"
   ]
  },
  {
   "cell_type": "markdown",
   "id": "bae4f942-b305-4079-9a30-1c4b5eba9bb4",
   "metadata": {},
   "source": [
    "## Blackbox microgrid sizing setup"
   ]
  },
  {
   "cell_type": "markdown",
   "id": "55894fb9-9890-4011-b4de-93c6be03fdb4",
   "metadata": {},
   "source": [
    "### Objective function\n",
    "\n",
    "- first bi-objective function x ↦ (lcoe, shedding rate)(x)\n",
    "- then wrapped into a mono objective x ↦ J(x) by using a penalty for the excess of shedding rate\n",
    "  - and match the interface expected by NLopt's optimizers"
   ]
  },
  {
   "cell_type": "code",
   "execution_count": 8,
   "id": "e32ed959-c607-492c-a81c-b1dbbd515851",
   "metadata": {},
   "outputs": [
    {
     "data": {
      "text/plain": [
       "obj_multi"
      ]
     },
     "execution_count": 8,
     "metadata": {},
     "output_type": "execute_result"
    }
   ],
   "source": [
    "\"\"\"Multi-objective criterion for microgrid performance: lcoe, shedding rate.\n",
    "\n",
    "Discontinuous computations can optionally be smoothed (relaxed) using the\n",
    "`Smoothing` parameters `transition` and `gain` (like in `simulate`).\n",
    "\n",
    "Optionally, the base Microgrid can be changed with `create_mg_base`.\n",
    "\"\"\"\n",
    "function obj_multi(x; smoothing::Smoothing, create_mg_base=create_mg_base)\n",
    "    mg = create_microgrid(x; create_mg_base)\n",
    "    # Launch simulation:\n",
    "    traj, stats, costs = simulate(mg, smoothing)\n",
    "    # Extract KPIs of interest\n",
    "    lcoe = costs.lcoe # $/kWh\n",
    "    shed_rate = stats.shed_rate; # in [0,1]\n",
    "    return lcoe, shed_rate\n",
    "end"
   ]
  },
  {
   "cell_type": "code",
   "execution_count": 9,
   "id": "b2078ada-5b62-4be2-ac38-1dffa96fc283",
   "metadata": {},
   "outputs": [
    {
     "data": {
      "text/plain": [
       "((0.20781653603718364, 0.00650933126708814), (0.1857600639716875, 0.00650933126708814))"
      ]
     },
     "execution_count": 9,
     "metadata": {},
     "output_type": "execute_result"
    }
   ],
   "source": [
    "obj_multi(x_base; smoothing=NoSmoothing),\n",
    "obj_multi(x_base; smoothing=Smoothing(1.0))"
   ]
  },
  {
   "cell_type": "markdown",
   "id": "7ce5d705-2b37-4eec-bf2c-f5fb2f1880dd",
   "metadata": {},
   "source": [
    "### Wrapper of the blackbox optimization process"
   ]
  },
  {
   "cell_type": "code",
   "execution_count": 10,
   "id": "accc77cc-2b54-43c7-9790-bed5e26388a6",
   "metadata": {},
   "outputs": [
    {
     "data": {
      "text/plain": [
       "optim_mg_bb"
      ]
     },
     "execution_count": 10,
     "metadata": {},
     "output_type": "execute_result"
    }
   ],
   "source": [
    "\"\"\"Optimize sizing of microgrid based on the global `obj_multi` function\n",
    "which is reformulated as a single objective function\n",
    "\n",
    "Parameters:\n",
    "- `x0`: initial sizing (for the algorithms which need them)\n",
    "- `shed_max`: load shedding penalty threshold should be in  [0,1[\n",
    "\n",
    "Keyword parameters:\n",
    "- `smoothing`: amount of smoothing of discontinuous computations\n",
    "- `create_mg_base`: creates the base Microgrid project (default `create_mg_base`)\n",
    "\n",
    "Blackbox optimization parameters (all optional):\n",
    "- `algo` could be one of LN_SBPLX, GN_DIRECT, GN_ESCH...\n",
    "- `maxeval`: maximum allowed number of calls to the objective function,\n",
    "  that is to the microgrid simulation\n",
    "- `xtol_rel`: termination condition based on relative change of sizing, see NLopt doc.\n",
    "- `srand`: random number generation seed (for algorithms which use some stochastic search)\n",
    "\n",
    "Sizing maximum bounds are taken as the global variables `xmax`.\n",
    "\"\"\"\n",
    "function optim_mg_bb(x0; shed_max, \n",
    "        smoothing::Smoothing, create_mg_base=create_mg_base,\n",
    "        algo=:GN_CRS2_LM, max_eval=10_000, xtol_rel=1e-5, srand=1\n",
    "    )\n",
    "\n",
    "    \"\"\"Mono-objective criterion: LCOE + penalty if shedding rate > `shed_max`\n",
    "    with signature adapted to NLopt with `grad` as 2nd argument\n",
    "    \"\"\"\n",
    "    function obj(x, grad, shed_max, w_shed_max=1e5)\n",
    "        lcoe, shed_rate = obj_multi(x; smoothing, create_mg_base)\n",
    "        over_shed = shed_rate - shed_max\n",
    "        penalty = over_shed > 0.0 ? w_shed_max*over_shed : 0.0\n",
    "        J = lcoe + penalty\n",
    "    end\n",
    "    \n",
    "    nx = length(x0) # number of optim variables\n",
    "    opt = Opt(algo, nx)\n",
    "    NLopt.srand(srand)\n",
    "    \n",
    "    opt.lower_bounds = [0., 0., 1e-3, 0.] # 1e-3 instead of 0.0, because LCOE is NaN if ther is exactly zero generation\n",
    "    opt.upper_bounds = xmax/1000\n",
    "    opt.min_objective = (x_norm, grad) -> obj(x_norm*1000, grad, shed_max)\n",
    "    opt.xtol_rel = xtol_rel\n",
    "    opt.maxeval = max_eval\n",
    "    \n",
    "    (fopt, x_norm_opt, ret) = optimize(opt, x0/1000)\n",
    "    return x_norm_opt*1000, ret, opt.numevals\n",
    "end"
   ]
  },
  {
   "cell_type": "markdown",
   "id": "d3b9017a-c766-4933-8821-d9b0167a524a",
   "metadata": {},
   "source": [
    "Starting point of blackbox optim: also derived from maximal load power"
   ]
  },
  {
   "cell_type": "code",
   "execution_count": 11,
   "id": "381c3768-c785-4059-a16e-36bb6a186637",
   "metadata": {},
   "outputs": [
    {
     "data": {
      "text/plain": [
       "4-element Vector{Float64}:\n",
       " 1707.0\n",
       " 5121.0\n",
       " 5121.0\n",
       " 3414.0"
      ]
     },
     "execution_count": 11,
     "metadata": {},
     "output_type": "execute_result"
    }
   ],
   "source": [
    "x0 = [1.0, 3.0, 3.0, 2.0] * Pload_max"
   ]
  },
  {
   "cell_type": "markdown",
   "id": "20669c2b-ec11-4814-ad8b-1139dd0c6d01",
   "metadata": {},
   "source": [
    "Test run of BB optim.\n",
    "\n",
    "Case with 0.25 battery price (Grenoble workshop slides)"
   ]
  },
  {
   "cell_type": "code",
   "execution_count": 12,
   "id": "a463e827-752f-4610-9257-69d546b504c8",
   "metadata": {},
   "outputs": [
    {
     "name": "stdout",
     "output_type": "stream",
     "text": [
      "mg prices modifications: sto*=0.25, gen*=1.0, fuel*=1.0\n",
      "  1.056385 seconds (862.48 k allocations: 2.039 GiB, 6.52% gc time, 28.82% compilation time)\n",
      "GN_CRS2_LM algo: XTOL_REACHED after 2549 iterations (with Smoothing(1.0, 1.0)). \n",
      "x*=[1577.2, 4766.5, 1969.6, 1249.7]\n",
      "LCOE*: 0.17232666449068842\n",
      "shed*: 0.0\n"
     ]
    }
   ],
   "source": [
    "algo = :GN_CRS2_LM # could be one of GN_CRS2_LM, GN_DIRECT, GN_ESCH, LN_SBPLX...\n",
    "shed_max = 0.00 # in [0,1]\n",
    "max_eval=10_000\n",
    "srand=1\n",
    "#smoothing=NoSmoothing\n",
    "smoothing=Smoothing(1.0) # full relaxation, default value of `gain` = 1.0\n",
    "#smoothing=Smoothing(1.0, 2) # full relaxation, but attempting to compensate with `gain`\n",
    "\n",
    "\"\"\"Modify Microgrid project by *multiplying* base price values:\n",
    "- `sto`: `mg.storage.investment_price` \n",
    "- `gen`: `mg.generator.investment_price` \n",
    "- `fuel`: `mg.generator.fuel_price`\n",
    "\"\"\"\n",
    "function modify_mg_prices(;sto=1.0, gen=1.0, fuel=1.0)\n",
    "    println(\"mg prices modifications: sto*=$sto, gen*=$gen, fuel*=$fuel\")\n",
    "    function modify_mg(mg)\n",
    "        mg.storage.investment_price *= sto\n",
    "        mg.generator.investment_price *= gen\n",
    "        mg.generator.fuel_price *= fuel\n",
    "        return mg # return mg to allow chaining\n",
    "    end\n",
    "    return modify_mg\n",
    "end\n",
    "\n",
    "create_mg_modified = modify_mg_prices(sto=0.25) ∘ create_mg_base\n",
    "\n",
    "@time xbb, ret, numevals = optim_mg_bb(x0; shed_max, smoothing,\n",
    "                                      create_mg_base = create_mg_modified,\n",
    "                                      algo, max_eval, srand)\n",
    "\n",
    "@printf(\"%s algo: %s after %d iterations (with %s). \\nx*=\", algo, ret, numevals, smoothing)\n",
    "println(round.(xbb; digits=1)) # kW or kWh\n",
    "lcoe_bb, shed_rate_bb = obj_multi(xbb; smoothing, create_mg_base = create_mg_modified)\n",
    "println(\"LCOE*: \", lcoe_bb)\n",
    "println(\"shed*: \", shed_rate_bb)"
   ]
  },
  {
   "cell_type": "code",
   "execution_count": 13,
   "id": "0b4c041f-077e-4946-895a-7b72cb303c3b",
   "metadata": {},
   "outputs": [
    {
     "data": {
      "text/plain": [
       "4-element Vector{Float64}:\n",
       " 1577.2\n",
       " 4766.5\n",
       " 1969.6\n",
       " 1249.7"
      ]
     },
     "execution_count": 13,
     "metadata": {},
     "output_type": "execute_result"
    }
   ],
   "source": [
    "round.(xbb; digits=1)"
   ]
  },
  {
   "cell_type": "markdown",
   "id": "d26d89b8-b444-403b-a8b0-edcceff23011",
   "metadata": {},
   "source": [
    "Detailed performance statistics of blackbox optim:"
   ]
  },
  {
   "cell_type": "code",
   "execution_count": 14,
   "id": "9c48c897-38bf-4c77-9016-f075365dc200",
   "metadata": {},
   "outputs": [
    {
     "data": {
      "text/plain": [
       "1577.1812661847691"
      ]
     },
     "execution_count": 14,
     "metadata": {},
     "output_type": "execute_result"
    }
   ],
   "source": [
    "mgopt_bb = create_microgrid(xbb; create_mg_base = create_mg_modified);\n",
    "mgopt_bb.generator.power_rated"
   ]
  },
  {
   "cell_type": "code",
   "execution_count": 15,
   "id": "ffcfe54b-4e75-4621-a7e8-693ffa621f85",
   "metadata": {},
   "outputs": [
    {
     "data": {
      "text/plain": [
       "(0.17232666449068842, 0.7845367569966673)"
      ]
     },
     "execution_count": 15,
     "metadata": {},
     "output_type": "execute_result"
    }
   ],
   "source": [
    "traj_bb, stats_bb, costs_bb = simulate(mgopt_bb, smoothing)\n",
    "traj_bb, stats_bb_norelax, costs_bb_norelax = simulate(mgopt_bb)\n",
    "costs_bb.lcoe, stats_bb.renew_rate"
   ]
  },
  {
   "cell_type": "markdown",
   "id": "dc2ade54-9771-4960-aa3d-b5f76caf24a3",
   "metadata": {},
   "source": [
    "## All-in-one algebraic approach with JuMP"
   ]
  },
  {
   "cell_type": "markdown",
   "id": "ffb7fc0b-9230-4224-a6ad-923fe0d85f77",
   "metadata": {},
   "source": [
    "### Algebraic model definition\n",
    "\n"
   ]
  },
  {
   "cell_type": "markdown",
   "id": "137f48f3-2dc7-4b5f-b4c4-5531a910b5cf",
   "metadata": {},
   "source": [
    "#### Core model definition"
   ]
  },
  {
   "cell_type": "markdown",
   "id": "0e4f418c-e28a-41d8-8df7-e6aa516e50d0",
   "metadata": {},
   "source": [
    "Test `setup_optim_mg_jump` function to get JuMP model."
   ]
  },
  {
   "cell_type": "code",
   "execution_count": 16,
   "id": "fc705172-49ee-4590-b9a3-3a9cd6f264a0",
   "metadata": {},
   "outputs": [
    {
     "name": "stdout",
     "output_type": "stream",
     "text": [
      "Building stage problem with 365 days...\n",
      "zero load shedding allowed\n",
      "Usage-dependent generator lifetime model (relax_gain=1.0)\n",
      "Xann constraints with z_tan=[0.2, 0.28, 0.37, 0.5, 0.68, 1.0, 1.7, 4.0]\n"
     ]
    },
    {
     "data": {
      "text/plain": [
       "A JuMP Model\n",
       "├ solver: HiGHS\n",
       "├ objective_sense: MIN_SENSE\n",
       "│ └ objective_function_type: AffExpr\n",
       "├ num_variables: 78849\n",
       "├ num_constraints: 140198\n",
       "│ ├ AffExpr in MOI.EqualTo{Float64}: 43803\n",
       "│ ├ AffExpr in MOI.GreaterThan{Float64}: 8782\n",
       "│ ├ AffExpr in MOI.LessThan{Float64}: 43801\n",
       "│ ├ VariableRef in MOI.EqualTo{Float64}: 8760\n",
       "│ ├ VariableRef in MOI.GreaterThan{Float64}: 35048\n",
       "│ └ VariableRef in MOI.LessThan{Float64}: 4\n",
       "└ Names registered in the model: none"
      ]
     },
     "execution_count": 16,
     "metadata": {},
     "output_type": "execute_result"
    }
   ],
   "source": [
    "optimizer = HiGHS.Optimizer\n",
    "\n",
    "mg_base, model_data = setup_optim_mg_jump(optimizer; shed_max)\n",
    "\n",
    "model_data[\"model\"]"
   ]
  },
  {
   "cell_type": "markdown",
   "id": "36a8438a-0a14-480e-b330-98ef0a9790e9",
   "metadata": {},
   "source": [
    "Remarks on model size:\n",
    "\n",
    "- stage problem has 78 849 variables (9*8760 + 9)"
   ]
  },
  {
   "cell_type": "markdown",
   "id": "c0381144-994b-40bd-a839-b45e130999c1",
   "metadata": {},
   "source": [
    "### Test Algebraic optim\n",
    "- Case with 0.25 battery price (Grenoble workshop slides)"
   ]
  },
  {
   "cell_type": "markdown",
   "id": "24e81925-4b94-46fd-a53c-bfef082e512e",
   "metadata": {},
   "source": [
    "HiGHS solver choice: https://ergo-code.github.io/HiGHS/stable/options/definitions/#solver"
   ]
  },
  {
   "cell_type": "code",
   "execution_count": 17,
   "id": "60d6925f-5b57-438c-9dad-dec24dc0e059",
   "metadata": {},
   "outputs": [
    {
     "name": "stdout",
     "output_type": "stream",
     "text": [
      "Building stage problem with 365 days...\n",
      "zero load shedding allowed\n",
      "Usage-dependent generator lifetime model (relax_gain=1.0)\n",
      "Xann constraints with z_tan=[0.2, 0.28, 0.37, 0.5, 0.68, 1.0, 1.7, 4.0]\n",
      "  9.270222 seconds (1.94 M allocations: 167.577 MiB, 0.50% gc time, 5.15% compilation time: 87% of which was recompilation)\n"
     ]
    },
    {
     "data": {
      "text/plain": [
       "0.17159371860032874"
      ]
     },
     "execution_count": 17,
     "metadata": {},
     "output_type": "execute_result"
    }
   ],
   "source": [
    "optimizer = optimizer_with_attributes(HiGHS.Optimizer,\n",
    "    \"solver\" => \"choose\" # alternative to \"choose\" (default): ipm: best, simplex: quite close and pdlp: terrible (1700s)\n",
    ")\n",
    "#optimizer = Clp.Optimizer\n",
    "\n",
    "xalg, lcoe_alg, diagnostics, traj_alg, model_data = optim_mg_jump(optimizer;\n",
    "    shed_max,\n",
    "    #ndays=10,\n",
    "    relax_gain = smoothing.gain,\n",
    "    create_mg_base = create_mg_modified,\n",
    ")\n",
    "lcoe_alg"
   ]
  },
  {
   "cell_type": "code",
   "execution_count": 18,
   "id": "a020e7e6-2c99-4fff-b805-c30c30c4b9b7",
   "metadata": {},
   "outputs": [
    {
     "data": {
      "text/plain": [
       "4-element Vector{Float64}:\n",
       " 1151.3\n",
       " 5227.9\n",
       " 2055.0\n",
       " 1234.5"
      ]
     },
     "execution_count": 18,
     "metadata": {},
     "output_type": "execute_result"
    }
   ],
   "source": [
    "round.(xalg; digits=1) # optimal sizing"
   ]
  },
  {
   "cell_type": "markdown",
   "id": "311cd6af-9064-4f35-a89f-98aac6de6c41",
   "metadata": {},
   "source": [
    "Expected LCOE: `0.171 593 718 600 3287` (with ×0.25 storage cost).\n",
    "\n",
    "Expected sizing $x^*$:\n",
    "```\n",
    " 1151.3\n",
    " 5227.9\n",
    " 2055.0\n",
    " 1234.5\n",
    "```\n"
   ]
  },
  {
   "cell_type": "markdown",
   "id": "23fea727-6659-4a9b-9121-ac1b227c4826",
   "metadata": {},
   "source": [
    "with less tangents (z_tan = [.5]), slightly smaller LCOE, and a sizing difference of 3-20 kW(h):\n",
    "\n",
    "LCOE: `0.171 426 3650686344` and $x^*=$:\n",
    "```\n",
    " 1154.4\n",
    " 5131.0\n",
    " 2037.0\n",
    " 1239.9\n",
    "```"
   ]
  },
  {
   "cell_type": "markdown",
   "id": "6e8cd265-ef3a-42f5-b93b-8ea8bc8cf680",
   "metadata": {},
   "source": [
    "with z_tan = [0.5]\n",
    "```\n",
    "Tgen = 12.157818761162602\n",
    "CRFgen = 0.11174838318777107\n",
    "CRFgen_relax = 0.1092911656972583\n",
    "CRFgen_relax_rel = 0.9780111584578016\n",
    "```"
   ]
  },
  {
   "cell_type": "code",
   "execution_count": 20,
   "id": "6b8e4558-dd8b-4e41-87a2-06a31ae19eac",
   "metadata": {},
   "outputs": [
    {
     "name": "stdout",
     "output_type": "stream",
     "text": [
      "Generator diagnostics:\n",
      "- cost_share: 0.361361215296754\n",
      "- cost_share_fuel: 0.29275268703607304\n",
      "- energy: 1.4180743040484122e6\n",
      "- load_share: 0.20931050916149146\n",
      "- hours: 2755.0\n",
      "- hours_lin: 1231.7543691358248\n",
      "- lifetime: 5.44464609800363\n",
      "- lifetime_hlin: 12.177752623295918\n",
      "- CRF: 0.21432655207648874\n",
      "- CRF_hlin: 0.111614388270748\n",
      "- CRF_hlin_pwm: 0.11161415094499444\n",
      "\n",
      "Storage diagnostics:\n",
      "- cost_share: 0.08287800821548809\n",
      "- energy_through: 1.5499560606108154e6\n",
      "- load_share: 0.11438825571347272\n",
      "- cycles: 148.23982966882372\n",
      "- lifetime_cycles: 20.237476032603194\n",
      "- lifetime: 15.0\n",
      "- CRF: 0.09634228760924432\n",
      "- CRF_pwm: 0.09634228760924432\n"
     ]
    }
   ],
   "source": [
    "\"pretty-print NamedTuple or Dict\"\n",
    "function pprint(d, title=nothing)\n",
    "    if title !== nothing\n",
    "        println(\"$title:\")\n",
    "    end\n",
    "    for k in keys(d)\n",
    "        println(\"- $k: \", d[k])\n",
    "    end\n",
    "end\n",
    "\n",
    "pprint(diagnostics.generator, \"Generator diagnostics\")\n",
    "println()\n",
    "pprint(diagnostics.storage, \"Storage diagnostics\")"
   ]
  },
  {
   "cell_type": "markdown",
   "id": "1a3e1306-be99-4f92-a13e-38c64662b45c",
   "metadata": {},
   "source": [
    "Effect of PWL relaxation of annualized size:\n",
    "-  with z_tan having 8 points (10 tangents): `gen_diag.CRF_hlin_pwm / gen_diag.CRF_hlin = 0.999 997 873 699 2852`"
   ]
  },
  {
   "cell_type": "code",
   "execution_count": 21,
   "id": "80c5443c-727e-44c4-b238-a5f11dbb90f0",
   "metadata": {},
   "outputs": [
    {
     "data": {
      "text/plain": [
       "0.9999978736992852"
      ]
     },
     "execution_count": 21,
     "metadata": {},
     "output_type": "execute_result"
    }
   ],
   "source": [
    "gen_diag = diagnostics.generator\n",
    "gen_diag.CRF_hlin_pwm / gen_diag.CRF_hlin"
   ]
  },
  {
   "cell_type": "code",
   "execution_count": 22,
   "id": "0d7df8cc-e00a-4b3f-9823-3d29d4113f1d",
   "metadata": {},
   "outputs": [
    {
     "data": {
      "text/plain": [
       "1.0"
      ]
     },
     "execution_count": 22,
     "metadata": {},
     "output_type": "execute_result"
    }
   ],
   "source": [
    "sto_diag = diagnostics.storage\n",
    "sto_diag.CRF_pwm / sto_diag.CRF"
   ]
  },
  {
   "cell_type": "markdown",
   "id": "03c2d8aa-ba8d-4555-ab2d-893a14b127aa",
   "metadata": {},
   "source": [
    "## BB-Algebraic cost validation\n",
    "\n",
    "to verify that the Algebraic JuMP model yields the same result as BB for the same sizing and energy dispatch"
   ]
  },
  {
   "cell_type": "code",
   "execution_count": 23,
   "id": "e31cd9db-aad8-46dc-a97d-f7b9a4d09b24",
   "metadata": {},
   "outputs": [
    {
     "data": {
      "text/plain": [
       "force_sizing!"
      ]
     },
     "execution_count": 23,
     "metadata": {},
     "output_type": "execute_result"
    }
   ],
   "source": [
    "\"\"\"Force microgrid sizing by constraining energy storage trajectory\"\"\"\n",
    "function force_sizing!(model_data, Esto_traj)\n",
    "    md = model_data\n",
    "    model = md[\"model\"]\n",
    "    # Check that storage trajectory is fine\n",
    "    Esto_var = md[\"Esto\"]\n",
    "    @assert length(Esto_traj) == length(Esto_var)\n",
    "    @assert Esto_traj[1] - Esto_traj[end] == 0.0 \"Storage trajectory should be cyclic\"\n",
    "    # Fix storage trajectory:\n",
    "    @constraint(model, Esto_var .== Esto_traj);\n",
    "end"
   ]
  },
  {
   "cell_type": "markdown",
   "id": "5a7519e0-8855-4b63-a462-f5c0d93aa5a6",
   "metadata": {},
   "source": [
    "Test BB forcing\n",
    "\n",
    "Case with 0.25 battery price (Grenoble workshop slides), forced to BB"
   ]
  },
  {
   "cell_type": "code",
   "execution_count": 24,
   "id": "2ec1e4c8-e9a5-43cb-ae56-3259bed32637",
   "metadata": {},
   "outputs": [
    {
     "name": "stdout",
     "output_type": "stream",
     "text": [
      "Building stage problem with 365 days...\n",
      "zero load shedding allowed\n",
      "Usage-dependent generator lifetime model (relax_gain=1.0)\n",
      "Xann constraints with z_tan=[0.2, 0.28, 0.37, 0.5, 0.68, 1.0, 1.7, 4.0]\n",
      "  1.347273 seconds (1.31 M allocations: 125.581 MiB, 4.70% gc time)\n"
     ]
    },
    {
     "data": {
      "text/plain": [
       "([1577.181004069868, 4766.513889783261, 1969.5977852069482, 1249.7075157497723], 0.17230739290314273, (generator = (cost_share = 0.3744524522207074, cost_share_fuel = 0.30011003851626716, energy = 1.4597589466194718e6, load_share = 0.21546324300333208, hours = 2842.0, hours_lin = 925.5494092641287, lifetime = 5.277973258268824, lifetime_hlin = 16.206590215346758, CRF = 0.22023660533045683, CRF_hlin = 0.09149417924294645, CRF_hlin_pwm = 0.09128722566144742), storage = (cost_share = 0.07525115307581877, energy_through = 1.4233927254401466e6, load_share = 0.10504775922110951, cycles = 149.31171484584408, lifetime_cycles = 20.092194394105853, lifetime = 15.0, CRF = 0.09634228760924432, CRF_pwm = 0.09634228760924432)))"
      ]
     },
     "execution_count": 24,
     "metadata": {},
     "output_type": "execute_result"
    }
   ],
   "source": [
    "Esto_traj = traj_bb.Ebatt # storage traj to be forced\n",
    "xfbb, lcoe_fbb, diagnostics_fbb, model_data_fbb = optim_mg_jump(HiGHS.Optimizer;\n",
    "    shed_max,\n",
    "    relax_gain = smoothing.gain,\n",
    "    create_mg_base = create_mg_modified,\n",
    "    model_custom = model->force_sizing!(model, Esto_traj)\n",
    ")\n",
    "xfbb, lcoe_fbb, diagnostics_fbb"
   ]
  },
  {
   "cell_type": "markdown",
   "id": "b9a3fe58-5402-4962-ac27-6d3cbb5e2f60",
   "metadata": {},
   "source": [
    "Tgen = 16.20659021534674, CRFgen = 0.09149417924294653, CRFgen_relax = 0.09128722566144742, CRFgen_relax_rel = 0.9977380683316522"
   ]
  },
  {
   "cell_type": "markdown",
   "id": "3387e6bb-3299-43b8-ab5b-c15c7b76411b",
   "metadata": {},
   "source": [
    "Sizing comparison: the forcing works"
   ]
  },
  {
   "cell_type": "code",
   "execution_count": 25,
   "id": "85cc4026-5ed8-4f28-9d11-25cb06c41696",
   "metadata": {},
   "outputs": [
    {
     "data": {
      "text/plain": [
       "4×2 Matrix{Float64}:\n",
       " 1577.18  1577.18\n",
       " 4766.51  4766.51\n",
       " 1969.6   1969.6\n",
       " 1249.71  1249.71"
      ]
     },
     "execution_count": 25,
     "metadata": {},
     "output_type": "execute_result"
    }
   ],
   "source": [
    "round.([xbb xfbb]; digits=2)"
   ]
  },
  {
   "cell_type": "markdown",
   "id": "a6e1ee2d-96a4-41c7-bf76-d6d26122909d",
   "metadata": {},
   "source": [
    "LCOE comparison: absolute and relative to BB LCOE\n",
    "\n",
    "- Alebraic model yields a cost which is 99.989% of BB cost (for same sizing and dispatch) with 10 tangents. Was 99.82% with 3 tangents\n",
    "\n",
    "with z_tan = [0.5]\n",
    "\n",
    "```\n",
    "3×2 Matrix{Float64}:\n",
    " 172.023   99.8238\n",
    " 172.327  100.0\n",
    " 171.426   99.4776\n",
    "```"
   ]
  },
  {
   "cell_type": "code",
   "execution_count": 26,
   "id": "f98ee5ad-9cf9-4916-8ca1-724f84776f69",
   "metadata": {},
   "outputs": [
    {
     "data": {
      "text/plain": [
       "3×2 Matrix{Float64}:\n",
       " 172.307   99.9888\n",
       " 172.327  100.0\n",
       " 171.594   99.5747"
      ]
     },
     "execution_count": 26,
     "metadata": {},
     "output_type": "execute_result"
    }
   ],
   "source": [
    "v1 = [lcoe_fbb, lcoe_bb, lcoe_alg]*1000 # €/MWh\n",
    "v2 = [lcoe_fbb, lcoe_bb, lcoe_alg]/lcoe_bb*100\n",
    "[v1 v2]"
   ]
  },
  {
   "cell_type": "markdown",
   "id": "62d96133-453b-4cc0-89bc-9e3f3a6574cb",
   "metadata": {},
   "source": [
    "## BB-Algebraic comparison"
   ]
  },
  {
   "cell_type": "code",
   "execution_count": 27,
   "id": "01aa6af9-987a-493b-ac14-ad97e63bb221",
   "metadata": {},
   "outputs": [
    {
     "data": {
      "text/plain": [
       "optim_mg_both"
      ]
     },
     "execution_count": 27,
     "metadata": {},
     "output_type": "execute_result"
    }
   ],
   "source": [
    "\"\"\"Optimize sizing of microgrid using JuMP\n",
    "\n",
    "Parameters:\n",
    "- `shed_max`: load shedding penalty threshold should be in  [0,1[\n",
    "- and some price params (keyword params)\n",
    "\n",
    "Sizing maximum bounds are taken as the global variables\n",
    "    power_rated_gen_max,\n",
    "    energy_rated_sto_max,\n",
    "    power_rated_pv_max,\n",
    "    power_rated_wind_max\n",
    "\"\"\"\n",
    "function optim_mg_both(shed_max;\n",
    "        jump_optimizer,\n",
    "        relax_gain = 1.0,\n",
    "        bb_algo=:GN_CRS2_LM, bb_srand=1,\n",
    "        create_mg_base = create_mg_modified,\n",
    "    )\n",
    "\n",
    "    xalg, lcoe_alg, diagnostics, model_data_alg = optim_mg_jump(jump_optimizer;\n",
    "        shed_max, relax_gain, create_mg_base # ndays must be 365, since BB doesn't support <365\n",
    "    )\n",
    "\n",
    "    smoothing=Smoothing(1.0, relax_gain) # full relaxation, with adustable compensation gain\n",
    "    max_eval=10_000\n",
    "    xbb, ret, numevals = optim_mg_bb(x0; shed_max, smoothing,\n",
    "                                     algo=bb_algo, max_eval, srand,\n",
    "                                     create_mg_base)\n",
    "\n",
    "    # Check performances\n",
    "    lcoe_bb, shed_rate_opt_bb = obj_multi(xbb; smoothing, create_mg_base)\n",
    "    \n",
    "    mg_alg = create_microgrid(xalg; create_mg_base)\n",
    "    # Alg sizing evaluated with simple Rule-based EM:\n",
    "    traj_alg_bb, stats_alg_bb, costs_alg_bb = simulate(mg_alg, smoothing)\n",
    "\n",
    "    # TODO: pass bb sizing through Alg model to check model quasi equivalence...\n",
    "    \n",
    "    return (;\n",
    "        xbb, xalg,\n",
    "        lcoe_bb, lcoe_alg, lcoe_alg_bb=costs_alg_bb.lcoe,\n",
    "        sr_alg_bb = stats_alg_bb.shed_rate,\n",
    "        mg_alg\n",
    "    )\n",
    "end"
   ]
  },
  {
   "cell_type": "markdown",
   "id": "cb3ce429-0500-4bee-82a6-db343194484c",
   "metadata": {},
   "source": [
    "case with 0.25 battery price (Grenoble workshop slides)"
   ]
  },
  {
   "cell_type": "code",
   "execution_count": 28,
   "id": "1e949b81-a12a-42bf-874c-fa9f915cbc6c",
   "metadata": {},
   "outputs": [
    {
     "name": "stdout",
     "output_type": "stream",
     "text": [
      "Building stage problem with 365 days...\n",
      "zero load shedding allowed\n",
      "Usage-dependent generator lifetime model (relax_gain=1.0)\n",
      "Xann constraints with z_tan=[0.2, 0.28, 0.37, 0.5, 0.68, 1.0, 1.7, 4.0]\n",
      "  8.896423 seconds (1.22 M allocations: 120.601 MiB, 0.31% gc time)\n"
     ]
    },
    {
     "data": {
      "text/plain": [
       "(xbb = [1577.1812661847691, 4766.513889783261, 1969.5977852069411, 1249.7075157497723], xalg = [1151.2638717436057, 5227.86643803324, 2054.983437933684, 1234.5327819529707], lcoe_bb = 0.17232666449068842, lcoe_alg = 0.17159371860032874, lcoe_alg_bb = 0.1712989085488984, sr_alg_bb = 0.0023472672601395437, mg_alg = Microgrid{Float64}(Project(25, 0.05, 1.0, \"€\", ConsistentSalvage), [1453.0, 1331.0, 1214.0, 1146.0, 1078.0, 1035.0, 1032.0, 1072.0, 1142.0, 1208.0  …  1479.0, 1508.0, 1410.0, 1370.0, 1467.0, 1587.0, 1561.0, 1472.0, 1533.0, 1483.0], DispatchableGenerator{Float64}(1151.2638717436057, 0.0, 0.24, 1.0, 400.0, 0.02, 15000.0, 0.0, 1.0, 1.0, \"L\"), Battery{Float64}(5227.86643803324, 87.5, 10.0, 15.0, 3000.0, 1.0, 1.0, 0.05, 0.0, 0.0, 1.0, 1.0), NonDispatchableSource[Photovoltaic{Float64}(2054.983437933684, [0.0, 0.0, 0.0, 0.0, 0.0, 0.0, 0.0, 0.0, 0.0, 7.000000000000001e-5  …  0.45131, 0.30678, 0.0, 0.0, 0.0, 0.0, 0.0, 0.0, 0.0, 0.0], 1200.0, 20.0, 25.0, 1.0, 1.0, 1.0), WindPower{Float64}(1234.5327819529707, [0.03184904690521816, 0.1104932647748532, 0.24596484619739856, 0.44422012231738006, 0.6554128208926687, 0.8470913237698507, 0.9579413031865969, 0.9735278942424532, 0.9837469734016646, 0.9903667231838823  …  0.011233045262998936, 0.018460507449516883, 0.023644167600765466, 0.02969747711584798, 0.036359043012900244, 0.03713796382151399, 0.037530379586714784, 0.03792477182913709, 0.037530379586714784, 0.03674751985711801], 3500.0, 100.0, 25.0, 1.0, 1.0)]))"
      ]
     },
     "execution_count": 28,
     "metadata": {},
     "output_type": "execute_result"
    }
   ],
   "source": [
    "shed_max = 0.0\n",
    "res = optim_mg_both(shed_max;\n",
    "    jump_optimizer = HiGHS.Optimizer,\n",
    "    relax_gain = smoothing.gain,\n",
    "    create_mg_base = create_mg_modified\n",
    ")"
   ]
  },
  {
   "cell_type": "code",
   "execution_count": 29,
   "id": "e24d7e09-2da0-49e9-910e-e2caa777a6f2",
   "metadata": {},
   "outputs": [
    {
     "data": {
      "text/plain": [
       "4-element Vector{Float64}:\n",
       " 1151.0\n",
       " 5228.0\n",
       " 2055.0\n",
       " 1235.0"
      ]
     },
     "execution_count": 29,
     "metadata": {},
     "output_type": "execute_result"
    }
   ],
   "source": [
    "round.(res.xalg)"
   ]
  },
  {
   "cell_type": "code",
   "execution_count": 30,
   "id": "0d2f6354-356e-4b88-9081-e12429dac284",
   "metadata": {},
   "outputs": [
    {
     "data": {
      "text/plain": [
       "(0.17232666449068842, 0.17159371860032874, 0.1712989085488984)"
      ]
     },
     "execution_count": 30,
     "metadata": {},
     "output_type": "execute_result"
    }
   ],
   "source": [
    "res.lcoe_bb, res.lcoe_alg, res.lcoe_alg_bb"
   ]
  },
  {
   "cell_type": "markdown",
   "id": "9a968418-03a9-4f2a-8fa2-24217ac66a5d",
   "metadata": {},
   "source": [
    "Shedding rate of Algebraic sizing evaluated with simple Rule-based EM:"
   ]
  },
  {
   "cell_type": "code",
   "execution_count": 31,
   "id": "4012eb3f-752c-4e20-9798-4b6f3de0e36f",
   "metadata": {},
   "outputs": [
    {
     "data": {
      "text/plain": [
       "0.23472672601395436"
      ]
     },
     "execution_count": 31,
     "metadata": {},
     "output_type": "execute_result"
    }
   ],
   "source": [
    "res.sr_alg_bb*100 # %"
   ]
  },
  {
   "cell_type": "markdown",
   "id": "75635cc4-11a9-4c52-b01d-b37d2d5bd4ed",
   "metadata": {},
   "source": [
    "trying other more crazy price configurations... doesn't yield more striking results"
   ]
  },
  {
   "cell_type": "code",
   "execution_count": 32,
   "id": "59cbade0-392d-4947-a4aa-e13954d0dcf2",
   "metadata": {},
   "outputs": [
    {
     "name": "stdout",
     "output_type": "stream",
     "text": [
      "mg prices modifications: sto*=0.01, gen*=2.0, fuel*=0.375\n",
      "Building stage problem with 365 days...\n",
      "zero load shedding allowed\n",
      "Usage-dependent generator lifetime model (relax_gain=1.0)\n",
      "Xann constraints with z_tan=[0.2, 0.28, 0.37, 0.5, 0.68, 1.0, 1.7, 4.0]\n",
      " 11.879007 seconds (1.22 M allocations: 120.601 MiB)\n"
     ]
    },
    {
     "data": {
      "text/plain": [
       "(xbb = [1593.8905809884252, 2000.6965465866951, 1127.9440826494279, 1022.2856262628892], xalg = [1270.091628354567, 2310.468711694134, 1196.3080040308942, 1001.6311610278485], lcoe_bb = 0.13715037574389147, lcoe_alg = 0.1360522430468936, lcoe_alg_bb = 0.1360411209567703, sr_alg_bb = 0.0011607945943899567, mg_alg = Microgrid{Float64}(Project(25, 0.05, 1.0, \"€\", ConsistentSalvage), [1453.0, 1331.0, 1214.0, 1146.0, 1078.0, 1035.0, 1032.0, 1072.0, 1142.0, 1208.0  …  1479.0, 1508.0, 1410.0, 1370.0, 1467.0, 1587.0, 1561.0, 1472.0, 1533.0, 1483.0], DispatchableGenerator{Float64}(1270.091628354567, 0.0, 0.24, 0.375, 800.0, 0.02, 15000.0, 0.0, 1.0, 1.0, \"L\"), Battery{Float64}(2310.468711694134, 3.5, 10.0, 15.0, 3000.0, 1.0, 1.0, 0.05, 0.0, 0.0, 1.0, 1.0), NonDispatchableSource[Photovoltaic{Float64}(1196.3080040308942, [0.0, 0.0, 0.0, 0.0, 0.0, 0.0, 0.0, 0.0, 0.0, 7.000000000000001e-5  …  0.45131, 0.30678, 0.0, 0.0, 0.0, 0.0, 0.0, 0.0, 0.0, 0.0], 1200.0, 20.0, 25.0, 1.0, 1.0, 1.0), WindPower{Float64}(1001.6311610278485, [0.03184904690521816, 0.1104932647748532, 0.24596484619739856, 0.44422012231738006, 0.6554128208926687, 0.8470913237698507, 0.9579413031865969, 0.9735278942424532, 0.9837469734016646, 0.9903667231838823  …  0.011233045262998936, 0.018460507449516883, 0.023644167600765466, 0.02969747711584798, 0.036359043012900244, 0.03713796382151399, 0.037530379586714784, 0.03792477182913709, 0.037530379586714784, 0.03674751985711801], 3500.0, 100.0, 25.0, 1.0, 1.0)]))"
      ]
     },
     "execution_count": 32,
     "metadata": {},
     "output_type": "execute_result"
    }
   ],
   "source": [
    "create_mg_modified2 = modify_mg_prices(sto=0.01, gen=2., fuel=0.375) ∘ create_mg_base\n",
    "\n",
    "res2 = optim_mg_both(0.0;\n",
    "    jump_optimizer = HiGHS.Optimizer,\n",
    "    relax_gain = smoothing.gain,\n",
    "    create_mg_base = create_mg_modified2\n",
    ")\n",
    "res2"
   ]
  },
  {
   "cell_type": "markdown",
   "id": "2c9feedd-ed2c-458b-95dc-68e770aa01d3",
   "metadata": {},
   "source": [
    "High fuel price: yields an even smaller LP generator "
   ]
  },
  {
   "cell_type": "code",
   "execution_count": 33,
   "id": "dbdca6ec-4a5f-40fb-b818-3056e82da443",
   "metadata": {},
   "outputs": [
    {
     "name": "stdout",
     "output_type": "stream",
     "text": [
      "mg prices modifications: sto*=1.0, gen*=1.0, fuel*=4\n",
      "Building stage problem with 365 days...\n",
      "zero load shedding allowed\n",
      "Usage-dependent generator lifetime model (relax_gain=1.0)\n",
      "Xann constraints with z_tan=[0.2, 0.28, 0.37, 0.5, 0.68, 1.0, 1.7, 4.0]\n",
      "  7.058633 seconds (1.22 M allocations: 120.601 MiB, 0.60% gc time)\n"
     ]
    },
    {
     "data": {
      "text/plain": [
       "(xbb = [1546.2471658308143, 7603.588342335612, 4105.686271969297, 1670.947503682742], xalg = [974.3822257332465, 7765.2594328302985, 4162.141089686538, 1653.4268709397613], lcoe_bb = 0.2891352534760916, lcoe_alg = 0.2879897837549453, lcoe_alg_bb = 0.2852553403013307, sr_alg_bb = 0.0036700053827238054, mg_alg = Microgrid{Float64}(Project(25, 0.05, 1.0, \"€\", ConsistentSalvage), [1453.0, 1331.0, 1214.0, 1146.0, 1078.0, 1035.0, 1032.0, 1072.0, 1142.0, 1208.0  …  1479.0, 1508.0, 1410.0, 1370.0, 1467.0, 1587.0, 1561.0, 1472.0, 1533.0, 1483.0], DispatchableGenerator{Float64}(974.3822257332465, 0.0, 0.24, 4.0, 400.0, 0.02, 15000.0, 0.0, 1.0, 1.0, \"L\"), Battery{Float64}(7765.2594328302985, 350.0, 10.0, 15.0, 3000.0, 1.0, 1.0, 0.05, 0.0, 0.0, 1.0, 1.0), NonDispatchableSource[Photovoltaic{Float64}(4162.141089686538, [0.0, 0.0, 0.0, 0.0, 0.0, 0.0, 0.0, 0.0, 0.0, 7.000000000000001e-5  …  0.45131, 0.30678, 0.0, 0.0, 0.0, 0.0, 0.0, 0.0, 0.0, 0.0], 1200.0, 20.0, 25.0, 1.0, 1.0, 1.0), WindPower{Float64}(1653.4268709397613, [0.03184904690521816, 0.1104932647748532, 0.24596484619739856, 0.44422012231738006, 0.6554128208926687, 0.8470913237698507, 0.9579413031865969, 0.9735278942424532, 0.9837469734016646, 0.9903667231838823  …  0.011233045262998936, 0.018460507449516883, 0.023644167600765466, 0.02969747711584798, 0.036359043012900244, 0.03713796382151399, 0.037530379586714784, 0.03792477182913709, 0.037530379586714784, 0.03674751985711801], 3500.0, 100.0, 25.0, 1.0, 1.0)]))"
      ]
     },
     "execution_count": 33,
     "metadata": {},
     "output_type": "execute_result"
    }
   ],
   "source": [
    "create_mg_modified3 = modify_mg_prices(fuel=4) ∘ create_mg_base\n",
    "\n",
    "res3 = optim_mg_both(0.0;\n",
    "    jump_optimizer = HiGHS.Optimizer,\n",
    "    relax_gain = smoothing.gain,\n",
    "    create_mg_base = create_mg_modified3\n",
    ")"
   ]
  },
  {
   "cell_type": "code",
   "execution_count": 34,
   "id": "9b20be1f-6f0f-4de1-bd77-def0010c2acd",
   "metadata": {},
   "outputs": [
    {
     "data": {
      "text/plain": [
       "4-element Vector{Float64}:\n",
       "  974.3822257332465\n",
       " 7765.2594328302985\n",
       " 4162.141089686538\n",
       " 1653.4268709397613"
      ]
     },
     "execution_count": 34,
     "metadata": {},
     "output_type": "execute_result"
    }
   ],
   "source": [
    "res3.xalg"
   ]
  },
  {
   "cell_type": "markdown",
   "id": "b3ac7214-e6db-4ea1-a15c-ca47dac52f4c",
   "metadata": {},
   "source": [
    "### Plots"
   ]
  },
  {
   "cell_type": "code",
   "execution_count": 32,
   "id": "fca0c02f-8b6b-42e3-8068-828daaaf3b08",
   "metadata": {
    "scrolled": true
   },
   "outputs": [],
   "source": [
    "traj_alg_bb, stats_alg_bb, costs_alg_bb = simulate(res.mg_alg, Smoothing(1.0));"
   ]
  },
  {
   "cell_type": "code",
   "execution_count": 33,
   "id": "c2ad58e5-2fdc-45ba-9448-efe1b16a1a97",
   "metadata": {},
   "outputs": [
    {
     "data": {
      "text/plain": [
       "plot_oper_traj (generic function with 1 method)"
      ]
     },
     "execution_count": 33,
     "metadata": {},
     "output_type": "execute_result"
    }
   ],
   "source": [
    "function plot_oper_traj(td, Pload, Pgen, Pren, Pshed, Ebatt)\n",
    "    fig, (ax1, ax2) = plt.subplots(2,1, figsize=(5,2.5), sharex=true)\n",
    "    ax1.plot(td, Pload, label=\"load\")\n",
    "    ax1.plot(td, Pgen, \"tab:red\", label=\"gen\")\n",
    "    ax1.plot(td, Pren, \"tab:green\", label=\"renew\")\n",
    "    ax1.plot(td, Pshed, \"tab:pink\", label=\"shed\")\n",
    "    \n",
    "    ax2.plot(td, Ebatt[1:end-1], \"C2\", label=\"Esto\")\n",
    "    \n",
    "    ax1.legend()\n",
    "    ax1.grid(true)\n",
    "    ax1.set(\n",
    "        ylabel=\"kW\"\n",
    "    )\n",
    "    ax2.grid(true)\n",
    "    ax2.legend()\n",
    "    ax2.set(\n",
    "        ylabel=\"kWh\"\n",
    "    )\n",
    "\n",
    "    fig.tight_layout()\n",
    "    return fig, (ax1, ax2)\n",
    "end"
   ]
  },
  {
   "cell_type": "code",
   "execution_count": 34,
   "id": "cd1571f3-80c2-48bd-a296-145e6ba34f2f",
   "metadata": {},
   "outputs": [
    {
     "data": {
      "text/plain": [
       "plot_oper_traj2"
      ]
     },
     "execution_count": 34,
     "metadata": {},
     "output_type": "execute_result"
    }
   ],
   "source": [
    "\"\"\"plot trajectories to illustrative non anticipativity\"\"\"\n",
    "function plot_oper_traj2(td, Pload, Pgen, Pren, Psto, Pshed, Ebatt)\n",
    "    Pnl_req = Pload - Pren\n",
    "    fig, (ax1, ax2) = plt.subplots(2,1, figsize=(5,2.5), sharex=true)\n",
    "    ax1.plot(td, Pnl_req, label=\"net load\", lw=3, alpha=0.5)\n",
    "    ax1.plot(td, Pgen, \"tab:red\", label=\"gen\")\n",
    "    ax1.plot(td, Psto, \"tab:green\", label=\"sto\")\n",
    "\n",
    "    #y1 = Pnl_req-Pshed\n",
    "    #y2 = Pnl_req\n",
    "    #println(size(td), size(y1), size(y2))\n",
    "    #ax1.fill_between(td, y1, y2, \"tab:pink\", label=\"shed\")\n",
    "    ax1.plot(td, Pshed, \"tab:pink\", label=\"shed\")\n",
    "    \n",
    "    ax2.plot(td, Ebatt[1:end-1], \"C2\", label=\"Esto\")\n",
    "    \n",
    "    ax1.legend(ncol=4)\n",
    "    ax1.grid(true)\n",
    "    ax1.set(\n",
    "        ylabel=\"kW\"\n",
    "    )\n",
    "    ax2.grid(true)\n",
    "    ax2.legend()\n",
    "    ax2.set(\n",
    "        ylabel=\"kWh\"\n",
    "    )\n",
    "\n",
    "    fig.tight_layout()\n",
    "    return fig, (ax1, ax2)\n",
    "end"
   ]
  },
  {
   "cell_type": "code",
   "execution_count": 35,
   "id": "d8b31e72-f283-48c1-8b32-56e9aa657246",
   "metadata": {},
   "outputs": [
    {
     "data": {
      "text/plain": [
       "false"
      ]
     },
     "execution_count": 35,
     "metadata": {},
     "output_type": "execute_result"
    }
   ],
   "source": [
    "#pygui(true) # open interactive plot window\n",
    "pygui(false) # display image in notebook"
   ]
  },
  {
   "cell_type": "code",
   "execution_count": 36,
   "id": "0bef3cc3-533e-42de-b6e2-535d25ca287e",
   "metadata": {},
   "outputs": [],
   "source": [
    "K = 365*24\n",
    "td = collect((0:K-1)/24); # time in days"
   ]
  },
  {
   "cell_type": "code",
   "execution_count": 37,
   "id": "698caf35-09f2-4e0b-9a61-3d30cc7378e6",
   "metadata": {},
   "outputs": [
    {
     "data": {
      "image/png": "[encoded data removed]",
      "text/plain": [
       "Figure(PyObject <Figure size 500x250 with 2 Axes>)"
      ]
     },
     "metadata": {},
     "output_type": "display_data"
    }
   ],
   "source": [
    "fig, (ax1, ax2) = plot_oper_traj2(td, mg_base.load,\n",
    "    traj_alg_bb.Pgen,\n",
    "    traj_alg_bb.Prenew_pot,\n",
    "    traj_alg_bb.Pbatt,\n",
    "    traj_alg_bb.power_shedding,\n",
    "    traj_alg_bb.Ebatt,\n",
    ")\n",
    "ax1.set_ylim(-2000, 2000)\n",
    "ax1.set_xlim(358, 364); # winter, end  of year, low wind -> shedding with Algebraic generator\n",
    "fig.savefig(\"traj_alg_bb_358-364.png\", dpi=250, bbox_inches=\"tight\")"
   ]
  },
  {
   "cell_type": "markdown",
   "id": "5a256752-e7a2-4cbd-8fb6-0fb6a8d8e866",
   "metadata": {},
   "source": [
    "## Two-stage SP\n",
    "\n",
    "*work in progress*:\n",
    "\n",
    "---\n",
    "\n",
    "**TODO**\n",
    "\n",
    "- update two-stage SP with above API changes of July 31, 2024\n",
    "- split in a separate notebook\n",
    "\n",
    "---"
   ]
  },
  {
   "cell_type": "markdown",
   "id": "c02b66aa-9cb3-4e92-acf8-e87c76b4ff63",
   "metadata": {},
   "source": [
    "### Data for 2nd stage scenarios\n",
    "\n",
    "3 equally probable fuel price changes"
   ]
  },
  {
   "cell_type": "code",
   "execution_count": 51,
   "id": "1477487a-c012-4306-8100-f48362eb0a93",
   "metadata": {},
   "outputs": [
    {
     "data": {
      "text/plain": [
       "1.0"
      ]
     },
     "execution_count": 51,
     "metadata": {},
     "output_type": "execute_result"
    }
   ],
   "source": [
    "mg_base.generator.fuel_price"
   ]
  },
  {
   "cell_type": "code",
   "execution_count": 89,
   "id": "818a77ff-2015-4dbb-ba61-eb844bf123ed",
   "metadata": {},
   "outputs": [
    {
     "name": "stdout",
     "output_type": "stream",
     "text": [
      "number of scenarios: 3\n"
     ]
    }
   ],
   "source": [
    "fuel_price_scenar = [0.5, 1.0, 1.5] # (decrease, constant, increase)\n",
    "ns = length(fuel_price_scenar)\n",
    "proba_scenar = [1., 1., 1.]/ns\n",
    "println(\"number of scenarios: $ns\")"
   ]
  },
  {
   "cell_type": "code",
   "execution_count": 90,
   "id": "9264cd57-5f41-49a2-854c-fdfa44d8a165",
   "metadata": {},
   "outputs": [],
   "source": [
    "#fuel_price_scenar = [fuel_price,] # (constant, for sanity check)\n",
    "#ns = length(fuel_price_scenar)\n",
    "#proba_scenar = [1.,]/ns\n",
    "#println(\"number of scenarios: $ns\")"
   ]
  },
  {
   "cell_type": "markdown",
   "id": "bb7eb720-e3fc-4191-b3f5-65872b9b16cc",
   "metadata": {},
   "source": [
    "### Helpers and model definition"
   ]
  },
  {
   "cell_type": "code",
   "execution_count": 91,
   "id": "4394dc3b-6d68-43eb-b49d-ab3f75100d55",
   "metadata": {},
   "outputs": [
    {
     "name": "stdout",
     "output_type": "stream",
     "text": [
      "0.4003000099610032 Cann1 + 0.5996999900389431 Cann2\n",
      "0.676935112477701 Cann1 + 0.3230648875222989 Cann2\n"
     ]
    }
   ],
   "source": [
    "\"\"\"Combine annualized cost of two project fragments:\n",
    "- Cann1 during T1 years\n",
    "- Cann2 during T2 years, starting after T1\n",
    "\"\"\"\n",
    "function Cann_total(Cann1, Cann2, T1, T2, discount_rate)\n",
    "    CRFproj(T) = CRF(discount_rate, T)\n",
    "    NPC1 = Cann1/CRFproj(T1)\n",
    "    discount2 = 1/(1+discount_rate)^T1\n",
    "    NPC2 = Cann2/CRFproj(T2) * discount2\n",
    "\n",
    "    NPC = NPC1 + NPC2\n",
    "    Cann = NPC*CRFproj(lifetime)\n",
    "end\n",
    "\n",
    "# test\n",
    "m = Model()\n",
    "@variable(m, Cann1)\n",
    "@variable(m, Cann2)\n",
    "println(Cann_total(Cann1, Cann2, 10, 15, 0.0001)) # 40% , 60%\n",
    "println(Cann_total(Cann1, Cann2, 10, 15, 0.10))   # 68% , 32%"
   ]
  },
  {
   "cell_type": "code",
   "execution_count": 92,
   "id": "c12909a7-029d-4958-9d9d-736bc0d124d5",
   "metadata": {},
   "outputs": [
    {
     "data": {
      "text/plain": [
       "setup_optim_mg_jump_2SP"
      ]
     },
     "execution_count": 92,
     "metadata": {},
     "output_type": "execute_result"
    }
   ],
   "source": [
    "\"\"\"Setup microgrid sizing optimization model using JuMP\n",
    "\n",
    "# Parameters:\n",
    "- `shed_max`: load shedding penalty threshold should be in  [0,1[\n",
    "- `optimizer`: JuMP compatible optimization solver\n",
    "\n",
    "# Optional keyword parameters\n",
    "- `ndays=365`: data reduction\n",
    "- `fixed_lifetimes`: true or false (default)\n",
    "- `relax_gain`: 1.0 by default. Increase to try to compensation the underestimation\n",
    "  of e.g. generator operating hours due to linearization.\n",
    "- and some price params (keyword params)\n",
    "\n",
    "Sizing maximum bounds are taken as the global variables\n",
    "    power_rated_gen_max,\n",
    "    energy_rated_sto_max,\n",
    "    power_rated_pv_max,\n",
    "    power_rated_wind_max\n",
    "\n",
    "Returns:\n",
    "- mg: base microgrid\n",
    "- model_data Dict, with variables, named constraints and the JuMP model\n",
    "- LCOE expression\n",
    "\"\"\"\n",
    "function setup_optim_mg_jump_2SP(shed_max, optimizer, Tmid;\n",
    "        ndays=365,\n",
    "        fixed_lifetimes=false,\n",
    "        relax_gain = 1.0,\n",
    "        investment_price_sto=investment_price_sto,\n",
    "        investment_price_gen=investment_price_gen,\n",
    "        fuel_price1=fuel_price,\n",
    "        fuel_price_scenar=fuel_price_scenar,\n",
    "        proba_scenar=proba_scenar\n",
    "    )\n",
    "    ns = length(proba_scenar)\n",
    "    println(\"number of 2nd stage scenarios: $ns\")\n",
    "\n",
    "    # base Microgrid with 1kW(h) ratings\n",
    "    T1 = Tmid\n",
    "    # TODO: decide where to change prices: in create_microgrid or in build model!!!\n",
    "    mg1 = create_microgrid([1., 1., 1., 1.];\n",
    "        investment_price_sto=investment_price_sto,\n",
    "        investment_price_gen=investment_price_gen,\n",
    "        fuel_price=fuel_price,\n",
    "        lifetime=T1\n",
    "    )\n",
    "    T2 = lifetime-Tmid\n",
    "    \n",
    "    mg2 = [create_microgrid([1., 1., 1., 1.];\n",
    "        investment_price_sto=investment_price_sto,\n",
    "        investment_price_gen=investment_price_gen,\n",
    "        fuel_price=fuel_price_scenar[s],\n",
    "        lifetime=lifetime-Tmid\n",
    "    ) for s=1:ns]\n",
    "\n",
    "    # JuMP model setup\n",
    "    model = Model(HiGHS.Optimizer)\n",
    "    set_silent(model)\n",
    "    \n",
    "    md1 = Dict{String,Any}()\n",
    "    md1[\"model\"] = model\n",
    "    build_optim_mg_stage!(mg1, shed_max, md1;\n",
    "        ndays, fixed_lifetimes, relax_gain,\n",
    "        investment_price_sto, investment_price_gen,\n",
    "        fuel_price=fuel_price1\n",
    "    )\n",
    "    \n",
    "    md2 = [Dict{String,Any}() for s=1:ns]\n",
    "    for s=1:ns\n",
    "        md2[s][\"model\"] = model\n",
    "        build_optim_mg_stage!(mg2[s], shed_max, md2[s];\n",
    "            ndays, fixed_lifetimes, relax_gain,\n",
    "            investment_price_sto, investment_price_gen,\n",
    "            fuel_price=fuel_price_scenar[s]\n",
    "        )\n",
    "    end    \n",
    "\n",
    "    discount_rate = mg1.project.discount_rate\n",
    "    Cann_scenar = [\n",
    "        Cann_total(md1[\"Cann\"], md2[s][\"Cann\"], T1, T2, discount_rate)\n",
    "        for s=1:ns]\n",
    "    # Expected annualized cost\n",
    "    Cann = Cann_scenar' * proba_scenar\n",
    "    \n",
    "    dt = mg1.project.timestep\n",
    "    Eload_desired = sum(mg1.load)*dt*365/ndays\n",
    "    LCOE = Cann/Eload_desired\n",
    "\n",
    "    @objective(model, Min, Cann)\n",
    "\n",
    "    return mg1, md1, md2, LCOE\n",
    "end"
   ]
  },
  {
   "cell_type": "code",
   "execution_count": 93,
   "id": "65d78db3-5237-4406-9676-a76396a6b827",
   "metadata": {},
   "outputs": [
    {
     "data": {
      "text/plain": [
       "optim_mg_jump_2SP"
      ]
     },
     "execution_count": 93,
     "metadata": {},
     "output_type": "execute_result"
    }
   ],
   "source": [
    "\"\"\"Optimize sizing of microgrid optimization using JuMP\n",
    "\n",
    "Parameters: see `setup_optim_mg_jump`. Extra optional parameter:\n",
    "- `model_custom`: a function taking `model_data` as arg and which can modify the optimization model\n",
    "\"\"\"\n",
    "function optim_mg_jump_2SP(shed_max, optimizer, Tmid;\n",
    "        model_custom=nothing,\n",
    "        ndays=365,\n",
    "        fixed_lifetimes=false,\n",
    "        relax_gain=1.0,\n",
    "        investment_price_sto=investment_price_sto,\n",
    "        investment_price_gen=investment_price_gen,\n",
    "        fuel_price1=fuel_price,\n",
    "        fuel_price_scenar=fuel_price_scenar,\n",
    "        proba_scenar=proba_scenar\n",
    "    )\n",
    "    # Create model\n",
    "    mg1_base, md1, md2, LCOE = setup_optim_mg_jump_2SP(shed_max, optimizer, Tmid;\n",
    "        ndays=ndays,\n",
    "        fixed_lifetimes=fixed_lifetimes,\n",
    "        relax_gain=relax_gain,\n",
    "        investment_price_sto=investment_price_sto,\n",
    "        investment_price_gen=investment_price_gen,\n",
    "        fuel_price1=fuel_price1,\n",
    "    )\n",
    "    model = md1[\"model\"]\n",
    "    \n",
    "    if model_custom !== nothing\n",
    "        model_custom(md1)\n",
    "        model_custom.(md2)\n",
    "    end\n",
    "\n",
    "    # Stage coupling constraints:\n",
    "    @constraint(model, [s=1:ns], md2[s][\"power_rated_pv\"] >= md1[\"power_rated_pv\"]) # PV cannot decrease\n",
    "    @constraint(model, [s=1:ns], md2[s][\"power_rated_wind\"] >= md1[\"power_rated_wind\"]) # wind cannot decrease\n",
    "\n",
    "    # Display model stats before solving\n",
    "    show(model)\n",
    "    # Optimize\n",
    "    println(\"optmization started\")\n",
    "    @time JuMP.optimize!(model)\n",
    "\n",
    "    # Extract results\n",
    "    LCOE_opt = value(LCOE)\n",
    "    x_varnames = [\"power_rated_gen\", \"energy_rated_sto\", \"power_rated_pv\", \"power_rated_wind\"]\n",
    "    xopt1 = value.([\n",
    "        md1[\"power_rated_gen\"]\n",
    "        md1[\"energy_rated_sto\"]\n",
    "        md1[\"power_rated_pv\"]\n",
    "        md1[\"power_rated_wind\"]\n",
    "    ])\n",
    "    xopt2 = value.([\n",
    "        md2[s][name] for name in x_varnames, s=1:ns\n",
    "    ])\n",
    "    return LCOE_opt, xopt1, xopt2, md1, md2\n",
    "end"
   ]
  },
  {
   "cell_type": "code",
   "execution_count": 94,
   "id": "05467c86-e788-4f8b-b55c-e4a589299b14",
   "metadata": {},
   "outputs": [
    {
     "name": "stdout",
     "output_type": "stream",
     "text": [
      "number of 2nd stage scenarios: 3\n",
      "Building stage problem with 365 days...\n",
      "Usage-dependant lifetime hypothesis for generator (relax_gain=1.0)\n",
      "Building stage problem with 365 days...\n",
      "Usage-dependant lifetime hypothesis for generator (relax_gain=1.0)\n",
      "Building stage problem with 365 days...\n",
      "Usage-dependant lifetime hypothesis for generator (relax_gain=1.0)\n",
      "Building stage problem with 365 days...\n",
      "Usage-dependant lifetime hypothesis for generator (relax_gain=1.0)\n",
      "A JuMP Model\n",
      "Minimization problem with:\n",
      "Variables: 315396\n",
      "Objective function type: AffExpr\n",
      "`AffExpr`-in-`MathOptInterface.EqualTo{Float64}`: 175212 constraints\n",
      "`AffExpr`-in-`MathOptInterface.GreaterThan{Float64}`: 35150 constraints\n",
      "`AffExpr`-in-`MathOptInterface.LessThan{Float64}`: 175204 constraints\n",
      "`VariableRef`-in-`MathOptInterface.EqualTo{Float64}`: 35040 constraints\n",
      "`VariableRef`-in-`MathOptInterface.GreaterThan{Float64}`: 140192 constraints\n",
      "`VariableRef`-in-`MathOptInterface.LessThan{Float64}`: 16 constraints\n",
      "Model mode: AUTOMATIC\n",
      "CachingOptimizer state: EMPTY_OPTIMIZER\n",
      "Solver name: HiGHSoptmization started\n",
      "183.615375 seconds (4.87 M allocations: 442.391 MiB, 0.48% gc time)\n"
     ]
    },
    {
     "data": {
      "text/plain": [
       "0.17060043890892865"
      ]
     },
     "execution_count": 94,
     "metadata": {},
     "output_type": "execute_result"
    }
   ],
   "source": [
    "optimizer = HiGHS.Optimizer\n",
    "#optimizer = Clp.Optimizer\n",
    "Tmid= 10 # y\n",
    "lcoe_alg_2SP, xalg_S1, xalg_S2, md1, md2 = optim_mg_jump_2SP(shed_max, optimizer, Tmid;\n",
    "    ndays=365,\n",
    "    relax_gain=1.0,\n",
    "    investment_price_sto=investment_price_sto*0.25,\n",
    "    investment_price_gen=investment_price_gen,\n",
    "    fuel_price1=fuel_price,\n",
    "    fuel_price_scenar=fuel_price_scenar,\n",
    "    proba_scenar=proba_scenar\n",
    ")\n",
    "lcoe_alg_2SP"
   ]
  },
  {
   "cell_type": "markdown",
   "id": "618867f4-245e-4b8c-a90c-f3f4d42e4d2b",
   "metadata": {},
   "source": [
    "LCOE: `0.170 600 438 908 92865` \\\\$/kWh (two stage with fuel price scenario [0.5, 1.0, 1.5]\\\\$/l), with PV and wind *nondecrease* constraint. Solving time: 180s (×12 compared to single stage)\n",
    "\n",
    "Sanity check: if 2nd stage scenario is constant (fuel price at 1.0 \\\\$/l), then we indeed get LCOE `0.171 593 718 600 32852` and two identical stage sizings, equal to the single stage base case. Solving time 45 s (×3 compared to single stage)"
   ]
  },
  {
   "cell_type": "markdown",
   "id": "06323fe8-8f9b-4767-ab93-9c94b0bc8380",
   "metadata": {},
   "source": [
    "Optimal sizing at all stages:"
   ]
  },
  {
   "cell_type": "code",
   "execution_count": 95,
   "id": "77c4acd5-8132-4cb4-82ed-1d915b3f32c8",
   "metadata": {},
   "outputs": [
    {
     "data": {
      "text/plain": [
       "4×4 Matrix{Float64}:\n",
       " 1190.0  1228.9  1151.3  1077.8\n",
       " 4187.6  2752.8  5227.9  7164.0\n",
       " 1791.9  1791.9  2055.0  2556.4\n",
       " 1209.1  1209.1  1234.5  1351.6"
      ]
     },
     "execution_count": 95,
     "metadata": {},
     "output_type": "execute_result"
    }
   ],
   "source": [
    "round.([xalg_S1 xalg_S2]; digits=1) "
   ]
  },
  {
   "cell_type": "markdown",
   "id": "0404b1fa-abc3-4d08-9a56-1b2a9d54d0e9",
   "metadata": {},
   "source": [
    "Obtained sizing: $x^*=$\n",
    "\n",
    "```\n",
    "    S1 1.0  S2 0.5  S2 1.0  S2 1.5 $/l\n",
    "Gen 1190.0  1228.9  1151.3  1077.8\n",
    "Sto 4187.6  2752.8  5227.9  7164.0\n",
    "PV  1791.9  1791.9  2055.0  2556.4\n",
    "Win 1209.1  1209.1  1234.5  1351.6\n",
    "```\n",
    "\n",
    "For comparison: single stage base case:\n",
    "\n",
    "LCOE: `0.171 593 718 600 3287` \n",
    "\n",
    "Sizing $x^*$:\n",
    "```\n",
    " 1151.3\n",
    " 5227.9\n",
    " 2055.0\n",
    " 1234.5\n",
    "```\n",
    "\n",
    "Observations:\n",
    "- Stage 1 of 2SP is\n",
    "  - *matching S2 low price scenar* for the PV and wind ratings\n",
    "  - uses slightly bigger gen (1190 vs 1151 kW)  and slightly smaller \"anything else\" (Sto, PV, wind) than the single stage base case\n",
    "- Stage 2 mid price scenar *matches exactly* the single stage base case\n",
    "- Stage 2 low price scenar downsizes the battery (4.2 to 2.8 MWh). Gen is slightly bigger\n",
    "- Stage 2 high price scenar oversize the battery (4.2 to 7.2 MWh). PV and wind also, but just slighlty. Gen is slightly smaller.\n",
    "- Wind ratings increases for S2 mid and high price scenar are so small that there are not realistic. A practical application would require rerunning the optim by requiring a constant wind sizing (or adding a nonconvex fixed price penalty to discourage small wind additions). \n",
    "\n",
    "*→ it seems to work!*"
   ]
  }
 ],
 "metadata": {
  "kernelspec": {
   "display_name": "Julia 1.11.1",
   "language": "julia",
   "name": "julia-1.11"
  },
  "language_info": {
   "file_extension": ".jl",
   "mimetype": "application/julia",
   "name": "julia",
   "version": "1.11.1"
  }
 },
 "nbformat": 4,
 "nbformat_minor": 5
}
