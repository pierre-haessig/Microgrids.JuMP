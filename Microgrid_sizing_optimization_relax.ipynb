{
 "cells": [
  {
   "cell_type": "markdown",
   "id": "b14f854f-51e9-4253-8946-d7ca39628ed0",
   "metadata": {},
   "source": [
    "# Microgrid sizing optimization\n",
    "\n",
    "(copied from Microgrid sizing optimization example notebook)"
   ]
  },
  {
   "cell_type": "code",
   "execution_count": 1,
   "id": "c2f04250-290c-4c38-93e6-074702ec0700",
   "metadata": {},
   "outputs": [],
   "source": [
    "using Microgrids\n",
    "using NLopt # optimization solvers\n",
    "using Printf # pretty print results\n",
    "using BenchmarkTools # for timing performance, optional"
   ]
  },
  {
   "cell_type": "markdown",
   "id": "5e20bad8-81a3-4a6b-8c1e-6848a20c0d55",
   "metadata": {},
   "source": [
    "## Load Microgrid project data\n",
    "\n",
    "Loading parameters and time series for a Microgrid project with *wind* and *solar* sources, plus a *battery* and a *dispatchable generator*. \n",
    "Values gathered from the [Microgrid_Wind-Solar.ipynb]((Microgrid_Wind-Solar.ipynb)) notebook."
   ]
  },
  {
   "cell_type": "code",
   "execution_count": 2,
   "id": "a078bb9d-37a9-45f0-bb00-4404a44dcb30",
   "metadata": {},
   "outputs": [
    {
     "name": "stdout",
     "output_type": "stream",
     "text": [
      "Data definition for Microgrid with wind, solar, storage and generator...\n"
     ]
    }
   ],
   "source": [
    "include(\"../../Microgrids.jl/examples/Microgrid_Wind-Solar_data.jl\");"
   ]
  },
  {
   "cell_type": "markdown",
   "id": "9431f37f-4a44-42f7-a017-4935125731f2",
   "metadata": {},
   "source": [
    "## Setting up the cost function (criterion) to be optimized\n",
    "\n",
    "The key coding objective is to **encapsulate** the microgrid simulators (`simulate` function of `Microgrids.jl` package) into an objective function that can be called by the optimization algorithm, that is which respects its expected interface (here NLopt).\n",
    "\n",
    "To increase the modularity which facilites using optimization solvers others that NLopt's we implement the encapsulation by **3 nested functions**:\n",
    "\n",
    "1. Simulation of Microgrid project described by a sizing vector `x` (vector input) → returns all simulation statistics\n",
    "2. Extract KPIs of interest to build a multi-objective criterion: here lcoe and shedding rate\n",
    "3. Combine these KPIs as one mono-objective criterion: here LCOE + penalty if shedding rate > shed_max\n",
    "   - and match the interface expected by NLopt's optimizers\n",
    "\n",
    "but if one cares more about compactness, this could be assembled into one single function."
   ]
  },
  {
   "cell_type": "markdown",
   "id": "adb0b6bb-54f7-4849-b1b0-b236681be8d9",
   "metadata": {},
   "source": [
    "### Wrapper of the Microgrid simulator\n",
    "\n",
    "accept a sizing vector `x`, then create all `Microgrids.jl` components and call `simulate`"
   ]
  },
  {
   "cell_type": "code",
   "execution_count": 3,
   "id": "b1b119b9-0e9c-447d-b708-ef64e11b0d0d",
   "metadata": {},
   "outputs": [
    {
     "data": {
      "text/plain": [
       "simulate_microgrid"
      ]
     },
     "execution_count": 3,
     "metadata": {},
     "output_type": "execute_result"
    }
   ],
   "source": [
    "\"\"\"Simulate the performance of a Microgrid project of size `x`\n",
    "with x=[power_rated_gen, energy_rated_sto, power_rated_pv, power_rated_wind]\n",
    "\n",
    "Returns stats, costs\n",
    "\"\"\"\n",
    "    function simulate_microgrid(x, relax)\n",
    "    project = Project(lifetime, discount_rate, timestep, \"€\")\n",
    "    # Split decision variables (converted MW → kW):\n",
    "    power_rated_gen = x[1]*1000\n",
    "    energy_rated_sto = x[2]*1000\n",
    "    power_rated_pv = x[3]*1000\n",
    "    power_rated_wind = x[4]*1000\n",
    "\n",
    "    # Create components\n",
    "    gen = DispatchableGenerator(power_rated_gen,\n",
    "        fuel_intercept, fuel_slope, fuel_price,\n",
    "        investment_price_gen, om_price_gen, lifetime_gen,\n",
    "        load_ratio_min,\n",
    "        replacement_price_ratio, salvage_price_ratio, fuel_unit)\n",
    "    batt = Battery(energy_rated_sto,\n",
    "        investment_price_sto, om_price_sto, lifetime_sto, lifetime_cycles,\n",
    "        charge_rate, discharge_rate, loss_factor_sto, SoC_min, SoC_ini,\n",
    "        replacement_price_ratio, salvage_price_ratio)\n",
    "    pv = Photovoltaic(power_rated_pv, irradiance,\n",
    "        investment_price_pv, om_price_pv,\n",
    "        lifetime_pv, derating_factor_pv,\n",
    "        replacement_price_ratio, salvage_price_ratio)\n",
    "    windgen = WindPower(power_rated_wind, cf_wind,\n",
    "        investment_price_wind, om_price_wind,\n",
    "        lifetime_wind,\n",
    "        replacement_price_ratio, salvage_price_ratio)\n",
    "    mg = Microgrid(project, Pload, gen, batt, [pv, windgen])\n",
    "\n",
    "    # Launch simulation:\n",
    "    traj, stats, costs = simulate(mg, relax)\n",
    "\n",
    "    return stats, costs\n",
    "end"
   ]
  },
  {
   "cell_type": "markdown",
   "id": "e5321132-a5bf-467b-839b-99e36a2e781c",
   "metadata": {},
   "source": [
    "Test of the simulator wrapper (on a baseline sizing):"
   ]
  },
  {
   "cell_type": "code",
   "execution_count": 4,
   "id": "d765dc6a-eeda-4727-b259-479176670dc1",
   "metadata": {},
   "outputs": [
    {
     "data": {
      "text/plain": [
       "([1.707, 0.0, 0.0, 0.0, 0.0], 0.28992486610483786, 27.68381750549201)"
      ]
     },
     "execution_count": 4,
     "metadata": {},
     "output_type": "execute_result"
    }
   ],
   "source": [
    "# Baseline sizing: same as in Microgrid_Wind-Solar.ipynb notebook\n",
    "x_base = [power_rated_gen, energy_rated_sto, power_rated_pv, power_rated_wind]/1000.\n",
    "x_base = [1707., 0., 0., 0., 0.]/1000.\n",
    "# run simulation:\n",
    "stats, costs = simulate_microgrid(x_base, 1.0)\n",
    "x_base, costs.lcoe, costs.npc/1e6"
   ]
  },
  {
   "cell_type": "code",
   "execution_count": 5,
   "id": "cf060a5f-738a-4263-98af-6f15809d8c24",
   "metadata": {},
   "outputs": [
    {
     "data": {
      "text/plain": [
       "OperationStats with fields:\n",
       "- served_energy: 6.775e6 kWh\n",
       "- shed_energy: 0.0 kWh\n",
       "- shed_max: 0.0 kW\n",
       "- shed_hours: 0.0 h\n",
       "- shed_duration_max: 0.0 h\n",
       "- shed_rate: 0.0 in [0,1]\n",
       "- gen_energy: 6.775e6 kWh\n",
       "- gen_hours: 3968.9 h\n",
       "- gen_fuel: 1.626e6 L\n",
       "- storage_cycles: NaN \n",
       "- storage_char_energy: -0.0 kWh\n",
       "- storage_dis_energy: 0.0 kWh\n",
       "- storage_loss_energy: -0.0 kWh\n",
       "- spilled_energy: 0.0 kWh\n",
       "- spilled_max: 0.0 kW\n",
       "- spilled_rate: NaN in [0,1]\n",
       "- renew_potential_energy: 0.0 kWh\n",
       "- renew_energy: 0.0 kWh\n",
       "- renew_rate: 0.0 in [0,1]\n"
      ]
     },
     "execution_count": 5,
     "metadata": {},
     "output_type": "execute_result"
    }
   ],
   "source": [
    "stats"
   ]
  },
  {
   "cell_type": "markdown",
   "id": "e0575693-d4dc-4525-938f-f47de66c1a48",
   "metadata": {},
   "source": [
    "Generator cost check:"
   ]
  },
  {
   "cell_type": "code",
   "execution_count": 7,
   "id": "c4554ef2-7b4b-4ab0-8314-50c1ead7346b",
   "metadata": {},
   "outputs": [
    {
     "data": {
      "text/plain": [
       "CostFactors(2.768381750549201e7, 682800.0, 2.256690377894558e6, 1.909723569242347e6, 2.2916682830908217e7, -82079.27255311127)"
      ]
     },
     "execution_count": 7,
     "metadata": {},
     "output_type": "execute_result"
    }
   ],
   "source": [
    "costs.generator "
   ]
  },
  {
   "cell_type": "markdown",
   "id": "e30d4aa0-beed-4548-b7d4-c1af5d981f29",
   "metadata": {},
   "source": [
    "Classical linear salvage: (77.6k)\n",
    "\n",
    "- CostFactors(2.7688247701701254e7, 682800.0, 2.256690377894558e6, 1.909723569242347e6, 2.2916682830908217e7, -77649.07634386775)\n",
    "\n",
    "economically consistent definition: larger salvage (82.0k)\n",
    "\n",
    "- CostFactors(2.768381750549201e7, 682800.0, 2.256690377894558e6, 1.909723569242347e6, 2.2916682830908217e7, -82079.27255311127)"
   ]
  },
  {
   "cell_type": "markdown",
   "id": "6e51a19f-0f68-44e4-ae09-ad11806f5747",
   "metadata": {},
   "source": [
    "### Build the objective functions (criteria)\n",
    "\n",
    "- first bi-objective function x ↦ (lcoe, shedding rate)(x)\n",
    "- then wrapped into a mono objective x ↦ J(x) by using a penalty for the excess of shedding rate\n",
    "  - and match the interface expected by NLopt's optimizers"
   ]
  },
  {
   "cell_type": "code",
   "execution_count": 9,
   "id": "470f5630-322c-497f-bac9-beb87f014f71",
   "metadata": {},
   "outputs": [
    {
     "data": {
      "text/plain": [
       "obj_multi"
      ]
     },
     "execution_count": 9,
     "metadata": {},
     "output_type": "execute_result"
    }
   ],
   "source": [
    "\"Multi-objective criterion for microgrid performance: lcoe, shedding rate\"\n",
    "function obj_multi(x)\n",
    "    stats, costs = simulate_microgrid(x, 1.0) # full relaxation\n",
    "    # Extract KPIs of interest\n",
    "    lcoe = costs.lcoe # $/kWh\n",
    "    shed_rate = stats.shed_rate; # in [0,1]\n",
    "    return lcoe, shed_rate\n",
    "end"
   ]
  },
  {
   "cell_type": "code",
   "execution_count": 10,
   "id": "6b3eb2d2-1513-424b-baa0-a49ca5247bb4",
   "metadata": {},
   "outputs": [
    {
     "data": {
      "text/plain": [
       "obj"
      ]
     },
     "execution_count": 10,
     "metadata": {},
     "output_type": "execute_result"
    }
   ],
   "source": [
    "\"\"\"Mono-objective criterion: LCOE + penalty if shedding rate > `shed_max`\n",
    "\n",
    "with signature adapted to NLopt with `grad` as 2nd argument\n",
    "\n",
    "load shedding penalty threshold `shed_max` should be in  [0,1[\n",
    "\"\"\"\n",
    "function obj(x, grad, shed_max, w_shed_max=1e5)\n",
    "    lcoe, shed_rate = obj_multi(x)\n",
    "    over_shed = shed_rate - shed_max\n",
    "    if over_shed > 0.0\n",
    "        penalty = w_shed_max*over_shed\n",
    "    else\n",
    "        penalty = 0.0\n",
    "    end\n",
    "    J = lcoe + penalty\n",
    "end"
   ]
  },
  {
   "cell_type": "markdown",
   "id": "c57f7af9-ea2f-40a8-b502-ba98b472410c",
   "metadata": {},
   "source": [
    "### Tests the objective functions\n",
    "\n",
    "Sizing being tested:\n",
    "- baseline sizing from the simulation notebook: perfect quality of service (QoS) with zero load shedding\n",
    "- baseline modified with a halved generator sizing: very good QoS with a bit of load shedding → not penalized\n",
    "- small PV and small wind generators only: low LCOE (i.e. the production-only LCOE of these sources) but but extremely bad QoS → huge penalty"
   ]
  },
  {
   "cell_type": "code",
   "execution_count": 11,
   "id": "8de2153d-559f-4a60-880e-e8ea5fa3b810",
   "metadata": {},
   "outputs": [
    {
     "name": "stdout",
     "output_type": "stream",
     "text": [
      "Base. multi: (0.28992486610483786, 0.0) mono: 0.28992486610483786\n",
      "Shed. multi: (0.1965916081469468, 0.009602858175478355) mono: 960.4824091559824\n",
      "PV.   multi: (0.10149685980966677, 0.923547868561659) mono: 92354.8883530257\n",
      "Wind. multi: (0.10040264224635914, 0.74395737102815) mono: 74395.83750545724\n"
     ]
    }
   ],
   "source": [
    "# Test:\n",
    "shed_max = 0.0 # in [0,1]\n",
    "\n",
    "x_shed = [power_rated_gen/2, energy_rated_sto, power_rated_pv, power_rated_wind]/1000.\n",
    "x_pv   = [0. 0. 500.   0.]/1000.\n",
    "x_wind = [0. 0.   0. 500.]/1000.\n",
    "\n",
    "println(\"Base. multi: \", obj_multi(x_base), \" mono: \", obj(x_base,[], shed_max))\n",
    "println(\"Shed. multi: \", obj_multi(x_shed), \" mono: \", obj(x_shed,[], shed_max))\n",
    "println(\"PV.   multi: \", obj_multi(x_pv), \" mono: \", obj(x_pv,[], shed_max))\n",
    "println(\"Wind. multi: \", obj_multi(x_wind), \" mono: \", obj(x_wind,[], shed_max))"
   ]
  },
  {
   "cell_type": "markdown",
   "id": "dfbf1ccf-a7df-474a-991c-9437bd83d8ab",
   "metadata": {},
   "source": [
    "## Optimization"
   ]
  },
  {
   "cell_type": "markdown",
   "id": "d15efd32-c2ab-4d9a-98cf-5918cdf0b9b1",
   "metadata": {},
   "source": [
    "### Setting up the optimization problem"
   ]
  },
  {
   "cell_type": "markdown",
   "id": "87ccea54-0d83-4b01-8f7e-de37c8dfa0d9",
   "metadata": {},
   "source": [
    "bounds of the design space and starting point: derived from maximal load power"
   ]
  },
  {
   "cell_type": "code",
   "execution_count": 12,
   "id": "5ac92d7e-5de1-4ddf-a050-6897dbc8af2d",
   "metadata": {},
   "outputs": [
    {
     "data": {
      "text/plain": [
       "4-element Vector{Float64}:\n",
       "  2.0484\n",
       " 17.07\n",
       " 17.07\n",
       "  8.535"
      ]
     },
     "execution_count": 12,
     "metadata": {},
     "output_type": "execute_result"
    }
   ],
   "source": [
    "Pload_max = maximum(Pload)\n",
    "\n",
    "xmin = [0., 0., 1e-3, 0.] # 1e-3 instead of 0.0, because LCOE is NaN if ther is exactly zero generation\n",
    "x0 = [1.0, 3.0, 3.0, 2.0] * (Pload_max/1000)\n",
    "xmax = [1.2, 10.0, 10.0, 5.0] * (Pload_max/1000)"
   ]
  },
  {
   "cell_type": "markdown",
   "id": "6c2bc984-bae8-403f-8130-d50efc8f5717",
   "metadata": {},
   "source": [
    "Optionally ban some choices:"
   ]
  },
  {
   "cell_type": "code",
   "execution_count": 13,
   "id": "9f65e094-4c58-4e9b-b4ee-b626f6504f6c",
   "metadata": {},
   "outputs": [],
   "source": [
    "# Solar power forbidden (optional)\n",
    "#x0[3] = 1e-3\n",
    "#xmax[3] = 1e-3\n",
    "# Wind power forbidden (optional)\n",
    "#x0[4] = 0.\n",
    "#xmax[4] = 0."
   ]
  },
  {
   "cell_type": "markdown",
   "id": "f1bd17b9-c02d-4280-8715-c46efe6c03f4",
   "metadata": {},
   "source": [
    "Check cost function on `xmin` and `xmax`"
   ]
  },
  {
   "cell_type": "code",
   "execution_count": 14,
   "id": "6d5ef67e-5d40-4bb0-a13d-65dc3d57bceb",
   "metadata": {},
   "outputs": [
    {
     "data": {
      "text/plain": [
       "((0.10149685980963595, 0.9998470957371233), (0.821047482642638, 0.0))"
      ]
     },
     "execution_count": 14,
     "metadata": {},
     "output_type": "execute_result"
    }
   ],
   "source": [
    "obj_multi(xmin), obj_multi(xmax)"
   ]
  },
  {
   "cell_type": "markdown",
   "id": "3daceed1-2315-4eca-b7bd-b3a1e31cff09",
   "metadata": {},
   "source": [
    "### Wrapper of the optimization process\n",
    "\n",
    "This is an optional step, but recommended to explore easily the impact of the many parameters taken by optimization algorithms.\n",
    "\n",
    "See [optimization termination conditions](https://nlopt.readthedocs.io/en/latest/NLopt_Introduction/#termination-conditions) in NLopt documention for the meaning of `xtol_rel`"
   ]
  },
  {
   "cell_type": "code",
   "execution_count": 15,
   "id": "08491363-e1ce-47d3-a425-4bc83888be12",
   "metadata": {},
   "outputs": [
    {
     "data": {
      "text/plain": [
       "optim_mg"
      ]
     },
     "execution_count": 15,
     "metadata": {},
     "output_type": "execute_result"
    }
   ],
   "source": [
    "\"\"\"Optimize sizing of microgrid based on the `obj` function\n",
    "\n",
    "Parameters:\n",
    "- `x0`: initial sizing (for the algorithms which need them)\n",
    "- `shed_max`: load shedding penalty threshold (same as in `obj`)\n",
    "- `algo` could be one of LN_SBPLX, GN_DIRECT, GN_ESCH...\n",
    "- `maxeval`: maximum allowed number of calls to the objective function,\n",
    "  that is to the microgrid simulation\n",
    "- `xtol_rel`: termination condition based on relative change of sizing, see NLopt doc.\n",
    "- `srand`: random number generation seed (for algorithms which use some stochastic search)\n",
    "\n",
    "Problem bounds are taken as the global variables `xmin`, `xmax`,\n",
    "but could be added to the parameters as well.\n",
    "\"\"\"\n",
    "function optim_mg(x0, shed_max, algo=:LN_SBPLX, maxeval=1000, xtol_rel=1e-4, srand=1)\n",
    "    nx = length(x0) # number of optim variables\n",
    "    opt = Opt(algo, nx)\n",
    "    NLopt.srand(srand)\n",
    "    \n",
    "    opt.lower_bounds = xmin\n",
    "    opt.upper_bounds = xmax\n",
    "    opt.min_objective = (x, grad) -> obj(x, grad, shed_max)\n",
    "    opt.xtol_rel = xtol_rel\n",
    "    opt.maxeval = maxeval\n",
    "    \n",
    "    (fopt, xopt, ret) = optimize(opt, x0)\n",
    "    return xopt, ret, opt.numevals\n",
    "end"
   ]
  },
  {
   "cell_type": "markdown",
   "id": "11264431-19b1-4349-bc90-19d88bba1b87",
   "metadata": {},
   "source": [
    "### Run optimization & analyze results"
   ]
  },
  {
   "cell_type": "code",
   "execution_count": 46,
   "id": "d32fcbf4-42fc-42aa-a4ad-1b8ca24a984d",
   "metadata": {},
   "outputs": [
    {
     "name": "stdout",
     "output_type": "stream",
     "text": [
      "GN_CRS2_LM algo: XTOL_REACHED after 2216 iterations. \n",
      "x*=[1573.9, 970.9, 1169.6, 1293.8]\n",
      "LCOE*: 0.18122665766333945\n",
      "shed*: 0.0\n"
     ]
    }
   ],
   "source": [
    "algo = :GN_CRS2_LM # could be one of GN_CRS2_LM, GN_DIRECT, GN_ESCH, LN_SBPLX...\n",
    "shed_max = 0.00 # in [0,1]\n",
    "maxeval=10000\n",
    "srand=1\n",
    "xopt, ret, numevals = optim_mg(x0, shed_max, algo, maxeval, 1e-5, srand)\n",
    "\n",
    "@printf(\"%s algo: %s after %d iterations. \\nx*=\", algo, ret, numevals)\n",
    "println(round.(xopt*1000; digits=1)) # kW\n",
    "lcoe_opt, shed_rate_opt = obj_multi(xopt)\n",
    "println(\"LCOE*: \", lcoe_opt)\n",
    "println(\"shed*: \", shed_rate_opt)"
   ]
  },
  {
   "cell_type": "markdown",
   "id": "58772966-74b1-431c-9f84-e8efe7352130",
   "metadata": {},
   "source": [
    "optional local \"polishing\":"
   ]
  },
  {
   "cell_type": "code",
   "execution_count": 47,
   "id": "78b3e3f8-0de8-47f3-a8a4-40358feef172",
   "metadata": {},
   "outputs": [
    {
     "name": "stdout",
     "output_type": "stream",
     "text": [
      "LN_SBPLX polish: XTOL_REACHED after 207 iterations. \n",
      "x*=[1573.9, 971.0, 1169.6, 1293.8]\n",
      "LCOE*: 0.18122664580933595\n",
      "shed*: 0.0\n"
     ]
    }
   ],
   "source": [
    "algo_polish = :LN_SBPLX\n",
    "xopt_polish, ret, numevals = optim_mg(xopt, shed_max, algo_polish, maxeval, 1e-5)\n",
    "\n",
    "@printf(\"%s polish: %s after %d iterations. \\nx*=\", algo_polish, ret, numevals)\n",
    "println(round.(xopt_polish*1000; digits=1)) # kW\n",
    "lcoe_opt, shed_rate_opt = obj_multi(xopt_polish)\n",
    "println(\"LCOE*: \", lcoe_opt)\n",
    "println(\"shed*: \", shed_rate_opt)"
   ]
  },
  {
   "cell_type": "markdown",
   "id": "f543939c-c26d-40fb-aefa-129dff57ae1d",
   "metadata": {},
   "source": [
    "Retrieve all performance statistics of the optimized sizing"
   ]
  },
  {
   "cell_type": "code",
   "execution_count": 52,
   "id": "c5cacc8d-0c56-49f2-b531-e0fe10dd2600",
   "metadata": {},
   "outputs": [
    {
     "data": {
      "text/plain": [
       "4-element Vector{Float64}:\n",
       " 1.5739391977120336\n",
       " 0.9709769074394994\n",
       " 1.1696385309544288\n",
       " 1.2938324399374947"
      ]
     },
     "execution_count": 52,
     "metadata": {},
     "output_type": "execute_result"
    }
   ],
   "source": [
    "xopt = [ # xopt_polish\n",
    "    1.5739391977120336\n",
    "    0.9709769074394994\n",
    "    1.1696385309544288\n",
    "    1.2938324399374947]"
   ]
  },
  {
   "cell_type": "code",
   "execution_count": 53,
   "id": "2bb7fc5e-f414-4a12-9a28-a6a221564833",
   "metadata": {},
   "outputs": [
    {
     "data": {
      "text/plain": [
       "1.7304639843841173e7"
      ]
     },
     "execution_count": 53,
     "metadata": {},
     "output_type": "execute_result"
    }
   ],
   "source": [
    "stats_opt, costs_opt = simulate_microgrid(xopt, 1.0)\n",
    "costs_opt.npc"
   ]
  },
  {
   "cell_type": "code",
   "execution_count": 54,
   "id": "1e046d9e-21ec-4834-9bf3-5bc1c9be1f0a",
   "metadata": {},
   "outputs": [
    {
     "name": "stdout",
     "output_type": "stream",
     "text": [
      "NPC*: 17.30 M$ (compared to 27.68 M$ in baseline)\n",
      "rate of renewables: 69.5 %\n"
     ]
    },
    {
     "data": {
      "text/plain": [
       "OperationStats with fields:\n",
       "- served_energy: 6.775e6 kWh\n",
       "- shed_energy: 0.0 kWh\n",
       "- shed_max: 0.0 kW\n",
       "- shed_hours: 0.0 h\n",
       "- shed_duration_max: 0.0 h\n",
       "- shed_rate: 0.0 in [0,1]\n",
       "- gen_energy: 2.0691e6 kWh\n",
       "- gen_hours: 1314.6 h\n",
       "- gen_fuel: 496570.0 L\n",
       "- storage_cycles: 200.0 \n",
       "- storage_char_energy: 203910.0 kWh\n",
       "- storage_dis_energy: 184490.0 kWh\n",
       "- storage_loss_energy: 19420.0 kWh\n",
       "- spilled_energy: 985860.0 kWh\n",
       "- spilled_max: 1568.6 kW\n",
       "- spilled_rate: 0.17262 in [0,1]\n",
       "- renew_potential_energy: 5.7112e6 kWh\n",
       "- renew_energy: 4.7253e6 kWh\n",
       "- renew_rate: 0.6946 in [0,1]\n"
      ]
     },
     "execution_count": 54,
     "metadata": {},
     "output_type": "execute_result"
    }
   ],
   "source": [
    "stats_opt, costs_opt = simulate_microgrid(xopt, 1.0)\n",
    "@printf(\"NPC*: %.2f M\\$ (compared to %.2f M\\$ in baseline)\\n\", costs_opt.npc/1e6, costs.npc/1e6)\n",
    "@printf(\"rate of renewables: %.1f %%\\n\", stats_opt.renew_rate*100)\n",
    "# Display all operation statistics\n",
    "stats_opt"
   ]
  },
  {
   "cell_type": "markdown",
   "id": "8226f767-4642-4a3a-9b09-46573c4a4455",
   "metadata": {},
   "source": [
    "Cost decomposition of the generator:"
   ]
  },
  {
   "cell_type": "code",
   "execution_count": 55,
   "id": "30d133aa-8ac6-4796-8f6c-76bb7792ae98",
   "metadata": {},
   "outputs": [
    {
     "data": {
      "text/plain": [
       "(1.03922302139769e6, 583224.5749792828, 6.99869489975141e6)"
      ]
     },
     "execution_count": 55,
     "metadata": {},
     "output_type": "execute_result"
    }
   ],
   "source": [
    "costs_opt.generator.investment + costs_opt.generator.replacement + costs_opt.generator.salvage,\n",
    "costs_opt.generator.om, costs_opt.generator.fuel"
   ]
  },
  {
   "cell_type": "markdown",
   "id": "6fec0632-2c4b-4683-8d53-c8062fd238d7",
   "metadata": {},
   "source": [
    "#### *Original results* (no relax) with perfect quality of service (QoS)\n",
    "\n",
    "bigger battery:\n",
    "\n",
    "```\n",
    "GN_CRS2_LM algo: MAXEVAL_REACHED after 1002 iterations. \n",
    "x*=[1561.8, 2821.2, 1758.3, 1464.5]\n",
    "LCOE*: 0.2074272180878332\n",
    "shed*: 0.0\n",
    "```"
   ]
  },
  {
   "cell_type": "code",
   "execution_count": 15,
   "id": "8f4a08f2-96d5-47f1-a9fb-41a419051be8",
   "metadata": {},
   "outputs": [
    {
     "name": "stdout",
     "output_type": "stream",
     "text": [
      "GN_CRS2_LM algo: MAXEVAL_REACHED after 1002 iterations. \n",
      "x*=[1561.8, 2821.2, 1758.3, 1464.5]\n",
      "LCOE*: 0.2074272180878332\n",
      "shed*: 0.0\n"
     ]
    }
   ],
   "source": [
    "algo = :GN_CRS2_LM # could be one of LN_SBPLX, GN_DIRECT, GN_CRS2_LM, GN_ESCH...\n",
    "shed_max = 0.00 # in [0,1]\n",
    "maxeval=1000\n",
    "xopt, ret, numevals = optim_mg(x0, shed_max, algo, maxeval)\n",
    "\n",
    "@printf(\"%s algo: %s after %d iterations. \\nx*=\", algo, ret, numevals)\n",
    "println(round.(xopt*1000; digits=1)) # kW\n",
    "lcoe_opt, shed_rate_opt = obj_multi(xopt)\n",
    "println(\"LCOE*: \", lcoe_opt)\n",
    "println(\"shed*: \", shed_rate_opt)"
   ]
  }
 ],
 "metadata": {
  "kernelspec": {
   "display_name": "Julia 1.10.2",
   "language": "julia",
   "name": "julia-1.10"
  },
  "language_info": {
   "file_extension": ".jl",
   "mimetype": "application/julia",
   "name": "julia",
   "version": "1.10.2"
  }
 },
 "nbformat": 4,
 "nbformat_minor": 5
}
