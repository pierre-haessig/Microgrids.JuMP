{
 "cells": [
  {
   "cell_type": "markdown",
   "id": "b14f854f-51e9-4253-8946-d7ca39628ed0",
   "metadata": {},
   "source": [
    "# Microgrid optimization with an algebraic approach using JuMP\n",
    "\n",
    "\n",
    "An experiment which derives from the **Microgrid sizing optimization** notebook example in `../Microgrids.jl/examples/`. However, instead of doing a sizing optimization using a blackbox approach which calls the Microgrid simulator, here we use an algebraic description of the problem (using JuMP) and we run an \"all-in-one\" optimization of both the sizing and the energy flows at each instant.\n",
    "\n",
    "Caveat: this yields an anticipative energy management.\n",
    "\n",
    "PH, oct 2023"
   ]
  },
  {
   "cell_type": "code",
   "execution_count": 1,
   "id": "c2f04250-290c-4c38-93e6-074702ec0700",
   "metadata": {},
   "outputs": [],
   "source": [
    "using Microgrids\n",
    "using JuMP\n",
    "using HiGHS # Linear Programming solver\n",
    "using Printf # pretty print results\n",
    "#using Random, Statistics\n",
    "#using CSV, DataFrames\n",
    "using PyPlot"
   ]
  },
  {
   "cell_type": "markdown",
   "id": "5e20bad8-81a3-4a6b-8c1e-6848a20c0d55",
   "metadata": {},
   "source": [
    "## Load Microgrid project data\n",
    "\n",
    "Loading parameters and time series for a Microgrid project with *wind* and *solar* sources, plus a *battery* and a *dispatchable generator*. \n",
    "Values gathered from the Microgrid_Wind-Solar.ipynb example notebook."
   ]
  },
  {
   "cell_type": "code",
   "execution_count": 2,
   "id": "a078bb9d-37a9-45f0-bb00-4404a44dcb30",
   "metadata": {},
   "outputs": [
    {
     "name": "stdout",
     "output_type": "stream",
     "text": [
      "Data definition for Microgrid with wind, solar, storage and generator...\n"
     ]
    }
   ],
   "source": [
    "include(\"../../Microgrids.jl/examples/Microgrid_Wind-Solar_data.jl\");"
   ]
  },
  {
   "cell_type": "code",
   "execution_count": 3,
   "id": "b1b119b9-0e9c-447d-b708-ef64e11b0d0d",
   "metadata": {},
   "outputs": [
    {
     "data": {
      "text/plain": [
       "create_microgrid (generic function with 2 methods)"
      ]
     },
     "execution_count": 3,
     "metadata": {},
     "output_type": "execute_result"
    }
   ],
   "source": [
    "\"\"\"Create a Microgrid project description of size `x`\n",
    "with x=[power_rated_gen, energy_rated_sto, power_rated_pv, power_rated_wind] in kW.\n",
    "\n",
    "if x is omitted, x=[1,1,...] is used\n",
    "\"\"\"\n",
    "function create_microgrid(x)\n",
    "    project = Project(lifetime, discount_rate, timestep, \"€\")\n",
    "    # Split decision variables (converted MW → kW):\n",
    "    power_rated_gen = x[1]\n",
    "    energy_rated_sto = x[2]\n",
    "    power_rated_pv = x[3]\n",
    "    power_rated_wind = x[4]\n",
    "    # Create components\n",
    "    gen = DispatchableGenerator(power_rated_gen,\n",
    "        fuel_intercept, fuel_slope, fuel_price,\n",
    "        investment_price_gen, om_price_gen, lifetime_gen,\n",
    "        load_ratio_min,\n",
    "        replacement_price_ratio, salvage_price_ratio, fuel_unit)\n",
    "    batt = Battery(energy_rated_sto,\n",
    "        investment_price_sto, om_price_sto, lifetime_sto, lifetime_cycles,\n",
    "        charge_rate, discharge_rate, loss_factor_sto, SoC_min, SoC_ini,\n",
    "        replacement_price_ratio, salvage_price_ratio)\n",
    "    pv = Photovoltaic(power_rated_pv, irradiance,\n",
    "        investment_price_pv, om_price_pv,\n",
    "        lifetime_pv, derating_factor_pv,\n",
    "        replacement_price_ratio, salvage_price_ratio)\n",
    "    windgen = WindPower(power_rated_wind, cf_wind,\n",
    "        investment_price_wind, om_price_wind,\n",
    "        lifetime_wind,\n",
    "        replacement_price_ratio, salvage_price_ratio)\n",
    "    mg = Microgrid(project, Pload, gen, batt, [pv, windgen])\n",
    "\n",
    "    return mg\n",
    "end\n",
    "\n",
    "function create_microgrid()\n",
    "    x1 = [1., 1., 1., 1.]\n",
    "    return create_microgrid(x1)\n",
    "end"
   ]
  },
  {
   "cell_type": "markdown",
   "id": "f876871f-4ef0-44e3-be34-0f5d7227b81c",
   "metadata": {},
   "source": [
    "max bounds"
   ]
  },
  {
   "cell_type": "code",
   "execution_count": 4,
   "id": "ea2645e1-5705-47b0-a49e-57c80092943b",
   "metadata": {},
   "outputs": [
    {
     "name": "stdout",
     "output_type": "stream",
     "text": [
      "Max load power: 1707.0 kW"
     ]
    }
   ],
   "source": [
    "Pload_max = maximum(Pload) # kW\n",
    "@printf(\"Max load power: %.1f kW\", Pload_max)\n",
    "power_rated_gen_max = 1.2 * Pload_max\n",
    "energy_rated_sto_max = 10.0 * Pload_max\n",
    "power_rated_pv_max = 10.0 * Pload_max\n",
    "power_rated_wind_max = 5.0 * Pload_max;"
   ]
  },
  {
   "cell_type": "markdown",
   "id": "a8c94790-0401-4b0e-81c9-df00622a51db",
   "metadata": {},
   "source": [
    "Create Microgrid project description. Since we'll use it for sizing, it's fine if the size is set to an bad sizing."
   ]
  },
  {
   "cell_type": "code",
   "execution_count": 5,
   "id": "4ca082ce-7613-4db5-ab55-276c5fbf3f05",
   "metadata": {},
   "outputs": [
    {
     "data": {
      "text/plain": [
       "1.0"
      ]
     },
     "execution_count": 5,
     "metadata": {},
     "output_type": "execute_result"
    }
   ],
   "source": [
    "mg = create_microgrid();\n",
    "#K = length(mg.load) # full data length → replaced by reduced subset\n",
    "dt = mg.project.timestep\n",
    "#traj, stats, costs = simulate(mg)\n",
    "#stats"
   ]
  },
  {
   "cell_type": "markdown",
   "id": "5694fecd-b041-483b-a861-315870988d71",
   "metadata": {},
   "source": [
    "### basic time series reduction"
   ]
  },
  {
   "cell_type": "code",
   "execution_count": 6,
   "id": "95389d54-722e-47c8-8876-04a53972e41f",
   "metadata": {},
   "outputs": [
    {
     "data": {
      "text/plain": [
       "ts_reduction"
      ]
     },
     "execution_count": 6,
     "metadata": {},
     "output_type": "execute_result"
    }
   ],
   "source": [
    "\"\"\"reduce the year time series `x` to `ndays` ≤ 365\n",
    "sr=24: data sampling rate / day. 24 means hourly time step.\n",
    "\n",
    "The method is *basic*:\n",
    "it samples `ndays` days evenly spaced by (365 ÷ `ndays`) days\n",
    "\n",
    "with ndays=365, returns the orinal series\n",
    "\"\"\"\n",
    "function ts_reduction(x, ndays, sr=24)\n",
    "    out = zeros(ndays*sr)\n",
    "    @assert ndays<=365\n",
    "    Δdays = 365 ÷ ndays\n",
    "    for i in 1:ndays\n",
    "        offset_in = (i-1)*Δdays*sr\n",
    "        offset_out = (i-1)*sr\n",
    "        out[offset_out+1:offset_out+sr] = x[offset_in+1:offset_in+sr]\n",
    "    end\n",
    "    return out\n",
    "end"
   ]
  },
  {
   "cell_type": "code",
   "execution_count": 7,
   "id": "b7d1fa47-5a2a-426e-b7e0-0b1258bfb1f5",
   "metadata": {},
   "outputs": [
    {
     "data": {
      "image/png": "[encoded data removed]",
      "text/plain": [
       "Figure(PyObject <Figure size 640x480 with 1 Axes>)"
      ]
     },
     "metadata": {},
     "output_type": "display_data"
    }
   ],
   "source": [
    "plot(ts_reduction(mg.load, 3))\n",
    "title(\"load: 3 representative days\")\n",
    "grid()"
   ]
  },
  {
   "cell_type": "markdown",
   "id": "db003c79-ea8e-41ea-85fe-161eddc6ad24",
   "metadata": {},
   "source": [
    "Select amount of data reduction:"
   ]
  },
  {
   "cell_type": "code",
   "execution_count": 8,
   "id": "40523f8c-e208-492a-ab84-4fa1f54285f6",
   "metadata": {},
   "outputs": [
    {
     "name": "stdout",
     "output_type": "stream",
     "text": [
      "working with 3 days, that is 72 timesteps\n"
     ]
    }
   ],
   "source": [
    "ndays = 3 # 1 to 365\n",
    "K = ndays*24 # h\n",
    "println(\"working with $ndays days, that is $K timesteps\")"
   ]
  },
  {
   "cell_type": "markdown",
   "id": "a5e02534-8bf1-49ef-b06c-6c35d550e0d7",
   "metadata": {},
   "source": [
    "Compute capacity factor time series, i.e. normalized potential production, for wind and solar:"
   ]
  },
  {
   "cell_type": "code",
   "execution_count": 9,
   "id": "e8d6387a-402c-42ce-81a6-02564ad38dce",
   "metadata": {},
   "outputs": [
    {
     "data": {
      "image/png": "[encoded data removed]",
      "text/plain": [
       "Figure(PyObject <Figure size 640x480 with 1 Axes>)"
      ]
     },
     "metadata": {},
     "output_type": "display_data"
    }
   ],
   "source": [
    "ts_reduction_ndays(x) = ts_reduction(x, ndays)\n",
    "# (works because the rated power in mg are set to 1 kW)\n",
    "cf_pv   = production(mg.nondispatchables[1]) |> ts_reduction_ndays\n",
    "cf_wind = production(mg.nondispatchables[2]) |> ts_reduction_ndays\n",
    "plot(cf_wind)\n",
    "plot(cf_pv)\n",
    "grid()\n",
    "title(\"Capacity factors of wind and solar power\");"
   ]
  },
  {
   "cell_type": "markdown",
   "id": "eca336f5-6832-4973-8194-6b07b1e70bb0",
   "metadata": {},
   "source": [
    "## JuMP model"
   ]
  },
  {
   "cell_type": "code",
   "execution_count": 45,
   "id": "8b89b345-530b-4bbe-9575-a77b24c423af",
   "metadata": {},
   "outputs": [],
   "source": [
    "model = Model(HiGHS.Optimizer)\n",
    "set_silent(model)"
   ]
  },
  {
   "cell_type": "markdown",
   "id": "c4105a10-6ac3-4c69-a787-16b87d00d578",
   "metadata": {},
   "source": [
    "### sizing variables"
   ]
  },
  {
   "cell_type": "code",
   "execution_count": 46,
   "id": "be81f99a-dccb-45cc-b6d7-75244216fb56",
   "metadata": {},
   "outputs": [
    {
     "data": {
      "text/latex": [
       "$ power\\_rated\\_wind $"
      ],
      "text/plain": [
       "power_rated_wind"
      ]
     },
     "execution_count": 46,
     "metadata": {},
     "output_type": "execute_result"
    }
   ],
   "source": [
    "@variable(model, 0 <= power_rated_gen <= power_rated_gen_max)\n",
    "@variable(model, 0 <= energy_rated_sto <= energy_rated_sto_max)\n",
    "@variable(model, 0 <= power_rated_pv <= power_rated_pv_max)\n",
    "@variable(model, 0 <= power_rated_wind <= power_rated_wind_max)"
   ]
  },
  {
   "cell_type": "markdown",
   "id": "406de413-108a-4f2f-b8dc-2f47c1797fb0",
   "metadata": {},
   "source": [
    "### Non dispatchable sources"
   ]
  },
  {
   "cell_type": "code",
   "execution_count": 47,
   "id": "88eebf28-057d-4b92-889b-cfcf5378f602",
   "metadata": {},
   "outputs": [],
   "source": [
    "@variable(model, pv_potential[1:K])\n",
    "@constraint(model, pv_potential .== power_rated_pv*cf_pv)\n",
    "@variable(model, wind_potential[1:K])\n",
    "@constraint(model, wind_potential .== power_rated_wind*cf_wind);\n",
    "# @variable(model, renew_potential[1:K])\n",
    "# @constraint(model, renew_potential .== pv_potential .+ wind_potential);"
   ]
  },
  {
   "cell_type": "markdown",
   "id": "fa059e3c-4704-4c57-a03c-f714021cf854",
   "metadata": {},
   "source": [
    "### Net load (desired, i.e. before spillage of excess renewables and load shedding)"
   ]
  },
  {
   "cell_type": "code",
   "execution_count": 48,
   "id": "91d74e25-2e7c-45a6-b2e6-83c35123109c",
   "metadata": {},
   "outputs": [],
   "source": [
    "@variable(model, Pnl[1:K])\n",
    "load = mg.load |> ts_reduction_ndays\n",
    "@constraint(model, Pnl .== load .- pv_potential .+ wind_potential);"
   ]
  },
  {
   "cell_type": "code",
   "execution_count": 49,
   "id": "2c1128fd-c468-4ad6-8509-d9774563601c",
   "metadata": {},
   "outputs": [],
   "source": [
    "@variable(model, Pspill[1:K] >= 0)\n",
    "@variable(model, Pshed[1:K] >= 0);"
   ]
  },
  {
   "cell_type": "markdown",
   "id": "f670a9b3-5be4-4963-8129-39e9c8bb145d",
   "metadata": {},
   "source": [
    "### Dispatchable generator"
   ]
  },
  {
   "cell_type": "code",
   "execution_count": 50,
   "id": "7e8de97b-fa55-4aa0-af97-59456326d5e3",
   "metadata": {},
   "outputs": [],
   "source": [
    "@variable(model, Pgen[1:K] >= 0)\n",
    "@constraint(model, Pgen .<= power_rated_gen);"
   ]
  },
  {
   "cell_type": "markdown",
   "id": "d926e005-27a8-464f-87ff-12e6544ae34a",
   "metadata": {},
   "source": [
    "### Energy storage"
   ]
  },
  {
   "cell_type": "code",
   "execution_count": 51,
   "id": "366632da-ad67-474f-808c-37fa227bfe98",
   "metadata": {},
   "outputs": [
    {
     "data": {
      "text/plain": [
       "72-element Vector{ConstraintRef{Model, MathOptInterface.ConstraintIndex{MathOptInterface.ScalarAffineFunction{Float64}, MathOptInterface.LessThan{Float64}}, ScalarShape}}:\n",
       " -energy_rated_sto + Psto_dis[1] ≤ 0\n",
       " -energy_rated_sto + Psto_dis[2] ≤ 0\n",
       " -energy_rated_sto + Psto_dis[3] ≤ 0\n",
       " -energy_rated_sto + Psto_dis[4] ≤ 0\n",
       " -energy_rated_sto + Psto_dis[5] ≤ 0\n",
       " -energy_rated_sto + Psto_dis[6] ≤ 0\n",
       " -energy_rated_sto + Psto_dis[7] ≤ 0\n",
       " -energy_rated_sto + Psto_dis[8] ≤ 0\n",
       " -energy_rated_sto + Psto_dis[9] ≤ 0\n",
       " -energy_rated_sto + Psto_dis[10] ≤ 0\n",
       " -energy_rated_sto + Psto_dis[11] ≤ 0\n",
       " -energy_rated_sto + Psto_dis[12] ≤ 0\n",
       " -energy_rated_sto + Psto_dis[13] ≤ 0\n",
       " ⋮\n",
       " -energy_rated_sto + Psto_dis[61] ≤ 0\n",
       " -energy_rated_sto + Psto_dis[62] ≤ 0\n",
       " -energy_rated_sto + Psto_dis[63] ≤ 0\n",
       " -energy_rated_sto + Psto_dis[64] ≤ 0\n",
       " -energy_rated_sto + Psto_dis[65] ≤ 0\n",
       " -energy_rated_sto + Psto_dis[66] ≤ 0\n",
       " -energy_rated_sto + Psto_dis[67] ≤ 0\n",
       " -energy_rated_sto + Psto_dis[68] ≤ 0\n",
       " -energy_rated_sto + Psto_dis[69] ≤ 0\n",
       " -energy_rated_sto + Psto_dis[70] ≤ 0\n",
       " -energy_rated_sto + Psto_dis[71] ≤ 0\n",
       " -energy_rated_sto + Psto_dis[72] ≤ 0"
      ]
     },
     "execution_count": 51,
     "metadata": {},
     "output_type": "execute_result"
    }
   ],
   "source": [
    "# Charge and discharge power\n",
    "@variable(model, Psto_cha[1:K] >= 0)\n",
    "@variable(model, Psto_dis[1:K] >= 0)\n",
    "# Energy\n",
    "@variable(model, Esto[1:K+1])\n",
    "@constraint(model, Esto .<= energy_rated_sto) # SoCmax = 1 implicitly\n",
    "@constraint(model, Esto .>= mg.storage.SoC_min*energy_rated_sto) # often 0\n",
    "# Power constraints\n",
    "@constraint(model, Psto_cha .<= mg.storage.charge_rate    * energy_rated_sto)\n",
    "@constraint(model, Psto_dis .<= mg.storage.discharge_rate * energy_rated_sto)"
   ]
  },
  {
   "cell_type": "markdown",
   "id": "2794cd7a-669e-4a05-844a-aaabe61dcba0",
   "metadata": {},
   "source": [
    "Evolution of the State of Energy, with piecewise linear in P loss term (aka constant efficiency model)"
   ]
  },
  {
   "cell_type": "code",
   "execution_count": 52,
   "id": "d99506cb-1077-4a94-8041-4b89b587bc97",
   "metadata": {},
   "outputs": [
    {
     "data": {
      "text/latex": [
       "$$ -0.95 Psto\\_cha_{1} + 1.05 Psto\\_dis_{1} - Esto_{1} + Esto_{2} = 0 $$"
      ],
      "text/plain": [
       "stodyn[1] : -0.95 Psto_cha[1] + 1.05 Psto_dis[1] - Esto[1] + Esto[2] = 0"
      ]
     },
     "execution_count": 52,
     "metadata": {},
     "output_type": "execute_result"
    }
   ],
   "source": [
    "a = mg.storage.loss_factor\n",
    "@constraint(model,\n",
    "    stodyn[k=1:K],\n",
    "    Esto[k+1] == Esto[k] + (Psto_cha[k] - Psto_dis[k] - a*(Psto_cha[k]+Psto_dis[k]))*dt\n",
    "    )\n",
    "stodyn[1]"
   ]
  },
  {
   "cell_type": "markdown",
   "id": "b652a661-d834-456f-9549-33e824c90262",
   "metadata": {},
   "source": [
    "Storage Cyclicity"
   ]
  },
  {
   "cell_type": "code",
   "execution_count": 53,
   "id": "59a2809a-b423-421d-b901-f99827de0148",
   "metadata": {},
   "outputs": [
    {
     "data": {
      "text/latex": [
       "$$ -Esto_{1} + Esto_{73} = 0 $$"
      ],
      "text/plain": [
       "-Esto[1] + Esto[73] = 0"
      ]
     },
     "execution_count": 53,
     "metadata": {},
     "output_type": "execute_result"
    }
   ],
   "source": [
    "@constraint(model, Esto[K+1] == Esto[1])"
   ]
  },
  {
   "cell_type": "markdown",
   "id": "e49b6af4-3526-45c2-9bb1-a8c5f86e806e",
   "metadata": {},
   "source": [
    "Optional: force initial SoC"
   ]
  },
  {
   "cell_type": "code",
   "execution_count": 54,
   "id": "bccde68b-60b1-4bcb-9083-b5ec92d3c7cd",
   "metadata": {},
   "outputs": [
    {
     "data": {
      "text/plain": [
       "0.0"
      ]
     },
     "execution_count": 54,
     "metadata": {},
     "output_type": "execute_result"
    }
   ],
   "source": [
    "mg.storage.SoC_ini # ..."
   ]
  },
  {
   "cell_type": "markdown",
   "id": "bfa3df37-1e81-4b2e-a7d3-c6ef8c745b78",
   "metadata": {},
   "source": [
    "### Power balance"
   ]
  },
  {
   "cell_type": "code",
   "execution_count": 55,
   "id": "d197912e-b9f3-4aef-9c42-bbe5936011d0",
   "metadata": {},
   "outputs": [
    {
     "data": {
      "text/latex": [
       "$$ Pnl_{1} + Pspill_{1} - Pshed_{1} - Pgen_{1} + Psto\\_cha_{1} - Psto\\_dis_{1} = 0 $$"
      ],
      "text/plain": [
       "balance : Pnl[1] + Pspill[1] - Pshed[1] - Pgen[1] + Psto_cha[1] - Psto_dis[1] = 0"
      ]
     },
     "execution_count": 55,
     "metadata": {},
     "output_type": "execute_result"
    }
   ],
   "source": [
    "@constraint(model, balance, Pnl .== Pgen + Psto_dis - Psto_cha + Pshed - Pspill)\n",
    "balance[1]"
   ]
  },
  {
   "cell_type": "markdown",
   "id": "6b234d2e-ba0a-4b00-bc5e-7e0b7f32340e",
   "metadata": {},
   "source": [
    "Shedding limit: (could be more generally a limit on the sum of Pshed)"
   ]
  },
  {
   "cell_type": "code",
   "execution_count": 56,
   "id": "48bd22cb-a2fd-44ad-bda3-8ff618148e21",
   "metadata": {},
   "outputs": [],
   "source": [
    "fix.(Pshed, 0.0; force=true);"
   ]
  },
  {
   "cell_type": "markdown",
   "id": "495b9a10-df89-4370-a5b4-1c7b490a56aa",
   "metadata": {},
   "source": [
    "### Cost\n",
    "\n",
    "we model annualized cost, to account for the different lifetime of each component"
   ]
  },
  {
   "cell_type": "code",
   "execution_count": 57,
   "id": "0acbbf15-b51d-4b86-8774-30cc9f002cc1",
   "metadata": {},
   "outputs": [
    {
     "data": {
      "text/plain": [
       "(0.05, 0.055415314890551334, 0.08024258719069129, 0.11745962477254576, 0.20535653069304277)"
      ]
     },
     "execution_count": 57,
     "metadata": {},
     "output_type": "execute_result"
    }
   ],
   "source": [
    "\"\"\"capital recovery factor for discount rate `i` and duration `T`\n",
    "CRF is such that Cann = NPC*CRF\n",
    "\"\"\"\n",
    "function CRF(i,T)\n",
    "    if i != 0.0\n",
    "        a = (1+i)^T\n",
    "        return i*a/(a-1)\n",
    "    else\n",
    "        return 1/T\n",
    "    end\n",
    "end\n",
    "CRF(0, 20), CRF(0.01, 20), CRF(0.05, 20), CRF(0.10, 20), CRF(0.20, 20)"
   ]
  },
  {
   "cell_type": "code",
   "execution_count": 58,
   "id": "0746da75-45ef-43f0-ae2f-c45f229278ec",
   "metadata": {},
   "outputs": [
    {
     "data": {
      "text/plain": [
       "0.08024258719069129"
      ]
     },
     "execution_count": 58,
     "metadata": {},
     "output_type": "execute_result"
    }
   ],
   "source": [
    "CRFproj(T) = CRF(mg.project.discount_rate, T) \n",
    "CRFproj(20.)"
   ]
  },
  {
   "cell_type": "markdown",
   "id": "71985979-0c52-4c66-8a12-4cd3e4246aeb",
   "metadata": {},
   "source": [
    "#### Generator\n",
    "\n",
    "assumptions:\n",
    "- fixed number of operating hours per year, to linearize both the O&M and investment&replacement (with fixed  lifetime)\n",
    "- constant efficiency, i.e. fuel intercept = 0"
   ]
  },
  {
   "cell_type": "code",
   "execution_count": 59,
   "id": "bc715b8b-7f79-49cc-9d87-b353677759ca",
   "metadata": {},
   "outputs": [
    {
     "data": {
      "text/plain": [
       "15.0"
      ]
     },
     "execution_count": 59,
     "metadata": {},
     "output_type": "execute_result"
    }
   ],
   "source": [
    "gen_hours = 1000. # in 0 – 8760\n",
    "gen_lifetime = mg.generator.lifetime_hours / gen_hours"
   ]
  },
  {
   "cell_type": "code",
   "execution_count": 60,
   "id": "69c574f7-6e54-4745-90b9-00839a4fce71",
   "metadata": {},
   "outputs": [
    {
     "data": {
      "text/latex": [
       "$ 58.536915043697725 power\\_rated\\_gen + 29.2 Pgen_{1} + 29.2 Pgen_{2} + 29.2 Pgen_{3} + 29.2 Pgen_{4} + 29.2 Pgen_{5} + 29.2 Pgen_{6} + 29.2 Pgen_{7} + 29.2 Pgen_{8} + 29.2 Pgen_{9} + 29.2 Pgen_{10} + 29.2 Pgen_{11} + 29.2 Pgen_{12} + 29.2 Pgen_{13} + 29.2 Pgen_{14} + 29.2 Pgen_{15} + 29.2 Pgen_{16} + 29.2 Pgen_{17} + 29.2 Pgen_{18} + 29.2 Pgen_{19} + 29.2 Pgen_{20} + 29.2 Pgen_{21} + 29.2 Pgen_{22} + 29.2 Pgen_{23} + 29.2 Pgen_{24} + 29.2 Pgen_{25} + 29.2 Pgen_{26} + 29.2 Pgen_{27} + 29.2 Pgen_{28} + 29.2 Pgen_{29} + 29.2 Pgen_{30} + 29.2 Pgen_{31} + 29.2 Pgen_{32} + 29.2 Pgen_{33} + 29.2 Pgen_{34} + 29.2 Pgen_{35} + 29.2 Pgen_{36} + 29.2 Pgen_{37} + 29.2 Pgen_{38} + 29.2 Pgen_{39} + 29.2 Pgen_{40} + 29.2 Pgen_{41} + 29.2 Pgen_{42} + 29.2 Pgen_{43} + 29.2 Pgen_{44} + 29.2 Pgen_{45} + 29.2 Pgen_{46} + 29.2 Pgen_{47} + 29.2 Pgen_{48} + 29.2 Pgen_{49} + 29.2 Pgen_{50} + 29.2 Pgen_{51} + 29.2 Pgen_{52} + 29.2 Pgen_{53} + 29.2 Pgen_{54} + 29.2 Pgen_{55} + 29.2 Pgen_{56} + 29.2 Pgen_{57} + 29.2 Pgen_{58} + 29.2 Pgen_{59} + 29.2 Pgen_{60} + 29.2 Pgen_{61} + 29.2 Pgen_{62} + 29.2 Pgen_{63} + 29.2 Pgen_{64} + 29.2 Pgen_{65} + 29.2 Pgen_{66} + 29.2 Pgen_{67} + 29.2 Pgen_{68} + 29.2 Pgen_{69} + 29.2 Pgen_{70} + 29.2 Pgen_{71} + 29.2 Pgen_{72} $"
      ],
      "text/plain": [
       "58.536915043697725 power_rated_gen + 29.2 Pgen[1] + 29.2 Pgen[2] + 29.2 Pgen[3] + 29.2 Pgen[4] + 29.2 Pgen[5] + 29.2 Pgen[6] + 29.2 Pgen[7] + 29.2 Pgen[8] + 29.2 Pgen[9] + 29.2 Pgen[10] + 29.2 Pgen[11] + 29.2 Pgen[12] + 29.2 Pgen[13] + 29.2 Pgen[14] + 29.2 Pgen[15] + 29.2 Pgen[16] + 29.2 Pgen[17] + 29.2 Pgen[18] + 29.2 Pgen[19] + 29.2 Pgen[20] + 29.2 Pgen[21] + 29.2 Pgen[22] + 29.2 Pgen[23] + 29.2 Pgen[24] + 29.2 Pgen[25] + 29.2 Pgen[26] + 29.2 Pgen[27] + 29.2 Pgen[28] + 29.2 Pgen[29] + 29.2 Pgen[30] + 29.2 Pgen[31] + 29.2 Pgen[32] + 29.2 Pgen[33] + 29.2 Pgen[34] + 29.2 Pgen[35] + 29.2 Pgen[36] + 29.2 Pgen[37] + 29.2 Pgen[38] + 29.2 Pgen[39] + 29.2 Pgen[40] + 29.2 Pgen[41] + 29.2 Pgen[42] + 29.2 Pgen[43] + 29.2 Pgen[44] + 29.2 Pgen[45] + 29.2 Pgen[46] + 29.2 Pgen[47] + 29.2 Pgen[48] + 29.2 Pgen[49] + 29.2 Pgen[50] + 29.2 Pgen[51] + 29.2 Pgen[52] + 29.2 Pgen[53] + 29.2 Pgen[54] + 29.2 Pgen[55] + 29.2 Pgen[56] + 29.2 Pgen[57] + 29.2 Pgen[58] + 29.2 Pgen[59] + 29.2 Pgen[60] + 29.2 Pgen[61] + 29.2 Pgen[62] + 29.2 Pgen[63] + 29.2 Pgen[64] + 29.2 Pgen[65] + 29.2 Pgen[66] + 29.2 Pgen[67] + 29.2 Pgen[68] + 29.2 Pgen[69] + 29.2 Pgen[70] + 29.2 Pgen[71] + 29.2 Pgen[72]"
      ]
     },
     "execution_count": 60,
     "metadata": {},
     "output_type": "execute_result"
    }
   ],
   "source": [
    "Cgen = mg.generator.investment_price * power_rated_gen * CRFproj(gen_lifetime) +\n",
    "       mg.generator.om_price_hours * gen_hours * power_rated_gen +\n",
    "       mg.generator.fuel_price * mg.generator.fuel_slope * sum(Pgen)*dt*365/ndays\n",
    "# $/y"
   ]
  },
  {
   "cell_type": "markdown",
   "id": "09d0d157-5001-4010-a35a-44f5ccc33ebe",
   "metadata": {},
   "source": [
    "#### Battery\n",
    "\n",
    "assumption: low number of cycling, so that calendar aging dominates"
   ]
  },
  {
   "cell_type": "code",
   "execution_count": 61,
   "id": "7238da64-cdf8-4717-8114-a9182da0d080",
   "metadata": {},
   "outputs": [
    {
     "data": {
      "text/plain": [
       "15.0"
      ]
     },
     "execution_count": 61,
     "metadata": {},
     "output_type": "execute_result"
    }
   ],
   "source": [
    "sto_lifetime = mg.storage.lifetime_calendar"
   ]
  },
  {
   "cell_type": "code",
   "execution_count": 62,
   "id": "73a2f715-fc96-4613-927e-ec2a92e98ccd",
   "metadata": {},
   "outputs": [
    {
     "data": {
      "text/latex": [
       "$ 43.71980066323551 energy\\_rated\\_sto $"
      ],
      "text/plain": [
       "43.71980066323551 energy_rated_sto"
      ]
     },
     "execution_count": 62,
     "metadata": {},
     "output_type": "execute_result"
    }
   ],
   "source": [
    "Csto = mg.storage.investment_price * energy_rated_sto * CRFproj(sto_lifetime) +\n",
    "       mg.storage.om_price * energy_rated_sto\n",
    "# $/y"
   ]
  },
  {
   "cell_type": "markdown",
   "id": "19ee5bd9-0f76-4e01-949f-388b22e26c3d",
   "metadata": {},
   "source": [
    "#### Wind and solar"
   ]
  },
  {
   "cell_type": "code",
   "execution_count": 63,
   "id": "d71607b5-1755-441a-8167-69351967110d",
   "metadata": {},
   "outputs": [
    {
     "data": {
      "text/plain": [
       "Photovoltaic{Float64}(1.0, [0.0, 0.0, 0.0, 0.0, 0.0, 0.0, 0.0, 0.0, 0.0, 7.000000000000001e-5  …  0.45131, 0.30678, 0.0, 0.0, 0.0, 0.0, 0.0, 0.0, 0.0, 0.0], 1200.0, 20.0, 25.0, 1.0, 1.0, 1.0)"
      ]
     },
     "execution_count": 63,
     "metadata": {},
     "output_type": "execute_result"
    }
   ],
   "source": [
    "pv = mg.nondispatchables[1]"
   ]
  },
  {
   "cell_type": "code",
   "execution_count": 64,
   "id": "1c1357cc-1480-43ec-b2c7-0c82b0de3988",
   "metadata": {},
   "outputs": [
    {
     "data": {
      "text/latex": [
       "$ 105.14294875907551 power\\_rated\\_pv $"
      ],
      "text/plain": [
       "105.14294875907551 power_rated_pv"
      ]
     },
     "execution_count": 64,
     "metadata": {},
     "output_type": "execute_result"
    }
   ],
   "source": [
    "Cpv = pv.investment_price * power_rated_pv * CRFproj(pv.lifetime) + \n",
    "      pv.om_price * power_rated_pv"
   ]
  },
  {
   "cell_type": "code",
   "execution_count": 65,
   "id": "0e103db7-da34-4e8f-be81-1fec4408c3e4",
   "metadata": {},
   "outputs": [
    {
     "data": {
      "text/plain": [
       "WindPower{Float64}(1.0, [0.03184904690521816, 0.1104932647748532, 0.24596484619739856, 0.44422012231738006, 0.6554128208926687, 0.8470913237698507, 0.9579413031865969, 0.9735278942424532, 0.9837469734016646, 0.9903667231838823  …  0.011233045262998936, 0.018460507449516883, 0.023644167600765466, 0.02969747711584798, 0.036359043012900244, 0.03713796382151399, 0.037530379586714784, 0.03792477182913709, 0.037530379586714784, 0.03674751985711801], 3500.0, 100.0, 25.0, 1.0, 1.0)"
      ]
     },
     "execution_count": 65,
     "metadata": {},
     "output_type": "execute_result"
    }
   ],
   "source": [
    "wind = mg.nondispatchables[2]"
   ]
  },
  {
   "cell_type": "code",
   "execution_count": 66,
   "id": "632f3620-00ce-45d3-9022-0875c998195e",
   "metadata": {},
   "outputs": [
    {
     "data": {
      "text/latex": [
       "$ 348.3336005473036 power\\_rated\\_wind $"
      ],
      "text/plain": [
       "348.3336005473036 power_rated_wind"
      ]
     },
     "execution_count": 66,
     "metadata": {},
     "output_type": "execute_result"
    }
   ],
   "source": [
    "Cwind = wind.investment_price * power_rated_wind * CRFproj(wind.lifetime) + \n",
    "        wind.om_price * power_rated_wind"
   ]
  },
  {
   "cell_type": "code",
   "execution_count": 67,
   "id": "4fda4e89-12e5-49fc-837b-464d2b3f55be",
   "metadata": {},
   "outputs": [
    {
     "data": {
      "text/latex": [
       "$ 58.536915043697725 power\\_rated\\_gen + 29.2 Pgen_{1} + 29.2 Pgen_{2} + 29.2 Pgen_{3} + 29.2 Pgen_{4} + 29.2 Pgen_{5} + 29.2 Pgen_{6} + 29.2 Pgen_{7} + 29.2 Pgen_{8} + 29.2 Pgen_{9} + 29.2 Pgen_{10} + 29.2 Pgen_{11} + 29.2 Pgen_{12} + 29.2 Pgen_{13} + 29.2 Pgen_{14} + 29.2 Pgen_{15} + 29.2 Pgen_{16} + 29.2 Pgen_{17} + 29.2 Pgen_{18} + 29.2 Pgen_{19} + 29.2 Pgen_{20} + 29.2 Pgen_{21} + 29.2 Pgen_{22} + 29.2 Pgen_{23} + 29.2 Pgen_{24} + 29.2 Pgen_{25} + 29.2 Pgen_{26} + 29.2 Pgen_{27} + 29.2 Pgen_{28} + 29.2 Pgen_{29} + 29.2 Pgen_{30} + 29.2 Pgen_{31} + 29.2 Pgen_{32} + 29.2 Pgen_{33} + 29.2 Pgen_{34} + 29.2 Pgen_{35} + 29.2 Pgen_{36} + 29.2 Pgen_{37} + 29.2 Pgen_{38} + 29.2 Pgen_{39} + 29.2 Pgen_{40} + 29.2 Pgen_{41} + 29.2 Pgen_{42} + 29.2 Pgen_{43} + 29.2 Pgen_{44} + 29.2 Pgen_{45} + 29.2 Pgen_{46} + 29.2 Pgen_{47} + 29.2 Pgen_{48} + 29.2 Pgen_{49} + 29.2 Pgen_{50} + 29.2 Pgen_{51} + 29.2 Pgen_{52} + 29.2 Pgen_{53} + 29.2 Pgen_{54} + 29.2 Pgen_{55} + 29.2 Pgen_{56} + 29.2 Pgen_{57} + 29.2 Pgen_{58} + 29.2 Pgen_{59} + 29.2 Pgen_{60} + 29.2 Pgen_{61} + 29.2 Pgen_{62} + 29.2 Pgen_{63} + 29.2 Pgen_{64} + 29.2 Pgen_{65} + 29.2 Pgen_{66} + 29.2 Pgen_{67} + 29.2 Pgen_{68} + 29.2 Pgen_{69} + 29.2 Pgen_{70} + 29.2 Pgen_{71} + 29.2 Pgen_{72} + 43.71980066323551 energy\\_rated\\_sto + 105.14294875907551 power\\_rated\\_pv + 348.3336005473036 power\\_rated\\_wind $"
      ],
      "text/plain": [
       "58.536915043697725 power_rated_gen + 29.2 Pgen[1] + 29.2 Pgen[2] + 29.2 Pgen[3] + 29.2 Pgen[4] + 29.2 Pgen[5] + 29.2 Pgen[6] + 29.2 Pgen[7] + 29.2 Pgen[8] + 29.2 Pgen[9] + 29.2 Pgen[10] + 29.2 Pgen[11] + 29.2 Pgen[12] + 29.2 Pgen[13] + 29.2 Pgen[14] + 29.2 Pgen[15] + 29.2 Pgen[16] + 29.2 Pgen[17] + 29.2 Pgen[18] + 29.2 Pgen[19] + 29.2 Pgen[20] + 29.2 Pgen[21] + 29.2 Pgen[22] + 29.2 Pgen[23] + 29.2 Pgen[24] + 29.2 Pgen[25] + 29.2 Pgen[26] + 29.2 Pgen[27] + 29.2 Pgen[28] + 29.2 Pgen[29] + 29.2 Pgen[30] + 29.2 Pgen[31] + 29.2 Pgen[32] + 29.2 Pgen[33] + 29.2 Pgen[34] + 29.2 Pgen[35] + 29.2 Pgen[36] + 29.2 Pgen[37] + 29.2 Pgen[38] + 29.2 Pgen[39] + 29.2 Pgen[40] + 29.2 Pgen[41] + 29.2 Pgen[42] + 29.2 Pgen[43] + 29.2 Pgen[44] + 29.2 Pgen[45] + 29.2 Pgen[46] + 29.2 Pgen[47] + 29.2 Pgen[48] + 29.2 Pgen[49] + 29.2 Pgen[50] + 29.2 Pgen[51] + 29.2 Pgen[52] + 29.2 Pgen[53] + 29.2 Pgen[54] + 29.2 Pgen[55] + 29.2 Pgen[56] + 29.2 Pgen[57] + 29.2 Pgen[58] + 29.2 Pgen[59] + 29.2 Pgen[60] + 29.2 Pgen[61] + 29.2 Pgen[62] + 29.2 Pgen[63] + 29.2 Pgen[64] + 29.2 Pgen[65] + 29.2 Pgen[66] + 29.2 Pgen[67] + 29.2 Pgen[68] + 29.2 Pgen[69] + 29.2 Pgen[70] + 29.2 Pgen[71] + 29.2 Pgen[72] + 43.71980066323551 energy_rated_sto + 105.14294875907551 power_rated_pv + 348.3336005473036 power_rated_wind"
      ]
     },
     "execution_count": 67,
     "metadata": {},
     "output_type": "execute_result"
    }
   ],
   "source": [
    "Cann = Cgen + Csto +  Cpv + Cwind"
   ]
  },
  {
   "cell_type": "code",
   "execution_count": 68,
   "id": "9e1d5385-9f2a-4e94-aab8-a3899780e32b",
   "metadata": {},
   "outputs": [
    {
     "data": {
      "text/latex": [
       "$ 58.536915043697725 power\\_rated\\_gen + 29.2 Pgen_{1} + 29.2 Pgen_{2} + 29.2 Pgen_{3} + 29.2 Pgen_{4} + 29.2 Pgen_{5} + 29.2 Pgen_{6} + 29.2 Pgen_{7} + 29.2 Pgen_{8} + 29.2 Pgen_{9} + 29.2 Pgen_{10} + 29.2 Pgen_{11} + 29.2 Pgen_{12} + 29.2 Pgen_{13} + 29.2 Pgen_{14} + 29.2 Pgen_{15} + 29.2 Pgen_{16} + 29.2 Pgen_{17} + 29.2 Pgen_{18} + 29.2 Pgen_{19} + 29.2 Pgen_{20} + 29.2 Pgen_{21} + 29.2 Pgen_{22} + 29.2 Pgen_{23} + 29.2 Pgen_{24} + 29.2 Pgen_{25} + 29.2 Pgen_{26} + 29.2 Pgen_{27} + 29.2 Pgen_{28} + 29.2 Pgen_{29} + 29.2 Pgen_{30} + 29.2 Pgen_{31} + 29.2 Pgen_{32} + 29.2 Pgen_{33} + 29.2 Pgen_{34} + 29.2 Pgen_{35} + 29.2 Pgen_{36} + 29.2 Pgen_{37} + 29.2 Pgen_{38} + 29.2 Pgen_{39} + 29.2 Pgen_{40} + 29.2 Pgen_{41} + 29.2 Pgen_{42} + 29.2 Pgen_{43} + 29.2 Pgen_{44} + 29.2 Pgen_{45} + 29.2 Pgen_{46} + 29.2 Pgen_{47} + 29.2 Pgen_{48} + 29.2 Pgen_{49} + 29.2 Pgen_{50} + 29.2 Pgen_{51} + 29.2 Pgen_{52} + 29.2 Pgen_{53} + 29.2 Pgen_{54} + 29.2 Pgen_{55} + 29.2 Pgen_{56} + 29.2 Pgen_{57} + 29.2 Pgen_{58} + 29.2 Pgen_{59} + 29.2 Pgen_{60} + 29.2 Pgen_{61} + 29.2 Pgen_{62} + 29.2 Pgen_{63} + 29.2 Pgen_{64} + 29.2 Pgen_{65} + 29.2 Pgen_{66} + 29.2 Pgen_{67} + 29.2 Pgen_{68} + 29.2 Pgen_{69} + 29.2 Pgen_{70} + 29.2 Pgen_{71} + 29.2 Pgen_{72} + 43.71980066323551 energy\\_rated\\_sto + 105.14294875907551 power\\_rated\\_pv + 348.3336005473036 power\\_rated\\_wind $"
      ],
      "text/plain": [
       "58.536915043697725 power_rated_gen + 29.2 Pgen[1] + 29.2 Pgen[2] + 29.2 Pgen[3] + 29.2 Pgen[4] + 29.2 Pgen[5] + 29.2 Pgen[6] + 29.2 Pgen[7] + 29.2 Pgen[8] + 29.2 Pgen[9] + 29.2 Pgen[10] + 29.2 Pgen[11] + 29.2 Pgen[12] + 29.2 Pgen[13] + 29.2 Pgen[14] + 29.2 Pgen[15] + 29.2 Pgen[16] + 29.2 Pgen[17] + 29.2 Pgen[18] + 29.2 Pgen[19] + 29.2 Pgen[20] + 29.2 Pgen[21] + 29.2 Pgen[22] + 29.2 Pgen[23] + 29.2 Pgen[24] + 29.2 Pgen[25] + 29.2 Pgen[26] + 29.2 Pgen[27] + 29.2 Pgen[28] + 29.2 Pgen[29] + 29.2 Pgen[30] + 29.2 Pgen[31] + 29.2 Pgen[32] + 29.2 Pgen[33] + 29.2 Pgen[34] + 29.2 Pgen[35] + 29.2 Pgen[36] + 29.2 Pgen[37] + 29.2 Pgen[38] + 29.2 Pgen[39] + 29.2 Pgen[40] + 29.2 Pgen[41] + 29.2 Pgen[42] + 29.2 Pgen[43] + 29.2 Pgen[44] + 29.2 Pgen[45] + 29.2 Pgen[46] + 29.2 Pgen[47] + 29.2 Pgen[48] + 29.2 Pgen[49] + 29.2 Pgen[50] + 29.2 Pgen[51] + 29.2 Pgen[52] + 29.2 Pgen[53] + 29.2 Pgen[54] + 29.2 Pgen[55] + 29.2 Pgen[56] + 29.2 Pgen[57] + 29.2 Pgen[58] + 29.2 Pgen[59] + 29.2 Pgen[60] + 29.2 Pgen[61] + 29.2 Pgen[62] + 29.2 Pgen[63] + 29.2 Pgen[64] + 29.2 Pgen[65] + 29.2 Pgen[66] + 29.2 Pgen[67] + 29.2 Pgen[68] + 29.2 Pgen[69] + 29.2 Pgen[70] + 29.2 Pgen[71] + 29.2 Pgen[72] + 43.71980066323551 energy_rated_sto + 105.14294875907551 power_rated_pv + 348.3336005473036 power_rated_wind"
      ]
     },
     "execution_count": 68,
     "metadata": {},
     "output_type": "execute_result"
    }
   ],
   "source": [
    "@objective(model, Min, Cann)"
   ]
  },
  {
   "cell_type": "code",
   "execution_count": 69,
   "id": "da70b787-66ac-4ecc-a195-5b65b59d0ffe",
   "metadata": {},
   "outputs": [],
   "source": [
    "optimize!(model)"
   ]
  },
  {
   "cell_type": "code",
   "execution_count": 70,
   "id": "33256c8e-eb58-4ce7-8de4-15b5bedec351",
   "metadata": {},
   "outputs": [
    {
     "data": {
      "text/plain": [
       "(1452.0, 458.84999999999917, 2391.6771784742277, 0.0)"
      ]
     },
     "execution_count": 70,
     "metadata": {},
     "output_type": "execute_result"
    }
   ],
   "source": [
    "value(power_rated_gen), value(energy_rated_sto), value(power_rated_pv), value(power_rated_wind)"
   ]
  },
  {
   "cell_type": "markdown",
   "id": "e9338289-84c3-4cd7-8240-aa6970fef208",
   "metadata": {},
   "source": [
    "🚧 **Optim results analysis: TO BE CONTINUED....** 🚧"
   ]
  },
  {
   "cell_type": "code",
   "execution_count": 71,
   "id": "47279ad2-982d-461d-8d12-2737e88e68af",
   "metadata": {},
   "outputs": [
    {
     "data": {
      "text/plain": [
       "72-element Vector{Float64}:\n",
       " 1453.0\n",
       " 1331.0\n",
       " 1214.0\n",
       " 1146.0\n",
       " 1078.0\n",
       " 1035.0\n",
       " 1032.0\n",
       " 1072.0\n",
       " 1142.0\n",
       " 1207.8325825975069\n",
       " 1299.0\n",
       " 1352.0\n",
       " 1363.0\n",
       "    ⋮\n",
       " -435.32069491782715\n",
       "   38.78394124110412\n",
       "  327.37411312271166\n",
       " -336.99960015975546\n",
       "    6.862438239365588\n",
       "  -75.2862074542872\n",
       "  376.8340906955142\n",
       "  489.0\n",
       "  466.0\n",
       "  488.0\n",
       "  628.0\n",
       "  561.0"
      ]
     },
     "execution_count": 71,
     "metadata": {},
     "output_type": "execute_result"
    }
   ],
   "source": [
    "value.(Pnl)"
   ]
  },
  {
   "cell_type": "code",
   "execution_count": 72,
   "id": "4db1bab9-c15c-4541-9f7a-acfc13dda21e",
   "metadata": {},
   "outputs": [
    {
     "data": {
      "text/plain": [
       "72-element Vector{Float64}:\n",
       "   0.0\n",
       "   0.0\n",
       "   0.0\n",
       "   0.0\n",
       "   0.0\n",
       "   0.0\n",
       "   0.0\n",
       "   0.0\n",
       "   0.0\n",
       "   0.0\n",
       "   0.0\n",
       "   0.0\n",
       "   0.0\n",
       "   ⋮\n",
       " 435.32069491782715\n",
       "   0.0\n",
       "   0.0\n",
       " 336.99960015975546\n",
       "   0.0\n",
       "  75.2862074542872\n",
       "   0.0\n",
       "   0.0\n",
       "   0.0\n",
       "   0.0\n",
       "   0.0\n",
       "   0.0"
      ]
     },
     "execution_count": 72,
     "metadata": {},
     "output_type": "execute_result"
    }
   ],
   "source": [
    "value.(Psto_cha)"
   ]
  },
  {
   "cell_type": "code",
   "execution_count": 73,
   "id": "950e95da-2434-49cc-9e25-166ef3cfd67d",
   "metadata": {},
   "outputs": [
    {
     "data": {
      "text/plain": [
       "72-element Vector{Float64}:\n",
       "   1.0\n",
       "   0.0\n",
       "   0.0\n",
       "   0.0\n",
       "   0.0\n",
       "   0.0\n",
       "   0.0\n",
       "   0.0\n",
       "   0.0\n",
       "   0.0\n",
       "   0.0\n",
       "   0.0\n",
       "   0.0\n",
       "   ⋮\n",
       "   0.0\n",
       "  38.78394124110412\n",
       " 327.37411312271166\n",
       "   0.0\n",
       "   6.862438239365588\n",
       "   0.0\n",
       "  -0.0\n",
       "  -0.0\n",
       "  -0.0\n",
       "   0.0\n",
       "  -0.0\n",
       "   0.0"
      ]
     },
     "execution_count": 73,
     "metadata": {},
     "output_type": "execute_result"
    }
   ],
   "source": [
    "value.(Psto_dis)"
   ]
  },
  {
   "cell_type": "markdown",
   "id": "54886fb3-a283-4db0-bc06-c03f52ea1280",
   "metadata": {},
   "source": [
    "---"
   ]
  },
  {
   "cell_type": "code",
   "execution_count": 145,
   "id": "d9345c29-fd9a-4f5e-875a-f6575dff5275",
   "metadata": {},
   "outputs": [
    {
     "data": {
      "text/plain": [
       "A JuMP Model\n",
       "Minimization problem with:\n",
       "Variables: 653\n",
       "Objective function type: AffExpr\n",
       "`AffExpr`-in-`MathOptInterface.EqualTo{Float64}`: 361 constraints\n",
       "`AffExpr`-in-`MathOptInterface.GreaterThan{Float64}`: 73 constraints\n",
       "`AffExpr`-in-`MathOptInterface.LessThan{Float64}`: 289 constraints\n",
       "`VariableRef`-in-`MathOptInterface.EqualTo{Float64}`: 72 constraints\n",
       "`VariableRef`-in-`MathOptInterface.GreaterThan{Float64}`: 148 constraints\n",
       "`VariableRef`-in-`MathOptInterface.LessThan{Float64}`: 4 constraints\n",
       "Model mode: AUTOMATIC\n",
       "CachingOptimizer state: ATTACHED_OPTIMIZER\n",
       "Solver name: HiGHS\n",
       "Names registered in the model: Esto, Pgen, Pnl, Pshed, Pspill, Psto_cha, Psto_dis, balance, energy_rated_sto, power_rated_gen, power_rated_pv, power_rated_wind, pv_potential, stodyn, wind_potential"
      ]
     },
     "execution_count": 145,
     "metadata": {},
     "output_type": "execute_result"
    }
   ],
   "source": [
    "model"
   ]
  },
  {
   "cell_type": "code",
   "execution_count": 26,
   "id": "ec7ce82e-f7ff-47e0-9872-794834d0e765",
   "metadata": {},
   "outputs": [
    {
     "data": {
      "text/latex": [
       "$$ \\begin{aligned}\n",
       "\\text{feasibility}\\\\\n",
       "\\text{Subject to} \\quad & power\\_rated\\_gen \\geq 0\\\\\n",
       " & energy\\_rated\\_sto \\geq 0\\\\\n",
       " & power\\_rated\\_pv \\geq 0\\\\\n",
       " & power\\_rated\\_wind \\geq 0\\\\\n",
       " & power\\_rated\\_gen \\leq 2048.4\\\\\n",
       " & energy\\_rated\\_sto \\leq 17070\\\\\n",
       " & power\\_rated\\_pv \\leq 17070\\\\\n",
       " & power\\_rated\\_wind \\leq 8535\\\\\n",
       "\\end{aligned} $$"
      ]
     },
     "metadata": {},
     "output_type": "display_data"
    }
   ],
   "source": [
    "#print(model)"
   ]
  },
  {
   "cell_type": "markdown",
   "id": "e900724d-f571-4838-8920-9e9c808e706d",
   "metadata": {},
   "source": [
    "---\n",
    "\n",
    "## Previous notebook content"
   ]
  },
  {
   "cell_type": "code",
   "execution_count": 4,
   "id": "470f5630-322c-497f-bac9-beb87f014f71",
   "metadata": {},
   "outputs": [
    {
     "data": {
      "text/plain": [
       "obj_multi"
      ]
     },
     "execution_count": 4,
     "metadata": {},
     "output_type": "execute_result"
    }
   ],
   "source": [
    "\"Multi-objective criterion for microgrid performance: lcoe, shedding rate\"\n",
    "function obj_multi(x)\n",
    "    stats, costs = simulate_microgrid(x)\n",
    "    # Extract KPIs of interest\n",
    "    lcoe = costs.lcoe # $/kWh\n",
    "    shed_rate = stats.shed_rate; # in [0,1]\n",
    "    return lcoe, shed_rate\n",
    "end"
   ]
  },
  {
   "cell_type": "code",
   "execution_count": 5,
   "id": "6b3eb2d2-1513-424b-baa0-a49ca5247bb4",
   "metadata": {},
   "outputs": [
    {
     "data": {
      "text/plain": [
       "obj"
      ]
     },
     "execution_count": 5,
     "metadata": {},
     "output_type": "execute_result"
    }
   ],
   "source": [
    "\"\"\"Mono-objective criterion: LCOE + penalty if shedding rate > `shed_max`\n",
    "\n",
    "with signature adapted to NLopt with `grad` as 2nd argument\n",
    "\n",
    "load shedding penalty threshold `shed_max` should be in  [0,1[\n",
    "\"\"\"\n",
    "function obj(x, grad, shed_max, w_shed_max=1e5)\n",
    "    lcoe, shed_rate = obj_multi(x)\n",
    "    over_shed = shed_rate - shed_max\n",
    "    if over_shed > 0.0\n",
    "        penalty = w_shed_max*over_shed\n",
    "    else\n",
    "        penalty = 0.0\n",
    "    end\n",
    "    J = lcoe + penalty\n",
    "end"
   ]
  },
  {
   "cell_type": "markdown",
   "id": "c57f7af9-ea2f-40a8-b502-ba98b472410c",
   "metadata": {},
   "source": [
    "### Tests the objective functions"
   ]
  },
  {
   "cell_type": "markdown",
   "id": "e8feaded-609f-4dfa-b350-4089468d6875",
   "metadata": {},
   "source": [
    "Test of the simulator wrapper (on a baseline sizing):"
   ]
  },
  {
   "cell_type": "code",
   "execution_count": 6,
   "id": "d765dc6a-eeda-4727-b259-479176670dc1",
   "metadata": {},
   "outputs": [
    {
     "data": {
      "text/plain": [
       "([1.8, 5.0, 3.0, 0.9], 0.22924812869928668, 21.89002772908652)"
      ]
     },
     "execution_count": 6,
     "metadata": {},
     "output_type": "execute_result"
    }
   ],
   "source": [
    "# Baseline sizing: same as in Microgrid_Wind-Solar.ipynb notebook\n",
    "x_base = [power_rated_gen, energy_rated_sto, power_rated_pv, power_rated_wind]/1000.\n",
    "# run simulation:\n",
    "stats, costs = simulate_microgrid(x_base)\n",
    "x_base, costs.lcoe, costs.npc/1e6"
   ]
  },
  {
   "cell_type": "code",
   "execution_count": 7,
   "id": "8de2153d-559f-4a60-880e-e8ea5fa3b810",
   "metadata": {},
   "outputs": [
    {
     "name": "stdout",
     "output_type": "stream",
     "text": [
      "Base. multi: (0.22924812869928668, 0.0) mono: 0.22924812869928668\n"
     ]
    }
   ],
   "source": [
    "# Test:\n",
    "shed_max = 0.01 # in [0,1]\n",
    "\n",
    "println(\"Base. multi: \", obj_multi(x_base), \" mono: \", obj(x_base,[], shed_max))"
   ]
  },
  {
   "cell_type": "markdown",
   "id": "dfbf1ccf-a7df-474a-991c-9437bd83d8ab",
   "metadata": {},
   "source": [
    "## Optimization"
   ]
  },
  {
   "cell_type": "markdown",
   "id": "d15efd32-c2ab-4d9a-98cf-5918cdf0b9b1",
   "metadata": {},
   "source": [
    "### Setting up the optimization problem"
   ]
  },
  {
   "cell_type": "markdown",
   "id": "87ccea54-0d83-4b01-8f7e-de37c8dfa0d9",
   "metadata": {},
   "source": [
    "bounds of the design space and starting point: derived from maximal load power"
   ]
  },
  {
   "cell_type": "code",
   "execution_count": 8,
   "id": "5ac92d7e-5de1-4ddf-a050-6897dbc8af2d",
   "metadata": {},
   "outputs": [
    {
     "data": {
      "text/plain": [
       "4-element Vector{Float64}:\n",
       "  2.0484\n",
       " 17.07\n",
       " 17.07\n",
       "  8.535"
      ]
     },
     "execution_count": 8,
     "metadata": {},
     "output_type": "execute_result"
    }
   ],
   "source": [
    "Pload_max = maximum(Pload)\n",
    "\n",
    "xmin = [0., 0., 1e-3, 0.] # 1e-3 instead of 0.0, because LCOE is NaN if ther is exactly zero generation\n",
    "xmax = [1.2, 10.0, 10.0, 5.0] * (Pload_max/1000)"
   ]
  },
  {
   "cell_type": "markdown",
   "id": "6c2bc984-bae8-403f-8130-d50efc8f5717",
   "metadata": {},
   "source": [
    "Optionally ban some choices:"
   ]
  },
  {
   "cell_type": "code",
   "execution_count": 9,
   "id": "9f65e094-4c58-4e9b-b4ee-b626f6504f6c",
   "metadata": {},
   "outputs": [],
   "source": [
    "# Solar power forbidden (optional)\n",
    "#xmax[3] = 1e-3\n",
    "# Wind power forbidden (optional)\n",
    "#xmax[4] = 0."
   ]
  },
  {
   "cell_type": "markdown",
   "id": "3daceed1-2315-4eca-b7bd-b3a1e31cff09",
   "metadata": {},
   "source": [
    "### Wrapper of the optimization process\n",
    "\n",
    "This is an optional step, but recommended to explore easily the impact of the many parameters taken by optimization algorithms.\n",
    "\n",
    "See [optimization termination conditions](https://nlopt.readthedocs.io/en/latest/NLopt_Introduction/#termination-conditions) in NLopt documention for the meaning of `xtol_rel`"
   ]
  },
  {
   "cell_type": "code",
   "execution_count": 12,
   "id": "08491363-e1ce-47d3-a425-4bc83888be12",
   "metadata": {},
   "outputs": [
    {
     "data": {
      "text/plain": [
       "optim_mg"
      ]
     },
     "execution_count": 12,
     "metadata": {},
     "output_type": "execute_result"
    }
   ],
   "source": [
    "\"\"\"Optimize sizing of microgrid based on the `obj` function\n",
    "\n",
    "Parameters:\n",
    "- `x0`: initial sizing (for the algorithms which need them)\n",
    "- `shed_max`: load shedding penalty threshold (same as in `obj`)\n",
    "- `algo` could be one of LN_SBPLX, GN_DIRECT, GN_ESCH...\n",
    "- `maxeval`: maximum allowed number of calls to the objective function,\n",
    "  that is to the microgrid simulation\n",
    "- `xtol_rel`: termination condition based on relative change of sizing, see NLopt doc.\n",
    "- `srand`: random number generation seed (for algorithms which use some stochastic search)\n",
    "\n",
    "Problem bounds are taken as the global variables `xmin`, `xmax`,\n",
    "but could be added to the parameters as well.\n",
    "\"\"\"\n",
    "function optim_mg(x0, shed_max, algo=:LN_SBPLX, maxeval=1000, xtol_rel=1e-4, srand=1)\n",
    "    nx = length(x0) # number of optim variables\n",
    "    opt = Opt(algo, nx)\n",
    "    NLopt.srand(srand)\n",
    "    \n",
    "    opt.lower_bounds = xmin\n",
    "    opt.upper_bounds = xmax\n",
    "    opt.min_objective = (x, grad) -> obj(x, grad, shed_max)\n",
    "    opt.xtol_rel = xtol_rel\n",
    "    opt.maxeval = maxeval\n",
    "    \n",
    "    (fopt, xopt, ret) = optimize(opt, x0)\n",
    "    return fopt, xopt, ret, opt.numevals\n",
    "end"
   ]
  }
 ],
 "metadata": {
  "kernelspec": {
   "display_name": "Julia 1.9.3",
   "language": "julia",
   "name": "julia-1.9"
  },
  "language_info": {
   "file_extension": ".jl",
   "mimetype": "application/julia",
   "name": "julia",
   "version": "1.9.3"
  }
 },
 "nbformat": 4,
 "nbformat_minor": 5
}
