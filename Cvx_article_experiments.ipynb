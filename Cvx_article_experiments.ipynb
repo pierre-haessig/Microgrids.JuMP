{
 "cells": [
  {
   "cell_type": "markdown",
   "id": "3a7dbcc0-25a3-4dd9-9af1-6d1194cbfde8",
   "metadata": {},
   "source": [
    "# Microgrid sizing experiments for the “convex usage dependent cost” article\n",
    "\n",
    "**TODOs**:\n",
    "- penalized approach\n",
    "\n",
    "Pierre Haessig, Oct-November 2024"
   ]
  },
  {
   "cell_type": "code",
   "execution_count": 1,
   "id": "7482f7f5-163d-43fa-95a4-905c3664bbd3",
   "metadata": {},
   "outputs": [],
   "source": [
    "using Microgrids\n",
    "\n",
    "# Optimization\n",
    "using JuMP\n",
    "using HiGHS # Linear Programming solver\n",
    "\n",
    "# Display\n",
    "using Printf # pretty print results\n",
    "using PyPlot\n",
    "\n",
    "# Save results\n",
    "using CSV, DataFrames"
   ]
  },
  {
   "cell_type": "markdown",
   "id": "d7b73961-e1a4-4ccb-a688-3ca74dd85db3",
   "metadata": {},
   "source": [
    "Check version of Microgrids.jl (v0.11.0 needed)"
   ]
  },
  {
   "cell_type": "code",
   "execution_count": 2,
   "id": "d93b07c5-0eb0-41b1-941c-36277f98c5a2",
   "metadata": {},
   "outputs": [
    {
     "name": "stdout",
     "output_type": "stream",
     "text": [
      "\u001b[32m\u001b[1mStatus\u001b[22m\u001b[39m `~/.julia/environments/v1.11/Project.toml`\n",
      "  \u001b[90m[bd581358] \u001b[39mMicrogrids v0.11.0\n"
     ]
    }
   ],
   "source": [
    "import Pkg\n",
    "Pkg.status(\"Microgrids\")"
   ]
  },
  {
   "cell_type": "markdown",
   "id": "b547672c-b886-4dc3-a8e6-231089a3417c",
   "metadata": {},
   "source": [
    "Empty DataFrames to store paramters and results, to be contructed [Row by Row](https://dataframes.juliadata.org/stable/man/getting_started/#Constructing-Row-by-Row) with `push!`"
   ]
  },
  {
   "cell_type": "code",
   "execution_count": 3,
   "id": "03b91042-a2d8-4729-8740-28b0eddfef93",
   "metadata": {},
   "outputs": [
    {
     "data": {
      "text/html": [
       "<div><div style = \"float: left;\"><span>0×10 DataFrame</span></div><div style = \"clear: both;\"></div></div><div class = \"data-frame\" style = \"overflow-x: scroll;\"><table class = \"data-frame\" style = \"margin-bottom: 6px;\"><thead><tr class = \"header\"><th class = \"rowNumber\" style = \"font-weight: bold; text-align: right;\">Row</th><th style = \"text-align: left;\">case</th><th style = \"text-align: left;\">shed_max</th><th style = \"text-align: left;\">fuel_price</th><th style = \"text-align: left;\">sto_lifetime_cycles</th><th style = \"text-align: left;\">sto_lifetime_calendar</th><th style = \"text-align: left;\">fixed_lifetimes</th><th style = \"text-align: left;\">gen_hours_assum</th><th style = \"text-align: left;\">n_ztan</th><th style = \"text-align: left;\">relax_gain</th><th style = \"text-align: left;\">usage_penal</th></tr><tr class = \"subheader headerLastRow\"><th class = \"rowNumber\" style = \"font-weight: bold; text-align: right;\"></th><th title = \"String\" style = \"text-align: left;\">String</th><th title = \"Float64\" style = \"text-align: left;\">Float64</th><th title = \"Float64\" style = \"text-align: left;\">Float64</th><th title = \"Float64\" style = \"text-align: left;\">Float64</th><th title = \"Float64\" style = \"text-align: left;\">Float64</th><th title = \"Bool\" style = \"text-align: left;\">Bool</th><th title = \"Float64\" style = \"text-align: left;\">Float64</th><th title = \"Int64\" style = \"text-align: left;\">Int64</th><th title = \"Float64\" style = \"text-align: left;\">Float64</th><th title = \"Int64\" style = \"text-align: left;\">Int64</th></tr></thead><tbody></tbody></table></div>"
      ],
      "text/latex": [
       "\\begin{tabular}{r|ccccccc}\n",
       "\t& case & shed\\_max & fuel\\_price & sto\\_lifetime\\_cycles & sto\\_lifetime\\_calendar & fixed\\_lifetimes & \\\\\n",
       "\t\\hline\n",
       "\t& String & Float64 & Float64 & Float64 & Float64 & Bool & \\\\\n",
       "\t\\hline\n",
       "\\end{tabular}\n"
      ],
      "text/plain": [
       "\u001b[1m0×10 DataFrame\u001b[0m\n",
       "\u001b[1m Row \u001b[0m│\u001b[1m case   \u001b[0m\u001b[1m shed_max \u001b[0m\u001b[1m fuel_price \u001b[0m\u001b[1m sto_lifetime_cycles \u001b[0m\u001b[1m sto_lifetime_calenda\u001b[0m ⋯\n",
       "     │\u001b[90m String \u001b[0m\u001b[90m Float64  \u001b[0m\u001b[90m Float64    \u001b[0m\u001b[90m Float64             \u001b[0m\u001b[90m Float64             \u001b[0m ⋯\n",
       "─────┴──────────────────────────────────────────────────────────────────────────\n",
       "\u001b[36m                                                               6 columns omitted\u001b[0m"
      ]
     },
     "execution_count": 3,
     "metadata": {},
     "output_type": "execute_result"
    }
   ],
   "source": [
    "# Empty DataFrames\n",
    "df_params = DataFrame( # experiment parameters\n",
    "    case=String[],\n",
    "    shed_max=Float64[],\n",
    "    fuel_price=Float64[],\n",
    "    sto_lifetime_cycles=Float64[], sto_lifetime_calendar=Float64[],\n",
    "    fixed_lifetimes=Bool[], gen_hours_assum=Float64[],\n",
    "    n_ztan=Int[], relax_gain=Float64[],\n",
    "    usage_penal=Int[]\n",
    ")"
   ]
  },
  {
   "cell_type": "code",
   "execution_count": 4,
   "id": "1667a608-8400-4473-b9ad-7c1e6d85dc0b",
   "metadata": {},
   "outputs": [
    {
     "data": {
      "text/html": [
       "<div><div style = \"float: left;\"><span>0×12 DataFrame</span></div><div style = \"clear: both;\"></div></div><div class = \"data-frame\" style = \"overflow-x: scroll;\"><table class = \"data-frame\" style = \"margin-bottom: 6px;\"><thead><tr class = \"header\"><th class = \"rowNumber\" style = \"font-weight: bold; text-align: right;\">Row</th><th style = \"text-align: left;\">lcoe_pwl</th><th style = \"text-align: left;\">lcoe_cvx</th><th style = \"text-align: left;\">lcoe_ns</th><th style = \"text-align: left;\">sto_cycles</th><th style = \"text-align: left;\">sto_cycles_lifetime</th><th style = \"text-align: left;\">gen_hours</th><th style = \"text-align: left;\">gen_hours_lin</th><th style = \"text-align: left;\">xopt_gen</th><th style = \"text-align: left;\">xopt_sto</th><th style = \"text-align: left;\">xopt_pv</th><th style = \"text-align: left;\">xopt_wind</th><th style = \"text-align: left;\">topt</th></tr><tr class = \"subheader headerLastRow\"><th class = \"rowNumber\" style = \"font-weight: bold; text-align: right;\"></th><th title = \"Float64\" style = \"text-align: left;\">Float64</th><th title = \"Float64\" style = \"text-align: left;\">Float64</th><th title = \"Float64\" style = \"text-align: left;\">Float64</th><th title = \"Float64\" style = \"text-align: left;\">Float64</th><th title = \"Float64\" style = \"text-align: left;\">Float64</th><th title = \"Float64\" style = \"text-align: left;\">Float64</th><th title = \"Float64\" style = \"text-align: left;\">Float64</th><th title = \"Float64\" style = \"text-align: left;\">Float64</th><th title = \"Float64\" style = \"text-align: left;\">Float64</th><th title = \"Float64\" style = \"text-align: left;\">Float64</th><th title = \"Float64\" style = \"text-align: left;\">Float64</th><th title = \"Float64\" style = \"text-align: left;\">Float64</th></tr></thead><tbody></tbody></table></div>"
      ],
      "text/latex": [
       "\\begin{tabular}{r|cccccccc}\n",
       "\t& lcoe\\_pwl & lcoe\\_cvx & lcoe\\_ns & sto\\_cycles & sto\\_cycles\\_lifetime & gen\\_hours & gen\\_hours\\_lin & \\\\\n",
       "\t\\hline\n",
       "\t& Float64 & Float64 & Float64 & Float64 & Float64 & Float64 & Float64 & \\\\\n",
       "\t\\hline\n",
       "\\end{tabular}\n"
      ],
      "text/plain": [
       "\u001b[1m0×12 DataFrame\u001b[0m\n",
       "\u001b[1m Row \u001b[0m│\u001b[1m lcoe_pwl \u001b[0m\u001b[1m lcoe_cvx \u001b[0m\u001b[1m lcoe_ns \u001b[0m\u001b[1m sto_cycles \u001b[0m\u001b[1m sto_cycles_lifetime \u001b[0m\u001b[1m gen_hours\u001b[0m ⋯\n",
       "     │\u001b[90m Float64  \u001b[0m\u001b[90m Float64  \u001b[0m\u001b[90m Float64 \u001b[0m\u001b[90m Float64    \u001b[0m\u001b[90m Float64             \u001b[0m\u001b[90m Float64  \u001b[0m ⋯\n",
       "─────┴──────────────────────────────────────────────────────────────────────────\n",
       "\u001b[36m                                                               6 columns omitted\u001b[0m"
      ]
     },
     "execution_count": 4,
     "metadata": {},
     "output_type": "execute_result"
    }
   ],
   "source": [
    "df_results_blank() = DataFrame( # results\n",
    "    lcoe_pwl=Float64[], lcoe_cvx=Float64[], lcoe_ns=Float64[],\n",
    "    sto_cycles=Float64[], sto_cycles_lifetime=Float64[],\n",
    "    gen_hours=Float64[], gen_hours_lin=Float64[],\n",
    "    xopt_gen=Float64[], xopt_sto=Float64[], xopt_pv=Float64[], xopt_wind=Float64[],\n",
    "    topt=Float64[]\n",
    ")\n",
    "df_results_blank()"
   ]
  },
  {
   "cell_type": "markdown",
   "id": "8856b12b-6580-498c-a235-3583cd3c91b8",
   "metadata": {},
   "source": [
    "## Problem setup"
   ]
  },
  {
   "cell_type": "code",
   "execution_count": 5,
   "id": "a70f0a0a-9ba2-4e8f-8dba-51608a202bad",
   "metadata": {},
   "outputs": [
    {
     "name": "stdout",
     "output_type": "stream",
     "text": [
      "Base Wind-Solar Microgrid project definition functions...\n"
     ]
    }
   ],
   "source": [
    "include(\"./example/Microgrid_Wind-Solar_data.jl\");"
   ]
  },
  {
   "cell_type": "code",
   "execution_count": 6,
   "id": "c1345f8e-ad93-485d-815c-8a25cba38363",
   "metadata": {},
   "outputs": [
    {
     "name": "stdout",
     "output_type": "stream",
     "text": [
      "Microgrid optimization with JuMP common functions:\n",
      "- CRF\n",
      "- ts_reduction\n",
      "- g_tan\n",
      "- cons_Xann_usage!\n",
      "- build_optim_mg_stage!\n",
      "- setup_optim_mg_jump\n",
      "- diagnostics_mg_jump\n",
      "- optim_mg_jump\n",
      "- simulate_alg\n"
     ]
    }
   ],
   "source": [
    "include(\"./Microgrid_JuMP_common.jl\");"
   ]
  },
  {
   "cell_type": "code",
   "execution_count": 7,
   "id": "f35cbb8a-bb4f-4795-8f7f-c708387c04d1",
   "metadata": {},
   "outputs": [
    {
     "name": "stdout",
     "output_type": "stream",
     "text": [
      "loading times series from data/Ouessant_data_2016.csv...\n"
     ]
    }
   ],
   "source": [
    "const tseries = load_microgrid_tseries();"
   ]
  },
  {
   "cell_type": "code",
   "execution_count": 8,
   "id": "7da287e3-242c-4554-aa4d-2d67c29faa6c",
   "metadata": {},
   "outputs": [
    {
     "data": {
      "text/plain": [
       "Microgrid{Float64}(Project(25, 0.05, 1.0, \"€\", ConsistentSalvage), [1453.0, 1331.0, 1214.0, 1146.0, 1078.0, 1035.0, 1032.0, 1072.0, 1142.0, 1208.0  …  1479.0, 1508.0, 1410.0, 1370.0, 1467.0, 1587.0, 1561.0, 1472.0, 1533.0, 1483.0], DispatchableGenerator{Float64}(1000.0, 0.0, 0.24, 1.0, 400.0, 0.02, 15000.0, 0.0, 1.0, 1.0, \"L\"), Battery{Float64}(1000.0, 350.0, 10.0, 15.0, 3000.0, 1.0, 1.0, 0.05, 0.0, 0.0, 1.0, 1.0), NonDispatchableSource[Photovoltaic{Float64}(1000.0, [0.0, 0.0, 0.0, 0.0, 0.0, 0.0, 0.0, 0.0, 0.0, 7.000000000000001e-5  …  0.45131, 0.30678, 0.0, 0.0, 0.0, 0.0, 0.0, 0.0, 0.0, 0.0], 1200.0, 20.0, 25.0, 1.0, 1.0, 1.0), WindPower{Float64}(1000.0, [0.03184904690521816, 0.1104932647748532, 0.24596484619739856, 0.44422012231738006, 0.6554128208926687, 0.8470913237698507, 0.9579413031865969, 0.9735278942424532, 0.9837469734016646, 0.9903667231838823  …  0.011233045262998936, 0.018460507449516883, 0.023644167600765466, 0.02969747711584798, 0.036359043012900244, 0.03713796382151399, 0.037530379586714784, 0.03792477182913709, 0.037530379586714784, 0.03674751985711801], 3500.0, 100.0, 25.0, 1.0, 1.0)])"
      ]
     },
     "execution_count": 8,
     "metadata": {},
     "output_type": "execute_result"
    }
   ],
   "source": [
    "\"\"\"Create a Microgrid project description of size `x`\n",
    "\n",
    "x should be [\n",
    "    power_rated_gen,\n",
    "    energy_rated_sto,\n",
    "    power_rated_pv,\n",
    "    power_rated_wind\n",
    "] (in kW or kWh)\n",
    "\n",
    "Apart from the sizing, the project is based on parameters\n",
    "defined by the function `create_mg_base` which\n",
    "defaults to the globally defined `create_mg_base`.\n",
    "This allows modifying some project parameters.\n",
    "\"\"\"\n",
    "function create_microgrid(x; create_mg_base=create_mg_base)\n",
    "    # Create base microgrid\n",
    "    mg = create_mg_base()\n",
    "\n",
    "    # force ConsistentSalvage, necessary for comparison with LP approaches\n",
    "    mg.project.salvage_type = ConsistentSalvage\n",
    "\n",
    "    # Set the size\n",
    "    mg.generator.power_rated = x[1] # power_rated_gen\n",
    "    mg.storage.energy_rated = x[2] # energy_rated_sto\n",
    "    mg.nondispatchables[1].power_rated = x[3] # power_rated_pv\n",
    "    mg.nondispatchables[2].power_rated = x[4] # power_rated_wind\n",
    "\n",
    "    return mg\n",
    "end\n",
    "\n",
    "nxopt = 4 # number of optimization variables\n",
    "x_base = [1000. 1000. 1000. 1000.]\n",
    "mg_base = create_microgrid(x_base)"
   ]
  },
  {
   "cell_type": "markdown",
   "id": "2003a550-3c02-4b68-af3e-a28055f0f81a",
   "metadata": {},
   "source": [
    "### Sizing bounds for each component"
   ]
  },
  {
   "cell_type": "code",
   "execution_count": 9,
   "id": "56345b69-0517-4bff-8722-71987a35a8a4",
   "metadata": {},
   "outputs": [
    {
     "name": "stdout",
     "output_type": "stream",
     "text": [
      "Max load power: 1707.0 kW"
     ]
    }
   ],
   "source": [
    "Pload_max = maximum(tseries.Pload) # kW\n",
    "@printf(\"Max load power: %.1f kW\", Pload_max)\n",
    "power_rated_gen_max = 1.2 * Pload_max\n",
    "energy_rated_sto_max = 10.0 * Pload_max\n",
    "power_rated_pv_max = 10.0 * Pload_max\n",
    "power_rated_wind_max = 5.0 * Pload_max;"
   ]
  },
  {
   "cell_type": "markdown",
   "id": "dc2ade54-9771-4960-aa3d-b5f76caf24a3",
   "metadata": {},
   "source": [
    "## Algebraic approach with usage dependent cost"
   ]
  },
  {
   "cell_type": "markdown",
   "id": "e9cb65ef-a41e-483c-815b-1df1410ea31a",
   "metadata": {},
   "source": [
    "### Model options"
   ]
  },
  {
   "cell_type": "markdown",
   "id": "e6dec52c-a403-4791-bb97-755adc0e188d",
   "metadata": {},
   "source": [
    "Load shedding (unserved load) bound, as a fraction of cumulated desired load energy:"
   ]
  },
  {
   "cell_type": "code",
   "execution_count": 10,
   "id": "65b3a277-f378-4445-8ad8-6c86fb4611ba",
   "metadata": {},
   "outputs": [
    {
     "data": {
      "text/plain": [
       "0.0"
      ]
     },
     "execution_count": 10,
     "metadata": {},
     "output_type": "execute_result"
    }
   ],
   "source": [
    "shed_max = 0.0 # in [0,1]"
   ]
  },
  {
   "cell_type": "markdown",
   "id": "37771c6b-d981-4a65-9761-75e1b3255d10",
   "metadata": {},
   "source": [
    "Choose between fixed lifetimes (gen and storage) vs usage-dependant:"
   ]
  },
  {
   "cell_type": "code",
   "execution_count": 11,
   "id": "e10e103e-36f9-4307-8cf7-7f3295ece17b",
   "metadata": {},
   "outputs": [
    {
     "data": {
      "text/plain": [
       "false"
      ]
     },
     "execution_count": 11,
     "metadata": {},
     "output_type": "execute_result"
    }
   ],
   "source": [
    "fixed_lifetimes = false"
   ]
  },
  {
   "cell_type": "markdown",
   "id": "32a5288f-1472-4914-b469-1a2b1138ee03",
   "metadata": {},
   "source": [
    "assumed generator operation hours (used only if `fixed_lifetimes = true`)"
   ]
  },
  {
   "cell_type": "code",
   "execution_count": 12,
   "id": "a142d00f-052f-4f1b-9a77-ab158bd7eb75",
   "metadata": {},
   "outputs": [
    {
     "data": {
      "text/plain": [
       "2000.0"
      ]
     },
     "execution_count": 12,
     "metadata": {},
     "output_type": "execute_result"
    }
   ],
   "source": [
    "gen_hours_assum = 2000. # in 0 – 8760 h/y"
   ]
  },
  {
   "cell_type": "markdown",
   "id": "ffebb173-3c3a-4736-a284-e96c931ca5ad",
   "metadata": {},
   "source": [
    "else, use a relaxation gain to try to compensate the underestimation of e.g. the generator operating hours due to linearization. Default is 1.0. Use higher gain for stronger generator usage penalty.\n",
    "- 2.0 is used for article"
   ]
  },
  {
   "cell_type": "code",
   "execution_count": 13,
   "id": "8abefd2c-3b7c-48a7-929a-fb2e28830208",
   "metadata": {},
   "outputs": [
    {
     "data": {
      "text/plain": [
       "2.0"
      ]
     },
     "execution_count": 13,
     "metadata": {},
     "output_type": "execute_result"
    }
   ],
   "source": [
    "relax_gain = 2.0 # ≥ 1"
   ]
  },
  {
   "cell_type": "markdown",
   "id": "598a4dab-5e93-4366-bcf7-e4af42cb15cd",
   "metadata": {},
   "source": [
    "### Test case options\n",
    "\n",
    "test case modification functions"
   ]
  },
  {
   "cell_type": "code",
   "execution_count": 14,
   "id": "ad2cc2eb-1a5c-4d6e-8ec4-4ebd190e630d",
   "metadata": {},
   "outputs": [
    {
     "data": {
      "text/plain": [
       "modify_mg_lifetimes"
      ]
     },
     "execution_count": 14,
     "metadata": {},
     "output_type": "execute_result"
    }
   ],
   "source": [
    "\"\"\"Modify Microgrid project by *multiplying* base price values:\n",
    "- `sto`: `mg.storage.investment_price` \n",
    "- `gen`: `mg.generator.investment_price` \n",
    "- `fuel`: `mg.generator.fuel_price`\n",
    "\"\"\"\n",
    "function modify_mg_prices(;sto=1.0, gen=1.0, fuel=1.0)\n",
    "    println(\"mg prices modifications: sto*=$sto, gen*=$gen, fuel*=$fuel\")\n",
    "    function modify_mg(mg)\n",
    "        mg.storage.investment_price *= sto\n",
    "        mg.generator.investment_price *= gen\n",
    "        mg.generator.fuel_price *= fuel\n",
    "        return mg # return mg to allow chaining\n",
    "    end\n",
    "    return modify_mg\n",
    "end\n",
    "\n",
    "\"\"\"Modify Microgrid project by *setting* storage lifetimes:\n",
    "- `cal`: `mg.storage.lifetime_calendar` (years)\n",
    "- `cyc`: `mg.storage.lifetime_cycles` (nb cycles)\n",
    "\"\"\"\n",
    "function modify_mg_lifetimes(;cal=nothing, cyc=nothing)\n",
    "    cal_mod = cal !== nothing ? \"cal=$cal y\" : \"cal unchanged\"\n",
    "    cyc_mod = cyc !== nothing ? \"cyc=$cyc c\" : \"cyc unchanged\"\n",
    "    println(\"mg lifetime modification: $cal_mod, $cyc_mod\")\n",
    "    function modify_mg(mg)\n",
    "        if cal !== nothing\n",
    "            mg.storage.lifetime_calendar = cal\n",
    "        end\n",
    "        if cyc !== nothing\n",
    "            mg.storage.lifetime_cycles = cyc\n",
    "        end\n",
    "        return mg # return mg to allow chaining\n",
    "    end\n",
    "    return modify_mg\n",
    "end"
   ]
  },
  {
   "cell_type": "markdown",
   "id": "4e981bfd-8b48-4b76-a97d-313921fecd60",
   "metadata": {},
   "source": [
    "Choice of base case: (using function composition `create_mg_base` → `modify_mg1` → ...)"
   ]
  },
  {
   "cell_type": "code",
   "execution_count": 15,
   "id": "80efe797-08b2-4516-86ab-b47f2fa7e617",
   "metadata": {},
   "outputs": [
    {
     "name": "stdout",
     "output_type": "stream",
     "text": [
      "mg lifetime modification: cal unchanged, cyc=1500 c\n",
      "mg prices modifications: sto*=1.0, gen*=1.0, fuel*=2.0\n"
     ]
    }
   ],
   "source": [
    "create_mg_modified = modify_mg_lifetimes(cyc=1500) ∘\n",
    "                     modify_mg_prices(fuel=2.0) ∘\n",
    "                     create_mg_base;"
   ]
  },
  {
   "cell_type": "markdown",
   "id": "ffb7fc0b-9230-4224-a6ad-923fe0d85f77",
   "metadata": {},
   "source": [
    "### Algebraic model definition\n",
    "\n"
   ]
  },
  {
   "cell_type": "markdown",
   "id": "137f48f3-2dc7-4b5f-b4c4-5531a910b5cf",
   "metadata": {},
   "source": [
    "#### Core model definition"
   ]
  },
  {
   "cell_type": "markdown",
   "id": "0e4f418c-e28a-41d8-8df7-e6aa516e50d0",
   "metadata": {},
   "source": [
    "Test `setup_optim_mg_jump` function to get JuMP model. Notice that this is not used later, because `setup_optim_mg_jump` is used internally by `optim_mg_jump`."
   ]
  },
  {
   "cell_type": "code",
   "execution_count": 16,
   "id": "fc705172-49ee-4590-b9a3-3a9cd6f264a0",
   "metadata": {},
   "outputs": [
    {
     "name": "stdout",
     "output_type": "stream",
     "text": [
      "Building stage problem with 365 days...\n",
      "zero load shedding allowed\n",
      "Usage-dependent generator lifetime model (relax_gain=1.0)\n",
      "Xann constraints with z_tan=[0.2, 0.28, 0.37, 0.5, 0.68, 1.0, 1.7, 4.0]\n"
     ]
    },
    {
     "data": {
      "text/plain": [
       "A JuMP Model\n",
       "├ solver: HiGHS\n",
       "├ objective_sense: MIN_SENSE\n",
       "│ └ objective_function_type: AffExpr\n",
       "├ num_variables: 78849\n",
       "├ num_constraints: 140198\n",
       "│ ├ AffExpr in MOI.EqualTo{Float64}: 43803\n",
       "│ ├ AffExpr in MOI.GreaterThan{Float64}: 8782\n",
       "│ ├ AffExpr in MOI.LessThan{Float64}: 43801\n",
       "│ ├ VariableRef in MOI.EqualTo{Float64}: 8760\n",
       "│ ├ VariableRef in MOI.GreaterThan{Float64}: 35048\n",
       "│ └ VariableRef in MOI.LessThan{Float64}: 4\n",
       "└ Names registered in the model: none"
      ]
     },
     "execution_count": 16,
     "metadata": {},
     "output_type": "execute_result"
    }
   ],
   "source": [
    "optimizer = HiGHS.Optimizer\n",
    "\n",
    "mg_base, model_data = setup_optim_mg_jump(optimizer; shed_max, create_mg_base=create_mg_modified)\n",
    "\n",
    "model_data[\"model\"]"
   ]
  },
  {
   "cell_type": "markdown",
   "id": "36a8438a-0a14-480e-b330-98ef0a9790e9",
   "metadata": {},
   "source": [
    "Remarks on model size:\n",
    "\n",
    "- stage problem has 78 849 variables (9*8760 + 9)"
   ]
  },
  {
   "cell_type": "markdown",
   "id": "c0381144-994b-40bd-a839-b45e130999c1",
   "metadata": {},
   "source": [
    "### Base Algebraic optim"
   ]
  },
  {
   "cell_type": "markdown",
   "id": "942fe044-c696-4094-8c7b-d3b1c1df241b",
   "metadata": {},
   "source": [
    "Base case: for battery cycle life=1500 and fuel*=2 and 10 cost tangents and relax_gain=1 and 10 tangents.\n",
    "\n",
    "Takes about 10-20s"
   ]
  },
  {
   "cell_type": "code",
   "execution_count": 17,
   "id": "60d6925f-5b57-438c-9dad-dec24dc0e059",
   "metadata": {},
   "outputs": [
    {
     "name": "stdout",
     "output_type": "stream",
     "text": [
      "Building stage problem with 365 days...\n",
      "zero load shedding allowed\n",
      "Usage-dependent generator lifetime model (relax_gain=2.0)\n",
      "Xann constraints with z_tan=[0.2, 0.28, 0.37, 0.5, 0.68, 1.0, 1.7, 4.0]\n",
      " 11.189614 seconds (3.04 M allocations: 187.037 MiB, 0.37% gc time, 4.12% compilation time: 90% of which was recompilation)\n",
      "LCOE: 250.239373 €/MWh"
     ]
    }
   ],
   "source": [
    "optimizer = HiGHS.Optimizer\n",
    "\n",
    "xopt_base, lcoe_base, diag_base, traj_base, md_base, mgopt_base = optim_mg_jump(optimizer;\n",
    "    shed_max,\n",
    "    #ndays=10,\n",
    "    relax_gain,\n",
    "    z_tan=[0.20, 0.28, 0.37, 0.50, 0.68, 1.0, 1.7, 4.0],\n",
    "    create_mg_base = create_mg_modified,\n",
    ")\n",
    "@printf(\"LCOE: %.6f €/MWh\", lcoe_base*1000)"
   ]
  },
  {
   "cell_type": "code",
   "execution_count": 18,
   "id": "a020e7e6-2c99-4fff-b805-c30c30c4b9b7",
   "metadata": {},
   "outputs": [
    {
     "data": {
      "text/plain": [
       "4-element Vector{Float64}:\n",
       " 1255.5\n",
       " 5837.3\n",
       " 2329.5\n",
       " 1596.1"
      ]
     },
     "execution_count": 18,
     "metadata": {},
     "output_type": "execute_result"
    }
   ],
   "source": [
    "round.(xopt_base; digits=1) # optimal sizing"
   ]
  },
  {
   "cell_type": "markdown",
   "id": "311cd6af-9064-4f35-a89f-98aac6de6c41",
   "metadata": {},
   "source": [
    "#### Expected results\n",
    "\n",
    "for battery cycle life=1500, fuel*=2, 10 tangents and relax_gain=2\n",
    "\n",
    "LCOE: `250.239 373` €/MWh\n",
    "\n",
    "Sizing $x^*$:\n",
    "```\n",
    " Gen  1255.5\n",
    " Sto  5837.3\n",
    " PV   2329.5\n",
    " Wind 1596.1\n",
    "```\n",
    "\n",
    "same,  but with **relax_gain=1**\n",
    "\n",
    "LCOE: `243.023 740` €/MWh\n",
    "\n",
    "Sizing $x^*$:\n",
    "```\n",
    " Gen  1216.0\n",
    " Sto  4987.9\n",
    " PV   2132.0\n",
    " Wind 1575.9\n",
    "```"
   ]
  },
  {
   "cell_type": "code",
   "execution_count": 19,
   "id": "6b8e4558-dd8b-4e41-87a2-06a31ae19eac",
   "metadata": {},
   "outputs": [
    {
     "name": "stdout",
     "output_type": "stream",
     "text": [
      "Generator diagnostics:\n",
      "- cost_share: 0.3449048222208222\n",
      "- cost_share_fuel: 0.2814672373469457\n",
      "- energy: 994146.0936787404\n",
      "- load_share: 0.14673788563458876\n",
      "- hours: 1809.0\n",
      "- hours_lin: 1583.7121724658198\n",
      "- lifetime: 8.291873963515755\n",
      "- lifetime_hlin: 9.471418014452203\n",
      "- CRF: 0.150271578062569\n",
      "- CRF_hlin: 0.1351175173783697\n",
      "- CRF_hlin_pwl: 0.13497830538014102\n",
      "\n",
      "Storage diagnostics:\n",
      "- cost_share: 0.1826803559394787\n",
      "- energy_through: 1.6386143945716284e6\n",
      "- load_share: 0.12093132647139042\n",
      "- cycles: 140.35660110762856\n",
      "- lifetime_cycles: 10.687064150618514\n",
      "- lifetime: 10.687064150618514\n",
      "- CRF: 0.12305413939425353\n",
      "- CRF_pwl: 0.12301959130765426\n"
     ]
    }
   ],
   "source": [
    "\"pretty-print NamedTuple or Dict\"\n",
    "function pprint(d, title=nothing)\n",
    "    if title !== nothing\n",
    "        println(\"$title:\")\n",
    "    end\n",
    "    for k in keys(d)\n",
    "        println(\"- $k: \", d[k])\n",
    "    end\n",
    "end\n",
    "\n",
    "pprint(diag_base.generator, \"Generator diagnostics\")\n",
    "println()\n",
    "pprint(diag_base.storage, \"Storage diagnostics\")"
   ]
  },
  {
   "cell_type": "markdown",
   "id": "e02d627e-e2bb-4728-9756-66d5821ccd99",
   "metadata": {},
   "source": [
    "#### Comparison with exact costs\n",
    "\n",
    "1. exact nonlinear cvx cost (no PWL approx, but still using the linearized operation hours)\n",
    "2. exact nonsmooth cost"
   ]
  },
  {
   "cell_type": "code",
   "execution_count": 20,
   "id": "e0b590ed-4660-4417-9a78-489b4318c0db",
   "metadata": {},
   "outputs": [
    {
     "data": {
      "text/plain": [
       "(0.2502601106039112, 0.2502393733938677, -8.286262638279585e-5)"
      ]
     },
     "execution_count": 20,
     "metadata": {},
     "output_type": "execute_result"
    }
   ],
   "source": [
    "_, stats, costs_base_cvx = simulate_alg(mgopt_base, md_base,\n",
    "                                        Smoothing(transition=1.0, gain=relax_gain))\n",
    "costs_base_cvx.lcoe, lcoe_base, lcoe_base/costs_base_cvx.lcoe-1"
   ]
  },
  {
   "cell_type": "code",
   "execution_count": 21,
   "id": "1d58adf2-e767-4ba0-903f-41ae648e0cee",
   "metadata": {},
   "outputs": [
    {
     "data": {
      "text/plain": [
       "(0.2522183390570628, 0.2502393733938677, -0.00784624016871105)"
      ]
     },
     "execution_count": 21,
     "metadata": {},
     "output_type": "execute_result"
    }
   ],
   "source": [
    "_, stats, costs_base_ns  = simulate_alg(mgopt_base, md_base,\n",
    "                                        NoSmoothing)\n",
    "costs_base_ns.lcoe, lcoe_base, lcoe_base/costs_base_ns.lcoe-1"
   ]
  },
  {
   "cell_type": "markdown",
   "id": "4f8b8fcf-671f-4836-8ea9-449666ed77df",
   "metadata": {},
   "source": [
    "Store base case params in global experiment DataFrame `df_params`\n",
    "- a first one with `relax_gain=1.0`\n",
    "- a second one with `relax_gain` base value (`2.0`)"
   ]
  },
  {
   "cell_type": "code",
   "execution_count": 22,
   "id": "0b6c30c7-4313-41ad-bced-522aa6f8b36a",
   "metadata": {},
   "outputs": [
    {
     "data": {
      "text/html": [
       "<div><div style = \"float: left;\"><span>2×10 DataFrame</span></div><div style = \"clear: both;\"></div></div><div class = \"data-frame\" style = \"overflow-x: scroll;\"><table class = \"data-frame\" style = \"margin-bottom: 6px;\"><thead><tr class = \"header\"><th class = \"rowNumber\" style = \"font-weight: bold; text-align: right;\">Row</th><th style = \"text-align: left;\">case</th><th style = \"text-align: left;\">shed_max</th><th style = \"text-align: left;\">fuel_price</th><th style = \"text-align: left;\">sto_lifetime_cycles</th><th style = \"text-align: left;\">sto_lifetime_calendar</th><th style = \"text-align: left;\">fixed_lifetimes</th><th style = \"text-align: left;\">gen_hours_assum</th><th style = \"text-align: left;\">n_ztan</th><th style = \"text-align: left;\">relax_gain</th><th style = \"text-align: left;\">usage_penal</th></tr><tr class = \"subheader headerLastRow\"><th class = \"rowNumber\" style = \"font-weight: bold; text-align: right;\"></th><th title = \"String\" style = \"text-align: left;\">String</th><th title = \"Float64\" style = \"text-align: left;\">Float64</th><th title = \"Float64\" style = \"text-align: left;\">Float64</th><th title = \"Float64\" style = \"text-align: left;\">Float64</th><th title = \"Float64\" style = \"text-align: left;\">Float64</th><th title = \"Bool\" style = \"text-align: left;\">Bool</th><th title = \"Float64\" style = \"text-align: left;\">Float64</th><th title = \"Int64\" style = \"text-align: left;\">Int64</th><th title = \"Float64\" style = \"text-align: left;\">Float64</th><th title = \"Int64\" style = \"text-align: left;\">Int64</th></tr></thead><tbody><tr><td class = \"rowNumber\" style = \"font-weight: bold; text-align: right;\">1</td><td style = \"text-align: left;\">Base case, rgain=1.0</td><td style = \"text-align: right;\">0.0</td><td style = \"text-align: right;\">2.0</td><td style = \"text-align: right;\">1500.0</td><td style = \"text-align: right;\">15.0</td><td style = \"text-align: right;\">false</td><td style = \"text-align: right;\">NaN</td><td style = \"text-align: right;\">10</td><td style = \"text-align: right;\">1.0</td><td style = \"text-align: right;\">0</td></tr><tr><td class = \"rowNumber\" style = \"font-weight: bold; text-align: right;\">2</td><td style = \"text-align: left;\">Base case, rgain=2.0</td><td style = \"text-align: right;\">0.0</td><td style = \"text-align: right;\">2.0</td><td style = \"text-align: right;\">1500.0</td><td style = \"text-align: right;\">15.0</td><td style = \"text-align: right;\">false</td><td style = \"text-align: right;\">NaN</td><td style = \"text-align: right;\">10</td><td style = \"text-align: right;\">2.0</td><td style = \"text-align: right;\">0</td></tr></tbody></table></div>"
      ],
      "text/latex": [
       "\\begin{tabular}{r|cccccc}\n",
       "\t& case & shed\\_max & fuel\\_price & sto\\_lifetime\\_cycles & sto\\_lifetime\\_calendar & \\\\\n",
       "\t\\hline\n",
       "\t& String & Float64 & Float64 & Float64 & Float64 & \\\\\n",
       "\t\\hline\n",
       "\t1 & Base case, rgain=1.0 & 0.0 & 2.0 & 1500.0 & 15.0 & $\\dots$ \\\\\n",
       "\t2 & Base case, rgain=2.0 & 0.0 & 2.0 & 1500.0 & 15.0 & $\\dots$ \\\\\n",
       "\\end{tabular}\n"
      ],
      "text/plain": [
       "\u001b[1m2×10 DataFrame\u001b[0m\n",
       "\u001b[1m Row \u001b[0m│\u001b[1m case                 \u001b[0m\u001b[1m shed_max \u001b[0m\u001b[1m fuel_price \u001b[0m\u001b[1m sto_lifetime_cycles \u001b[0m\u001b[1m sto_li\u001b[0m ⋯\n",
       "     │\u001b[90m String               \u001b[0m\u001b[90m Float64  \u001b[0m\u001b[90m Float64    \u001b[0m\u001b[90m Float64             \u001b[0m\u001b[90m Float6\u001b[0m ⋯\n",
       "─────┼──────────────────────────────────────────────────────────────────────────\n",
       "   1 │ Base case, rgain=1.0       0.0         2.0               1500.0         ⋯\n",
       "   2 │ Base case, rgain=2.0       0.0         2.0               1500.0\n",
       "\u001b[36m                                                               6 columns omitted\u001b[0m"
      ]
     },
     "execution_count": 22,
     "metadata": {},
     "output_type": "execute_result"
    }
   ],
   "source": [
    "p = (;\n",
    "    case=\"Base case, rgain=\"*string(relax_gain),\n",
    "    shed_max,\n",
    "    fuel_price=mgopt_base.generator.fuel_price,\n",
    "    sto_lifetime_cycles=mgopt_base.storage.lifetime_cycles,\n",
    "    sto_lifetime_calendar=mgopt_base.storage.lifetime_calendar,\n",
    "    fixed_lifetimes=false, gen_hours_assum=NaN,\n",
    "    n_ztan=10, relax_gain,\n",
    "    usage_penal=0, # no usage penalty\n",
    "    )\n",
    "# Params with forced relax_gain=1.0\n",
    "push!(df_params, p)\n",
    "df_params[end, \"case\"] = \"Base case, rgain=1.0\"\n",
    "df_params[end, \"relax_gain\"] = 1.0\n",
    "\n",
    "# Base relax_gain\n",
    "push!(df_params, p)"
   ]
  },
  {
   "cell_type": "markdown",
   "id": "7b019e0b-60e4-4fe1-a1fd-2583c5d9f1dd",
   "metadata": {},
   "source": [
    "### Effect of PWL approximation\n"
   ]
  },
  {
   "cell_type": "markdown",
   "id": "1b6ac94e-c1f4-4895-9664-63da1ba6835d",
   "metadata": {},
   "source": [
    "Experiment design: from 2 tangents to 10"
   ]
  },
  {
   "cell_type": "code",
   "execution_count": 27,
   "id": "0b3cc3c8-1536-41c7-842a-92e6d56a5099",
   "metadata": {},
   "outputs": [
    {
     "data": {
      "text/plain": [
       "4"
      ]
     },
     "execution_count": 27,
     "metadata": {},
     "output_type": "execute_result"
    }
   ],
   "source": [
    "z_tan_list = [\n",
    "    [], # 2 tangents \n",
    "    [0.50], # 3\n",
    "    [0.28, 0.5, 1.0], # 5\n",
    "    [0.20, 0.28, 0.37, 0.50, 0.68, 1.0, 1.7, 4.0] # 10\n",
    "    ]\n",
    "n_ztan = length(z_tan_list)"
   ]
  },
  {
   "cell_type": "code",
   "execution_count": 29,
   "id": "f6717aab-fb38-4750-bf10-04d1f1b59046",
   "metadata": {},
   "outputs": [
    {
     "name": "stdout",
     "output_type": "stream",
     "text": [
      "Optimization with 0 tangents\n",
      "Building stage problem with 365 days...\n",
      "zero load shedding allowed\n",
      "Usage-dependent generator lifetime model (relax_gain=2.0)\n",
      "Xann constraints with z_tan=Any[]\n",
      "  9.746149 seconds (1.65 M allocations: 117.637 MiB, 0.62% gc time)\n",
      "z=1/(T.log(1+i)):\n",
      "- z_gen = 2.1083205115443637 (lifetime 9.72145089044094 y)\n",
      "- z_sto = 1.864833974798723 (lifetime 10.990755526373354 y)\n",
      "Optimization with 1 tangents\n",
      "Building stage problem with 365 days...\n",
      "zero load shedding allowed\n",
      "Usage-dependent generator lifetime model (relax_gain=2.0)\n",
      "Xann constraints with z_tan=Any[0.5]\n",
      " 10.248159 seconds (1.65 M allocations: 117.639 MiB, 3.49% gc time)\n",
      "z=1/(T.log(1+i)):\n",
      "- z_gen = 2.108320511544363 (lifetime 9.721450890440945 y)\n",
      "- z_sto = 1.8648339747987246 (lifetime 10.990755526373343 y)\n",
      "Optimization with 3 tangents\n",
      "Building stage problem with 365 days...\n",
      "zero load shedding allowed\n",
      "Usage-dependent generator lifetime model (relax_gain=2.0)\n",
      "Xann constraints with z_tan=Any[0.28, 0.5, 1.0]\n",
      "  9.911977 seconds (1.65 M allocations: 117.641 MiB, 0.34% gc time)\n",
      "z=1/(T.log(1+i)):\n",
      "- z_gen = 2.147166495871887 (lifetime 9.54557289976956 y)\n",
      "- z_sto = 1.9231553544769031 (lifetime 10.657451186444963 y)\n",
      "Optimization with 8 tangents\n",
      "Building stage problem with 365 days...\n",
      "zero load shedding allowed\n",
      "Usage-dependent generator lifetime model (relax_gain=2.0)\n",
      "Xann constraints with z_tan=Any[0.2, 0.28, 0.37, 0.5, 0.68, 1.0, 1.7, 4.0]\n",
      " 10.248239 seconds (1.65 M allocations: 117.648 MiB, 0.17% gc time)\n",
      "z=1/(T.log(1+i)):\n",
      "- z_gen = 2.163977377306504 (lifetime 9.471418014452203 y)\n",
      "- z_sto = 1.9178264512524377 (lifetime 10.687064150618514 y)\n"
     ]
    },
    {
     "data": {
      "text/plain": [
       "4×2 Matrix{Float64}:\n",
       " 0.249423  0.250284\n",
       " 0.249423  0.250284\n",
       " 0.249601  0.250268\n",
       " 0.250239  0.25026"
      ]
     },
     "execution_count": 29,
     "metadata": {},
     "output_type": "execute_result"
    }
   ],
   "source": [
    "xopt_tab_pwl = zeros(n_ztan, nxopt)\n",
    "lcoe_tab_pwl = zeros(n_ztan,2) # 1) model, 2) exact nonlinear cvx\n",
    "\n",
    "for i in 1:n_ztan\n",
    "    z_tan = z_tan_list[i]\n",
    "    println(\"Optimization with $(length(z_tan)) tangents\")\n",
    "    xopt, lcoe_opt, diagnostics, traj, model_data, mg_opt = optim_mg_jump(optimizer;\n",
    "        shed_max,\n",
    "        #ndays=50,\n",
    "        fixed_lifetimes=false,\n",
    "        relax_gain,\n",
    "        z_tan,\n",
    "        create_mg_base = create_mg_modified,\n",
    "        #model_custom\n",
    "    )\n",
    "    # recompute exact nonlinear cvx (but still smoothed/relaxed) cost (FAILS if ndays<365!)\n",
    "    _, stats, costs = simulate_alg(mg_opt, model_data,\n",
    "                                   Smoothing(transition=1.0, gain=relax_gain))\n",
    "    # store results\n",
    "    xopt_tab_pwl[i,:] = xopt'\n",
    "    lcoe_tab_pwl[i,1] = lcoe_opt\n",
    "    lcoe_tab_pwl[i,2] = costs.lcoe\n",
    "\n",
    "    # Compute z variables to understand the relation with z_tan\n",
    "    log1pi = log(1+mg_base.project.discount_rate)\n",
    "    Tgen_hlin = diagnostics.generator.lifetime_hlin\n",
    "    z_gen = 1/Tgen_hlin/log1pi\n",
    "    T_sto_cycles = diagnostics.storage.lifetime_cycles\n",
    "    z_sto = 1/T_sto_cycles/log1pi\n",
    "    \n",
    "    println(\"z=1/(T.log(1+i)):\")\n",
    "    println(\"- z_gen = $z_gen (lifetime $Tgen_hlin y)\")\n",
    "    println(\"- z_sto = $z_sto (lifetime $T_sto_cycles y)\")\n",
    "end\n",
    "\n",
    "lcoe_tab_pwl"
   ]
  },
  {
   "cell_type": "code",
   "execution_count": 30,
   "id": "9ab4f06a-a622-46f7-9298-6cfc386ee5b9",
   "metadata": {},
   "outputs": [
    {
     "data": {
      "text/plain": [
       "4×4 Matrix{Float64}:\n",
       " 1246.01  6231.3   2371.4   1594.56\n",
       " 1246.01  6231.3   2371.4   1594.56\n",
       " 1254.02  5899.52  2368.49  1588.12\n",
       " 1255.46  5837.33  2329.52  1596.12"
      ]
     },
     "execution_count": 30,
     "metadata": {},
     "output_type": "execute_result"
    }
   ],
   "source": [
    "xopt_tab_pwl"
   ]
  },
  {
   "cell_type": "markdown",
   "id": "b888ba69-0725-448b-bf17-45e2b713d2e6",
   "metadata": {},
   "source": [
    "Plot effect of nb of tangent on both LCOE. When ntan grows:\n",
    "- model (pwl approx) LCOE increases\n",
    "- but actual LCOE slighly decrease (since it's better approximated)!"
   ]
  },
  {
   "cell_type": "code",
   "execution_count": 31,
   "id": "e7f3d8a5-a418-4fcf-a5b1-361d31af7b10",
   "metadata": {},
   "outputs": [
    {
     "data": {
      "image/png": "[encoded data removed]",
      "text/plain": [
       "Figure(PyObject <Figure size 450x300 with 1 Axes>)"
      ]
     },
     "metadata": {},
     "output_type": "display_data"
    }
   ],
   "source": [
    "fig, ax = subplots(figsize=(4.5,3))\n",
    "l = ax.plot([length(z_tan)+2 for z_tan in z_tan_list],\n",
    "        lcoe_tab_pwl*1000 .- 250, \"D:\")\n",
    "ax.grid(true)\n",
    "ax.set(\n",
    "    xlabel = \"nb tangents for PWL cost approx.\",\n",
    "    ylabel = \"LCOE − 250 €/MWh\"\n",
    ")\n",
    "ax.legend((\"PWL LCOE\", \"NL LCOE\"))\n",
    "fig.tight_layout();"
   ]
  },
  {
   "cell_type": "markdown",
   "id": "97e62bb1-cfb1-4926-ab0a-0596e22a5a40",
   "metadata": {},
   "source": [
    "Store tangent number variants params in global experiment DataFrame `df_params`"
   ]
  },
  {
   "cell_type": "code",
   "execution_count": 33,
   "id": "043d3e6a-e9a7-4869-b1b3-dd5953726f94",
   "metadata": {},
   "outputs": [
    {
     "data": {
      "text/html": [
       "<div><div style = \"float: left;\"><span>3×9 DataFrame</span></div><div style = \"clear: both;\"></div></div><div class = \"data-frame\" style = \"overflow-x: scroll;\"><table class = \"data-frame\" style = \"margin-bottom: 6px;\"><thead><tr class = \"header\"><th class = \"rowNumber\" style = \"font-weight: bold; text-align: right;\">Row</th><th style = \"text-align: left;\">case</th><th style = \"text-align: left;\">shed_max</th><th style = \"text-align: left;\">fuel_price</th><th style = \"text-align: left;\">sto_lifetime_cycles</th><th style = \"text-align: left;\">sto_lifetime_calendar</th><th style = \"text-align: left;\">fixed_lifetimes</th><th style = \"text-align: left;\">gen_hours_assum</th><th style = \"text-align: left;\">n_ztan</th><th style = \"text-align: left;\">relax_gain</th></tr><tr class = \"subheader headerLastRow\"><th class = \"rowNumber\" style = \"font-weight: bold; text-align: right;\"></th><th title = \"String\" style = \"text-align: left;\">String</th><th title = \"Float64\" style = \"text-align: left;\">Float64</th><th title = \"Float64\" style = \"text-align: left;\">Float64</th><th title = \"Float64\" style = \"text-align: left;\">Float64</th><th title = \"Float64\" style = \"text-align: left;\">Float64</th><th title = \"Bool\" style = \"text-align: left;\">Bool</th><th title = \"Float64\" style = \"text-align: left;\">Float64</th><th title = \"Int64\" style = \"text-align: left;\">Int64</th><th title = \"Float64\" style = \"text-align: left;\">Float64</th></tr></thead><tbody><tr><td class = \"rowNumber\" style = \"font-weight: bold; text-align: right;\">1</td><td style = \"text-align: left;\">Less tangents, n_ztan=2</td><td style = \"text-align: right;\">0.0</td><td style = \"text-align: right;\">2.0</td><td style = \"text-align: right;\">1500.0</td><td style = \"text-align: right;\">15.0</td><td style = \"text-align: right;\">false</td><td style = \"text-align: right;\">NaN</td><td style = \"text-align: right;\">2</td><td style = \"text-align: right;\">2.0</td></tr><tr><td class = \"rowNumber\" style = \"font-weight: bold; text-align: right;\">2</td><td style = \"text-align: left;\">Less tangents, n_ztan=3</td><td style = \"text-align: right;\">0.0</td><td style = \"text-align: right;\">2.0</td><td style = \"text-align: right;\">1500.0</td><td style = \"text-align: right;\">15.0</td><td style = \"text-align: right;\">false</td><td style = \"text-align: right;\">NaN</td><td style = \"text-align: right;\">3</td><td style = \"text-align: right;\">2.0</td></tr><tr><td class = \"rowNumber\" style = \"font-weight: bold; text-align: right;\">3</td><td style = \"text-align: left;\">Less tangents, n_ztan=5</td><td style = \"text-align: right;\">0.0</td><td style = \"text-align: right;\">2.0</td><td style = \"text-align: right;\">1500.0</td><td style = \"text-align: right;\">15.0</td><td style = \"text-align: right;\">false</td><td style = \"text-align: right;\">NaN</td><td style = \"text-align: right;\">5</td><td style = \"text-align: right;\">2.0</td></tr></tbody></table></div>"
      ],
      "text/latex": [
       "\\begin{tabular}{r|cccccc}\n",
       "\t& case & shed\\_max & fuel\\_price & sto\\_lifetime\\_cycles & sto\\_lifetime\\_calendar & \\\\\n",
       "\t\\hline\n",
       "\t& String & Float64 & Float64 & Float64 & Float64 & \\\\\n",
       "\t\\hline\n",
       "\t1 & Less tangents, n\\_ztan=2 & 0.0 & 2.0 & 1500.0 & 15.0 & $\\dots$ \\\\\n",
       "\t2 & Less tangents, n\\_ztan=3 & 0.0 & 2.0 & 1500.0 & 15.0 & $\\dots$ \\\\\n",
       "\t3 & Less tangents, n\\_ztan=5 & 0.0 & 2.0 & 1500.0 & 15.0 & $\\dots$ \\\\\n",
       "\\end{tabular}\n"
      ],
      "text/plain": [
       "\u001b[1m3×9 DataFrame\u001b[0m\n",
       "\u001b[1m Row \u001b[0m│\u001b[1m case                    \u001b[0m\u001b[1m shed_max \u001b[0m\u001b[1m fuel_price \u001b[0m\u001b[1m sto_lifetime_cycles \u001b[0m\u001b[1m sto\u001b[0m ⋯\n",
       "     │\u001b[90m String                  \u001b[0m\u001b[90m Float64  \u001b[0m\u001b[90m Float64    \u001b[0m\u001b[90m Float64             \u001b[0m\u001b[90m Flo\u001b[0m ⋯\n",
       "─────┼──────────────────────────────────────────────────────────────────────────\n",
       "   1 │ Less tangents, n_ztan=2       0.0         2.0               1500.0      ⋯\n",
       "   2 │ Less tangents, n_ztan=3       0.0         2.0               1500.0\n",
       "   3 │ Less tangents, n_ztan=5       0.0         2.0               1500.0\n",
       "\u001b[36m                                                               5 columns omitted\u001b[0m"
      ]
     },
     "execution_count": 33,
     "metadata": {},
     "output_type": "execute_result"
    }
   ],
   "source": [
    "p = (;\n",
    "    case=\"Less tangents\",\n",
    "    shed_max,\n",
    "    fuel_price=mgopt_base.generator.fuel_price,\n",
    "    sto_lifetime_cycles=mgopt_base.storage.lifetime_cycles,\n",
    "    sto_lifetime_calendar=mgopt_base.storage.lifetime_calendar,\n",
    "    fixed_lifetimes=false, gen_hours_assum=NaN,\n",
    "    n_ztan=-1, relax_gain,\n",
    "    usage_penal=0, # no usage penalty\n",
    "    )\n",
    "for n_ztan in [2,3,5]\n",
    "    push!(df_params, p)\n",
    "    df_params[end,\"case\"] = \"Less tangents, n_ztan=$n_ztan\"\n",
    "    df_params[end,\"n_ztan\"] = n_ztan\n",
    "end\n",
    "df_params[end-2:end,:]"
   ]
  },
  {
   "cell_type": "markdown",
   "id": "dca4a007-b033-4191-9ff4-17704d013a76",
   "metadata": {},
   "source": [
    "### Iterative approach to set relax_gain\n",
    "\n",
    "The goal is to adjust the operating hours relaxation gain so as to imitate the true operating hours.\n",
    "\n",
    "We have the true number of operating hours\n",
    "\n",
    "$$ h_{oper} = \\sum_k (P(k)>0) \\Delta_t = \\lVert P \\rVert_0 . \\Delta_t$$\n",
    "\n",
    "and the linearized number of operating hours:\n",
    "\n",
    "$$ \\tilde{h}_{oper} =  \\frac{\\alpha}{P^{rated}} \\sum_k P(k) \\Delta_t \n",
    "                   = \\alpha \\frac{\\lVert P \\rVert_1 }{P^{rated}} \\Delta_t$$\n",
    "\n",
    "\n",
    "therefore, the true value for $\\alpha$ to get the equaliy $ h_{oper} = \\tilde{h}_{oper}$ is:\n",
    "\n",
    "$$ \\alpha = \\frac{ \\lVert P \\rVert_0.P^{rated} }{ \\lVert P \\rVert_1  } $$\n",
    "\n",
    "which can be interpreted as the inverse capacity factor when the generator is on. It is of course not possible to know this gain value beforehand. However, we use the a posteriori results one optimization run to set the gain for the next one, which yield the following update:\n",
    "\n",
    "$$ \\alpha^{(i+1)} =  \\alpha^{(i)}  \\frac{ h_{oper}^{(i)} }{ \\tilde{h}_{oper}^{(i)} } $$\n",
    "\n",
    "Put another way, with get that $\\tilde{h}_{oper}^{(i+1)} = \\alpha^{(i+1)}\\frac{\\lVert P \\rVert_1^{(i+1)} }{P^{rated}} \\Delta_t $ is in fact:\n",
    "\n",
    "$$ \\tilde{h}_{oper}^{(i+1)} = \\frac{ \\lVert P \\rVert_0^{(i)} }{ \\lVert P \\rVert_1^{(i)} } \\lVert P \\rVert_1^{(i+1)} $$\n",
    "\n",
    "and with some optional smoothing $\\theta \\in [0,1[$, the relaxation gain update can become:\n",
    "\n",
    "$$ \\alpha^{(i+1)} =  \\theta \\alpha^{(i)} + (1-\\theta) \\alpha^{(i)}  \\frac{ h_{oper}^{(i)} }{ \\tilde{h}_{oper}^{(i)} } $$\n",
    "\n"
   ]
  },
  {
   "cell_type": "code",
   "execution_count": 34,
   "id": "277452c7-5c8f-4e45-a091-d09b1b23b2b6",
   "metadata": {},
   "outputs": [
    {
     "data": {
      "text/plain": [
       "optim_mg_iter_relgain"
      ]
     },
     "execution_count": 34,
     "metadata": {},
     "output_type": "execute_result"
    }
   ],
   "source": [
    "\"\"\"Optimize sizing of microgrid using JuMP: iteration `relax_gain`\n",
    "\n",
    "and extract results\n",
    "\n",
    "# Parameters\n",
    "- same as `optim_mg_jump`, except that\n",
    "- `fixed_lifetimes=false` is assumed, so `gen_hours_assum` is not needed\n",
    "- `relax_gain_start` replaces `relax_gain`\n",
    "- `relax_gain_smoothing` in [0, 1[ sets how slow relax_gain is updated. 0=no smoothing\n",
    "- `n_iter`: number of iterations (default 6)\n",
    "\n",
    "Returns:\n",
    "xopt_tab, lcoe_tab, rgain_tab, diagnostics, traj, model_data\n",
    "\n",
    "(the last ones are from the last iteration)\n",
    "\"\"\"\n",
    "function optim_mg_iter_relgain(optimizer;\n",
    "        shed_max=0.0,\n",
    "        ndays=365,\n",
    "        relax_gain_start = 1.0,\n",
    "        relax_gain_smoothing = 0.0,\n",
    "        n_iter=6,\n",
    "        z_tan = [0.20, 0.28, 0.37, 0.50, 0.68, 1.0, 1.7, 4.0],\n",
    "        create_mg_base=create_mg_base,\n",
    "        model_custom=nothing,\n",
    "    )\n",
    "\n",
    "    xopt_tab = zeros(0, nxopt)\n",
    "    lcoe_tab = zeros(0,3)  # 1) model, 2) exact nonlinear cvx, 3) exact nonsmooth\n",
    "    rgain_tab = zeros(n_iter,1)\n",
    "    relax_gain = relax_gain_start # init\n",
    "    local diagnostics, traj, model_data\n",
    "    \n",
    "    for i in 1:n_iter\n",
    "        println(\"relax_gain iteration $i: $relax_gain\")\n",
    "        rgain_tab[i] = relax_gain # store relax_gain\n",
    "        xopt, lcoe_opt, diagnostics, traj, model_data, mg_opt = optim_mg_jump(optimizer;\n",
    "            shed_max, ndays,\n",
    "            fixed_lifetimes=false,\n",
    "            relax_gain,\n",
    "            z_tan,\n",
    "            create_mg_base,\n",
    "            model_custom\n",
    "        )\n",
    "        # recompute exact costs (FAILS if ndays<365!)\n",
    "        _, stats, costs_cvx = simulate_alg(mg_opt, model_data,\n",
    "                                           Smoothing(transition=1.0, gain=relax_gain))\n",
    "        _, stats, costs_ns  = simulate_alg(mg_opt, model_data,\n",
    "                                           NoSmoothing)\n",
    "        \n",
    "        # store results\n",
    "        xopt_tab = [xopt_tab; xopt']\n",
    "        lcoe_tab = [lcoe_tab;\n",
    "                    lcoe_opt costs_cvx.lcoe costs_ns.lcoe]\n",
    "        \n",
    "        # correct next gain\n",
    "        print(\"  hours/hours_lin: \")\n",
    "        println(diagnostics.generator.hours / diagnostics.generator.hours_lin)\n",
    "        relax_gain_target = relax_gain*diagnostics.generator.hours / diagnostics.generator.hours_lin\n",
    "        relax_gain = relax_gain_smoothing*relax_gain + \n",
    "                     (1-relax_gain_smoothing)*relax_gain_target\n",
    "    end\n",
    "    \n",
    "    return xopt_tab, lcoe_tab, rgain_tab, diagnostics, traj, model_data\n",
    "end"
   ]
  },
  {
   "cell_type": "code",
   "execution_count": 35,
   "id": "f4937d8b-c3d9-4310-9c53-f4d8655dd30d",
   "metadata": {},
   "outputs": [
    {
     "name": "stdout",
     "output_type": "stream",
     "text": [
      "relax_gain iteration 1: 1.0\n",
      "Building stage problem with 365 days...\n",
      "zero load shedding allowed\n",
      "Usage-dependent generator lifetime model (relax_gain=1.0)\n",
      "Xann constraints with z_tan=[0.2, 0.28, 0.37, 0.5, 0.68, 1.0, 1.7, 4.0]\n",
      " 10.950931 seconds (1.65 M allocations: 117.649 MiB, 2.90% gc time, 0.03% compilation time)\n",
      "  hours/hours_lin: 2.285082091467946\n",
      "relax_gain iteration 2: 2.285082091467946\n",
      "Building stage problem with 365 days...\n",
      "zero load shedding allowed\n",
      "Usage-dependent generator lifetime model (relax_gain=2.285082091467946)\n",
      "Xann constraints with z_tan=[0.2, 0.28, 0.37, 0.5, 0.68, 1.0, 1.7, 4.0]\n",
      "  9.460538 seconds (1.65 M allocations: 117.648 MiB, 0.33% gc time)\n",
      "  hours/hours_lin: 0.9899655505490673\n",
      "relax_gain iteration 3: 2.2621525507298794\n",
      "Building stage problem with 365 days...\n",
      "zero load shedding allowed\n",
      "Usage-dependent generator lifetime model (relax_gain=2.2621525507298794)\n",
      "Xann constraints with z_tan=[0.2, 0.28, 0.37, 0.5, 0.68, 1.0, 1.7, 4.0]\n",
      "  9.964115 seconds (1.65 M allocations: 117.648 MiB, 0.47% gc time)\n",
      "  hours/hours_lin: 1.001694021334214\n",
      "relax_gain iteration 4: 2.2659846854120627\n",
      "Building stage problem with 365 days...\n",
      "zero load shedding allowed\n",
      "Usage-dependent generator lifetime model (relax_gain=2.2659846854120627)\n",
      "Xann constraints with z_tan=[0.2, 0.28, 0.37, 0.5, 0.68, 1.0, 1.7, 4.0]\n",
      " 10.306729 seconds (1.65 M allocations: 117.648 MiB, 3.67% gc time)\n",
      "  hours/hours_lin: 1.0\n",
      "relax_gain iteration 5: 2.2659846854120627\n",
      "Building stage problem with 365 days...\n",
      "zero load shedding allowed\n",
      "Usage-dependent generator lifetime model (relax_gain=2.2659846854120627)\n",
      "Xann constraints with z_tan=[0.2, 0.28, 0.37, 0.5, 0.68, 1.0, 1.7, 4.0]\n",
      " 10.114161 seconds (1.65 M allocations: 117.648 MiB, 0.41% gc time)\n",
      "  hours/hours_lin: 1.0\n",
      "relax_gain iteration 6: 2.2659846854120627\n",
      "Building stage problem with 365 days...\n",
      "zero load shedding allowed\n",
      "Usage-dependent generator lifetime model (relax_gain=2.2659846854120627)\n",
      "Xann constraints with z_tan=[0.2, 0.28, 0.37, 0.5, 0.68, 1.0, 1.7, 4.0]\n",
      " 11.130921 seconds (1.65 M allocations: 117.648 MiB, 0.31% gc time)\n",
      "  hours/hours_lin: 1.0\n"
     ]
    },
    {
     "data": {
      "text/plain": [
       "6×3 Matrix{Float64}:\n",
       " 0.243024  0.243056  0.252907\n",
       " 0.252147  0.252175  0.252022\n",
       " 0.251994  0.252022  0.252048\n",
       " 0.252019  0.252048  0.252048\n",
       " 0.252019  0.252048  0.252048\n",
       " 0.252019  0.252048  0.252048"
      ]
     },
     "execution_count": 35,
     "metadata": {},
     "output_type": "execute_result"
    }
   ],
   "source": [
    "xopt_tab_rgain, lcoe_tab_rgain, rgain_tab, diagnostics, traj, model_data =  optim_mg_iter_relgain(optimizer;\n",
    "    shed_max,\n",
    "    #ndays=20,\n",
    "    relax_gain_start = 1.0,\n",
    "    n_iter=6,\n",
    "    #z_tan=[0.20, 0.28, 0.37, 0.50, 0.68, 1.0, 1.7, 4.0],\n",
    "    create_mg_base=create_mg_modified,\n",
    "    #model_custom=nothing\n",
    ")\n",
    "lcoe_tab_rgain"
   ]
  },
  {
   "cell_type": "markdown",
   "id": "5ee0fe7c-110d-4ef2-9811-28af35db7ba8",
   "metadata": {},
   "source": [
    "observation: at the second iteration, we get in fact a exact non smooth cost which is lower. This means the iteration is locked in a local minimum!"
   ]
  },
  {
   "cell_type": "code",
   "execution_count": 36,
   "id": "bf1d767c-6218-4ef4-8b78-9a72dc74132c",
   "metadata": {},
   "outputs": [
    {
     "data": {
      "text/plain": [
       "6×4 Matrix{Float64}:\n",
       " 1215.98  4987.93  2132.0   1575.9\n",
       " 1249.59  6072.31  2384.13  1605.97\n",
       " 1250.18  6046.1   2378.02  1608.66\n",
       " 1250.18  6046.1   2378.02  1608.66\n",
       " 1250.18  6046.1   2378.02  1608.66\n",
       " 1250.18  6046.1   2378.02  1608.66"
      ]
     },
     "execution_count": 36,
     "metadata": {},
     "output_type": "execute_result"
    }
   ],
   "source": [
    "xopt_tab_rgain"
   ]
  },
  {
   "cell_type": "markdown",
   "id": "156185ee-cd64-4d4e-ad12-4b88fd0ab1dc",
   "metadata": {},
   "source": [
    "Plot the convergence with relax_gain tuning:"
   ]
  },
  {
   "cell_type": "code",
   "execution_count": 37,
   "id": "1d983281-0908-4f94-9b3f-ea73e72a472b",
   "metadata": {},
   "outputs": [
    {
     "data": {
      "image/png": "[encoded data removed]",
      "text/plain": [
       "Figure(PyObject <Figure size 700x400 with 3 Axes>)"
      ]
     },
     "metadata": {},
     "output_type": "display_data"
    }
   ],
   "source": [
    "fig, ax = subplots(3,1, figsize=(7,4), sharex=true)\n",
    "\n",
    "n_iter = length(rgain_tab)\n",
    "\n",
    "ax[1].plot(1:n_iter, lcoe_tab_rgain*1000, \"d-\", label=\"LCOE\")\n",
    "ax[1].set_ylim(251, 253) # 365 days\n",
    "ax[1].set_ylim(251.8, 252.2)\n",
    "\n",
    "\n",
    "ax[2].plot(1:n_iter, xopt_tab_rgain[:,1], \"d-\", label=\"Pgen rated\")\n",
    "#ax[2].set_ylim(630, 670)\n",
    "\n",
    "#ax[3].plot(2:n_iter, rgain_tab[2:end]./rgain_tab[1:end-1] .- 1,\n",
    "#           \"d-\", label=\"relax_gain change\")\n",
    "#ax[3].set_ylim(-12e-3, +12e-3)\n",
    "ax[3].plot(1:n_iter, rgain_tab,\n",
    "           \"d-\", label=\"relax_gain\")\n",
    "ax[3].set_ylim(0.9, 2.4)\n",
    "\n",
    "for axi in ax\n",
    "    axi.grid(true)\n",
    "    axi.legend()\n",
    "end"
   ]
  },
  {
   "cell_type": "markdown",
   "id": "a3d8875c-642f-4617-b1ba-6566110e239c",
   "metadata": {},
   "source": [
    "Store case with last relaxation gain"
   ]
  },
  {
   "cell_type": "code",
   "execution_count": 38,
   "id": "889ea47c-15a5-4349-a42e-2f8b74a74710",
   "metadata": {},
   "outputs": [
    {
     "data": {
      "text/plain": [
       "2.2659846854120627"
      ]
     },
     "execution_count": 38,
     "metadata": {},
     "output_type": "execute_result"
    }
   ],
   "source": [
    "rgain_tab[end]"
   ]
  },
  {
   "cell_type": "code",
   "execution_count": 39,
   "id": "2307f689-212b-4150-9704-70805aace4c3",
   "metadata": {},
   "outputs": [
    {
     "data": {
      "text/html": [
       "<div><div style = \"float: left;\"><span>DataFrameRow (9 columns)</span></div><div style = \"clear: both;\"></div></div><div class = \"data-frame\" style = \"overflow-x: scroll;\"><table class = \"data-frame\" style = \"margin-bottom: 6px;\"><thead><tr class = \"header\"><th class = \"rowLabel\" style = \"font-weight: bold; text-align: right;\">Row</th><th style = \"text-align: left;\">case</th><th style = \"text-align: left;\">shed_max</th><th style = \"text-align: left;\">fuel_price</th><th style = \"text-align: left;\">sto_lifetime_cycles</th><th style = \"text-align: left;\">sto_lifetime_calendar</th><th style = \"text-align: left;\">fixed_lifetimes</th><th style = \"text-align: left;\">gen_hours_assum</th><th style = \"text-align: left;\">n_ztan</th><th style = \"text-align: left;\">relax_gain</th></tr><tr class = \"subheader headerLastRow\"><th class = \"rowLabel\" style = \"font-weight: bold; text-align: right;\"></th><th title = \"String\" style = \"text-align: left;\">String</th><th title = \"Float64\" style = \"text-align: left;\">Float64</th><th title = \"Float64\" style = \"text-align: left;\">Float64</th><th title = \"Float64\" style = \"text-align: left;\">Float64</th><th title = \"Float64\" style = \"text-align: left;\">Float64</th><th title = \"Bool\" style = \"text-align: left;\">Bool</th><th title = \"Float64\" style = \"text-align: left;\">Float64</th><th title = \"Int64\" style = \"text-align: left;\">Int64</th><th title = \"Float64\" style = \"text-align: left;\">Float64</th></tr></thead><tbody><tr><td class = \"rowLabel\" style = \"font-weight: bold; text-align: right;\">6</td><td style = \"text-align: left;\">Relax gain convergence</td><td style = \"text-align: right;\">0.0</td><td style = \"text-align: right;\">2.0</td><td style = \"text-align: right;\">1500.0</td><td style = \"text-align: right;\">15.0</td><td style = \"text-align: right;\">false</td><td style = \"text-align: right;\">NaN</td><td style = \"text-align: right;\">10</td><td style = \"text-align: right;\">2.26598</td></tr></tbody></table></div>"
      ],
      "text/latex": [
       "\\begin{tabular}{r|cccccc}\n",
       "\t& case & shed\\_max & fuel\\_price & sto\\_lifetime\\_cycles & sto\\_lifetime\\_calendar & \\\\\n",
       "\t\\hline\n",
       "\t& String & Float64 & Float64 & Float64 & Float64 & \\\\\n",
       "\t\\hline\n",
       "\t6 & Relax gain convergence & 0.0 & 2.0 & 1500.0 & 15.0 & $\\dots$ \\\\\n",
       "\\end{tabular}\n"
      ],
      "text/plain": [
       "\u001b[1mDataFrameRow\u001b[0m\n",
       "\u001b[1m Row \u001b[0m│\u001b[1m case                   \u001b[0m\u001b[1m shed_max \u001b[0m\u001b[1m fuel_price \u001b[0m\u001b[1m sto_lifetime_cycles \u001b[0m\u001b[1m sto_\u001b[0m ⋯\n",
       "     │\u001b[90m String                 \u001b[0m\u001b[90m Float64  \u001b[0m\u001b[90m Float64    \u001b[0m\u001b[90m Float64             \u001b[0m\u001b[90m Floa\u001b[0m ⋯\n",
       "─────┼──────────────────────────────────────────────────────────────────────────\n",
       "   6 │ Relax gain convergence       0.0         2.0               1500.0       ⋯\n",
       "\u001b[36m                                                               5 columns omitted\u001b[0m"
      ]
     },
     "execution_count": 39,
     "metadata": {},
     "output_type": "execute_result"
    }
   ],
   "source": [
    "p = (;\n",
    "    case=\"Relax gain convergence\",\n",
    "    shed_max,\n",
    "    fuel_price=mgopt_base.generator.fuel_price,\n",
    "    sto_lifetime_cycles=mgopt_base.storage.lifetime_cycles,\n",
    "    sto_lifetime_calendar=mgopt_base.storage.lifetime_calendar,\n",
    "    fixed_lifetimes=false, gen_hours_assum=NaN,\n",
    "    n_ztan=10, relax_gain=rgain_tab[end],\n",
    "    usage_penal=0, # no usage penalty\n",
    "    )\n",
    "push!(df_params, p)   \n",
    "df_params[end,:]"
   ]
  },
  {
   "cell_type": "markdown",
   "id": "20412091-e644-4690-aab1-ddb605553ae5",
   "metadata": {},
   "source": [
    "## Fixed lifetime approach\n",
    "\n",
    "Fixed lifetime variants:\n",
    "- “Round and reasonable” estimates:\n",
    "    - 2000 h/y for generator\n",
    "    - 10 years calendar lifetime for storage\n",
    "- ”Matching baseline” (baseline being relax_gain=2):\n",
    "    - 1809 h/y for generator\n",
    "    - 10.687 years calendar lifetime for storage\n",
    "- “15 years storage”, i.e. too optimistic lifetime:\n",
    "    - 2000 h/y for generator\n",
    "    - 15 years calendar lifetime for storage\n",
    "\n",
    "\n",
    "**Optimization time** is reduced by about 55% to ~5s"
   ]
  },
  {
   "cell_type": "code",
   "execution_count": 40,
   "id": "8624acbb-5b14-48f2-99f2-08395b4531e3",
   "metadata": {},
   "outputs": [
    {
     "name": "stdout",
     "output_type": "stream",
     "text": [
      "mg lifetime modification: cal=10 y, cyc unchanged\n",
      "Building stage problem with 365 days...\n",
      "zero load shedding allowed\n",
      "Fixed generator lifetime hypothesis: 7.5 y, assuming 2000.0  h/y of usage\n",
      "  4.676179 seconds (1.64 M allocations: 115.996 MiB, 8.15% gc time)\n",
      "LCOE: 248.752130296 €/MWh (wrong)"
     ]
    }
   ],
   "source": [
    "# Change storage calendar lifetime\n",
    "create_mg_modified_stocal = modify_mg_lifetimes(cal=10) ∘ create_mg_modified\n",
    "\n",
    "x_fxlt, lcoe_fxlt, diag_fxlt, traj_fxlt, md_fxlt, mg_fxlt = optim_mg_jump(optimizer;\n",
    "    shed_max,\n",
    "    fixed_lifetimes = true,\n",
    "    gen_hours_assum = 2000.,\n",
    "    relax_gain,\n",
    "    create_mg_base = create_mg_modified_stocal,\n",
    ")\n",
    "@printf(\"LCOE: %.9f €/MWh (wrong)\", lcoe_fxlt*1000)"
   ]
  },
  {
   "cell_type": "markdown",
   "id": "9c64d744-9d9e-4ece-a6b6-6acb0054f88d",
   "metadata": {},
   "source": [
    "Comparison with exact cost (only nonsmooth cost makes sense here):"
   ]
  },
  {
   "cell_type": "code",
   "execution_count": 42,
   "id": "fb138e01-5ae0-43a9-a050-845b9de98f70",
   "metadata": {},
   "outputs": [
    {
     "data": {
      "text/plain": [
       "(0.25619548748296184, 0.2487521302962008, -0.029053428145396354)"
      ]
     },
     "execution_count": 42,
     "metadata": {},
     "output_type": "execute_result"
    }
   ],
   "source": [
    "_, stats_fxlt, costs_fxlt_ns  = simulate_alg(mg_fxlt, md_fxlt, NoSmoothing)\n",
    "costs_fxlt_ns.lcoe, lcoe_fxlt, lcoe_fxlt/costs_fxlt_ns.lcoe-1"
   ]
  },
  {
   "cell_type": "markdown",
   "id": "4120155c-9f30-426f-9d50-44be9f24b76a",
   "metadata": {},
   "source": [
    "Sizing with fixed lifetime vs base sizing"
   ]
  },
  {
   "cell_type": "code",
   "execution_count": 43,
   "id": "5743bf92-632e-4dd7-b6f1-950c569cf1da",
   "metadata": {},
   "outputs": [
    {
     "data": {
      "text/plain": [
       "4×2 Matrix{Float64}:\n",
       " 1186.4  1255.5\n",
       " 3495.2  5837.3\n",
       " 2198.2  2329.5\n",
       " 1484.5  1596.1"
      ]
     },
     "execution_count": 43,
     "metadata": {},
     "output_type": "execute_result"
    }
   ],
   "source": [
    "round.([x_fxlt xopt_base]; digits=1) # optimal sizing"
   ]
  },
  {
   "cell_type": "markdown",
   "id": "45983a3a-301f-46d9-9620-bf4fd9d954b4",
   "metadata": {},
   "source": [
    "### Analyses\n",
    "\n",
    "For “Round and reasonable” estimates (2000 h/y gen, 10 y sto):\n",
    "- LCOE:\n",
    "    - 256.195 €/MWh (exact nonsmooth)\n",
    "    - 248.752 €/MWh (model) → 2.9% cost underestimation\n",
    "- Gen ends up at 2495 h/y (+25% to assumption). 1186.4 kW\n",
    "- Sto ends up at 8.44 y (-16% to assumption). 3495.2 kWh\n",
    "\n",
    "For ”Matching baseline” (1809 h/y gen, 10.687 y sto)\n",
    "- LCOE:\n",
    "    - 255.241 €/MWh (exact nonsmooth)\n",
    "    - 245.989 €/MWh (model) → -3.6% cost underestimation\n",
    "- Gen ends up at 2403 h/y (+33% to assumption). 1169.7 kW\n",
    "- Sto ends up at 8.63 y (-19% to assumption). 3823.3 kWh\n",
    "- → Ccl: matching the `relax_gain = 2` baseline is a **failure** (no self consistency)\n",
    "\n",
    "For “Too optimistic” 15 years lifetime storage assumption, i.e. too optimistic (2000 h/y gen, 15 y sto):\n",
    "- LCOE:\n",
    "    - 253.072 €/MWh (exact nonsmooth)\n",
    "    - 241.537 €/MWh (model) → -4.6% cost underestimation\n",
    "- Gen ends up at 2060 h/y (+3%, i.e. quite close to assumption). 1128.9 kW\n",
    "- Sto ends up at 9.01 y (**-40%** to assumption). 4840.5 kWh\n",
    "- *Remark: result is quite similar with 3000 h/y gen assumption (→ actual hours at 2021 h/y)*\n",
    "- Oddly enough, starting from a worse lifetime assumption, we get a better exact LCOE!"
   ]
  },
  {
   "cell_type": "code",
   "execution_count": 44,
   "id": "f3195a0e-3b71-4029-a460-2a2e65279ab0",
   "metadata": {},
   "outputs": [
    {
     "name": "stdout",
     "output_type": "stream",
     "text": [
      "Generator diagnostics:\n",
      "- cost_share: 0.44128149872185646\n",
      "- cost_share_fuel: 0.36717969527686845\n",
      "- energy: 1.2891759107806042e6\n",
      "- load_share: 0.19028485708673107\n",
      "- hours: 2495.0\n",
      "- hours_lin: 2173.301254696729\n",
      "- lifetime: 6.012024048096192\n",
      "- lifetime_hlin: 6.901942364218236\n",
      "- CRF: 0.19667830314269383\n",
      "- CRF_hlin: 0.17487993325252757\n",
      "- CRF_hlin_pwl: 0.16316086288079687\n",
      "\n",
      "Storage diagnostics:\n",
      "- cost_share: 0.11474586817761262\n",
      "- energy_through: 1.2422988748374572e6\n",
      "- load_share: 0.09168285797177063\n",
      "- cycles: 177.71262006608205\n",
      "- lifetime_cycles: 8.440593579916992\n",
      "- lifetime: 8.440593579916992\n",
      "- CRF: 0.14812395040600537\n",
      "- CRF_pwl: 0.12950457496545661\n"
     ]
    }
   ],
   "source": [
    "pprint(diag_fxlt.generator, \"Generator diagnostics\")\n",
    "println()\n",
    "pprint(diag_fxlt.storage, \"Storage diagnostics\")"
   ]
  },
  {
   "cell_type": "markdown",
   "id": "e2e03110-741f-4ddf-8692-f3b46415f418",
   "metadata": {},
   "source": [
    "Store fixed lifetime variants in global experiment DataFrame `df_params`"
   ]
  },
  {
   "cell_type": "code",
   "execution_count": 45,
   "id": "02e4c356-4234-4845-8d21-d9b1d88f4a08",
   "metadata": {},
   "outputs": [
    {
     "data": {
      "text/html": [
       "<div><div style = \"float: left;\"><span>4×9 DataFrame</span></div><div style = \"clear: both;\"></div></div><div class = \"data-frame\" style = \"overflow-x: scroll;\"><table class = \"data-frame\" style = \"margin-bottom: 6px;\"><thead><tr class = \"header\"><th class = \"rowNumber\" style = \"font-weight: bold; text-align: right;\">Row</th><th style = \"text-align: left;\">case</th><th style = \"text-align: left;\">shed_max</th><th style = \"text-align: left;\">fuel_price</th><th style = \"text-align: left;\">sto_lifetime_cycles</th><th style = \"text-align: left;\">sto_lifetime_calendar</th><th style = \"text-align: left;\">fixed_lifetimes</th><th style = \"text-align: left;\">gen_hours_assum</th><th style = \"text-align: left;\">n_ztan</th><th style = \"text-align: left;\">relax_gain</th></tr><tr class = \"subheader headerLastRow\"><th class = \"rowNumber\" style = \"font-weight: bold; text-align: right;\"></th><th title = \"String\" style = \"text-align: left;\">String</th><th title = \"Float64\" style = \"text-align: left;\">Float64</th><th title = \"Float64\" style = \"text-align: left;\">Float64</th><th title = \"Float64\" style = \"text-align: left;\">Float64</th><th title = \"Float64\" style = \"text-align: left;\">Float64</th><th title = \"Bool\" style = \"text-align: left;\">Bool</th><th title = \"Float64\" style = \"text-align: left;\">Float64</th><th title = \"Int64\" style = \"text-align: left;\">Int64</th><th title = \"Float64\" style = \"text-align: left;\">Float64</th></tr></thead><tbody><tr><td class = \"rowNumber\" style = \"font-weight: bold; text-align: right;\">1</td><td style = \"text-align: left;\">Fixed lifetime, round &amp; reasonable</td><td style = \"text-align: right;\">0.0</td><td style = \"text-align: right;\">2.0</td><td style = \"text-align: right;\">1500.0</td><td style = \"text-align: right;\">10.0</td><td style = \"text-align: right;\">true</td><td style = \"text-align: right;\">2000.0</td><td style = \"text-align: right;\">0</td><td style = \"text-align: right;\">NaN</td></tr><tr><td class = \"rowNumber\" style = \"font-weight: bold; text-align: right;\">2</td><td style = \"text-align: left;\">Fixed lifetime, matching rgain=2</td><td style = \"text-align: right;\">0.0</td><td style = \"text-align: right;\">2.0</td><td style = \"text-align: right;\">1500.0</td><td style = \"text-align: right;\">10.687</td><td style = \"text-align: right;\">true</td><td style = \"text-align: right;\">1809.0</td><td style = \"text-align: right;\">0</td><td style = \"text-align: right;\">NaN</td></tr><tr><td class = \"rowNumber\" style = \"font-weight: bold; text-align: right;\">3</td><td style = \"text-align: left;\">Fixed lifetime, optimistic 15y</td><td style = \"text-align: right;\">0.0</td><td style = \"text-align: right;\">2.0</td><td style = \"text-align: right;\">1500.0</td><td style = \"text-align: right;\">15.0</td><td style = \"text-align: right;\">true</td><td style = \"text-align: right;\">2000.0</td><td style = \"text-align: right;\">0</td><td style = \"text-align: right;\">NaN</td></tr><tr><td class = \"rowNumber\" style = \"font-weight: bold; text-align: right;\">4</td><td style = \"text-align: left;\">Fixed lifetime, convergence</td><td style = \"text-align: right;\">0.0</td><td style = \"text-align: right;\">2.0</td><td style = \"text-align: right;\">1500.0</td><td style = \"text-align: right;\">7.877</td><td style = \"text-align: right;\">true</td><td style = \"text-align: right;\">2760.0</td><td style = \"text-align: right;\">0</td><td style = \"text-align: right;\">NaN</td></tr></tbody></table></div>"
      ],
      "text/latex": [
       "\\begin{tabular}{r|cccccc}\n",
       "\t& case & shed\\_max & fuel\\_price & sto\\_lifetime\\_cycles & sto\\_lifetime\\_calendar & \\\\\n",
       "\t\\hline\n",
       "\t& String & Float64 & Float64 & Float64 & Float64 & \\\\\n",
       "\t\\hline\n",
       "\t1 & Fixed lifetime, round \\& reasonable & 0.0 & 2.0 & 1500.0 & 10.0 & $\\dots$ \\\\\n",
       "\t2 & Fixed lifetime, matching rgain=2 & 0.0 & 2.0 & 1500.0 & 10.687 & $\\dots$ \\\\\n",
       "\t3 & Fixed lifetime, optimistic 15y & 0.0 & 2.0 & 1500.0 & 15.0 & $\\dots$ \\\\\n",
       "\t4 & Fixed lifetime, convergence & 0.0 & 2.0 & 1500.0 & 7.877 & $\\dots$ \\\\\n",
       "\\end{tabular}\n"
      ],
      "text/plain": [
       "\u001b[1m4×9 DataFrame\u001b[0m\n",
       "\u001b[1m Row \u001b[0m│\u001b[1m case                              \u001b[0m\u001b[1m shed_max \u001b[0m\u001b[1m fuel_price \u001b[0m\u001b[1m sto_lifetime_c\u001b[0m ⋯\n",
       "     │\u001b[90m String                            \u001b[0m\u001b[90m Float64  \u001b[0m\u001b[90m Float64    \u001b[0m\u001b[90m Float64       \u001b[0m ⋯\n",
       "─────┼──────────────────────────────────────────────────────────────────────────\n",
       "   1 │ Fixed lifetime, round & reasonab…       0.0         2.0               1 ⋯\n",
       "   2 │ Fixed lifetime, matching rgain=2        0.0         2.0               1\n",
       "   3 │ Fixed lifetime, optimistic 15y          0.0         2.0               1\n",
       "   4 │ Fixed lifetime, convergence             0.0         2.0               1\n",
       "\u001b[36m                                                               6 columns omitted\u001b[0m"
      ]
     },
     "execution_count": 45,
     "metadata": {},
     "output_type": "execute_result"
    }
   ],
   "source": [
    "fixed_lifetime_variants = [\n",
    "    (2000., 10.,    \"round & reasonable\"),\n",
    "    (1809., 10.687, \"matching rgain=2\"),\n",
    "    (2000., 15.,    \"optimistic 15y\"),\n",
    "    (2760.0, 7.877, \"convergence\") # see section below\n",
    "]\n",
    "p = (;\n",
    "    case=\"Fixed lifetime, \",\n",
    "    shed_max,\n",
    "    fuel_price=mgopt_base.generator.fuel_price,\n",
    "    sto_lifetime_cycles=mgopt_base.storage.lifetime_cycles,\n",
    "    sto_lifetime_calendar=NaN,\n",
    "    fixed_lifetimes=true, gen_hours_assum=NaN,\n",
    "    n_ztan=0, relax_gain=NaN, # ztan and relaxation are inactive\n",
    "    usage_penal=0, # no usage penalty\n",
    "    )\n",
    "for (gen_hours_assum, sto_lifetime_calendar, name) in fixed_lifetime_variants\n",
    "    push!(df_params, p)\n",
    "    df_params[end,\"case\"] *= name\n",
    "    df_params[end,\"gen_hours_assum\"] = gen_hours_assum\n",
    "    df_params[end,\"sto_lifetime_calendar\"] = sto_lifetime_calendar\n",
    "end\n",
    "df_params[end-3:end,:]"
   ]
  },
  {
   "cell_type": "markdown",
   "id": "3728f286-e6d6-4d20-b88b-f54c6d4c93c7",
   "metadata": {},
   "source": [
    "### Iterative lifetime adjustment"
   ]
  },
  {
   "cell_type": "markdown",
   "id": "a3ec2e13-d226-404c-87a8-5a306f3af355",
   "metadata": {},
   "source": [
    "- Starting from “Round and reasonable” estimates (2000 h/y gen, 10 y sto)\n",
    "- Starting from “too optimistic” estimates (2000 h/y gen, 15 y sto)\n",
    "    - same if starting from (**3000** h/y gen, 15 y sto)\n",
    "\n",
    "→ all three converge to 2760.0  h/y and 7.877 y sto in 6 iter or less.\n",
    "\n",
    "Final LCOE is **259.502 €/MWh**\n",
    "- perfect match between exact and model\n",
    "- but quite bad (all other LCOEs are about 252 - 253 €/MWh)"
   ]
  },
  {
   "cell_type": "code",
   "execution_count": 46,
   "id": "53e9b736-5746-4757-a507-5a5eef43826c",
   "metadata": {},
   "outputs": [
    {
     "data": {
      "text/plain": [
       "optim_mg_iter_lifetimes"
      ]
     },
     "execution_count": 46,
     "metadata": {},
     "output_type": "execute_result"
    }
   ],
   "source": [
    "\"\"\"Optimize sizing of microgrid using JuMP: iteration of assumed fixed lifetimes\n",
    "\n",
    "and extract results\n",
    "\n",
    "# Parameters\n",
    "- same as `optim_mg_jump`, except that\n",
    "- `fixed_lifetimes=true` is assumed, so `gen_hours_assum` is not needed\n",
    "- `gen_hours_assum_start` replaces `gen_hours_assum`\n",
    "- `lifetimes_smoothing` in [0, 1[ sets how slow lifetimes are updated. 0=no smoothing\n",
    "- `n_iter`: number of iterations (default 10)\n",
    "\n",
    "remark: initial sto_lifetime_calendar is taken from the base mg\n",
    "\n",
    "Returns:\n",
    "xopt_tab, lcoe_tab, gen_hours_assum_tab, sto_lifetime_calendar_tab,\n",
    "diagnostics, traj, model_data\n",
    "\n",
    "(the last ones are from the last iteration)\n",
    "\"\"\"\n",
    "function optim_mg_iter_lifetimes(optimizer;\n",
    "        shed_max=0.0,\n",
    "        ndays=365,\n",
    "        gen_hours_assum_start = 2000,\n",
    "        lifetimes_smoothing = 0.0,\n",
    "        n_iter=10,\n",
    "        create_mg_base=create_mg_base,\n",
    "        model_custom=nothing,\n",
    "    )\n",
    "\n",
    "    xopt_tab = zeros(0, nxopt)\n",
    "    lcoe_tab = zeros(0,2)  # 1) model, 2) exact nonsmooth (no cvx cost)\n",
    "    gen_hours_assum_tab = zeros(n_iter,1)\n",
    "    sto_lifetime_calendar_tab = zeros(n_iter,1)\n",
    "    # Init\n",
    "    gen_hours_assum = gen_hours_assum_start # init\n",
    "    create_mg_base_iter = create_mg_base\n",
    "    sto_lifetime_calendar = create_mg_base_iter().storage.lifetime_calendar\n",
    "    local diagnostics, traj, model_data\n",
    "    \n",
    "    for i in 1:n_iter\n",
    "        println(\"fixed lifetimes iteration $i: gen $gen_hours_assum h/y, sto $sto_lifetime_calendar y\")\n",
    "        # store lifetime parameters\n",
    "        gen_hours_assum_tab[i] = gen_hours_assum\n",
    "        sto_lifetime_calendar_tab[i] = sto_lifetime_calendar\n",
    "        xopt, lcoe_opt, diagnostics, traj, model_data, mg_opt = optim_mg_jump(optimizer;\n",
    "            shed_max, ndays,\n",
    "            fixed_lifetimes=true,\n",
    "            gen_hours_assum,\n",
    "            relax_gain=0, # set to 0 to since it should have no effect\n",
    "            create_mg_base = create_mg_base_iter,\n",
    "            model_custom\n",
    "        )\n",
    "        # recompute exact costs (FAILS if ndays<365!). Only nonsmooth costs\n",
    "        _, stats, costs_ns  = simulate_alg(mg_opt, model_data, NoSmoothing)\n",
    "        \n",
    "        # store results\n",
    "        xopt_tab = [xopt_tab; xopt']\n",
    "        lcoe_tab = [lcoe_tab;\n",
    "                    lcoe_opt costs_ns.lcoe]\n",
    "        \n",
    "        # correct next lifetimes\n",
    "        print(\"  gen hours/assumed: \")\n",
    "        println(diagnostics.generator.hours / gen_hours_assum)\n",
    "        gen_hours_assum = lifetimes_smoothing*gen_hours_assum +\n",
    "                          (1-lifetimes_smoothing)*diagnostics.generator.hours\n",
    "        print(\"  sto lifetime/assumed: \")\n",
    "        println(diagnostics.storage.lifetime_cycles / sto_lifetime_calendar)\n",
    "        sto_lifetime_calendar = lifetimes_smoothing*sto_lifetime_calendar +\n",
    "                                (1-lifetimes_smoothing)*diagnostics.storage.lifetime_cycles\n",
    "        create_mg_base_iter =  modify_mg_lifetimes(cal=sto_lifetime_calendar) ∘ create_mg_base\n",
    "    end\n",
    "    \n",
    "    return xopt_tab, lcoe_tab, gen_hours_assum_tab, sto_lifetime_calendar_tab,\n",
    "           diagnostics, traj, model_data\n",
    "end"
   ]
  },
  {
   "cell_type": "code",
   "execution_count": 47,
   "id": "bba5aaa9-3d97-492a-9daf-46a1910b96bf",
   "metadata": {},
   "outputs": [
    {
     "name": "stdout",
     "output_type": "stream",
     "text": [
      "mg lifetime modification: cal=10 y, cyc unchanged\n",
      "fixed lifetimes iteration 1: gen 2000 h/y, sto 10.0 y\n",
      "Building stage problem with 365 days...\n",
      "zero load shedding allowed\n",
      "Fixed generator lifetime hypothesis: 7.5 y, assuming 2000  h/y of usage\n",
      "  4.654486 seconds (1.64 M allocations: 115.996 MiB, 0.96% gc time)\n",
      "  gen hours/assumed: 1.2475\n",
      "  sto lifetime/assumed: 0.8440593579916993\n",
      "mg lifetime modification: cal=8.440593579916992 y, cyc unchanged\n",
      "fixed lifetimes iteration 2: gen 2495.0 h/y, sto 8.440593579916992 y\n",
      "Building stage problem with 365 days...\n",
      "zero load shedding allowed\n",
      "Fixed generator lifetime hypothesis: 6.012024048096192 y, assuming 2495.0  h/y of usage\n",
      "  4.436282 seconds (1.64 M allocations: 115.996 MiB, 1.81% gc time)\n",
      "  gen hours/assumed: 1.0681362725450902\n",
      "  sto lifetime/assumed: 0.9588033517804793\n",
      "mg lifetime modification: cal=8.092869415441207 y, cyc unchanged\n",
      "fixed lifetimes iteration 3: gen 2665.0 h/y, sto 8.092869415441207 y\n",
      "Building stage problem with 365 days...\n",
      "zero load shedding allowed\n",
      "Fixed generator lifetime hypothesis: 5.628517823639775 y, assuming 2665.0  h/y of usage\n",
      "  4.495628 seconds (1.64 M allocations: 115.996 MiB, 9.03% gc time)\n",
      "  gen hours/assumed: 1.0337711069418387\n",
      "  sto lifetime/assumed: 0.9741301966169552\n",
      "mg lifetime modification: cal=7.883508474859086 y, cyc unchanged\n",
      "fixed lifetimes iteration 4: gen 2755.0 h/y, sto 7.883508474859086 y\n",
      "Building stage problem with 365 days...\n",
      "zero load shedding allowed\n",
      "Fixed generator lifetime hypothesis: 5.44464609800363 y, assuming 2755.0  h/y of usage\n",
      "  4.145006 seconds (1.64 M allocations: 115.996 MiB, 1.31% gc time)\n",
      "  gen hours/assumed: 1.0018148820326678\n",
      "  sto lifetime/assumed: 0.9992114453949362\n",
      "mg lifetime modification: cal=7.877291897947177 y, cyc unchanged\n",
      "fixed lifetimes iteration 5: gen 2760.0 h/y, sto 7.877291897947177 y\n",
      "Building stage problem with 365 days...\n",
      "zero load shedding allowed\n",
      "Fixed generator lifetime hypothesis: 5.434782608695652 y, assuming 2760.0  h/y of usage\n",
      "  4.492690 seconds (1.64 M allocations: 115.996 MiB, 0.70% gc time)\n",
      "  gen hours/assumed: 1.0\n",
      "  sto lifetime/assumed: 1.0\n",
      "mg lifetime modification: cal=7.877291897947177 y, cyc unchanged\n",
      "fixed lifetimes iteration 6: gen 2760.0 h/y, sto 7.877291897947177 y\n",
      "Building stage problem with 365 days...\n",
      "zero load shedding allowed\n",
      "Fixed generator lifetime hypothesis: 5.434782608695652 y, assuming 2760.0  h/y of usage\n",
      "  4.525013 seconds (1.64 M allocations: 115.996 MiB, 0.62% gc time)\n",
      "  gen hours/assumed: 1.0\n",
      "  sto lifetime/assumed: 1.0\n",
      "mg lifetime modification: cal=7.877291897947177 y, cyc unchanged\n"
     ]
    },
    {
     "data": {
      "text/plain": [
       "6×2 Matrix{Float64}:\n",
       " 0.248752  0.256195\n",
       " 0.256002  0.25824\n",
       " 0.258206  0.259448\n",
       " 0.259445  0.259502\n",
       " 0.259502  0.259502\n",
       " 0.259502  0.259502"
      ]
     },
     "execution_count": 47,
     "metadata": {},
     "output_type": "execute_result"
    }
   ],
   "source": [
    "create_mg_modified_stocal = modify_mg_lifetimes(cal=10) ∘ create_mg_modified\n",
    "\n",
    "xopt_tab_fxlt, lcoe_tab_fxlt, gen_hours_assum_tab, sto_lifetime_calendar_tab, \n",
    "diagnostics, traj, model_data =  optim_mg_iter_lifetimes(optimizer;\n",
    "    shed_max,\n",
    "    gen_hours_assum_start = 2000,\n",
    "    n_iter = 6,\n",
    "    create_mg_base=create_mg_modified_stocal,\n",
    ")\n",
    "lcoe_tab_fxlt"
   ]
  },
  {
   "cell_type": "code",
   "execution_count": 48,
   "id": "b3981ed2-6d64-44de-9107-4ca1b47d3d2d",
   "metadata": {},
   "outputs": [
    {
     "data": {
      "text/plain": [
       "6×4 Matrix{Float64}:\n",
       " 1186.38  3495.25  2198.19  1484.49\n",
       " 1209.81  3036.64  2136.02  1472.57\n",
       " 1223.72  2770.87  2094.33  1463.3\n",
       " 1227.37  2705.76  2072.78  1477.07\n",
       " 1227.37  2705.76  2072.78  1477.07\n",
       " 1227.37  2705.76  2072.78  1477.07"
      ]
     },
     "execution_count": 48,
     "metadata": {},
     "output_type": "execute_result"
    }
   ],
   "source": [
    "xopt_tab_fxlt"
   ]
  },
  {
   "cell_type": "markdown",
   "id": "6bc05147-868b-4bfc-b99a-6e87edc5e436",
   "metadata": {},
   "source": [
    "**Observations**:\n",
    "- the iterative fixed lifetimes adjustment procedure reaches steady state (like with `relax_gain` iteration)\n",
    "- **but** it is different from the `relax_gain` iteration, and the LCOE is quite bad (259.502 €/MWh)"
   ]
  },
  {
   "cell_type": "markdown",
   "id": "87d5522e-9593-4480-b237-04694311b6d7",
   "metadata": {},
   "source": [
    "## Usage penalty approach\n"
   ]
  },
  {
   "cell_type": "markdown",
   "id": "7653a2df-b06a-4098-8499-4d14f50a6166",
   "metadata": {},
   "source": [
    "Model customization to penalize usage variables (instead of having the nonlinear influence of usage through annualized size)\n",
    "\n",
    "A key question in this approach is how to value the investment, that is what should be the CRF (or the lifetime value used for CRF):\n",
    "- in the literature, people tends to use the project lifetime. If project lifetime is large, then $CRF \\approx i$\n",
    "- our linearization of the annualized cost, which shows that, in high usage regime, it would be better to use $CRF \\approx i/2$\n",
    "    -  this requires rewriting the investment cost constraint (based on annualized size)\n",
    "\n",
    "here we use both approaches\n",
    "\n",
    "Note that for the generator, setting the generator lifetime is a bit more difficult to implement, since it is controled by `gen_hours_assum` which also impacts O&M cost."
   ]
  },
  {
   "cell_type": "code",
   "execution_count": 49,
   "id": "c522c922-898b-40b2-88dc-fcdfceaac5a1",
   "metadata": {},
   "outputs": [
    {
     "data": {
      "text/plain": [
       "(0.09634228760924432, 0.0709524572992296, 0.05038313806951108)"
      ]
     },
     "execution_count": 49,
     "metadata": {},
     "output_type": "execute_result"
    }
   ],
   "source": [
    "CRF(0.05, mgopt_base.storage.lifetime_calendar), # 15y: 0.096\n",
    "CRF(0.05, mgopt_base.project.lifetime), # 25y: 0.070\n",
    "CRF(0.05, 100) # T→inf: 0.050"
   ]
  },
  {
   "cell_type": "code",
   "execution_count": 51,
   "id": "85e7286e-468f-488f-bc35-acacaca531c3",
   "metadata": {},
   "outputs": [
    {
     "data": {
      "text/latex": [
       "$$ -0.09634228760924432 energy\\_rated\\_sto + Esto\\_rated\\_ann \\geq 0 $$"
      ],
      "text/plain": [
       "-0.09634228760924432 energy_rated_sto + Esto_rated_ann ≥ 0"
      ]
     },
     "execution_count": 51,
     "metadata": {},
     "output_type": "execute_result"
    }
   ],
   "source": [
    "md_base[\"cons_Esto_rated_ann_CRFsto_cal\"] # CRF=0.096 for 15y"
   ]
  },
  {
   "cell_type": "markdown",
   "id": "c1db41b1-467a-47cf-b097-1cb49ba9a436",
   "metadata": {},
   "source": [
    "### Model customizations\n",
    "\n",
    "Customization to add usage penalty"
   ]
  },
  {
   "cell_type": "code",
   "execution_count": 28,
   "id": "2e8432c5-5ce0-4aed-a1f5-0dd98fe0c126",
   "metadata": {},
   "outputs": [
    {
     "data": {
      "text/plain": [
       "model_penalize_usage"
      ]
     },
     "execution_count": 28,
     "metadata": {},
     "output_type": "execute_result"
    }
   ],
   "source": [
    "\"\"\"Penalize generator and storage usage in Cann\n",
    "\"\"\"\n",
    "function model_penalize_usage(md, mg)\n",
    "    relax_gain = md[\"relax_gain\"]\n",
    "    println(\"Penalized usage variant (relax_gain=\", relax_gain,\")\")\n",
    "    model = md[\"model\"]\n",
    "\n",
    "    # Add usage variables (not added when fixed_lifetimes=true)\n",
    "    # Generator usage:\n",
    "    @assert \"Ugen\" ∉ keys(md) \"Ugen shouldn't have been defined. Make sure fixed_lifetimes=true\"\n",
    "    md[\"Ugen\"] = @variable(model, Ugen >= 0) # cumulated usage\n",
    "    @constraint(model, Ugen == md[\"Egen\"]*relax_gain/mg.generator.lifetime_hours); # kW/y\n",
    "    # Storage usage\n",
    "    @assert \"Usto\" ∉ keys(md) \"Usto shouldn't have been defined. Make sure fixed_lifetimes=true\"\n",
    "    md[\"Usto\"] = @variable(model, Usto >= 0) # cumulated usage\n",
    "    @constraint(model, Usto == md[\"E_through_sto\"]/(2*mg.storage.lifetime_cycles))\n",
    "    \n",
    "    # overwrite cost function with penalties\n",
    "    md[\"Ugen_penal\"] = Ugen_penal = mg.generator.investment_price * Ugen\n",
    "    md[\"Usto_penal\"] = Usto_penal = mg.storage.investment_price * Usto\n",
    "    \n",
    "    md[\"Cann_penal\"] = Cann_penal = md[\"Cann\"] + Ugen_penal + Usto_penal\n",
    "    @objective(model, Min, Cann_penal)\n",
    "end"
   ]
  },
  {
   "cell_type": "markdown",
   "id": "65587d62-503b-4cb1-ab52-e28effde11dc",
   "metadata": {},
   "source": [
    "Customization to change generator lifetime to project lifetime (not to be used with `model_change_CRF`!)"
   ]
  },
  {
   "cell_type": "code",
   "execution_count": 29,
   "id": "11703830-ced1-4b15-a315-d47fb3137deb",
   "metadata": {},
   "outputs": [
    {
     "data": {
      "text/plain": [
       "model_gen_lifetime_project"
      ]
     },
     "execution_count": 29,
     "metadata": {},
     "output_type": "execute_result"
    }
   ],
   "source": [
    "\"\"\"Change generator lifetime to project lifetime\n",
    "\"\"\"\n",
    "function model_gen_lifetime_project(md, mg)\n",
    "    println(\"Change generator lifetime to project lifetime\")\n",
    "\n",
    "    model = md[\"model\"]\n",
    "    # Retrieve useful variables\n",
    "    Pgen_rated_ann = md[\"Pgen_rated_ann\"]\n",
    "    power_rated_gen = md[\"power_rated_gen\"]\n",
    "\n",
    "    # Delete Pgen_rated_ann == power_rated_gen * CRFproj(gen_lifetime)\n",
    "    # (which is based on gen_hours_assum)\n",
    "    delete(model, md[\"cons_Pgen_rated_ann_CRFgen_lifetime\"])\n",
    "    # Replace\n",
    "    CRFproj = CRF(mg.project.discount_rate, mg.project.lifetime)\n",
    "    md[\"cons_Pgen_rated_ann_CRFgen_lifetime\"] = @constraint(model,\n",
    "        Pgen_rated_ann == power_rated_gen * CRFproj)\n",
    "end"
   ]
  },
  {
   "cell_type": "markdown",
   "id": "e90470e1-ecba-415c-8320-d9854f8a4455",
   "metadata": {},
   "source": [
    "Customization to change CRF for battery and generator to i/2 (not te be used with `model_gen_lifetime_project`!)"
   ]
  },
  {
   "cell_type": "code",
   "execution_count": 30,
   "id": "6926060c-7021-445e-9dd5-3ca3d9cfa407",
   "metadata": {},
   "outputs": [
    {
     "data": {
      "text/plain": [
       "model_change_CRF"
      ]
     },
     "execution_count": 30,
     "metadata": {},
     "output_type": "execute_result"
    }
   ],
   "source": [
    "\"\"\"Change CRF for battery and generator to i/2\n",
    "\"\"\"\n",
    "function model_change_CRF(md, mg)\n",
    "    discount_rate = mg.project.discount_rate\n",
    "    println(\"Change CRF for battery and generator to i/2=\", discount_rate/2)\n",
    "\n",
    "    model = md[\"model\"]\n",
    "    # Retrieve useful variables\n",
    "    Esto_rated_ann = md[\"Esto_rated_ann\"]\n",
    "    energy_rated_sto = md[\"energy_rated_sto\"]\n",
    "    Pgen_rated_ann = md[\"Pgen_rated_ann\"]\n",
    "    power_rated_gen = md[\"power_rated_gen\"]\n",
    "\n",
    "    # Delete Esto_rated_ann >= energy_rated_sto * CRFsto_cal\n",
    "    delete(model, md[\"cons_Esto_rated_ann_CRFsto_cal\"])\n",
    "    # Replace\n",
    "    md[\"cons_Esto_rated_ann_CRFsto_cal\"] = @constraint(model,\n",
    "        Esto_rated_ann >= energy_rated_sto * discount_rate/2)\n",
    "\n",
    "    # Delete Pgen_rated_ann == power_rated_gen * CRFproj(gen_lifetime)\n",
    "    # (which is based on gen_hours_assum)\n",
    "    delete(model, md[\"cons_Pgen_rated_ann_CRFgen_lifetime\"])\n",
    "    # Replace\n",
    "    md[\"cons_Pgen_rated_ann_CRFgen_lifetime\"] = @constraint(model,\n",
    "        Pgen_rated_ann == power_rated_gen * discount_rate/2)\n",
    "end"
   ]
  },
  {
   "cell_type": "markdown",
   "id": "fbbeea1f-1f96-4fe1-904c-e1af8317e773",
   "metadata": {},
   "source": [
    "Combinations:"
   ]
  },
  {
   "cell_type": "code",
   "execution_count": 31,
   "id": "e3cc8e02-5f27-403a-8cc6-43bd80aa7d85",
   "metadata": {},
   "outputs": [
    {
     "data": {
      "text/plain": [
       "model_change_both_v1"
      ]
     },
     "execution_count": 31,
     "metadata": {},
     "output_type": "execute_result"
    }
   ],
   "source": [
    "\"\"\"Usage penalty model changes, variant 1:\n",
    "- Change generator lifetime to project lifetime\n",
    "- Penalize generator and storage usage in Cann\n",
    "\"\"\"\n",
    "function model_change_both_v1(md, mg)\n",
    "    model_gen_lifetime_project(md, mg)\n",
    "    model_penalize_usage(md, mg)\n",
    "end"
   ]
  },
  {
   "cell_type": "code",
   "execution_count": 32,
   "id": "e8c7cd13-519b-49d0-8fc0-b29f5f28f1c6",
   "metadata": {},
   "outputs": [
    {
     "data": {
      "text/plain": [
       "model_change_both_v2"
      ]
     },
     "execution_count": 32,
     "metadata": {},
     "output_type": "execute_result"
    }
   ],
   "source": [
    "\"\"\"Usage penalty model changes, variant 2:\n",
    "- Change CRF for battery and generator to i/2\n",
    "- Penalize generator and storage usage in Cann\n",
    "\"\"\"\n",
    "function model_change_both_v2(md, mg)\n",
    "    model_change_CRF(md, mg)\n",
    "    model_penalize_usage(md, mg)\n",
    "end"
   ]
  },
  {
   "cell_type": "markdown",
   "id": "cc0ca57b-e1a2-4332-aa2c-2b235435cd3c",
   "metadata": {},
   "source": [
    "### Variant 1\n",
    "\n",
    "generator and storage lifetimes set to project lifetime"
   ]
  },
  {
   "cell_type": "code",
   "execution_count": 61,
   "id": "e23b7151-5c4a-489b-84c4-5ecbf8b9c1a7",
   "metadata": {},
   "outputs": [
    {
     "name": "stdout",
     "output_type": "stream",
     "text": [
      "mg lifetime modification: cal=25 y, cyc unchanged\n",
      "Building stage problem with 365 days...\n",
      "zero load shedding allowed\n",
      "Fixed generator lifetime hypothesis: 7.5 y, assuming 2000.0  h/y of usage\n",
      "Change generator lifetime to project lifetime\n",
      "Penalized usage variant (relax_gain=2.0)\n",
      "  6.254564 seconds (1.64 M allocations: 119.504 MiB, 6.59% gc time)\n",
      "LCOE: 234.926184324 €/MWh (wrong: fixed lifetime)"
     ]
    }
   ],
   "source": [
    "create_mg_modified_stocal = modify_mg_lifetimes(cal=mgopt_base.project.lifetime) ∘ create_mg_modified\n",
    "\n",
    "x_penal1, lcoe_penal1, diagnostics_penal1, traj_penal1, md_penal1, mg_penal1 = optim_mg_jump(optimizer;\n",
    "    shed_max,\n",
    "    #ndays=30,\n",
    "    fixed_lifetimes=true,\n",
    "    gen_hours_assum = 2000.,\n",
    "    relax_gain,\n",
    "    create_mg_base = create_mg_modified_stocal,\n",
    "    model_custom = model_change_both_v1\n",
    ")\n",
    "@printf(\"LCOE: %.9f €/MWh (wrong: fixed lifetime)\", lcoe_penal1*1000)"
   ]
  },
  {
   "cell_type": "markdown",
   "id": "5255accb-ff62-4e99-b458-b49d1a52709f",
   "metadata": {},
   "source": [
    "Amount of penalties on the annualized cost: +9% (not counted in LCOE!)"
   ]
  },
  {
   "cell_type": "code",
   "execution_count": 28,
   "id": "59e66b8d-8ca7-416f-9cc5-9163eb4e5859",
   "metadata": {},
   "outputs": [
    {
     "data": {
      "text/latex": [
       "$$ -0.0709524572992296 energy\\_rated\\_sto + Esto\\_rated\\_ann \\geq 0 $$"
      ],
      "text/plain": [
       "-0.0709524572992296 energy_rated_sto + Esto_rated_ann ≥ 0"
      ]
     },
     "execution_count": 28,
     "metadata": {},
     "output_type": "execute_result"
    }
   ],
   "source": [
    "md_penal1[\"cons_Esto_rated_ann_CRFsto_cal\"]"
   ]
  },
  {
   "cell_type": "code",
   "execution_count": 29,
   "id": "33383638-5e19-441b-b472-61ff4277d099",
   "metadata": {},
   "outputs": [
    {
     "data": {
      "text/latex": [
       "$$ -0.0709524572992296 power\\_rated\\_gen + Pgen\\_rated\\_ann = 0 $$"
      ],
      "text/plain": [
       "-0.0709524572992296 power_rated_gen + Pgen_rated_ann = 0"
      ]
     },
     "execution_count": 29,
     "metadata": {},
     "output_type": "execute_result"
    }
   ],
   "source": [
    "md_penal1[\"cons_Pgen_rated_ann_CRFgen_lifetime\"]"
   ]
  },
  {
   "cell_type": "code",
   "execution_count": 62,
   "id": "cf30d0c8-83d7-4cab-b897-32f5aaf19fb9",
   "metadata": {},
   "outputs": [
    {
     "name": "stdout",
     "output_type": "stream",
     "text": [
      "Cann penalty: +11.6% (+4.5% for gen, +7.1% for sto)"
     ]
    }
   ],
   "source": [
    "vmd(name) = value(md_penal1[name]) # sortcut: value of JuMP variable with the model_data Dict\n",
    "@printf(\"Cann penalty: %+.1f%% (%+.1f%% for gen, %+.1f%% for sto)\",\n",
    "    (vmd(\"Cann_penal\")/vmd(\"Cann\")-1)*100,\n",
    "    vmd(\"Ugen_penal\")/vmd(\"Cann\")*100,\n",
    "    vmd(\"Usto_penal\")/vmd(\"Cann\")*100\n",
    ")"
   ]
  },
  {
   "cell_type": "markdown",
   "id": "6f5e856f-85c1-4b47-86dc-644dc0e70264",
   "metadata": {},
   "source": [
    "Annualized generator and storage sizes:"
   ]
  },
  {
   "cell_type": "code",
   "execution_count": 63,
   "id": "e658af93-ab1b-4e36-a420-a2573ecded2a",
   "metadata": {},
   "outputs": [
    {
     "data": {
      "text/plain": [
       "(86.66147398707587, 199.51298135477248)"
      ]
     },
     "execution_count": 63,
     "metadata": {},
     "output_type": "execute_result"
    }
   ],
   "source": [
    "vmd(\"Pgen_rated_ann\"), vmd(\"Esto_rated_ann\")"
   ]
  },
  {
   "cell_type": "markdown",
   "id": "49356bdc-999b-4431-a054-9268c60b6d7f",
   "metadata": {},
   "source": [
    "Comparison with exact cost (only nonsmooth cost makes sense here):"
   ]
  },
  {
   "cell_type": "code",
   "execution_count": 64,
   "id": "b710413e-09be-4e57-b649-453b3338b7e4",
   "metadata": {},
   "outputs": [
    {
     "data": {
      "text/plain": [
       "(0.2578099150503256, 0.23492618432359913, -0.08876202733420646)"
      ]
     },
     "execution_count": 64,
     "metadata": {},
     "output_type": "execute_result"
    }
   ],
   "source": [
    "_, stats_penal1, costs_penal1_ns  = simulate_alg(mg_penal1, md_penal1, NoSmoothing)\n",
    "costs_penal1_ns.lcoe, lcoe_penal1, lcoe_penal1/costs_penal1_ns.lcoe-1"
   ]
  },
  {
   "cell_type": "markdown",
   "id": "24e0a10f-e598-4edd-a30b-4a1c312ba784",
   "metadata": {},
   "source": [
    "Check the amount of generator OM:"
   ]
  },
  {
   "cell_type": "code",
   "execution_count": 65,
   "id": "8756baa5-ec4c-4d4e-9f42-311575622bf0",
   "metadata": {},
   "outputs": [
    {
     "name": "stdout",
     "output_type": "stream",
     "text": [
      "Cgen: 46.0% of Cann (732.7 k€),\n",
      "of which 6.7% (48.9 k€) of OM cost (due to gen_hours_assum)"
     ]
    }
   ],
   "source": [
    "@printf(\"Cgen: %.1f%% of Cann (%.1f k€),\\n\",\n",
    "    vmd(\"Cgen\")/vmd(\"Cann\")*100,\n",
    "    vmd(\"Cgen\")/1000\n",
    ")\n",
    "@printf(\"of which %.1f%% (%.1f k€) of OM cost (due to gen_hours_assum)\",\n",
    "    vmd(\"Cgen_om\")/vmd(\"Cgen\")*100,\n",
    "    vmd(\"Cgen_om\")/1000\n",
    ")"
   ]
  },
  {
   "cell_type": "markdown",
   "id": "f46a0a32-4427-4bdb-9be2-a0964af70e79",
   "metadata": {},
   "source": [
    "### Variant 2\n",
    "\n",
    "Change CRF for battery and generator to i/2 → makes them both their investment cost cheaper "
   ]
  },
  {
   "cell_type": "code",
   "execution_count": 66,
   "id": "f6355b96-a13e-4839-b045-a2c209da4813",
   "metadata": {},
   "outputs": [
    {
     "name": "stdout",
     "output_type": "stream",
     "text": [
      "Building stage problem with 365 days...\n",
      "zero load shedding allowed\n",
      "Fixed generator lifetime hypothesis: 7.5 y, assuming 2000.0  h/y of usage\n",
      "Change CRF for battery and generator to i/2=0.025\n",
      "Penalized usage variant (relax_gain=2.0)\n",
      "  5.443852 seconds (1.64 M allocations: 119.768 MiB, 0.70% gc time)\n",
      "LCOE: 168.638106653 €/MWh (wrong: fixed lifetime)"
     ]
    }
   ],
   "source": [
    "x_penal2, lcoe_penal2, diagnostics_penal2, traj_penal2, md_penal2 = optim_mg_jump(optimizer;\n",
    "    shed_max,\n",
    "    #ndays=30,\n",
    "    fixed_lifetimes=true,\n",
    "    gen_hours_assum = 2000.,\n",
    "    relax_gain,\n",
    "    create_mg_base, # no need to change calendar lifetime, since its CRF is changed to i/2 anyway\n",
    "    model_custom = model_change_both_v2\n",
    ")\n",
    "@printf(\"LCOE: %.9f €/MWh (wrong: fixed lifetime)\", lcoe_penal2*1000)"
   ]
  },
  {
   "cell_type": "code",
   "execution_count": 38,
   "id": "313f1f89-0768-40e6-88bf-c2222fd0489e",
   "metadata": {},
   "outputs": [
    {
     "data": {
      "text/latex": [
       "$$ -0.025 energy\\_rated\\_sto + Esto\\_rated\\_ann \\geq 0 $$"
      ],
      "text/plain": [
       "-0.025 energy_rated_sto + Esto_rated_ann ≥ 0"
      ]
     },
     "execution_count": 38,
     "metadata": {},
     "output_type": "execute_result"
    }
   ],
   "source": [
    "md_penal2[\"cons_Esto_rated_ann_CRFsto_cal\"]"
   ]
  },
  {
   "cell_type": "code",
   "execution_count": 67,
   "id": "035f938f-bb83-481a-9131-9f214163834a",
   "metadata": {},
   "outputs": [
    {
     "data": {
      "text/latex": [
       "$$ -0.025 power\\_rated\\_gen + Pgen\\_rated\\_ann = 0 $$"
      ],
      "text/plain": [
       "-0.025 power_rated_gen + Pgen_rated_ann = 0"
      ]
     },
     "execution_count": 67,
     "metadata": {},
     "output_type": "execute_result"
    }
   ],
   "source": [
    "md_penal2[\"cons_Pgen_rated_ann_CRFgen_lifetime\"]"
   ]
  },
  {
   "cell_type": "markdown",
   "id": "c7722744-8ed7-4c9d-86d5-02f4d8a16cac",
   "metadata": {},
   "source": [
    "Annualized generator and storage sizes: very small"
   ]
  },
  {
   "cell_type": "code",
   "execution_count": 69,
   "id": "e560dd32-c971-4bce-815e-650eb995be34",
   "metadata": {},
   "outputs": [
    {
     "data": {
      "text/plain": [
       "(31.582150375909954, 54.13382474448337)"
      ]
     },
     "execution_count": 69,
     "metadata": {},
     "output_type": "execute_result"
    }
   ],
   "source": [
    "vmd(name) = value(md_penal2[name]) # sortcut: value of JuMP variable with the model_data Dict\n",
    "vmd(\"Pgen_rated_ann\"), vmd(\"Esto_rated_ann\")"
   ]
  },
  {
   "cell_type": "markdown",
   "id": "12ae548d-9d1d-4aaf-8381-a1f3df17c8d2",
   "metadata": {},
   "source": [
    "Generator cost: smaller than in v1 in absolute sense → takes a larger share"
   ]
  },
  {
   "cell_type": "code",
   "execution_count": 73,
   "id": "f748398e-7f82-46ba-98f8-76898a29ee5e",
   "metadata": {},
   "outputs": [
    {
     "name": "stdout",
     "output_type": "stream",
     "text": [
      "Cgen: 44.5% of Cann (508.4 k€),\n"
     ]
    }
   ],
   "source": [
    "@printf(\"Cgen: %.1f%% of Cann (%.1f k€),\\n\",\n",
    "    vmd(\"Cgen\")/vmd(\"Cann\")*100,\n",
    "    vmd(\"Cgen\")/1000\n",
    ")"
   ]
  },
  {
   "cell_type": "markdown",
   "id": "6aaefcef-1833-42a3-8afa-a65d4002454d",
   "metadata": {},
   "source": [
    "### Variants comparison"
   ]
  },
  {
   "cell_type": "markdown",
   "id": "67335ca4-c3e9-42ba-9805-7c1939f4d750",
   "metadata": {},
   "source": [
    "Sizing comparison (both variants) vs base sizing\n",
    "- even smaller battery for v2 vs v1"
   ]
  },
  {
   "cell_type": "code",
   "execution_count": 70,
   "id": "53162a98-3c72-45ac-8c0c-17c41c160ed1",
   "metadata": {},
   "outputs": [
    {
     "data": {
      "text/plain": [
       "4×3 Matrix{Float64}:\n",
       " 1221.4  1263.3  1255.5\n",
       " 2811.9  2165.4  5837.3\n",
       " 1817.2  1347.9  2329.5\n",
       " 1636.0  1297.1  1596.1"
      ]
     },
     "execution_count": 70,
     "metadata": {},
     "output_type": "execute_result"
    }
   ],
   "source": [
    "round.([x_penal1 x_penal2 xopt_base]; digits=1) # optimal sizing"
   ]
  },
  {
   "cell_type": "markdown",
   "id": "847d6b2e-6527-48c9-b7e9-e6d15cfea6e3",
   "metadata": {},
   "source": [
    "Dispatch comparison:\n",
    "- in v1, the generator covers 20.0% of the load\n",
    "- in v2, the generator covers 27.4% of the load\n",
    "    - → it seems that the cheaper battery investments gets shadowed by the cheaper generator investment..."
   ]
  },
  {
   "cell_type": "code",
   "execution_count": 71,
   "id": "b121550a-87d8-4e46-8f4b-ec90fb229807",
   "metadata": {},
   "outputs": [
    {
     "name": "stdout",
     "output_type": "stream",
     "text": [
      "Generator diagnostics (penalty variant 1):\n",
      "- cost_share: 0.46037971981965375\n",
      "- cost_share_fuel: 0.4079044607572424\n",
      "- energy: 1.3525601743614555e6\n",
      "- load_share: 0.19964049694640462\n",
      "- hours: 2653.0\n",
      "- hours_lin: 2214.766576214286\n",
      "- lifetime: 5.653976630229929\n",
      "- lifetime_hlin: 6.772722760535601\n",
      "- CRF: 0.20740033416092307\n",
      "- CRF_hlin: 0.17768671111364998\n",
      "- CRF_hlin_pwl: 0.0709524572992296\n"
     ]
    }
   ],
   "source": [
    "pprint(diagnostics_penal1.generator, \"Generator diagnostics (penalty variant 1)\")"
   ]
  },
  {
   "cell_type": "code",
   "execution_count": 72,
   "id": "8cb6c266-558f-4cfb-979a-4c51f85d2b77",
   "metadata": {},
   "outputs": [
    {
     "name": "stdout",
     "output_type": "stream",
     "text": [
      "Generator diagnostics (penalty variant 2):\n",
      "- cost_share: 0.4449546786384655\n",
      "- cost_share_fuel: 0.3896695885373846\n",
      "- energy: 1.8550214774010058e6\n",
      "- load_share: 0.2738047567971806\n",
      "- hours: 3807.0\n",
      "- hours_lin: 2936.819461818484\n",
      "- lifetime: 3.9401103230890464\n",
      "- lifetime_hlin: 5.107566261738123\n",
      "- CRF: 0.2858939078166822\n",
      "- CRF_hlin: 0.22668011867301127\n",
      "- CRF_hlin_pwl: 0.025\n"
     ]
    }
   ],
   "source": [
    "pprint(diagnostics_penal2.generator, \"Generator diagnostics (penalty variant 2)\")"
   ]
  },
  {
   "cell_type": "markdown",
   "id": "dc77af71-fdf3-401e-bbc7-a6928069dcdc",
   "metadata": {},
   "source": [
    "Store usage penalty variants in global experiment DataFrame `df_params`"
   ]
  },
  {
   "cell_type": "code",
   "execution_count": null,
   "id": "843b7a25-95b8-4f64-b9d1-458034e53e41",
   "metadata": {},
   "outputs": [],
   "source": [
    "p = (;\n",
    "    case=\"Usage penalty, \",\n",
    "    shed_max,\n",
    "    fuel_price=mgopt_base.generator.fuel_price,\n",
    "    sto_lifetime_cycles=mgopt_base.storage.lifetime_cycles,\n",
    "    sto_lifetime_calendar=mgopt_base.storage.lifetime_calendar,\n",
    "    fixed_lifetimes=false, gen_hours_assum=NaN,\n",
    "    n_ztan=0, relax_gain,\n",
    "    usage_penal=1, # with usage penalty, variant 1 or 2\n",
    "    )\n",
    "# Params with variant 1 (generator and storage lifetimes set to project lifetime)\n",
    "# but for generator its done separately\n",
    "push!(df_params, p)\n",
    "df_params[end, \"case\"] *= \"variant 1\"\n",
    "df_params[end, \"sto_lifetime_calendar\"] = mgopt_base.project.lifetime\n",
    "df_params[end, \"usage_penal\"] = 1\n",
    "\n",
    "# Params with variant 2 (CRF=i/2)\n",
    "push!(df_params, p)\n",
    "df_params[end, \"case\"] *= \"variant 2\"\n",
    "df_params[end, \"sto_lifetime_calendar\"] = NaN\n",
    "df_params[end, \"usage_penal\"] = 2\n",
    "\n",
    "df_params[end-1:end,:]"
   ]
  },
  {
   "cell_type": "markdown",
   "id": "87d8565d-3e41-4ecb-bec7-17b94d147713",
   "metadata": {},
   "source": [
    "### Case when storage cycle life is not active\n",
    "\n",
    "by setting calendar lifetime to 10 year (while the optimum is 10.x years)\n",
    "\n",
    "\n",
    "#### Our method:\n",
    "\n",
    "makes the best use of those 10 years, with T_cycle = 9.99 years !"
   ]
  },
  {
   "cell_type": "code",
   "execution_count": 76,
   "id": "580e7684-caef-490d-a6e7-aabef6aef0c1",
   "metadata": {},
   "outputs": [
    {
     "name": "stdout",
     "output_type": "stream",
     "text": [
      "mg lifetime modification: cal=10 y, cyc unchanged\n",
      "Building stage problem with 365 days...\n",
      "zero load shedding allowed\n",
      "Usage-dependent generator lifetime model (relax_gain=2.0)\n",
      "Xann constraints with z_tan=[0.2, 0.28, 0.37, 0.5, 0.68, 1.0, 1.7, 4.0]\n",
      " 13.272392 seconds (1.65 M allocations: 117.648 MiB, 0.18% gc time)\n",
      "LCOE: 250.492323824 €/MWh"
     ]
    }
   ],
   "source": [
    "create_mg_modified_cal10y = modify_mg_lifetimes(cal=10) ∘ create_mg_modified\n",
    "\n",
    "x_cal10y, lcoe_cal10y, diag_cal10y, traj_cal10y, md_cal10y = optim_mg_jump(optimizer;\n",
    "    shed_max,\n",
    "    relax_gain,\n",
    "    create_mg_base = create_mg_modified_cal10y,\n",
    ")\n",
    "@printf(\"LCOE: %.9f €/MWh\", lcoe_cal10y*1000)"
   ]
  },
  {
   "cell_type": "markdown",
   "id": "90e859e1-546a-4e2b-8691-e34cfb6e3207",
   "metadata": {},
   "source": [
    "Sizing vs base sizing:\n",
    "- slightly smaller battery, as one may expect"
   ]
  },
  {
   "cell_type": "code",
   "execution_count": 48,
   "id": "b253a439-5cea-4f62-b1e1-f1f6a6ca4423",
   "metadata": {},
   "outputs": [
    {
     "data": {
      "text/plain": [
       "4×2 Matrix{Float64}:\n",
       " 1184.4  1255.5\n",
       " 5131.2  5837.3\n",
       " 2296.4  2329.5\n",
       " 1584.0  1596.1"
      ]
     },
     "execution_count": 48,
     "metadata": {},
     "output_type": "execute_result"
    }
   ],
   "source": [
    "round.([x_cal10y xopt_base]; digits=1) # optimal sizing"
   ]
  },
  {
   "cell_type": "markdown",
   "id": "609b374a-b914-45a6-a863-5aaecaec5f48",
   "metadata": {},
   "source": [
    "Observation: T_cycle = 9.99 years !"
   ]
  },
  {
   "cell_type": "code",
   "execution_count": 77,
   "id": "ee914ebb-6561-4fb3-995f-062c007fe817",
   "metadata": {},
   "outputs": [
    {
     "name": "stdout",
     "output_type": "stream",
     "text": [
      "Storage diagnostics:\n",
      "- cost_share: 0.16728362196577656\n",
      "- energy_through: 1.5406589676988088e6\n",
      "- load_share: 0.11370212126847985\n",
      "- cycles: 150.1255855113518\n",
      "- lifetime_cycles: 9.991634636366344\n",
      "- lifetime: 9.991634636366344\n",
      "- CRF: 0.12958869413255772\n",
      "- CRF_pwl: 0.12950457496545661\n"
     ]
    }
   ],
   "source": [
    "pprint(diag_cal10y.storage, \"Storage diagnostics\")"
   ]
  },
  {
   "cell_type": "markdown",
   "id": "be19f712-ef07-423a-b3cd-da520f9c8cfa",
   "metadata": {},
   "source": [
    "#### Penalized usage method with 10 years calendar life"
   ]
  },
  {
   "cell_type": "code",
   "execution_count": 78,
   "id": "28438986-d5b5-4721-b8f4-73ee4893bff5",
   "metadata": {},
   "outputs": [
    {
     "name": "stdout",
     "output_type": "stream",
     "text": [
      "Building stage problem with 365 days...\n",
      "zero load shedding allowed\n",
      "Fixed generator lifetime hypothesis: 7.5 y, assuming 2000.0  h/y of usage\n",
      "Penalized usage variant (relax_gain=2.0)\n",
      "  5.723440 seconds (1.64 M allocations: 117.502 MiB, 1.08% gc time)\n",
      "LCOE: 254.340344832 €/MWh (wrong: fixed lifetime)"
     ]
    }
   ],
   "source": [
    "x_penal_cal10y, lcoe_penal_cal10y, diag_penal_cal10y, traj_penal_cal10y, md_penal_cal10y = optim_mg_jump(optimizer;\n",
    "    shed_max,\n",
    "    #ndays=30,\n",
    "    fixed_lifetimes=true,\n",
    "    gen_hours_assum = 2000.,\n",
    "    relax_gain,\n",
    "    create_mg_base = create_mg_modified_cal10y,\n",
    "    model_custom = model_penalize_usage # SMALL bug: generator lifetime not changed\n",
    ")\n",
    "@printf(\"LCOE: %.9f €/MWh (wrong: fixed lifetime)\", lcoe_penal_cal10y*1000)"
   ]
  },
  {
   "cell_type": "markdown",
   "id": "1064989d-f434-48bc-925b-733bf1982b30",
   "metadata": {},
   "source": [
    "Sizing comparison:\n",
    "- as expected, the penalized approach with short calendar liftime yields an even smaller battery"
   ]
  },
  {
   "cell_type": "code",
   "execution_count": 80,
   "id": "3e715f75-8df9-4d0f-a9ff-ff3e7665453d",
   "metadata": {},
   "outputs": [
    {
     "data": {
      "text/plain": [
       "4×3 Matrix{Float64}:\n",
       " 1328.4  1221.4  1184.4\n",
       "  944.7  2811.9  5131.2\n",
       " 1545.2  1817.2  2296.4\n",
       " 1687.1  1636.0  1584.0"
      ]
     },
     "execution_count": 80,
     "metadata": {},
     "output_type": "execute_result"
    }
   ],
   "source": [
    "round.([x_penal_cal10y x_penal1 x_cal10y]; digits=1) # optimal sizing"
   ]
  },
  {
   "cell_type": "markdown",
   "id": "5a02c6bf-c625-4c42-9f64-67dfc5ffe694",
   "metadata": {},
   "source": [
    "--- \n",
    "\n",
    "## Rerun all experiments\n",
    "\n",
    "Experiments parameters saved in `df_params`:"
   ]
  },
  {
   "cell_type": "code",
   "execution_count": 26,
   "id": "7e7bada9-b9c9-4f28-aa56-8c4f7dc6124d",
   "metadata": {},
   "outputs": [
    {
     "data": {
      "text/html": [
       "<div><div style = \"float: left;\"><span>4×10 DataFrame</span></div><div style = \"clear: both;\"></div></div><div class = \"data-frame\" style = \"overflow-x: scroll;\"><table class = \"data-frame\" style = \"margin-bottom: 6px;\"><thead><tr class = \"header\"><th class = \"rowNumber\" style = \"font-weight: bold; text-align: right;\">Row</th><th style = \"text-align: left;\">case</th><th style = \"text-align: left;\">shed_max</th><th style = \"text-align: left;\">fuel_price</th><th style = \"text-align: left;\">sto_lifetime_cycles</th><th style = \"text-align: left;\">sto_lifetime_calendar</th><th style = \"text-align: left;\">fixed_lifetimes</th><th style = \"text-align: left;\">gen_hours_assum</th><th style = \"text-align: left;\">n_ztan</th><th style = \"text-align: left;\">relax_gain</th><th style = \"text-align: left;\">usage_penal</th></tr><tr class = \"subheader headerLastRow\"><th class = \"rowNumber\" style = \"font-weight: bold; text-align: right;\"></th><th title = \"String\" style = \"text-align: left;\">String</th><th title = \"Float64\" style = \"text-align: left;\">Float64</th><th title = \"Float64\" style = \"text-align: left;\">Float64</th><th title = \"Float64\" style = \"text-align: left;\">Float64</th><th title = \"Float64\" style = \"text-align: left;\">Float64</th><th title = \"Bool\" style = \"text-align: left;\">Bool</th><th title = \"Float64\" style = \"text-align: left;\">Float64</th><th title = \"Int64\" style = \"text-align: left;\">Int64</th><th title = \"Float64\" style = \"text-align: left;\">Float64</th><th title = \"Int64\" style = \"text-align: left;\">Int64</th></tr></thead><tbody><tr><td class = \"rowNumber\" style = \"font-weight: bold; text-align: right;\">1</td><td style = \"text-align: left;\">Base case, rgain=1.0</td><td style = \"text-align: right;\">0.0</td><td style = \"text-align: right;\">2.0</td><td style = \"text-align: right;\">1500.0</td><td style = \"text-align: right;\">15.0</td><td style = \"text-align: right;\">false</td><td style = \"text-align: right;\">NaN</td><td style = \"text-align: right;\">10</td><td style = \"text-align: right;\">1.0</td><td style = \"text-align: right;\">0</td></tr><tr><td class = \"rowNumber\" style = \"font-weight: bold; text-align: right;\">2</td><td style = \"text-align: left;\">Base case, rgain=2.0</td><td style = \"text-align: right;\">0.0</td><td style = \"text-align: right;\">2.0</td><td style = \"text-align: right;\">1500.0</td><td style = \"text-align: right;\">15.0</td><td style = \"text-align: right;\">false</td><td style = \"text-align: right;\">NaN</td><td style = \"text-align: right;\">10</td><td style = \"text-align: right;\">2.0</td><td style = \"text-align: right;\">0</td></tr><tr><td class = \"rowNumber\" style = \"font-weight: bold; text-align: right;\">3</td><td style = \"text-align: left;\">Usage penalty, variant 1</td><td style = \"text-align: right;\">0.0</td><td style = \"text-align: right;\">2.0</td><td style = \"text-align: right;\">1500.0</td><td style = \"text-align: right;\">25.0</td><td style = \"text-align: right;\">false</td><td style = \"text-align: right;\">NaN</td><td style = \"text-align: right;\">0</td><td style = \"text-align: right;\">2.0</td><td style = \"text-align: right;\">1</td></tr><tr><td class = \"rowNumber\" style = \"font-weight: bold; text-align: right;\">4</td><td style = \"text-align: left;\">Usage penalty, variant 2</td><td style = \"text-align: right;\">0.0</td><td style = \"text-align: right;\">2.0</td><td style = \"text-align: right;\">1500.0</td><td style = \"text-align: right;\">NaN</td><td style = \"text-align: right;\">false</td><td style = \"text-align: right;\">NaN</td><td style = \"text-align: right;\">0</td><td style = \"text-align: right;\">2.0</td><td style = \"text-align: right;\">2</td></tr></tbody></table></div>"
      ],
      "text/latex": [
       "\\begin{tabular}{r|cccccc}\n",
       "\t& case & shed\\_max & fuel\\_price & sto\\_lifetime\\_cycles & sto\\_lifetime\\_calendar & \\\\\n",
       "\t\\hline\n",
       "\t& String & Float64 & Float64 & Float64 & Float64 & \\\\\n",
       "\t\\hline\n",
       "\t1 & Base case, rgain=1.0 & 0.0 & 2.0 & 1500.0 & 15.0 & $\\dots$ \\\\\n",
       "\t2 & Base case, rgain=2.0 & 0.0 & 2.0 & 1500.0 & 15.0 & $\\dots$ \\\\\n",
       "\t3 & Usage penalty, variant 1 & 0.0 & 2.0 & 1500.0 & 25.0 & $\\dots$ \\\\\n",
       "\t4 & Usage penalty, variant 2 & 0.0 & 2.0 & 1500.0 & NaN & $\\dots$ \\\\\n",
       "\\end{tabular}\n"
      ],
      "text/plain": [
       "\u001b[1m4×10 DataFrame\u001b[0m\n",
       "\u001b[1m Row \u001b[0m│\u001b[1m case                     \u001b[0m\u001b[1m shed_max \u001b[0m\u001b[1m fuel_price \u001b[0m\u001b[1m sto_lifetime_cycles \u001b[0m\u001b[1m st\u001b[0m ⋯\n",
       "     │\u001b[90m String                   \u001b[0m\u001b[90m Float64  \u001b[0m\u001b[90m Float64    \u001b[0m\u001b[90m Float64             \u001b[0m\u001b[90m Fl\u001b[0m ⋯\n",
       "─────┼──────────────────────────────────────────────────────────────────────────\n",
       "   1 │ Base case, rgain=1.0           0.0         2.0               1500.0     ⋯\n",
       "   2 │ Base case, rgain=2.0           0.0         2.0               1500.0\n",
       "   3 │ Usage penalty, variant 1       0.0         2.0               1500.0\n",
       "   4 │ Usage penalty, variant 2       0.0         2.0               1500.0\n",
       "\u001b[36m                                                               6 columns omitted\u001b[0m"
      ]
     },
     "execution_count": 26,
     "metadata": {},
     "output_type": "execute_result"
    }
   ],
   "source": [
    "df_params"
   ]
  },
  {
   "cell_type": "code",
   "execution_count": 27,
   "id": "c62a6491-78b7-4846-ba82-bb1936281238",
   "metadata": {},
   "outputs": [
    {
     "name": "stdout",
     "output_type": "stream",
     "text": [
      "---\n",
      "Processing case 1 :Base case, rgain=1.0\n",
      "mg prices modifications: sto*=1.0, gen*=1.0, fuel*=2.0\n",
      "mg lifetime modification: cal=15.0 y, cyc=1500.0 c\n",
      "Building stage problem with 365 days...\n",
      "zero load shedding allowed\n",
      "Usage-dependent generator lifetime model (relax_gain=1.0)\n",
      "Xann constraints with z_tan=[0.2, 0.28, 0.37, 0.5, 0.68, 1.0, 1.7, 4.0]\n",
      " 10.727037 seconds (1.65 M allocations: 117.648 MiB, 0.26% gc time)\n",
      "---\n",
      "Processing case 2 :Base case, rgain=2.0\n",
      "mg prices modifications: sto*=1.0, gen*=1.0, fuel*=2.0\n",
      "mg lifetime modification: cal=15.0 y, cyc=1500.0 c\n",
      "Building stage problem with 365 days...\n",
      "zero load shedding allowed\n",
      "Usage-dependent generator lifetime model (relax_gain=2.0)\n",
      "Xann constraints with z_tan=[0.2, 0.28, 0.37, 0.5, 0.68, 1.0, 1.7, 4.0]\n",
      " 11.861367 seconds (1.65 M allocations: 117.648 MiB, 0.32% gc time)\n",
      "---\n",
      "Processing case 3 :Usage penalty, variant 1\n",
      "mg prices modifications: sto*=1.0, gen*=1.0, fuel*=2.0\n",
      "mg lifetime modification: cal=25.0 y, cyc=1500.0 c\n"
     ]
    },
    {
     "ename": "LoadError",
     "evalue": "UndefVarError: `model_change_both_v1` not defined in `Main`\nSuggestion: check for spelling errors or missing imports.",
     "output_type": "error",
     "traceback": [
      "UndefVarError: `model_change_both_v1` not defined in `Main`\nSuggestion: check for spelling errors or missing imports.",
      "",
      "Stacktrace:",
      " [1] top-level scope",
      "   @ ./In[27]:23"
     ]
    }
   ],
   "source": [
    "df_results = df_results_blank()\n",
    "for (i, row) in enumerate(eachrow(df_params))\n",
    "    println(\"---\")\n",
    "    println(\"Processing case \", i, \" :\", row.case)\n",
    "    \n",
    "    create_mg_iter = modify_mg_prices(fuel=row.fuel_price) ∘\n",
    "        modify_mg_lifetimes(cyc=row.sto_lifetime_cycles, cal=row.sto_lifetime_calendar) ∘\n",
    "        create_mg_base\n",
    "\n",
    "    if row.n_ztan == 2 || row.n_ztan == 0\n",
    "        z_tan_iter = []\n",
    "    elseif row.n_ztan == 3\n",
    "        z_tan_iter = [0.50]\n",
    "    elseif row.n_ztan == 5\n",
    "        z_tan_iter = [0.28, 0.5, 1.0]\n",
    "    elseif row.n_ztan == 10\n",
    "        z_tan_iter = [0.20, 0.28, 0.37, 0.50, 0.68, 1.0, 1.7, 4.0]\n",
    "    end\n",
    "\n",
    "    if row.usage_penal == 0\n",
    "        model_custom = nothing\n",
    "    elseif row.usage_penal == 1\n",
    "        model_custom = model_change_both_v1\n",
    "    elseif row.usage_penal == 1\n",
    "        model_custom = model_change_both_v2\n",
    "    end\n",
    "    \n",
    "    topt = @elapsed xopt, lcoe_alg, diagnostics, traj_alg, model_data, mg_opt = optim_mg_jump(optimizer;\n",
    "        row.shed_max,\n",
    "        fixed_lifetimes=row.fixed_lifetimes,\n",
    "        gen_hours_assum = row.gen_hours_assum,\n",
    "        relax_gain = row.relax_gain,\n",
    "        z_tan=z_tan_iter,\n",
    "        create_mg_base = create_mg_iter,\n",
    "        model_custom\n",
    "    )\n",
    "    # recompute exact costs\n",
    "    _, stats, costs_cvx = simulate_alg(mg_opt, model_data,\n",
    "                                       Smoothing(transition=1.0, gain=row.relax_gain))\n",
    "    _, stats, costs_ns  = simulate_alg(mg_opt, model_data,\n",
    "                                       NoSmoothing)\n",
    "\n",
    "    p = (\n",
    "        1000*lcoe_alg, 1000*costs_cvx.lcoe, 1000*costs_ns.lcoe, # LCOEs in €/MWh\n",
    "        diagnostics.storage.cycles,\n",
    "        diagnostics.storage.lifetime_cycles,\n",
    "        diagnostics.generator.hours,\n",
    "        diagnostics.generator.hours_lin,\n",
    "        xopt[1], xopt[2], xopt[3], xopt[4],\n",
    "        topt\n",
    "    )\n",
    "    push!(df_results, p) \n",
    "end"
   ]
  },
  {
   "cell_type": "code",
   "execution_count": 50,
   "id": "1953f688-b50a-4d3c-b08b-68edd5b93ca4",
   "metadata": {},
   "outputs": [
    {
     "data": {
      "text/html": [
       "<div><div style = \"float: left;\"><span>10×12 DataFrame</span></div><div style = \"clear: both;\"></div></div><div class = \"data-frame\" style = \"overflow-x: scroll;\"><table class = \"data-frame\" style = \"margin-bottom: 6px;\"><thead><tr class = \"header\"><th class = \"rowNumber\" style = \"font-weight: bold; text-align: right;\">Row</th><th style = \"text-align: left;\">lcoe_pwl</th><th style = \"text-align: left;\">lcoe_cvx</th><th style = \"text-align: left;\">lcoe_ns</th><th style = \"text-align: left;\">sto_cycles</th><th style = \"text-align: left;\">sto_cycles_lifetime</th><th style = \"text-align: left;\">gen_hours</th><th style = \"text-align: left;\">gen_hours_lin</th><th style = \"text-align: left;\">xopt_gen</th><th style = \"text-align: left;\">xopt_sto</th><th style = \"text-align: left;\">xopt_pv</th><th style = \"text-align: left;\">xopt_wind</th><th style = \"text-align: left;\">topt</th></tr><tr class = \"subheader headerLastRow\"><th class = \"rowNumber\" style = \"font-weight: bold; text-align: right;\"></th><th title = \"Float64\" style = \"text-align: left;\">Float64</th><th title = \"Float64\" style = \"text-align: left;\">Float64</th><th title = \"Float64\" style = \"text-align: left;\">Float64</th><th title = \"Float64\" style = \"text-align: left;\">Float64</th><th title = \"Float64\" style = \"text-align: left;\">Float64</th><th title = \"Float64\" style = \"text-align: left;\">Float64</th><th title = \"Float64\" style = \"text-align: left;\">Float64</th><th title = \"Float64\" style = \"text-align: left;\">Float64</th><th title = \"Float64\" style = \"text-align: left;\">Float64</th><th title = \"Float64\" style = \"text-align: left;\">Float64</th><th title = \"Float64\" style = \"text-align: left;\">Float64</th><th title = \"Float64\" style = \"text-align: left;\">Float64</th></tr></thead><tbody><tr><td class = \"rowNumber\" style = \"font-weight: bold; text-align: right;\">1</td><td style = \"text-align: right;\">243.024</td><td style = \"text-align: right;\">243.056</td><td style = \"text-align: right;\">252.907</td><td style = \"text-align: right;\">147.761</td><td style = \"text-align: right;\">10.1515</td><td style = \"text-align: right;\">2090.0</td><td style = \"text-align: right;\">914.628</td><td style = \"text-align: right;\">1215.98</td><td style = \"text-align: right;\">4987.93</td><td style = \"text-align: right;\">2132.0</td><td style = \"text-align: right;\">1575.9</td><td style = \"text-align: right;\">24.9852</td></tr><tr><td class = \"rowNumber\" style = \"font-weight: bold; text-align: right;\">2</td><td style = \"text-align: right;\">250.239</td><td style = \"text-align: right;\">250.26</td><td style = \"text-align: right;\">252.218</td><td style = \"text-align: right;\">140.357</td><td style = \"text-align: right;\">10.6871</td><td style = \"text-align: right;\">1809.0</td><td style = \"text-align: right;\">1583.71</td><td style = \"text-align: right;\">1255.46</td><td style = \"text-align: right;\">5837.33</td><td style = \"text-align: right;\">2329.52</td><td style = \"text-align: right;\">1596.12</td><td style = \"text-align: right;\">23.7721</td></tr><tr><td class = \"rowNumber\" style = \"font-weight: bold; text-align: right;\">3</td><td style = \"text-align: right;\">249.423</td><td style = \"text-align: right;\">250.284</td><td style = \"text-align: right;\">251.948</td><td style = \"text-align: right;\">136.478</td><td style = \"text-align: right;\">10.9908</td><td style = \"text-align: right;\">1736.0</td><td style = \"text-align: right;\">1542.98</td><td style = \"text-align: right;\">1246.01</td><td style = \"text-align: right;\">6231.3</td><td style = \"text-align: right;\">2371.4</td><td style = \"text-align: right;\">1594.56</td><td style = \"text-align: right;\">22.8301</td></tr><tr><td class = \"rowNumber\" style = \"font-weight: bold; text-align: right;\">4</td><td style = \"text-align: right;\">249.423</td><td style = \"text-align: right;\">250.284</td><td style = \"text-align: right;\">251.888</td><td style = \"text-align: right;\">136.478</td><td style = \"text-align: right;\">10.9908</td><td style = \"text-align: right;\">1729.0</td><td style = \"text-align: right;\">1542.98</td><td style = \"text-align: right;\">1246.01</td><td style = \"text-align: right;\">6231.3</td><td style = \"text-align: right;\">2371.4</td><td style = \"text-align: right;\">1594.56</td><td style = \"text-align: right;\">26.4154</td></tr><tr><td class = \"rowNumber\" style = \"font-weight: bold; text-align: right;\">5</td><td style = \"text-align: right;\">249.601</td><td style = \"text-align: right;\">250.268</td><td style = \"text-align: right;\">252.148</td><td style = \"text-align: right;\">140.747</td><td style = \"text-align: right;\">10.6575</td><td style = \"text-align: right;\">1788.0</td><td style = \"text-align: right;\">1571.41</td><td style = \"text-align: right;\">1254.02</td><td style = \"text-align: right;\">5899.52</td><td style = \"text-align: right;\">2368.49</td><td style = \"text-align: right;\">1588.12</td><td style = \"text-align: right;\">21.2515</td></tr><tr><td class = \"rowNumber\" style = \"font-weight: bold; text-align: right;\">6</td><td style = \"text-align: right;\">252.019</td><td style = \"text-align: right;\">252.048</td><td style = \"text-align: right;\">252.048</td><td style = \"text-align: right;\">138.456</td><td style = \"text-align: right;\">10.8338</td><td style = \"text-align: right;\">1746.0</td><td style = \"text-align: right;\">1746.0</td><td style = \"text-align: right;\">1250.18</td><td style = \"text-align: right;\">6046.1</td><td style = \"text-align: right;\">2378.02</td><td style = \"text-align: right;\">1608.66</td><td style = \"text-align: right;\">20.9618</td></tr><tr><td class = \"rowNumber\" style = \"font-weight: bold; text-align: right;\">7</td><td style = \"text-align: right;\">248.752</td><td style = \"text-align: right;\">NaN</td><td style = \"text-align: right;\">256.195</td><td style = \"text-align: right;\">177.713</td><td style = \"text-align: right;\">8.44059</td><td style = \"text-align: right;\">2495.0</td><td style = \"text-align: right;\">NaN</td><td style = \"text-align: right;\">1186.38</td><td style = \"text-align: right;\">3495.25</td><td style = \"text-align: right;\">2198.19</td><td style = \"text-align: right;\">1484.49</td><td style = \"text-align: right;\">12.5358</td></tr><tr><td class = \"rowNumber\" style = \"font-weight: bold; text-align: right;\">8</td><td style = \"text-align: right;\">245.986</td><td style = \"text-align: right;\">NaN</td><td style = \"text-align: right;\">255.241</td><td style = \"text-align: right;\">173.794</td><td style = \"text-align: right;\">8.63088</td><td style = \"text-align: right;\">2403.0</td><td style = \"text-align: right;\">NaN</td><td style = \"text-align: right;\">1169.67</td><td style = \"text-align: right;\">3823.28</td><td style = \"text-align: right;\">2265.84</td><td style = \"text-align: right;\">1479.32</td><td style = \"text-align: right;\">8.99209</td></tr><tr><td class = \"rowNumber\" style = \"font-weight: bold; text-align: right;\">9</td><td style = \"text-align: right;\">241.537</td><td style = \"text-align: right;\">NaN</td><td style = \"text-align: right;\">253.072</td><td style = \"text-align: right;\">166.518</td><td style = \"text-align: right;\">9.00806</td><td style = \"text-align: right;\">2060.0</td><td style = \"text-align: right;\">NaN</td><td style = \"text-align: right;\">1128.94</td><td style = \"text-align: right;\">4840.53</td><td style = \"text-align: right;\">2589.11</td><td style = \"text-align: right;\">1452.15</td><td style = \"text-align: right;\">11.453</td></tr><tr><td class = \"rowNumber\" style = \"font-weight: bold; text-align: right;\">10</td><td style = \"text-align: right;\">259.502</td><td style = \"text-align: right;\">NaN</td><td style = \"text-align: right;\">259.502</td><td style = \"text-align: right;\">190.421</td><td style = \"text-align: right;\">7.87729</td><td style = \"text-align: right;\">2760.0</td><td style = \"text-align: right;\">NaN</td><td style = \"text-align: right;\">1227.37</td><td style = \"text-align: right;\">2705.76</td><td style = \"text-align: right;\">2072.78</td><td style = \"text-align: right;\">1477.07</td><td style = \"text-align: right;\">9.64548</td></tr></tbody></table></div>"
      ],
      "text/latex": [
       "\\begin{tabular}{r|cccccccc}\n",
       "\t& lcoe\\_pwl & lcoe\\_cvx & lcoe\\_ns & sto\\_cycles & sto\\_cycles\\_lifetime & gen\\_hours & gen\\_hours\\_lin & \\\\\n",
       "\t\\hline\n",
       "\t& Float64 & Float64 & Float64 & Float64 & Float64 & Float64 & Float64 & \\\\\n",
       "\t\\hline\n",
       "\t1 & 243.024 & 243.056 & 252.907 & 147.761 & 10.1515 & 2090.0 & 914.628 & $\\dots$ \\\\\n",
       "\t2 & 250.239 & 250.26 & 252.218 & 140.357 & 10.6871 & 1809.0 & 1583.71 & $\\dots$ \\\\\n",
       "\t3 & 249.423 & 250.284 & 251.948 & 136.478 & 10.9908 & 1736.0 & 1542.98 & $\\dots$ \\\\\n",
       "\t4 & 249.423 & 250.284 & 251.888 & 136.478 & 10.9908 & 1729.0 & 1542.98 & $\\dots$ \\\\\n",
       "\t5 & 249.601 & 250.268 & 252.148 & 140.747 & 10.6575 & 1788.0 & 1571.41 & $\\dots$ \\\\\n",
       "\t6 & 252.019 & 252.048 & 252.048 & 138.456 & 10.8338 & 1746.0 & 1746.0 & $\\dots$ \\\\\n",
       "\t7 & 248.752 & NaN & 256.195 & 177.713 & 8.44059 & 2495.0 & NaN & $\\dots$ \\\\\n",
       "\t8 & 245.986 & NaN & 255.241 & 173.794 & 8.63088 & 2403.0 & NaN & $\\dots$ \\\\\n",
       "\t9 & 241.537 & NaN & 253.072 & 166.518 & 9.00806 & 2060.0 & NaN & $\\dots$ \\\\\n",
       "\t10 & 259.502 & NaN & 259.502 & 190.421 & 7.87729 & 2760.0 & NaN & $\\dots$ \\\\\n",
       "\\end{tabular}\n"
      ],
      "text/plain": [
       "\u001b[1m10×12 DataFrame\u001b[0m\n",
       "\u001b[1m Row \u001b[0m│\u001b[1m lcoe_pwl \u001b[0m\u001b[1m lcoe_cvx \u001b[0m\u001b[1m lcoe_ns \u001b[0m\u001b[1m sto_cycles \u001b[0m\u001b[1m sto_cycles_lifetime \u001b[0m\u001b[1m gen_hours\u001b[0m ⋯\n",
       "     │\u001b[90m Float64  \u001b[0m\u001b[90m Float64  \u001b[0m\u001b[90m Float64 \u001b[0m\u001b[90m Float64    \u001b[0m\u001b[90m Float64             \u001b[0m\u001b[90m Float64  \u001b[0m ⋯\n",
       "─────┼──────────────────────────────────────────────────────────────────────────\n",
       "   1 │  243.024   243.056  252.907     147.761             10.1515      2090.0 ⋯\n",
       "   2 │  250.239   250.26   252.218     140.357             10.6871      1809.0\n",
       "   3 │  249.423   250.284  251.948     136.478             10.9908      1736.0\n",
       "   4 │  249.423   250.284  251.888     136.478             10.9908      1729.0\n",
       "   5 │  249.601   250.268  252.148     140.747             10.6575      1788.0 ⋯\n",
       "   6 │  252.019   252.048  252.048     138.456             10.8338      1746.0\n",
       "   7 │  248.752   NaN      256.195     177.713              8.44059     2495.0\n",
       "   8 │  245.986   NaN      255.241     173.794              8.63088     2403.0\n",
       "   9 │  241.537   NaN      253.072     166.518              9.00806     2060.0 ⋯\n",
       "  10 │  259.502   NaN      259.502     190.421              7.87729     2760.0\n",
       "\u001b[36m                                                               6 columns omitted\u001b[0m"
      ]
     },
     "execution_count": 50,
     "metadata": {},
     "output_type": "execute_result"
    }
   ],
   "source": [
    "df_results"
   ]
  },
  {
   "cell_type": "code",
   "execution_count": 51,
   "id": "f7b3d3a0-a06f-42e0-9900-b2bdf23947d0",
   "metadata": {},
   "outputs": [
    {
     "data": {
      "text/html": [
       "<div><div style = \"float: left;\"><span>10×21 DataFrame</span></div><div style = \"clear: both;\"></div></div><div class = \"data-frame\" style = \"overflow-x: scroll;\"><table class = \"data-frame\" style = \"margin-bottom: 6px;\"><thead><tr class = \"header\"><th class = \"rowNumber\" style = \"font-weight: bold; text-align: right;\">Row</th><th style = \"text-align: left;\">case</th><th style = \"text-align: left;\">shed_max</th><th style = \"text-align: left;\">fuel_price</th><th style = \"text-align: left;\">sto_lifetime_cycles</th><th style = \"text-align: left;\">sto_lifetime_calendar</th><th style = \"text-align: left;\">fixed_lifetimes</th><th style = \"text-align: left;\">gen_hours_assum</th><th style = \"text-align: left;\">n_ztan</th><th style = \"text-align: left;\">relax_gain</th><th style = \"text-align: left;\">lcoe_pwl</th><th style = \"text-align: left;\">lcoe_cvx</th><th style = \"text-align: left;\">lcoe_ns</th><th style = \"text-align: left;\">sto_cycles</th><th style = \"text-align: left;\">sto_cycles_lifetime</th><th style = \"text-align: left;\">gen_hours</th><th style = \"text-align: left;\">gen_hours_lin</th><th style = \"text-align: left;\">xopt_gen</th><th style = \"text-align: left;\">xopt_sto</th><th style = \"text-align: left;\">xopt_pv</th><th style = \"text-align: left;\">xopt_wind</th><th style = \"text-align: left;\">topt</th></tr><tr class = \"subheader headerLastRow\"><th class = \"rowNumber\" style = \"font-weight: bold; text-align: right;\"></th><th title = \"String\" style = \"text-align: left;\">String</th><th title = \"Float64\" style = \"text-align: left;\">Float64</th><th title = \"Float64\" style = \"text-align: left;\">Float64</th><th title = \"Float64\" style = \"text-align: left;\">Float64</th><th title = \"Float64\" style = \"text-align: left;\">Float64</th><th title = \"Bool\" style = \"text-align: left;\">Bool</th><th title = \"Float64\" style = \"text-align: left;\">Float64</th><th title = \"Int64\" style = \"text-align: left;\">Int64</th><th title = \"Float64\" style = \"text-align: left;\">Float64</th><th title = \"Float64\" style = \"text-align: left;\">Float64</th><th title = \"Float64\" style = \"text-align: left;\">Float64</th><th title = \"Float64\" style = \"text-align: left;\">Float64</th><th title = \"Float64\" style = \"text-align: left;\">Float64</th><th title = \"Float64\" style = \"text-align: left;\">Float64</th><th title = \"Float64\" style = \"text-align: left;\">Float64</th><th title = \"Float64\" style = \"text-align: left;\">Float64</th><th title = \"Float64\" style = \"text-align: left;\">Float64</th><th title = \"Float64\" style = \"text-align: left;\">Float64</th><th title = \"Float64\" style = \"text-align: left;\">Float64</th><th title = \"Float64\" style = \"text-align: left;\">Float64</th><th title = \"Float64\" style = \"text-align: left;\">Float64</th></tr></thead><tbody><tr><td class = \"rowNumber\" style = \"font-weight: bold; text-align: right;\">1</td><td style = \"text-align: left;\">Base case, rgain=1</td><td style = \"text-align: right;\">0.0</td><td style = \"text-align: right;\">2.0</td><td style = \"text-align: right;\">1500.0</td><td style = \"text-align: right;\">15.0</td><td style = \"text-align: right;\">false</td><td style = \"text-align: right;\">NaN</td><td style = \"text-align: right;\">10</td><td style = \"text-align: right;\">1.0</td><td style = \"text-align: right;\">243.024</td><td style = \"text-align: right;\">243.056</td><td style = \"text-align: right;\">252.907</td><td style = \"text-align: right;\">147.761</td><td style = \"text-align: right;\">10.1515</td><td style = \"text-align: right;\">2090.0</td><td style = \"text-align: right;\">914.628</td><td style = \"text-align: right;\">1215.98</td><td style = \"text-align: right;\">4987.93</td><td style = \"text-align: right;\">2132.0</td><td style = \"text-align: right;\">1575.9</td><td style = \"text-align: right;\">24.9852</td></tr><tr><td class = \"rowNumber\" style = \"font-weight: bold; text-align: right;\">2</td><td style = \"text-align: left;\">Base case, rgain=2</td><td style = \"text-align: right;\">0.0</td><td style = \"text-align: right;\">2.0</td><td style = \"text-align: right;\">1500.0</td><td style = \"text-align: right;\">15.0</td><td style = \"text-align: right;\">false</td><td style = \"text-align: right;\">NaN</td><td style = \"text-align: right;\">10</td><td style = \"text-align: right;\">2.0</td><td style = \"text-align: right;\">250.239</td><td style = \"text-align: right;\">250.26</td><td style = \"text-align: right;\">252.218</td><td style = \"text-align: right;\">140.357</td><td style = \"text-align: right;\">10.6871</td><td style = \"text-align: right;\">1809.0</td><td style = \"text-align: right;\">1583.71</td><td style = \"text-align: right;\">1255.46</td><td style = \"text-align: right;\">5837.33</td><td style = \"text-align: right;\">2329.52</td><td style = \"text-align: right;\">1596.12</td><td style = \"text-align: right;\">23.7721</td></tr><tr><td class = \"rowNumber\" style = \"font-weight: bold; text-align: right;\">3</td><td style = \"text-align: left;\">Less tangents, n_ztan=2</td><td style = \"text-align: right;\">0.0</td><td style = \"text-align: right;\">2.0</td><td style = \"text-align: right;\">1500.0</td><td style = \"text-align: right;\">15.0</td><td style = \"text-align: right;\">false</td><td style = \"text-align: right;\">NaN</td><td style = \"text-align: right;\">2</td><td style = \"text-align: right;\">2.0</td><td style = \"text-align: right;\">249.423</td><td style = \"text-align: right;\">250.284</td><td style = \"text-align: right;\">251.948</td><td style = \"text-align: right;\">136.478</td><td style = \"text-align: right;\">10.9908</td><td style = \"text-align: right;\">1736.0</td><td style = \"text-align: right;\">1542.98</td><td style = \"text-align: right;\">1246.01</td><td style = \"text-align: right;\">6231.3</td><td style = \"text-align: right;\">2371.4</td><td style = \"text-align: right;\">1594.56</td><td style = \"text-align: right;\">22.8301</td></tr><tr><td class = \"rowNumber\" style = \"font-weight: bold; text-align: right;\">4</td><td style = \"text-align: left;\">Less tangents, n_ztan=3</td><td style = \"text-align: right;\">0.0</td><td style = \"text-align: right;\">2.0</td><td style = \"text-align: right;\">1500.0</td><td style = \"text-align: right;\">15.0</td><td style = \"text-align: right;\">false</td><td style = \"text-align: right;\">NaN</td><td style = \"text-align: right;\">3</td><td style = \"text-align: right;\">2.0</td><td style = \"text-align: right;\">249.423</td><td style = \"text-align: right;\">250.284</td><td style = \"text-align: right;\">251.888</td><td style = \"text-align: right;\">136.478</td><td style = \"text-align: right;\">10.9908</td><td style = \"text-align: right;\">1729.0</td><td style = \"text-align: right;\">1542.98</td><td style = \"text-align: right;\">1246.01</td><td style = \"text-align: right;\">6231.3</td><td style = \"text-align: right;\">2371.4</td><td style = \"text-align: right;\">1594.56</td><td style = \"text-align: right;\">26.4154</td></tr><tr><td class = \"rowNumber\" style = \"font-weight: bold; text-align: right;\">5</td><td style = \"text-align: left;\">Less tangents, n_ztan=5</td><td style = \"text-align: right;\">0.0</td><td style = \"text-align: right;\">2.0</td><td style = \"text-align: right;\">1500.0</td><td style = \"text-align: right;\">15.0</td><td style = \"text-align: right;\">false</td><td style = \"text-align: right;\">NaN</td><td style = \"text-align: right;\">5</td><td style = \"text-align: right;\">2.0</td><td style = \"text-align: right;\">249.601</td><td style = \"text-align: right;\">250.268</td><td style = \"text-align: right;\">252.148</td><td style = \"text-align: right;\">140.747</td><td style = \"text-align: right;\">10.6575</td><td style = \"text-align: right;\">1788.0</td><td style = \"text-align: right;\">1571.41</td><td style = \"text-align: right;\">1254.02</td><td style = \"text-align: right;\">5899.52</td><td style = \"text-align: right;\">2368.49</td><td style = \"text-align: right;\">1588.12</td><td style = \"text-align: right;\">21.2515</td></tr><tr><td class = \"rowNumber\" style = \"font-weight: bold; text-align: right;\">6</td><td style = \"text-align: left;\">Relax gain convergence</td><td style = \"text-align: right;\">0.0</td><td style = \"text-align: right;\">2.0</td><td style = \"text-align: right;\">1500.0</td><td style = \"text-align: right;\">15.0</td><td style = \"text-align: right;\">false</td><td style = \"text-align: right;\">NaN</td><td style = \"text-align: right;\">10</td><td style = \"text-align: right;\">2.26598</td><td style = \"text-align: right;\">252.019</td><td style = \"text-align: right;\">252.048</td><td style = \"text-align: right;\">252.048</td><td style = \"text-align: right;\">138.456</td><td style = \"text-align: right;\">10.8338</td><td style = \"text-align: right;\">1746.0</td><td style = \"text-align: right;\">1746.0</td><td style = \"text-align: right;\">1250.18</td><td style = \"text-align: right;\">6046.1</td><td style = \"text-align: right;\">2378.02</td><td style = \"text-align: right;\">1608.66</td><td style = \"text-align: right;\">20.9618</td></tr><tr><td class = \"rowNumber\" style = \"font-weight: bold; text-align: right;\">7</td><td style = \"text-align: left;\">Fixed lifetime, rough &amp; reasonable</td><td style = \"text-align: right;\">0.0</td><td style = \"text-align: right;\">2.0</td><td style = \"text-align: right;\">1500.0</td><td style = \"text-align: right;\">10.0</td><td style = \"text-align: right;\">true</td><td style = \"text-align: right;\">2000.0</td><td style = \"text-align: right;\">0</td><td style = \"text-align: right;\">NaN</td><td style = \"text-align: right;\">248.752</td><td style = \"text-align: right;\">NaN</td><td style = \"text-align: right;\">256.195</td><td style = \"text-align: right;\">177.713</td><td style = \"text-align: right;\">8.44059</td><td style = \"text-align: right;\">2495.0</td><td style = \"text-align: right;\">NaN</td><td style = \"text-align: right;\">1186.38</td><td style = \"text-align: right;\">3495.25</td><td style = \"text-align: right;\">2198.19</td><td style = \"text-align: right;\">1484.49</td><td style = \"text-align: right;\">12.5358</td></tr><tr><td class = \"rowNumber\" style = \"font-weight: bold; text-align: right;\">8</td><td style = \"text-align: left;\">Fixed lifetime, matching rgain=2</td><td style = \"text-align: right;\">0.0</td><td style = \"text-align: right;\">2.0</td><td style = \"text-align: right;\">1500.0</td><td style = \"text-align: right;\">10.687</td><td style = \"text-align: right;\">true</td><td style = \"text-align: right;\">1809.0</td><td style = \"text-align: right;\">0</td><td style = \"text-align: right;\">NaN</td><td style = \"text-align: right;\">245.986</td><td style = \"text-align: right;\">NaN</td><td style = \"text-align: right;\">255.241</td><td style = \"text-align: right;\">173.794</td><td style = \"text-align: right;\">8.63088</td><td style = \"text-align: right;\">2403.0</td><td style = \"text-align: right;\">NaN</td><td style = \"text-align: right;\">1169.67</td><td style = \"text-align: right;\">3823.28</td><td style = \"text-align: right;\">2265.84</td><td style = \"text-align: right;\">1479.32</td><td style = \"text-align: right;\">8.99209</td></tr><tr><td class = \"rowNumber\" style = \"font-weight: bold; text-align: right;\">9</td><td style = \"text-align: left;\">Fixed lifetime, optimistic 15y</td><td style = \"text-align: right;\">0.0</td><td style = \"text-align: right;\">2.0</td><td style = \"text-align: right;\">1500.0</td><td style = \"text-align: right;\">15.0</td><td style = \"text-align: right;\">true</td><td style = \"text-align: right;\">2000.0</td><td style = \"text-align: right;\">0</td><td style = \"text-align: right;\">NaN</td><td style = \"text-align: right;\">241.537</td><td style = \"text-align: right;\">NaN</td><td style = \"text-align: right;\">253.072</td><td style = \"text-align: right;\">166.518</td><td style = \"text-align: right;\">9.00806</td><td style = \"text-align: right;\">2060.0</td><td style = \"text-align: right;\">NaN</td><td style = \"text-align: right;\">1128.94</td><td style = \"text-align: right;\">4840.53</td><td style = \"text-align: right;\">2589.11</td><td style = \"text-align: right;\">1452.15</td><td style = \"text-align: right;\">11.453</td></tr><tr><td class = \"rowNumber\" style = \"font-weight: bold; text-align: right;\">10</td><td style = \"text-align: left;\">Fixed lifetime, convergence</td><td style = \"text-align: right;\">0.0</td><td style = \"text-align: right;\">2.0</td><td style = \"text-align: right;\">1500.0</td><td style = \"text-align: right;\">7.877</td><td style = \"text-align: right;\">true</td><td style = \"text-align: right;\">2760.0</td><td style = \"text-align: right;\">0</td><td style = \"text-align: right;\">NaN</td><td style = \"text-align: right;\">259.502</td><td style = \"text-align: right;\">NaN</td><td style = \"text-align: right;\">259.502</td><td style = \"text-align: right;\">190.421</td><td style = \"text-align: right;\">7.87729</td><td style = \"text-align: right;\">2760.0</td><td style = \"text-align: right;\">NaN</td><td style = \"text-align: right;\">1227.37</td><td style = \"text-align: right;\">2705.76</td><td style = \"text-align: right;\">2072.78</td><td style = \"text-align: right;\">1477.07</td><td style = \"text-align: right;\">9.64548</td></tr></tbody></table></div>"
      ],
      "text/latex": [
       "\\begin{tabular}{r|cccccc}\n",
       "\t& case & shed\\_max & fuel\\_price & sto\\_lifetime\\_cycles & sto\\_lifetime\\_calendar & \\\\\n",
       "\t\\hline\n",
       "\t& String & Float64 & Float64 & Float64 & Float64 & \\\\\n",
       "\t\\hline\n",
       "\t1 & Base case, rgain=1 & 0.0 & 2.0 & 1500.0 & 15.0 & $\\dots$ \\\\\n",
       "\t2 & Base case, rgain=2 & 0.0 & 2.0 & 1500.0 & 15.0 & $\\dots$ \\\\\n",
       "\t3 & Less tangents, n\\_ztan=2 & 0.0 & 2.0 & 1500.0 & 15.0 & $\\dots$ \\\\\n",
       "\t4 & Less tangents, n\\_ztan=3 & 0.0 & 2.0 & 1500.0 & 15.0 & $\\dots$ \\\\\n",
       "\t5 & Less tangents, n\\_ztan=5 & 0.0 & 2.0 & 1500.0 & 15.0 & $\\dots$ \\\\\n",
       "\t6 & Relax gain convergence & 0.0 & 2.0 & 1500.0 & 15.0 & $\\dots$ \\\\\n",
       "\t7 & Fixed lifetime, rough \\& reasonable & 0.0 & 2.0 & 1500.0 & 10.0 & $\\dots$ \\\\\n",
       "\t8 & Fixed lifetime, matching rgain=2 & 0.0 & 2.0 & 1500.0 & 10.687 & $\\dots$ \\\\\n",
       "\t9 & Fixed lifetime, optimistic 15y & 0.0 & 2.0 & 1500.0 & 15.0 & $\\dots$ \\\\\n",
       "\t10 & Fixed lifetime, convergence & 0.0 & 2.0 & 1500.0 & 7.877 & $\\dots$ \\\\\n",
       "\\end{tabular}\n"
      ],
      "text/plain": [
       "\u001b[1m10×21 DataFrame\u001b[0m\n",
       "\u001b[1m Row \u001b[0m│\u001b[1m case                              \u001b[0m\u001b[1m shed_max \u001b[0m\u001b[1m fuel_price \u001b[0m\u001b[1m sto_lifetime_c\u001b[0m ⋯\n",
       "     │\u001b[90m String                            \u001b[0m\u001b[90m Float64  \u001b[0m\u001b[90m Float64    \u001b[0m\u001b[90m Float64       \u001b[0m ⋯\n",
       "─────┼──────────────────────────────────────────────────────────────────────────\n",
       "   1 │ Base case, rgain=1                      0.0         2.0               1 ⋯\n",
       "   2 │ Base case, rgain=2                      0.0         2.0               1\n",
       "   3 │ Less tangents, n_ztan=2                 0.0         2.0               1\n",
       "   4 │ Less tangents, n_ztan=3                 0.0         2.0               1\n",
       "   5 │ Less tangents, n_ztan=5                 0.0         2.0               1 ⋯\n",
       "   6 │ Relax gain convergence                  0.0         2.0               1\n",
       "   7 │ Fixed lifetime, rough & reasonab…       0.0         2.0               1\n",
       "   8 │ Fixed lifetime, matching rgain=2        0.0         2.0               1\n",
       "   9 │ Fixed lifetime, optimistic 15y          0.0         2.0               1 ⋯\n",
       "  10 │ Fixed lifetime, convergence             0.0         2.0               1\n",
       "\u001b[36m                                                              18 columns omitted\u001b[0m"
      ]
     },
     "execution_count": 51,
     "metadata": {},
     "output_type": "execute_result"
    }
   ],
   "source": [
    "df = hcat(df_params, df_results)"
   ]
  },
  {
   "cell_type": "markdown",
   "id": "26b6837c-7b4b-4209-8e25-cb9227a801c2",
   "metadata": {},
   "source": [
    "Save experiments in CSV table"
   ]
  },
  {
   "cell_type": "code",
   "execution_count": 52,
   "id": "ca9d3fd9-6a30-42c3-9448-2b387f048892",
   "metadata": {},
   "outputs": [
    {
     "data": {
      "text/plain": [
       "\"cvx_article_experiments.csv\""
      ]
     },
     "execution_count": 52,
     "metadata": {},
     "output_type": "execute_result"
    }
   ],
   "source": [
    "CSV.write(\"cvx_article_experiments.csv\", df)"
   ]
  },
  {
   "cell_type": "markdown",
   "id": "ce21e792-82cf-49ee-816b-663240c61282",
   "metadata": {},
   "source": [
    "### Observations:\n",
    "\n",
    "- Oddity when comparing `n_ztan` = 2 vs 3: same sizing, same PWL and CVX LCOE, but different Nonsmooth LCOE: reason is the dispatch is different (almost same cumulated energy, up to a few hours of shifting, but different cumulated hours, with burst of 1-2 extra hours for the `n_ztan=2` (with no specific reason), which adds up to 7 extra gen hours at the end."
   ]
  },
  {
   "cell_type": "markdown",
   "id": "91f40db6-2058-4d48-8b36-247e5325c3ce",
   "metadata": {},
   "source": [
    "#### Generator dispatch diagnostic (needs dedicated runs of the base optim)"
   ]
  },
  {
   "cell_type": "code",
   "execution_count": 100,
   "id": "7b349a8d-2829-45b1-a31c-a23cec0a7231",
   "metadata": {},
   "outputs": [
    {
     "data": {
      "image/png": "[encoded data removed]",
      "text/plain": [
       "Figure(PyObject <Figure size 640x480 with 4 Axes>)"
      ]
     },
     "metadata": {},
     "output_type": "display_data"
    }
   ],
   "source": [
    "#Pgen_nz2 = value.(model_data[\"Pgen\"]), captured from run with z_tan=[]\n",
    "#Pgen_nz3 = value.(model_data[\"Pgen\"]), captured from run with z_tan=[0.50]\n",
    "fig, ax = subplots(4,1, sharex=true)\n",
    "ax[1].set_title(\"Comparing generator dispatch with n_ztan = 2 vs 3:\\n1736 vs 1729 gen hours\");\n",
    "ax[1].plot(Pgen_nz2)\n",
    "ax[1].plot(Pgen_nz3)\n",
    "\n",
    "ax[2].set_title(\"Power difference (nz2-nz3)\")\n",
    "ax[2].plot(Pgen_nz2 .- Pgen_nz3)\n",
    "\n",
    "ax[3].set_title(\"Cumulated energy difference (nz2-nz3)\")\n",
    "ax[3].plot(cumsum(Pgen_nz2) .- cumsum(Pgen_nz3))\n",
    "\n",
    "ax[4].set_title(\"Cumulated hours difference (nz2-nz3)\")\n",
    "ax[4].plot(cumsum(Pgen_nz2 .> 1e-6*1246) .- cumsum(Pgen_nz3 .> 1e-6*1246)) # Cumulated hours difference\n",
    "\n",
    "for axi in ax\n",
    "    axi.grid(true)\n",
    "end\n",
    "fig.tight_layout()"
   ]
  }
 ],
 "metadata": {
  "kernelspec": {
   "display_name": "Julia 1.11.1",
   "language": "julia",
   "name": "julia-1.11"
  },
  "language_info": {
   "file_extension": ".jl",
   "mimetype": "application/julia",
   "name": "julia",
   "version": "1.11.1"
  }
 },
 "nbformat": 4,
 "nbformat_minor": 5
}
