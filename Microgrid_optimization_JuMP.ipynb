{
 "cells": [
  {
   "cell_type": "markdown",
   "id": "b14f854f-51e9-4253-8946-d7ca39628ed0",
   "metadata": {},
   "source": [
    "# Microgrid optimization with an algebraic approach using JuMP\n",
    "\n",
    "\n",
    "An experiment which derives from the **Microgrid sizing optimization** notebook example in `../Microgrids.jl/examples/`. However, instead of doing a sizing optimization using a blackbox approach which calls the Microgrid simulator, here we use an algebraic description of the problem (using JuMP) and we run an \"all-in-one\" optimization of both the sizing and the energy flows at each instant.\n",
    "\n",
    "Caveat: this yields an anticipative energy management.\n",
    "\n",
    "PH, oct 2023"
   ]
  },
  {
   "cell_type": "code",
   "execution_count": 1,
   "id": "c2f04250-290c-4c38-93e6-074702ec0700",
   "metadata": {},
   "outputs": [
    {
     "name": "stderr",
     "output_type": "stream",
     "text": [
      "\u001b[36m\u001b[1m[ \u001b[22m\u001b[39m\u001b[36m\u001b[1mInfo: \u001b[22m\u001b[39mPrecompiling Microgrids [bd581358-d3fa-499e-a26e-e70307242c03]\n"
     ]
    }
   ],
   "source": [
    "using Microgrids\n",
    "using JuMP\n",
    "using HiGHS # Linear Programming solver\n",
    "using Printf # pretty print results\n",
    "#using Random, Statistics\n",
    "#using CSV, DataFrames\n",
    "using PyPlot"
   ]
  },
  {
   "cell_type": "markdown",
   "id": "5e20bad8-81a3-4a6b-8c1e-6848a20c0d55",
   "metadata": {},
   "source": [
    "## Load Microgrid project data\n",
    "\n",
    "Loading parameters and time series for a Microgrid project with *wind* and *solar* sources, plus a *battery* and a *dispatchable generator*. \n",
    "Values gathered from the Microgrid_Wind-Solar.ipynb example notebook."
   ]
  },
  {
   "cell_type": "code",
   "execution_count": 3,
   "id": "a078bb9d-37a9-45f0-bb00-4404a44dcb30",
   "metadata": {},
   "outputs": [
    {
     "name": "stdout",
     "output_type": "stream",
     "text": [
      "Data definition for Microgrid with wind, solar, storage and generator...\n"
     ]
    }
   ],
   "source": [
    "include(\"../../Microgrids.jl/examples/Microgrid_Wind-Solar_data.jl\");"
   ]
  },
  {
   "cell_type": "code",
   "execution_count": 34,
   "id": "b1b119b9-0e9c-447d-b708-ef64e11b0d0d",
   "metadata": {},
   "outputs": [
    {
     "data": {
      "text/plain": [
       "create_microgrid (generic function with 2 methods)"
      ]
     },
     "execution_count": 34,
     "metadata": {},
     "output_type": "execute_result"
    }
   ],
   "source": [
    "\"\"\"Create a Microgrid project description of size `x`\n",
    "with x=[power_rated_gen, energy_rated_sto, power_rated_pv, power_rated_wind] in kW.\n",
    "\n",
    "if x is omitted, x=[1,1,...] is used\n",
    "\"\"\"\n",
    "function create_microgrid(x)\n",
    "    project = Project(lifetime, discount_rate, timestep, \"€\")\n",
    "    # Split decision variables (converted MW → kW):\n",
    "    power_rated_gen = x[1]\n",
    "    energy_rated_sto = x[2]\n",
    "    power_rated_pv = x[3]\n",
    "    power_rated_wind = x[4]\n",
    "    # Create components\n",
    "    gen = DispatchableGenerator(power_rated_gen,\n",
    "        fuel_intercept, fuel_slope, fuel_price,\n",
    "        investment_price_gen, om_price_gen, lifetime_gen,\n",
    "        load_ratio_min,\n",
    "        replacement_price_ratio, salvage_price_ratio, fuel_unit)\n",
    "    batt = Battery(energy_rated_sto,\n",
    "        investment_price_sto, om_price_sto, lifetime_sto, lifetime_cycles,\n",
    "        charge_rate, discharge_rate, loss_factor_sto, SoC_min, SoC_ini,\n",
    "        replacement_price_ratio, salvage_price_ratio)\n",
    "    pv = Photovoltaic(power_rated_pv, irradiance,\n",
    "        investment_price_pv, om_price_pv,\n",
    "        lifetime_pv, derating_factor_pv,\n",
    "        replacement_price_ratio, salvage_price_ratio)\n",
    "    windgen = WindPower(power_rated_wind, cf_wind,\n",
    "        investment_price_wind, om_price_wind,\n",
    "        lifetime_wind,\n",
    "        replacement_price_ratio, salvage_price_ratio)\n",
    "    mg = Microgrid(project, Pload, gen, batt, [pv, windgen])\n",
    "\n",
    "    return mg\n",
    "end\n",
    "\n",
    "function create_microgrid()\n",
    "    x1 = [1., 1., 1., 1.]\n",
    "    return create_microgrid(x1)\n",
    "end"
   ]
  },
  {
   "cell_type": "markdown",
   "id": "f876871f-4ef0-44e3-be34-0f5d7227b81c",
   "metadata": {},
   "source": [
    "max bounds"
   ]
  },
  {
   "cell_type": "code",
   "execution_count": 35,
   "id": "ea2645e1-5705-47b0-a49e-57c80092943b",
   "metadata": {},
   "outputs": [
    {
     "data": {
      "text/plain": [
       "8535.0"
      ]
     },
     "execution_count": 35,
     "metadata": {},
     "output_type": "execute_result"
    }
   ],
   "source": [
    "Pload_max = maximum(Pload)\n",
    "power_rated_gen_max = 1.2 * Pload_max\n",
    "energy_rated_sto_max = 10.0 * Pload_max\n",
    "power_rated_pv_max = 10.0 * Pload_max\n",
    "power_rated_wind_max = 5.0 * Pload_max"
   ]
  },
  {
   "cell_type": "markdown",
   "id": "a8c94790-0401-4b0e-81c9-df00622a51db",
   "metadata": {},
   "source": [
    "Create Microgrid project description. Since we'll use it for zizing, it's fine if the size is set to an bad sizing."
   ]
  },
  {
   "cell_type": "code",
   "execution_count": 89,
   "id": "4ca082ce-7613-4db5-ab55-276c5fbf3f05",
   "metadata": {},
   "outputs": [
    {
     "data": {
      "text/plain": [
       "1.0"
      ]
     },
     "execution_count": 89,
     "metadata": {},
     "output_type": "execute_result"
    }
   ],
   "source": [
    "mg = create_microgrid();\n",
    "K = length(mg.load)\n",
    "dt = mg.project.timestep\n",
    "#traj, stats, costs = simulate(mg)\n",
    "#stats"
   ]
  },
  {
   "cell_type": "markdown",
   "id": "eca336f5-6832-4973-8194-6b07b1e70bb0",
   "metadata": {},
   "source": [
    "## JuMP model"
   ]
  },
  {
   "cell_type": "code",
   "execution_count": 144,
   "id": "8b89b345-530b-4bbe-9575-a77b24c423af",
   "metadata": {},
   "outputs": [],
   "source": [
    "model = Model(HiGHS.Optimizer)\n",
    "set_silent(model)"
   ]
  },
  {
   "cell_type": "markdown",
   "id": "c4105a10-6ac3-4c69-a787-16b87d00d578",
   "metadata": {},
   "source": [
    "### sizing variables"
   ]
  },
  {
   "cell_type": "code",
   "execution_count": 145,
   "id": "be81f99a-dccb-45cc-b6d7-75244216fb56",
   "metadata": {},
   "outputs": [
    {
     "data": {
      "text/latex": [
       "$ power\\_rated\\_wind $"
      ],
      "text/plain": [
       "power_rated_wind"
      ]
     },
     "execution_count": 145,
     "metadata": {},
     "output_type": "execute_result"
    }
   ],
   "source": [
    "@variable(model, 0 <= power_rated_gen <= power_rated_gen_max)\n",
    "@variable(model, 0 <= energy_rated_sto <= energy_rated_sto_max)\n",
    "@variable(model, 0 <= power_rated_pv <= power_rated_pv_max)\n",
    "@variable(model, 0 <= power_rated_wind <= power_rated_wind_max)"
   ]
  },
  {
   "cell_type": "markdown",
   "id": "406de413-108a-4f2f-b8dc-2f47c1797fb0",
   "metadata": {},
   "source": [
    "### Non dispatchable sources"
   ]
  },
  {
   "cell_type": "code",
   "execution_count": 146,
   "id": "88eebf28-057d-4b92-889b-cfcf5378f602",
   "metadata": {},
   "outputs": [],
   "source": [
    "@variable(model, pv_potential[1:K])\n",
    "@constraint(model, pv_potential .== power_rated_pv*production(mg.nondispatchables[1]))\n",
    "@variable(model, wind_potential[1:K])\n",
    "@constraint(model, wind_potential .== power_rated_wind*production(mg.nondispatchables[2]));\n",
    "# @variable(model, renew_potential[1:K])\n",
    "# @constraint(model, renew_potential .== pv_potential .+ wind_potential);"
   ]
  },
  {
   "cell_type": "markdown",
   "id": "fa059e3c-4704-4c57-a03c-f714021cf854",
   "metadata": {},
   "source": [
    "### Net load (desired, i.e. before spillage of excess renewables and load shedding)"
   ]
  },
  {
   "cell_type": "code",
   "execution_count": 147,
   "id": "91d74e25-2e7c-45a6-b2e6-83c35123109c",
   "metadata": {},
   "outputs": [],
   "source": [
    "@variable(model, Pnl[1:K])\n",
    "@constraint(model, Pnl .== mg.load .- pv_potential .+ wind_potential);"
   ]
  },
  {
   "cell_type": "code",
   "execution_count": 148,
   "id": "2c1128fd-c468-4ad6-8509-d9774563601c",
   "metadata": {},
   "outputs": [],
   "source": [
    "@variable(model, Pspill[1:K] >= 0)\n",
    "@variable(model, Pshed[1:K] >= 0);"
   ]
  },
  {
   "cell_type": "markdown",
   "id": "f670a9b3-5be4-4963-8129-39e9c8bb145d",
   "metadata": {},
   "source": [
    "### Dispatchable generator"
   ]
  },
  {
   "cell_type": "code",
   "execution_count": 149,
   "id": "7e8de97b-fa55-4aa0-af97-59456326d5e3",
   "metadata": {},
   "outputs": [],
   "source": [
    "@variable(model, Pgen[1:K] >= 0)\n",
    "@constraint(model, Pgen .<= power_rated_gen);"
   ]
  },
  {
   "cell_type": "markdown",
   "id": "d926e005-27a8-464f-87ff-12e6544ae34a",
   "metadata": {},
   "source": [
    "### Energy storage"
   ]
  },
  {
   "cell_type": "code",
   "execution_count": 150,
   "id": "366632da-ad67-474f-808c-37fa227bfe98",
   "metadata": {},
   "outputs": [],
   "source": [
    "@variable(model, Psto_cha[1:K])\n",
    "@variable(model, Psto_dis[1:K])\n",
    "@variable(model, Esto[1:K+1] >= 0) # replace with mg.storage.SoC_min\n",
    "@constraint(model, Esto .<= energy_rated_sto);\n",
    "# TODO: add power constraints\n",
    "#@constraint(model, ... <= Psto .<= ...);"
   ]
  },
  {
   "cell_type": "markdown",
   "id": "2794cd7a-669e-4a05-844a-aaabe61dcba0",
   "metadata": {},
   "source": [
    "Evolution of the State of Energy"
   ]
  },
  {
   "cell_type": "markdown",
   "id": "cebe8495-37da-42d6-86b9-85bd2d3b8096",
   "metadata": {},
   "source": [
    "TODO: add storage losses (PWL)"
   ]
  },
  {
   "cell_type": "code",
   "execution_count": 151,
   "id": "28c746f3-3672-450b-996f-6bd666692b3f",
   "metadata": {},
   "outputs": [
    {
     "data": {
      "text/plain": [
       "0.05"
      ]
     },
     "execution_count": 151,
     "metadata": {},
     "output_type": "execute_result"
    }
   ],
   "source": [
    "mg.storage.loss_factor"
   ]
  },
  {
   "cell_type": "code",
   "execution_count": 152,
   "id": "3861cbab-da0a-43bc-896c-ce70140e3230",
   "metadata": {},
   "outputs": [
    {
     "data": {
      "text/plain": [
       "0.0"
      ]
     },
     "execution_count": 152,
     "metadata": {},
     "output_type": "execute_result"
    }
   ],
   "source": [
    "mg.storage.SoC_ini"
   ]
  },
  {
   "cell_type": "code",
   "execution_count": 153,
   "id": "6e64ffc7-db4c-4844-af37-f7925de53b87",
   "metadata": {},
   "outputs": [
    {
     "data": {
      "text/latex": [
       "$$ -Psto\\_cha_{1} + Psto\\_dis_{1} - Esto_{1} + Esto_{2} = 0 $$"
      ],
      "text/plain": [
       "sto[1] : -Psto_cha[1] + Psto_dis[1] - Esto[1] + Esto[2] = 0"
      ]
     },
     "execution_count": 153,
     "metadata": {},
     "output_type": "execute_result"
    }
   ],
   "source": [
    "@constraint(model, sto[k in 1:K], Esto[k+1] == Esto[k] + Psto_cha[k]*dt - Psto_dis[k]*dt)\n",
    "sto[1]"
   ]
  },
  {
   "cell_type": "markdown",
   "id": "b652a661-d834-456f-9549-33e824c90262",
   "metadata": {},
   "source": [
    "Storage Cyclicity"
   ]
  },
  {
   "cell_type": "code",
   "execution_count": 154,
   "id": "59a2809a-b423-421d-b901-f99827de0148",
   "metadata": {},
   "outputs": [
    {
     "data": {
      "text/latex": [
       "$$ -Esto_{1} + Esto_{8761} = 0 $$"
      ],
      "text/plain": [
       "-Esto[1] + Esto[8761] = 0"
      ]
     },
     "execution_count": 154,
     "metadata": {},
     "output_type": "execute_result"
    }
   ],
   "source": [
    "@constraint(model, Esto[K+1] == Esto[1])"
   ]
  },
  {
   "cell_type": "markdown",
   "id": "bfa3df37-1e81-4b2e-a7d3-c6ef8c745b78",
   "metadata": {},
   "source": [
    "### Power balance"
   ]
  },
  {
   "cell_type": "code",
   "execution_count": 155,
   "id": "d197912e-b9f3-4aef-9c42-bbe5936011d0",
   "metadata": {},
   "outputs": [
    {
     "data": {
      "text/latex": [
       "$$ Pnl_{1} + Pspill_{1} - Pshed_{1} - Pgen_{1} + Psto\\_cha_{1} - Psto\\_dis_{1} = 0 $$"
      ],
      "text/plain": [
       "balance : Pnl[1] + Pspill[1] - Pshed[1] - Pgen[1] + Psto_cha[1] - Psto_dis[1] = 0"
      ]
     },
     "execution_count": 155,
     "metadata": {},
     "output_type": "execute_result"
    }
   ],
   "source": [
    "@constraint(model, balance, Pnl .== Pgen + Psto_dis - Psto_cha + Pshed - Pspill)\n",
    "balance[1]"
   ]
  },
  {
   "cell_type": "markdown",
   "id": "6b234d2e-ba0a-4b00-bc5e-7e0b7f32340e",
   "metadata": {},
   "source": [
    "Shedding limit:"
   ]
  },
  {
   "cell_type": "code",
   "execution_count": 156,
   "id": "48bd22cb-a2fd-44ad-bda3-8ff618148e21",
   "metadata": {},
   "outputs": [],
   "source": [
    "fix.(Pshed, 0.0; force=true);"
   ]
  },
  {
   "cell_type": "markdown",
   "id": "495b9a10-df89-4370-a5b4-1c7b490a56aa",
   "metadata": {},
   "source": [
    "### Cost"
   ]
  },
  {
   "cell_type": "markdown",
   "id": "cfd908ce-355e-4956-a632-c3145d02f0cd",
   "metadata": {},
   "source": [
    "🚧 **TO BE CONTINUED....** 🚧"
   ]
  },
  {
   "cell_type": "code",
   "execution_count": 157,
   "id": "4fda4e89-12e5-49fc-837b-464d2b3f55be",
   "metadata": {},
   "outputs": [
    {
     "data": {
      "text/latex": [
       "$ power\\_rated\\_gen + energy\\_rated\\_sto + power\\_rated\\_pv + power\\_rated\\_wind $"
      ],
      "text/plain": [
       "power_rated_gen + energy_rated_sto + power_rated_pv + power_rated_wind"
      ]
     },
     "execution_count": 157,
     "metadata": {},
     "output_type": "execute_result"
    }
   ],
   "source": [
    "NPC = power_rated_gen + energy_rated_sto +  power_rated_pv + power_rated_wind"
   ]
  },
  {
   "cell_type": "code",
   "execution_count": 158,
   "id": "9e1d5385-9f2a-4e94-aab8-a3899780e32b",
   "metadata": {},
   "outputs": [
    {
     "data": {
      "text/latex": [
       "$ power\\_rated\\_gen + energy\\_rated\\_sto + power\\_rated\\_pv + power\\_rated\\_wind $"
      ],
      "text/plain": [
       "power_rated_gen + energy_rated_sto + power_rated_pv + power_rated_wind"
      ]
     },
     "execution_count": 158,
     "metadata": {},
     "output_type": "execute_result"
    }
   ],
   "source": [
    "@objective(model, Min, NPC)"
   ]
  },
  {
   "cell_type": "code",
   "execution_count": 159,
   "id": "da70b787-66ac-4ecc-a195-5b65b59d0ffe",
   "metadata": {},
   "outputs": [],
   "source": [
    "optimize!(model)"
   ]
  },
  {
   "cell_type": "code",
   "execution_count": 160,
   "id": "33256c8e-eb58-4ce7-8de4-15b5bedec351",
   "metadata": {},
   "outputs": [
    {
     "data": {
      "text/plain": [
       "(1607.0, 100.0, 0.0, 0.0)"
      ]
     },
     "execution_count": 160,
     "metadata": {},
     "output_type": "execute_result"
    }
   ],
   "source": [
    "value(power_rated_gen), value(energy_rated_sto), value(power_rated_pv), value(power_rated_wind)"
   ]
  },
  {
   "cell_type": "markdown",
   "id": "54886fb3-a283-4db0-bc06-c03f52ea1280",
   "metadata": {},
   "source": [
    "---"
   ]
  },
  {
   "cell_type": "code",
   "execution_count": 140,
   "id": "d9345c29-fd9a-4f5e-875a-f6575dff5275",
   "metadata": {},
   "outputs": [
    {
     "data": {
      "text/plain": [
       "A JuMP Model\n",
       "Minimization problem with:\n",
       "Variables: 78845\n",
       "Objective function type: AffExpr\n",
       "`AffExpr`-in-`MathOptInterface.EqualTo{Float64}`: 35041 constraints\n",
       "`AffExpr`-in-`MathOptInterface.LessThan{Float64}`: 17521 constraints\n",
       "`VariableRef`-in-`MathOptInterface.EqualTo{Float64}`: 8760 constraints\n",
       "`VariableRef`-in-`MathOptInterface.GreaterThan{Float64}`: 26285 constraints\n",
       "`VariableRef`-in-`MathOptInterface.LessThan{Float64}`: 4 constraints\n",
       "Model mode: AUTOMATIC\n",
       "CachingOptimizer state: EMPTY_OPTIMIZER\n",
       "Solver name: HiGHS\n",
       "Names registered in the model: Esto, Pgen, Pnl, Pshed, Pspill, Psto_cha, Psto_dis, energy_rated_sto, power_rated_gen, power_rated_pv, power_rated_wind, pv_potential, sto, wind_potential"
      ]
     },
     "execution_count": 140,
     "metadata": {},
     "output_type": "execute_result"
    }
   ],
   "source": [
    "model"
   ]
  },
  {
   "cell_type": "code",
   "execution_count": 26,
   "id": "ec7ce82e-f7ff-47e0-9872-794834d0e765",
   "metadata": {},
   "outputs": [
    {
     "data": {
      "text/latex": [
       "$$ \\begin{aligned}\n",
       "\\text{feasibility}\\\\\n",
       "\\text{Subject to} \\quad & power\\_rated\\_gen \\geq 0\\\\\n",
       " & energy\\_rated\\_sto \\geq 0\\\\\n",
       " & power\\_rated\\_pv \\geq 0\\\\\n",
       " & power\\_rated\\_wind \\geq 0\\\\\n",
       " & power\\_rated\\_gen \\leq 2048.4\\\\\n",
       " & energy\\_rated\\_sto \\leq 17070\\\\\n",
       " & power\\_rated\\_pv \\leq 17070\\\\\n",
       " & power\\_rated\\_wind \\leq 8535\\\\\n",
       "\\end{aligned} $$"
      ]
     },
     "metadata": {},
     "output_type": "display_data"
    }
   ],
   "source": [
    "#print(model)"
   ]
  },
  {
   "cell_type": "code",
   "execution_count": null,
   "id": "63e1f1d3-e733-4d4f-bec7-7034e74c6aa1",
   "metadata": {},
   "outputs": [],
   "source": [
    "renew_productions"
   ]
  },
  {
   "cell_type": "markdown",
   "id": "e900724d-f571-4838-8920-9e9c808e706d",
   "metadata": {},
   "source": [
    "---\n",
    "\n",
    "## Previous notebook content"
   ]
  },
  {
   "cell_type": "code",
   "execution_count": 4,
   "id": "470f5630-322c-497f-bac9-beb87f014f71",
   "metadata": {},
   "outputs": [
    {
     "data": {
      "text/plain": [
       "obj_multi"
      ]
     },
     "execution_count": 4,
     "metadata": {},
     "output_type": "execute_result"
    }
   ],
   "source": [
    "\"Multi-objective criterion for microgrid performance: lcoe, shedding rate\"\n",
    "function obj_multi(x)\n",
    "    stats, costs = simulate_microgrid(x)\n",
    "    # Extract KPIs of interest\n",
    "    lcoe = costs.lcoe # $/kWh\n",
    "    shed_rate = stats.shed_rate; # in [0,1]\n",
    "    return lcoe, shed_rate\n",
    "end"
   ]
  },
  {
   "cell_type": "code",
   "execution_count": 5,
   "id": "6b3eb2d2-1513-424b-baa0-a49ca5247bb4",
   "metadata": {},
   "outputs": [
    {
     "data": {
      "text/plain": [
       "obj"
      ]
     },
     "execution_count": 5,
     "metadata": {},
     "output_type": "execute_result"
    }
   ],
   "source": [
    "\"\"\"Mono-objective criterion: LCOE + penalty if shedding rate > `shed_max`\n",
    "\n",
    "with signature adapted to NLopt with `grad` as 2nd argument\n",
    "\n",
    "load shedding penalty threshold `shed_max` should be in  [0,1[\n",
    "\"\"\"\n",
    "function obj(x, grad, shed_max, w_shed_max=1e5)\n",
    "    lcoe, shed_rate = obj_multi(x)\n",
    "    over_shed = shed_rate - shed_max\n",
    "    if over_shed > 0.0\n",
    "        penalty = w_shed_max*over_shed\n",
    "    else\n",
    "        penalty = 0.0\n",
    "    end\n",
    "    J = lcoe + penalty\n",
    "end"
   ]
  },
  {
   "cell_type": "markdown",
   "id": "c57f7af9-ea2f-40a8-b502-ba98b472410c",
   "metadata": {},
   "source": [
    "### Tests the objective functions"
   ]
  },
  {
   "cell_type": "markdown",
   "id": "e8feaded-609f-4dfa-b350-4089468d6875",
   "metadata": {},
   "source": [
    "Test of the simulator wrapper (on a baseline sizing):"
   ]
  },
  {
   "cell_type": "code",
   "execution_count": 6,
   "id": "d765dc6a-eeda-4727-b259-479176670dc1",
   "metadata": {},
   "outputs": [
    {
     "data": {
      "text/plain": [
       "([1.8, 5.0, 3.0, 0.9], 0.22924812869928668, 21.89002772908652)"
      ]
     },
     "execution_count": 6,
     "metadata": {},
     "output_type": "execute_result"
    }
   ],
   "source": [
    "# Baseline sizing: same as in Microgrid_Wind-Solar.ipynb notebook\n",
    "x_base = [power_rated_gen, energy_rated_sto, power_rated_pv, power_rated_wind]/1000.\n",
    "# run simulation:\n",
    "stats, costs = simulate_microgrid(x_base)\n",
    "x_base, costs.lcoe, costs.npc/1e6"
   ]
  },
  {
   "cell_type": "code",
   "execution_count": 7,
   "id": "8de2153d-559f-4a60-880e-e8ea5fa3b810",
   "metadata": {},
   "outputs": [
    {
     "name": "stdout",
     "output_type": "stream",
     "text": [
      "Base. multi: (0.22924812869928668, 0.0) mono: 0.22924812869928668\n"
     ]
    }
   ],
   "source": [
    "# Test:\n",
    "shed_max = 0.01 # in [0,1]\n",
    "\n",
    "println(\"Base. multi: \", obj_multi(x_base), \" mono: \", obj(x_base,[], shed_max))"
   ]
  },
  {
   "cell_type": "markdown",
   "id": "dfbf1ccf-a7df-474a-991c-9437bd83d8ab",
   "metadata": {},
   "source": [
    "## Optimization"
   ]
  },
  {
   "cell_type": "markdown",
   "id": "d15efd32-c2ab-4d9a-98cf-5918cdf0b9b1",
   "metadata": {},
   "source": [
    "### Setting up the optimization problem"
   ]
  },
  {
   "cell_type": "markdown",
   "id": "87ccea54-0d83-4b01-8f7e-de37c8dfa0d9",
   "metadata": {},
   "source": [
    "bounds of the design space and starting point: derived from maximal load power"
   ]
  },
  {
   "cell_type": "code",
   "execution_count": 8,
   "id": "5ac92d7e-5de1-4ddf-a050-6897dbc8af2d",
   "metadata": {},
   "outputs": [
    {
     "data": {
      "text/plain": [
       "4-element Vector{Float64}:\n",
       "  2.0484\n",
       " 17.07\n",
       " 17.07\n",
       "  8.535"
      ]
     },
     "execution_count": 8,
     "metadata": {},
     "output_type": "execute_result"
    }
   ],
   "source": [
    "Pload_max = maximum(Pload)\n",
    "\n",
    "xmin = [0., 0., 1e-3, 0.] # 1e-3 instead of 0.0, because LCOE is NaN if ther is exactly zero generation\n",
    "xmax = [1.2, 10.0, 10.0, 5.0] * (Pload_max/1000)"
   ]
  },
  {
   "cell_type": "markdown",
   "id": "6c2bc984-bae8-403f-8130-d50efc8f5717",
   "metadata": {},
   "source": [
    "Optionally ban some choices:"
   ]
  },
  {
   "cell_type": "code",
   "execution_count": 9,
   "id": "9f65e094-4c58-4e9b-b4ee-b626f6504f6c",
   "metadata": {},
   "outputs": [],
   "source": [
    "# Solar power forbidden (optional)\n",
    "#xmax[3] = 1e-3\n",
    "# Wind power forbidden (optional)\n",
    "#xmax[4] = 0."
   ]
  },
  {
   "cell_type": "markdown",
   "id": "3daceed1-2315-4eca-b7bd-b3a1e31cff09",
   "metadata": {},
   "source": [
    "### Wrapper of the optimization process\n",
    "\n",
    "This is an optional step, but recommended to explore easily the impact of the many parameters taken by optimization algorithms.\n",
    "\n",
    "See [optimization termination conditions](https://nlopt.readthedocs.io/en/latest/NLopt_Introduction/#termination-conditions) in NLopt documention for the meaning of `xtol_rel`"
   ]
  },
  {
   "cell_type": "code",
   "execution_count": 12,
   "id": "08491363-e1ce-47d3-a425-4bc83888be12",
   "metadata": {},
   "outputs": [
    {
     "data": {
      "text/plain": [
       "optim_mg"
      ]
     },
     "execution_count": 12,
     "metadata": {},
     "output_type": "execute_result"
    }
   ],
   "source": [
    "\"\"\"Optimize sizing of microgrid based on the `obj` function\n",
    "\n",
    "Parameters:\n",
    "- `x0`: initial sizing (for the algorithms which need them)\n",
    "- `shed_max`: load shedding penalty threshold (same as in `obj`)\n",
    "- `algo` could be one of LN_SBPLX, GN_DIRECT, GN_ESCH...\n",
    "- `maxeval`: maximum allowed number of calls to the objective function,\n",
    "  that is to the microgrid simulation\n",
    "- `xtol_rel`: termination condition based on relative change of sizing, see NLopt doc.\n",
    "- `srand`: random number generation seed (for algorithms which use some stochastic search)\n",
    "\n",
    "Problem bounds are taken as the global variables `xmin`, `xmax`,\n",
    "but could be added to the parameters as well.\n",
    "\"\"\"\n",
    "function optim_mg(x0, shed_max, algo=:LN_SBPLX, maxeval=1000, xtol_rel=1e-4, srand=1)\n",
    "    nx = length(x0) # number of optim variables\n",
    "    opt = Opt(algo, nx)\n",
    "    NLopt.srand(srand)\n",
    "    \n",
    "    opt.lower_bounds = xmin\n",
    "    opt.upper_bounds = xmax\n",
    "    opt.min_objective = (x, grad) -> obj(x, grad, shed_max)\n",
    "    opt.xtol_rel = xtol_rel\n",
    "    opt.maxeval = maxeval\n",
    "    \n",
    "    (fopt, xopt, ret) = optimize(opt, x0)\n",
    "    return fopt, xopt, ret, opt.numevals\n",
    "end"
   ]
  }
 ],
 "metadata": {
  "kernelspec": {
   "display_name": "Julia 1.9.3",
   "language": "julia",
   "name": "julia-1.9"
  },
  "language_info": {
   "file_extension": ".jl",
   "mimetype": "application/julia",
   "name": "julia",
   "version": "1.9.3"
  }
 },
 "nbformat": 4,
 "nbformat_minor": 5
}
