{
 "cells": [
  {
   "cell_type": "markdown",
   "id": "b14f854f-51e9-4253-8946-d7ca39628ed0",
   "metadata": {},
   "source": [
    "# Microgrid optimization with an algebraic approach using JuMP\n",
    "\n",
    "\n",
    "An experiment which derives from the **Microgrid sizing optimization** notebook example in `../Microgrids.jl/examples/`. However, instead of doing a sizing optimization using a blackbox approach which calls the Microgrid simulator, here we use an algebraic description of the problem (using JuMP) and we run an \"all-in-one\" optimization of both the sizing and the energy flows at each instant.\n",
    "\n",
    "Caveat: this yields an anticipative energy management.\n",
    "\n",
    "PH, oct 2023"
   ]
  },
  {
   "cell_type": "code",
   "execution_count": 2,
   "id": "c2f04250-290c-4c38-93e6-074702ec0700",
   "metadata": {},
   "outputs": [
    {
     "name": "stderr",
     "output_type": "stream",
     "text": [
      "\u001b[32m\u001b[1mPrecompiling\u001b[22m\u001b[39m Microgrids\n",
      "\u001b[32m  ✓ \u001b[39mMicrogrids\n",
      "  1 dependency successfully precompiled in 2 seconds\n"
     ]
    }
   ],
   "source": [
    "using Microgrids\n",
    "using JuMP\n",
    "using HiGHS # Linear Programming solver\n",
    "using Clp\n",
    "using Printf # pretty print results\n",
    "#using Random, Statistics\n",
    "#using CSV, DataFrames\n",
    "using PyPlot"
   ]
  },
  {
   "cell_type": "markdown",
   "id": "5e20bad8-81a3-4a6b-8c1e-6848a20c0d55",
   "metadata": {},
   "source": [
    "## Load Microgrid project data\n",
    "\n",
    "Loading parameters and time series for a Microgrid project with *wind* and *solar* sources, plus a *battery* and a *dispatchable generator*. \n",
    "Values gathered from the Microgrid_Wind-Solar.ipynb example notebook."
   ]
  },
  {
   "cell_type": "code",
   "execution_count": 3,
   "id": "a078bb9d-37a9-45f0-bb00-4404a44dcb30",
   "metadata": {},
   "outputs": [
    {
     "name": "stdout",
     "output_type": "stream",
     "text": [
      "Data definition for Microgrid with wind, solar, storage and generator...\n"
     ]
    }
   ],
   "source": [
    "include(\"../../Microgrids.jl/examples/Microgrid_Wind-Solar_data.jl\");"
   ]
  },
  {
   "cell_type": "code",
   "execution_count": 4,
   "id": "b1b119b9-0e9c-447d-b708-ef64e11b0d0d",
   "metadata": {},
   "outputs": [
    {
     "data": {
      "text/plain": [
       "create_microgrid (generic function with 2 methods)"
      ]
     },
     "execution_count": 4,
     "metadata": {},
     "output_type": "execute_result"
    }
   ],
   "source": [
    "\"\"\"Create a Microgrid project description of size `x`\n",
    "with x=[power_rated_gen, energy_rated_sto, power_rated_pv, power_rated_wind] in kW.\n",
    "\n",
    "if x is omitted, x=[1,1,...] is used\n",
    "\"\"\"\n",
    "function create_microgrid(x)\n",
    "    project = Project(lifetime, discount_rate, timestep, \"€\")\n",
    "    # Split decision variables (converted MW → kW):\n",
    "    power_rated_gen = x[1]\n",
    "    energy_rated_sto = x[2]\n",
    "    power_rated_pv = x[3]\n",
    "    power_rated_wind = x[4]\n",
    "    # Create components\n",
    "    gen = DispatchableGenerator(power_rated_gen,\n",
    "        fuel_intercept, fuel_slope, fuel_price,\n",
    "        investment_price_gen, om_price_gen, lifetime_gen,\n",
    "        load_ratio_min,\n",
    "        replacement_price_ratio, salvage_price_ratio, fuel_unit)\n",
    "    batt = Battery(energy_rated_sto,\n",
    "        investment_price_sto, om_price_sto, lifetime_sto, lifetime_cycles,\n",
    "        charge_rate, discharge_rate, loss_factor_sto, SoC_min, SoC_ini,\n",
    "        replacement_price_ratio, salvage_price_ratio)\n",
    "    pv = Photovoltaic(power_rated_pv, irradiance,\n",
    "        investment_price_pv, om_price_pv,\n",
    "        lifetime_pv, derating_factor_pv,\n",
    "        replacement_price_ratio, salvage_price_ratio)\n",
    "    windgen = WindPower(power_rated_wind, cf_wind,\n",
    "        investment_price_wind, om_price_wind,\n",
    "        lifetime_wind,\n",
    "        replacement_price_ratio, salvage_price_ratio)\n",
    "    mg = Microgrid(project, Pload, gen, batt, [pv, windgen])\n",
    "\n",
    "    return mg\n",
    "end\n",
    "\n",
    "function create_microgrid()\n",
    "    x1 = [1., 1., 1., 1.]\n",
    "    return create_microgrid(x1)\n",
    "end"
   ]
  },
  {
   "cell_type": "markdown",
   "id": "f876871f-4ef0-44e3-be34-0f5d7227b81c",
   "metadata": {},
   "source": [
    "max bounds"
   ]
  },
  {
   "cell_type": "code",
   "execution_count": 5,
   "id": "ea2645e1-5705-47b0-a49e-57c80092943b",
   "metadata": {},
   "outputs": [
    {
     "name": "stdout",
     "output_type": "stream",
     "text": [
      "Max load power: 1707.0 kW"
     ]
    }
   ],
   "source": [
    "Pload_max = maximum(Pload) # kW\n",
    "@printf(\"Max load power: %.1f kW\", Pload_max)\n",
    "power_rated_gen_max = 1.2 * Pload_max\n",
    "energy_rated_sto_max = 10.0 * Pload_max\n",
    "power_rated_pv_max = 10.0 * Pload_max\n",
    "power_rated_wind_max = 5.0 * Pload_max;"
   ]
  },
  {
   "cell_type": "markdown",
   "id": "a8c94790-0401-4b0e-81c9-df00622a51db",
   "metadata": {},
   "source": [
    "Create Microgrid project description. Since we'll use it for sizing, it's fine if the size is set to an bad sizing."
   ]
  },
  {
   "cell_type": "code",
   "execution_count": 6,
   "id": "4ca082ce-7613-4db5-ab55-276c5fbf3f05",
   "metadata": {},
   "outputs": [
    {
     "data": {
      "text/plain": [
       "1.0"
      ]
     },
     "execution_count": 6,
     "metadata": {},
     "output_type": "execute_result"
    }
   ],
   "source": [
    "mg = create_microgrid();\n",
    "#K = length(mg.load) # full data length → replaced by reduced subset\n",
    "dt = mg.project.timestep\n",
    "#traj, stats, costs = simulate(mg)\n",
    "#stats"
   ]
  },
  {
   "cell_type": "markdown",
   "id": "5694fecd-b041-483b-a861-315870988d71",
   "metadata": {},
   "source": [
    "### basic time series reduction"
   ]
  },
  {
   "cell_type": "code",
   "execution_count": 7,
   "id": "95389d54-722e-47c8-8876-04a53972e41f",
   "metadata": {},
   "outputs": [
    {
     "data": {
      "text/plain": [
       "ts_reduction"
      ]
     },
     "execution_count": 7,
     "metadata": {},
     "output_type": "execute_result"
    }
   ],
   "source": [
    "\"\"\"reduce the year time series `x` to `ndays` ≤ 365\n",
    "sr=24: data sampling rate / day. 24 means hourly time step.\n",
    "\n",
    "The method is *basic*:\n",
    "it samples `ndays` days evenly spaced by (365 ÷ `ndays`) days\n",
    "\n",
    "with ndays=365, returns the orinal series\n",
    "\"\"\"\n",
    "function ts_reduction(x, ndays, sr=24)\n",
    "    out = zeros(ndays*sr)\n",
    "    @assert ndays<=365\n",
    "    Δdays = 365 ÷ ndays\n",
    "    for i in 1:ndays\n",
    "        offset_in = (i-1)*Δdays*sr\n",
    "        offset_out = (i-1)*sr\n",
    "        out[offset_out+1:offset_out+sr] = x[offset_in+1:offset_in+sr]\n",
    "    end\n",
    "    return out\n",
    "end"
   ]
  },
  {
   "cell_type": "markdown",
   "id": "db003c79-ea8e-41ea-85fe-161eddc6ad24",
   "metadata": {},
   "source": [
    "### Select amount of data reduction for sizing:"
   ]
  },
  {
   "cell_type": "code",
   "execution_count": 90,
   "id": "40523f8c-e208-492a-ab84-4fa1f54285f6",
   "metadata": {},
   "outputs": [
    {
     "name": "stdout",
     "output_type": "stream",
     "text": [
      "working with 365 days, that is 8760 timesteps\n"
     ]
    }
   ],
   "source": [
    "ndays = 365 # 1 to 365\n",
    "K = ndays*24 # h\n",
    "\n",
    "ts_reduction_ndays(x) = ts_reduction(x, ndays)\n",
    "\n",
    "println(\"working with $ndays days, that is $K timesteps\")"
   ]
  },
  {
   "cell_type": "code",
   "execution_count": 91,
   "id": "eea0ebec-69a6-47b6-b56b-0efa2b78d64a",
   "metadata": {},
   "outputs": [],
   "source": [
    "Pload = mg.load |> ts_reduction_ndays;"
   ]
  },
  {
   "cell_type": "markdown",
   "id": "a5e02534-8bf1-49ef-b06c-6c35d550e0d7",
   "metadata": {},
   "source": [
    "Compute capacity factor time series, i.e. normalized potential production, for wind and solar:"
   ]
  },
  {
   "cell_type": "code",
   "execution_count": 92,
   "id": "b68c829f-250f-45ec-bcf5-bfa61309750f",
   "metadata": {},
   "outputs": [],
   "source": [
    "# (works because the rated power in mg are set to 1 kW)\n",
    "cf_pv   = production(mg.nondispatchables[1]) |> ts_reduction_ndays\n",
    "cf_wind = production(mg.nondispatchables[2]) |> ts_reduction_ndays;"
   ]
  },
  {
   "cell_type": "markdown",
   "id": "8a484d05-8c7d-46a2-ae54-4d4a440c918a",
   "metadata": {},
   "source": [
    "### Display time series"
   ]
  },
  {
   "cell_type": "code",
   "execution_count": 93,
   "id": "e7ad1c5b-8e24-4e82-ba10-4a125baade4a",
   "metadata": {},
   "outputs": [
    {
     "data": {
      "image/png": "[encoded data removed]",
      "text/plain": [
       "Figure(PyObject <Figure size 550x350 with 2 Axes>)"
      ]
     },
     "metadata": {},
     "output_type": "display_data"
    }
   ],
   "source": [
    "td = collect((0:K-1)/24) # time in days\n",
    "\n",
    "fig, (ax1,ax2) = subplots(2,1, figsize=(5.5,3.5), sharex=true)\n",
    "\n",
    "ax1.plot(td, Pload)\n",
    "ax1.grid()\n",
    "ax1.set(\n",
    "    title=\"Load (reduced to $ndays days)\",\n",
    "    ylabel=\"kW\"\n",
    ")\n",
    "\n",
    "ax2.plot(td, cf_wind, label=\"wind\", color=\"tab:purple\")\n",
    "ax2.plot(td, cf_pv, label=\"solar\", color=\"tab:orange\")\n",
    "ax2.grid()\n",
    "ax2.legend(loc=\"upper right\")\n",
    "ax2.set(\n",
    "    title=\"Capacity factor of renewable generation\",\n",
    "    xlabel=\"time (days)\"\n",
    ")\n",
    "\n",
    "fig.tight_layout()"
   ]
  },
  {
   "cell_type": "markdown",
   "id": "eca336f5-6832-4973-8194-6b07b1e70bb0",
   "metadata": {},
   "source": [
    "## JuMP optimization model"
   ]
  },
  {
   "cell_type": "markdown",
   "id": "2f5508b7-cac1-4159-8cfa-2a1f6ba2f1a4",
   "metadata": {},
   "source": [
    "Choose between fixed lifetimes (gen and storage) vs usage-dependant:"
   ]
  },
  {
   "cell_type": "code",
   "execution_count": 177,
   "id": "74e21d69-42f7-42df-8f96-e2b0cbf05362",
   "metadata": {},
   "outputs": [
    {
     "data": {
      "text/plain": [
       "true"
      ]
     },
     "execution_count": 177,
     "metadata": {},
     "output_type": "execute_result"
    }
   ],
   "source": [
    "fixed_lifetimes = true"
   ]
  },
  {
   "cell_type": "code",
   "execution_count": 136,
   "id": "8b89b345-530b-4bbe-9575-a77b24c423af",
   "metadata": {},
   "outputs": [],
   "source": [
    "optimizer = HiGHS.Optimizer\n",
    "#optimizer = Clp.Optimizer\n",
    "model = Model(optimizer)\n",
    "set_silent(model)"
   ]
  },
  {
   "cell_type": "markdown",
   "id": "c4105a10-6ac3-4c69-a787-16b87d00d578",
   "metadata": {},
   "source": [
    "### Sizing variables\n",
    "\n",
    "4 components:"
   ]
  },
  {
   "cell_type": "code",
   "execution_count": 137,
   "id": "be81f99a-dccb-45cc-b6d7-75244216fb56",
   "metadata": {},
   "outputs": [
    {
     "data": {
      "text/latex": [
       "$ power\\_rated\\_wind $"
      ],
      "text/plain": [
       "power_rated_wind"
      ]
     },
     "execution_count": 137,
     "metadata": {},
     "output_type": "execute_result"
    }
   ],
   "source": [
    "@variable(model, 0 <= power_rated_gen <= power_rated_gen_max)\n",
    "@variable(model, 0 <= energy_rated_sto <= energy_rated_sto_max)\n",
    "@variable(model, 0 <= power_rated_pv <= power_rated_pv_max)\n",
    "@variable(model, 0 <= power_rated_wind <= power_rated_wind_max)"
   ]
  },
  {
   "cell_type": "markdown",
   "id": "406de413-108a-4f2f-b8dc-2f47c1797fb0",
   "metadata": {},
   "source": [
    "### Non dispatchable sources"
   ]
  },
  {
   "cell_type": "code",
   "execution_count": 138,
   "id": "88eebf28-057d-4b92-889b-cfcf5378f602",
   "metadata": {},
   "outputs": [],
   "source": [
    "@variable(model, pv_potential[1:K])\n",
    "@constraint(model, pv_potential .== power_rated_pv*cf_pv)\n",
    "@variable(model, wind_potential[1:K])\n",
    "@constraint(model, wind_potential .== power_rated_wind*cf_wind);\n",
    "# @variable(model, renew_potential[1:K])\n",
    "# @constraint(model, renew_potential .== pv_potential .+ wind_potential);"
   ]
  },
  {
   "cell_type": "markdown",
   "id": "fa059e3c-4704-4c57-a03c-f714021cf854",
   "metadata": {},
   "source": [
    "### Net load (desired, i.e. before spillage of excess renewables and load shedding)"
   ]
  },
  {
   "cell_type": "code",
   "execution_count": 139,
   "id": "91d74e25-2e7c-45a6-b2e6-83c35123109c",
   "metadata": {},
   "outputs": [],
   "source": [
    "@variable(model, Pnl[1:K])\n",
    "@constraint(model, Pnl .== Pload .- pv_potential .+ wind_potential);"
   ]
  },
  {
   "cell_type": "code",
   "execution_count": 140,
   "id": "2c1128fd-c468-4ad6-8509-d9774563601c",
   "metadata": {},
   "outputs": [],
   "source": [
    "@variable(model, Pspill[1:K] >= 0)\n",
    "@variable(model, Pshed[1:K] >= 0);"
   ]
  },
  {
   "cell_type": "markdown",
   "id": "f670a9b3-5be4-4963-8129-39e9c8bb145d",
   "metadata": {},
   "source": [
    "### Dispatchable generator"
   ]
  },
  {
   "cell_type": "code",
   "execution_count": 141,
   "id": "7e8de97b-fa55-4aa0-af97-59456326d5e3",
   "metadata": {},
   "outputs": [],
   "source": [
    "@variable(model, Pgen[1:K] >= 0)\n",
    "@constraint(model, Pgen .<= power_rated_gen);"
   ]
  },
  {
   "cell_type": "markdown",
   "id": "d926e005-27a8-464f-87ff-12e6544ae34a",
   "metadata": {},
   "source": [
    "### Energy storage"
   ]
  },
  {
   "cell_type": "code",
   "execution_count": 142,
   "id": "366632da-ad67-474f-808c-37fa227bfe98",
   "metadata": {},
   "outputs": [
    {
     "data": {
      "text/latex": [
       "$$ -energy\\_rated\\_sto + Psto\\_dis_{1} \\leq 0 $$"
      ],
      "text/plain": [
       "-energy_rated_sto + Psto_dis[1] ≤ 0"
      ]
     },
     "execution_count": 142,
     "metadata": {},
     "output_type": "execute_result"
    }
   ],
   "source": [
    "# Charge and discharge power\n",
    "@variable(model, Psto_cha[1:K] >= 0)\n",
    "@variable(model, Psto_dis[1:K] >= 0)\n",
    "# Energy\n",
    "@variable(model, Esto[1:K+1])\n",
    "@constraint(model, Esto .<= energy_rated_sto) # SoCmax = 1 implicitly\n",
    "@constraint(model, Esto .>= mg.storage.SoC_min*energy_rated_sto) # often 0\n",
    "# Power constraints\n",
    "@constraint(model, Psto_cha .<= mg.storage.charge_rate    * energy_rated_sto)\n",
    "@constraint(model, Psto_dis .<= mg.storage.discharge_rate * energy_rated_sto)[1]"
   ]
  },
  {
   "cell_type": "markdown",
   "id": "2794cd7a-669e-4a05-844a-aaabe61dcba0",
   "metadata": {},
   "source": [
    "Evolution of the State of Energy, with piecewise linear in P loss term (aka constant efficiency model)"
   ]
  },
  {
   "cell_type": "code",
   "execution_count": 143,
   "id": "d99506cb-1077-4a94-8041-4b89b587bc97",
   "metadata": {},
   "outputs": [
    {
     "data": {
      "text/latex": [
       "$$ -0.95 Psto\\_cha_{1} + 1.05 Psto\\_dis_{1} - Esto_{1} + Esto_{2} = 0 $$"
      ],
      "text/plain": [
       "stodyn[1] : -0.95 Psto_cha[1] + 1.05 Psto_dis[1] - Esto[1] + Esto[2] = 0"
      ]
     },
     "execution_count": 143,
     "metadata": {},
     "output_type": "execute_result"
    }
   ],
   "source": [
    "a = mg.storage.loss_factor\n",
    "@constraint(model,\n",
    "    stodyn[k=1:K],\n",
    "    Esto[k+1] == Esto[k] + (Psto_cha[k] - Psto_dis[k] - a*(Psto_cha[k]+Psto_dis[k]))*dt\n",
    "    )\n",
    "stodyn[1]"
   ]
  },
  {
   "cell_type": "markdown",
   "id": "b652a661-d834-456f-9549-33e824c90262",
   "metadata": {},
   "source": [
    "Storage Cyclicity"
   ]
  },
  {
   "cell_type": "code",
   "execution_count": 144,
   "id": "59a2809a-b423-421d-b901-f99827de0148",
   "metadata": {},
   "outputs": [
    {
     "data": {
      "text/latex": [
       "$$ -Esto_{1} + Esto_{8761} = 0 $$"
      ],
      "text/plain": [
       "-Esto[1] + Esto[8761] = 0"
      ]
     },
     "execution_count": 144,
     "metadata": {},
     "output_type": "execute_result"
    }
   ],
   "source": [
    "@constraint(model, Esto[K+1] == Esto[1])"
   ]
  },
  {
   "cell_type": "markdown",
   "id": "e49b6af4-3526-45c2-9bb1-a8c5f86e806e",
   "metadata": {},
   "source": [
    "Optional: force initial SoC"
   ]
  },
  {
   "cell_type": "code",
   "execution_count": 145,
   "id": "bccde68b-60b1-4bcb-9083-b5ec92d3c7cd",
   "metadata": {},
   "outputs": [
    {
     "data": {
      "text/plain": [
       "0.0"
      ]
     },
     "execution_count": 145,
     "metadata": {},
     "output_type": "execute_result"
    }
   ],
   "source": [
    "mg.storage.SoC_ini # ..."
   ]
  },
  {
   "cell_type": "markdown",
   "id": "bfa3df37-1e81-4b2e-a7d3-c6ef8c745b78",
   "metadata": {},
   "source": [
    "### Power balance"
   ]
  },
  {
   "cell_type": "markdown",
   "id": "637012e6-02c5-4129-9759-f3820079c087",
   "metadata": {},
   "source": [
    "at each of the `K` instants, generation should meet the load (±shedding and spillage):"
   ]
  },
  {
   "cell_type": "code",
   "execution_count": 146,
   "id": "d197912e-b9f3-4aef-9c42-bbe5936011d0",
   "metadata": {},
   "outputs": [
    {
     "data": {
      "text/latex": [
       "$$ -Pnl_{1} - Pspill_{1} + Pshed_{1} + Pgen_{1} - Psto\\_cha_{1} + Psto\\_dis_{1} = 0 $$"
      ],
      "text/plain": [
       "balance : -Pnl[1] - Pspill[1] + Pshed[1] + Pgen[1] - Psto_cha[1] + Psto_dis[1] = 0"
      ]
     },
     "execution_count": 146,
     "metadata": {},
     "output_type": "execute_result"
    }
   ],
   "source": [
    "@constraint(model, balance,  Pgen + (Psto_dis - Psto_cha) - Pspill .== Pnl - Pshed)\n",
    "balance[1]"
   ]
  },
  {
   "cell_type": "markdown",
   "id": "6b234d2e-ba0a-4b00-bc5e-7e0b7f32340e",
   "metadata": {},
   "source": [
    "Shedding limit: no shedding allowed (but could be more generally a limit on the sum of Pshed)"
   ]
  },
  {
   "cell_type": "code",
   "execution_count": 147,
   "id": "48bd22cb-a2fd-44ad-bda3-8ff618148e21",
   "metadata": {},
   "outputs": [],
   "source": [
    "fix.(Pshed, 0.0; force=true);"
   ]
  },
  {
   "cell_type": "markdown",
   "id": "495b9a10-df89-4370-a5b4-1c7b490a56aa",
   "metadata": {},
   "source": [
    "### Costs\n",
    "\n",
    "we model annualized cost, to account for the different lifetime of each component"
   ]
  },
  {
   "cell_type": "code",
   "execution_count": 148,
   "id": "0acbbf15-b51d-4b86-8774-30cc9f002cc1",
   "metadata": {},
   "outputs": [
    {
     "data": {
      "text/plain": [
       "(0.05, 0.055415314890551334, 0.08024258719069129, 0.11745962477254576, 0.20535653069304277)"
      ]
     },
     "execution_count": 148,
     "metadata": {},
     "output_type": "execute_result"
    }
   ],
   "source": [
    "\"\"\"capital recovery factor for discount rate `i` and duration `T`\n",
    "CRF is such that Cann = NPC*CRF\n",
    "\"\"\"\n",
    "function CRF(i,T)\n",
    "    if i != 0.0\n",
    "        a = (1+i)^T\n",
    "        return i*a/(a-1)\n",
    "    else\n",
    "        return 1/T\n",
    "    end\n",
    "end\n",
    "CRF(0, 20), CRF(0.01, 20), CRF(0.05, 20), CRF(0.10, 20), CRF(0.20, 20)"
   ]
  },
  {
   "cell_type": "code",
   "execution_count": 149,
   "id": "5e08fdbe-a31c-4397-ae56-7199880bc5ac",
   "metadata": {},
   "outputs": [
    {
     "data": {
      "text/plain": [
       "0.05"
      ]
     },
     "execution_count": 149,
     "metadata": {},
     "output_type": "execute_result"
    }
   ],
   "source": [
    "discount_rate = mg.project.discount_rate"
   ]
  },
  {
   "cell_type": "code",
   "execution_count": 150,
   "id": "0746da75-45ef-43f0-ae2f-c45f229278ec",
   "metadata": {},
   "outputs": [
    {
     "data": {
      "text/plain": [
       "0.08024258719069129"
      ]
     },
     "execution_count": 150,
     "metadata": {},
     "output_type": "execute_result"
    }
   ],
   "source": [
    "CRFproj(T) = CRF(discount_rate, T) \n",
    "CRFproj(20.)"
   ]
  },
  {
   "cell_type": "markdown",
   "id": "71985979-0c52-4c66-8a12-4cd3e4246aeb",
   "metadata": {},
   "source": [
    "#### Generator\n",
    "\n",
    "assumptions:\n",
    "- constant efficiency, i.e. fuel intercept = 0\n",
    "- (optionnally) fixed number of operating hours per year, to linearize both the O&M and investment&replacement (with fixed  lifetime)"
   ]
  },
  {
   "cell_type": "markdown",
   "id": "4aef1326-e749-4f85-9941-56839dc71c5c",
   "metadata": {},
   "source": [
    "We defined the “annualized size”, which can depend on a usage-dependant lifetime $T$: $x_{ann} = x.CRF(T(x, u))$. Otherwise, its a fixed fraction of the size:"
   ]
  },
  {
   "cell_type": "code",
   "execution_count": 178,
   "id": "69c574f7-6e54-4745-90b9-00839a4fce71",
   "metadata": {},
   "outputs": [
    {
     "name": "stdout",
     "output_type": "stream",
     "text": [
      "fixed generator lifetime:5.0\n"
     ]
    },
    {
     "data": {
      "text/latex": [
       "$ 0.23097479812826793 power\\_rated\\_gen $"
      ],
      "text/plain": [
       "0.23097479812826793 power_rated_gen"
      ]
     },
     "execution_count": 178,
     "metadata": {},
     "output_type": "execute_result"
    }
   ],
   "source": [
    "if fixed_lifetimes\n",
    "    # assumed generator operation hours:\n",
    "    gen_hours = 3000. # in 0 – 8760\n",
    "    gen_lifetime = mg.generator.lifetime_hours / gen_hours # years\n",
    "    println(\"fixed generator lifetime: \", gen_lifetime, \" y\")\n",
    "    Pgen_rated_ann = power_rated_gen * CRFproj(gen_lifetime)\n",
    "end"
   ]
  },
  {
   "cell_type": "markdown",
   "id": "b1842a81-8249-40df-b272-196b60d334eb",
   "metadata": {},
   "source": [
    "Generator yearly energy (compensating for the optional data reduction when `ndays` ≠  365) "
   ]
  },
  {
   "cell_type": "code",
   "execution_count": 192,
   "id": "267dedf4-5ecd-485f-aa72-51e9bbceeabf",
   "metadata": {},
   "outputs": [],
   "source": [
    "@variable(model, Egen >= 0)\n",
    "@constraint(model, Egen == sum(Pgen)*dt * 365/ndays);"
   ]
  },
  {
   "cell_type": "markdown",
   "id": "87eee772-8c7b-46fd-ac64-91ba5036a969",
   "metadata": {},
   "source": [
    "Convexified operating hours:"
   ]
  },
  {
   "cell_type": "code",
   "execution_count": 195,
   "id": "5fb56ba8-7cf2-4def-b9da-2ad0aab35d36",
   "metadata": {},
   "outputs": [
    {
     "data": {
      "text/latex": [
       "$ {\\left(2 Egen\\right)} / {power\\_rated\\_gen} $"
      ],
      "text/plain": [
       "(2 Egen) / power_rated_gen"
      ]
     },
     "execution_count": 195,
     "metadata": {},
     "output_type": "execute_result"
    }
   ],
   "source": [
    "hours_factor = 2 # adjust the penalty on linearized hours\n",
    "gen_hours_cvx = hours_factor*Egen/power_rated_gen"
   ]
  },
  {
   "cell_type": "markdown",
   "id": "9d402a36-0608-4dd8-8dbb-9712d8f8b637",
   "metadata": {},
   "source": [
    "Generator cost, expressed with “annualized size” for the investment part (and normal size for O&M costs):\n",
    "- *for O&M*, there is the remaining question of using fixed gen hours, or the convexified one"
   ]
  },
  {
   "cell_type": "code",
   "execution_count": null,
   "id": "9072f95d-3e0b-4491-8229-81053873d7f4",
   "metadata": {},
   "outputs": [],
   "source": [
    "Cgen = mg.generator.investment_price * Pgen_rated_ann +\n",
    "       mg.generator.om_price_hours * gen_hours * power_rated_gen # or mg.generator.om_price_hours * hours_factor * Egen\n",
    "       mg.generator.fuel_price * mg.generator.fuel_slope * Egen;# $/y"
   ]
  },
  {
   "cell_type": "markdown",
   "id": "09d0d157-5001-4010-a35a-44f5ccc33ebe",
   "metadata": {},
   "source": [
    "#### Battery"
   ]
  },
  {
   "cell_type": "markdown",
   "id": "94372b9a-7ffd-49cc-a517-d511961af619",
   "metadata": {},
   "source": [
    "We defined the “annualized size”, which can depend on a usage-dependant lifetime $T$: $x_{ann} = x.CRF(T(x, u))$"
   ]
  },
  {
   "cell_type": "code",
   "execution_count": 153,
   "id": "b271305e-ed8f-4a1e-94aa-90269dbbea72",
   "metadata": {},
   "outputs": [
    {
     "data": {
      "text/latex": [
       "$ Esto\\_rated\\_ann $"
      ],
      "text/plain": [
       "Esto_rated_ann"
      ]
     },
     "execution_count": 153,
     "metadata": {},
     "output_type": "execute_result"
    }
   ],
   "source": [
    "@variable(model, Esto_rated_ann >= 0)"
   ]
  },
  {
   "cell_type": "markdown",
   "id": "ce7343b7-4a96-47fb-9524-de2fcd1565d0",
   "metadata": {},
   "source": [
    "Storage cost, expressed with “annualized size” for the investment part (and normal size for O&M costs):"
   ]
  },
  {
   "cell_type": "code",
   "execution_count": 154,
   "id": "5c0c54b4-266c-4de6-8eb9-e2d1a3dcdae0",
   "metadata": {},
   "outputs": [
    {
     "data": {
      "text/latex": [
       "$ 350 Esto\\_rated\\_ann + 10 energy\\_rated\\_sto $"
      ],
      "text/plain": [
       "350 Esto_rated_ann + 10 energy_rated_sto"
      ]
     },
     "execution_count": 154,
     "metadata": {},
     "output_type": "execute_result"
    }
   ],
   "source": [
    "Csto = mg.storage.investment_price * Esto_rated_ann +\n",
    "       mg.storage.om_price * energy_rated_sto"
   ]
  },
  {
   "cell_type": "markdown",
   "id": "f689ff34-e508-40e8-b186-388745290406",
   "metadata": {},
   "source": [
    "##### A) Effect of calendar lifetime:"
   ]
  },
  {
   "cell_type": "code",
   "execution_count": 155,
   "id": "bce60e60-e005-42b9-b824-75361192f092",
   "metadata": {},
   "outputs": [
    {
     "data": {
      "text/plain": [
       "(15.0, 0.09634228760924432)"
      ]
     },
     "execution_count": 155,
     "metadata": {},
     "output_type": "execute_result"
    }
   ],
   "source": [
    "CRFsto_cal = CRFproj(mg.storage.lifetime_calendar)\n",
    "mg.storage.lifetime_calendar, CRFsto_cal"
   ]
  },
  {
   "cell_type": "code",
   "execution_count": 156,
   "id": "4a7e20fc-54d8-47b7-a8e1-2e61f7a7b071",
   "metadata": {},
   "outputs": [
    {
     "data": {
      "text/latex": [
       "$$ -0.09634228760924432 energy\\_rated\\_sto + Esto\\_rated\\_ann \\geq 0 $$"
      ],
      "text/plain": [
       "-0.09634228760924432 energy_rated_sto + Esto_rated_ann ≥ 0"
      ]
     },
     "execution_count": 156,
     "metadata": {},
     "output_type": "execute_result"
    }
   ],
   "source": [
    "@constraint(model, Esto_rated_ann >= energy_rated_sto*CRFsto_cal)"
   ]
  },
  {
   "cell_type": "markdown",
   "id": "36708494-6c47-4df3-a7cb-c2c853d9a4a0",
   "metadata": {},
   "source": [
    "##### B) Effect of cycling\n",
    "\n",
    "we define the storage yearly energy throughput $E_{through} = \\sum_k (P_{sto,cha} + P_{sto,dis})\\Delta_t$ (kWh/y).\n",
    "\n",
    "Then, the storage usage is defined as:\n",
    "\n",
    "$$U_{sto} = \\frac{E_{through}}{2.N_{max}}$$\n",
    "\n",
    "so that the storage cycling lifetime is $T = E_{rated}/U_{sto}$.\n",
    "\n",
    "Proof:\n",
    "\n",
    "$$ \\frac{E_{rated}}{U_{sto}} = \\frac{2.E_{rated}.N_{max}}{E_{through}} =  \\frac{N_{max}}{N_{cycles}} $$\n",
    "\n",
    "using the following definition for $N_{cycles}$ the yearly number of equivalent full cycles:\n",
    "\n",
    "$$ N_{cycles} = \\frac{E_{through}}{2.E_{rated}}$$\n",
    "\n",
    "In Mg.jl:\n",
    "```julia\n",
    "storage_cycles = E_through_sto / 2*energy_rated_sto # cycles/y\n",
    "Tsto_cycle = mg.storage.lifetime_cycles/storage_cycles # years\n",
    "# thus:\n",
    "Tsto_cycle = 2*mg.storage.lifetime_cycles*energy_rated_sto / E_through_sto\n",
    "```"
   ]
  },
  {
   "cell_type": "code",
   "execution_count": 157,
   "id": "7ecb3e8e-285f-4bc1-b3d1-491a7ef01f3c",
   "metadata": {},
   "outputs": [
    {
     "data": {
      "text/plain": [
       "3000.0"
      ]
     },
     "execution_count": 157,
     "metadata": {},
     "output_type": "execute_result"
    }
   ],
   "source": [
    "mg.storage.lifetime_cycles"
   ]
  },
  {
   "cell_type": "code",
   "execution_count": 158,
   "id": "df08bdb2-35c9-476b-96c7-f6290edb6980",
   "metadata": {},
   "outputs": [],
   "source": [
    "@variable(model, 0 <= Usto)\n",
    "E_through_sto = (sum(Psto_cha) + sum(Psto_dis))*dt\n",
    "@constraint(model, Usto == E_through_sto/(2*mg.storage.lifetime_cycles));"
   ]
  },
  {
   "cell_type": "markdown",
   "id": "7c46e243-70ce-4b8b-89fd-54655d981afc",
   "metadata": {},
   "source": [
    "PWL approximation for usage-dependant annualized size:"
   ]
  },
  {
   "cell_type": "markdown",
   "id": "f8ed413c-a59a-4e37-9dfc-5379bd9752eb",
   "metadata": {},
   "source": [
    "Cut 1: long lifetime (low usage): $CRF \\to i$ (discount rate).\n",
    "\n",
    "Remark: depending on the value of the calendar lifetime, this may be inactive"
   ]
  },
  {
   "cell_type": "code",
   "execution_count": 159,
   "id": "7e5f388f-20c3-4e73-bcce-e6aa5f2254e7",
   "metadata": {},
   "outputs": [
    {
     "data": {
      "text/latex": [
       "$$ -0.05 energy\\_rated\\_sto + Esto\\_rated\\_ann \\geq 0 $$"
      ],
      "text/plain": [
       "-0.05 energy_rated_sto + Esto_rated_ann ≥ 0"
      ]
     },
     "execution_count": 159,
     "metadata": {},
     "output_type": "execute_result"
    }
   ],
   "source": [
    "@constraint(model, Esto_rated_ann >= energy_rated_sto*discount_rate)"
   ]
  },
  {
   "cell_type": "markdown",
   "id": "f935997e-3e74-4fb4-8076-3fb9439aee06",
   "metadata": {},
   "source": [
    "Cut 2: turning point lifetime ($U/X \\approx i/2$)"
   ]
  },
  {
   "cell_type": "code",
   "execution_count": 160,
   "id": "4ff4ef8b-3796-47a8-9e72-d4a9b4d17338",
   "metadata": {},
   "outputs": [
    {
     "data": {
      "text/plain": [
       "1.0247967157143927"
      ]
     },
     "execution_count": 160,
     "metadata": {},
     "output_type": "execute_result"
    }
   ],
   "source": [
    "c = discount_rate/log(1+discount_rate)"
   ]
  },
  {
   "cell_type": "code",
   "execution_count": 161,
   "id": "666b8c06-4f54-4b1a-b339-103a30d8a05c",
   "metadata": {},
   "outputs": [
    {
     "data": {
      "text/latex": [
       "$$ -0.0397243406133255 energy\\_rated\\_sto + Esto\\_rated\\_ann - 0.7420160121329825 Usto \\geq 0 $$"
      ],
      "text/plain": [
       "-0.0397243406133255 energy_rated_sto + Esto_rated_ann - 0.7420160121329825 Usto ≥ 0"
      ]
     },
     "execution_count": 161,
     "metadata": {},
     "output_type": "execute_result"
    }
   ],
   "source": [
    "@constraint(model, Esto_rated_ann >= \n",
    "    energy_rated_sto*discount_rate*0.794486812266510 +\n",
    "    Usto*c*0.724061660966310\n",
    ")"
   ]
  },
  {
   "cell_type": "markdown",
   "id": "44cc3e56-f1e6-4f93-9a80-4f15254b57b9",
   "metadata": {},
   "source": [
    "Cut 3: low lifetime (high usage)"
   ]
  },
  {
   "cell_type": "code",
   "execution_count": 162,
   "id": "c0113b56-a0a1-4d0b-88d3-dd4536505ccf",
   "metadata": {},
   "outputs": [
    {
     "data": {
      "text/latex": [
       "$$ -0.025 energy\\_rated\\_sto + Esto\\_rated\\_ann - 1.0247967157143927 Usto \\geq 0 $$"
      ],
      "text/plain": [
       "-0.025 energy_rated_sto + Esto_rated_ann - 1.0247967157143927 Usto ≥ 0"
      ]
     },
     "execution_count": 162,
     "metadata": {},
     "output_type": "execute_result"
    }
   ],
   "source": [
    "@constraint(model, Esto_rated_ann >= \n",
    "    energy_rated_sto*discount_rate*0.5 +\n",
    "    Usto*c\n",
    ")"
   ]
  },
  {
   "cell_type": "markdown",
   "id": "19ee5bd9-0f76-4e01-949f-388b22e26c3d",
   "metadata": {},
   "source": [
    "#### Wind and solar"
   ]
  },
  {
   "cell_type": "code",
   "execution_count": 163,
   "id": "d71607b5-1755-441a-8167-69351967110d",
   "metadata": {},
   "outputs": [],
   "source": [
    "pv = mg.nondispatchables[1];"
   ]
  },
  {
   "cell_type": "code",
   "execution_count": 164,
   "id": "1c1357cc-1480-43ec-b2c7-0c82b0de3988",
   "metadata": {},
   "outputs": [
    {
     "data": {
      "text/latex": [
       "$ 105.14294875907551 power\\_rated\\_pv $"
      ],
      "text/plain": [
       "105.14294875907551 power_rated_pv"
      ]
     },
     "execution_count": 164,
     "metadata": {},
     "output_type": "execute_result"
    }
   ],
   "source": [
    "Cpv = pv.investment_price * power_rated_pv * CRFproj(pv.lifetime) + \n",
    "      pv.om_price * power_rated_pv"
   ]
  },
  {
   "cell_type": "code",
   "execution_count": 165,
   "id": "0e103db7-da34-4e8f-be81-1fec4408c3e4",
   "metadata": {},
   "outputs": [],
   "source": [
    "wind = mg.nondispatchables[2];"
   ]
  },
  {
   "cell_type": "code",
   "execution_count": 166,
   "id": "632f3620-00ce-45d3-9022-0875c998195e",
   "metadata": {},
   "outputs": [
    {
     "data": {
      "text/latex": [
       "$ 348.3336005473036 power\\_rated\\_wind $"
      ],
      "text/plain": [
       "348.3336005473036 power_rated_wind"
      ]
     },
     "execution_count": 166,
     "metadata": {},
     "output_type": "execute_result"
    }
   ],
   "source": [
    "Cwind = wind.investment_price * power_rated_wind * CRFproj(wind.lifetime) + \n",
    "        wind.om_price * power_rated_wind"
   ]
  },
  {
   "cell_type": "code",
   "execution_count": 167,
   "id": "4fda4e89-12e5-49fc-837b-464d2b3f55be",
   "metadata": {},
   "outputs": [],
   "source": [
    "Cann = Cgen + Csto +  Cpv + Cwind;"
   ]
  },
  {
   "cell_type": "code",
   "execution_count": 168,
   "id": "9e1d5385-9f2a-4e94-aab8-a3899780e32b",
   "metadata": {},
   "outputs": [],
   "source": [
    "@objective(model, Min, Cann);"
   ]
  },
  {
   "cell_type": "markdown",
   "id": "4cf00609-2e01-45db-8bab-e41935525b1e",
   "metadata": {},
   "source": [
    "Display model stats: number of variables, constraints...\n",
    "\n",
    "- calendard storage lifetime only: 78845 variables\n",
    "- adding usage dependant: 78847 variables (Usto, Esto_ann)"
   ]
  },
  {
   "cell_type": "code",
   "execution_count": 169,
   "id": "d9345c29-fd9a-4f5e-875a-f6575dff5275",
   "metadata": {},
   "outputs": [
    {
     "data": {
      "text/plain": [
       "A JuMP Model\n",
       "Minimization problem with:\n",
       "Variables: 78847\n",
       "Objective function type: AffExpr\n",
       "`AffExpr`-in-`MathOptInterface.EqualTo{Float64}`: 43802 constraints\n",
       "`AffExpr`-in-`MathOptInterface.GreaterThan{Float64}`: 8765 constraints\n",
       "`AffExpr`-in-`MathOptInterface.LessThan{Float64}`: 35041 constraints\n",
       "`VariableRef`-in-`MathOptInterface.EqualTo{Float64}`: 8760 constraints\n",
       "`VariableRef`-in-`MathOptInterface.GreaterThan{Float64}`: 35046 constraints\n",
       "`VariableRef`-in-`MathOptInterface.LessThan{Float64}`: 4 constraints\n",
       "Model mode: AUTOMATIC\n",
       "CachingOptimizer state: EMPTY_OPTIMIZER\n",
       "Solver name: HiGHS\n",
       "Names registered in the model: Esto, Esto_rated_ann, Pgen, Pnl, Pshed, Pspill, Psto_cha, Psto_dis, Usto, balance, energy_rated_sto, power_rated_gen, power_rated_pv, power_rated_wind, pv_potential, stodyn, wind_potential"
      ]
     },
     "execution_count": 169,
     "metadata": {},
     "output_type": "execute_result"
    }
   ],
   "source": [
    "model"
   ]
  },
  {
   "cell_type": "markdown",
   "id": "42dd480c-d50a-4b84-80f8-2852dc05f6f7",
   "metadata": {},
   "source": [
    "## Optimize"
   ]
  },
  {
   "cell_type": "markdown",
   "id": "d4a06866-b5ea-4d67-924a-e2a1f6708455",
   "metadata": {},
   "source": [
    "Takes:\n",
    "- 4.6 s with 365 days with HiGHS\n",
    "- 5.6 s with 365 days with Clp\n",
    "\n",
    "with usage dependant cycling:\n",
    "\n",
    "- 22.8 s (but on battery, on Leno i5)"
   ]
  },
  {
   "cell_type": "code",
   "execution_count": 170,
   "id": "da70b787-66ac-4ecc-a195-5b65b59d0ffe",
   "metadata": {},
   "outputs": [
    {
     "name": "stdout",
     "output_type": "stream",
     "text": [
      "HiGHS.Optimizer K=8760\n",
      " 22.785528 seconds (955.43 k allocations: 96.073 MiB)\n"
     ]
    }
   ],
   "source": [
    "println(optimizer, \" K=\", K)\n",
    "@time optimize!(model)"
   ]
  },
  {
   "cell_type": "code",
   "execution_count": 171,
   "id": "fbf93c6b-43b2-408c-bffc-11cb8b92f778",
   "metadata": {},
   "outputs": [
    {
     "name": "stdout",
     "output_type": "stream",
     "text": [
      "LCOE*: 0.248019 $/kWh\n"
     ]
    }
   ],
   "source": [
    "LCOE_opt = value(Cann)/(sum(Pload)*dt)\n",
    "@printf(\"LCOE*: %.6f \\$/kWh\\n\", LCOE_opt)"
   ]
  },
  {
   "cell_type": "markdown",
   "id": "d94bc5c9-005b-460a-92cd-7a0d8b3639bd",
   "metadata": {},
   "source": [
    "Old run (calendar lifetime only)\n",
    "\n",
    "- fixed lifetime: LCOE* 0.248019 $/kWh for both HiGHS and Clp\n",
    "- with battery cycling aging: same (unchanged, cycling limit not active)"
   ]
  },
  {
   "cell_type": "markdown",
   "id": "5b15d9f5-666e-435c-9b61-93d5f514a4ea",
   "metadata": {},
   "source": [
    "### Optimal sizing\n",
    "oddly enough, no wind, but perhaps this is due to underpriced generator\n",
    "\n",
    "HiGHS sizing: (1310.9604758128346, 1651.9820031721902, 2225.349262011582, 0.0)"
   ]
  },
  {
   "cell_type": "code",
   "execution_count": 172,
   "id": "2543d0ec-737d-4292-8fec-4ede74b641a0",
   "metadata": {},
   "outputs": [
    {
     "data": {
      "text/plain": [
       "(1310.9604758128341, 1651.9820031722054, 2225.3492620115926, 0.0)"
      ]
     },
     "execution_count": 172,
     "metadata": {},
     "output_type": "execute_result"
    }
   ],
   "source": [
    "value(power_rated_gen), value(energy_rated_sto), value(power_rated_pv), value(power_rated_wind)"
   ]
  },
  {
   "cell_type": "markdown",
   "id": "533358c5-76c0-4ceb-a6cc-c57db176fc54",
   "metadata": {},
   "source": [
    "Cycling lifetime:"
   ]
  },
  {
   "cell_type": "code",
   "execution_count": 173,
   "id": "6fb0baa3-c6cc-4282-8f05-7bdd1363203a",
   "metadata": {},
   "outputs": [
    {
     "data": {
      "text/plain": [
       "15.368919909700779"
      ]
     },
     "execution_count": 173,
     "metadata": {},
     "output_type": "execute_result"
    }
   ],
   "source": [
    "value(energy_rated_sto/Usto)"
   ]
  },
  {
   "cell_type": "code",
   "execution_count": 174,
   "id": "5946d89f-616a-4be1-93db-ed107a249ef1",
   "metadata": {},
   "outputs": [
    {
     "data": {
      "text/plain": [
       "195.19914331171782"
      ]
     },
     "execution_count": 174,
     "metadata": {},
     "output_type": "execute_result"
    }
   ],
   "source": [
    "value(E_through_sto/(2*energy_rated_sto)) # c/year"
   ]
  },
  {
   "cell_type": "code",
   "execution_count": 175,
   "id": "28ebe087-d56e-4181-b63d-e75ea65bdc6d",
   "metadata": {},
   "outputs": [
    {
     "data": {
      "text/plain": [
       "15.384615384615385"
      ]
     },
     "execution_count": 175,
     "metadata": {},
     "output_type": "execute_result"
    }
   ],
   "source": [
    "3000/195"
   ]
  },
  {
   "cell_type": "markdown",
   "id": "206f944d-5533-4609-b4f7-9fc799b50f0d",
   "metadata": {},
   "source": [
    "Generator hours:"
   ]
  },
  {
   "cell_type": "code",
   "execution_count": 186,
   "id": "91512b6c-960f-44bb-bd79-c4b50353fb11",
   "metadata": {},
   "outputs": [
    {
     "data": {
      "text/plain": [
       "(6791.0, 7464.879154316371)"
      ]
     },
     "execution_count": 186,
     "metadata": {},
     "output_type": "execute_result"
    }
   ],
   "source": [
    "gen_hours_actual = sum(value.(Pgen) .> 1e-3*value(power_rated_gen) )*dt\n",
    "gen_hours_lin_actual = 2*sum(value.(Pgen)./value(power_rated_gen))*dt\n",
    "gen_hours_actual, gen_hours_lin_actual"
   ]
  },
  {
   "cell_type": "markdown",
   "id": "6c406645-7da5-4f78-a9da-1aff62031209",
   "metadata": {},
   "source": [
    "### Plot trajectory"
   ]
  },
  {
   "cell_type": "code",
   "execution_count": 183,
   "id": "b5b5aa34-a23f-43d1-8095-a868852cd21f",
   "metadata": {},
   "outputs": [
    {
     "data": {
      "text/plain": [
       "plot_oper_traj (generic function with 3 methods)"
      ]
     },
     "execution_count": 183,
     "metadata": {},
     "output_type": "execute_result"
    }
   ],
   "source": [
    "function plot_oper_traj(td, Pload, Pgen, Pren, Ebatt, price)\n",
    "    fig, (ax1, ax2, ax3) = plt.subplots(3,1, figsize=(5,3), sharex=true)\n",
    "    ax1.plot(td, Pload, label=\"load\")\n",
    "    ax1.plot(td, Pgen, \"tab:red\", label=\"gen\")\n",
    "    ax1.plot(td, Pren, \"tab:green\", label=\"renew\")\n",
    "    ax2.plot(td, Ebatt[1:end-1], \"C2\", label=\"Esto\")\n",
    "    \n",
    "    ax1.legend()\n",
    "    ax1.grid(true)\n",
    "    ax1.set(\n",
    "        ylabel=\"kW\"\n",
    "    )\n",
    "    ax2.grid(true)\n",
    "    ax2.legend()\n",
    "    ax2.set(\n",
    "        ylabel=\"kWh\"\n",
    "    )\n",
    "\n",
    "    ax3.plot(td, price, color=\"tab:brown\", label=\"price\")\n",
    "    ax3.grid(true)\n",
    "    ax3.legend()\n",
    "    ax3.set(\n",
    "        xlabel=\"time (d)\",\n",
    "        ylabel=\"\\$/kWh\"\n",
    "    )\n",
    "    \n",
    "    fig.tight_layout()\n",
    "    return fig, (ax1, ax2, ax3)\n",
    "end"
   ]
  },
  {
   "cell_type": "code",
   "execution_count": 184,
   "id": "844839e8-ed46-485c-894e-30bcfe00edef",
   "metadata": {},
   "outputs": [
    {
     "data": {
      "text/plain": [
       "false"
      ]
     },
     "execution_count": 184,
     "metadata": {},
     "output_type": "execute_result"
    }
   ],
   "source": [
    "pygui(true) # open interactive plot window\n",
    "pygui(false) # display image in notebook"
   ]
  },
  {
   "cell_type": "code",
   "execution_count": 185,
   "id": "57e64d50-4649-4b18-9eda-07b78995502b",
   "metadata": {},
   "outputs": [
    {
     "data": {
      "image/png": "[encoded data removed]",
      "text/plain": [
       "Figure(PyObject <Figure size 500x300 with 3 Axes>)"
      ]
     },
     "metadata": {},
     "output_type": "display_data"
    }
   ],
   "source": [
    "fig, (ax1, ax2, ax3) = plot_oper_traj(td, load, value.(Pgen),\n",
    "    value.(pv_potential+wind_potential),\n",
    "    value.(Esto),\n",
    "    dual.(balance)\n",
    ")\n",
    "ax1.set_xlim(0, 15);"
   ]
  },
  {
   "cell_type": "code",
   "execution_count": 188,
   "id": "9686542f-0f5c-4e84-8e4e-14fcdb151803",
   "metadata": {},
   "outputs": [
    {
     "data": {
      "image/png": "[encoded data removed]",
      "text/plain": [
       "Figure(PyObject <Figure size 500x300 with 3 Axes>)"
      ]
     },
     "metadata": {},
     "output_type": "display_data"
    }
   ],
   "source": [
    "fig, (ax1, ax2, ax3) = plot_oper_traj(td, load, value.(Pgen),\n",
    "    value.(pv_potential+wind_potential),\n",
    "    value.(Esto),\n",
    "    dual.(balance)\n",
    ")\n",
    "ax1.set_xlim(150, 165);\n",
    "ax3.set_ylim(0, 0.3); # zoom on shadow price"
   ]
  },
  {
   "cell_type": "markdown",
   "id": "617abdbb-43d8-41f2-b758-92ae97d10158",
   "metadata": {},
   "source": [
    "🚧 **Optim results analysis: TO BE CONTINUED....** 🚧\n",
    "\n",
    "TODO:\n",
    "- compute *actual* lifetime of generator and battery (cycles)\n",
    "- compute cost table\n",
    "- work on usage-dependant cost modeling"
   ]
  },
  {
   "cell_type": "markdown",
   "id": "d4e20bf9-f17e-4b1e-a951-70c7bc4f414c",
   "metadata": {},
   "source": [
    "## Timing analysis\n",
    "\n",
    "TO BE DONE\n",
    "\n",
    "effect on optimization time of: \n",
    "- ndays\n",
    "- solver (HiGHS, Clp, Gurobi)"
   ]
  }
 ],
 "metadata": {
  "kernelspec": {
   "display_name": "Julia 1.10.2",
   "language": "julia",
   "name": "julia-1.10"
  },
  "language_info": {
   "file_extension": ".jl",
   "mimetype": "application/julia",
   "name": "julia",
   "version": "1.10.2"
  }
 },
 "nbformat": 4,
 "nbformat_minor": 5
}
