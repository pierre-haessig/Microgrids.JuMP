{
 "cells": [
  {
   "cell_type": "markdown",
   "id": "3a7dbcc0-25a3-4dd9-9af1-6d1194cbfde8",
   "metadata": {},
   "source": [
    "# Microgrid sizing experiments for the “convex usage dependent cost” article\n",
    "\n",
    "**TODOs**:\n",
    "- iterative lifetime adjustment (for fixed_lifetime models)\n",
    "\n",
    "Pierre Haessig, October 2024"
   ]
  },
  {
   "cell_type": "code",
   "execution_count": 1,
   "id": "7482f7f5-163d-43fa-95a4-905c3664bbd3",
   "metadata": {},
   "outputs": [],
   "source": [
    "using Microgrids\n",
    "\n",
    "# Optimization\n",
    "using JuMP\n",
    "using HiGHS # Linear Programming solver\n",
    "\n",
    "# Display\n",
    "using Printf # pretty print results\n",
    "using PyPlot"
   ]
  },
  {
   "cell_type": "markdown",
   "id": "d7b73961-e1a4-4ccb-a688-3ca74dd85db3",
   "metadata": {},
   "source": [
    "Check version of Microgrids.jl (v0.11.0 needed)"
   ]
  },
  {
   "cell_type": "code",
   "execution_count": 2,
   "id": "d93b07c5-0eb0-41b1-941c-36277f98c5a2",
   "metadata": {},
   "outputs": [
    {
     "name": "stdout",
     "output_type": "stream",
     "text": [
      "\u001b[32m\u001b[1mStatus\u001b[22m\u001b[39m `~/.julia/environments/v1.11/Project.toml`\n",
      "  \u001b[90m[bd581358] \u001b[39mMicrogrids v0.11.0\n"
     ]
    }
   ],
   "source": [
    "import Pkg\n",
    "Pkg.status(\"Microgrids\")"
   ]
  },
  {
   "cell_type": "markdown",
   "id": "8856b12b-6580-498c-a235-3583cd3c91b8",
   "metadata": {},
   "source": [
    "## Problem setup"
   ]
  },
  {
   "cell_type": "code",
   "execution_count": 3,
   "id": "a70f0a0a-9ba2-4e8f-8dba-51608a202bad",
   "metadata": {},
   "outputs": [
    {
     "name": "stdout",
     "output_type": "stream",
     "text": [
      "Base Wind-Solar Microgrid project definition functions...\n"
     ]
    }
   ],
   "source": [
    "include(\"./example/Microgrid_Wind-Solar_data.jl\");"
   ]
  },
  {
   "cell_type": "code",
   "execution_count": 4,
   "id": "c1345f8e-ad93-485d-815c-8a25cba38363",
   "metadata": {},
   "outputs": [
    {
     "name": "stdout",
     "output_type": "stream",
     "text": [
      "Microgrid optimization with JuMP common functions:\n",
      "- CRF\n",
      "- ts_reduction\n",
      "- g_tan\n",
      "- cons_Xann_usage!\n",
      "- build_optim_mg_stage!\n",
      "- setup_optim_mg_jump\n",
      "- diagnostics_mg_jump\n",
      "- optim_mg_jump\n",
      "- simulate_alg\n"
     ]
    }
   ],
   "source": [
    "include(\"./Microgrid_JuMP_common.jl\");"
   ]
  },
  {
   "cell_type": "code",
   "execution_count": 5,
   "id": "f35cbb8a-bb4f-4795-8f7f-c708387c04d1",
   "metadata": {},
   "outputs": [
    {
     "name": "stdout",
     "output_type": "stream",
     "text": [
      "loading times series from data/Ouessant_data_2016.csv...\n"
     ]
    }
   ],
   "source": [
    "const tseries = load_microgrid_tseries();"
   ]
  },
  {
   "cell_type": "code",
   "execution_count": 6,
   "id": "7da287e3-242c-4554-aa4d-2d67c29faa6c",
   "metadata": {},
   "outputs": [
    {
     "data": {
      "text/plain": [
       "Microgrid{Float64}(Project(25, 0.05, 1.0, \"€\", ConsistentSalvage), [1453.0, 1331.0, 1214.0, 1146.0, 1078.0, 1035.0, 1032.0, 1072.0, 1142.0, 1208.0  …  1479.0, 1508.0, 1410.0, 1370.0, 1467.0, 1587.0, 1561.0, 1472.0, 1533.0, 1483.0], DispatchableGenerator{Float64}(1000.0, 0.0, 0.24, 1.0, 400.0, 0.02, 15000.0, 0.0, 1.0, 1.0, \"L\"), Battery{Float64}(1000.0, 350.0, 10.0, 15.0, 3000.0, 1.0, 1.0, 0.05, 0.0, 0.0, 1.0, 1.0), NonDispatchableSource[Photovoltaic{Float64}(1000.0, [0.0, 0.0, 0.0, 0.0, 0.0, 0.0, 0.0, 0.0, 0.0, 7.000000000000001e-5  …  0.45131, 0.30678, 0.0, 0.0, 0.0, 0.0, 0.0, 0.0, 0.0, 0.0], 1200.0, 20.0, 25.0, 1.0, 1.0, 1.0), WindPower{Float64}(1000.0, [0.03184904690521816, 0.1104932647748532, 0.24596484619739856, 0.44422012231738006, 0.6554128208926687, 0.8470913237698507, 0.9579413031865969, 0.9735278942424532, 0.9837469734016646, 0.9903667231838823  …  0.011233045262998936, 0.018460507449516883, 0.023644167600765466, 0.02969747711584798, 0.036359043012900244, 0.03713796382151399, 0.037530379586714784, 0.03792477182913709, 0.037530379586714784, 0.03674751985711801], 3500.0, 100.0, 25.0, 1.0, 1.0)])"
      ]
     },
     "execution_count": 6,
     "metadata": {},
     "output_type": "execute_result"
    }
   ],
   "source": [
    "\"\"\"Create a Microgrid project description of size `x`\n",
    "\n",
    "x should be [\n",
    "    power_rated_gen,\n",
    "    energy_rated_sto,\n",
    "    power_rated_pv,\n",
    "    power_rated_wind\n",
    "] (in kW or kWh)\n",
    "\n",
    "Apart from the sizing, the project is based on parameters\n",
    "defined by the function `create_mg_base` which\n",
    "defaults to the globally defined `create_mg_base`.\n",
    "This allows modifying some project parameters.\n",
    "\"\"\"\n",
    "function create_microgrid(x; create_mg_base=create_mg_base)\n",
    "    # Create base microgrid\n",
    "    mg = create_mg_base()\n",
    "\n",
    "    # force ConsistentSalvage, necessary for comparison with LP approaches\n",
    "    mg.project.salvage_type = ConsistentSalvage\n",
    "\n",
    "    # Set the size\n",
    "    mg.generator.power_rated = x[1] # power_rated_gen\n",
    "    mg.storage.energy_rated = x[2] # energy_rated_sto\n",
    "    mg.nondispatchables[1].power_rated = x[3] # power_rated_pv\n",
    "    mg.nondispatchables[2].power_rated = x[4] # power_rated_wind\n",
    "\n",
    "    return mg\n",
    "end\n",
    "\n",
    "x_base = [1000. 1000. 1000. 1000.]\n",
    "mg_base = create_microgrid(x_base)"
   ]
  },
  {
   "cell_type": "markdown",
   "id": "2003a550-3c02-4b68-af3e-a28055f0f81a",
   "metadata": {},
   "source": [
    "### Sizing bounds for each component"
   ]
  },
  {
   "cell_type": "code",
   "execution_count": 7,
   "id": "56345b69-0517-4bff-8722-71987a35a8a4",
   "metadata": {},
   "outputs": [
    {
     "name": "stdout",
     "output_type": "stream",
     "text": [
      "Max load power: 1707.0 kW"
     ]
    }
   ],
   "source": [
    "Pload_max = maximum(tseries.Pload) # kW\n",
    "@printf(\"Max load power: %.1f kW\", Pload_max)\n",
    "power_rated_gen_max = 1.2 * Pload_max\n",
    "energy_rated_sto_max = 10.0 * Pload_max\n",
    "power_rated_pv_max = 10.0 * Pload_max\n",
    "power_rated_wind_max = 5.0 * Pload_max;"
   ]
  },
  {
   "cell_type": "markdown",
   "id": "dc2ade54-9771-4960-aa3d-b5f76caf24a3",
   "metadata": {},
   "source": [
    "## Algebraic approach with usage dependent cost"
   ]
  },
  {
   "cell_type": "markdown",
   "id": "e9cb65ef-a41e-483c-815b-1df1410ea31a",
   "metadata": {},
   "source": [
    "### Model options"
   ]
  },
  {
   "cell_type": "markdown",
   "id": "e6dec52c-a403-4791-bb97-755adc0e188d",
   "metadata": {},
   "source": [
    "Load shedding (unserved load) bound, as a fraction of cumulated desired load energy:"
   ]
  },
  {
   "cell_type": "code",
   "execution_count": 8,
   "id": "65b3a277-f378-4445-8ad8-6c86fb4611ba",
   "metadata": {},
   "outputs": [
    {
     "data": {
      "text/plain": [
       "0.0"
      ]
     },
     "execution_count": 8,
     "metadata": {},
     "output_type": "execute_result"
    }
   ],
   "source": [
    "shed_max = 0.0 # in [0,1]"
   ]
  },
  {
   "cell_type": "markdown",
   "id": "37771c6b-d981-4a65-9761-75e1b3255d10",
   "metadata": {},
   "source": [
    "Choose between fixed lifetimes (gen and storage) vs usage-dependant:"
   ]
  },
  {
   "cell_type": "code",
   "execution_count": 9,
   "id": "e10e103e-36f9-4307-8cf7-7f3295ece17b",
   "metadata": {},
   "outputs": [
    {
     "data": {
      "text/plain": [
       "false"
      ]
     },
     "execution_count": 9,
     "metadata": {},
     "output_type": "execute_result"
    }
   ],
   "source": [
    "fixed_lifetimes = false"
   ]
  },
  {
   "cell_type": "markdown",
   "id": "32a5288f-1472-4914-b469-1a2b1138ee03",
   "metadata": {},
   "source": [
    "assumed generator operation hours (used if `fixed_lifetimes = false`)"
   ]
  },
  {
   "cell_type": "code",
   "execution_count": 11,
   "id": "a142d00f-052f-4f1b-9a77-ab158bd7eb75",
   "metadata": {},
   "outputs": [
    {
     "data": {
      "text/plain": [
       "2000.0"
      ]
     },
     "execution_count": 11,
     "metadata": {},
     "output_type": "execute_result"
    }
   ],
   "source": [
    "gen_hours_assum = 2000. # in 0 – 8760 h/y"
   ]
  },
  {
   "cell_type": "markdown",
   "id": "ffebb173-3c3a-4736-a284-e96c931ca5ad",
   "metadata": {},
   "source": [
    "else, use a relaxation gain to try to compensate the underestimation of e.g. the generator operating hours due to linearization. Default is 1.0. Use higher gain for stronger generator usage penalty.\n",
    "- 2.0 is used for article"
   ]
  },
  {
   "cell_type": "code",
   "execution_count": 14,
   "id": "8abefd2c-3b7c-48a7-929a-fb2e28830208",
   "metadata": {},
   "outputs": [
    {
     "data": {
      "text/plain": [
       "2.0"
      ]
     },
     "execution_count": 14,
     "metadata": {},
     "output_type": "execute_result"
    }
   ],
   "source": [
    "relax_gain = 2.0 # ≥ 1"
   ]
  },
  {
   "cell_type": "markdown",
   "id": "598a4dab-5e93-4366-bcf7-e4af42cb15cd",
   "metadata": {},
   "source": [
    "### Test case options\n",
    "\n",
    "test case modification functions"
   ]
  },
  {
   "cell_type": "code",
   "execution_count": 12,
   "id": "ad2cc2eb-1a5c-4d6e-8ec4-4ebd190e630d",
   "metadata": {},
   "outputs": [
    {
     "data": {
      "text/plain": [
       "modify_mg_lifetimes"
      ]
     },
     "execution_count": 12,
     "metadata": {},
     "output_type": "execute_result"
    }
   ],
   "source": [
    "\"\"\"Modify Microgrid project by *multiplying* base price values:\n",
    "- `sto`: `mg.storage.investment_price` \n",
    "- `gen`: `mg.generator.investment_price` \n",
    "- `fuel`: `mg.generator.fuel_price`\n",
    "\"\"\"\n",
    "function modify_mg_prices(;sto=1.0, gen=1.0, fuel=1.0)\n",
    "    println(\"mg prices modifications: sto*=$sto, gen*=$gen, fuel*=$fuel\")\n",
    "    function modify_mg(mg)\n",
    "        mg.storage.investment_price *= sto\n",
    "        mg.generator.investment_price *= gen\n",
    "        mg.generator.fuel_price *= fuel\n",
    "        return mg # return mg to allow chaining\n",
    "    end\n",
    "    return modify_mg\n",
    "end\n",
    "\n",
    "\"\"\"Modify Microgrid project by *setting* storage lifetimes:\n",
    "- `cal`: `mg.storage.lifetime_calendar` (years)\n",
    "- `cyc`: `mg.storage.lifetime_cycles` (nb cycles)\n",
    "\"\"\"\n",
    "function modify_mg_lifetimes(;cal=nothing, cyc=nothing)\n",
    "    cal_mod = cal !== nothing ? \"cal=$cal y\" : \"cal unchanged\"\n",
    "    cyc_mod = cyc !== nothing ? \"cyc=$cyc c\" : \"cyc unchanged\"\n",
    "    println(\"mg lifetime modification: $cal_mod, $cyc_mod\")\n",
    "    function modify_mg(mg)\n",
    "        if cal !== nothing\n",
    "            mg.storage.lifetime_calendar = cal\n",
    "        end\n",
    "        if cyc !== nothing\n",
    "            mg.storage.lifetime_cycles = cyc\n",
    "        end\n",
    "        return mg # return mg to allow chaining\n",
    "    end\n",
    "    return modify_mg\n",
    "end"
   ]
  },
  {
   "cell_type": "markdown",
   "id": "4e981bfd-8b48-4b76-a97d-313921fecd60",
   "metadata": {},
   "source": [
    "Choice of base case: (using function composition `create_mg_base` → `modify_mg1` → ...)"
   ]
  },
  {
   "cell_type": "code",
   "execution_count": 13,
   "id": "80efe797-08b2-4516-86ab-b47f2fa7e617",
   "metadata": {},
   "outputs": [
    {
     "name": "stdout",
     "output_type": "stream",
     "text": [
      "mg lifetime modification: cal unchanged, cyc=1500 c\n",
      "mg prices modifications: sto*=1.0, gen*=1.0, fuel*=2.0\n"
     ]
    }
   ],
   "source": [
    "create_mg_modified = modify_mg_lifetimes(cyc=1500) ∘\n",
    "                     modify_mg_prices(fuel=2.0) ∘\n",
    "                     create_mg_base;"
   ]
  },
  {
   "cell_type": "markdown",
   "id": "ffb7fc0b-9230-4224-a6ad-923fe0d85f77",
   "metadata": {},
   "source": [
    "### Algebraic model definition\n",
    "\n"
   ]
  },
  {
   "cell_type": "markdown",
   "id": "137f48f3-2dc7-4b5f-b4c4-5531a910b5cf",
   "metadata": {},
   "source": [
    "#### Core model definition"
   ]
  },
  {
   "cell_type": "markdown",
   "id": "0e4f418c-e28a-41d8-8df7-e6aa516e50d0",
   "metadata": {},
   "source": [
    "Test `setup_optim_mg_jump` function to get JuMP model. Notice that this is not used later, because `setup_optim_mg_jump` is used internally by `optim_mg_jump`."
   ]
  },
  {
   "cell_type": "code",
   "execution_count": 15,
   "id": "fc705172-49ee-4590-b9a3-3a9cd6f264a0",
   "metadata": {},
   "outputs": [
    {
     "name": "stdout",
     "output_type": "stream",
     "text": [
      "Building stage problem with 365 days...\n",
      "zero load shedding allowed\n",
      "Usage-dependent generator lifetime model (relax_gain=1.0)\n",
      "Xann constraints with z_tan=[0.2, 0.28, 0.37, 0.5, 0.68, 1.0, 1.7, 4.0]\n"
     ]
    },
    {
     "data": {
      "text/plain": [
       "A JuMP Model\n",
       "├ solver: HiGHS\n",
       "├ objective_sense: MIN_SENSE\n",
       "│ └ objective_function_type: AffExpr\n",
       "├ num_variables: 78849\n",
       "├ num_constraints: 140198\n",
       "│ ├ AffExpr in MOI.EqualTo{Float64}: 43803\n",
       "│ ├ AffExpr in MOI.GreaterThan{Float64}: 8782\n",
       "│ ├ AffExpr in MOI.LessThan{Float64}: 43801\n",
       "│ ├ VariableRef in MOI.EqualTo{Float64}: 8760\n",
       "│ ├ VariableRef in MOI.GreaterThan{Float64}: 35048\n",
       "│ └ VariableRef in MOI.LessThan{Float64}: 4\n",
       "└ Names registered in the model: none"
      ]
     },
     "execution_count": 15,
     "metadata": {},
     "output_type": "execute_result"
    }
   ],
   "source": [
    "optimizer = HiGHS.Optimizer\n",
    "\n",
    "mg_base, model_data = setup_optim_mg_jump(optimizer; shed_max)\n",
    "\n",
    "model_data[\"model\"]"
   ]
  },
  {
   "cell_type": "markdown",
   "id": "36a8438a-0a14-480e-b330-98ef0a9790e9",
   "metadata": {},
   "source": [
    "Remarks on model size:\n",
    "\n",
    "- stage problem has 78 849 variables (9*8760 + 9)"
   ]
  },
  {
   "cell_type": "markdown",
   "id": "c0381144-994b-40bd-a839-b45e130999c1",
   "metadata": {},
   "source": [
    "### Base Algebraic optim"
   ]
  },
  {
   "cell_type": "markdown",
   "id": "942fe044-c696-4094-8c7b-d3b1c1df241b",
   "metadata": {},
   "source": [
    "Base case: for battery cycle life=1500 and fuel*=2 and 10 cost tangents and relax_gain=1 and 10 tangents.\n",
    "\n",
    "Takes about 10-20s"
   ]
  },
  {
   "cell_type": "code",
   "execution_count": 22,
   "id": "60d6925f-5b57-438c-9dad-dec24dc0e059",
   "metadata": {},
   "outputs": [
    {
     "name": "stdout",
     "output_type": "stream",
     "text": [
      "Building stage problem with 365 days...\n",
      "zero load shedding allowed\n",
      "Usage-dependent generator lifetime model (relax_gain=2.0)\n",
      "Xann constraints with z_tan=[0.2, 0.28, 0.37, 0.5, 0.68, 1.0, 1.7, 4.0]\n",
      " 22.556240 seconds (1.65 M allocations: 117.648 MiB, 0.21% gc time)\n",
      "LCOE: 250.239373 €/MWh"
     ]
    }
   ],
   "source": [
    "optimizer = HiGHS.Optimizer\n",
    "\n",
    "xalg, lcoe_alg, diagnostics, traj_alg, model_data, mg_alg = optim_mg_jump(optimizer;\n",
    "    shed_max,\n",
    "    #ndays=10,\n",
    "    relax_gain,\n",
    "    #z_tan=[0.20, 0.28, 0.37, 0.50, 0.68, 1.0, 1.7, 4.0],\n",
    "    create_mg_base = create_mg_modified,\n",
    ")\n",
    "@printf(\"LCOE: %.6f €/MWh\", lcoe_alg*1000)"
   ]
  },
  {
   "cell_type": "code",
   "execution_count": 17,
   "id": "a020e7e6-2c99-4fff-b805-c30c30c4b9b7",
   "metadata": {},
   "outputs": [
    {
     "data": {
      "text/plain": [
       "4-element Vector{Float64}:\n",
       " 1255.5\n",
       " 5837.3\n",
       " 2329.5\n",
       " 1596.1"
      ]
     },
     "execution_count": 17,
     "metadata": {},
     "output_type": "execute_result"
    }
   ],
   "source": [
    "round.(xalg; digits=1) # optimal sizing"
   ]
  },
  {
   "cell_type": "markdown",
   "id": "311cd6af-9064-4f35-a89f-98aac6de6c41",
   "metadata": {},
   "source": [
    "#### Expected results\n",
    "\n",
    "for battery cycle life=1500, fuel*=2, 10 tangents and relax_gain=2\n",
    "\n",
    "LCOE: `250.239 373` €/MWh\n",
    "\n",
    "Sizing $x^*$:\n",
    "```\n",
    " Gen  1255.5\n",
    " Sto  5837.3\n",
    " PV   2329.5\n",
    " Wind 1596.1\n",
    "```\n",
    "\n",
    "same,  but with **relax_gain=1**\n",
    "\n",
    "LCOE: `243.023 740` €/MWh\n",
    "\n",
    "Sizing $x^*$:\n",
    "```\n",
    " Gen  1216.0\n",
    " Sto  4987.9\n",
    " PV   2132.0\n",
    " Wind 1575.9\n",
    "```"
   ]
  },
  {
   "cell_type": "code",
   "execution_count": 18,
   "id": "6b8e4558-dd8b-4e41-87a2-06a31ae19eac",
   "metadata": {},
   "outputs": [
    {
     "name": "stdout",
     "output_type": "stream",
     "text": [
      "Generator diagnostics:\n",
      "- cost_share: 0.3449048222208222\n",
      "- cost_share_fuel: 0.2814672373469457\n",
      "- energy: 994146.0936787404\n",
      "- load_share: 0.14673788563458876\n",
      "- hours: 1809.0\n",
      "- hours_lin: 1583.7121724658198\n",
      "- lifetime: 8.291873963515755\n",
      "- lifetime_hlin: 9.471418014452203\n",
      "- CRF: 0.150271578062569\n",
      "- CRF_hlin: 0.1351175173783697\n",
      "- CRF_hlin_pwl: 0.13497830538014102\n",
      "\n",
      "Storage diagnostics:\n",
      "- cost_share: 0.1826803559394787\n",
      "- energy_through: 1.6386143945716284e6\n",
      "- load_share: 0.12093132647139042\n",
      "- cycles: 140.35660110762856\n",
      "- lifetime_cycles: 10.687064150618514\n",
      "- lifetime: 10.687064150618514\n",
      "- CRF: 0.12305413939425353\n",
      "- CRF_pwl: 0.12301959130765426\n"
     ]
    }
   ],
   "source": [
    "\"pretty-print NamedTuple or Dict\"\n",
    "function pprint(d, title=nothing)\n",
    "    if title !== nothing\n",
    "        println(\"$title:\")\n",
    "    end\n",
    "    for k in keys(d)\n",
    "        println(\"- $k: \", d[k])\n",
    "    end\n",
    "end\n",
    "\n",
    "pprint(diagnostics.generator, \"Generator diagnostics\")\n",
    "println()\n",
    "pprint(diagnostics.storage, \"Storage diagnostics\")"
   ]
  },
  {
   "cell_type": "markdown",
   "id": "e02d627e-e2bb-4728-9756-66d5821ccd99",
   "metadata": {},
   "source": [
    "Comparison with exact cost (no PWL approx):"
   ]
  },
  {
   "cell_type": "code",
   "execution_count": 29,
   "id": "afabdbdc-22a4-497f-b49f-fc264d192528",
   "metadata": {},
   "outputs": [
    {
     "data": {
      "text/plain": [
       "(0.2502601106039112, 0.2502393733938677, -8.286262638279585e-5)"
      ]
     },
     "execution_count": 29,
     "metadata": {},
     "output_type": "execute_result"
    }
   ],
   "source": [
    "_, stats, costs = simulate_alg(mg_alg, model_data, Smoothing(transition=1.0, gain=relax_gain));\n",
    "costs.lcoe, lcoe_alg, lcoe_alg/costs.lcoe-1"
   ]
  },
  {
   "cell_type": "markdown",
   "id": "7b019e0b-60e4-4fe1-a1fd-2583c5d9f1dd",
   "metadata": {},
   "source": [
    "### Effect of PWL approximation\n"
   ]
  },
  {
   "cell_type": "markdown",
   "id": "1b6ac94e-c1f4-4895-9664-63da1ba6835d",
   "metadata": {},
   "source": [
    "Experiment design: from 2 tangents to 10"
   ]
  },
  {
   "cell_type": "code",
   "execution_count": 31,
   "id": "0b3cc3c8-1536-41c7-842a-92e6d56a5099",
   "metadata": {},
   "outputs": [
    {
     "data": {
      "text/plain": [
       "4"
      ]
     },
     "execution_count": 31,
     "metadata": {},
     "output_type": "execute_result"
    }
   ],
   "source": [
    "z_tan_list = [\n",
    "    [], # 2 tangents \n",
    "    [0.50],\n",
    "    [0.28, 0.5, 1.0],\n",
    "    [0.20, 0.28, 0.37, 0.50, 0.68, 1.0, 1.7, 4.0]\n",
    "    ]\n",
    "n_ztan = length(z_tan_list)"
   ]
  },
  {
   "cell_type": "code",
   "execution_count": 33,
   "id": "f6717aab-fb38-4750-bf10-04d1f1b59046",
   "metadata": {},
   "outputs": [
    {
     "name": "stdout",
     "output_type": "stream",
     "text": [
      "Optimization with 0 tangents\n",
      "Building stage problem with 365 days...\n",
      "zero load shedding allowed\n",
      "Usage-dependent generator lifetime model (relax_gain=2.0)\n",
      "Xann constraints with z_tan=Any[]\n",
      " 19.974134 seconds (1.65 M allocations: 117.637 MiB, 0.26% gc time)\n",
      "z=1/(T.log(1+i)):\n",
      "- z_gen = 2.1083205115443637 (lifetime 9.72145089044094 y)\n",
      "- z_sto = 1.864833974798723 (lifetime 10.990755526373354 y)\n",
      "Optimization with 1 tangents\n",
      "Building stage problem with 365 days...\n",
      "zero load shedding allowed\n",
      "Usage-dependent generator lifetime model (relax_gain=2.0)\n",
      "Xann constraints with z_tan=Any[0.5]\n",
      " 21.065508 seconds (1.65 M allocations: 117.639 MiB, 0.30% gc time)\n",
      "z=1/(T.log(1+i)):\n",
      "- z_gen = 2.108320511544363 (lifetime 9.721450890440945 y)\n",
      "- z_sto = 1.8648339747987246 (lifetime 10.990755526373343 y)\n",
      "Optimization with 3 tangents\n",
      "Building stage problem with 365 days...\n",
      "zero load shedding allowed\n",
      "Usage-dependent generator lifetime model (relax_gain=2.0)\n",
      "Xann constraints with z_tan=Any[0.28, 0.5, 1.0]\n",
      " 20.915364 seconds (1.65 M allocations: 117.641 MiB, 2.29% gc time)\n",
      "z=1/(T.log(1+i)):\n",
      "- z_gen = 2.147166495871887 (lifetime 9.54557289976956 y)\n",
      "- z_sto = 1.9231553544769031 (lifetime 10.657451186444963 y)\n",
      "Optimization with 8 tangents\n",
      "Building stage problem with 365 days...\n",
      "zero load shedding allowed\n",
      "Usage-dependent generator lifetime model (relax_gain=2.0)\n",
      "Xann constraints with z_tan=Any[0.2, 0.28, 0.37, 0.5, 0.68, 1.0, 1.7, 4.0]\n",
      " 22.134270 seconds (1.65 M allocations: 117.648 MiB, 0.20% gc time)\n",
      "z=1/(T.log(1+i)):\n",
      "- z_gen = 2.163977377306504 (lifetime 9.471418014452203 y)\n",
      "- z_sto = 1.9178264512524377 (lifetime 10.687064150618514 y)\n"
     ]
    },
    {
     "data": {
      "text/plain": [
       "4×2 Matrix{Float64}:\n",
       " 0.249423  0.250284\n",
       " 0.249423  0.250284\n",
       " 0.249601  0.250268\n",
       " 0.250239  0.25026"
      ]
     },
     "execution_count": 33,
     "metadata": {},
     "output_type": "execute_result"
    }
   ],
   "source": [
    "xalg_tab_pwl = zeros(n_ztan,length(xalg))\n",
    "lcoe_tab_pwl = zeros(n_ztan,2) # 1) model, 2) exact\n",
    "\n",
    "for i in 1:n_ztan\n",
    "    z_tan = z_tan_list[i]\n",
    "    println(\"Optimization with $(length(z_tan)) tangents\")\n",
    "    xalg, lcoe_alg, diagnostics, traj_alg, model_data, mg_alg = optim_mg_jump(optimizer;\n",
    "        shed_max,\n",
    "        #ndays=50,\n",
    "        fixed_lifetimes=false,\n",
    "        relax_gain,\n",
    "        z_tan,\n",
    "        create_mg_base = create_mg_modified,\n",
    "        #model_custom\n",
    "    )\n",
    "    # recompute exact cost (FAILS if ndays<365!)\n",
    "    _, stats, costs = simulate_alg(mg_alg, model_data,\n",
    "                                   Smoothing(transition=1.0, gain=relax_gain))\n",
    "    # store results\n",
    "    xalg_tab_pwl[i,:] = xalg'\n",
    "    lcoe_tab_pwl[i,1] = lcoe_alg\n",
    "    lcoe_tab_pwl[i,2] = costs.lcoe\n",
    "\n",
    "    # Compute z variables to understand the relation with z_tan\n",
    "    log1pi = log(1+mg_base.project.discount_rate)\n",
    "    Tgen_hlin = diagnostics.generator.lifetime_hlin\n",
    "    z_gen = 1/Tgen_hlin/log1pi\n",
    "    T_sto_cycles = diagnostics.storage.lifetime_cycles\n",
    "    z_sto = 1/T_sto_cycles/log1pi\n",
    "    \n",
    "    println(\"z=1/(T.log(1+i)):\")\n",
    "    println(\"- z_gen = $z_gen (lifetime $Tgen_hlin y)\")\n",
    "    println(\"- z_sto = $z_sto (lifetime $T_sto_cycles y)\")\n",
    "end\n",
    "\n",
    "lcoe_tab_pwl"
   ]
  },
  {
   "cell_type": "code",
   "execution_count": 34,
   "id": "9ab4f06a-a622-46f7-9298-6cfc386ee5b9",
   "metadata": {},
   "outputs": [
    {
     "data": {
      "text/plain": [
       "4×4 Matrix{Float64}:\n",
       " 1246.01  6231.3   2371.4   1594.56\n",
       " 1246.01  6231.3   2371.4   1594.56\n",
       " 1254.02  5899.52  2368.49  1588.12\n",
       " 1255.46  5837.33  2329.52  1596.12"
      ]
     },
     "execution_count": 34,
     "metadata": {},
     "output_type": "execute_result"
    }
   ],
   "source": [
    "xalg_tab_pwl"
   ]
  },
  {
   "cell_type": "markdown",
   "id": "b888ba69-0725-448b-bf17-45e2b713d2e6",
   "metadata": {},
   "source": [
    "Plot effect of nb of tangent on both LCOE. When ntan grows:\n",
    "- model (pwl approx) LCOE increases\n",
    "- but actual LCOE slighly decrease (since it's better approximated)!"
   ]
  },
  {
   "cell_type": "code",
   "execution_count": null,
   "id": "e7f3d8a5-a418-4fcf-a5b1-361d31af7b10",
   "metadata": {},
   "outputs": [],
   "source": [
    "fig, ax = subplots(figsize=(4.5,3))\n",
    "l = ax.plot([length(z_tan)+2 for z_tan in z_tan_list],\n",
    "        lcoe_tab_pwl*1000 .- 250, \"D:\")\n",
    "ax.grid(true)\n",
    "ax.set(\n",
    "    xlabel = \"nb tangents for PWL cost approx.\",\n",
    "    ylabel = \"LCOE − 250 €/MWh\"\n",
    ")\n",
    "ax.legend((\"approx LCOE\", \"exact LCOE\"))\n",
    "fig.tight_layout();"
   ]
  },
  {
   "cell_type": "markdown",
   "id": "dca4a007-b033-4191-9ff4-17704d013a76",
   "metadata": {},
   "source": [
    "### Iterative approach to set relax_gain"
   ]
  },
  {
   "cell_type": "code",
   "execution_count": 22,
   "id": "277452c7-5c8f-4e45-a091-d09b1b23b2b6",
   "metadata": {},
   "outputs": [
    {
     "data": {
      "text/plain": [
       "optim_mg_iter_relgain"
      ]
     },
     "execution_count": 22,
     "metadata": {},
     "output_type": "execute_result"
    }
   ],
   "source": [
    "\"\"\"Optimize sizing of microgrid using JuMP: iteration `relax_gain`\n",
    "\n",
    "and extract results\n",
    "\n",
    "# Parameters\n",
    "- same as `optim_mg_jump`, except that\n",
    "- `fixed_lifetimes=false` is assumed, so `gen_hours_assum` is not needed\n",
    "- `relax_gain_start` replaces `relax_gain`\n",
    "- `relax_gain_smoothing` in [0, 1[ sets how slow relax_gain is updated. 0=no smoothing\n",
    "- `n_iter`: number of iterations (default 6)\n",
    "\n",
    "Returns:\n",
    "xalg_tab, lcoe_tab, rgain_tab, diagnostics, traj_alg, model_data\n",
    "\n",
    "(the last ones are from the last iteration)\n",
    "\"\"\"\n",
    "function optim_mg_iter_relgain(optimizer;\n",
    "        shed_max=0.0,\n",
    "        ndays=365,\n",
    "        relax_gain_start = 1.0,\n",
    "        relax_gain_smoothing = 0.0,\n",
    "        n_iter=6,\n",
    "        z_tan = [0.20, 0.28, 0.37, 0.50, 0.68, 1.0, 1.7, 4.0],\n",
    "        create_mg_base=create_mg_base,\n",
    "        model_custom=nothing,\n",
    "    )\n",
    "\n",
    "    xalg_tab = zeros(0,length(xalg)) # global previously computed xalg here\n",
    "    lcoe_tab = zeros(0,1)\n",
    "    rgain_tab = zeros(n_iter,1)\n",
    "    relax_gain = relax_gain_start # init\n",
    "    local diagnostics, traj_alg, model_data\n",
    "    \n",
    "    for i in 1:n_iter\n",
    "        println(\"relax_gain iteration $i: $relax_gain\")\n",
    "        rgain_tab[i] = relax_gain # store relax_gain\n",
    "        xalg, lcoe_alg, diagnostics, traj_alg, model_data = optim_mg_jump(optimizer;\n",
    "            shed_max, ndays,\n",
    "            fixed_lifetimes=false,\n",
    "            relax_gain,\n",
    "            z_tan,\n",
    "            create_mg_base,\n",
    "            model_custom\n",
    "        )\n",
    "        # store results\n",
    "        xalg_tab = [xalg_tab; xalg']\n",
    "        lcoe_tab = [lcoe_tab; lcoe_alg]\n",
    "        # correct next gain\n",
    "        print(\"  hours/hours_lin: \")\n",
    "        println(diagnostics.generator.hours / diagnostics.generator.hours_lin)\n",
    "        relax_gain_target = relax_gain*diagnostics.generator.hours / diagnostics.generator.hours_lin\n",
    "        relax_gain = relax_gain_smoothing*relax_gain + \n",
    "                     (1-relax_gain_smoothing)*relax_gain_target\n",
    "    end\n",
    "    return xalg_tab, lcoe_tab, rgain_tab, diagnostics, traj_alg, model_data\n",
    "end"
   ]
  },
  {
   "cell_type": "code",
   "execution_count": 23,
   "id": "f4937d8b-c3d9-4310-9c53-f4d8655dd30d",
   "metadata": {},
   "outputs": [
    {
     "name": "stdout",
     "output_type": "stream",
     "text": [
      "\n",
      "relax_gain iteration 1: 1.0\n",
      "Building stage problem with 365 days...\n",
      "zero load shedding allowed\n",
      "Usage-dependent generator lifetime model (relax_gain=1.0)\n",
      "Xann constraints with z_tan=[0.2, 0.28, 0.37, 0.5, 0.68, 1.0, 1.7, 4.0]\n",
      " 12.203321 seconds (1.65 M allocations: 117.648 MiB, 0.89% gc time)\n",
      "  hours/hours_lin: 2.283988750754325\n",
      "relax_gain iteration 2: 2.283988750754325\n",
      "Building stage problem with 365 days...\n",
      "zero load shedding allowed\n",
      "Usage-dependent generator lifetime model (relax_gain=2.283988750754325)\n",
      "Xann constraints with z_tan=[0.2, 0.28, 0.37, 0.5, 0.68, 1.0, 1.7, 4.0]\n",
      " 10.406956 seconds (1.65 M allocations: 117.648 MiB, 0.46% gc time)\n",
      "  hours/hours_lin: 0.9904394450203691\n",
      "relax_gain iteration 3: 2.2621525507298794\n",
      "Building stage problem with 365 days...\n",
      "zero load shedding allowed\n",
      "Usage-dependent generator lifetime model (relax_gain=2.2621525507298794)\n",
      "Xann constraints with z_tan=[0.2, 0.28, 0.37, 0.5, 0.68, 1.0, 1.7, 4.0]\n",
      " 11.011321 seconds (1.65 M allocations: 117.648 MiB, 0.58% gc time)\n",
      "  hours/hours_lin: 1.000546605502216\n",
      "relax_gain iteration 4: 2.2633890557609604\n",
      "Building stage problem with 365 days...\n",
      "zero load shedding allowed\n",
      "Usage-dependent generator lifetime model (relax_gain=2.2633890557609604)\n",
      "Xann constraints with z_tan=[0.2, 0.28, 0.37, 0.5, 0.68, 1.0, 1.7, 4.0]\n",
      " 11.680366 seconds (1.65 M allocations: 117.648 MiB, 0.36% gc time)\n",
      "  hours/hours_lin: 1.0000000000000002\n",
      "relax_gain iteration 5: 2.263389055760961\n",
      "Building stage problem with 365 days...\n",
      "zero load shedding allowed\n",
      "Usage-dependent generator lifetime model (relax_gain=2.263389055760961)\n",
      "Xann constraints with z_tan=[0.2, 0.28, 0.37, 0.5, 0.68, 1.0, 1.7, 4.0]\n",
      " 12.179894 seconds (1.65 M allocations: 117.648 MiB, 0.59% gc time)\n",
      "  hours/hours_lin: 1.0\n",
      "relax_gain iteration 6: 2.263389055760961\n",
      "Building stage problem with 365 days...\n",
      "zero load shedding allowed\n",
      "Usage-dependent generator lifetime model (relax_gain=2.263389055760961)\n",
      "Xann constraints with z_tan=[0.2, 0.28, 0.37, 0.5, 0.68, 1.0, 1.7, 4.0]\n",
      " 10.473475 seconds (1.65 M allocations: 117.648 MiB, 0.31% gc time)\n",
      "  hours/hours_lin: 1.0\n"
     ]
    },
    {
     "data": {
      "text/plain": [
       "6×1 Matrix{Float64}:\n",
       " 0.24302374019272588\n",
       " 0.2521392036981835\n",
       " 0.2519936911941726\n",
       " 0.2520018758330073\n",
       " 0.25200187583300726\n",
       " 0.25200187583300726"
      ]
     },
     "execution_count": 23,
     "metadata": {},
     "output_type": "execute_result"
    }
   ],
   "source": [
    "println(\"\")\n",
    "xalg_tab, lcoe_tab, rgain_tab, diagnostics, traj_alg, model_data =  optim_mg_iter_relgain(optimizer;\n",
    "    shed_max,\n",
    "    #ndays=20,\n",
    "    relax_gain_start = 1.0,\n",
    "    n_iter=6,\n",
    "    #z_tan=[0.20, 0.28, 0.37, 0.50, 0.68, 1.0, 1.7, 4.0],\n",
    "    create_mg_base=create_mg_modified,\n",
    "    #model_custom=nothing\n",
    ")\n",
    "lcoe_tab"
   ]
  },
  {
   "cell_type": "code",
   "execution_count": 24,
   "id": "bf1d767c-6218-4ef4-8b78-9a72dc74132c",
   "metadata": {},
   "outputs": [
    {
     "data": {
      "text/plain": [
       "6×4 Matrix{Float64}:\n",
       " 1215.98  4987.93  2132.0   1575.9\n",
       " 1249.59  6072.31  2384.13  1605.97\n",
       " 1250.18  6046.1   2378.02  1608.66\n",
       " 1250.18  6046.1   2378.02  1608.66\n",
       " 1250.18  6046.1   2378.02  1608.66\n",
       " 1250.18  6046.1   2378.02  1608.66"
      ]
     },
     "execution_count": 24,
     "metadata": {},
     "output_type": "execute_result"
    }
   ],
   "source": [
    "xalg_tab"
   ]
  },
  {
   "cell_type": "markdown",
   "id": "156185ee-cd64-4d4e-ad12-4b88fd0ab1dc",
   "metadata": {},
   "source": [
    "Plot the convergence with relax_gain tuning:"
   ]
  },
  {
   "cell_type": "code",
   "execution_count": 25,
   "id": "1d983281-0908-4f94-9b3f-ea73e72a472b",
   "metadata": {},
   "outputs": [
    {
     "data": {
      "image/png": "[encoded data removed]",
      "text/plain": [
       "Figure(PyObject <Figure size 700x400 with 3 Axes>)"
      ]
     },
     "metadata": {},
     "output_type": "display_data"
    }
   ],
   "source": [
    "fig, ax = subplots(3,1, figsize=(7,4), sharex=true)\n",
    "\n",
    "n_iter = length(rgain_tab)\n",
    "\n",
    "ax[1].plot(1:n_iter, lcoe_tab*1000, \"d-\", label=\"LCOE\")\n",
    "ax[1].set_ylim(251, 253) # 365 days\n",
    "\n",
    "ax[2].plot(1:n_iter, xalg_tab[:,1], \"d-\", label=\"Pgen rated\")\n",
    "#ax[2].set_ylim(630, 670)\n",
    "\n",
    "#ax[3].plot(2:n_iter, rgain_tab[2:end]./rgain_tab[1:end-1] .- 1,\n",
    "#           \"d-\", label=\"relax_gain change\")\n",
    "#ax[3].set_ylim(-12e-3, +12e-3)\n",
    "ax[3].plot(1:n_iter, rgain_tab,\n",
    "           \"d-\", label=\"relax_gain\")\n",
    "ax[3].set_ylim(0.9, 2.4)\n",
    "\n",
    "for axi in ax\n",
    "    axi.grid(true)\n",
    "    axi.legend()\n",
    "end\n",
    "#ax[1].set_xlim(60, 80)\n",
    "#ax[1].set_xlim(0, 10)"
   ]
  },
  {
   "cell_type": "markdown",
   "id": "20412091-e644-4690-aab1-ddb605553ae5",
   "metadata": {},
   "source": [
    "## Fixed lifetime approach\n",
    "\n",
    "tests:\n",
    "- 2000 vs 3000 h/y for generator\n",
    "- 15 vs 10 y calendar life for storage"
   ]
  },
  {
   "cell_type": "code",
   "execution_count": 77,
   "id": "8624acbb-5b14-48f2-99f2-08395b4531e3",
   "metadata": {},
   "outputs": [
    {
     "name": "stdout",
     "output_type": "stream",
     "text": [
      "mg lifetime modification: cal=10 y, cyc unchanged\n",
      "Building stage problem with 365 days...\n",
      "zero load shedding allowed\n",
      "Fixed generator lifetime hypothesis: 7.5 y, assuming 2000.0  h/y of usage\n",
      "  4.364898 seconds (1.64 M allocations: 115.996 MiB, 1.91% gc time)\n",
      "LCOE: 248.752130296 €/MWh"
     ]
    }
   ],
   "source": [
    "x_fxlt, lcoe_fxlt, diagnostics, traj_fxlt, model_data = optim_mg_jump(optimizer;\n",
    "    shed_max,\n",
    "    #ndays=30,\n",
    "    fixed_lifetimes=true,\n",
    "    #gen_hours_assum = 2000.,\n",
    "    gen_hours_assum = 3000.,\n",
    "    relax_gain,\n",
    "    #z_tan=[0.20, 0.28, 0.37, 0.50, 0.68, 1.0, 1.7, 4.0],\n",
    "    #create_mg_base = modify_mg_lifetimes(cal=10) ∘ create_mg_modified,\n",
    "    create_mg_base = create_mg_modified,\n",
    ")\n",
    "@printf(\"LCOE: %.9f €/MWh (wrong)\", lcoe_fxlt*1000)"
   ]
  },
  {
   "cell_type": "markdown",
   "id": "4120155c-9f30-426f-9d50-44be9f24b76a",
   "metadata": {},
   "source": [
    "Sizing with fixed lifetime vs base sizing"
   ]
  },
  {
   "cell_type": "code",
   "execution_count": 78,
   "id": "5743bf92-632e-4dd7-b6f1-950c569cf1da",
   "metadata": {
    "collapsed": true,
    "jupyter": {
     "outputs_hidden": true
    },
    "scrolled": true
   },
   "outputs": [
    {
     "data": {
      "text/plain": [
       "4×2 Matrix{Float64}:\n",
       " 1186.4  1255.5\n",
       " 3495.2  5837.3\n",
       " 2198.2  2329.5\n",
       " 1484.5  1596.1"
      ]
     },
     "execution_count": 78,
     "metadata": {},
     "output_type": "execute_result"
    }
   ],
   "source": [
    "round.([x_fxlt xalg]; digits=1) # optimal sizing"
   ]
  },
  {
   "cell_type": "markdown",
   "id": "45983a3a-301f-46d9-9620-bf4fd9d954b4",
   "metadata": {},
   "source": [
    "###### Diagnostics: battery is underpriced by 30% (0.0963/0.1399=0.69):\n",
    "- CRF being used: 0.0963, i.e. CRF(15 y)\n",
    "- but cycle lifetime is 9.06 y → CRF should be 0.1399"
   ]
  },
  {
   "cell_type": "code",
   "execution_count": 79,
   "id": "f3195a0e-3b71-4029-a460-2a2e65279ab0",
   "metadata": {},
   "outputs": [
    {
     "name": "stdout",
     "output_type": "stream",
     "text": [
      "Generator diagnostics:\n",
      "- cost_share: 0.44128149872185646\n",
      "- cost_share_fuel: 0.36717969527686845\n",
      "- energy: 1.2891759107806042e6\n",
      "- load_share: 0.19028485708673107\n",
      "- hours: 2495.0\n",
      "- hours_lin: 2173.301254696729\n",
      "- lifetime: 6.012024048096192\n",
      "- lifetime_hlin: 6.901942364218236\n",
      "- CRF: 0.19667830314269383\n",
      "- CRF_hlin: 0.17487993325252757\n",
      "- CRF_hlin_pwl: 0.16316086288079687\n",
      "\n",
      "Storage diagnostics:\n",
      "- cost_share: 0.11474586817761262\n",
      "- energy_through: 1.2422988748374572e6\n",
      "- load_share: 0.09168285797177063\n",
      "- cycles: 177.71262006608205\n",
      "- lifetime_cycles: 8.440593579916992\n",
      "- lifetime: 8.440593579916992\n",
      "- CRF: 0.14812395040600537\n",
      "- CRF_pwl: 0.12950457496545661\n"
     ]
    }
   ],
   "source": [
    "pprint(diagnostics.generator, \"Generator diagnostics\")\n",
    "println()\n",
    "pprint(diagnostics.storage, \"Storage diagnostics\")"
   ]
  },
  {
   "cell_type": "markdown",
   "id": "3728f286-e6d6-4d20-b88b-f54c6d4c93c7",
   "metadata": {},
   "source": [
    "### TODO: iterative lifetime adjustment\n",
    "\n",
    "(not biggest priority though)"
   ]
  },
  {
   "cell_type": "markdown",
   "id": "87d5522e-9593-4480-b237-04694311b6d7",
   "metadata": {},
   "source": [
    "## Usage penalty approach"
   ]
  },
  {
   "cell_type": "markdown",
   "id": "7653a2df-b06a-4098-8499-4d14f50a6166",
   "metadata": {},
   "source": [
    "Model customization to penalize usage variables (instead of having the nonlinear influence of usage through annualized size)"
   ]
  },
  {
   "cell_type": "code",
   "execution_count": 53,
   "id": "2e8432c5-5ce0-4aed-a1f5-0dd98fe0c126",
   "metadata": {},
   "outputs": [
    {
     "data": {
      "text/plain": [
       "model_penalize_usage"
      ]
     },
     "execution_count": 53,
     "metadata": {},
     "output_type": "execute_result"
    }
   ],
   "source": [
    "\"\"\"penalize generator and usage in Cann\n",
    "\"\"\"\n",
    "function model_penalize_usage(md, mg)\n",
    "    println(\"Penalized usage variant\")\n",
    "    model = md[\"model\"]\n",
    "\n",
    "    # Add usage variables (not added when fixed_lifetimes=true)\n",
    "    # Generator usage:\n",
    "    @assert \"Ugen\" ∉ keys(md) \"Ugen shouldn't have been defined. Make sure fixed_lifetimes=true\"\n",
    "    md[\"Ugen\"] = @variable(model, Ugen >= 0) # cumulated usage\n",
    "    @constraint(model, Ugen == md[\"Egen\"]*relax_gain/mg.generator.lifetime_hours); # kW/y\n",
    "    # Storage usage\n",
    "    @assert \"Usto\" ∉ keys(md) \"Usto shouldn't have been defined. Make sure fixed_lifetimes=true\"\n",
    "    md[\"Usto\"] = @variable(model, Usto >= 0) # cumulated usage\n",
    "    @constraint(model, Usto == md[\"E_through_sto\"]/(2*mg.storage.lifetime_cycles))\n",
    "    \n",
    "    # overwrite cost function with penalties\n",
    "    md[\"Ugen_penal\"] = Ugen_penal = mg.generator.investment_price * Ugen\n",
    "    md[\"Usto_penal\"] = Usto_penal = mg.storage.investment_price * Usto\n",
    "    \n",
    "    md[\"Cann_penal\"] = Cann_penal = md[\"Cann\"] + Ugen_penal + Usto_penal\n",
    "    @objective(model, Min, Cann_penal)\n",
    "end"
   ]
  },
  {
   "cell_type": "code",
   "execution_count": 54,
   "id": "1477487a-c012-4306-8100-f48362eb0a93",
   "metadata": {},
   "outputs": [
    {
     "data": {
      "text/plain": [
       "1.0"
      ]
     },
     "execution_count": 54,
     "metadata": {},
     "output_type": "execute_result"
    }
   ],
   "source": [
    "mg_base.generator.fuel_price"
   ]
  },
  {
   "cell_type": "code",
   "execution_count": 55,
   "id": "818a77ff-2015-4dbb-ba61-eb844bf123ed",
   "metadata": {},
   "outputs": [
    {
     "name": "stdout",
     "output_type": "stream",
     "text": [
      "number of scenarios: 3\n"
     ]
    }
   ],
   "source": [
    "fuel_price_scenar = [0.5, 1.0, 1.5] # (decrease, constant, increase)\n",
    "ns = length(fuel_price_scenar)\n",
    "proba_scenar = [1., 1., 1.]/ns\n",
    "println(\"number of scenarios: $ns\")"
   ]
  },
  {
   "cell_type": "code",
   "execution_count": 90,
   "id": "9264cd57-5f41-49a2-854c-fdfa44d8a165",
   "metadata": {},
   "outputs": [],
   "source": [
    "#fuel_price_scenar = [fuel_price,] # (constant, for sanity check)\n",
    "#ns = length(fuel_price_scenar)\n",
    "#proba_scenar = [1.,]/ns\n",
    "#println(\"number of scenarios: $ns\")"
   ]
  },
  {
   "cell_type": "code",
   "execution_count": 91,
   "id": "4394dc3b-6d68-43eb-b49d-ab3f75100d55",
   "metadata": {},
   "outputs": [
    {
     "name": "stdout",
     "output_type": "stream",
     "text": [
      "0.4003000099610032 Cann1 + 0.5996999900389431 Cann2\n",
      "0.676935112477701 Cann1 + 0.3230648875222989 Cann2\n"
     ]
    }
   ],
   "source": [
    "\"\"\"Combine annualized cost of two project fragments:\n",
    "- Cann1 during T1 years\n",
    "- Cann2 during T2 years, starting after T1\n",
    "\"\"\"\n",
    "function Cann_total(Cann1, Cann2, T1, T2, discount_rate)\n",
    "    CRFproj(T) = CRF(discount_rate, T)\n",
    "    NPC1 = Cann1/CRFproj(T1)\n",
    "    discount2 = 1/(1+discount_rate)^T1\n",
    "    NPC2 = Cann2/CRFproj(T2) * discount2\n",
    "\n",
    "    NPC = NPC1 + NPC2\n",
    "    Cann = NPC*CRFproj(lifetime)\n",
    "end\n",
    "\n",
    "# test\n",
    "m = Model()\n",
    "@variable(m, Cann1)\n",
    "@variable(m, Cann2)\n",
    "println(Cann_total(Cann1, Cann2, 10, 15, 0.0001)) # 40% , 60%\n",
    "println(Cann_total(Cann1, Cann2, 10, 15, 0.10))   # 68% , 32%"
   ]
  },
  {
   "cell_type": "code",
   "execution_count": 92,
   "id": "c12909a7-029d-4958-9d9d-736bc0d124d5",
   "metadata": {},
   "outputs": [
    {
     "data": {
      "text/plain": [
       "setup_optim_mg_jump_2SP"
      ]
     },
     "execution_count": 92,
     "metadata": {},
     "output_type": "execute_result"
    }
   ],
   "source": [
    "\"\"\"Setup microgrid sizing optimization model using JuMP\n",
    "\n",
    "# Parameters:\n",
    "- `shed_max`: load shedding penalty threshold should be in  [0,1[\n",
    "- `optimizer`: JuMP compatible optimization solver\n",
    "\n",
    "# Optional keyword parameters\n",
    "- `ndays=365`: data reduction\n",
    "- `fixed_lifetimes`: true or false (default)\n",
    "- `relax_gain`: 1.0 by default. Increase to try to compensation the underestimation\n",
    "  of e.g. generator operating hours due to linearization.\n",
    "- and some price params (keyword params)\n",
    "\n",
    "Sizing maximum bounds are taken as the global variables\n",
    "    power_rated_gen_max,\n",
    "    energy_rated_sto_max,\n",
    "    power_rated_pv_max,\n",
    "    power_rated_wind_max\n",
    "\n",
    "Returns:\n",
    "- mg: base microgrid\n",
    "- model_data Dict, with variables, named constraints and the JuMP model\n",
    "- LCOE expression\n",
    "\"\"\"\n",
    "function setup_optim_mg_jump_2SP(shed_max, optimizer, Tmid;\n",
    "        ndays=365,\n",
    "        fixed_lifetimes=false,\n",
    "        relax_gain = 1.0,\n",
    "        investment_price_sto=investment_price_sto,\n",
    "        investment_price_gen=investment_price_gen,\n",
    "        fuel_price1=fuel_price,\n",
    "        fuel_price_scenar=fuel_price_scenar,\n",
    "        proba_scenar=proba_scenar\n",
    "    )\n",
    "    ns = length(proba_scenar)\n",
    "    println(\"number of 2nd stage scenarios: $ns\")\n",
    "\n",
    "    # base Microgrid with 1kW(h) ratings\n",
    "    T1 = Tmid\n",
    "    # TODO: decide where to change prices: in create_microgrid or in build model!!!\n",
    "    mg1 = create_microgrid([1., 1., 1., 1.];\n",
    "        investment_price_sto=investment_price_sto,\n",
    "        investment_price_gen=investment_price_gen,\n",
    "        fuel_price=fuel_price,\n",
    "        lifetime=T1\n",
    "    )\n",
    "    T2 = lifetime-Tmid\n",
    "    \n",
    "    mg2 = [create_microgrid([1., 1., 1., 1.];\n",
    "        investment_price_sto=investment_price_sto,\n",
    "        investment_price_gen=investment_price_gen,\n",
    "        fuel_price=fuel_price_scenar[s],\n",
    "        lifetime=lifetime-Tmid\n",
    "    ) for s=1:ns]\n",
    "\n",
    "    # JuMP model setup\n",
    "    model = Model(HiGHS.Optimizer)\n",
    "    set_silent(model)\n",
    "    \n",
    "    md1 = Dict{String,Any}()\n",
    "    md1[\"model\"] = model\n",
    "    build_optim_mg_stage!(mg1, shed_max, md1;\n",
    "        ndays, fixed_lifetimes, relax_gain,\n",
    "        investment_price_sto, investment_price_gen,\n",
    "        fuel_price=fuel_price1\n",
    "    )\n",
    "    \n",
    "    md2 = [Dict{String,Any}() for s=1:ns]\n",
    "    for s=1:ns\n",
    "        md2[s][\"model\"] = model\n",
    "        build_optim_mg_stage!(mg2[s], shed_max, md2[s];\n",
    "            ndays, fixed_lifetimes, relax_gain,\n",
    "            investment_price_sto, investment_price_gen,\n",
    "            fuel_price=fuel_price_scenar[s]\n",
    "        )\n",
    "    end    \n",
    "\n",
    "    discount_rate = mg1.project.discount_rate\n",
    "    Cann_scenar = [\n",
    "        Cann_total(md1[\"Cann\"], md2[s][\"Cann\"], T1, T2, discount_rate)\n",
    "        for s=1:ns]\n",
    "    # Expected annualized cost\n",
    "    Cann = Cann_scenar' * proba_scenar\n",
    "    \n",
    "    dt = mg1.project.timestep\n",
    "    Eload_desired = sum(mg1.load)*dt*365/ndays\n",
    "    LCOE = Cann/Eload_desired\n",
    "\n",
    "    @objective(model, Min, Cann)\n",
    "\n",
    "    return mg1, md1, md2, LCOE\n",
    "end"
   ]
  },
  {
   "cell_type": "code",
   "execution_count": 93,
   "id": "65d78db3-5237-4406-9676-a76396a6b827",
   "metadata": {},
   "outputs": [
    {
     "data": {
      "text/plain": [
       "optim_mg_jump_2SP"
      ]
     },
     "execution_count": 93,
     "metadata": {},
     "output_type": "execute_result"
    }
   ],
   "source": [
    "\"\"\"Optimize sizing of microgrid optimization using JuMP\n",
    "\n",
    "Parameters: see `setup_optim_mg_jump`. Extra optional parameter:\n",
    "- `model_custom`: a function taking `model_data` as arg and which can modify the optimization model\n",
    "\"\"\"\n",
    "function optim_mg_jump_2SP(shed_max, optimizer, Tmid;\n",
    "        model_custom=nothing,\n",
    "        ndays=365,\n",
    "        fixed_lifetimes=false,\n",
    "        relax_gain=1.0,\n",
    "        investment_price_sto=investment_price_sto,\n",
    "        investment_price_gen=investment_price_gen,\n",
    "        fuel_price1=fuel_price,\n",
    "        fuel_price_scenar=fuel_price_scenar,\n",
    "        proba_scenar=proba_scenar\n",
    "    )\n",
    "    # Create model\n",
    "    mg1_base, md1, md2, LCOE = setup_optim_mg_jump_2SP(shed_max, optimizer, Tmid;\n",
    "        ndays=ndays,\n",
    "        fixed_lifetimes=fixed_lifetimes,\n",
    "        relax_gain=relax_gain,\n",
    "        investment_price_sto=investment_price_sto,\n",
    "        investment_price_gen=investment_price_gen,\n",
    "        fuel_price1=fuel_price1,\n",
    "    )\n",
    "    model = md1[\"model\"]\n",
    "    \n",
    "    if model_custom !== nothing\n",
    "        model_custom(md1)\n",
    "        model_custom.(md2)\n",
    "    end\n",
    "\n",
    "    # Stage coupling constraints:\n",
    "    @constraint(model, [s=1:ns], md2[s][\"power_rated_pv\"] >= md1[\"power_rated_pv\"]) # PV cannot decrease\n",
    "    @constraint(model, [s=1:ns], md2[s][\"power_rated_wind\"] >= md1[\"power_rated_wind\"]) # wind cannot decrease\n",
    "\n",
    "    # Display model stats before solving\n",
    "    show(model)\n",
    "    # Optimize\n",
    "    println(\"optmization started\")\n",
    "    @time JuMP.optimize!(model)\n",
    "\n",
    "    # Extract results\n",
    "    LCOE_opt = value(LCOE)\n",
    "    x_varnames = [\"power_rated_gen\", \"energy_rated_sto\", \"power_rated_pv\", \"power_rated_wind\"]\n",
    "    xopt1 = value.([\n",
    "        md1[\"power_rated_gen\"]\n",
    "        md1[\"energy_rated_sto\"]\n",
    "        md1[\"power_rated_pv\"]\n",
    "        md1[\"power_rated_wind\"]\n",
    "    ])\n",
    "    xopt2 = value.([\n",
    "        md2[s][name] for name in x_varnames, s=1:ns\n",
    "    ])\n",
    "    return LCOE_opt, xopt1, xopt2, md1, md2\n",
    "end"
   ]
  },
  {
   "cell_type": "code",
   "execution_count": 94,
   "id": "05467c86-e788-4f8b-b55c-e4a589299b14",
   "metadata": {},
   "outputs": [
    {
     "name": "stdout",
     "output_type": "stream",
     "text": [
      "number of 2nd stage scenarios: 3\n",
      "Building stage problem with 365 days...\n",
      "Usage-dependant lifetime hypothesis for generator (relax_gain=1.0)\n",
      "Building stage problem with 365 days...\n",
      "Usage-dependant lifetime hypothesis for generator (relax_gain=1.0)\n",
      "Building stage problem with 365 days...\n",
      "Usage-dependant lifetime hypothesis for generator (relax_gain=1.0)\n",
      "Building stage problem with 365 days...\n",
      "Usage-dependant lifetime hypothesis for generator (relax_gain=1.0)\n",
      "A JuMP Model\n",
      "Minimization problem with:\n",
      "Variables: 315396\n",
      "Objective function type: AffExpr\n",
      "`AffExpr`-in-`MathOptInterface.EqualTo{Float64}`: 175212 constraints\n",
      "`AffExpr`-in-`MathOptInterface.GreaterThan{Float64}`: 35150 constraints\n",
      "`AffExpr`-in-`MathOptInterface.LessThan{Float64}`: 175204 constraints\n",
      "`VariableRef`-in-`MathOptInterface.EqualTo{Float64}`: 35040 constraints\n",
      "`VariableRef`-in-`MathOptInterface.GreaterThan{Float64}`: 140192 constraints\n",
      "`VariableRef`-in-`MathOptInterface.LessThan{Float64}`: 16 constraints\n",
      "Model mode: AUTOMATIC\n",
      "CachingOptimizer state: EMPTY_OPTIMIZER\n",
      "Solver name: HiGHSoptmization started\n",
      "183.615375 seconds (4.87 M allocations: 442.391 MiB, 0.48% gc time)\n"
     ]
    },
    {
     "data": {
      "text/plain": [
       "0.17060043890892865"
      ]
     },
     "execution_count": 94,
     "metadata": {},
     "output_type": "execute_result"
    }
   ],
   "source": [
    "optimizer = HiGHS.Optimizer\n",
    "#optimizer = Clp.Optimizer\n",
    "Tmid= 10 # y\n",
    "lcoe_alg_2SP, xalg_S1, xalg_S2, md1, md2 = optim_mg_jump_2SP(shed_max, optimizer, Tmid;\n",
    "    ndays=365,\n",
    "    relax_gain=1.0,\n",
    "    investment_price_sto=investment_price_sto*0.25,\n",
    "    investment_price_gen=investment_price_gen,\n",
    "    fuel_price1=fuel_price,\n",
    "    fuel_price_scenar=fuel_price_scenar,\n",
    "    proba_scenar=proba_scenar\n",
    ")\n",
    "lcoe_alg_2SP"
   ]
  },
  {
   "cell_type": "markdown",
   "id": "618867f4-245e-4b8c-a90c-f3f4d42e4d2b",
   "metadata": {},
   "source": [
    "LCOE: `0.170 600 438 908 92865` \\\\$/kWh (two stage with fuel price scenario [0.5, 1.0, 1.5]\\\\$/l), with PV and wind *nondecrease* constraint. Solving time: 180s (×12 compared to single stage)\n",
    "\n",
    "Sanity check: if 2nd stage scenario is constant (fuel price at 1.0 \\\\$/l), then we indeed get LCOE `0.171 593 718 600 32852` and two identical stage sizings, equal to the single stage base case. Solving time 45 s (×3 compared to single stage)"
   ]
  },
  {
   "cell_type": "markdown",
   "id": "06323fe8-8f9b-4767-ab93-9c94b0bc8380",
   "metadata": {},
   "source": [
    "Optimal sizing at all stages:"
   ]
  },
  {
   "cell_type": "code",
   "execution_count": 95,
   "id": "77c4acd5-8132-4cb4-82ed-1d915b3f32c8",
   "metadata": {},
   "outputs": [
    {
     "data": {
      "text/plain": [
       "4×4 Matrix{Float64}:\n",
       " 1190.0  1228.9  1151.3  1077.8\n",
       " 4187.6  2752.8  5227.9  7164.0\n",
       " 1791.9  1791.9  2055.0  2556.4\n",
       " 1209.1  1209.1  1234.5  1351.6"
      ]
     },
     "execution_count": 95,
     "metadata": {},
     "output_type": "execute_result"
    }
   ],
   "source": [
    "round.([xalg_S1 xalg_S2]; digits=1) "
   ]
  },
  {
   "cell_type": "markdown",
   "id": "0404b1fa-abc3-4d08-9a56-1b2a9d54d0e9",
   "metadata": {},
   "source": [
    "Obtained sizing: $x^*=$\n",
    "\n",
    "```\n",
    "    S1 1.0  S2 0.5  S2 1.0  S2 1.5 $/l\n",
    "Gen 1190.0  1228.9  1151.3  1077.8\n",
    "Sto 4187.6  2752.8  5227.9  7164.0\n",
    "PV  1791.9  1791.9  2055.0  2556.4\n",
    "Win 1209.1  1209.1  1234.5  1351.6\n",
    "```\n",
    "\n",
    "For comparison: single stage base case:\n",
    "\n",
    "LCOE: `0.171 593 718 600 3287` \n",
    "\n",
    "Sizing $x^*$:\n",
    "```\n",
    " 1151.3\n",
    " 5227.9\n",
    " 2055.0\n",
    " 1234.5\n",
    "```\n",
    "\n",
    "Observations:\n",
    "- Stage 1 of 2SP is\n",
    "  - *matching S2 low price scenar* for the PV and wind ratings\n",
    "  - uses slightly bigger gen (1190 vs 1151 kW)  and slightly smaller \"anything else\" (Sto, PV, wind) than the single stage base case\n",
    "- Stage 2 mid price scenar *matches exactly* the single stage base case\n",
    "- Stage 2 low price scenar downsizes the battery (4.2 to 2.8 MWh). Gen is slightly bigger\n",
    "- Stage 2 high price scenar oversize the battery (4.2 to 7.2 MWh). PV and wind also, but just slighlty. Gen is slightly smaller.\n",
    "- Wind ratings increases for S2 mid and high price scenar are so small that there are not realistic. A practical application would require rerunning the optim by requiring a constant wind sizing (or adding a nonconvex fixed price penalty to discourage small wind additions). \n",
    "\n",
    "*→ it seems to work!*"
   ]
  },
  {
   "cell_type": "code",
   "execution_count": 88,
   "id": "e23b7151-5c4a-489b-84c4-5ecbf8b9c1a7",
   "metadata": {},
   "outputs": [
    {
     "name": "stdout",
     "output_type": "stream",
     "text": [
      "Building stage problem with 365 days...\n",
      "zero load shedding allowed\n",
      "Fixed generator lifetime hypothesis: 5.0 y, assuming 3000.0  h/y of usage\n",
      "Penalized usage variant\n",
      "  6.007945 seconds (1.64 M allocations: 117.502 MiB, 6.28% gc time)\n",
      "LCOE: 256.087752129 €/MWh (wrong)"
     ]
    }
   ],
   "source": [
    "x_penal, lcoe_penal, diagnostics, traj_penal, model_data = optim_mg_jump(optimizer;\n",
    "    shed_max,\n",
    "    #ndays=30,\n",
    "    fixed_lifetimes=true,\n",
    "    #gen_hours_assum = 3000.,\n",
    "    relax_gain,\n",
    "    create_mg_base = create_mg_modified,\n",
    "    model_custom = model_penalize_usage\n",
    ")\n",
    "@printf(\"LCOE: %.9f €/MWh (wrong)\", lcoe_penal*1000)"
   ]
  },
  {
   "cell_type": "markdown",
   "id": "5255accb-ff62-4e99-b458-b49d1a52709f",
   "metadata": {},
   "source": [
    "Amount of penalties: +10% (not counted in LCOE!)"
   ]
  },
  {
   "cell_type": "code",
   "execution_count": 89,
   "id": "cf30d0c8-83d7-4cab-b897-32f5aaf19fb9",
   "metadata": {},
   "outputs": [
    {
     "data": {
      "text/plain": [
       "1.0967920295542388"
      ]
     },
     "execution_count": 89,
     "metadata": {},
     "output_type": "execute_result"
    }
   ],
   "source": [
    "value(model_data[\"Cann_penal\"])/value(model_data[\"Cann\"])"
   ]
  },
  {
   "cell_type": "markdown",
   "id": "67335ca4-c3e9-42ba-9805-7c1939f4d750",
   "metadata": {},
   "source": [
    "Sizing with usage penaly vs fixed lt vs base sizing\n",
    "- even smaller battery"
   ]
  },
  {
   "cell_type": "code",
   "execution_count": 90,
   "id": "0b277f68-3ce9-47a6-95e8-afded1d412c5",
   "metadata": {},
   "outputs": [
    {
     "data": {
      "text/plain": [
       "4×3 Matrix{Float64}:\n",
       " 1261.5  1186.4  1255.5\n",
       " 2106.0  3495.2  5837.3\n",
       " 1729.7  2198.2  2329.5\n",
       " 1648.8  1484.5  1596.1"
      ]
     },
     "execution_count": 90,
     "metadata": {},
     "output_type": "execute_result"
    }
   ],
   "source": [
    "round.([x_penal x_fxlt xalg]; digits=1) # optimal sizing"
   ]
  },
  {
   "cell_type": "code",
   "execution_count": 83,
   "id": "6baac108-9059-4c13-8e86-d6c7bb22a311",
   "metadata": {},
   "outputs": [
    {
     "name": "stdout",
     "output_type": "stream",
     "text": [
      "Generator diagnostics:\n",
      "- cost_share: 0.511087327435998\n",
      "- cost_share_fuel: 0.40028634239898825\n",
      "- energy: 1.44685928768005e6\n",
      "- load_share: 0.21355922840204375\n",
      "- hours: 2848.0\n",
      "- hours_lin: 2293.8876767509573\n",
      "- lifetime: 5.26685393258427\n",
      "- lifetime_hlin: 6.539117042228446\n",
      "- CRF: 0.2206442710024572\n",
      "- CRF_hlin: 0.18304500651599442\n",
      "- CRF_hlin_pwl: 0.23097479812826793\n",
      "\n",
      "Storage diagnostics:\n",
      "- cost_share: 0.05306956234796433\n",
      "- energy_through: 778005.3575405942\n",
      "- load_share: 0.05741754753340152\n",
      "- cycles: 184.7091873603728\n",
      "- lifetime_cycles: 8.120873798624093\n",
      "- lifetime: 8.120873798624093\n",
      "- CRF: 0.1528395203955612\n",
      "- CRF_pwl: 0.09634228760924432\n"
     ]
    }
   ],
   "source": [
    "pprint(diagnostics.generator, \"Generator diagnostics\")\n",
    "println()\n",
    "pprint(diagnostics.storage, \"Storage diagnostics\")"
   ]
  },
  {
   "cell_type": "markdown",
   "id": "87d8565d-3e41-4ecb-bec7-17b94d147713",
   "metadata": {},
   "source": [
    "### Case when storage cyle life is not active\n",
    "\n",
    "by setting calendar lifetime to 10 year (while the optimum is 10.x years)\n",
    "\n",
    "\n",
    "#### Our method:\n",
    "\n",
    "makes the best use of those 10 years, with T_cycle = 9.99 years !"
   ]
  },
  {
   "cell_type": "code",
   "execution_count": 84,
   "id": "580e7684-caef-490d-a6e7-aabef6aef0c1",
   "metadata": {},
   "outputs": [
    {
     "name": "stdout",
     "output_type": "stream",
     "text": [
      "mg lifetime modification: cal=10 y, cyc unchanged\n",
      "Building stage problem with 365 days...\n",
      "zero load shedding allowed\n",
      "Usage-dependent generator lifetime model (relax_gain=2.0)\n",
      "Xann constraints with z_tan=[0.2, 0.28, 0.37, 0.5, 0.68, 1.0, 1.7, 4.0]\n",
      " 13.683733 seconds (1.65 M allocations: 117.648 MiB, 0.21% gc time)\n",
      "LCOE: 250.492323824 €/MWh"
     ]
    }
   ],
   "source": [
    "create_mg_modified_cal10y = modify_mg_lifetimes(cal=10) ∘ create_mg_modified\n",
    "\n",
    "x_alg10y, lcoe_alg10y, diagnostics, traj_alg10y, model_data = optim_mg_jump(optimizer;\n",
    "    shed_max,\n",
    "    #ndays=10,\n",
    "    relax_gain,\n",
    "    create_mg_base = create_mg_modified_cal10y,\n",
    ")\n",
    "@printf(\"LCOE: %.9f €/MWh\", lcoe_alg10y*1000)"
   ]
  },
  {
   "cell_type": "markdown",
   "id": "90e859e1-546a-4e2b-8691-e34cfb6e3207",
   "metadata": {},
   "source": [
    "Sizing vs base sizing"
   ]
  },
  {
   "cell_type": "code",
   "execution_count": 86,
   "id": "b253a439-5cea-4f62-b1e1-f1f6a6ca4423",
   "metadata": {},
   "outputs": [
    {
     "data": {
      "text/plain": [
       "4×2 Matrix{Float64}:\n",
       " 1184.4  1255.5\n",
       " 5131.2  5837.3\n",
       " 2296.4  2329.5\n",
       " 1584.0  1596.1"
      ]
     },
     "execution_count": 86,
     "metadata": {},
     "output_type": "execute_result"
    }
   ],
   "source": [
    "round.([x_alg10y xalg]; digits=1) # optimal sizing"
   ]
  },
  {
   "cell_type": "markdown",
   "id": "609b374a-b914-45a6-a863-5aaecaec5f48",
   "metadata": {},
   "source": [
    "Observation: T_cycle = 9.99 years !"
   ]
  },
  {
   "cell_type": "code",
   "execution_count": 87,
   "id": "ee914ebb-6561-4fb3-995f-062c007fe817",
   "metadata": {},
   "outputs": [
    {
     "name": "stdout",
     "output_type": "stream",
     "text": [
      "Storage diagnostics:\n",
      "- cost_share: 0.16728362196577656\n",
      "- energy_through: 1.5406589676988088e6\n",
      "- load_share: 0.11370212126847985\n",
      "- cycles: 150.1255855113518\n",
      "- lifetime_cycles: 9.991634636366344\n",
      "- lifetime: 9.991634636366344\n",
      "- CRF: 0.12958869413255772\n",
      "- CRF_pwl: 0.12950457496545661\n"
     ]
    }
   ],
   "source": [
    "pprint(diagnostics.storage, \"Storage diagnostics\")"
   ]
  }
 ],
 "metadata": {
  "kernelspec": {
   "display_name": "Julia 1.11.1",
   "language": "julia",
   "name": "julia-1.11"
  },
  "language_info": {
   "file_extension": ".jl",
   "mimetype": "application/julia",
   "name": "julia",
   "version": "1.11.1"
  }
 },
 "nbformat": 4,
 "nbformat_minor": 5
}
