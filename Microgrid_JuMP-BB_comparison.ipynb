{
 "cells": [
  {
   "cell_type": "markdown",
   "id": "3a7dbcc0-25a3-4dd9-9af1-6d1194cbfde8",
   "metadata": {},
   "source": [
    "# Microgrid sizing optimization: comparing Blackbox vs Algebraic approaches"
   ]
  },
  {
   "cell_type": "code",
   "execution_count": 1,
   "id": "7482f7f5-163d-43fa-95a4-905c3664bbd3",
   "metadata": {},
   "outputs": [
    {
     "name": "stderr",
     "output_type": "stream",
     "text": [
      "\u001b[32m\u001b[1mPrecompiling\u001b[22m\u001b[39m Microgrids\n",
      "\u001b[32m  ✓ \u001b[39mMicrogrids\n",
      "  1 dependency successfully precompiled in 2 seconds\n"
     ]
    }
   ],
   "source": [
    "using Microgrids\n",
    "\n",
    "# Optimization\n",
    "using JuMP\n",
    "using HiGHS # Linear Programming solver\n",
    "using NLopt # Blackbox nonlinear solvers\n",
    "\n",
    "using Printf # pretty print results\n",
    "using PyPlot"
   ]
  },
  {
   "cell_type": "markdown",
   "id": "8856b12b-6580-498c-a235-3583cd3c91b8",
   "metadata": {},
   "source": [
    "## Problem setup"
   ]
  },
  {
   "cell_type": "code",
   "execution_count": 2,
   "id": "a70f0a0a-9ba2-4e8f-8dba-51608a202bad",
   "metadata": {},
   "outputs": [
    {
     "name": "stdout",
     "output_type": "stream",
     "text": [
      "Data definition for Microgrid with wind, solar, storage and generator...\n"
     ]
    }
   ],
   "source": [
    "include(\"./example/Microgrid_Wind-Solar_data.jl\");"
   ]
  },
  {
   "cell_type": "code",
   "execution_count": 3,
   "id": "7da287e3-242c-4554-aa4d-2d67c29faa6c",
   "metadata": {},
   "outputs": [
    {
     "data": {
      "text/plain": [
       "Microgrid{Float64}(Project(25, 0.05, 1.0, \"€\"), [1453.0, 1331.0, 1214.0, 1146.0, 1078.0, 1035.0, 1032.0, 1072.0, 1142.0, 1208.0  …  1479.0, 1508.0, 1410.0, 1370.0, 1467.0, 1587.0, 1561.0, 1472.0, 1533.0, 1483.0], DispatchableGenerator{Float64}(1000.0, 0.0, 0.24, 1.0, 400.0, 0.02, 15000.0, 0.0, 1.0, 1.0, \"L\"), Battery{Float64}(1000.0, 350.0, 10.0, 15.0, 3000.0, 1.0, 1.0, 0.05, 0.0, 0.0, 1.0, 1.0), NonDispatchableSource[Photovoltaic{Float64}(1000.0, [0.0, 0.0, 0.0, 0.0, 0.0, 0.0, 0.0, 0.0, 0.0, 7.000000000000001e-5  …  0.45131, 0.30678, 0.0, 0.0, 0.0, 0.0, 0.0, 0.0, 0.0, 0.0], 1200.0, 20.0, 25.0, 1.0, 1.0, 1.0), WindPower{Float64}(1000.0, [0.03184904690521816, 0.1104932647748532, 0.24596484619739856, 0.44422012231738006, 0.6554128208926687, 0.8470913237698507, 0.9579413031865969, 0.9735278942424532, 0.9837469734016646, 0.9903667231838823  …  0.011233045262998936, 0.018460507449516883, 0.023644167600765466, 0.02969747711584798, 0.036359043012900244, 0.03713796382151399, 0.037530379586714784, 0.03792477182913709, 0.037530379586714784, 0.03674751985711801], 3500.0, 100.0, 25.0, 1.0, 1.0)])"
      ]
     },
     "execution_count": 3,
     "metadata": {},
     "output_type": "execute_result"
    }
   ],
   "source": [
    "\"\"\"Create a Microgrid project description of size `x`\n",
    "with x=[power_rated_gen, energy_rated_sto, power_rated_pv, power_rated_wind] in kW or kWh.\n",
    "\n",
    "if x is omitted, x=[0.,0.,...] is used\n",
    "\n",
    "Optionally, a few prices can be changed (keyword args)\n",
    "\"\"\"\n",
    "function create_microgrid(x;\n",
    "        investment_price_sto=investment_price_sto,\n",
    "        investment_price_gen=investment_price_gen,\n",
    "        fuel_price=fuel_price)\n",
    "    project = Project(lifetime, discount_rate, timestep, \"€\")\n",
    "    # Split decision variables (converted MW → kW):\n",
    "    power_rated_gen = x[1]\n",
    "    energy_rated_sto = x[2]\n",
    "    power_rated_pv = x[3]\n",
    "    power_rated_wind = x[4]\n",
    "    # Create components\n",
    "    gen = DispatchableGenerator(power_rated_gen,\n",
    "        fuel_intercept, fuel_slope, fuel_price,\n",
    "        investment_price_gen, om_price_gen, lifetime_gen,\n",
    "        load_ratio_min,\n",
    "        replacement_price_ratio, salvage_price_ratio, fuel_unit)\n",
    "    batt = Battery(energy_rated_sto,\n",
    "        investment_price_sto, om_price_sto, lifetime_sto, lifetime_cycles,\n",
    "        charge_rate, discharge_rate, loss_factor_sto, SoC_min, SoC_ini,\n",
    "        replacement_price_ratio, salvage_price_ratio)\n",
    "    pv = Photovoltaic(power_rated_pv, irradiance,\n",
    "        investment_price_pv, om_price_pv,\n",
    "        lifetime_pv, derating_factor_pv,\n",
    "        replacement_price_ratio, salvage_price_ratio)\n",
    "    windgen = WindPower(power_rated_wind, cf_wind,\n",
    "        investment_price_wind, om_price_wind,\n",
    "        lifetime_wind,\n",
    "        replacement_price_ratio, salvage_price_ratio)\n",
    "    mg = Microgrid(project, Pload, gen, batt, [pv, windgen])\n",
    "\n",
    "    return mg\n",
    "end\n",
    "\n",
    "function create_microgrid(;\n",
    "        investment_price_sto=investment_price_sto,\n",
    "        investment_price_gen=investment_price_gen,\n",
    "        fuel_price=fuel_price)\n",
    "    x1 = [0., 0., 0., 0.]\n",
    "    return create_microgrid(x1)\n",
    "end\n",
    "\n",
    "x_base = [1000. 1000. 1000. 1000.]\n",
    "mg_base = create_microgrid(x_base)"
   ]
  },
  {
   "cell_type": "code",
   "execution_count": 4,
   "id": "078d8399-d6fb-41ed-886e-4788cc90a6be",
   "metadata": {},
   "outputs": [
    {
     "data": {
      "text/plain": [
       "0.0709524572992296"
      ]
     },
     "execution_count": 4,
     "metadata": {},
     "output_type": "execute_result"
    }
   ],
   "source": [
    "\"\"\"capital recovery factor for discount rate `i` and duration `T`\n",
    "CRF is such that Cann = NPC*CRF\n",
    "\"\"\"\n",
    "function CRF(i,T)\n",
    "    if i != 0.0\n",
    "        a = (1+i)^T\n",
    "        return i*a/(a-1)\n",
    "    else\n",
    "        return 1/T\n",
    "    end\n",
    "end\n",
    "CRF(0.05, 25)"
   ]
  },
  {
   "cell_type": "markdown",
   "id": "2003a550-3c02-4b68-af3e-a28055f0f81a",
   "metadata": {},
   "source": [
    "### Sizing bounds for each component"
   ]
  },
  {
   "cell_type": "code",
   "execution_count": 5,
   "id": "56345b69-0517-4bff-8722-71987a35a8a4",
   "metadata": {},
   "outputs": [
    {
     "name": "stdout",
     "output_type": "stream",
     "text": [
      "Max load power: 1707.0 kW"
     ]
    },
    {
     "data": {
      "text/plain": [
       "4-element Vector{Float64}:\n",
       "  2048.4\n",
       " 17070.0\n",
       " 17070.0\n",
       "  8535.0"
      ]
     },
     "execution_count": 5,
     "metadata": {},
     "output_type": "execute_result"
    }
   ],
   "source": [
    "Pload_max = maximum(Pload) # kW\n",
    "@printf(\"Max load power: %.1f kW\", Pload_max)\n",
    "power_rated_gen_max = 1.2 * Pload_max\n",
    "energy_rated_sto_max = 10.0 * Pload_max\n",
    "power_rated_pv_max = 10.0 * Pload_max\n",
    "power_rated_wind_max = 5.0 * Pload_max;\n",
    "\n",
    "xmax = [\n",
    "    power_rated_gen_max,\n",
    "    energy_rated_sto_max,\n",
    "    power_rated_pv_max,\n",
    "    power_rated_wind_max\n",
    "    ]"
   ]
  },
  {
   "cell_type": "markdown",
   "id": "bae4f942-b305-4079-9a30-1c4b5eba9bb4",
   "metadata": {},
   "source": [
    "## Blackbox microgrid sizing setup"
   ]
  },
  {
   "cell_type": "markdown",
   "id": "55894fb9-9890-4011-b4de-93c6be03fdb4",
   "metadata": {},
   "source": [
    "### Objective function\n",
    "\n",
    "- first bi-objective function x ↦ (lcoe, shedding rate)(x)\n",
    "- then wrapped into a mono objective x ↦ J(x) by using a penalty for the excess of shedding rate\n",
    "  - and match the interface expected by NLopt's optimizers"
   ]
  },
  {
   "cell_type": "code",
   "execution_count": 6,
   "id": "e32ed959-c607-492c-a81c-b1dbbd515851",
   "metadata": {},
   "outputs": [
    {
     "data": {
      "text/plain": [
       "obj_multi"
      ]
     },
     "execution_count": 6,
     "metadata": {},
     "output_type": "execute_result"
    }
   ],
   "source": [
    "\"\"\"Multi-objective criterion for microgrid performance: lcoe, shedding rate.\n",
    "\n",
    "Optionally, a few prices can be changed (keyword args)\n",
    "\"\"\"\n",
    "function obj_multi(x;\n",
    "        relax,\n",
    "        investment_price_sto=investment_price_sto,\n",
    "        investment_price_gen=investment_price_gen,\n",
    "        fuel_price=fuel_price)\n",
    "    mg = create_microgrid(x;\n",
    "        investment_price_sto=investment_price_sto,\n",
    "        investment_price_gen=investment_price_gen,\n",
    "        fuel_price=fuel_price)\n",
    "    # Launch simulation:\n",
    "    traj, stats, costs = simulate(mg, relax)\n",
    "    # Extract KPIs of interest\n",
    "    lcoe = costs.lcoe # $/kWh\n",
    "    shed_rate = stats.shed_rate; # in [0,1]\n",
    "    return lcoe, shed_rate\n",
    "end"
   ]
  },
  {
   "cell_type": "code",
   "execution_count": 7,
   "id": "e8aaa7c0-5f56-4cd9-be58-b10350040750",
   "metadata": {},
   "outputs": [
    {
     "data": {
      "text/plain": [
       "((0.20781653603718364, 0.00650933126708814), (0.1857600639716875, 0.00650933126708814))"
      ]
     },
     "execution_count": 7,
     "metadata": {},
     "output_type": "execute_result"
    }
   ],
   "source": [
    "obj_multi(x_base; relax=0.0), obj_multi(x_base; relax=1.0)"
   ]
  },
  {
   "cell_type": "markdown",
   "id": "7ce5d705-2b37-4eec-bf2c-f5fb2f1880dd",
   "metadata": {},
   "source": [
    "### Wrapper of the blackbox optimization process"
   ]
  },
  {
   "cell_type": "code",
   "execution_count": 8,
   "id": "accc77cc-2b54-43c7-9790-bed5e26388a6",
   "metadata": {},
   "outputs": [
    {
     "data": {
      "text/plain": [
       "optim_mg"
      ]
     },
     "execution_count": 8,
     "metadata": {},
     "output_type": "execute_result"
    }
   ],
   "source": [
    "\"\"\"Optimize sizing of microgrid based on the `obj` function\n",
    "\n",
    "Parameters:\n",
    "- `x0`: initial sizing (for the algorithms which need them)\n",
    "- `shed_max`: load shedding penalty threshold should be in  [0,1[\n",
    "- `algo` could be one of LN_SBPLX, GN_DIRECT, GN_ESCH...\n",
    "- `maxeval`: maximum allowed number of calls to the objective function,\n",
    "  that is to the microgrid simulation\n",
    "- `xtol_rel`: termination condition based on relative change of sizing, see NLopt doc.\n",
    "- `srand`: random number generation seed (for algorithms which use some stochastic search)\n",
    "\n",
    "Sizing maximum bounds are taken as the global variables `xmax`.\n",
    "\"\"\"\n",
    "function optim_mg(x0, shed_max; relax,\n",
    "        investment_price_sto=investment_price_sto,\n",
    "        investment_price_gen=investment_price_gen,\n",
    "        fuel_price=fuel_price,\n",
    "        algo=:GN_CRS2_LM, maxeval=10_000, xtol_rel=1e-5, srand=1\n",
    "    )\n",
    "\n",
    "    \"\"\"Mono-objective criterion: LCOE + penalty if shedding rate > `shed_max`\n",
    "    with signature adapted to NLopt with `grad` as 2nd argument\n",
    "    \"\"\"\n",
    "    function obj(x, grad, shed_max, w_shed_max=1e5)\n",
    "        lcoe, shed_rate = obj_multi(x; relax=relax,\n",
    "            investment_price_sto=investment_price_sto,\n",
    "            investment_price_gen=investment_price_gen,\n",
    "            fuel_price=fuel_price)\n",
    "        over_shed = shed_rate - shed_max\n",
    "        penalty = over_shed > 0.0 ? w_shed_max*over_shed : 0.0\n",
    "        J = lcoe + penalty\n",
    "    end\n",
    "    \n",
    "    nx = length(x0) # number of optim variables\n",
    "    opt = Opt(algo, nx)\n",
    "    NLopt.srand(srand)\n",
    "    \n",
    "    opt.lower_bounds = [0., 0., 1e-3, 0.] # 1e-3 instead of 0.0, because LCOE is NaN if ther is exactly zero generation\n",
    "    opt.upper_bounds = xmax/1000\n",
    "    opt.min_objective = (x_norm, grad) -> obj(x_norm*1000, grad, shed_max)\n",
    "    opt.xtol_rel = xtol_rel\n",
    "    opt.maxeval = maxeval\n",
    "    \n",
    "    (fopt, x_norm_opt, ret) = optimize(opt, x0/1000)\n",
    "    return x_norm_opt*1000, ret, opt.numevals\n",
    "end"
   ]
  },
  {
   "cell_type": "markdown",
   "id": "d3b9017a-c766-4933-8821-d9b0167a524a",
   "metadata": {},
   "source": [
    "Starting point of blackbox optim: also derived from maximal load power"
   ]
  },
  {
   "cell_type": "code",
   "execution_count": 9,
   "id": "381c3768-c785-4059-a16e-36bb6a186637",
   "metadata": {},
   "outputs": [
    {
     "data": {
      "text/plain": [
       "4-element Vector{Float64}:\n",
       " 1707.0\n",
       " 5121.0\n",
       " 5121.0\n",
       " 3414.0"
      ]
     },
     "execution_count": 9,
     "metadata": {},
     "output_type": "execute_result"
    }
   ],
   "source": [
    "x0 = [1.0, 3.0, 3.0, 2.0] * Pload_max"
   ]
  },
  {
   "cell_type": "markdown",
   "id": "20669c2b-ec11-4814-ad8b-1139dd0c6d01",
   "metadata": {},
   "source": [
    "Test run of BB optim.\n",
    "\n",
    "Case with 0.25 battery price (Grenoble workshop slides)"
   ]
  },
  {
   "cell_type": "code",
   "execution_count": 10,
   "id": "a463e827-752f-4610-9257-69d546b504c8",
   "metadata": {},
   "outputs": [
    {
     "name": "stdout",
     "output_type": "stream",
     "text": [
      "  0.892592 seconds (379.51 k allocations: 2.010 GiB, 4.09% gc time, 1.48% compilation time)\n",
      "GN_CRS2_LM algo: XTOL_REACHED after 2549 iterations (relax=1.0). \n",
      "x*=[1577.2, 4766.5, 1969.6, 1249.7]\n",
      "LCOE*: 0.17232666449068842\n",
      "shed*: 0.0\n"
     ]
    }
   ],
   "source": [
    "algo = :GN_CRS2_LM # could be one of GN_CRS2_LM, GN_DIRECT, GN_ESCH, LN_SBPLX...\n",
    "shed_max = 0.00 # in [0,1]\n",
    "maxeval=10000\n",
    "srand=1\n",
    "xopt, ret, numevals = optim_mg(x0, shed_max, relax=1.0, algo=algo, maxeval=maxeval, srand=srand)\n",
    "\n",
    "algo = :GN_CRS2_LM # could be one of GN_CRS2_LM, GN_DIRECT, GN_ESCH, LN_SBPLX...\n",
    "shed_max = 0.00 # in [0,1]\n",
    "maxeval=10000\n",
    "srand=1\n",
    "relax=0.0 # no relaxation\n",
    "relax=1.0 # full relaxation\n",
    "@time xbb, ret, numevals = optim_mg(x0, shed_max; relax=relax,\n",
    "                                     algo=algo, maxeval=maxeval, srand=srand,\n",
    "                                     investment_price_sto=investment_price_sto*0.25,\n",
    "                                     investment_price_gen=investment_price_gen,\n",
    "                                     fuel_price=fuel_price)\n",
    "\n",
    "@printf(\"%s algo: %s after %d iterations (relax=%.1f). \\nx*=\", algo, ret, numevals, relax)\n",
    "println(round.(xbb; digits=1)) # kW\n",
    "lcoe_bb, shed_rate_bb = obj_multi(xbb; relax=relax,\n",
    "                                 investment_price_sto=investment_price_sto*0.25,\n",
    "                                 investment_price_gen=investment_price_gen,\n",
    "                                 fuel_price=fuel_price)\n",
    "println(\"LCOE*: \", lcoe_bb)\n",
    "println(\"shed*: \", shed_rate_bb)"
   ]
  },
  {
   "cell_type": "code",
   "execution_count": 11,
   "id": "0b4c041f-077e-4946-895a-7b72cb303c3b",
   "metadata": {},
   "outputs": [
    {
     "data": {
      "text/plain": [
       "4-element Vector{Float64}:\n",
       " 1577.2\n",
       " 4766.5\n",
       " 1969.6\n",
       " 1249.7"
      ]
     },
     "execution_count": 11,
     "metadata": {},
     "output_type": "execute_result"
    }
   ],
   "source": [
    "round.(xbb; digits=1)"
   ]
  },
  {
   "cell_type": "markdown",
   "id": "d26d89b8-b444-403b-a8b0-edcceff23011",
   "metadata": {},
   "source": [
    "Detailed performance statistics of blackbox optim:"
   ]
  },
  {
   "cell_type": "code",
   "execution_count": 12,
   "id": "9c48c897-38bf-4c77-9016-f075365dc200",
   "metadata": {},
   "outputs": [
    {
     "data": {
      "text/plain": [
       "1577.1812661847691"
      ]
     },
     "execution_count": 12,
     "metadata": {},
     "output_type": "execute_result"
    }
   ],
   "source": [
    "mgopt_bb = create_microgrid(xbb;\n",
    "        investment_price_sto=investment_price_sto*0.25,\n",
    "        investment_price_gen=investment_price_gen,\n",
    "        fuel_price=fuel_price);\n",
    "mgopt_bb.generator.power_rated"
   ]
  },
  {
   "cell_type": "code",
   "execution_count": 13,
   "id": "ffcfe54b-4e75-4621-a7e8-693ffa621f85",
   "metadata": {},
   "outputs": [
    {
     "data": {
      "text/plain": [
       "0.7845367569966673"
      ]
     },
     "execution_count": 13,
     "metadata": {},
     "output_type": "execute_result"
    }
   ],
   "source": [
    "traj_bb, stats_bb, costs_bb = simulate(mgopt_bb, relax)\n",
    "traj_bb, stats_bb_norelax, costs_bb_norelax = simulate(mgopt_bb, 0.0)\n",
    "stats_bb.renew_rate"
   ]
  },
  {
   "cell_type": "markdown",
   "id": "dc2ade54-9771-4960-aa3d-b5f76caf24a3",
   "metadata": {},
   "source": [
    "## All-in-one algebraic approach with JuMP"
   ]
  },
  {
   "cell_type": "markdown",
   "id": "2ca4107d-765b-46c5-ac22-e2779eb82a9b",
   "metadata": {},
   "source": [
    "### basic time series reduction"
   ]
  },
  {
   "cell_type": "code",
   "execution_count": 14,
   "id": "58d411a2-5586-4bc2-8f46-6e77eec781e0",
   "metadata": {
    "jupyter": {
     "source_hidden": true
    }
   },
   "outputs": [
    {
     "data": {
      "text/plain": [
       "ts_reduction"
      ]
     },
     "execution_count": 14,
     "metadata": {},
     "output_type": "execute_result"
    }
   ],
   "source": [
    "\"\"\"reduce the year time series `x` to `ndays` ≤ 365\n",
    "sr=24: data sampling rate / day. 24 means hourly time step.\n",
    "\n",
    "The method is *basic*:\n",
    "it samples `ndays` days evenly spaced by (365 ÷ `ndays`) days\n",
    "\n",
    "with ndays=365, returns the orinal series\n",
    "\"\"\"\n",
    "function ts_reduction(x, ndays, sr=24)\n",
    "    out = zeros(ndays*sr)\n",
    "    @assert ndays<=365\n",
    "    Δdays = 365 ÷ ndays\n",
    "    for i in 1:ndays\n",
    "        offset_in = (i-1)*Δdays*sr\n",
    "        offset_out = (i-1)*sr\n",
    "        out[offset_out+1:offset_out+sr] = x[offset_in+1:offset_in+sr]\n",
    "    end\n",
    "    return out\n",
    "end"
   ]
  },
  {
   "cell_type": "markdown",
   "id": "b931a600-de4b-4124-9ec1-5d26166ca1b1",
   "metadata": {},
   "source": [
    "Generator of piecewise linear approximation to the “annualized size” function of size $x$ and usage $u$:\n",
    "\n",
    "$$x_{ann}(x,u) = x.CRF(T(x, u))$$\n",
    "\n",
    "with lifetime varying with size and usage as $T=x/u$."
   ]
  },
  {
   "cell_type": "code",
   "execution_count": 15,
   "id": "1f798964-6f2f-425d-bb21-3c9854ccfa83",
   "metadata": {},
   "outputs": [
    {
     "data": {
      "text/plain": [
       "((1.0, 0.0), (0.7944868122665105, 0.7240616609663105), (0.500166666631003, 0.9999999166667313))"
      ]
     },
     "execution_count": 15,
     "metadata": {},
     "output_type": "execute_result"
    }
   ],
   "source": [
    "\"\"\"intercept and slope of tangent to function g:z → 1/(1-e^(-1/z))  at point `z0`\n",
    "\n",
    "Usage: with gi, g1 = g_asym(z0),\n",
    "then g(z) ~ gi + g1*z around z0\n",
    "gi: intercept at z=0\n",
    "g1: slope\n",
    "\"\"\"\n",
    "function g_tan(z0)\n",
    "    z=z0\n",
    "    emiz = exp(-1/z)\n",
    "    g = 1/(1-emiz) # g(z)\n",
    "    g1 = emiz/(z^2*(1-emiz)^2) # g'(z)\n",
    "    ginter = g - g1*z\n",
    "    return ginter, g1\n",
    "end\n",
    "g_tan(1e-3), g_tan(1/2), g_tan(1e3)"
   ]
  },
  {
   "cell_type": "code",
   "execution_count": 16,
   "id": "b73cc3fa-f3f9-46dd-91eb-e14aa6010eba",
   "metadata": {},
   "outputs": [
    {
     "data": {
      "text/plain": [
       "5-element Vector{Tuple{Float64, Float64}}:\n",
       " (1.0, 0.0)\n",
       " (0.9995913614675049, 0.004540405235047541)\n",
       " (0.7944868122665105, 0.7240616609663105)\n",
       " (0.500166666631003, 0.9999999166667313)\n",
       " (0.5, 1.0)"
      ]
     },
     "execution_count": 16,
     "metadata": {},
     "output_type": "execute_result"
    }
   ],
   "source": [
    "[\n",
    "    (1.0, 0.); # ginter, g1 for each z0\n",
    "    [(g_tan(z0)[1], g_tan(z0)[2]) for z0 in [.1,0.5,1e3]];\n",
    "    (0.5, 1.0)\n",
    "]"
   ]
  },
  {
   "cell_type": "code",
   "execution_count": 17,
   "id": "3344b425-f87b-476a-8732-d4e1c5cf56a2",
   "metadata": {},
   "outputs": [
    {
     "data": {
      "text/plain": [
       "cons_Xann_usage!"
      ]
     },
     "execution_count": 17,
     "metadata": {},
     "output_type": "execute_result"
    }
   ],
   "source": [
    "\"\"\"Piecewise linear approximation of “annualized size” function of size and usage\n",
    "\n",
    "Parameters:\n",
    "- Xann, X, U: JuMP variables or expressions\n",
    "- discount_rate: Real number in [0,1] (negative discount not implemented)\n",
    "- z_tan: list z values where to use tangents of g(z).\n",
    "\n",
    "Recommended values:\n",
    "- z_tan = [0.5]: 5% CRF underestimation error\n",
    "- z_tan = [0.28, 0.5, 1.0]: 1.6% error\n",
    "- z_tan = [0.20, 0.28, 0.37, 0.50, 0.68, 1.0, 1.7, 4.0]: 0.23% error\n",
    "\n",
    "Tangents at z=0 and z->infty are also added, so no need to add these.\n",
    "\"\"\"\n",
    "function cons_Xann_usage!(model, Xann, X, U, discount_rate, z_tan=[0.28, 0.5, 1.0])\n",
    "    r = discount_rate/log(1+discount_rate)\n",
    "    @constraint(model, Xann >= X*discount_rate)\n",
    "    @constraint(model, Xann >= X*discount_rate*0.5 + U*r)\n",
    "    tan_params = [ # ginter, g1 for each z0 in z_tan, including z=0 and +infty\n",
    "        (1.0, 0.); \n",
    "        [(g_tan(z0)[1], g_tan(z0)[2]) for z0 in z_tan];\n",
    "        (0.5, 1.0)\n",
    "    ]\n",
    "    ntan = length(tan_params)\n",
    "    cvec = @constraint(model, [k=1:ntan],\n",
    "        Xann >= X*discount_rate*tan_params[k][1]\n",
    "              + U*r*tan_params[k][2]\n",
    "    )\n",
    "    cname = \"c_\" * name(Xann) *\"_\"* name(X) *\"_\"* name(U)\n",
    "    set_name.(cvec, [cname * \"[$k]\" for k=1:ntan])\n",
    "    return cvec\n",
    "end"
   ]
  },
  {
   "cell_type": "markdown",
   "id": "86cdf427-53c9-4ba7-bb77-3481d1cea8ac",
   "metadata": {},
   "source": [
    "Test:"
   ]
  },
  {
   "cell_type": "code",
   "execution_count": 35,
   "id": "3d3a478d-7bf4-41e7-991a-c962f71fe107",
   "metadata": {
    "scrolled": true
   },
   "outputs": [
    {
     "data": {
      "text/plain": [
       "5-element Vector{ConstraintRef{Model, MathOptInterface.ConstraintIndex{MathOptInterface.ScalarAffineFunction{Float64}, MathOptInterface.GreaterThan{Float64}}, ScalarShape}}:\n",
       " c_Xann_X_U[1] : Xann - 0.05 X ≥ 0\n",
       " c_Xann_X_U[2] : Xann - 0.04613111050299047 X - 0.3890816707882075 U ≥ 0\n",
       " c_Xann_X_U[3] : Xann - 0.039724340613325526 X - 0.7420160121329831 U ≥ 0\n",
       " c_Xann_X_U[4] : Xann - 0.03306515563307671 X - 0.9435032755891112 U ≥ 0\n",
       " c_Xann_X_U[5] : Xann - 0.025 X - 1.0247967157143927 U ≥ 0"
      ]
     },
     "execution_count": 35,
     "metadata": {},
     "output_type": "execute_result"
    }
   ],
   "source": [
    "mtest = Model()\n",
    "@variable(mtest, Xann)\n",
    "@variable(mtest, X)\n",
    "@variable(mtest, U)\n",
    "cons_Xann_usage!(mtest, Xann, X, U, 0.05)"
   ]
  },
  {
   "cell_type": "markdown",
   "id": "ffb7fc0b-9230-4224-a6ad-923fe0d85f77",
   "metadata": {},
   "source": [
    "### Algebraic model definition\n",
    "\n",
    "→ this should be split in a package?"
   ]
  },
  {
   "cell_type": "code",
   "execution_count": 118,
   "id": "31ad0ac6-fbf4-4c02-8d5f-5bc95977c7d7",
   "metadata": {
    "scrolled": true
   },
   "outputs": [
    {
     "data": {
      "text/plain": [
       "setup_optim_mg_jump"
      ]
     },
     "execution_count": 118,
     "metadata": {},
     "output_type": "execute_result"
    }
   ],
   "source": [
    "\"\"\"Setup microgrid sizing optimization model using JuMP\n",
    "\n",
    "Parameters:\n",
    "- `shed_max`: load shedding penalty threshold should be in  [0,1[\n",
    "- `ndays=365`: data reduction\n",
    "- and some price params (keyword params)\n",
    "\n",
    "Sizing maximum bounds are taken as the global variables\n",
    "    power_rated_gen_max,\n",
    "    energy_rated_sto_max,\n",
    "    power_rated_pv_max,\n",
    "    power_rated_wind_max\n",
    "\n",
    "Returns:\n",
    "- mg: base microgrid\n",
    "- JuMP model\n",
    "- LCOE expression\n",
    "\"\"\"\n",
    "function setup_optim_mg_jump(shed_max, optimizer;\n",
    "        ndays=365,\n",
    "        fixed_lifetimes=false,\n",
    "        investment_price_sto=investment_price_sto,\n",
    "        investment_price_gen=investment_price_gen,\n",
    "        fuel_price=fuel_price,\n",
    "    )\n",
    "\n",
    "    # base Microgrid with 1kW(h) ratings\n",
    "    mg = create_microgrid([1., 1., 1., 1.];\n",
    "        investment_price_sto=investment_price_sto,\n",
    "        investment_price_gen=investment_price_gen,\n",
    "        fuel_price=fuel_price)\n",
    "    \n",
    "    dt = mg.project.timestep\n",
    "    CRFproj(T) = CRF(mg.project.discount_rate, T) \n",
    "\n",
    "    K = ndays*24 # h\n",
    "    ts_reduction_ndays(x) = ts_reduction(x, ndays)\n",
    "\n",
    "    Pload = mg.load |> ts_reduction_ndays;\n",
    "    Eload_desired = sum(Pload)*dt*365/ndays\n",
    "\n",
    "    # (works because the rated power in mg are set to 1 kW)\n",
    "    cf_pv   = production(mg.nondispatchables[1]) |> ts_reduction_ndays\n",
    "    cf_wind = production(mg.nondispatchables[2]) |> ts_reduction_ndays;\n",
    "\n",
    "    ### JuMP model ###\n",
    "    model = Model(optimizer)\n",
    "    set_silent(model)\n",
    "\n",
    "    ##  Sizing variables\n",
    "    @variable(model, 0 <= power_rated_gen <= power_rated_gen_max)\n",
    "    @variable(model, 0 <= energy_rated_sto <= energy_rated_sto_max)\n",
    "    @variable(model, 0 <= power_rated_pv <= power_rated_pv_max)\n",
    "    @variable(model, 0 <= power_rated_wind <= power_rated_wind_max)\n",
    "\n",
    "    ## Power flows for each component\n",
    "    \n",
    "    # Non dispatchable sources (renewables)\n",
    "    @variable(model, pv_potential[1:K])\n",
    "    @constraint(model, pv_potential .== power_rated_pv*cf_pv)\n",
    "    @variable(model, wind_potential[1:K])\n",
    "    @constraint(model, wind_potential .== power_rated_wind*cf_wind);\n",
    "    renew_potential = pv_potential + wind_potential\n",
    "\n",
    "    # desired net load (before spillage of excess renewables and load shedding)\n",
    "    @variable(model, Pnl[1:K])\n",
    "    @constraint(model, Pnl .== Pload .- renew_potential)\n",
    "\n",
    "    @variable(model, Pspill[1:K] >= 0)\n",
    "    @variable(model, Pshed[1:K] >= 0)\n",
    "    # Dispatchable generator\n",
    "    @variable(model, Pgen[1:K] >= 0)\n",
    "    @constraint(model, Pgen .<= power_rated_gen)\n",
    "\n",
    "    ## Energy storage\n",
    "    # Charge and discharge power\n",
    "    @variable(model, Psto_cha[1:K] >= 0)\n",
    "    @variable(model, Psto_dis[1:K] >= 0)\n",
    "    # Energy\n",
    "    @variable(model, Esto[1:K+1])\n",
    "    @constraint(model, Esto .<= energy_rated_sto) # SoCmax = 1 implicitly\n",
    "    @constraint(model, Esto .>= mg.storage.SoC_min*energy_rated_sto) # often 0\n",
    "    # Power constraints\n",
    "    @constraint(model, Psto_cha .<= mg.storage.charge_rate    * energy_rated_sto)\n",
    "    # Evolution of the State of Energy,\n",
    "    # , with piecewise linear in P loss term (aka constant efficiency model)\n",
    "    a = mg.storage.loss_factor\n",
    "    @constraint(model,\n",
    "        stodyn[k=1:K],\n",
    "        Esto[k+1] == Esto[k] + (Psto_cha[k] - Psto_dis[k] - a*(Psto_cha[k]+Psto_dis[k]))*dt\n",
    "    )\n",
    "    # Storage cyclicity\n",
    "    @constraint(model, Esto[K+1] == Esto[1])\n",
    "    # not implemented: force initial SoC # TODO: activate to make it comparable with BB\n",
    "    #@constraint(model, Esto[1] == mg.storage.SoC_ini * energy_rated_sto)\n",
    "    \n",
    "    ## Power balance\n",
    "    @constraint(model, balance,  Pgen + (Psto_dis - Psto_cha) - Pspill .== Pnl - Pshed)\n",
    "\n",
    "    if shed_max == 0.0\n",
    "        fix.(Pshed, 0.0; force=true);\n",
    "    else\n",
    "        Eshed = sum(Pshed)*dt * 365/ndays\n",
    "        @constraint(model, Eshed <= Eload_desired*shed_max)\n",
    "    end\n",
    "\n",
    "    ### Costs\n",
    "    z_tan = [0.20, 0.28, 0.37, 0.50, 0.68, 1.0, 1.7, 4.0] # for Xann or CRF PWL approx\n",
    "    #z_tan = [0.5] # simpler PWL, as used in Grenoble slides\n",
    "    # Generator costs\n",
    "    Egen = sum(Pgen)*dt * 365/ndays\n",
    "\n",
    "    if fixed_lifetimes\n",
    "        println(\"Fixed lifetime hypothesis for generator\")\n",
    "        # assumed generator operation hours:\n",
    "        gen_hours = 3000. # in 0 – 8760\n",
    "        gen_lifetime = mg.generator.lifetime_hours / gen_hours # years\n",
    "        println(\"fixed generator lifetime: \", gen_lifetime, \" y, i.e. \", gen_hours, \" h/y\")\n",
    "        Pgen_rated_ann = power_rated_gen * CRFproj(gen_lifetime)\n",
    "    else\n",
    "        hours_factor = 1.0 # adjust the penalty on linearized hours\n",
    "        println(\"Usage-dependant lifetime hypothesis for generator (hours_factor=\", hours_factor,\")\")\n",
    "        @variable(model, Pgen_rated_ann >= 0) # annualized size\n",
    "        @variable(model, 0 <= Ugen)\n",
    "        @constraint(model, Ugen == Egen*hours_factor/mg.generator.lifetime_hours); # kW/y\n",
    "        cpwl_gen = cons_Xann_usage!(model,\n",
    "            Pgen_rated_ann, power_rated_gen, Ugen,\n",
    "            discount_rate, z_tan)\n",
    "    end   \n",
    "    Cgen_om = fixed_lifetimes ? \n",
    "        mg.generator.om_price_hours * gen_hours * power_rated_gen :\n",
    "        mg.generator.om_price_hours * hours_factor * Egen\n",
    "\n",
    "    Cgen = mg.generator.investment_price * Pgen_rated_ann +\n",
    "           Cgen_om +\n",
    "           mg.generator.fuel_price * mg.generator.fuel_slope * Egen;# $/y\n",
    "    \n",
    "    # Battery costs\n",
    "    @variable(model, Esto_rated_ann >= 0) # annualized size\n",
    "    Csto = mg.storage.investment_price * Esto_rated_ann +\n",
    "           mg.storage.om_price * energy_rated_sto\n",
    "    # A) Effect of calendar lifetime:\n",
    "    CRFsto_cal = CRFproj(mg.storage.lifetime_calendar)\n",
    "    @constraint(model, Esto_rated_ann >= energy_rated_sto*CRFsto_cal)\n",
    "    # B) Effect of cycling\n",
    "    if ~fixed_lifetimes\n",
    "        @variable(model, 0 <= Usto)\n",
    "        E_through_sto = (sum(Psto_cha) + sum(Psto_dis))*dt\n",
    "        @constraint(model, Usto == E_through_sto/(2*mg.storage.lifetime_cycles))\n",
    "        cpwl_sto = cons_Xann_usage!(model,\n",
    "            Esto_rated_ann, energy_rated_sto, Usto,\n",
    "            discount_rate, z_tan)\n",
    "    end\n",
    "\n",
    "    # Wind and solar costs\n",
    "    pv = mg.nondispatchables[1]\n",
    "    Cpv = pv.investment_price * power_rated_pv * CRFproj(pv.lifetime) + \n",
    "          pv.om_price * power_rated_pv\n",
    "    wind = mg.nondispatchables[2]\n",
    "    Cwind = wind.investment_price * power_rated_wind * CRFproj(wind.lifetime) + \n",
    "        wind.om_price * power_rated_wind\n",
    "\n",
    "    # Total cost\n",
    "    Cann = Cgen + Csto +  Cpv + Cwind\n",
    "    decrease = collect(1 .- (1:K)/K) # sequence from 0.99x to 0\n",
    "    #penal = 1e-5*sum((Psto_cha-Psto_dis).*decrease)*dt\n",
    "    penal = 1e-5*sum(Pgen.*decrease)*dt\n",
    "    @objective(model, Min, Cann+penal)\n",
    "\n",
    "    LCOE = Cann/Eload_desired\n",
    "    return mg, model, LCOE\n",
    "end"
   ]
  },
  {
   "cell_type": "markdown",
   "id": "0e4f418c-e28a-41d8-8df7-e6aa516e50d0",
   "metadata": {},
   "source": [
    "Test setup function to get JuMP model."
   ]
  },
  {
   "cell_type": "code",
   "execution_count": 91,
   "id": "15629d3b-a8e5-4ec4-8548-880e3c943b04",
   "metadata": {},
   "outputs": [
    {
     "name": "stdout",
     "output_type": "stream",
     "text": [
      "Usage-dependant lifetime hypothesis for generator (hours_factor=1.0)\n"
     ]
    },
    {
     "data": {
      "text/plain": [
       "A JuMP Model\n",
       "Minimization problem with:\n",
       "Variables: 78849\n",
       "Objective function type: AffExpr\n",
       "`AffExpr`-in-`MathOptInterface.EqualTo{Float64}`: 43803 constraints\n",
       "`AffExpr`-in-`MathOptInterface.GreaterThan{Float64}`: 8786 constraints\n",
       "`AffExpr`-in-`MathOptInterface.LessThan{Float64}`: 26281 constraints\n",
       "`VariableRef`-in-`MathOptInterface.EqualTo{Float64}`: 8760 constraints\n",
       "`VariableRef`-in-`MathOptInterface.GreaterThan{Float64}`: 35048 constraints\n",
       "`VariableRef`-in-`MathOptInterface.LessThan{Float64}`: 4 constraints\n",
       "Model mode: AUTOMATIC\n",
       "CachingOptimizer state: EMPTY_OPTIMIZER\n",
       "Solver name: HiGHS\n",
       "Names registered in the model: Esto, Esto_rated_ann, Pgen, Pgen_rated_ann, Pnl, Pshed, Pspill, Psto_cha, Psto_dis, Ugen, Usto, balance, energy_rated_sto, power_rated_gen, power_rated_pv, power_rated_wind, pv_potential, stodyn, wind_potential"
      ]
     },
     "execution_count": 91,
     "metadata": {},
     "output_type": "execute_result"
    }
   ],
   "source": [
    "mg_base, model, LCOE_expr = setup_optim_mg_jump(shed_max, HiGHS.Optimizer)\n",
    "model"
   ]
  },
  {
   "cell_type": "markdown",
   "id": "d77e6474-99d4-41a4-a7bb-2e98a7987e51",
   "metadata": {},
   "source": [
    "Wrapper of algebraic optimization (includes diagnostics)"
   ]
  },
  {
   "cell_type": "code",
   "execution_count": 119,
   "id": "208a1993-2c9e-4a09-a045-743111cd5b42",
   "metadata": {},
   "outputs": [
    {
     "data": {
      "text/plain": [
       "optim_mg_jump"
      ]
     },
     "execution_count": 119,
     "metadata": {},
     "output_type": "execute_result"
    }
   ],
   "source": [
    "\"\"\"Optimize sizing of microgrid optimization using JuMP\n",
    "\n",
    "Parameters: see `setup_optim_mg_jump`\n",
    "\"\"\"\n",
    "function optim_mg_jump(shed_max, optimizer;\n",
    "        ndays=365,\n",
    "        fixed_lifetimes=false,\n",
    "        investment_price_sto=investment_price_sto,\n",
    "        investment_price_gen=investment_price_gen,\n",
    "        fuel_price=fuel_price,\n",
    "        model_custom=nothing\n",
    "    )\n",
    "\n",
    "    # Create model\n",
    "    mg_base, model, LCOE = setup_optim_mg_jump(shed_max, optimizer;\n",
    "        ndays=ndays,\n",
    "        fixed_lifetimes=fixed_lifetimes,\n",
    "        investment_price_sto=investment_price_sto,\n",
    "        investment_price_gen=investment_price_gen,\n",
    "        fuel_price=fuel_price,\n",
    "    )\n",
    "\n",
    "    if model_custom !== nothing\n",
    "        model_custom(model)\n",
    "    end\n",
    "    \n",
    "    # Optimize\n",
    "    @time JuMP.optimize!(model)\n",
    "\n",
    "    # Extract results\n",
    "    LCOE_opt = value(LCOE)\n",
    "    xopt = value.([\n",
    "        model[:power_rated_gen]\n",
    "        model[:energy_rated_sto]\n",
    "        model[:power_rated_pv]\n",
    "        model[:power_rated_wind]\n",
    "    ])\n",
    "    \n",
    "    Tgen = value(model[:power_rated_gen]/model[:Ugen])\n",
    "    CRFgen_relax = value(model[:Pgen_rated_ann]/model[:power_rated_gen])\n",
    "    Tcyc = value(model[:energy_rated_sto]/model[:Usto])\n",
    "    Tsto = min(Tcyc, mg_base.storage.lifetime_calendar)\n",
    "    CRFsto_relax = value(model[:Esto_rated_ann]/model[:energy_rated_sto])\n",
    "\n",
    "    # Diagnostics about annualized sized relaxation\n",
    "    # i.e. PWL approx of CRF\n",
    "    CRFproj(T) = CRF(mg_base.project.discount_rate, T)\n",
    "\n",
    "    diagnostics = (\n",
    "        # Generator\n",
    "        Ugen = value(model[:Ugen]),\n",
    "        Tgen = Tgen,\n",
    "        CRFgen = CRFproj(Tgen),\n",
    "        CRFgen_relax = CRFgen_relax,\n",
    "        CRFgen_relax_rel = CRFgen_relax/CRFproj(Tgen),\n",
    "        # Storage\n",
    "        Usto = value(model[:Usto]),\n",
    "        Tcyc = Tcyc,\n",
    "        Tsto = Tsto,\n",
    "        CRFsto = CRFproj(Tsto),\n",
    "        CRFsto_relax = CRFsto_relax,\n",
    "        CRFsto_relax_rel = CRFsto_relax/CRFproj(Tsto)\n",
    "    )\n",
    "\n",
    "    traj = (\n",
    "        Pgen = value.(model[:Pgen]),\n",
    "        Psto = value.(model[:Psto_dis] - model[:Psto_cha]),\n",
    "        Esto = value.(model[:Esto]),\n",
    "        Pshed = value.(model[:Pshed])\n",
    "    )\n",
    "    return xopt, LCOE_opt, diagnostics, traj\n",
    "    \n",
    "end"
   ]
  },
  {
   "cell_type": "markdown",
   "id": "c0381144-994b-40bd-a839-b45e130999c1",
   "metadata": {},
   "source": [
    "Test Algebraic optim\n",
    "- Case with 0.25 battery price (Grenoble workshop slides)"
   ]
  },
  {
   "cell_type": "code",
   "execution_count": 120,
   "id": "ab80b4a5-3cbd-4dcb-b528-26f3843cf871",
   "metadata": {},
   "outputs": [
    {
     "name": "stdout",
     "output_type": "stream",
     "text": [
      "Usage-dependant lifetime hypothesis for generator (hours_factor=1.0)\n",
      " 18.256274 seconds (885.59 k allocations: 91.343 MiB, 0.19% gc time)\n"
     ]
    },
    {
     "data": {
      "text/plain": [
       "0.1715937186003287"
      ]
     },
     "execution_count": 120,
     "metadata": {},
     "output_type": "execute_result"
    }
   ],
   "source": [
    "xalg, lcoe_alg, diagnostics, traj_alg = optim_mg_jump(shed_max, HiGHS.Optimizer;\n",
    "    #ndays=10,\n",
    "    investment_price_sto=investment_price_sto*0.25,\n",
    "    investment_price_gen=investment_price_gen,\n",
    "    fuel_price=fuel_price\n",
    ")\n",
    "lcoe_alg"
   ]
  },
  {
   "cell_type": "markdown",
   "id": "716cf7e4-b29a-4281-8514-920595000d4d",
   "metadata": {},
   "source": [
    "(without Psto_cha penalty: 0.171 593 718 60032874, i.e. negigible difference for penal 1e-5, but not with 1e-4)"
   ]
  },
  {
   "cell_type": "markdown",
   "id": "23fea727-6659-4a9b-9121-ac1b227c4826",
   "metadata": {},
   "source": [
    "with z_tan = [.5], slightly smaller LCOE:\n",
    "\n",
    "0.1714263650686344\n",
    "```x=\n",
    " 1154.4\n",
    " 5131.0\n",
    " 2037.0\n",
    " 1239.9\n",
    "```"
   ]
  },
  {
   "cell_type": "code",
   "execution_count": 121,
   "id": "b18f563d-766e-47de-9a21-05bda198a2b3",
   "metadata": {},
   "outputs": [
    {
     "data": {
      "text/plain": [
       "4-element Vector{Float64}:\n",
       " 1151.3\n",
       " 5227.9\n",
       " 2055.0\n",
       " 1234.5"
      ]
     },
     "execution_count": 121,
     "metadata": {},
     "output_type": "execute_result"
    }
   ],
   "source": [
    "round.(xalg; digits=1)"
   ]
  },
  {
   "cell_type": "markdown",
   "id": "bcd029ad-d45b-404c-9bb2-23675b53167f",
   "metadata": {},
   "source": [
    "without Psto_cha penalty: identical (after rounding)\n",
    "\n",
    " 1151.3\n",
    " 5227.9\n",
    " 2055.0\n",
    " 1234.5"
   ]
  },
  {
   "cell_type": "markdown",
   "id": "6e8cd265-ef3a-42f5-b93b-8ea8bc8cf680",
   "metadata": {},
   "source": [
    "with z_tan = [0.5]\n",
    "```\n",
    "Tgen = 12.157818761162602\n",
    "CRFgen = 0.11174838318777107\n",
    "CRFgen_relax = 0.1092911656972583\n",
    "CRFgen_relax_rel = 0.9780111584578016\n",
    "```\n",
    "\n",
    "now with z_tan having 8 points (10 tangents): `CRFgen_relax_rel = 0.9999978736992846`"
   ]
  },
  {
   "cell_type": "code",
   "execution_count": 43,
   "id": "453f38f7-d362-4231-96b0-6b76b90d50f0",
   "metadata": {},
   "outputs": [
    {
     "data": {
      "text/plain": [
       "(Ugen = 94.53828693656102, Tgen = 12.177752623295897, CRFgen = 0.11161438827074813, CRFgen_relax = 0.1116141509449945, CRFgen_relax_rel = 0.9999978736992846, Usto = 255.87797815604043, Tcyc = 20.431091709053458, Tsto = 15.0, CRFsto = 0.09634228760924432, CRFsto_relax = 0.09634228760924432, CRFsto_relax_rel = 1.0)"
      ]
     },
     "execution_count": 43,
     "metadata": {},
     "output_type": "execute_result"
    }
   ],
   "source": [
    "diagnostics"
   ]
  },
  {
   "cell_type": "markdown",
   "id": "03c2d8aa-ba8d-4555-ab2d-893a14b127aa",
   "metadata": {},
   "source": [
    "## BB-Algebraic cost validation\n",
    "\n",
    "to verify that the Algebraic JuMP model yields the same result as BB for the same sizing and energy dispatch"
   ]
  },
  {
   "cell_type": "code",
   "execution_count": 44,
   "id": "e31cd9db-aad8-46dc-a97d-f7b9a4d09b24",
   "metadata": {},
   "outputs": [
    {
     "data": {
      "text/plain": [
       "force_sizing!"
      ]
     },
     "execution_count": 44,
     "metadata": {},
     "output_type": "execute_result"
    }
   ],
   "source": [
    "\"\"\"Force microgrid sizing by constraining energy storage trajectory\"\"\"\n",
    "function force_sizing!(model, Esto_traj)\n",
    "    # Check that storage trajectory is fine\n",
    "    @assert length(Esto_traj) == length(model[:Esto])\n",
    "    @assert Esto_traj[1] - Esto_traj[end] == 0.0 \"Storage trajectory should be cyclic\"\n",
    "    # Fix storage trajectory:\n",
    "    @constraint(model, model[:Esto] .== Esto_traj);\n",
    "end"
   ]
  },
  {
   "cell_type": "markdown",
   "id": "5a7519e0-8855-4b63-a462-f5c0d93aa5a6",
   "metadata": {},
   "source": [
    "Test BB forcing\n",
    "\n",
    "Case with 0.25 battery price (Grenoble workshop slides), forced to BB"
   ]
  },
  {
   "cell_type": "code",
   "execution_count": 45,
   "id": "2ec1e4c8-e9a5-43cb-ae56-3259bed32637",
   "metadata": {},
   "outputs": [
    {
     "name": "stdout",
     "output_type": "stream",
     "text": [
      "Usage-dependant lifetime hypothesis for generator (hours_factor=1.0)\n",
      "  1.970454 seconds (973.20 k allocations: 96.323 MiB, 5.22% gc time)\n"
     ]
    },
    {
     "data": {
      "text/plain": [
       "([1577.181004069868, 4766.513889783261, 1969.597785206941, 1249.707515749773], 0.17230739290314268, (Ugen = 97.31726310796489, Tgen = 16.20659021534674, CRFgen = 0.09149417924294653, CRFgen_relax = 0.09128722566144742, CRFgen_relax_rel = 0.9977380683316522, Usto = 237.23212090669188, Tcyc = 20.09219439410579, Tsto = 15.0, CRFsto = 0.09634228760924432, CRFsto_relax = 0.09634228760924432, CRFsto_relax_rel = 1.0))"
      ]
     },
     "execution_count": 45,
     "metadata": {},
     "output_type": "execute_result"
    }
   ],
   "source": [
    "Esto_traj = traj_bb.Ebatt # storage traj to be forced\n",
    "xfbb, lcoe_fbb, diagnostics_fbb = optim_mg_jump(shed_max, HiGHS.Optimizer;\n",
    "    investment_price_sto=investment_price_sto*0.25,\n",
    "    investment_price_gen=investment_price_gen,\n",
    "    fuel_price=fuel_price,\n",
    "    model_custom=model->force_sizing!(model, Esto_traj)\n",
    ")"
   ]
  },
  {
   "cell_type": "markdown",
   "id": "b9a3fe58-5402-4962-ac27-6d3cbb5e2f60",
   "metadata": {},
   "source": [
    "Tgen = 16.20659021534674, CRFgen = 0.09149417924294653, CRFgen_relax = 0.09128722566144742, CRFgen_relax_rel = 0.9977380683316522"
   ]
  },
  {
   "cell_type": "markdown",
   "id": "3387e6bb-3299-43b8-ab5b-c15c7b76411b",
   "metadata": {},
   "source": [
    "Sizing comparison: the forcing works"
   ]
  },
  {
   "cell_type": "code",
   "execution_count": 47,
   "id": "85cc4026-5ed8-4f28-9d11-25cb06c41696",
   "metadata": {},
   "outputs": [
    {
     "data": {
      "text/plain": [
       "4×2 Matrix{Float64}:\n",
       " 1577.18  1577.18\n",
       " 4766.51  4766.51\n",
       " 1969.6   1969.6\n",
       " 1249.71  1249.71"
      ]
     },
     "execution_count": 47,
     "metadata": {},
     "output_type": "execute_result"
    }
   ],
   "source": [
    "round.([xbb xfbb]; digits=2)"
   ]
  },
  {
   "cell_type": "markdown",
   "id": "a6e1ee2d-96a4-41c7-bf76-d6d26122909d",
   "metadata": {},
   "source": [
    "LCOE comparison: absolute and relative to BB LCOE\n",
    "\n",
    "- Alebraic model yields a cost which is 99.989% of BB cost (for same sizing and dispatch) with 10 tangents. Was 99.82% with 3 tangents\n",
    "\n",
    "with z_tan = [0.5]\n",
    "\n",
    "```\n",
    "3×2 Matrix{Float64}:\n",
    " 172.023   99.8238\n",
    " 172.327  100.0\n",
    " 171.426   99.4776\n",
    "```"
   ]
  },
  {
   "cell_type": "code",
   "execution_count": 48,
   "id": "f98ee5ad-9cf9-4916-8ca1-724f84776f69",
   "metadata": {},
   "outputs": [
    {
     "data": {
      "text/plain": [
       "3×2 Matrix{Float64}:\n",
       " 172.307   99.9888\n",
       " 172.327  100.0\n",
       " 171.594   99.5747"
      ]
     },
     "execution_count": 48,
     "metadata": {},
     "output_type": "execute_result"
    }
   ],
   "source": [
    "v1 = [lcoe_fbb, lcoe_bb, lcoe_alg]*1000 # €/MWh\n",
    "v2 = [lcoe_fbb, lcoe_bb, lcoe_alg]/lcoe_bb*100\n",
    "[v1 v2]"
   ]
  },
  {
   "cell_type": "markdown",
   "id": "62d96133-453b-4cc0-89bc-9e3f3a6574cb",
   "metadata": {},
   "source": [
    "## BB-Algebraic comparison"
   ]
  },
  {
   "cell_type": "code",
   "execution_count": 54,
   "id": "01aa6af9-987a-493b-ac14-ad97e63bb221",
   "metadata": {},
   "outputs": [
    {
     "data": {
      "text/plain": [
       "optim_mg_both"
      ]
     },
     "execution_count": 54,
     "metadata": {},
     "output_type": "execute_result"
    }
   ],
   "source": [
    "\"\"\"Optimize sizing of microgrid using JuMP\n",
    "\n",
    "Parameters:\n",
    "- `shed_max`: load shedding penalty threshold should be in  [0,1[\n",
    "- `ndays=365`: data reduction\n",
    "- and some price params (keyword params)\n",
    "\n",
    "Sizing maximum bounds are taken as the global variables\n",
    "    power_rated_gen_max,\n",
    "    energy_rated_sto_max,\n",
    "    power_rated_pv_max,\n",
    "    power_rated_wind_max\n",
    "\"\"\"\n",
    "function optim_mg_both(shed_max;\n",
    "        jump_optimizer,\n",
    "        bb_algo=:GN_CRS2_LM, bb_srand=1,\n",
    "\n",
    "        investment_price_sto=investment_price_sto,\n",
    "        investment_price_gen=investment_price_gen,\n",
    "        fuel_price=fuel_price\n",
    "    )\n",
    "\n",
    "    jump_optimizer=HiGHS.Optimizer\n",
    "\n",
    "    xalg, lcoe_alg, diagnostics = optim_mg_jump(shed_max, jump_optimizer;\n",
    "        investment_price_sto=investment_price_sto,\n",
    "        investment_price_gen=investment_price_gen,\n",
    "        fuel_price=fuel_price\n",
    "    )\n",
    "\n",
    "    relax=1.0\n",
    "    maxeval=10_000\n",
    "    xbb, ret, numevals = optim_mg(x0, shed_max; relax=relax,\n",
    "                                     algo=bb_algo, maxeval=maxeval, srand=srand,\n",
    "                                     investment_price_sto=investment_price_sto,\n",
    "                                     investment_price_gen=investment_price_gen,\n",
    "                                     fuel_price=fuel_price)\n",
    "\n",
    "    # Check performances\n",
    "    lcoe_bb, shed_rate_opt_bb = obj_multi(xbb; relax=relax,\n",
    "                                             investment_price_sto=investment_price_sto,\n",
    "                                             investment_price_gen=investment_price_gen,\n",
    "                                             fuel_price=fuel_price)\n",
    "    mg_alg = create_microgrid(xalg;\n",
    "                investment_price_sto=investment_price_sto,\n",
    "                investment_price_gen=investment_price_gen,\n",
    "                fuel_price=fuel_price)\n",
    "    # Alg sizing evaluated with simple Rule-based EM:\n",
    "    traj_alg_bb, stats_alg_bb, costs_alg_bb = simulate(mg_alg, relax)\n",
    "\n",
    "    # TODO: pass bb sizing through Alg model to check model quasi equivalence...\n",
    "    \n",
    "    return (\n",
    "        xbb=xbb, xalg=xalg,\n",
    "        lcoe_bb=lcoe_bb, lcoe_alg=lcoe_alg, lcoe_alg_bb=costs_alg_bb.lcoe,\n",
    "        sr_alg_bb = stats_alg_bb.shed_rate,\n",
    "        mg_alg=mg_alg\n",
    "    )\n",
    "end"
   ]
  },
  {
   "cell_type": "markdown",
   "id": "cb3ce429-0500-4bee-82a6-db343194484c",
   "metadata": {},
   "source": [
    "case with 0.25 battery price (Grenoble workshop slides)"
   ]
  },
  {
   "cell_type": "code",
   "execution_count": 55,
   "id": "1e949b81-a12a-42bf-874c-fa9f915cbc6c",
   "metadata": {},
   "outputs": [
    {
     "name": "stdout",
     "output_type": "stream",
     "text": [
      "Usage-dependant lifetime hypothesis for generator (hours_factor=1.0)\n",
      " 21.869627 seconds (885.59 k allocations: 91.343 MiB, 0.15% gc time)\n"
     ]
    },
    {
     "data": {
      "text/plain": [
       "(xbb = [1577.1812661847691, 4766.513889783261, 1969.5977852069411, 1249.7075157497723], xalg = [1151.2638717436062, 5227.866438033239, 2054.9834379336817, 1234.532781952971], lcoe_bb = 0.17232666449068842, lcoe_alg = 0.17159371860032874, lcoe_alg_bb = 0.1712989085488984, sr_alg_bb = 0.002347267260139537, mg_alg = Microgrid{Float64}(Project(25, 0.05, 1.0, \"€\"), [1453.0, 1331.0, 1214.0, 1146.0, 1078.0, 1035.0, 1032.0, 1072.0, 1142.0, 1208.0  …  1479.0, 1508.0, 1410.0, 1370.0, 1467.0, 1587.0, 1561.0, 1472.0, 1533.0, 1483.0], DispatchableGenerator{Float64}(1151.2638717436062, 0.0, 0.24, 1.0, 400.0, 0.02, 15000.0, 0.0, 1.0, 1.0, \"L\"), Battery{Float64}(5227.866438033239, 87.5, 10.0, 15.0, 3000.0, 1.0, 1.0, 0.05, 0.0, 0.0, 1.0, 1.0), NonDispatchableSource[Photovoltaic{Float64}(2054.9834379336817, [0.0, 0.0, 0.0, 0.0, 0.0, 0.0, 0.0, 0.0, 0.0, 7.000000000000001e-5  …  0.45131, 0.30678, 0.0, 0.0, 0.0, 0.0, 0.0, 0.0, 0.0, 0.0], 1200.0, 20.0, 25.0, 1.0, 1.0, 1.0), WindPower{Float64}(1234.532781952971, [0.03184904690521816, 0.1104932647748532, 0.24596484619739856, 0.44422012231738006, 0.6554128208926687, 0.8470913237698507, 0.9579413031865969, 0.9735278942424532, 0.9837469734016646, 0.9903667231838823  …  0.011233045262998936, 0.018460507449516883, 0.023644167600765466, 0.02969747711584798, 0.036359043012900244, 0.03713796382151399, 0.037530379586714784, 0.03792477182913709, 0.037530379586714784, 0.03674751985711801], 3500.0, 100.0, 25.0, 1.0, 1.0)]))"
      ]
     },
     "execution_count": 55,
     "metadata": {},
     "output_type": "execute_result"
    }
   ],
   "source": [
    "shed_max = 0.0\n",
    "res = optim_mg_both(shed_max;\n",
    "    jump_optimizer=HiGHS.Optimizer,\n",
    "    investment_price_sto=investment_price_sto*0.25,\n",
    "    investment_price_gen=investment_price_gen,\n",
    "    fuel_price=fuel_price\n",
    ")"
   ]
  },
  {
   "cell_type": "code",
   "execution_count": 56,
   "id": "fa3fe866-0881-42a2-9823-1c6ff30a4510",
   "metadata": {},
   "outputs": [
    {
     "data": {
      "text/plain": [
       "4-element Vector{Float64}:\n",
       " 1151.0\n",
       " 5228.0\n",
       " 2055.0\n",
       " 1235.0"
      ]
     },
     "execution_count": 56,
     "metadata": {},
     "output_type": "execute_result"
    }
   ],
   "source": [
    "round.(res.xalg)"
   ]
  },
  {
   "cell_type": "code",
   "execution_count": 58,
   "id": "0d2f6354-356e-4b88-9081-e12429dac284",
   "metadata": {},
   "outputs": [
    {
     "data": {
      "text/plain": [
       "(0.17232666449068842, 0.17159371860032874, 0.1712989085488984)"
      ]
     },
     "execution_count": 58,
     "metadata": {},
     "output_type": "execute_result"
    }
   ],
   "source": [
    "res.lcoe_bb, res.lcoe_alg, res.lcoe_alg_bb"
   ]
  },
  {
   "cell_type": "code",
   "execution_count": 60,
   "id": "4012eb3f-752c-4e20-9798-4b6f3de0e36f",
   "metadata": {},
   "outputs": [
    {
     "data": {
      "text/plain": [
       "0.23472672601395372"
      ]
     },
     "execution_count": 60,
     "metadata": {},
     "output_type": "execute_result"
    }
   ],
   "source": [
    "res.sr_alg_bb*100 # %"
   ]
  },
  {
   "cell_type": "markdown",
   "id": "75635cc4-11a9-4c52-b01d-b37d2d5bd4ed",
   "metadata": {},
   "source": [
    "trying other more crazy price configurations... doesn't yield more striking results"
   ]
  },
  {
   "cell_type": "code",
   "execution_count": 32,
   "id": "59cbade0-392d-4947-a4aa-e13954d0dcf2",
   "metadata": {},
   "outputs": [
    {
     "name": "stdout",
     "output_type": "stream",
     "text": [
      "Usage-dependant lifetime hypothesis for generator (hours_factor=1.0)\n",
      " 20.412364 seconds (885.59 k allocations: 91.343 MiB, 1.61% gc time)\n"
     ]
    },
    {
     "data": {
      "text/plain": [
       "(xbb = [1593.8905809884252, 2000.6965465866951, 1127.9440826494279, 1022.2856262628892], xalg = [1270.0916283545673, 2310.4687116941323, 1196.3080040308919, 1001.6311610278491], lcoe_bb = 0.13715037574389147, lcoe_alg = 0.13605224304689353, sr_alg_bb = 0.0011607945943899547, mg_alg = Microgrid{Float64}(Project(25, 0.05, 1.0, \"€\"), [1453.0, 1331.0, 1214.0, 1146.0, 1078.0, 1035.0, 1032.0, 1072.0, 1142.0, 1208.0  …  1479.0, 1508.0, 1410.0, 1370.0, 1467.0, 1587.0, 1561.0, 1472.0, 1533.0, 1483.0], DispatchableGenerator{Float64}(1270.0916283545673, 0.0, 0.24, 0.375, 800.0, 0.02, 15000.0, 0.0, 1.0, 1.0, \"L\"), Battery{Float64}(2310.4687116941323, 3.5, 10.0, 15.0, 3000.0, 1.0, 1.0, 0.05, 0.0, 0.0, 1.0, 1.0), NonDispatchableSource[Photovoltaic{Float64}(1196.3080040308919, [0.0, 0.0, 0.0, 0.0, 0.0, 0.0, 0.0, 0.0, 0.0, 7.000000000000001e-5  …  0.45131, 0.30678, 0.0, 0.0, 0.0, 0.0, 0.0, 0.0, 0.0, 0.0], 1200.0, 20.0, 25.0, 1.0, 1.0, 1.0), WindPower{Float64}(1001.6311610278491, [0.03184904690521816, 0.1104932647748532, 0.24596484619739856, 0.44422012231738006, 0.6554128208926687, 0.8470913237698507, 0.9579413031865969, 0.9735278942424532, 0.9837469734016646, 0.9903667231838823  …  0.011233045262998936, 0.018460507449516883, 0.023644167600765466, 0.02969747711584798, 0.036359043012900244, 0.03713796382151399, 0.037530379586714784, 0.03792477182913709, 0.037530379586714784, 0.03674751985711801], 3500.0, 100.0, 25.0, 1.0, 1.0)]))"
      ]
     },
     "execution_count": 32,
     "metadata": {},
     "output_type": "execute_result"
    }
   ],
   "source": [
    "res2 = optim_mg_both(0.0;\n",
    "    jump_optimizer=HiGHS.Optimizer,\n",
    "    investment_price_sto=investment_price_sto*0.01,\n",
    "    investment_price_gen=investment_price_gen*2,\n",
    "    fuel_price=fuel_price*0.375\n",
    ")\n",
    "res2"
   ]
  },
  {
   "cell_type": "markdown",
   "id": "2c9feedd-ed2c-458b-95dc-68e770aa01d3",
   "metadata": {},
   "source": [
    "High fuel price: yields an even smaller LP generator "
   ]
  },
  {
   "cell_type": "code",
   "execution_count": 33,
   "id": "dbdca6ec-4a5f-40fb-b818-3056e82da443",
   "metadata": {},
   "outputs": [
    {
     "name": "stdout",
     "output_type": "stream",
     "text": [
      "Usage-dependant lifetime hypothesis for generator (hours_factor=1.0)\n",
      "  8.318046 seconds (885.59 k allocations: 91.343 MiB, 0.34% gc time)\n"
     ]
    },
    {
     "data": {
      "text/plain": [
       "(xbb = [1546.2471658308143, 7603.588342335612, 4105.686271969297, 1670.947503682742], xalg = [974.3822257332465, 7765.259432830297, 4162.141089686538, 1653.4268709397613], lcoe_bb = 0.2891352534760916, lcoe_alg = 0.2879897837549454, sr_alg_bb = 0.0036700053827238054, mg_alg = Microgrid{Float64}(Project(25, 0.05, 1.0, \"€\"), [1453.0, 1331.0, 1214.0, 1146.0, 1078.0, 1035.0, 1032.0, 1072.0, 1142.0, 1208.0  …  1479.0, 1508.0, 1410.0, 1370.0, 1467.0, 1587.0, 1561.0, 1472.0, 1533.0, 1483.0], DispatchableGenerator{Float64}(974.3822257332465, 0.0, 0.24, 4.0, 400.0, 0.02, 15000.0, 0.0, 1.0, 1.0, \"L\"), Battery{Float64}(7765.259432830297, 350.0, 10.0, 15.0, 3000.0, 1.0, 1.0, 0.05, 0.0, 0.0, 1.0, 1.0), NonDispatchableSource[Photovoltaic{Float64}(4162.141089686538, [0.0, 0.0, 0.0, 0.0, 0.0, 0.0, 0.0, 0.0, 0.0, 7.000000000000001e-5  …  0.45131, 0.30678, 0.0, 0.0, 0.0, 0.0, 0.0, 0.0, 0.0, 0.0], 1200.0, 20.0, 25.0, 1.0, 1.0, 1.0), WindPower{Float64}(1653.4268709397613, [0.03184904690521816, 0.1104932647748532, 0.24596484619739856, 0.44422012231738006, 0.6554128208926687, 0.8470913237698507, 0.9579413031865969, 0.9735278942424532, 0.9837469734016646, 0.9903667231838823  …  0.011233045262998936, 0.018460507449516883, 0.023644167600765466, 0.02969747711584798, 0.036359043012900244, 0.03713796382151399, 0.037530379586714784, 0.03792477182913709, 0.037530379586714784, 0.03674751985711801], 3500.0, 100.0, 25.0, 1.0, 1.0)]))"
      ]
     },
     "execution_count": 33,
     "metadata": {},
     "output_type": "execute_result"
    }
   ],
   "source": [
    "res3 = optim_mg_both(0.0;\n",
    "    jump_optimizer=HiGHS.Optimizer,\n",
    "    investment_price_sto=investment_price_sto,\n",
    "    investment_price_gen=investment_price_gen,\n",
    "    fuel_price=fuel_price*4.0\n",
    ")"
   ]
  },
  {
   "cell_type": "code",
   "execution_count": 34,
   "id": "9b20be1f-6f0f-4de1-bd77-def0010c2acd",
   "metadata": {},
   "outputs": [
    {
     "data": {
      "text/plain": [
       "4-element Vector{Float64}:\n",
       "  974.3822257332465\n",
       " 7765.259432830297\n",
       " 4162.141089686538\n",
       " 1653.4268709397613"
      ]
     },
     "execution_count": 34,
     "metadata": {},
     "output_type": "execute_result"
    }
   ],
   "source": [
    "res3.xalg"
   ]
  },
  {
   "cell_type": "markdown",
   "id": "b3ac7214-e6db-4ea1-a15c-ca47dac52f4c",
   "metadata": {},
   "source": [
    "### Plots"
   ]
  },
  {
   "cell_type": "code",
   "execution_count": 61,
   "id": "fca0c02f-8b6b-42e3-8068-828daaaf3b08",
   "metadata": {
    "scrolled": true
   },
   "outputs": [
    {
     "data": {
      "text/plain": [
       "(OperationTraj{Float64}([1151.2638717436062, 1151.2638717436062, 910.348334161291, 597.5956965960357, 268.8713868957294, -10.762008501818627, -150.6099419706038, -129.8520995879535, -72.4678878113723, -14.784034766501463  …  537.6978620078164, 854.7820792927895, 1151.2638717436062, 1151.2638717436062, 1151.2638717436062, 1151.2638717436062, 1151.2638717436062, 1151.2638717436062, 1151.2638717436062, 1151.2638717436062], [262.4174357779441, 43.32857070682803, 0.0, 0.0, 0.0, 0.0, 0.0, 0.0, 0.0, 0.0  …  0.0, 0.0, 229.54662825125865, 182.0736192155814, 270.8496977365303, 389.8880944637515, 363.40364433745594, 273.91675418523755, 335.40364433745594, 286.3701103373139], [39.31869247844964, 136.40755754956572, 303.65166583870905, 548.4043034039643, 809.1286131042706, 1045.7620085018186, 1182.6099419706038, 1201.8520995879535, 1214.4678878113723, 1222.7840347665015  …  941.3021379921836, 653.2179207072105, 29.189500005135294, 36.6625090408125, 44.88643051986347, 45.848033792642454, 46.332483918937996, 46.81937407115627, 46.332483918937996, 45.36601791907994], [1151.2638717436062, 1151.2638717436062, 910.348334161291, 597.5956965960357, 268.8713868957294, 0.0, 0.0, 0.0, 0.0, 0.0  …  537.6978620078164, 854.7820792927895, 1151.2638717436062, 1151.2638717436062, 1151.2638717436062, 1151.2638717436062, 1151.2638717436062, 1151.2638717436062, 1151.2638717436062, 1151.2638717436062], [0.0, 0.0, 0.0, 0.0, 0.0, 0.0, 10.223908076727696, 153.30335294880132, 276.66284755735717, 345.50734097816087  …  0.0, 0.0, 0.0, 0.0, 0.0, 0.0, 0.0, 0.0, 0.0, 0.0], [0.0, 0.0, 0.0, 0.0, 0.0, -10.762008501818627, -150.6099419706038, -129.8520995879535, -72.4678878113723, -14.784034766501463  …  0.0, 0.0, 0.0, 0.0, 0.0, 0.0, 0.0, 0.0, 0.0, 0.0], [0.0, 0.0, 0.0, 0.0, 0.0, 0.0, 9.737055311169234, 146.0031932845727, 263.48842624510206, 329.0546104553913  …  0.0, 0.0, 0.0, 0.0, 0.0, 0.0, 0.0, 0.0, 0.0, 0.0], [-5227.866438033239, -5227.866438033239, -5227.866438033239, -5227.866438033239, -5227.866438033239, -5227.866438033239, -5227.866438033239, -5227.866438033239, -5211.793253132508, -5139.325365321136  …  -5227.866438033239, -5227.866438033239, -5227.866438033239, -5227.866438033239, -5227.866438033239, -5227.866438033239, -5227.866438033239, -5227.866438033239, -5227.866438033239, -5227.866438033239], [0.0, 0.0, 0.0, 0.0, 0.0, 0.0, 0.0, 0.0, 0.0, 0.0  …  0.0, 0.0, 0.0, 0.0, 0.0, 0.0, 0.0, 0.0, 0.0, 0.0]), OperationStats(6.759076313605167e6, 15902.686394832901, 427.0320562609984, 20.56206119882235, 5.259647637268723, 0.002347267260139537, 1.401595844254138e6, 1217.441004321104, 336383.00262099283, 145.7336773049425, 799970.010497359, 723782.3904499914, 76187.62004736753, 988452.3868166778, 2207.601294661965, 0.1539137097283528, 6.422120476215074e6, 5.433668089398396e6, 0.7926350022956683), MicrogridCosts(0.1712989085488984, 1.6318284656955034e7, CostFactors(1.6318284656955034e7, 7.704788724381168e6, 610864.2409981729, 3.451092992970159e6, 4.740963391899958e6, -189424.69329442378), CostFactors(5.854297736218939e6, 460505.54869744246, 390828.5909655545, 395080.28265833034, 4.740963391899958e6, -133080.07800234633), CostFactors(1.3579419458317123e6, 457438.31332790846, 220035.6500326184, 736812.5977632629, 0.0, -56344.61529207745), CostFactors[CostFactors(3.0452365786879654e6, 2.465980125520418e6, 0.0, 579256.4531675474, 0.0, -0.0), CostFactors(6.060808396216417e6, 4.320864736835399e6, 0.0, 1.739943659381018e6, 0.0, -0.0)]))"
      ]
     },
     "execution_count": 61,
     "metadata": {},
     "output_type": "execute_result"
    }
   ],
   "source": [
    "traj_alg_bb, stats_alg_bb, costs_alg_bb = simulate(res.mg_alg, 1.0)"
   ]
  },
  {
   "cell_type": "code",
   "execution_count": 152,
   "id": "c2ad58e5-2fdc-45ba-9448-efe1b16a1a97",
   "metadata": {},
   "outputs": [
    {
     "data": {
      "text/plain": [
       "plot_oper_traj (generic function with 2 methods)"
      ]
     },
     "execution_count": 152,
     "metadata": {},
     "output_type": "execute_result"
    }
   ],
   "source": [
    "function plot_oper_traj(td, Pload, Pgen, Pren, Pshed, Ebatt)\n",
    "    fig, (ax1, ax2) = plt.subplots(2,1, figsize=(5,2.5), sharex=true)\n",
    "    ax1.plot(td, Pload, label=\"load\")\n",
    "    ax1.plot(td, Pgen, \"tab:red\", label=\"gen\")\n",
    "    ax1.plot(td, Pren, \"tab:green\", label=\"renew\")\n",
    "    ax1.plot(td, Pshed, \"tab:pink\", label=\"shed\")\n",
    "    \n",
    "    ax2.plot(td, Ebatt[1:end-1], \"C2\", label=\"Esto\")\n",
    "    \n",
    "    ax1.legend()\n",
    "    ax1.grid(true)\n",
    "    ax1.set(\n",
    "        ylabel=\"kW\"\n",
    "    )\n",
    "    ax2.grid(true)\n",
    "    ax2.legend()\n",
    "    ax2.set(\n",
    "        ylabel=\"kWh\"\n",
    "    )\n",
    "\n",
    "    fig.tight_layout()\n",
    "    return fig, (ax1, ax2)\n",
    "end"
   ]
  },
  {
   "cell_type": "code",
   "execution_count": 164,
   "id": "cd1571f3-80c2-48bd-a296-145e6ba34f2f",
   "metadata": {},
   "outputs": [
    {
     "data": {
      "text/plain": [
       "plot_oper_traj2"
      ]
     },
     "execution_count": 164,
     "metadata": {},
     "output_type": "execute_result"
    }
   ],
   "source": [
    "\"\"\"plot trajectories to illustrative non anticipativity\"\"\"\n",
    "function plot_oper_traj2(td, Pload, Pgen, Pren, Psto, Pshed, Ebatt)\n",
    "    Pnl_req = Pload - Pren\n",
    "    fig, (ax1, ax2) = plt.subplots(2,1, figsize=(5,2.5), sharex=true)\n",
    "    ax1.plot(td, Pnl_req, label=\"net load\", lw=3, alpha=0.5)\n",
    "    ax1.plot(td, Pgen, \"tab:red\", label=\"gen\")\n",
    "    ax1.plot(td, Psto, \"tab:green\", label=\"sto\")\n",
    "\n",
    "    #y1 = Pnl_req-Pshed\n",
    "    #y2 = Pnl_req\n",
    "    #println(size(td), size(y1), size(y2))\n",
    "    #ax1.fill_between(td, y1, y2, \"tab:pink\", label=\"shed\")\n",
    "    ax1.plot(td, Pshed, \"tab:pink\", label=\"shed\")\n",
    "    \n",
    "    ax2.plot(td, Ebatt[1:end-1], \"C2\", label=\"Esto\")\n",
    "    \n",
    "    ax1.legend(ncol=4)\n",
    "    ax1.grid(true)\n",
    "    ax1.set(\n",
    "        ylabel=\"kW\"\n",
    "    )\n",
    "    ax2.grid(true)\n",
    "    ax2.legend()\n",
    "    ax2.set(\n",
    "        ylabel=\"kWh\"\n",
    "    )\n",
    "\n",
    "    fig.tight_layout()\n",
    "    return fig, (ax1, ax2)\n",
    "end"
   ]
  },
  {
   "cell_type": "code",
   "execution_count": 165,
   "id": "d8b31e72-f283-48c1-8b32-56e9aa657246",
   "metadata": {},
   "outputs": [
    {
     "data": {
      "text/plain": [
       "false"
      ]
     },
     "execution_count": 165,
     "metadata": {},
     "output_type": "execute_result"
    }
   ],
   "source": [
    "#pygui(true) # open interactive plot window\n",
    "pygui(false) # display image in notebook"
   ]
  },
  {
   "cell_type": "code",
   "execution_count": 166,
   "id": "0bef3cc3-533e-42de-b6e2-535d25ca287e",
   "metadata": {},
   "outputs": [],
   "source": [
    "K = 365*24\n",
    "td = collect((0:K-1)/24); # time in days"
   ]
  },
  {
   "cell_type": "code",
   "execution_count": 175,
   "id": "698caf35-09f2-4e0b-9a61-3d30cc7378e6",
   "metadata": {},
   "outputs": [
    {
     "data": {
      "image/png": "[encoded data removed]",
      "text/plain": [
       "Figure(PyObject <Figure size 500x250 with 2 Axes>)"
      ]
     },
     "metadata": {},
     "output_type": "display_data"
    }
   ],
   "source": [
    "fig, (ax1, ax2) = plot_oper_traj2(td, mg_base.load,\n",
    "    traj_alg_bb.Pgen,\n",
    "    traj_alg_bb.Prenew_pot,\n",
    "    traj_alg_bb.Pbatt,\n",
    "    traj_alg_bb.power_shedding,\n",
    "    traj_alg_bb.Ebatt,\n",
    ")\n",
    "ax1.set_ylim(-2000, 2000)\n",
    "ax1.set_xlim(358, 364); # winter, end  of year, low wind -> shedding with Algebraic generator\n",
    "fig.savefig(\"traj_alg_bb_358-364.png\", dpi=250, bbox_inches=\"tight\")"
   ]
  },
  {
   "cell_type": "code",
   "execution_count": 174,
   "id": "981bd4dd-f9a1-400c-83e3-878720f20386",
   "metadata": {},
   "outputs": [
    {
     "data": {
      "image/png": "[encoded data removed]",
      "text/plain": [
       "Figure(PyObject <Figure size 500x250 with 2 Axes>)"
      ]
     },
     "metadata": {},
     "output_type": "display_data"
    }
   ],
   "source": [
    "fig, (ax1, ax2) = plot_oper_traj2(td, mg_base.load,\n",
    "    traj_alg.Pgen,\n",
    "    traj_alg_bb.Prenew_pot,\n",
    "    traj_alg.Psto,\n",
    "    traj_alg.Pshed,\n",
    "    traj_alg.Esto,\n",
    ")\n",
    "ax1.set_ylim(-2000, 2000)\n",
    "ax1.set_xlim(358, 364); # winter, end  of year, low wind -> shedding with Algebraic generator\n",
    "fig.savefig(\"traj_alg_358-364.png\", dpi=250, bbox_inches=\"tight\")"
   ]
  },
  {
   "cell_type": "code",
   "execution_count": 74,
   "id": "3f7d1232-0ee3-46b9-b8fb-81bbffcb1cc1",
   "metadata": {},
   "outputs": [
    {
     "data": {
      "image/png": "[encoded data removed]",
      "text/plain": [
       "Figure(PyObject <Figure size 500x250 with 2 Axes>)"
      ]
     },
     "metadata": {},
     "output_type": "display_data"
    }
   ],
   "source": [
    "fig, (ax1, ax2) = plot_oper_traj2(td, mg_base.load,\n",
    "    traj_alg.Pgen,\n",
    "    traj_alg_bb.Prenew_pot,\n",
    "    traj_alg.Pshed,\n",
    "    traj_alg.Esto,\n",
    ")\n",
    "\n",
    "ax1.set_xlim(358, 36); # winter, end  of year, low wind -> shedding with Algebraic generator"
   ]
  },
  {
   "cell_type": "code",
   "execution_count": null,
   "id": "695dc9b8-86b0-4d7f-8c22-2f192474bd81",
   "metadata": {},
   "outputs": [],
   "source": []
  }
 ],
 "metadata": {
  "kernelspec": {
   "display_name": "Julia 1.10.2",
   "language": "julia",
   "name": "julia-1.10"
  },
  "language_info": {
   "file_extension": ".jl",
   "mimetype": "application/julia",
   "name": "julia",
   "version": "1.10.2"
  }
 },
 "nbformat": 4,
 "nbformat_minor": 5
}
