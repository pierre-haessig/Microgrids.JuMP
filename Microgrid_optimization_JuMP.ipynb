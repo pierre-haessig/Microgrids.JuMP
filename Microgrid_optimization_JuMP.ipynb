{
 "cells": [
  {
   "cell_type": "markdown",
   "id": "b14f854f-51e9-4253-8946-d7ca39628ed0",
   "metadata": {},
   "source": [
    "# Microgrid optimization with an algebraic approach using JuMP\n",
    "\n",
    "**Microgrid sizing optimization** notebook example, derived from similar [Microgrids.jl’s example](https://github.com/Microgrids-X/Microgrids.jl/blob/main/examples/Microgrid_sizing_optimization.ipynb).\n",
    "However, instead of doing a sizing optimization using a Microgrid simulator embedded in blackbox iterative optimization loop,\n",
    "here we use an **algebraic description** of the problem (using the [JuMP](https://jump.dev/) package) and we run an \"all-in-one\" optimization of both the sizing and the energy flows at each instant.\n",
    "\n",
    "Caveat: this yields an anticipative energy management.\n",
    "\n",
    "PH, oct 2023, sept 2024"
   ]
  },
  {
   "cell_type": "code",
   "execution_count": 1,
   "id": "c2f04250-290c-4c38-93e6-074702ec0700",
   "metadata": {},
   "outputs": [],
   "source": [
    "using Microgrids\n",
    "\n",
    "# Optimization\n",
    "using JuMP\n",
    "using HiGHS # Linear Programming solver\n",
    "\n",
    "# Display\n",
    "using Printf # pretty print results\n",
    "using PyPlot"
   ]
  },
  {
   "cell_type": "markdown",
   "id": "ece41c8e-3aad-4d2b-aa6e-b9143c2e959e",
   "metadata": {},
   "source": [
    "Check version of Microgrids.jl (v0.11.0 needed)"
   ]
  },
  {
   "cell_type": "code",
   "execution_count": 2,
   "id": "dff0882a-b59d-40f7-add9-0956d94c5152",
   "metadata": {},
   "outputs": [
    {
     "name": "stdout",
     "output_type": "stream",
     "text": [
      "\u001b[32m\u001b[1mStatus\u001b[22m\u001b[39m `~/.julia/environments/v1.10/Project.toml`\n",
      "  \u001b[90m[bd581358] \u001b[39mMicrogrids v0.11.0\n"
     ]
    }
   ],
   "source": [
    "import Pkg\n",
    "Pkg.status(\"Microgrids\")"
   ]
  },
  {
   "cell_type": "markdown",
   "id": "5e20bad8-81a3-4a6b-8c1e-6848a20c0d55",
   "metadata": {},
   "source": [
    "## Load Microgrid project data\n",
    "\n",
    "Loading parameters and time series for a Microgrid project with *wind* and *solar* sources, plus a *battery* and a *dispatchable generator*. \n",
    "Values gathered from the Microgrid_Wind-Solar.ipynb example notebook."
   ]
  },
  {
   "cell_type": "code",
   "execution_count": 3,
   "id": "a078bb9d-37a9-45f0-bb00-4404a44dcb30",
   "metadata": {},
   "outputs": [
    {
     "name": "stdout",
     "output_type": "stream",
     "text": [
      "Base Wind-Solar Microgrid project definition functions...\n"
     ]
    }
   ],
   "source": [
    "include(\"./example/Microgrid_Wind-Solar_data.jl\");"
   ]
  },
  {
   "cell_type": "code",
   "execution_count": 4,
   "id": "adfeede4-f974-4678-9f4d-9515778e24c2",
   "metadata": {},
   "outputs": [
    {
     "name": "stdout",
     "output_type": "stream",
     "text": [
      "loading times series from data/Ouessant_data_2016.csv...\n"
     ]
    }
   ],
   "source": [
    "const tseries = load_microgrid_tseries();"
   ]
  },
  {
   "cell_type": "code",
   "execution_count": 5,
   "id": "b1b119b9-0e9c-447d-b708-ef64e11b0d0d",
   "metadata": {},
   "outputs": [
    {
     "data": {
      "text/plain": [
       "create_microgrid"
      ]
     },
     "execution_count": 5,
     "metadata": {},
     "output_type": "execute_result"
    }
   ],
   "source": [
    "\"\"\"Create a Microgrid project description of size `x`\n",
    "\n",
    "x should be [\n",
    "    power_rated_gen,\n",
    "    energy_rated_sto,\n",
    "    power_rated_pv,\n",
    "    power_rated_wind\n",
    "] (in kW or kWh)\n",
    "\n",
    "Apart from the sizing, the project is based on parameters\n",
    "defined by the function `create_mg_base` which\n",
    "defaults to the globally defined `create_mg_base`.\n",
    "This allows modifying some project parameters.\n",
    "\"\"\"\n",
    "function create_microgrid(x; create_mg_base=create_mg_base)\n",
    "    mg = create_mg_base()\n",
    "\n",
    "    # force ConsistentSalvage, necessary for making Microgrids.jl’s simulate results\n",
    "    # comparable with the JuMP-based LP model which uses annalized costs\n",
    "    mg.project.salvage_type = ConsistentSalvage\n",
    "\n",
    "    # Set the size\n",
    "    mg.generator.power_rated = x[1] # power_rated_gen\n",
    "    mg.storage.energy_rated = x[2] # energy_rated_sto\n",
    "    mg.nondispatchables[1].power_rated = x[3] # power_rated_pv\n",
    "    mg.nondispatchables[2].power_rated = x[4] # power_rated_wind\n",
    "\n",
    "    return mg\n",
    "end"
   ]
  },
  {
   "cell_type": "markdown",
   "id": "a8c94790-0401-4b0e-81c9-df00622a51db",
   "metadata": {},
   "source": [
    "Create a base Microgrid project description, which assembles all the date, with a dummy sizing [1,1,1,1] kW(h), so as to be able to call `production` function for non dispatchable sources.\n",
    "- changes to the default set of parameters from `./example/Microgrid_Wind-Solar_data.jl` are implemented with the `create_mg_modified` function"
   ]
  },
  {
   "cell_type": "code",
   "execution_count": 6,
   "id": "4ca082ce-7613-4db5-ab55-276c5fbf3f05",
   "metadata": {},
   "outputs": [
    {
     "name": "stdout",
     "output_type": "stream",
     "text": [
      "mg lifetime modification: cal unchanged, cyc unchanged\n",
      "mg prices modifications: sto*=1.0, gen*=1.0, fuel*=1.0\n"
     ]
    },
    {
     "data": {
      "text/plain": [
       "Microgrid{Float64}(Project(25, 0.05, 1.0, \"€\", ConsistentSalvage), [1453.0, 1331.0, 1214.0, 1146.0, 1078.0, 1035.0, 1032.0, 1072.0, 1142.0, 1208.0  …  1479.0, 1508.0, 1410.0, 1370.0, 1467.0, 1587.0, 1561.0, 1472.0, 1533.0, 1483.0], DispatchableGenerator{Float64}(1.0, 0.0, 0.24, 1.0, 400.0, 0.02, 15000.0, 0.0, 1.0, 1.0, \"L\"), Battery{Float64}(1.0, 350.0, 10.0, 15.0, 3000.0, 1.0, 1.0, 0.05, 0.0, 0.0, 1.0, 1.0), NonDispatchableSource[Photovoltaic{Float64}(1.0, [0.0, 0.0, 0.0, 0.0, 0.0, 0.0, 0.0, 0.0, 0.0, 7.000000000000001e-5  …  0.45131, 0.30678, 0.0, 0.0, 0.0, 0.0, 0.0, 0.0, 0.0, 0.0], 1200.0, 20.0, 25.0, 1.0, 1.0, 1.0), WindPower{Float64}(1.0, [0.03184904690521816, 0.1104932647748532, 0.24596484619739856, 0.44422012231738006, 0.6554128208926687, 0.8470913237698507, 0.9579413031865969, 0.9735278942424532, 0.9837469734016646, 0.9903667231838823  …  0.011233045262998936, 0.018460507449516883, 0.023644167600765466, 0.02969747711584798, 0.036359043012900244, 0.03713796382151399, 0.037530379586714784, 0.03792477182913709, 0.037530379586714784, 0.03674751985711801], 3500.0, 100.0, 25.0, 1.0, 1.0)])"
      ]
     },
     "execution_count": 6,
     "metadata": {},
     "output_type": "execute_result"
    }
   ],
   "source": [
    "\"\"\"Modify Microgrid project by *multiplying* base price values:\n",
    "- `sto`: `mg.storage.investment_price` \n",
    "- `gen`: `mg.generator.investment_price` \n",
    "- `fuel`: `mg.generator.fuel_price`\n",
    "\"\"\"\n",
    "function modify_mg_prices(;sto=1.0, gen=1.0, fuel=1.0)\n",
    "    println(\"mg prices modifications: sto*=$sto, gen*=$gen, fuel*=$fuel\")\n",
    "    function modify_mg(mg)\n",
    "        mg.storage.investment_price *= sto\n",
    "        mg.generator.investment_price *= gen\n",
    "        mg.generator.fuel_price *= fuel\n",
    "        return mg # return mg to allow chaining\n",
    "    end\n",
    "    return modify_mg\n",
    "end\n",
    "\n",
    "\"\"\"Modify Microgrid project by *setting* storage lifetimes:\n",
    "- `cal`: `mg.storage.lifetime_calendar` (years)\n",
    "- `cyc`: `mg.storage.lifetime_cycles` (nb cycles)\n",
    "\"\"\"\n",
    "function modify_mg_lifetimes(;cal=nothing, cyc=nothing)\n",
    "    cal_mod = cal !== nothing ? \"cal=$cal y\" : \"cal unchanged\"\n",
    "    cyc_mod = cyc !== nothing ? \"cyc=$cyc c\" : \"cyc unchanged\"\n",
    "    println(\"mg lifetime modification: $cal_mod, $cyc_mod\")\n",
    "    function modify_mg(mg)\n",
    "        if cal !== nothing\n",
    "            mg.storage.lifetime_calendar = cal\n",
    "        end\n",
    "        if cyc !== nothing\n",
    "            mg.storage.lifetime_cycles = cyc\n",
    "        end\n",
    "        return mg # return mg to allow chaining\n",
    "    end\n",
    "    return modify_mg\n",
    "end\n",
    "\n",
    "create_mg_modified = modify_mg_lifetimes() ∘ modify_mg_prices(sto=1.0) ∘ create_mg_base # composition create_mg_base → modify_mg1 → ...\n",
    "\n",
    "mg = create_microgrid([1., 1, 1, 1], create_mg_base=create_mg_modified)\n",
    "dt = mg.project.timestep\n",
    "mg"
   ]
  },
  {
   "cell_type": "markdown",
   "id": "f876871f-4ef0-44e3-be34-0f5d7227b81c",
   "metadata": {},
   "source": [
    "### Sizing bounds for each component"
   ]
  },
  {
   "cell_type": "code",
   "execution_count": 7,
   "id": "ea2645e1-5705-47b0-a49e-57c80092943b",
   "metadata": {},
   "outputs": [
    {
     "name": "stdout",
     "output_type": "stream",
     "text": [
      "Max load power: 1707.0 kW"
     ]
    }
   ],
   "source": [
    "Pload_max = maximum(tseries.Pload) # kW\n",
    "@printf(\"Max load power: %.1f kW\", Pload_max)\n",
    "power_rated_gen_max = 1.2 * Pload_max\n",
    "energy_rated_sto_max = 10.0 * Pload_max\n",
    "power_rated_pv_max = 10.0 * Pload_max\n",
    "power_rated_wind_max = 5.0 * Pload_max;"
   ]
  },
  {
   "cell_type": "markdown",
   "id": "5694fecd-b041-483b-a861-315870988d71",
   "metadata": {},
   "source": [
    "### Time series reduction\n",
    "\n",
    "Crude approach for model demonstration purpose only: simply decimating the sequence of days.    \n",
    "For better approaches (e.g. daily profiles clustering), see Hoffmann *et al.*, “The Pareto-optimal temporal aggregation of energy system models,” Applied Energy, 2022, doi: [10.1016/j.apenergy.2022.119029.](https://doi.org/10.1016/j.apenergy.2022.119029) "
   ]
  },
  {
   "cell_type": "code",
   "execution_count": 8,
   "id": "95389d54-722e-47c8-8876-04a53972e41f",
   "metadata": {},
   "outputs": [
    {
     "data": {
      "text/plain": [
       "ts_reduction"
      ]
     },
     "execution_count": 8,
     "metadata": {},
     "output_type": "execute_result"
    }
   ],
   "source": [
    "\"\"\"reduce the year time series `x` to `ndays` ≤ 365\n",
    "sr=24: data sampling rate / day. 24 means hourly time step.\n",
    "\n",
    "The method is *basic*:\n",
    "it samples `ndays` days evenly spaced by (365 ÷ `ndays`) days\n",
    "\n",
    "with ndays=365, returns the original series\n",
    "\"\"\"\n",
    "function ts_reduction(x, ndays, sr=24)\n",
    "    out = zeros(ndays*sr)\n",
    "    @assert ndays<=365\n",
    "    Δdays = 365 ÷ ndays\n",
    "    for i in 1:ndays\n",
    "        offset_in = (i-1)*Δdays*sr\n",
    "        offset_out = (i-1)*sr\n",
    "        out[offset_out+1:offset_out+sr] = x[offset_in+1:offset_in+sr]\n",
    "    end\n",
    "    return out\n",
    "end"
   ]
  },
  {
   "cell_type": "markdown",
   "id": "db003c79-ea8e-41ea-85fe-161eddc6ad24",
   "metadata": {},
   "source": [
    "### Select amount of data reduction for sizing:"
   ]
  },
  {
   "cell_type": "code",
   "execution_count": 9,
   "id": "40523f8c-e208-492a-ab84-4fa1f54285f6",
   "metadata": {},
   "outputs": [
    {
     "name": "stdout",
     "output_type": "stream",
     "text": [
      "working with 365 days, that is 8760 timesteps\n"
     ]
    }
   ],
   "source": [
    "ndays = 365 # 1 to 365\n",
    "K = ndays*24 # h\n",
    "\n",
    "ts_reduction_ndays(x) = ts_reduction(x, ndays)\n",
    "\n",
    "println(\"working with $ndays days, that is $K timesteps\")"
   ]
  },
  {
   "cell_type": "code",
   "execution_count": 10,
   "id": "eea0ebec-69a6-47b6-b56b-0efa2b78d64a",
   "metadata": {},
   "outputs": [
    {
     "data": {
      "text/plain": [
       "6.774979e6"
      ]
     },
     "execution_count": 10,
     "metadata": {},
     "output_type": "execute_result"
    }
   ],
   "source": [
    "Pload = mg.load |> ts_reduction_ndays\n",
    "Eload_desired = sum(Pload)*dt*365/ndays # kWh, desired yearly load energy, compensating for data reduction"
   ]
  },
  {
   "cell_type": "markdown",
   "id": "a5e02534-8bf1-49ef-b06c-6c35d550e0d7",
   "metadata": {},
   "source": [
    "Compute capacity factor time series, i.e. normalized potential production, for wind and solar:"
   ]
  },
  {
   "cell_type": "code",
   "execution_count": 11,
   "id": "b68c829f-250f-45ec-bcf5-bfa61309750f",
   "metadata": {},
   "outputs": [],
   "source": [
    "# (works because the rated power in mg are set to 1 kW)\n",
    "cf_pv   = production(mg.nondispatchables[1]) |> ts_reduction_ndays\n",
    "cf_wind = production(mg.nondispatchables[2]) |> ts_reduction_ndays;"
   ]
  },
  {
   "cell_type": "markdown",
   "id": "8a484d05-8c7d-46a2-ae54-4d4a440c918a",
   "metadata": {},
   "source": [
    "### Display time series"
   ]
  },
  {
   "cell_type": "code",
   "execution_count": 12,
   "id": "e7ad1c5b-8e24-4e82-ba10-4a125baade4a",
   "metadata": {},
   "outputs": [
    {
     "data": {
      "image/png": "[encoded data removed]",
      "text/plain": [
       "Figure(PyObject <Figure size 550x350 with 2 Axes>)"
      ]
     },
     "metadata": {},
     "output_type": "display_data"
    }
   ],
   "source": [
    "td = collect((0:K-1)/24) # time in days\n",
    "\n",
    "fig, (ax1,ax2) = subplots(2,1, figsize=(5.5,3.5), sharex=true)\n",
    "\n",
    "ax1.plot(td, Pload)\n",
    "ax1.grid()\n",
    "ax1.set(\n",
    "    title=\"Load (reduced to $ndays days)\",\n",
    "    ylabel=\"kW\"\n",
    ")\n",
    "\n",
    "ax2.plot(td, cf_wind, label=\"wind\", color=\"tab:purple\")\n",
    "ax2.plot(td, cf_pv, label=\"solar\", color=\"tab:orange\")\n",
    "ax2.grid()\n",
    "ax2.legend(loc=\"upper right\")\n",
    "ax2.set(\n",
    "    title=\"Capacity factor of renewable generation\",\n",
    "    xlabel=\"time (days)\"\n",
    ")\n",
    "\n",
    "fig.tight_layout()"
   ]
  },
  {
   "cell_type": "markdown",
   "id": "eca336f5-6832-4973-8194-6b07b1e70bb0",
   "metadata": {},
   "source": [
    "## JuMP optimization model"
   ]
  },
  {
   "cell_type": "markdown",
   "id": "cac6d903-a260-4663-8558-abb0aca6fd61",
   "metadata": {},
   "source": [
    "### Model options"
   ]
  },
  {
   "cell_type": "markdown",
   "id": "c3c5ee5e-248b-4c03-ad2c-f984171e8b59",
   "metadata": {},
   "source": [
    "Load shedding (unserved load) bound, as a fraction of cumulated desired load energy:"
   ]
  },
  {
   "cell_type": "code",
   "execution_count": 13,
   "id": "bc0e5fbc-68d4-439c-bf08-fe740edb715c",
   "metadata": {},
   "outputs": [
    {
     "data": {
      "text/plain": [
       "0.0"
      ]
     },
     "execution_count": 13,
     "metadata": {},
     "output_type": "execute_result"
    }
   ],
   "source": [
    "shed_max = 0.0 # in [0,1]"
   ]
  },
  {
   "cell_type": "markdown",
   "id": "2f5508b7-cac1-4159-8cfa-2a1f6ba2f1a4",
   "metadata": {},
   "source": [
    "Choose between fixed lifetimes (gen and storage) vs usage-dependant:"
   ]
  },
  {
   "cell_type": "code",
   "execution_count": 14,
   "id": "74e21d69-42f7-42df-8f96-e2b0cbf05362",
   "metadata": {},
   "outputs": [
    {
     "data": {
      "text/plain": [
       "false"
      ]
     },
     "execution_count": 14,
     "metadata": {},
     "output_type": "execute_result"
    }
   ],
   "source": [
    "fixed_lifetimes = false"
   ]
  },
  {
   "cell_type": "markdown",
   "id": "1cf2bc69-d60f-4ca8-b506-02d9e0174820",
   "metadata": {},
   "source": [
    "assumed generator operation hours (used if `fixed_lifetimes = false`)"
   ]
  },
  {
   "cell_type": "code",
   "execution_count": 15,
   "id": "937f6861-a719-4e66-98f4-2453116a24a1",
   "metadata": {},
   "outputs": [
    {
     "data": {
      "text/plain": [
       "3000.0"
      ]
     },
     "execution_count": 15,
     "metadata": {},
     "output_type": "execute_result"
    }
   ],
   "source": [
    "gen_hours_assum = 3000. # in 0 – 8760 h/y"
   ]
  },
  {
   "cell_type": "markdown",
   "id": "f7750f06-7ea8-459f-a522-91d2f3b7d575",
   "metadata": {},
   "source": [
    "else, use a relaxation gain to try to compensate the underestimation of e.g. the generator operating hours due to linearization. Default is 1.0. Use higher gain for stronger generator usage penalty."
   ]
  },
  {
   "cell_type": "code",
   "execution_count": 16,
   "id": "3919b5c3-f5dd-4d33-b09d-addb7e0bc569",
   "metadata": {},
   "outputs": [
    {
     "data": {
      "text/plain": [
       "1.0"
      ]
     },
     "execution_count": 16,
     "metadata": {},
     "output_type": "execute_result"
    }
   ],
   "source": [
    "relax_gain = 1.0 # ≥ 1"
   ]
  },
  {
   "cell_type": "markdown",
   "id": "bf194a8e-88e5-4638-a585-9fe673902d73",
   "metadata": {},
   "source": [
    "### Init JuMP model"
   ]
  },
  {
   "cell_type": "markdown",
   "id": "1ed81972-4df7-487d-b30a-25c5748a17dc",
   "metadata": {},
   "source": [
    "Create JuMP model, with an LP optimizer (HiGHS, Clp, GLPK...)"
   ]
  },
  {
   "cell_type": "code",
   "execution_count": 17,
   "id": "8b89b345-530b-4bbe-9575-a77b24c423af",
   "metadata": {},
   "outputs": [],
   "source": [
    "optimizer = HiGHS.Optimizer\n",
    "model = Model(optimizer)\n",
    "set_silent(model)"
   ]
  },
  {
   "cell_type": "markdown",
   "id": "c4105a10-6ac3-4c69-a787-16b87d00d578",
   "metadata": {},
   "source": [
    "### Sizing variables\n",
    "\n",
    "Rating of 4 components (in kW or kWh):"
   ]
  },
  {
   "cell_type": "code",
   "execution_count": 18,
   "id": "be81f99a-dccb-45cc-b6d7-75244216fb56",
   "metadata": {},
   "outputs": [
    {
     "data": {
      "text/latex": [
       "$ power\\_rated\\_wind $"
      ],
      "text/plain": [
       "power_rated_wind"
      ]
     },
     "execution_count": 18,
     "metadata": {},
     "output_type": "execute_result"
    }
   ],
   "source": [
    "@variable(model, 0 <= power_rated_gen <= power_rated_gen_max)\n",
    "@variable(model, 0 <= energy_rated_sto <= energy_rated_sto_max)\n",
    "@variable(model, 0 <= power_rated_pv <= power_rated_pv_max)\n",
    "@variable(model, 0 <= power_rated_wind <= power_rated_wind_max)"
   ]
  },
  {
   "cell_type": "markdown",
   "id": "406de413-108a-4f2f-b8dc-2f47c1797fb0",
   "metadata": {},
   "source": [
    "### Power flows for each component\n",
    "\n",
    "Non dispatchable sources (renewables)"
   ]
  },
  {
   "cell_type": "code",
   "execution_count": 19,
   "id": "88eebf28-057d-4b92-889b-cfcf5378f602",
   "metadata": {},
   "outputs": [
    {
     "data": {
      "text/latex": [
       "$ pv\\_potential_{1} + wind\\_potential_{1} $"
      ],
      "text/plain": [
       "pv_potential[1] + wind_potential[1]"
      ]
     },
     "execution_count": 19,
     "metadata": {},
     "output_type": "execute_result"
    }
   ],
   "source": [
    "@variable(model, pv_potential[1:K])\n",
    "@constraint(model, pv_potential .== power_rated_pv*cf_pv)\n",
    "@variable(model, wind_potential[1:K])\n",
    "@constraint(model, wind_potential .== power_rated_wind*cf_wind)\n",
    "renew_potential = pv_potential + wind_potential\n",
    "renew_potential[1]"
   ]
  },
  {
   "cell_type": "markdown",
   "id": "fa059e3c-4704-4c57-a03c-f714021cf854",
   "metadata": {},
   "source": [
    "Desired net load (before spillage of excess renewables and load shedding)"
   ]
  },
  {
   "cell_type": "code",
   "execution_count": 20,
   "id": "91d74e25-2e7c-45a6-b2e6-83c35123109c",
   "metadata": {},
   "outputs": [],
   "source": [
    "@variable(model, Pnl[1:K])\n",
    "@constraint(model, Pnl .== Pload .- renew_potential);"
   ]
  },
  {
   "cell_type": "markdown",
   "id": "cf113496-3dd8-4e73-8a91-81ae44a83412",
   "metadata": {},
   "source": [
    "Renewables spillage and load shedding"
   ]
  },
  {
   "cell_type": "code",
   "execution_count": 21,
   "id": "9d1389a2-4e17-41b6-9bfc-a8dcbcf86eef",
   "metadata": {},
   "outputs": [],
   "source": [
    "@variable(model, Pspill[1:K] >= 0)\n",
    "@variable(model, Pshed[1:K] >= 0);"
   ]
  },
  {
   "cell_type": "markdown",
   "id": "f670a9b3-5be4-4963-8129-39e9c8bb145d",
   "metadata": {},
   "source": [
    "Dispatchable generator"
   ]
  },
  {
   "cell_type": "code",
   "execution_count": 22,
   "id": "7e8de97b-fa55-4aa0-af97-59456326d5e3",
   "metadata": {},
   "outputs": [],
   "source": [
    "@variable(model, Pgen[1:K] >= 0)\n",
    "@constraint(model, Pgen .<= power_rated_gen);"
   ]
  },
  {
   "cell_type": "markdown",
   "id": "d926e005-27a8-464f-87ff-12e6544ae34a",
   "metadata": {},
   "source": [
    "### Energy storage"
   ]
  },
  {
   "cell_type": "code",
   "execution_count": 23,
   "id": "366632da-ad67-474f-808c-37fa227bfe98",
   "metadata": {},
   "outputs": [
    {
     "data": {
      "text/latex": [
       "$$ -energy\\_rated\\_sto + Psto\\_cha_{1} + Psto\\_dis_{1} \\leq 0 $$"
      ],
      "text/plain": [
       "-energy_rated_sto + Psto_cha[1] + Psto_dis[1] ≤ 0"
      ]
     },
     "execution_count": 23,
     "metadata": {},
     "output_type": "execute_result"
    }
   ],
   "source": [
    "# Charge and discharge power (net of losses)\n",
    "@variable(model, Psto_cha[1:K] >= 0)\n",
    "@variable(model, Psto_dis[1:K] >= 0)\n",
    "# Energy level and its bounds\n",
    "@variable(model, Esto[1:K+1])\n",
    "@constraint(model, Esto .<= energy_rated_sto) # SoCmax = 1 implicitly\n",
    "@constraint(model, Esto .>= mg.storage.SoC_min*energy_rated_sto) # often 0\n",
    "# Power constraints\n",
    "@constraint(model, Psto_cha .<= mg.storage.charge_rate    * energy_rated_sto)\n",
    "@constraint(model, Psto_dis .<= mg.storage.discharge_rate * energy_rated_sto)\n",
    "# variant that embeds the two preceding ones, using that fact that Psto_cha(k) * Psto_dis(k) = 0\n",
    "@constraint(model, Psto_cha/mg.storage.charge_rate + Psto_dis/mg.storage.discharge_rate  .<=  energy_rated_sto)[1]"
   ]
  },
  {
   "cell_type": "markdown",
   "id": "2794cd7a-669e-4a05-844a-aaabe61dcba0",
   "metadata": {},
   "source": [
    "Evolution of the State of Energy, with piecewise linear in P loss term (aka constant efficiency model)"
   ]
  },
  {
   "cell_type": "code",
   "execution_count": 24,
   "id": "d99506cb-1077-4a94-8041-4b89b587bc97",
   "metadata": {},
   "outputs": [
    {
     "data": {
      "text/latex": [
       "$$ -0.95 Psto\\_cha_{1} + 1.05 Psto\\_dis_{1} - Esto_{1} + Esto_{2} = 0 $$"
      ],
      "text/plain": [
       "stodyn[1] : -0.95 Psto_cha[1] + 1.05 Psto_dis[1] - Esto[1] + Esto[2] = 0"
      ]
     },
     "execution_count": 24,
     "metadata": {},
     "output_type": "execute_result"
    }
   ],
   "source": [
    "a = mg.storage.loss_factor\n",
    "@constraint(model,\n",
    "    stodyn[k=1:K],\n",
    "    Esto[k+1] == Esto[k] + (Psto_cha[k] - Psto_dis[k] - a*(Psto_cha[k]+Psto_dis[k]))*dt\n",
    "    )\n",
    "stodyn[1]"
   ]
  },
  {
   "cell_type": "markdown",
   "id": "b652a661-d834-456f-9549-33e824c90262",
   "metadata": {},
   "source": [
    "Storage cyclicity"
   ]
  },
  {
   "cell_type": "code",
   "execution_count": 25,
   "id": "59a2809a-b423-421d-b901-f99827de0148",
   "metadata": {},
   "outputs": [
    {
     "data": {
      "text/latex": [
       "$$ -Esto_{1} + Esto_{8761} = 0 $$"
      ],
      "text/plain": [
       "-Esto[1] + Esto[8761] = 0"
      ]
     },
     "execution_count": 25,
     "metadata": {},
     "output_type": "execute_result"
    }
   ],
   "source": [
    "@constraint(model, Esto[K+1] == Esto[1])"
   ]
  },
  {
   "cell_type": "markdown",
   "id": "e49b6af4-3526-45c2-9bb1-a8c5f86e806e",
   "metadata": {},
   "source": [
    "Optional: force initial SoC"
   ]
  },
  {
   "cell_type": "code",
   "execution_count": 26,
   "id": "bccde68b-60b1-4bcb-9083-b5ec92d3c7cd",
   "metadata": {},
   "outputs": [
    {
     "data": {
      "text/plain": [
       "0.0"
      ]
     },
     "execution_count": 26,
     "metadata": {},
     "output_type": "execute_result"
    }
   ],
   "source": [
    "mg.storage.SoC_ini # ...\n",
    "#@constraint(model, Esto[1] == mg.storage.SoC_ini * energy_rated_sto)"
   ]
  },
  {
   "cell_type": "markdown",
   "id": "bfa3df37-1e81-4b2e-a7d3-c6ef8c745b78",
   "metadata": {},
   "source": [
    "### Power balance"
   ]
  },
  {
   "cell_type": "markdown",
   "id": "637012e6-02c5-4129-9759-f3820079c087",
   "metadata": {},
   "source": [
    "at each of the `K` instants, generation should meet the load (±shedding and spillage):"
   ]
  },
  {
   "cell_type": "code",
   "execution_count": 27,
   "id": "d197912e-b9f3-4aef-9c42-bbe5936011d0",
   "metadata": {},
   "outputs": [
    {
     "data": {
      "text/latex": [
       "$$ -Pnl_{1} - Pspill_{1} + Pshed_{1} + Pgen_{1} - Psto\\_cha_{1} + Psto\\_dis_{1} = 0 $$"
      ],
      "text/plain": [
       "balance : -Pnl[1] - Pspill[1] + Pshed[1] + Pgen[1] - Psto_cha[1] + Psto_dis[1] = 0"
      ]
     },
     "execution_count": 27,
     "metadata": {},
     "output_type": "execute_result"
    }
   ],
   "source": [
    "@constraint(model, balance,\n",
    "    Pgen + (Psto_dis - Psto_cha) - Pspill .== Pnl - Pshed)\n",
    "balance[1]"
   ]
  },
  {
   "cell_type": "markdown",
   "id": "6b234d2e-ba0a-4b00-bc5e-7e0b7f32340e",
   "metadata": {},
   "source": [
    "Shedding (unserved load) limit:\n",
    "- either **zero shedding allowed**\n",
    "- or a limit on the cumulated shedded energy"
   ]
  },
  {
   "cell_type": "code",
   "execution_count": 28,
   "id": "48bd22cb-a2fd-44ad-bda3-8ff618148e21",
   "metadata": {},
   "outputs": [
    {
     "name": "stdout",
     "output_type": "stream",
     "text": [
      "zero load shedding allowed\n"
     ]
    }
   ],
   "source": [
    "if shed_max == 0.0\n",
    "    println(\"zero load shedding allowed\")\n",
    "    fix.(Pshed, 0.0; force=true)\n",
    "else\n",
    "    println(\"load shedding allowed: $shed_max\")\n",
    "    Eshed = sum(Pshed)*dt * 365/ndays\n",
    "    @constraint(model, Eshed <= Eload_desired*shed_max)\n",
    "end;"
   ]
  },
  {
   "cell_type": "markdown",
   "id": "495b9a10-df89-4370-a5b4-1c7b490a56aa",
   "metadata": {},
   "source": [
    "### Costs\n",
    "\n",
    "We model with annualized costs, to account for the different lifetime of each component."
   ]
  },
  {
   "cell_type": "markdown",
   "id": "23f620ff-87e4-4571-9faf-36d2c575866b",
   "metadata": {},
   "source": [
    "#### CRF helpers"
   ]
  },
  {
   "cell_type": "code",
   "execution_count": 29,
   "id": "0acbbf15-b51d-4b86-8774-30cc9f002cc1",
   "metadata": {},
   "outputs": [
    {
     "data": {
      "text/plain": [
       "(0.05, 0.055415314890551334, 0.08024258719069129, 0.11745962477254576, 0.20535653069304277)"
      ]
     },
     "execution_count": 29,
     "metadata": {},
     "output_type": "execute_result"
    }
   ],
   "source": [
    "\"\"\"capital recovery factor for discount rate `i` and duration `T`\n",
    "CRF is such that Cann = NPC*CRF\n",
    "\"\"\"\n",
    "function CRF(i,T)\n",
    "    if i != 0.0\n",
    "        a = (1+i)^T\n",
    "        return i*a/(a-1)\n",
    "    else\n",
    "        return 1/T\n",
    "    end\n",
    "end\n",
    "CRF(0, 20), CRF(0.01, 20), CRF(0.05, 20), CRF(0.10, 20), CRF(0.20, 20)"
   ]
  },
  {
   "cell_type": "code",
   "execution_count": 30,
   "id": "5e08fdbe-a31c-4397-ae56-7199880bc5ac",
   "metadata": {},
   "outputs": [
    {
     "data": {
      "text/plain": [
       "0.05"
      ]
     },
     "execution_count": 30,
     "metadata": {},
     "output_type": "execute_result"
    }
   ],
   "source": [
    "discount_rate = mg.project.discount_rate"
   ]
  },
  {
   "cell_type": "code",
   "execution_count": 31,
   "id": "0746da75-45ef-43f0-ae2f-c45f229278ec",
   "metadata": {},
   "outputs": [
    {
     "data": {
      "text/plain": [
       "0.08024258719069129"
      ]
     },
     "execution_count": 31,
     "metadata": {},
     "output_type": "execute_result"
    }
   ],
   "source": [
    "CRFproj(T) = CRF(discount_rate, T) \n",
    "CRFproj(20.)"
   ]
  },
  {
   "cell_type": "markdown",
   "id": "ed4fb9f4-20d2-45d6-add5-15e9b8eeab96",
   "metadata": {},
   "source": [
    "#### Annualized size linearization helpers\n",
    "\n",
    "For the battery and the generator, to model the effect of **usage-dependent lifetime** (option `fixed_lifetimes = false`) on the annualized cost, we define the notion of “annualized size” function of size $x$ and usage $u$:\n",
    "\n",
    "$$x_{ann}(x,u) = x.CRF(T(x, u))$$\n",
    "\n",
    "with lifetime varying with size and usage as $T=x/u$. Then the annualized cost is simply $price \\times x_{ann}$.\n",
    "\n",
    "In a draft manuscript (*insert link when online*), we proove the joint convexity of $x_{ann}(x,u)$ and thus we use the piecewise linear approximation.\n",
    "\n",
    "Alternatively, with a fixed lifetime assumption, then this annualized size is simply a fixed fraction of the actual size:\n",
    "\n",
    "$$x_{ann} = x.CRF(T)$$\n"
   ]
  },
  {
   "cell_type": "code",
   "execution_count": 32,
   "id": "b4289c7a-e7ab-44cc-b44d-962d56257ab1",
   "metadata": {},
   "outputs": [
    {
     "data": {
      "text/plain": [
       "((1.0, 0.0), (0.7944868122665105, 0.7240616609663105), (0.500166666631003, 0.9999999166667313))"
      ]
     },
     "execution_count": 32,
     "metadata": {},
     "output_type": "execute_result"
    }
   ],
   "source": [
    "\"\"\"intercept and slope of tangent to function g:z → 1/(1-e^(-1/z))  at point `z0`\n",
    "\n",
    "Usage: with gi, g1 = g_asym(z0),\n",
    "then g(z) ~ gi + g1*z around z0\n",
    "gi: intercept at z=0\n",
    "g1: slope\n",
    "\"\"\"\n",
    "function g_tan(z0)\n",
    "    z=z0\n",
    "    emiz = exp(-1/z)\n",
    "    g = 1/(1-emiz) # g(z)\n",
    "    g1 = emiz/(z^2*(1-emiz)^2) # g'(z)\n",
    "    ginter = g - g1*z\n",
    "    return ginter, g1\n",
    "end\n",
    "g_tan(1e-3), g_tan(1/2), g_tan(1e3)"
   ]
  },
  {
   "cell_type": "markdown",
   "id": "5cdba739-a6f5-4747-bf5d-fb9b2f98e207",
   "metadata": {},
   "source": [
    "Choose where to place the tangents on $g(z)$. Recommended values:\n",
    "- z_tan = [0.5]: 5% CRF underestimation error (used in Grenoble 2024 workshop slides)\n",
    "- z_tan = [0.28, 0.5, 1.0]: 1.6% error\n",
    "- z_tan = [0.20, 0.28, 0.37, 0.50, 0.68, 1.0, 1.7, 4.0]: 0.23% error"
   ]
  },
  {
   "cell_type": "code",
   "execution_count": 33,
   "id": "1c49dee0-78c8-45ec-8a41-8c7e2307f89c",
   "metadata": {},
   "outputs": [
    {
     "data": {
      "text/plain": [
       "1-element Vector{Float64}:\n",
       " 0.5"
      ]
     },
     "execution_count": 33,
     "metadata": {},
     "output_type": "execute_result"
    }
   ],
   "source": [
    "z_tan = [0.5]\n",
    "#z_tan = [0.28, 0.5, 1.0]\n",
    "#z_tan = [0.20, 0.28, 0.37, 0.50, 0.68, 1.0, 1.7, 4.0]"
   ]
  },
  {
   "cell_type": "code",
   "execution_count": 34,
   "id": "92cbc57a-4c40-4c86-ab85-1b45ebd81064",
   "metadata": {},
   "outputs": [
    {
     "data": {
      "text/plain": [
       "3-element Vector{Tuple{Float64, Float64}}:\n",
       " (1.0, 0.0)\n",
       " (0.7944868122665105, 0.7240616609663105)\n",
       " (0.5, 1.0)"
      ]
     },
     "execution_count": 34,
     "metadata": {},
     "output_type": "execute_result"
    }
   ],
   "source": [
    "# stacked tangents: (ginter, g1) for each z0 in z_tan, including z=0 and +infty\n",
    "[\n",
    "    (1.0, 0.) # z0 = 0\n",
    "    [(g_tan(z0)[1], g_tan(z0)[2]) for z0 in z_tan]\n",
    "    (0.5, 1.0) # z0 -> +infty\n",
    "]"
   ]
  },
  {
   "cell_type": "code",
   "execution_count": 35,
   "id": "459dbd25-b7e1-4f50-ac84-3e15b1972c8f",
   "metadata": {},
   "outputs": [
    {
     "data": {
      "text/plain": [
       "cons_Xann_usage!"
      ]
     },
     "execution_count": 35,
     "metadata": {},
     "output_type": "execute_result"
    }
   ],
   "source": [
    "\"\"\"Piecewise linear approximation of “annualized size” function of size and usage\n",
    "\n",
    "Parameters:\n",
    "- Xann, X, U: JuMP variables or expressions\n",
    "- discount_rate: Real number in [0,1] (negative discount not implemented)\n",
    "- z_tan: list of z0 values where to use tangents of g(z)\n",
    "\n",
    "Recommended values:\n",
    "- z_tan = [0.5]: up to 5% CRF underestimation error\n",
    "- z_tan = [0.28, 0.5, 1.0]: 1.6% error\n",
    "- z_tan = [0.20, 0.28, 0.37, 0.50, 0.68, 1.0, 1.7, 4.0]: 0.23% error\n",
    "\n",
    "Tangents at z=0 and z→+∞ are also added, so no need to add these.\n",
    "\n",
    "Returns the vector of constraints\n",
    "\"\"\"\n",
    "function cons_Xann_usage!(model, Xann, X, U, discount_rate, z_tan=[0.28, 0.5, 1.0])\n",
    "    r = discount_rate/log(1+discount_rate)\n",
    "    # stacked tangents: (ginter, g1) for each z0 in z_tan, including z=0 and +infty\n",
    "    tan_params = [\n",
    "        (1.0, 0.) # z0 = 0, yields Xann >= X*discount_rate\n",
    "        [(g_tan(z0)[1], g_tan(z0)[2]) for z0 in z_tan]\n",
    "        (0.5, 1.0) # z0 -> +inftyn yields Xann >= X*discount_rate*0.5 + U*r\n",
    "    ]\n",
    "    ntan = length(tan_params)\n",
    "    cvec = @constraint(model, [k=1:ntan],\n",
    "        Xann >= X*discount_rate*tan_params[k][1]\n",
    "              + U*r*tan_params[k][2]\n",
    "    )\n",
    "    cname = \"c_\" * name(Xann) *\"_\"* name(X) *\"_\"* name(U)\n",
    "    set_name.(cvec, [cname * \"[$k]\" for k=1:ntan])\n",
    "    return cvec\n",
    "end"
   ]
  },
  {
   "cell_type": "markdown",
   "id": "d9cf6856-1d13-48ae-95f6-886eb44aa7ba",
   "metadata": {},
   "source": [
    "test `cons_Xann_usage!` helper"
   ]
  },
  {
   "cell_type": "code",
   "execution_count": 36,
   "id": "0137f997-1aec-4f8b-bad2-3d7f83273388",
   "metadata": {
    "scrolled": true
   },
   "outputs": [
    {
     "data": {
      "text/plain": [
       "3-element Vector{ConstraintRef{Model, MathOptInterface.ConstraintIndex{MathOptInterface.ScalarAffineFunction{Float64}, MathOptInterface.GreaterThan{Float64}}, ScalarShape}}:\n",
       " c_Xann_X_U[1] : Xann - 0.05 X ≥ 0\n",
       " c_Xann_X_U[2] : Xann - 0.039724340613325526 X - 0.7420160121329831 U ≥ 0\n",
       " c_Xann_X_U[3] : Xann - 0.025 X - 1.0247967157143927 U ≥ 0"
      ]
     },
     "execution_count": 36,
     "metadata": {},
     "output_type": "execute_result"
    }
   ],
   "source": [
    "mtest = Model()\n",
    "@variable(mtest, Xann)\n",
    "@variable(mtest, X)\n",
    "@variable(mtest, U)\n",
    "cons_Xann_usage!(mtest, Xann, X, U, 0.05, z_tan)"
   ]
  },
  {
   "cell_type": "markdown",
   "id": "71985979-0c52-4c66-8a12-4cd3e4246aeb",
   "metadata": {},
   "source": [
    "#### Generator\n",
    "\n",
    "assumptions:\n",
    "- constant efficiency, i.e. fuel curve intercept = 0\n",
    "- (optionnally) fixed number of operating hours per year, to linearize both the O&M and investment&replacement (with fixed  lifetime)"
   ]
  },
  {
   "cell_type": "markdown",
   "id": "9c404ef2-25bb-45f0-b3de-b66f95e02ad0",
   "metadata": {},
   "source": [
    "Generator yearly energy (compensating for the optional data reduction when `ndays` ≠  365) "
   ]
  },
  {
   "cell_type": "code",
   "execution_count": 37,
   "id": "267dedf4-5ecd-485f-aa72-51e9bbceeabf",
   "metadata": {},
   "outputs": [],
   "source": [
    "Egen = sum(Pgen)*dt * 365/ndays;"
   ]
  },
  {
   "cell_type": "markdown",
   "id": "4aef1326-e749-4f85-9941-56839dc71c5c",
   "metadata": {},
   "source": [
    "We define its annualized size, which can depend on a usage-dependant lifetime $T$: $x_{ann} = x.CRF(T(x, u))$. Otherwise, its a fixed fraction of the size:"
   ]
  },
  {
   "cell_type": "code",
   "execution_count": 38,
   "id": "e55faa1b-dda4-478a-8398-b9d49549b2ea",
   "metadata": {},
   "outputs": [
    {
     "data": {
      "text/plain": [
       "15000.0"
      ]
     },
     "execution_count": 38,
     "metadata": {},
     "output_type": "execute_result"
    }
   ],
   "source": [
    "mg.generator.lifetime_hours # h"
   ]
  },
  {
   "cell_type": "code",
   "execution_count": 39,
   "id": "69c574f7-6e54-4745-90b9-00839a4fce71",
   "metadata": {},
   "outputs": [],
   "source": [
    "if fixed_lifetimes\n",
    "    print(\"Fixed generator lifetime hypothesis: \")\n",
    "    gen_lifetime = mg.generator.lifetime_hours / gen_hours_assum # years\n",
    "    println(\"$gen_lifetime y, assuming $gen_hours_assum  h/y of usage\")\n",
    "    Pgen_rated_ann = power_rated_gen * CRFproj(gen_lifetime)\n",
    "end"
   ]
  },
  {
   "cell_type": "code",
   "execution_count": 40,
   "id": "39b3857a-7a4a-4bbd-9abf-322b541f3c2b",
   "metadata": {},
   "outputs": [
    {
     "name": "stdout",
     "output_type": "stream",
     "text": [
      "Usage-dependent generator lifetime model (relax_gain=1.0)\n"
     ]
    }
   ],
   "source": [
    "if ~fixed_lifetimes\n",
    "    println(\"Usage-dependent generator lifetime model (relax_gain=\", relax_gain,\")\")\n",
    "    @variable(model, Pgen_rated_ann >= 0) # annualized size\n",
    "    @variable(model, Ugen >= 0) # cumulated usage\n",
    "    @constraint(model, Ugen == Egen*relax_gain/mg.generator.lifetime_hours); # kW/y\n",
    "    cpwl_gen = cons_Xann_usage!(model,\n",
    "                    Pgen_rated_ann, power_rated_gen, Ugen,\n",
    "                    discount_rate, z_tan)\n",
    "end;"
   ]
  },
  {
   "cell_type": "markdown",
   "id": "01ea3926-aa20-4514-a12e-6b3e48eaf02a",
   "metadata": {},
   "source": [
    "Cut 1: long lifetime (low usage): $CRF \\to i$ (discount rate)."
   ]
  },
  {
   "cell_type": "code",
   "execution_count": 41,
   "id": "8a8f1283-a02b-40c6-bbb8-98eec81ee582",
   "metadata": {},
   "outputs": [
    {
     "data": {
      "text/latex": [
       "$$ -0.05 power\\_rated\\_gen + Pgen\\_rated\\_ann \\geq 0 $$"
      ],
      "text/plain": [
       "c_Pgen_rated_ann_power_rated_gen_Ugen[1] : -0.05 power_rated_gen + Pgen_rated_ann ≥ 0"
      ]
     },
     "execution_count": 41,
     "metadata": {},
     "output_type": "execute_result"
    }
   ],
   "source": [
    "if ~fixed_lifetimes cpwl_gen[1] end"
   ]
  },
  {
   "cell_type": "markdown",
   "id": "0a08475b-194b-4e50-a20d-445c716878c0",
   "metadata": {},
   "source": [
    "Cut 2: turning point lifetime ($U/X \\approx i/2$)"
   ]
  },
  {
   "cell_type": "code",
   "execution_count": 42,
   "id": "6b205587-8eb4-4f7c-984e-11827dcd0e6c",
   "metadata": {},
   "outputs": [
    {
     "data": {
      "text/latex": [
       "$$ -0.039724340613325526 power\\_rated\\_gen + Pgen\\_rated\\_ann - 0.7420160121329831 Ugen \\geq 0 $$"
      ],
      "text/plain": [
       "c_Pgen_rated_ann_power_rated_gen_Ugen[2] : -0.039724340613325526 power_rated_gen + Pgen_rated_ann - 0.7420160121329831 Ugen ≥ 0"
      ]
     },
     "execution_count": 42,
     "metadata": {},
     "output_type": "execute_result"
    }
   ],
   "source": [
    "if ~fixed_lifetimes cpwl_gen[2] end"
   ]
  },
  {
   "cell_type": "markdown",
   "id": "97977012-1332-483d-8c1a-544506922e11",
   "metadata": {},
   "source": [
    "Cut 3: low lifetime (high usage)"
   ]
  },
  {
   "cell_type": "code",
   "execution_count": 43,
   "id": "7cc5ca35-8bd8-47ba-9134-12154e284fd2",
   "metadata": {},
   "outputs": [
    {
     "data": {
      "text/latex": [
       "$$ -0.025 power\\_rated\\_gen + Pgen\\_rated\\_ann - 1.0247967157143927 Ugen \\geq 0 $$"
      ],
      "text/plain": [
       "c_Pgen_rated_ann_power_rated_gen_Ugen[3] : -0.025 power_rated_gen + Pgen_rated_ann - 1.0247967157143927 Ugen ≥ 0"
      ]
     },
     "execution_count": 43,
     "metadata": {},
     "output_type": "execute_result"
    }
   ],
   "source": [
    "if ~fixed_lifetimes cpwl_gen[end] end"
   ]
  },
  {
   "cell_type": "markdown",
   "id": "9d402a36-0608-4dd8-8dbb-9712d8f8b637",
   "metadata": {},
   "source": [
    "Generator cost, expressed with “annualized size” for the investment part (and normal size for O&M costs):\n",
    "- *for O&M*, there is the remaining question of using fixed gen hours, or the convexified ones: `gen_hours_lin = relax_gain*Egen/power_rated_gen`, so that `gen_hours_lin*power_rated_gen` simplifies into`relax_gain*Egen`"
   ]
  },
  {
   "cell_type": "code",
   "execution_count": 44,
   "id": "f2b80cdc-aa7a-4782-b6c4-e989e76936c1",
   "metadata": {},
   "outputs": [
    {
     "data": {
      "text/latex": [
       "$ 0.02 Pgen_{1} + 0.02 Pgen_{2} + 0.02 Pgen_{3} + 0.02 Pgen_{4} + 0.02 Pgen_{5} + 0.02 Pgen_{6} + 0.02 Pgen_{7} + 0.02 Pgen_{8} + 0.02 Pgen_{9} + 0.02 Pgen_{10} + 0.02 Pgen_{11} + 0.02 Pgen_{12} + 0.02 Pgen_{13} + 0.02 Pgen_{14} + 0.02 Pgen_{15} + 0.02 Pgen_{16} + 0.02 Pgen_{17} + 0.02 Pgen_{18} + 0.02 Pgen_{19} + 0.02 Pgen_{20} + 0.02 Pgen_{21} + 0.02 Pgen_{22} + 0.02 Pgen_{23} + 0.02 Pgen_{24} + 0.02 Pgen_{25} + 0.02 Pgen_{26} + 0.02 Pgen_{27} + 0.02 Pgen_{28} + 0.02 Pgen_{29} + 0.02 Pgen_{30} + [[\\ldots\\text{8700 terms omitted}\\ldots]] + 0.02 Pgen_{8731} + 0.02 Pgen_{8732} + 0.02 Pgen_{8733} + 0.02 Pgen_{8734} + 0.02 Pgen_{8735} + 0.02 Pgen_{8736} + 0.02 Pgen_{8737} + 0.02 Pgen_{8738} + 0.02 Pgen_{8739} + 0.02 Pgen_{8740} + 0.02 Pgen_{8741} + 0.02 Pgen_{8742} + 0.02 Pgen_{8743} + 0.02 Pgen_{8744} + 0.02 Pgen_{8745} + 0.02 Pgen_{8746} + 0.02 Pgen_{8747} + 0.02 Pgen_{8748} + 0.02 Pgen_{8749} + 0.02 Pgen_{8750} + 0.02 Pgen_{8751} + 0.02 Pgen_{8752} + 0.02 Pgen_{8753} + 0.02 Pgen_{8754} + 0.02 Pgen_{8755} + 0.02 Pgen_{8756} + 0.02 Pgen_{8757} + 0.02 Pgen_{8758} + 0.02 Pgen_{8759} + 0.02 Pgen_{8760} $"
      ],
      "text/plain": [
       "0.02 Pgen[1] + 0.02 Pgen[2] + 0.02 Pgen[3] + 0.02 Pgen[4] + 0.02 Pgen[5] + 0.02 Pgen[6] + 0.02 Pgen[7] + 0.02 Pgen[8] + 0.02 Pgen[9] + 0.02 Pgen[10] + 0.02 Pgen[11] + 0.02 Pgen[12] + 0.02 Pgen[13] + 0.02 Pgen[14] + 0.02 Pgen[15] + 0.02 Pgen[16] + 0.02 Pgen[17] + 0.02 Pgen[18] + 0.02 Pgen[19] + 0.02 Pgen[20] + 0.02 Pgen[21] + 0.02 Pgen[22] + 0.02 Pgen[23] + 0.02 Pgen[24] + 0.02 Pgen[25] + 0.02 Pgen[26] + 0.02 Pgen[27] + 0.02 Pgen[28] + 0.02 Pgen[29] + 0.02 Pgen[30] + [[...8700 terms omitted...]] + 0.02 Pgen[8731] + 0.02 Pgen[8732] + 0.02 Pgen[8733] + 0.02 Pgen[8734] + 0.02 Pgen[8735] + 0.02 Pgen[8736] + 0.02 Pgen[8737] + 0.02 Pgen[8738] + 0.02 Pgen[8739] + 0.02 Pgen[8740] + 0.02 Pgen[8741] + 0.02 Pgen[8742] + 0.02 Pgen[8743] + 0.02 Pgen[8744] + 0.02 Pgen[8745] + 0.02 Pgen[8746] + 0.02 Pgen[8747] + 0.02 Pgen[8748] + 0.02 Pgen[8749] + 0.02 Pgen[8750] + 0.02 Pgen[8751] + 0.02 Pgen[8752] + 0.02 Pgen[8753] + 0.02 Pgen[8754] + 0.02 Pgen[8755] + 0.02 Pgen[8756] + 0.02 Pgen[8757] + 0.02 Pgen[8758] + 0.02 Pgen[8759] + 0.02 Pgen[8760]"
      ]
     },
     "execution_count": 44,
     "metadata": {},
     "output_type": "execute_result"
    }
   ],
   "source": [
    "Cgen_om = fixed_lifetimes ? \n",
    "    mg.generator.om_price_hours * gen_hours * power_rated_gen :\n",
    "    mg.generator.om_price_hours * relax_gain * Egen\n",
    "Cgen_om"
   ]
  },
  {
   "cell_type": "code",
   "execution_count": 45,
   "id": "9072f95d-3e0b-4491-8229-81053873d7f4",
   "metadata": {},
   "outputs": [],
   "source": [
    "Cgen = mg.generator.investment_price * Pgen_rated_ann +\n",
    "       Cgen_om +\n",
    "       mg.generator.fuel_price * mg.generator.fuel_slope * Egen;# $/y"
   ]
  },
  {
   "cell_type": "markdown",
   "id": "09d0d157-5001-4010-a35a-44f5ccc33ebe",
   "metadata": {},
   "source": [
    "#### Battery"
   ]
  },
  {
   "cell_type": "markdown",
   "id": "94372b9a-7ffd-49cc-a517-d511961af619",
   "metadata": {},
   "source": [
    "We also define its “annualized size” $x_{ann} = x.CRF(T)$.\n",
    "However, for the battery, we account for the both a fixed calendar lifetime and (optionnally) a usage dependent lifetime $T=x/u$. Also, unlike for the generator, no relaxation is needed to define the usage variable."
   ]
  },
  {
   "cell_type": "code",
   "execution_count": 46,
   "id": "b271305e-ed8f-4a1e-94aa-90269dbbea72",
   "metadata": {},
   "outputs": [
    {
     "data": {
      "text/latex": [
       "$ Esto\\_rated\\_ann $"
      ],
      "text/plain": [
       "Esto_rated_ann"
      ]
     },
     "execution_count": 46,
     "metadata": {},
     "output_type": "execute_result"
    }
   ],
   "source": [
    "@variable(model, Esto_rated_ann >= 0)"
   ]
  },
  {
   "cell_type": "markdown",
   "id": "ce7343b7-4a96-47fb-9524-de2fcd1565d0",
   "metadata": {},
   "source": [
    "Storage cost, expressed with “annualized size” for the investment part (and normal size for O&M costs):"
   ]
  },
  {
   "cell_type": "code",
   "execution_count": 47,
   "id": "5c0c54b4-266c-4de6-8eb9-e2d1a3dcdae0",
   "metadata": {},
   "outputs": [
    {
     "data": {
      "text/latex": [
       "$ 350 Esto\\_rated\\_ann + 10 energy\\_rated\\_sto $"
      ],
      "text/plain": [
       "350 Esto_rated_ann + 10 energy_rated_sto"
      ]
     },
     "execution_count": 47,
     "metadata": {},
     "output_type": "execute_result"
    }
   ],
   "source": [
    "Csto = mg.storage.investment_price * Esto_rated_ann +\n",
    "       mg.storage.om_price * energy_rated_sto"
   ]
  },
  {
   "cell_type": "markdown",
   "id": "f689ff34-e508-40e8-b186-388745290406",
   "metadata": {},
   "source": [
    "##### A) Effect of calendar lifetime:"
   ]
  },
  {
   "cell_type": "code",
   "execution_count": 48,
   "id": "bce60e60-e005-42b9-b824-75361192f092",
   "metadata": {},
   "outputs": [
    {
     "data": {
      "text/plain": [
       "(15.0, 0.09634228760924432)"
      ]
     },
     "execution_count": 48,
     "metadata": {},
     "output_type": "execute_result"
    }
   ],
   "source": [
    "CRFsto_cal = CRFproj(mg.storage.lifetime_calendar)\n",
    "mg.storage.lifetime_calendar, CRFsto_cal"
   ]
  },
  {
   "cell_type": "code",
   "execution_count": 49,
   "id": "4a7e20fc-54d8-47b7-a8e1-2e61f7a7b071",
   "metadata": {},
   "outputs": [
    {
     "data": {
      "text/latex": [
       "$$ -0.09634228760924432 energy\\_rated\\_sto + Esto\\_rated\\_ann \\geq 0 $$"
      ],
      "text/plain": [
       "-0.09634228760924432 energy_rated_sto + Esto_rated_ann ≥ 0"
      ]
     },
     "execution_count": 49,
     "metadata": {},
     "output_type": "execute_result"
    }
   ],
   "source": [
    "@constraint(model, Esto_rated_ann >= energy_rated_sto*CRFsto_cal)"
   ]
  },
  {
   "cell_type": "markdown",
   "id": "36708494-6c47-4df3-a7cb-c2c853d9a4a0",
   "metadata": {},
   "source": [
    "##### B) Effect of cycling\n",
    "\n",
    "we define the storage yearly energy throughput $E_{through} = \\sum_k (P_{sto,cha} + P_{sto,dis})\\Delta_t$ (kWh/y).\n",
    "\n",
    "Then, the storage usage is defined as:\n",
    "\n",
    "$$U_{sto} = \\frac{E_{through}}{2.N_{max}}$$\n",
    "\n",
    "so that the storage cycling lifetime is $T = E_{rated}/U_{sto}$.\n",
    "\n",
    "Proof:\n",
    "\n",
    "$$ \\frac{E_{rated}}{U_{sto}} = \\frac{2.E_{rated}.N_{max}}{E_{through}} =  \\frac{N_{max}}{N_{cycles}} = T_{cycles}$$\n",
    "\n",
    "using the following definition for $N_{cycles}$ the yearly number of equivalent full cycles:\n",
    "\n",
    "$$ N_{cycles} = \\frac{E_{through}}{2.E_{rated}}$$"
   ]
  },
  {
   "cell_type": "code",
   "execution_count": 50,
   "id": "7ecb3e8e-285f-4bc1-b3d1-491a7ef01f3c",
   "metadata": {},
   "outputs": [
    {
     "data": {
      "text/plain": [
       "3000.0"
      ]
     },
     "execution_count": 50,
     "metadata": {},
     "output_type": "execute_result"
    }
   ],
   "source": [
    "mg.storage.lifetime_cycles"
   ]
  },
  {
   "cell_type": "markdown",
   "id": "7c46e243-70ce-4b8b-89fd-54655d981afc",
   "metadata": {},
   "source": [
    "PWL approximation for usage-dependant annualized size:"
   ]
  },
  {
   "cell_type": "code",
   "execution_count": 51,
   "id": "df08bdb2-35c9-476b-96c7-f6290edb6980",
   "metadata": {},
   "outputs": [],
   "source": [
    "if ~fixed_lifetimes\n",
    "    @variable(model, Usto >= 0) # cumulated usage\n",
    "    E_through_sto = (sum(Psto_cha) + sum(Psto_dis))*dt * 365/ndays # cumulated throughput\n",
    "    @constraint(model, Usto == E_through_sto/(2*mg.storage.lifetime_cycles))\n",
    "    cpwl_sto = cons_Xann_usage!(model,\n",
    "        Esto_rated_ann, energy_rated_sto, Usto,\n",
    "        discount_rate, z_tan)\n",
    "end;"
   ]
  },
  {
   "cell_type": "markdown",
   "id": "f8ed413c-a59a-4e37-9dfc-5379bd9752eb",
   "metadata": {},
   "source": [
    "Cut 1: long lifetime (low usage): $CRF \\to i$ (discount rate).\n",
    "\n",
    "Remark: depending on the value of the calendar lifetime, this may be inactive"
   ]
  },
  {
   "cell_type": "code",
   "execution_count": 52,
   "id": "616a7976-68e6-4d94-b49d-e9d9b0f58372",
   "metadata": {},
   "outputs": [
    {
     "data": {
      "text/latex": [
       "$$ -0.05 energy\\_rated\\_sto + Esto\\_rated\\_ann \\geq 0 $$"
      ],
      "text/plain": [
       "c_Esto_rated_ann_energy_rated_sto_Usto[1] : -0.05 energy_rated_sto + Esto_rated_ann ≥ 0"
      ]
     },
     "execution_count": 52,
     "metadata": {},
     "output_type": "execute_result"
    }
   ],
   "source": [
    "if ~fixed_lifetimes cpwl_sto[1] end"
   ]
  },
  {
   "cell_type": "markdown",
   "id": "f935997e-3e74-4fb4-8076-3fb9439aee06",
   "metadata": {},
   "source": [
    "Cut 2: turning point lifetime ($U/X \\approx i/2$)"
   ]
  },
  {
   "cell_type": "code",
   "execution_count": 53,
   "id": "fc2b9259-c70b-4928-81e8-be9b7070b05a",
   "metadata": {},
   "outputs": [
    {
     "data": {
      "text/latex": [
       "$$ -0.039724340613325526 energy\\_rated\\_sto + Esto\\_rated\\_ann - 0.7420160121329831 Usto \\geq 0 $$"
      ],
      "text/plain": [
       "c_Esto_rated_ann_energy_rated_sto_Usto[2] : -0.039724340613325526 energy_rated_sto + Esto_rated_ann - 0.7420160121329831 Usto ≥ 0"
      ]
     },
     "execution_count": 53,
     "metadata": {},
     "output_type": "execute_result"
    }
   ],
   "source": [
    "if ~fixed_lifetimes cpwl_sto[2] end"
   ]
  },
  {
   "cell_type": "markdown",
   "id": "44cc3e56-f1e6-4f93-9a80-4f15254b57b9",
   "metadata": {},
   "source": [
    "Cut 3: low lifetime (high usage)"
   ]
  },
  {
   "cell_type": "code",
   "execution_count": 54,
   "id": "4e3559bb-ae54-437a-a76d-307d30936169",
   "metadata": {},
   "outputs": [
    {
     "data": {
      "text/latex": [
       "$$ -0.025 energy\\_rated\\_sto + Esto\\_rated\\_ann - 1.0247967157143927 Usto \\geq 0 $$"
      ],
      "text/plain": [
       "c_Esto_rated_ann_energy_rated_sto_Usto[3] : -0.025 energy_rated_sto + Esto_rated_ann - 1.0247967157143927 Usto ≥ 0"
      ]
     },
     "execution_count": 54,
     "metadata": {},
     "output_type": "execute_result"
    }
   ],
   "source": [
    "if ~fixed_lifetimes cpwl_sto[end] end"
   ]
  },
  {
   "cell_type": "markdown",
   "id": "19ee5bd9-0f76-4e01-949f-388b22e26c3d",
   "metadata": {},
   "source": [
    "#### Wind and solar"
   ]
  },
  {
   "cell_type": "code",
   "execution_count": 55,
   "id": "d71607b5-1755-441a-8167-69351967110d",
   "metadata": {},
   "outputs": [],
   "source": [
    "pv = mg.nondispatchables[1];"
   ]
  },
  {
   "cell_type": "code",
   "execution_count": 56,
   "id": "1c1357cc-1480-43ec-b2c7-0c82b0de3988",
   "metadata": {},
   "outputs": [
    {
     "data": {
      "text/latex": [
       "$ 105.14294875907551 power\\_rated\\_pv $"
      ],
      "text/plain": [
       "105.14294875907551 power_rated_pv"
      ]
     },
     "execution_count": 56,
     "metadata": {},
     "output_type": "execute_result"
    }
   ],
   "source": [
    "Cpv = pv.investment_price * power_rated_pv * CRFproj(pv.lifetime) + \n",
    "      pv.om_price * power_rated_pv"
   ]
  },
  {
   "cell_type": "code",
   "execution_count": 57,
   "id": "0e103db7-da34-4e8f-be81-1fec4408c3e4",
   "metadata": {},
   "outputs": [],
   "source": [
    "wind = mg.nondispatchables[2];"
   ]
  },
  {
   "cell_type": "code",
   "execution_count": 58,
   "id": "632f3620-00ce-45d3-9022-0875c998195e",
   "metadata": {},
   "outputs": [
    {
     "data": {
      "text/latex": [
       "$ 348.3336005473036 power\\_rated\\_wind $"
      ],
      "text/plain": [
       "348.3336005473036 power_rated_wind"
      ]
     },
     "execution_count": 58,
     "metadata": {},
     "output_type": "execute_result"
    }
   ],
   "source": [
    "Cwind = wind.investment_price * power_rated_wind * CRFproj(wind.lifetime) + \n",
    "        wind.om_price * power_rated_wind"
   ]
  },
  {
   "cell_type": "markdown",
   "id": "811ba45b-3773-4868-8609-ac877dac6bf0",
   "metadata": {},
   "source": [
    "#### Total annualized cost"
   ]
  },
  {
   "cell_type": "code",
   "execution_count": 59,
   "id": "4fda4e89-12e5-49fc-837b-464d2b3f55be",
   "metadata": {},
   "outputs": [],
   "source": [
    "Cann = Cgen + Csto +  Cpv + Cwind;"
   ]
  },
  {
   "cell_type": "code",
   "execution_count": 60,
   "id": "9e1d5385-9f2a-4e94-aab8-a3899780e32b",
   "metadata": {},
   "outputs": [],
   "source": [
    "@objective(model, Min, Cann);"
   ]
  },
  {
   "cell_type": "markdown",
   "id": "4cf00609-2e01-45db-8bab-e41935525b1e",
   "metadata": {},
   "source": [
    "Display model stats: number of variables, constraints...\n",
    "\n",
    "- 78849 variable (with 365 days, and usage dependent lifetime models for both the generator and the storage), i.e. about 9/timestep\n",
    "- 140184 constraints, i.e. about 16/timestep"
   ]
  },
  {
   "cell_type": "code",
   "execution_count": 61,
   "id": "d9345c29-fd9a-4f5e-875a-f6575dff5275",
   "metadata": {},
   "outputs": [
    {
     "data": {
      "text/plain": [
       "A JuMP Model\n",
       "├ solver: HiGHS\n",
       "├ objective_sense: MIN_SENSE\n",
       "│ └ objective_function_type: AffExpr\n",
       "├ num_variables: 78849\n",
       "├ num_constraints: 140184\n",
       "│ ├ AffExpr in MOI.EqualTo{Float64}: 43803\n",
       "│ ├ AffExpr in MOI.GreaterThan{Float64}: 8768\n",
       "│ ├ AffExpr in MOI.LessThan{Float64}: 43801\n",
       "│ ├ VariableRef in MOI.EqualTo{Float64}: 8760\n",
       "│ ├ VariableRef in MOI.GreaterThan{Float64}: 35048\n",
       "│ └ VariableRef in MOI.LessThan{Float64}: 4\n",
       "└ Names registered in the model\n",
       "  └ :Esto, :Esto_rated_ann, :Pgen, :Pgen_rated_ann, :Pnl, :Pshed, :Pspill, :Psto_cha, :Psto_dis, :Ugen, :Usto, :balance, :energy_rated_sto, :power_rated_gen, :power_rated_pv, :power_rated_wind, :pv_potential, :stodyn, :wind_potential"
      ]
     },
     "execution_count": 61,
     "metadata": {},
     "output_type": "execute_result"
    }
   ],
   "source": [
    "model"
   ]
  },
  {
   "cell_type": "markdown",
   "id": "42dd480c-d50a-4b84-80f8-2852dc05f6f7",
   "metadata": {},
   "source": [
    "## Optimize"
   ]
  },
  {
   "cell_type": "markdown",
   "id": "11ddafc7-98cb-4cf8-8dc0-7f4b06d63943",
   "metadata": {},
   "source": [
    "Optional: add constraints the sizing (forbid some sources...)"
   ]
  },
  {
   "cell_type": "code",
   "execution_count": 62,
   "id": "49f206be-44e3-4adc-b338-9d1123e1323a",
   "metadata": {},
   "outputs": [],
   "source": [
    "#@constraint(model, power_rated_gen==...)\n",
    "#@constraint(model, energy_rated_sto==...) \n",
    "#@constraint(model, power_rated_pv==...)\n",
    "#@constraint(model, power_rated_wind==...)"
   ]
  },
  {
   "cell_type": "markdown",
   "id": "d4a06866-b5ea-4d67-924a-e2a1f6708455",
   "metadata": {},
   "source": [
    "Takes 9 s with HiGHS, 365 days, usage-dependent lifetime"
   ]
  },
  {
   "cell_type": "code",
   "execution_count": 63,
   "id": "800c47dc-0ea9-4e95-9a03-534fc9226b8e",
   "metadata": {},
   "outputs": [
    {
     "name": "stdout",
     "output_type": "stream",
     "text": [
      "HiGHS.Optimizer K=8760\n",
      " 21.400128 seconds (1.95 M allocations: 168.216 MiB, 0.28% gc time, 2.33% compilation time: 85% of which was recompilation)\n"
     ]
    }
   ],
   "source": [
    "println(optimizer, \" K=\", K)\n",
    "@time optimize!(model)"
   ]
  },
  {
   "cell_type": "code",
   "execution_count": 64,
   "id": "34a2ca4b-af22-47be-ab3a-1dd0bc078b09",
   "metadata": {},
   "outputs": [
    {
     "name": "stdout",
     "output_type": "stream",
     "text": [
      "LCOE*: 0.180637 $/kWh\n"
     ]
    }
   ],
   "source": [
    "LCOE_opt = value(Cann)/Eload_desired\n",
    "@printf(\"LCOE*: %.6f \\$/kWh\\n\", LCOE_opt)"
   ]
  },
  {
   "cell_type": "markdown",
   "id": "5b15d9f5-666e-435c-9b61-93d5f514a4ea",
   "metadata": {},
   "source": [
    "### Optimal sizing\n",
    "\n",
    "With usage-dependent lifetimes, 0.25 storage price, `relax_gain=1.0` and `z_tan = [0.5]`:\n",
    "- gen: 1154.42 kW, sto: 5130.98 kWh, pv: 2036.96 kW, wind: 1239.88 kW\n",
    "- Battery usage: 147.97 cycles/y → 20.27 y cycling lifetime (inactive: > 15 y calendar lifetime) \n",
    "- Generator usage:\n",
    "  - 21.02% energy from dispatchable generator\n",
    "  - 1233.8 h/y relaxed hour counting vs 2775.0 h/y actual (i.e. 2.249 × relaxed)\n",
    "\n",
    "fixed usage: gen: 1328.0 kW, sto: 1064.89 kWh, pv: 1153.15 kW, wind: 1198.93 kW\n",
    "- 32.3% energy from dispatchable generator\n",
    "- 454.8 cycles/y (too high for calendar lifetime)\n",
    "\n",
    "usage dependant: gen: 1344.53 kW, sto: 881.32 kWh, pv: 1183.68 kW, wind: 1287.54 kW\n",
    "- 30.7% energy from dispatchable generator\n",
    "  - 4443.0 h/year, 1550.2 h/year with linearized hour counting (much lower!!)\n",
    "- 208.8 cycles/y (14.4 y cycling lifetime)\n",
    "\n",
    "usage dependant: gen: 1284.01 kW, sto: 1776.94 kWh, pv: 1515.36 kW, wind: 1353.93 kW (hours factor=2)\n",
    "- 196.2 cycles/y (15.3 y cycling lifetime, i.e. inactive)\n",
    "- 26.1% energy from dispatchable generator (reduced from 30.7%)\n",
    "  - 3606.0 h/year, 2762.9 h/year with linearized hour counting (still lower, but lower gap)"
   ]
  },
  {
   "cell_type": "code",
   "execution_count": 65,
   "id": "579bad6c-388c-4d1e-841e-f77695c8c287",
   "metadata": {},
   "outputs": [
    {
     "data": {
      "text/plain": [
       "1.0"
      ]
     },
     "execution_count": 65,
     "metadata": {},
     "output_type": "execute_result"
    }
   ],
   "source": [
    "mg.storage.investment_price/350 # price increase from default 350 $/kWh"
   ]
  },
  {
   "cell_type": "code",
   "execution_count": 66,
   "id": "876d0400-c345-47c1-a5ca-67cd575f0be8",
   "metadata": {},
   "outputs": [],
   "source": [
    "rval = (x -> round(x;digits=2)) ∘ value; # rounded value"
   ]
  },
  {
   "cell_type": "code",
   "execution_count": 67,
   "id": "2543d0ec-737d-4292-8fec-4ede74b641a0",
   "metadata": {},
   "outputs": [
    {
     "name": "stdout",
     "output_type": "stream",
     "text": [
      "gen: 1344.53 kW, sto: 881.32 kWh, pv: 1183.68 kW, wind: 1287.54 kW\n"
     ]
    }
   ],
   "source": [
    "println(\"gen: \", rval(power_rated_gen), \" kW, \",\n",
    "        \"sto: \", rval(energy_rated_sto), \" kWh, \",\n",
    "        \"pv: \", rval(power_rated_pv), \" kW, \",\n",
    "        \"wind: \", rval(power_rated_wind), \" kW\")"
   ]
  },
  {
   "cell_type": "markdown",
   "id": "a84b1c41-5938-4489-ae66-9f4dabd13add",
   "metadata": {},
   "source": [
    "### Cost and lifetime model validation"
   ]
  },
  {
   "cell_type": "code",
   "execution_count": 68,
   "id": "6f4e880e-ad26-4e39-88d6-aadf19770296",
   "metadata": {},
   "outputs": [
    {
     "data": {
      "text/plain": [
       "0.0709524572992296"
      ]
     },
     "execution_count": 68,
     "metadata": {},
     "output_type": "execute_result"
    }
   ],
   "source": [
    "crf = CRFproj(mg.project.lifetime)"
   ]
  },
  {
   "cell_type": "markdown",
   "id": "85f088d2-d98c-4b83-8a0d-8777d14b350d",
   "metadata": {},
   "source": [
    "#### Energy storage (cycling lifetime)"
   ]
  },
  {
   "cell_type": "code",
   "execution_count": 69,
   "id": "2a8794fb-7d94-45bc-9c25-35ae7f571e8b",
   "metadata": {},
   "outputs": [
    {
     "name": "stdout",
     "output_type": "stream",
     "text": [
      "Storage share(*) in the energy mix: 2.72 % (½ E_through/E_load)"
     ]
    }
   ],
   "source": [
    "@printf(\"Storage share(*) in the energy mix: %.2f %% (½ E_through/E_load)\", 100*0.5*value(E_through_sto)/Eload_desired)"
   ]
  },
  {
   "cell_type": "markdown",
   "id": "533358c5-76c0-4ceb-a6cc-c57db176fc54",
   "metadata": {},
   "source": [
    "Battery cycling lifetime:"
   ]
  },
  {
   "cell_type": "code",
   "execution_count": 70,
   "id": "5946d89f-616a-4be1-93db-ed107a249ef1",
   "metadata": {},
   "outputs": [
    {
     "name": "stdout",
     "output_type": "stream",
     "text": [
      "208.85 cycles/y"
     ]
    }
   ],
   "source": [
    "sto_cycles = value(E_through_sto/(2*energy_rated_sto)) # c/year\n",
    "@printf(\"%.2f cycles/y\", sto_cycles)"
   ]
  },
  {
   "cell_type": "markdown",
   "id": "ed969cf0-d7d0-4487-a84b-7559820da4b8",
   "metadata": {},
   "source": [
    "when cycling lifetime is longer than calendar lifetime, it is not active:"
   ]
  },
  {
   "cell_type": "code",
   "execution_count": 71,
   "id": "8bed4c7b-d404-42f7-aec3-7bace4dfdd81",
   "metadata": {},
   "outputs": [
    {
     "name": "stdout",
     "output_type": "stream",
     "text": [
      "Storage lifetime:\n",
      "- calendar: 15.00 y\n",
      "- cycling:  14.36 y\n",
      "→ actual:   14.36 y\n"
     ]
    }
   ],
   "source": [
    "sto_lifetime_cycles = mg.storage.lifetime_cycles / sto_cycles\n",
    "sto_lifetime = min(mg.storage.lifetime_calendar, sto_lifetime_cycles)\n",
    "println(\"Storage lifetime:\")\n",
    "@printf(\"- calendar: %.2f y\\n\", mg.storage.lifetime_calendar)\n",
    "@printf(\"- cycling:  %.2f y\\n\", sto_lifetime_cycles)\n",
    "@printf(\"→ actual:   %.2f y\\n\", sto_lifetime)"
   ]
  },
  {
   "cell_type": "markdown",
   "id": "83db70fa-db36-45c9-acd6-f8aa307b3547",
   "metadata": {},
   "source": [
    "Compare CRF values based on lifetime vs PWL approximation (exact when calendar is dominant):"
   ]
  },
  {
   "cell_type": "code",
   "execution_count": 72,
   "id": "4c2f1bcc-afa9-4584-85c1-011068807deb",
   "metadata": {},
   "outputs": [
    {
     "name": "stdout",
     "output_type": "stream",
     "text": [
      "Storage CRF:\n",
      "- exact:       0.099239\n",
      "- PWL approx.: 0.096342 (i.e. 97.08 % = -2.92 % to exact)"
     ]
    }
   ],
   "source": [
    "sto_CRF = CRFproj(sto_lifetime)\n",
    "sto_CRF_pwl = value(Esto_rated_ann/energy_rated_sto)\n",
    "println(\"Storage CRF:\")\n",
    "@printf(\"- exact:       %.6f\\n\", sto_CRF)\n",
    "@printf(\"- PWL approx.: %.6f (i.e. %.2f %% = %.2f %% to exact)\", sto_CRF_pwl, \n",
    "        100*sto_CRF_pwl/sto_CRF, 100*sto_CRF_pwl/sto_CRF-100)"
   ]
  },
  {
   "cell_type": "markdown",
   "id": "3b7b2248-4d97-4bc9-abb6-3540485dad54",
   "metadata": {},
   "source": [
    "#### Generator"
   ]
  },
  {
   "cell_type": "markdown",
   "id": "206f944d-5533-4609-b4f7-9fc799b50f0d",
   "metadata": {},
   "source": [
    "Generator energy and hours:"
   ]
  },
  {
   "cell_type": "code",
   "execution_count": 73,
   "id": "6dafc88f-0cea-4958-ab8f-d87a31c633db",
   "metadata": {},
   "outputs": [
    {
     "name": "stdout",
     "output_type": "stream",
     "text": [
      "Generator share in the energy mix: 30.77 %"
     ]
    }
   ],
   "source": [
    "@printf(\"Generator share in the energy mix: %.2f %%\", 100*value(Egen)/Eload_desired)"
   ]
  },
  {
   "cell_type": "markdown",
   "id": "d6232346-fae2-41c6-aebf-7fdcb6d8f35a",
   "metadata": {},
   "source": [
    "Operating hours: actual vs relaxed"
   ]
  },
  {
   "cell_type": "code",
   "execution_count": 74,
   "id": "91512b6c-960f-44bb-bd79-c4b50353fb11",
   "metadata": {},
   "outputs": [
    {
     "name": "stdout",
     "output_type": "stream",
     "text": [
      "Generator hours: (with relax_gain=1.0)\n",
      "- linearized: 1550.2 h/y\n",
      "- actual:     4439.0 h/y (i.e. 2.863 × lin)\n"
     ]
    }
   ],
   "source": [
    "gen_hours = sum(value.(Pgen) .> 1e-3*value(power_rated_gen) )*dt*365/ndays\n",
    "gen_hours_lin = relax_gain*value(Egen)/value(power_rated_gen)\n",
    "println(\"Generator hours: (with relax_gain=$relax_gain)\")\n",
    "@printf(\"- linearized: %.1f h/y\\n\", gen_hours_lin)\n",
    "@printf(\"- actual:     %.1f h/y (i.e. %.3f × lin)\\n\", gen_hours, gen_hours/gen_hours_lin)"
   ]
  },
  {
   "cell_type": "markdown",
   "id": "c6572a94-5729-47bb-80a8-d9eba96f55fc",
   "metadata": {},
   "source": [
    "Lifetime based on exact vs relaxed operating hours"
   ]
  },
  {
   "cell_type": "code",
   "execution_count": 75,
   "id": "12e344f1-393a-4994-b49e-3c8468997700",
   "metadata": {},
   "outputs": [
    {
     "name": "stdout",
     "output_type": "stream",
     "text": [
      "Generator lifetime: (with relax_gain=1.0)\n",
      "- lin hours: 9.676 y\n",
      "- actual:    3.379 y\n"
     ]
    }
   ],
   "source": [
    "gen_lifetime      = mg.generator.lifetime_hours / gen_hours # y\n",
    "gen_lifetime_hlin = mg.generator.lifetime_hours / gen_hours_lin # y, lifetime based in linearized hours yr, also == value(power_rated_gen/Ugen)\n",
    "println(\"Generator lifetime: (with relax_gain=$relax_gain)\")\n",
    "@printf(\"- lin hours: %.3f y\\n\", gen_lifetime_hlin)\n",
    "@printf(\"- actual:    %.3f y\\n\", gen_lifetime)"
   ]
  },
  {
   "cell_type": "markdown",
   "id": "c343121b-e30b-49b3-b61e-b776c9e64fa7",
   "metadata": {},
   "source": [
    "Compare CRF values based on (relaxed) operating hours vs PWL approximation:"
   ]
  },
  {
   "cell_type": "code",
   "execution_count": 76,
   "id": "8d61d7da-a6e0-4220-ba3f-89c0da9bfd83",
   "metadata": {},
   "outputs": [
    {
     "name": "stdout",
     "output_type": "stream",
     "text": [
      "Generator CRF:\n",
      "- exact:       0.132871 (using linearized oper hours)\n",
      "- PWL approx.: 0.130912 (i.e. 98.53 % = -1.47 % to exact)"
     ]
    }
   ],
   "source": [
    "gen_CRF_hlin = CRFproj(gen_lifetime_hlin)\n",
    "gen_CRF_hlin_pwl = value(Pgen_rated_ann/power_rated_gen)\n",
    "println(\"Generator CRF:\")\n",
    "@printf(\"- exact:       %.6f (using linearized oper hours)\\n\", gen_CRF_hlin)\n",
    "@printf(\"- PWL approx.: %.6f (i.e. %.2f %% = %.2f %% to exact)\", gen_CRF_hlin_pwl, \n",
    "        100*gen_CRF_hlin_pwl/gen_CRF_hlin, 100*gen_CRF_hlin_pwl/gen_CRF_hlin-100)"
   ]
  },
  {
   "cell_type": "markdown",
   "id": "6c406645-7da5-4f78-a9da-1aff62031209",
   "metadata": {},
   "source": [
    "### Plot trajectory"
   ]
  },
  {
   "cell_type": "code",
   "execution_count": 77,
   "id": "b5b5aa34-a23f-43d1-8095-a868852cd21f",
   "metadata": {},
   "outputs": [
    {
     "data": {
      "text/plain": [
       "plot_oper_traj (generic function with 1 method)"
      ]
     },
     "execution_count": 77,
     "metadata": {},
     "output_type": "execute_result"
    }
   ],
   "source": [
    "function plot_oper_traj(td, Pload, Pgen, Pren, Ebatt, price)\n",
    "    fig, (ax1, ax2, ax3) = plt.subplots(3,1, figsize=(5,3), sharex=true)\n",
    "    ax1.plot(td, Pload, label=\"load\")\n",
    "    ax1.plot(td, Pgen, \"tab:red\", label=\"gen\")\n",
    "    ax1.plot(td, Pren, \"tab:green\", label=\"renew\")\n",
    "    ax2.plot(td, Ebatt[1:end-1], \"C2\", label=\"Esto\")\n",
    "    \n",
    "    ax1.legend()\n",
    "    ax1.grid(true)\n",
    "    ax1.set(\n",
    "        ylabel=\"kW\"\n",
    "    )\n",
    "    ax2.grid(true)\n",
    "    ax2.legend()\n",
    "    ax2.set(\n",
    "        ylabel=\"kWh\"\n",
    "    )\n",
    "\n",
    "    ax3.plot(td, price, color=\"tab:brown\", label=\"price\")\n",
    "    ax3.grid(true)\n",
    "    ax3.legend()\n",
    "    ax3.set(\n",
    "        xlabel=\"time (d)\",\n",
    "        ylabel=\"\\$/kWh\"\n",
    "    )\n",
    "    \n",
    "    fig.tight_layout()\n",
    "    return fig, (ax1, ax2, ax3)\n",
    "end"
   ]
  },
  {
   "cell_type": "code",
   "execution_count": 78,
   "id": "844839e8-ed46-485c-894e-30bcfe00edef",
   "metadata": {},
   "outputs": [
    {
     "data": {
      "text/plain": [
       "false"
      ]
     },
     "execution_count": 78,
     "metadata": {},
     "output_type": "execute_result"
    }
   ],
   "source": [
    "pygui(true) # open interactive plot window\n",
    "pygui(false) # display image in notebook"
   ]
  },
  {
   "cell_type": "code",
   "execution_count": 79,
   "id": "57e64d50-4649-4b18-9eda-07b78995502b",
   "metadata": {},
   "outputs": [
    {
     "data": {
      "image/png": "[encoded data removed]",
      "text/plain": [
       "Figure(PyObject <Figure size 500x300 with 3 Axes>)"
      ]
     },
     "metadata": {},
     "output_type": "display_data"
    }
   ],
   "source": [
    "fig, (ax1, ax2, ax3) = plot_oper_traj(td, Pload, value.(Pgen),\n",
    "    value.(pv_potential+wind_potential),\n",
    "    value.(Esto),\n",
    "    dual.(balance)\n",
    ")\n",
    "ax1.set_xlim(0, 15); # winter, high wind\n",
    "ax3.set_ylim(0, 0.4); # zoom on shadow price"
   ]
  },
  {
   "cell_type": "code",
   "execution_count": 80,
   "id": "9686542f-0f5c-4e84-8e4e-14fcdb151803",
   "metadata": {},
   "outputs": [
    {
     "data": {
      "image/png": "[encoded data removed]",
      "text/plain": [
       "Figure(PyObject <Figure size 500x300 with 3 Axes>)"
      ]
     },
     "metadata": {},
     "output_type": "display_data"
    }
   ],
   "source": [
    "fig, (ax1, ax2, ax3) = plot_oper_traj(td, Pload, value.(Pgen),\n",
    "    value.(pv_potential+wind_potential),\n",
    "    value.(Esto),\n",
    "    dual.(balance)\n",
    ")\n",
    "ax1.set_xlim(150, 165); # summer, low wind\n",
    "ax3.set_ylim(0, 0.4); # zoom on shadow price"
   ]
  },
  {
   "cell_type": "markdown",
   "id": "61f2da78-0af4-4139-90f7-2f4fc4f3f04d",
   "metadata": {},
   "source": [
    "## Wrapping the optimization in functions"
   ]
  },
  {
   "cell_type": "markdown",
   "id": "2c38035d-c163-4d0d-a2cc-1c3526b2c2e8",
   "metadata": {},
   "source": [
    "Remark: the script redefine some of functions, but it should be fine. Perhaps it should be inside a Module."
   ]
  },
  {
   "cell_type": "code",
   "execution_count": 81,
   "id": "553d2a8b-6015-41f4-9a6d-a74f40f670e8",
   "metadata": {},
   "outputs": [
    {
     "name": "stdout",
     "output_type": "stream",
     "text": [
      "Microgrid optimization with JuMP common functions:\n",
      "- CRF\n",
      "- ts_reduction\n",
      "- g_tan\n",
      "- cons_Xann_usage!\n",
      "- build_optim_mg_stage!\n",
      "- setup_optim_mg_jump\n",
      "- diagnostics_mg_jump\n",
      "- optim_mg_jump\n"
     ]
    },
    {
     "data": {
      "text/plain": [
       "optim_mg_jump"
      ]
     },
     "execution_count": 81,
     "metadata": {},
     "output_type": "execute_result"
    }
   ],
   "source": [
    "include(\"Microgrid_JuMP_common.jl\")"
   ]
  },
  {
   "cell_type": "code",
   "execution_count": 82,
   "id": "16dd2eab-c698-47bd-805c-b78dbbcd4e7a",
   "metadata": {},
   "outputs": [
    {
     "data": {
      "text/plain": [
       "3000.0"
      ]
     },
     "execution_count": 82,
     "metadata": {},
     "output_type": "execute_result"
    }
   ],
   "source": [
    "gen_hours_assum"
   ]
  },
  {
   "cell_type": "code",
   "execution_count": 101,
   "id": "9a038df7-67f7-432d-bae9-591739cd9c89",
   "metadata": {},
   "outputs": [
    {
     "name": "stdout",
     "output_type": "stream",
     "text": [
      "mg lifetime modification: cal unchanged, cyc=1500 c\n",
      "mg prices modifications: sto*=1.0, gen*=1.0, fuel*=2\n",
      "Building stage problem with 365 days...\n",
      "zero load shedding allowed\n",
      "Usage-dependent generator lifetime model (relax_gain=1.0)\n",
      "Xann constraints with z_tan=[0.2, 0.28, 0.37, 0.5, 0.68, 1.0, 1.7, 4.0]\n",
      " 16.007484 seconds (1.22 M allocations: 120.601 MiB, 0.29% gc time)\n"
     ]
    },
    {
     "data": {
      "text/plain": [
       "0.24302374019272588"
      ]
     },
     "execution_count": 101,
     "metadata": {},
     "output_type": "execute_result"
    }
   ],
   "source": [
    "create_mg_modified = modify_mg_lifetimes(cyc=1500) ∘ modify_mg_prices(fuel=2) ∘ create_mg_base # composition create_mg_base → modify_mg1 → ...\n",
    "#create_mg_modified = modify_mg_lifetimes(cyc=1500, cal=8.946117001737436) ∘ modify_mg_prices(fuel=2) ∘ create_mg_base\n",
    "#create_mg_modified = modify_mg_lifetimes(cyc=1500, cal=8.336424136828542) ∘ modify_mg_prices(fuel=2) ∘ create_mg_base\n",
    "#create_mg_modified = modify_mg_lifetimes(cyc=1500, cal=8.145727130503452) ∘ modify_mg_prices(fuel=2) ∘ create_mg_base\n",
    "\n",
    "#create_mg_modified = modify_mg_lifetimes(cyc=1500, cal=9.066022814532355) ∘ modify_mg_prices(fuel=2) ∘ create_mg_base # 2) 1st cal lt correction\n",
    "#create_mg_modified = modify_mg_lifetimes(cyc=1500, cal=8.360855459553163) ∘ modify_mg_prices(fuel=2) ∘ create_mg_base # 3) 2nd cal lt correction: diverging!\n",
    "\n",
    "#create_mg_modified = modify_mg_lifetimes(cyc=1500, cal=10.83376805133664) ∘ modify_mg_prices(fuel=2) ∘ create_mg_base\n",
    "\n",
    "xalg, lcoe_alg, diagnostics, traj_alg, model_data = optim_mg_jump(optimizer;\n",
    "    shed_max,\n",
    "    ndays,\n",
    "    fixed_lifetimes=false,\n",
    "    #gen_hours_assum = 1744.0, # 1) 3000, 2) 1957, # 3) 2563, 4) 2640, 5) 2650\n",
    "    #relax_gain = 2.2839887507543253, # 16.400110704315402 / 7.180469123982767 # 1st correction: lifetime_hlin / lifetime  (starting with one)\n",
    "    #relax_gain = 2.260853209804704, # 8.533366843943442 / 8.620689655172415 * 16.400110704315402 / 7.180469123982767, i.e. 0.990 * previous\n",
    "    #relax_gain = 2.2633890557609604, # 8.610564497881201 / 8.600917431192661 * ... i.e. 1.001 * previous\n",
    "    #z_tan=[0.20, 0.28, 0.37, 0.50, 0.68, 1.0, 1.7, 4.0],\n",
    "    create_mg_base=create_mg_modified,\n",
    "    #model_custom=nothing\n",
    ")\n",
    "lcoe_alg"
   ]
  },
  {
   "cell_type": "code",
   "execution_count": 102,
   "id": "653fae14-7b76-45bb-a87f-e53a3c6deb5f",
   "metadata": {},
   "outputs": [
    {
     "data": {
      "text/plain": [
       "4-element Vector{Float64}:\n",
       " 1215.9818212039854\n",
       " 4987.927418004806\n",
       " 2132.004726533021\n",
       " 1575.9028865214382"
      ]
     },
     "execution_count": 102,
     "metadata": {},
     "output_type": "execute_result"
    }
   ],
   "source": [
    "xalg"
   ]
  },
  {
   "cell_type": "code",
   "execution_count": 103,
   "id": "8562685b-297b-4a2a-81d7-27fba8a7c614",
   "metadata": {
    "jupyter": {
     "source_hidden": true
    }
   },
   "outputs": [
    {
     "data": {
      "text/plain": [
       "pprint"
      ]
     },
     "execution_count": 103,
     "metadata": {},
     "output_type": "execute_result"
    }
   ],
   "source": [
    "\"pretty-print NamedTuple or Dict\"\n",
    "function pprint(d, title=nothing)\n",
    "    if title !== nothing\n",
    "        println(\"$title:\")\n",
    "    end\n",
    "    for k in keys(d)\n",
    "        println(\"- $k: \", d[k])\n",
    "    end\n",
    "end"
   ]
  },
  {
   "cell_type": "code",
   "execution_count": 104,
   "id": "008f07a7-e22f-4b74-bcd5-946289182b47",
   "metadata": {
    "collapsed": true,
    "jupyter": {
     "outputs_hidden": true
    },
    "scrolled": true
   },
   "outputs": [
    {
     "name": "stdout",
     "output_type": "stream",
     "text": [
      "Generator diagnostics:\n",
      "- cost_share: 0.36450500209587056\n",
      "- cost_share_fuel: 0.32423220160146493\n",
      "- energy: 1.112170987556829e6\n",
      "- load_share: 0.1641585881752296\n",
      "- hours: 2089.0\n",
      "- hours_lin: 914.62797236198\n",
      "- lifetime: 7.180469123982767\n",
      "- lifetime_hlin: 16.400110704315402\n",
      "- CRF: 0.16917677973452824\n",
      "- CRF_hlin: 0.09078615624124012\n",
      "- CRF_hlin_pwm: 0.09059545482434027\n",
      "\n",
      "Storage diagnostics:\n",
      "- cost_share: 0.16594490038835982\n",
      "- energy_through: 1.4740452066493894e6\n",
      "- load_share: 0.10878596130330362\n",
      "- cycles: 147.7612927293772\n",
      "- lifetime_cycles: 10.151508370647715\n",
      "- lifetime: 10.151508370647715\n",
      "- CRF: 0.12800552691014644\n",
      "- CRF_pwm: 0.1279350771118699\n"
     ]
    }
   ],
   "source": [
    "pprint(diagnostics.generator, \"Generator diagnostics\")\n",
    "println()\n",
    "pprint(diagnostics.storage, \"Storage diagnostics\")"
   ]
  },
  {
   "cell_type": "markdown",
   "id": "3a70eb31-17e0-4737-bea6-71e1ce16b830",
   "metadata": {
    "jupyter": {
     "source_hidden": true
    }
   },
   "source": [
    "**Sizing & Diagnostics for fuel price ×= 2 and 1500 cycle lifetime**:\n",
    "\n",
    "after 3rd correction `relax_gain = 2.2633890557609604` (4th iteration: almost quadratic iteration!!)\n",
    "\n",
    "LCOE = 0.252 001 875 833 0073 €/kWh\n",
    "\n",
    "xalg\n",
    "```\n",
    " 1250.182161102502\n",
    " 6046.099485184932\n",
    " 2378.0158344783495\n",
    " 1608.6573794782898\n",
    "```\n",
    "Generator diagnostics:\n",
    "- cost_share: 0.33901878392241047 (**34% gen cost**)\n",
    "- cost_share_fuel: 0.27082582642207725 (**27% fuel cost**)\n",
    "- energy: 963297.7960254968\n",
    "- load_share: 0.14218461725497553 (**14% fuel energy share**)\n",
    "- hours: 1744.0\n",
    "- hours_lin: 1743.9999999999998\n",
    "- lifetime: 8.600917431192661\n",
    "- lifetime_hlin: 8.600917431192661\n",
    "- CRF: 0.14589308850446087\n",
    "- CRF_hlin: 0.14589308850446087\n",
    "- CRF_hlin_pwm: 0.14561875580104364\n",
    "\n",
    "Storage diagnostics:\n",
    "- cost_share: 0.18632679465770655\n",
    "- energy_through: 1.6742372893350748e6\n",
    "- load_share: 0.12356033054383452\n",
    "- cycles: 138.4559825253905\n",
    "- lifetime_cycles: 10.83376805133664\n",
    "- lifetime: 10.83376805133664\n",
    "- CRF: 0.12178505815486225\n",
    "- CRF_pwm: 0.12175789613688075\n",
    "\n",
    "--- \n",
    "\n",
    "**Sizing & Diagnostics for sto price ×= 0.25**:\n",
    "\n",
    "xalg\n",
    "```\n",
    " 1154.4224047974817\n",
    " 5130.976577515793\n",
    " 2036.9586387043562\n",
    " 1239.8753395455897\n",
    "```\n",
    "Generator diagnostics:\n",
    "- cost_share: 0.3623046927961969 (36.2% gen cost)\n",
    "- cost_share_fuel: 0.29432422749724685\n",
    "- energy: 1.4242962830864196e6\n",
    "- load_share: 0.21022888529786138 (21.0% gen energy)\n",
    "- hours: 2775.0\n",
    "- hours_lin: 1233.77394372061\n",
    "- lifetime: 5.405405405405405\n",
    "- lifetime_hlin: 12.157818761162597\n",
    "- CRF: 0.2156849982318895\n",
    "- CRF_hlin: 0.11174838318777111\n",
    "- CRF_hlin_pwm: 0.10929116569725843\n",
    "\n",
    "Storage diagnostics:\n",
    "- cost_share: 0.08142141080359265\n",
    "- energy_through: 1.5184731595747198e6\n",
    "- load_share: 0.11206478718050047\n",
    "- cycles: 147.97116461501193\n",
    "- lifetime_cycles: 20.27422037128202\n",
    "- lifetime: 15.0\n",
    "- CRF: 0.09634228760924432\n",
    "- CRF_pwm: 0.09634228760924432"
   ]
  },
  {
   "cell_type": "markdown",
   "id": "ad92bbf3-226c-45bf-8168-3405d37b4388",
   "metadata": {},
   "source": [
    "Effect of PWL relaxation of annualized size:"
   ]
  },
  {
   "cell_type": "code",
   "execution_count": 88,
   "id": "d4d3ae68-eee4-4b45-ad09-946c1b1adc79",
   "metadata": {},
   "outputs": [
    {
     "data": {
      "text/plain": [
       "0.9981196319426137"
      ]
     },
     "execution_count": 88,
     "metadata": {},
     "output_type": "execute_result"
    }
   ],
   "source": [
    "gen_diag = diagnostics.generator\n",
    "gen_diag.CRF_hlin_pwm / gen_diag.CRF_hlin"
   ]
  },
  {
   "cell_type": "code",
   "execution_count": 89,
   "id": "39f97d00-260b-4b30-881d-300c5a732394",
   "metadata": {},
   "outputs": [
    {
     "data": {
      "text/plain": [
       "0.9997769675657012"
      ]
     },
     "execution_count": 89,
     "metadata": {},
     "output_type": "execute_result"
    }
   ],
   "source": [
    "sto_diag = diagnostics.storage\n",
    "sto_diag.CRF_pwm / sto_diag.CRF"
   ]
  },
  {
   "cell_type": "markdown",
   "id": "ab9ed7f3-cf23-446f-bdc1-247ddbc49dbb",
   "metadata": {},
   "source": [
    "### Automate the iterative approach"
   ]
  },
  {
   "cell_type": "code",
   "execution_count": 100,
   "id": "c9fb3814-e8e3-4106-9afb-78dd3e5a10e5",
   "metadata": {},
   "outputs": [
    {
     "data": {
      "text/plain": [
       "2×4 Matrix{Float64}:\n",
       " 1250.18  6046.1  2378.02  1608.66\n",
       " 1250.18  6046.1  2378.02  1608.66"
      ]
     },
     "execution_count": 100,
     "metadata": {},
     "output_type": "execute_result"
    }
   ],
   "source": [
    "[xalg'; xalg']"
   ]
  },
  {
   "cell_type": "code",
   "execution_count": 96,
   "id": "3e179c2b-19ad-4de0-a055-9ba3298db016",
   "metadata": {},
   "outputs": [
    {
     "data": {
      "text/plain": [
       "2×3 Matrix{Float64}:\n",
       " 0.0  0.0  0.0\n",
       " 0.0  0.0  0.0"
      ]
     },
     "execution_count": 96,
     "metadata": {},
     "output_type": "execute_result"
    }
   ],
   "source": [
    "zeros(2,3)"
   ]
  },
  {
   "cell_type": "code",
   "execution_count": 108,
   "id": "3f434c1c-5248-4617-b05c-9eb3cdfeaaef",
   "metadata": {},
   "outputs": [
    {
     "data": {
      "text/plain": [
       "optim_mg_iter_relgain"
      ]
     },
     "execution_count": 108,
     "metadata": {},
     "output_type": "execute_result"
    }
   ],
   "source": [
    "\"\"\"Optimize sizing of microgrid using JuMP: iteration `relax_gain`\n",
    "\n",
    "and extract results\n",
    "\n",
    "# Parameters\n",
    "- same as `optim_mg_jump`, except that\n",
    "- `fixed_lifetimes=false` is assumed, so `gen_hours_assum` is not needed\n",
    "- `relax_gain_start` replaces `relax_gain`\n",
    "- `n_iter`: number of iterations (default 6)\n",
    "\n",
    "Returns:\n",
    "xalg_tab, lcoe_tab, rgain_tab, diagnostics, traj_alg, model_data\n",
    "\n",
    "(the last ones are from the last iteration)\n",
    "\"\"\"\n",
    "function optim_mg_iter_relgain(optimizer;\n",
    "        shed_max=0.0,\n",
    "        ndays=365,\n",
    "        relax_gain_start = 1.0,\n",
    "        n_iter=6,\n",
    "        z_tan = [0.20, 0.28, 0.37, 0.50, 0.68, 1.0, 1.7, 4.0],\n",
    "        create_mg_base=create_mg_base,\n",
    "        model_custom=nothing,\n",
    "    )\n",
    "\n",
    "    xalg_tab = zeros(0,length(xalg)) # global previously computed xalg here\n",
    "    lcoe_tab = zeros(0,1)\n",
    "    rgain_tab = zeros(1,n_iter)\n",
    "    relax_gain = relax_gain_start # init\n",
    "    \n",
    "    for i in 1:n_iter\n",
    "        println(\"relax_gain iteration $i: $relax_gain\")\n",
    "        rgain_tab[i] = relax_gain # store relax_gain\n",
    "        xalg, lcoe_alg, diagnostics, traj_alg, model_data = optim_mg_jump(optimizer;\n",
    "            shed_max, ndays,\n",
    "            fixed_lifetimes=false,\n",
    "            relax_gain,\n",
    "            z_tan,\n",
    "            create_mg_base,\n",
    "            model_custom\n",
    "        )\n",
    "        # store results\n",
    "        xalg_tab = [xalg_tab; xalg']\n",
    "        lcoe_tab = [lcoe_tab; lcoe_alg]\n",
    "        # correct next gain. SCOPE ISSUE????\n",
    "        relax_gain = relax_gain*diagnostics.generator.hours / diagnostics.generator.hours_lin\n",
    "    end\n",
    "    return xalg_tab, lcoe_tab, rgain_tab, diagnostics, traj_alg, model_data\n",
    "end"
   ]
  },
  {
   "cell_type": "code",
   "execution_count": 109,
   "id": "fa4f1454-55de-4062-9092-5a5d65242b1a",
   "metadata": {},
   "outputs": [
    {
     "name": "stdout",
     "output_type": "stream",
     "text": [
      "mg lifetime modification: cal unchanged, cyc=1500 c\n",
      "mg prices modifications: sto*=1.0, gen*=1.0, fuel*=2\n",
      "relax_gain iteration 1: 1.0\n",
      "Building stage problem with 5 days...\n",
      "zero load shedding allowed\n",
      "Usage-dependent generator lifetime model (relax_gain=1.0)\n",
      "Xann constraints with z_tan=[0.2, 0.28, 0.37, 0.5, 0.68, 1.0, 1.7, 4.0]\n",
      "  0.017408 seconds (17.37 k allocations: 1.687 MiB)\n",
      "relax_gain iteration 2: 1.0779355859127797\n",
      "Building stage problem with 5 days...\n",
      "zero load shedding allowed\n",
      "Usage-dependent generator lifetime model (relax_gain=1.0779355859127797)\n",
      "Xann constraints with z_tan=[0.2, 0.28, 0.37, 0.5, 0.68, 1.0, 1.7, 4.0]\n",
      "  0.017329 seconds (17.37 k allocations: 1.687 MiB)\n",
      "relax_gain iteration 3: 1.0779355859127797\n",
      "Building stage problem with 5 days...\n",
      "zero load shedding allowed\n",
      "Usage-dependent generator lifetime model (relax_gain=1.0779355859127797)\n",
      "Xann constraints with z_tan=[0.2, 0.28, 0.37, 0.5, 0.68, 1.0, 1.7, 4.0]\n",
      "  0.017639 seconds (17.37 k allocations: 1.687 MiB)\n",
      "relax_gain iteration 4: 1.0779355859127797\n",
      "Building stage problem with 5 days...\n",
      "zero load shedding allowed\n",
      "Usage-dependent generator lifetime model (relax_gain=1.0779355859127797)\n",
      "Xann constraints with z_tan=[0.2, 0.28, 0.37, 0.5, 0.68, 1.0, 1.7, 4.0]\n",
      "  0.016485 seconds (17.37 k allocations: 1.687 MiB)\n",
      "relax_gain iteration 5: 1.0779355859127797\n",
      "Building stage problem with 5 days...\n",
      "zero load shedding allowed\n",
      "Usage-dependent generator lifetime model (relax_gain=1.0779355859127797)\n",
      "Xann constraints with z_tan=[0.2, 0.28, 0.37, 0.5, 0.68, 1.0, 1.7, 4.0]\n",
      "  0.016144 seconds (17.37 k allocations: 1.687 MiB)\n",
      "relax_gain iteration 6: 1.0779355859127797\n",
      "Building stage problem with 5 days...\n",
      "zero load shedding allowed\n",
      "Usage-dependent generator lifetime model (relax_gain=1.0779355859127797)\n",
      "Xann constraints with z_tan=[0.2, 0.28, 0.37, 0.5, 0.68, 1.0, 1.7, 4.0]\n",
      "  0.015815 seconds (17.37 k allocations: 1.687 MiB)\n"
     ]
    },
    {
     "data": {
      "text/plain": [
       "6×1 Matrix{Float64}:\n",
       " 0.19729213970031906\n",
       " 0.19749652520436\n",
       " 0.19749652520436\n",
       " 0.19749652520436\n",
       " 0.19749652520436\n",
       " 0.19749652520436"
      ]
     },
     "execution_count": 109,
     "metadata": {},
     "output_type": "execute_result"
    }
   ],
   "source": [
    "create_mg_modified = modify_mg_lifetimes(cyc=1500) ∘ modify_mg_prices(fuel=2) ∘ create_mg_base\n",
    "\n",
    "xalg_tab, lcoe_tab, rgain_tab, diagnostics, traj_alg, model_data =  optim_mg_iter_relgain(optimizer;\n",
    "    shed_max,\n",
    "    ndays=5,\n",
    "    relax_gain_start = 1.0,\n",
    "    n_iter=6,\n",
    "    #z_tan=[0.20, 0.28, 0.37, 0.50, 0.68, 1.0, 1.7, 4.0],\n",
    "    create_mg_base=create_mg_modified,\n",
    "    #model_custom=nothing\n",
    ")\n",
    "lcoe_tab"
   ]
  },
  {
   "cell_type": "code",
   "execution_count": 110,
   "id": "f4a68ea4-3f9e-40f3-bf65-2e5a4644b544",
   "metadata": {},
   "outputs": [
    {
     "name": "stdout",
     "output_type": "stream",
     "text": [
      "- cost_share: 0.36450500209587056\n",
      "- cost_share_fuel: 0.32423220160146493\n",
      "- energy: 1.112170987556829e6\n",
      "- load_share: 0.1641585881752296\n",
      "- hours: 2089.0\n",
      "- hours_lin: 914.62797236198\n",
      "- lifetime: 7.180469123982767\n",
      "- lifetime_hlin: 16.400110704315402\n",
      "- CRF: 0.16917677973452824\n",
      "- CRF_hlin: 0.09078615624124012\n",
      "- CRF_hlin_pwm: 0.09059545482434027\n"
     ]
    }
   ],
   "source": [
    "pprint(diagnostics.generator)"
   ]
  },
  {
   "cell_type": "markdown",
   "id": "92c85079-8a71-4be4-a15d-17aede438ad2",
   "metadata": {},
   "source": [
    "--- \n",
    "TO BE CONTINUED:\n",
    "- update example to not use 0.25 storage cost and have storage lifetime < calendar lifetime\n",
    "- use higher precision z_tan by default\n",
    "  - and only then compare the result with z_tan = [0.5] and perhaps z_tan = []\n",
    "- add comparison with a sequence of fixed lifetime optim: does it converge?\n",
    "- add an extension with a sequence of relax_gain to reach true generator oper hours: does it converge?"
   ]
  },
  {
   "cell_type": "markdown",
   "id": "d4e20bf9-f17e-4b1e-a951-70c7bc4f414c",
   "metadata": {},
   "source": [
    "## Timing analysis\n",
    "\n",
    "TO BE DONE\n",
    "\n",
    "effect on optimization time of: \n",
    "- ndays\n",
    "- solver (HiGHS, Clp, Gurobi)"
   ]
  }
 ],
 "metadata": {
  "kernelspec": {
   "display_name": "Julia 1.10.5",
   "language": "julia",
   "name": "julia-1.10"
  },
  "language_info": {
   "file_extension": ".jl",
   "mimetype": "application/julia",
   "name": "julia",
   "version": "1.10.5"
  }
 },
 "nbformat": 4,
 "nbformat_minor": 5
}
